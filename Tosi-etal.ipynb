{
 "cells": [
  {
   "cell_type": "markdown",
   "metadata": {
    "collapsed": true
   },
   "source": [
    "#Tosi et al Benchmark"
   ]
  },
  {
   "cell_type": "code",
   "execution_count": 1,
   "metadata": {
    "collapsed": false
   },
   "outputs": [
    {
     "data": {
      "application/javascript": [
       "IPython.load_extensions('calico-document-tools');"
      ],
      "text/plain": [
       "<IPython.core.display.Javascript object>"
      ]
     },
     "metadata": {},
     "output_type": "display_data"
    }
   ],
   "source": [
    "%%javascript\n",
    "IPython.load_extensions('calico-document-tools');"
   ]
  },
  {
   "cell_type": "markdown",
   "metadata": {
    "collapsed": true
   },
   "source": [
    "This notebook generates models from the <a name=\"ref-1\"/>[(Tosi et al., 2015)](#cite-tosi2015community) Benchmark in Underworld2. The Underworld results are compared to the benchmark model run on Fenics. Input files for the Fenics models were provided by P. Maierova. The comparison of Underworld2 and Fenics is useful because both are FEM codes which can be built Python environment, and also use Petsc to solve the resulting systems of equations. "
   ]
  },
  {
   "cell_type": "code",
   "execution_count": null,
   "metadata": {
    "collapsed": true
   },
   "outputs": [],
   "source": [
    "# RT PIC - classic and nearest neighbour\n",
    "import underworld as uw\n",
    "import math\n",
    "from underworld import function as fn\n",
    "import glucifer.pylab as plt\n",
    "import numpy as np\n",
    "import os"
   ]
  },
  {
   "cell_type": "code",
   "execution_count": null,
   "metadata": {
    "collapsed": true
   },
   "outputs": [],
   "source": [
    "dim = 2\n",
    "xnum = 64\n",
    "ynum = 64"
   ]
  },
  {
   "cell_type": "code",
   "execution_count": null,
   "metadata": {
    "collapsed": true
   },
   "outputs": [],
   "source": [
    "# create mesh objects\n",
    "elementMesh = uw.mesh.FeMesh_Cartesian( elementType=(\"linear\",\"constant\"), \n",
    "                                         elementRes=(xnum,ynum), \n",
    "                                           minCoord=(0.,0.), \n",
    "                                           maxCoord=(1.,1.)  )\n",
    "linearMesh   = elementMesh\n",
    "constantMesh = elementMesh.subMesh "
   ]
  },
  {
   "cell_type": "code",
   "execution_count": null,
   "metadata": {
    "collapsed": true
   },
   "outputs": [],
   "source": [
    "# create fevariables\n",
    "velocityField    = uw.fevariable.FeVariable( feMesh=linearMesh,   nodeDofCount=dim )\n",
    "pressureField    = uw.fevariable.FeVariable( feMesh=constantMesh, nodeDofCount=1 )\n",
    "temperatureField = uw.fevariable.FeVariable( feMesh=linearMesh,   nodeDofCount=1 )"
   ]
  },
  {
   "cell_type": "code",
   "execution_count": null,
   "metadata": {
    "collapsed": true
   },
   "outputs": [],
   "source": [
    "# create some dummy fevariables for doing top and bottom boundary integrations\n",
    "topField    = uw.fevariable.FeVariable( feMesh=linearMesh,   nodeDofCount=1)\n",
    "bottomField    = uw.fevariable.FeVariable( feMesh=linearMesh,   nodeDofCount=1)\n",
    "\n",
    "topField.numpyArray[:] = 0.\n",
    "bottomField.numpyArray[:] = 0.\n",
    "\n",
    "# lets ensure temp boundaries are still what we want \n",
    "# on the boundaries\n",
    "for index in linearMesh.specialSets[\"MinJ_VertexSet\"]():\n",
    "    bottomField.numpyArray[index] = 1.\n",
    "for index in linearMesh.specialSets[\"MaxJ_VertexSet\"]():\n",
    "    topField.numpyArray[index] = 1."
   ]
  },
  {
   "cell_type": "markdown",
   "metadata": {},
   "source": [
    "#ICs and BCs"
   ]
  },
  {
   "cell_type": "code",
   "execution_count": null,
   "metadata": {
    "collapsed": true
   },
   "outputs": [],
   "source": [
    "# Initialise data.. Note that we are also setting boundary conditions here\n",
    "velocityField.numpyArray[:] = [0.,0.]\n",
    "pressureField.numpyArray[:] = 0.\n",
    "temperatureField.numpyArray[:] = 0.\n",
    "\n",
    "# Setup temperature initial condition via numpy arrays\n",
    "toptemp = 0.\n",
    "bottomtemp = 1.\n",
    "A = 0.01\n",
    "import math\n",
    "tempNump = temperatureField.numpyArray\n",
    "for index, coord in enumerate(linearMesh.numpyArray):\n",
    "    pertCoeff = (1- coord[1]) + A*math.cos( math.pi * coord[0] ) * math.sin( math.pi * coord[1] )\n",
    "    tempNump[index] = pertCoeff;"
   ]
  },
  {
   "cell_type": "markdown",
   "metadata": {
    "collapsed": true
   },
   "source": [
    "###Fenics ICs for comparison\n",
    "\n",
    "    u_init = Expression((\"0\", \"0\", \"0\")) # zero\n",
    "    temp_init = Expression(\"(1 - x[1]) + 0.01*cos(pi*x[0]/width)*sin(pi*x[1]/height)\",\n",
    "                        width=width, height=height)\n"
   ]
  },
  {
   "cell_type": "code",
   "execution_count": null,
   "metadata": {
    "collapsed": false
   },
   "outputs": [],
   "source": [
    "figtemp = plt.Figure()\n",
    "tempminmax = fn.view.min_max(temperatureField)\n",
    "figtemp.Surface(tempminmax, elementMesh)\n",
    "figtemp.show()"
   ]
  },
  {
   "cell_type": "code",
   "execution_count": null,
   "metadata": {
    "collapsed": false
   },
   "outputs": [],
   "source": [
    "# Get list of special sets.\n",
    "# These are sets of vertices on the mesh. In this case we want to set them as boundary conditions.\n",
    "linearMesh.specialSets.keys()"
   ]
  },
  {
   "cell_type": "code",
   "execution_count": null,
   "metadata": {
    "collapsed": true
   },
   "outputs": [],
   "source": [
    "# Get the actual sets \n",
    "#\n",
    "#  HJJJJJJH\n",
    "#  I      I\n",
    "#  I      I\n",
    "#  I      I\n",
    "#  HJJJJJJH\n",
    "#  \n",
    "#  Note that H = I & J \n",
    "\n",
    "# Note that we use operator overloading to combine sets\n",
    "IWalls = linearMesh.specialSets[\"MinI_VertexSet\"]() + linearMesh.specialSets[\"MaxI_VertexSet\"]()\n",
    "JWalls = linearMesh.specialSets[\"MinJ_VertexSet\"]() + linearMesh.specialSets[\"MaxJ_VertexSet\"]()"
   ]
  },
  {
   "cell_type": "code",
   "execution_count": null,
   "metadata": {
    "collapsed": true
   },
   "outputs": [],
   "source": [
    "# Now setup the dirichlet boundary condition\n",
    "# Note that through this object, we are flagging to the system \n",
    "# that these nodes are to be considered as boundary conditions. \n",
    "# Also note that we provide a tuple of sets.. One for the Vx, one for Vy.\n",
    "freeslipBC = uw.conditions.DirichletCondition(     variable=velocityField, \n",
    "                                              nodeIndexSets=(IWalls,JWalls) )\n",
    "\n",
    "# also set dirichlet for temp field\n",
    "tempBC = uw.conditions.DirichletCondition(     variable=temperatureField, \n",
    "                                              nodeIndexSets=(JWalls,) )"
   ]
  },
  {
   "cell_type": "code",
   "execution_count": null,
   "metadata": {
    "collapsed": true
   },
   "outputs": [],
   "source": [
    "# lets ensure temp boundaries are still what we want \n",
    "# on the boundaries\n",
    "for index in linearMesh.specialSets[\"MinJ_VertexSet\"]():\n",
    "    temperatureField.numpyArray[index] = 1.\n",
    "for index in linearMesh.specialSets[\"MaxJ_VertexSet\"]():\n",
    "    temperatureField.numpyArray[index] = 0."
   ]
  },
  {
   "cell_type": "markdown",
   "metadata": {
    "collapsed": false
   },
   "source": [
    "#Rheology\n",
    "\n",
    "##Arrhenius / Frank-Kameneski\n",
    "\n",
    "The temperature dependence of the mantle viscosity is usually expressed with the Arrhenius law:\n",
    "\n",
    "$\\eta(T) = C exp\\frac{E}{RT} $\n",
    "\n",
    "The Frank-Kamenetski (FK) approximation linearizes the exponential term. The FK approximation has theoretically almost no effect on the convecting part of the mantle, but the increase of the viscosity towards the surface is much weaker and the local and global viscosity contrasts are code friendlier.\n",
    "\n",
    "i.e. for temperature dependence:\n",
    "\n",
    "$\\eta(T) = A exp(−bT)$\n",
    "\n",
    "In this benchmarm, the FK approximation encompasses both temperature and pressure dependence (pressure is paramaterized by depth) and is given as:\n",
    "\n",
    "$\\eta_{lin}(T,z) = exp(−\\gamma_T T + \\gamma_z z)$\n",
    "\n",
    "\n",
    "##Plasticity\n",
    "\n",
    "This benchmark uses a harmonic averaging form for the effective viscosity, whereas Underworld typically takes the miniumum of the linear or non-linear visocosity. Also, non-linear iterations are by defualt performed using the Newton method. However we can equally easilly build the harmonic average and perform Picard iterations all in Python.\n",
    "\n",
    "\n",
    "$$\\nabla v = \\frac{1}{2}\\left[\\nabla \\bf{v} + \\nabla \\bf{v}^T \\right] + \\frac{1}{2}\\left[\\nabla \\bf{v} - \\nabla \\bf{v}^T\\right] = \\begin{bmatrix}\n",
    "\\left(\\frac{\\partial u_x}{\\partial x}\\right) & \\frac{1}{2}\\left(\\frac{\\partial u_x}{\\partial y} + \\frac{\\partial u_y}{\\partial x}\\right) \\\\\n",
    "\\frac{1}{2}\\left(\\frac{\\partial u_x}{\\partial y} + \\frac{\\partial u_y}{\\partial x}\\right) & \\left(\\frac{\\partial u_y}{\\partial y}\\right) \\\\\n",
    "\\end{bmatrix}\n",
    "$$\n",
    "$+$ \n",
    "\\begin{bmatrix}\n",
    "0 & \\frac{1}{2}\\left(\\frac{\\partial u_x}{\\partial y} - \\frac{\\partial u_y}{\\partial x}\\right) \\\\\n",
    "\\frac{1}{2}\\left(\\frac{\\partial u_x}{\\partial y} - \\frac{\\partial u_y}{\\partial x}\\right) & 0 \\\\\n",
    "\\end{bmatrix}\n",
    "\n",
    "The (sqare root of the) inner product of the symmetric part (first term)\n",
    "with itself, ends up being:\n",
    "\n",
    "$$\\sqrt{ \\left(\\frac{\\partial u_x}{\\partial x}\\right)^2 + \\frac{1}{2}\\left(\\frac{\\partial u_x}{\\partial y} + \\frac{\\partial u_y}{\\partial x}\\right)^2 + \\left(\\frac{\\partial u_y}{\\partial y}\\right)^2 } \\\\\n",
    "= \\sqrt{\\dot\\epsilon_{ij}\\dot\\epsilon_{ij}}$$\n",
    "\n",
    "This is the form of the second invarient of the symmetric tensor used in the benchmark, (e.g. in Fenics):\n",
    "\n",
    "\n",
    "However, in Underworld the second invariant of a symmetric tensor is $i = \\sqrt{ 0.5 u_{ij} u_{ij} }$\n",
    "\n",
    "$$ i = \\sqrt{\\frac{1}{2}\\left(\\frac{\\partial u_x}{\\partial x}^2 + \\frac{\\partial u_y}{\\partial y}^2\\right) + \\left(\\frac{1}{2}\\left(\\frac{\\partial u_x}{\\partial y} + \\frac{\\partial u_y}{\\partial x}\\right)\\right)^2}$$\n",
    "\n",
    "The original Underworld papers have: $\\tau = 2\\eta D$\n"
   ]
  },
  {
   "cell_type": "code",
   "execution_count": null,
   "metadata": {
    "collapsed": false
   },
   "outputs": [],
   "source": [
    "# =============================================================================\n",
    "# CONSTANTS and PARAMETERS\n",
    "# =============================================================================\n",
    "RA  = 1e2        # Rayleigh number\n",
    "TS  = 0          # surface temperature\n",
    "TB  = 1          # bottom boundary temperature (melting point)\n",
    "CASE = 2# select identifier of the testing case (1-5)\n",
    "YSTRESS = 1.0    # yield stress=1 in cases 1-4, =3.0..5.0 in case 5\n",
    "ETA_T = 1e5\n",
    "ETA_Y = 10\n",
    "ETA0 = 1e-3\n",
    "TMAX = 3.0\n",
    "TOUT = 0.01\n",
    "IMAX = 100000\n",
    "XDIV, ZDIV = 40, 40 # number of horizontal and vertical divisions\n",
    "C_CFL = 0.5      # Courant number\n",
    "#dt = Constant(1e-10)# initial value of time step"
   ]
  },
  {
   "cell_type": "code",
   "execution_count": null,
   "metadata": {
    "collapsed": true
   },
   "outputs": [],
   "source": [
    "#first define the velocity file at timestep k - 1, and its second invariant:\n",
    "\n",
    "# create global copy of vel field\n",
    "velocityFieldCopy = uw.fevariable.FeVariable( feMesh=linearMesh, nodeDofCount=dim )\n",
    "velocityFieldCopy.numpyArray[:] = velocityField.numpyArray[:]\n",
    "\n",
    "secinvCopy = fn.tensor.second_invariant( \n",
    "                    fn.tensor.get_symmetric_part( \n",
    "                        velocityFieldCopy.gradientFn ))\n",
    "\n",
    "#create time step iterator, for now we'll hardwire this into the viscosity function \n",
    "\n",
    "step = 0"
   ]
  },
  {
   "cell_type": "markdown",
   "metadata": {},
   "source": [
    "    elif CASE == 2:\n",
    "        viscosityl = exp(-temp*math.log(ETA_T))\n",
    "        viscosityp = ETA0 + YSTRESS/eijeij(v)\n",
    "        return 2/(1/viscosityl + 1/viscosityp)"
   ]
  },
  {
   "cell_type": "code",
   "execution_count": null,
   "metadata": {
    "collapsed": false
   },
   "outputs": [],
   "source": [
    "#Viscosity laws for benchmark\n",
    "def viscosity():\n",
    "    coordinate = fn.input()\n",
    "    if CASE == 1:\n",
    "        return fn.math.exp(math.log(ETA_T)*-1*temperatureField)\n",
    "    elif CASE == 2:\n",
    "        viscosityl = fn.math.exp(-math.log(ETA_T)*temperatureField)\n",
    "        if step == 0:\n",
    "           #Set plastic part of viscisity to be negligible for zeroeth timestep \n",
    "           viscosityp = viscosityl*1e5\n",
    "        else:\n",
    "            viscosityp = ETA0 + YSTRESS/(secinvCopy*2) #factor of two to account for underworld second invariant form\n",
    "            #viscosityp = ETA0 + YSTRESS/secinvCopy     \n",
    "        return 2./(1./viscosityl + 1./viscosityl)\n",
    "    elif CASE == 3:\n",
    "        return fn.math.exp(-math.log(ETA_T)*temperatureField + (-math.log(ETA_Y)*coordinate[1]) + math.log(ETA_Y))\n",
    "    \n",
    "\n",
    "densityFn = RA*temperatureField\n",
    "# Define our gravity using a python tuple (this will be automatically converted to a function)\n",
    "gravity = ( 0.0, 1.0 )\n",
    "# now create a buoyancy force vector.. the gravity tuple is converted to a function \n",
    "# here via operator overloading\n",
    "buoyancyFn = gravity*densityFn"
   ]
  },
  {
   "cell_type": "code",
   "execution_count": null,
   "metadata": {
    "collapsed": false
   },
   "outputs": [],
   "source": [
    "#Call the viscosity function\n",
    "viscosityFn = viscosity()"
   ]
  },
  {
   "cell_type": "code",
   "execution_count": null,
   "metadata": {
    "collapsed": false
   },
   "outputs": [],
   "source": [
    "# lets take a look at the eta function\n",
    "figEta = plt.Figure()\n",
    "figEta.Surface(viscosityFn, linearMesh)\n",
    "figEta.show()"
   ]
  },
  {
   "cell_type": "markdown",
   "metadata": {},
   "source": [
    "##Build the Stokes system"
   ]
  },
  {
   "cell_type": "code",
   "execution_count": null,
   "metadata": {
    "collapsed": false
   },
   "outputs": [],
   "source": [
    "# Setup a stokes system\n",
    "# For PIC style integration, we include a swarm for the a PIC integration swarm is generated within.\n",
    "# For gauss integration, simple do not include the swarm. Nearest neighbour is used where required.\n",
    "stokesPIC = uw.systems.Stokes(velocityField=velocityField, \n",
    "                              pressureField=pressureField,\n",
    "                              conditions=[freeslipBC,],\n",
    "                              etaFn=fn.exception.SafeMaths(viscosityFn), \n",
    "                              bodyForceFn=buoyancyFn )"
   ]
  },
  {
   "cell_type": "code",
   "execution_count": null,
   "metadata": {
    "collapsed": true
   },
   "outputs": [],
   "source": [
    "#uw.systems.AdvectionDiffusion?"
   ]
  },
  {
   "cell_type": "code",
   "execution_count": null,
   "metadata": {
    "collapsed": false
   },
   "outputs": [],
   "source": [
    "# Create advdiff system\n",
    "advDiff = uw.systems.AdvectionDiffusion( temperatureField, velocityField, diffusivity=1., conditions=[tempBC,] )\n",
    "# Also create some integral objects which are used to calculate statistics.\n",
    "v2sum_integral  = uw.utils.Integral( feMesh=linearMesh, fn=fn.math.dot(velocityField, velocityField) ) \n",
    "volume_integral = uw.utils.Integral( feMesh=linearMesh, fn=1. )"
   ]
  },
  {
   "cell_type": "markdown",
   "metadata": {},
   "source": [
    "##Metrics for benchmark\n",
    "\n",
    "For cases 1-4, participants were asked to report a number of diagnostic quantities to be measured after reaching steady state:\n",
    "\n",
    "* Average temp... $$  \\langle T \\rangle  = \\int^1_0 \\int^1_0 T \\, dxdy $$\n",
    "* Top and bottom Nusselt numbers... $$N = \\int^1_0 \\frac{\\partial T}{\\partial y} \\rvert_{y=0/1} \\, dx$$\n",
    "* RMS velocity over the whole domain, surface and max velocity at surface\n",
    "* max and min viscosity over the whole domain\n",
    "* average rate of work done against gravity...$$\\langle W \\rangle = \\int^1_0 \\int^1_0 T u_y \\, dx dy$$\n",
    "* and the average rate of viscous dissipation...$$\\langle \\Phi \\rangle = \\int^1_0 \\int^1_0 \\tau_{ij} \\dot \\epsilon_{ij} \\, dx dy$$\n",
    "\n",
    "* In steady state, if thermal energy is accurately conserved, the difference between $\\langle W \\rangle$ and $\\langle \\Phi \\rangle / Ra$ must vanish, so also reported is the percentage error: \n",
    "\n",
    "$$ \\delta = \\frac{\\lvert \\langle W \\rangle - \\frac{\\langle \\Phi \\rangle}{Ra} \\rvert}{max \\left(  \\langle W \\rangle,  \\frac{\\langle \\Phi \\rangle}{Ra}\\right)} \\times 100% $$"
   ]
  },
  {
   "cell_type": "code",
   "execution_count": null,
   "metadata": {
    "collapsed": false
   },
   "outputs": [],
   "source": [
    "#uw.utils.Integral(temperatureField*velocityField[:,1])\n",
    "dw = uw.utils.Integral(temperatureField*velocityField[1], linearMesh)"
   ]
  },
  {
   "cell_type": "code",
   "execution_count": null,
   "metadata": {
    "collapsed": false
   },
   "outputs": [],
   "source": [
    "def avg_temp():\n",
    "    temp = uw.utils.Integral(temperatureField, linearMesh)\n",
    "    return temp.integrate()[0]\n",
    "\n",
    "#def top_nuss():\n",
    "#    temp = uw.utils.Integral(temperatureField, linearMesh)\n",
    "    \n",
    "def rms():\n",
    "    squared = uw.utils.Integral(fn.math.dot(velocityField,velocityField), linearMesh)\n",
    "    area = uw.utils.Integral(1.,linearMesh)\n",
    "    return math.sqrt(squared.integrate()[0]/area.integrate()[0])\n",
    "\n",
    "def rms_surf():\n",
    "    xvelocityField = fn.math.dot(velocityField,np.array([1.,0.]))\n",
    "    squared = uw.utils.Integral(fn.math.dot(topField, fn.math.dot(xvelocityField,xvelocityField)), linearMesh)\n",
    "    toparea = uw.utils.Integral((topField*1.),linearMesh)\n",
    "    return squared.integrate()[0]/toparea.integrate()[0]\n",
    "\n",
    "def max_vx_surf():\n",
    "    vsquare = velocityField.numpyArray.reshape(xnum+1,ynum+1,2)\n",
    "    vxmax = vsquare[0,:,0].max()\n",
    "    return vxmax\n",
    "\n",
    "def gravwork():\n",
    "    dw = uw.utils.Integral(temperatureField*velocityField[1], linearMesh)\n",
    "    return dw.integrate()[0]\n",
    "\n",
    "\n",
    "#There still might be something wrong here, given the contrasting versions of the second invariant\n",
    "def viscdis():\n",
    "    secinv = fn.tensor.second_invariant( \n",
    "                    fn.tensor.get_symmetric_part( \n",
    "                        velocityFieldCopy.gradientFn ))\n",
    "    temp = fn.math.dot(secinv,secinv)\n",
    "    vd = uw.utils.Integral((4.*viscosityFn*temp), linearMesh)\n",
    "    return vd.integrate()[0]\n",
    "        \n",
    "\n",
    "#linearMesh.specialSets[\"MinJ_VertexSet\"]()"
   ]
  },
  {
   "cell_type": "markdown",
   "metadata": {
    "collapsed": true
   },
   "source": [
    "##solve with Picard iteration"
   ]
  },
  {
   "cell_type": "code",
   "execution_count": null,
   "metadata": {
    "collapsed": false
   },
   "outputs": [],
   "source": [
    "# Stepping. Initialise time and timestep.\n",
    "import time\n",
    "realtime = 0.\n",
    "step = 0\n",
    "timevals = []\n",
    "vrmsvals = []"
   ]
  },
  {
   "cell_type": "code",
   "execution_count": null,
   "metadata": {
    "collapsed": false
   },
   "outputs": [],
   "source": [
    "# create integral to get diff \n",
    "diffFn = velocityFieldCopy - velocityField\n",
    "diffInt = uw.utils.Integral( feMesh=linearMesh, fn=fn.math.dot(diffFn,diffFn) )\n",
    "\n",
    "ToleranceValue = 1e-6\n",
    "start = time.clock()\n",
    "fname = \"uw_results_case\" + str(CASE) + \".dat\"\n",
    "f_o = open(os.path.join(\"./\",fname), 'w')\n",
    "# Perform steps\n",
    "while step<300:\n",
    "    #Enter non-linear loop\n",
    "    diff = ToleranceValue + 1.\n",
    "    nlits = 0\n",
    "    while diff > ToleranceValue:\n",
    "        # store velocity of previous timestep on the feVaribale \"velocityFieldCopy\"\n",
    "        velocityFieldCopy.numpyArray[:] = velocityField.numpyArray[:]\n",
    "        stokesPIC.solve()\n",
    "        diff = diffInt.integrate()[0]/v2sum_integral.integrate()[0]\n",
    "        nlits += 1\n",
    "    # Retrieve the maximum possible timestep for the AD system.\n",
    "    dt = advDiff.get_max_dt()\n",
    "    if step == 0:\n",
    "        dt = 0.\n",
    "    # Advect using this timestep size   \n",
    "    advDiff.integrate(dt)\n",
    "    # Increment\n",
    "    realtime += dt\n",
    "    step += 1\n",
    "    timevals.append(time)\n",
    "    # Calculate the Metrics\n",
    "    Avg_temp = avg_temp()\n",
    "    Rms = rms()\n",
    "    Rms_surf = rms_surf()\n",
    "    Max_vx_surf = max_vx_surf()\n",
    "    Gravwork = gravwork()\n",
    "    Viscdis = viscdis()\n",
    "    # write output values to file\n",
    "    f_o.write((9*'%-15s ' + '\\n') % (realtime, 'NaN' , 'NaN' ,Viscdis, Avg_temp, Rms,Rms_surf,Max_vx_surf,Gravwork))\n",
    "    if step % 50 == 0:\n",
    "        print 'step =',step, 'nonlinear its', nlits\n",
    "f_o.close()"
   ]
  },
  {
   "cell_type": "code",
   "execution_count": null,
   "metadata": {
    "collapsed": false
   },
   "outputs": [],
   "source": [
    "\n",
    "print(rms_surf())"
   ]
  },
  {
   "cell_type": "markdown",
   "metadata": {},
   "source": [
    "#Figures"
   ]
  },
  {
   "cell_type": "code",
   "execution_count": 26,
   "metadata": {
    "collapsed": true
   },
   "outputs": [],
   "source": [
    "#switch off to run in Parallel"
   ]
  },
  {
   "cell_type": "code",
   "execution_count": 27,
   "metadata": {
    "collapsed": false,
    "scrolled": true
   },
   "outputs": [
    {
     "ename": "OSError",
     "evalue": "[Errno 7] Argument list too long",
     "output_type": "error",
     "traceback": [
      "\u001b[0;31m---------------------------------------------------------------------------\u001b[0m",
      "\u001b[0;31mOSError\u001b[0m                                   Traceback (most recent call last)",
      "\u001b[0;32m<ipython-input-27-98b7a66d941e>\u001b[0m in \u001b[0;36m<module>\u001b[0;34m()\u001b[0m\n\u001b[1;32m      2\u001b[0m \u001b[0mvelMag\u001b[0m \u001b[0;34m=\u001b[0m \u001b[0mplt\u001b[0m\u001b[0;34m.\u001b[0m\u001b[0mFigure\u001b[0m\u001b[0;34m(\u001b[0m\u001b[0;34m)\u001b[0m\u001b[0;34m\u001b[0m\u001b[0m\n\u001b[1;32m      3\u001b[0m \u001b[0mvelMag\u001b[0m\u001b[0;34m.\u001b[0m\u001b[0mSurface\u001b[0m\u001b[0;34m(\u001b[0m\u001b[0mfn\u001b[0m\u001b[0;34m.\u001b[0m\u001b[0mmath\u001b[0m\u001b[0;34m.\u001b[0m\u001b[0mdot\u001b[0m\u001b[0;34m(\u001b[0m\u001b[0mvelocityField\u001b[0m\u001b[0;34m,\u001b[0m\u001b[0mvelocityField\u001b[0m\u001b[0;34m)\u001b[0m\u001b[0;34m,\u001b[0m \u001b[0mlinearMesh\u001b[0m\u001b[0;34m)\u001b[0m\u001b[0;34m\u001b[0m\u001b[0m\n\u001b[0;32m----> 4\u001b[0;31m \u001b[0mvelMag\u001b[0m\u001b[0;34m.\u001b[0m\u001b[0mshow\u001b[0m\u001b[0;34m(\u001b[0m\u001b[0;34m)\u001b[0m\u001b[0;34m\u001b[0m\u001b[0m\n\u001b[0m",
      "\u001b[0;32m/Users/dansandiford/Documents/programming/newinterface/underworld2/glucifer/pylab/_pylab.pyc\u001b[0m in \u001b[0;36mshow\u001b[0;34m(self, type)\u001b[0m\n\u001b[1;32m    170\u001b[0m             \u001b[0;32mfrom\u001b[0m \u001b[0mIPython\u001b[0m\u001b[0;34m.\u001b[0m\u001b[0mdisplay\u001b[0m \u001b[0;32mimport\u001b[0m \u001b[0mImage\u001b[0m\u001b[0;34m,\u001b[0m\u001b[0mHTML\u001b[0m\u001b[0;34m\u001b[0m\u001b[0m\n\u001b[1;32m    171\u001b[0m             \u001b[0mself\u001b[0m\u001b[0;34m.\u001b[0m\u001b[0m_generate_DB\u001b[0m\u001b[0;34m(\u001b[0m\u001b[0;34m)\u001b[0m\u001b[0;34m\u001b[0m\u001b[0m\n\u001b[0;32m--> 172\u001b[0;31m             \u001b[0mself\u001b[0m\u001b[0;34m.\u001b[0m\u001b[0m_generate_image\u001b[0m\u001b[0;34m(\u001b[0m\u001b[0;34m)\u001b[0m\u001b[0;34m\u001b[0m\u001b[0m\n\u001b[0m\u001b[1;32m    173\u001b[0m             \u001b[0;32mif\u001b[0m \u001b[0mtype\u001b[0m\u001b[0;34m.\u001b[0m\u001b[0mlower\u001b[0m\u001b[0;34m(\u001b[0m\u001b[0;34m)\u001b[0m \u001b[0;34m==\u001b[0m \u001b[0;34m\"webgl\"\u001b[0m\u001b[0;34m:\u001b[0m\u001b[0;34m\u001b[0m\u001b[0m\n\u001b[1;32m    174\u001b[0m                 \u001b[0;32mreturn\u001b[0m \u001b[0mHTML\u001b[0m\u001b[0;34m(\u001b[0m\u001b[0;34m'<iframe src='\u001b[0m\u001b[0;34m+\u001b[0m\u001b[0mself\u001b[0m\u001b[0;34m.\u001b[0m\u001b[0m_find_generated_HTML\u001b[0m\u001b[0;34m(\u001b[0m\u001b[0;34m)\u001b[0m\u001b[0;34m+\u001b[0m\u001b[0;34m' width=1000 height=500></iframe>'\u001b[0m\u001b[0;34m)\u001b[0m\u001b[0;34m\u001b[0m\u001b[0m\n",
      "\u001b[0;32m/Users/dansandiford/Documents/programming/newinterface/underworld2/glucifer/pylab/_pylab.pyc\u001b[0m in \u001b[0;36m_generate_image\u001b[0;34m(self)\u001b[0m\n\u001b[1;32m    281\u001b[0m             \u001b[0mscript\u001b[0m \u001b[0;34m=\u001b[0m \u001b[0;34m'\\n'\u001b[0m\u001b[0;34m.\u001b[0m\u001b[0mjoin\u001b[0m\u001b[0;34m(\u001b[0m\u001b[0mself\u001b[0m\u001b[0;34m.\u001b[0m\u001b[0m_script\u001b[0m \u001b[0;34m+\u001b[0m \u001b[0;34m[\u001b[0m\u001b[0;34m'image'\u001b[0m\u001b[0;34m,\u001b[0m \u001b[0;34m'quit'\u001b[0m\u001b[0;34m]\u001b[0m\u001b[0;34m)\u001b[0m\u001b[0;34m\u001b[0m\u001b[0m\n\u001b[1;32m    282\u001b[0m             \u001b[0;31m#Start the viewer process\u001b[0m\u001b[0;34m\u001b[0m\u001b[0;34m\u001b[0m\u001b[0m\n\u001b[0;32m--> 283\u001b[0;31m             \u001b[0mproc\u001b[0m \u001b[0;34m=\u001b[0m \u001b[0msubprocess\u001b[0m\u001b[0;34m.\u001b[0m\u001b[0mPopen\u001b[0m\u001b[0;34m(\u001b[0m\u001b[0margs\u001b[0m\u001b[0;34m,\u001b[0m \u001b[0mstdout\u001b[0m\u001b[0;34m=\u001b[0m\u001b[0mPIPE\u001b[0m\u001b[0;34m,\u001b[0m \u001b[0mstdin\u001b[0m\u001b[0;34m=\u001b[0m\u001b[0mPIPE\u001b[0m\u001b[0;34m,\u001b[0m \u001b[0mstderr\u001b[0m\u001b[0;34m=\u001b[0m\u001b[0mSTDOUT\u001b[0m\u001b[0;34m)\u001b[0m\u001b[0;34m\u001b[0m\u001b[0m\n\u001b[0m\u001b[1;32m    284\u001b[0m             \u001b[0;31m#Run the script\u001b[0m\u001b[0;34m\u001b[0m\u001b[0;34m\u001b[0m\u001b[0m\n\u001b[1;32m    285\u001b[0m             \u001b[0mstdout\u001b[0m \u001b[0;34m=\u001b[0m \u001b[0mproc\u001b[0m\u001b[0;34m.\u001b[0m\u001b[0mcommunicate\u001b[0m\u001b[0;34m(\u001b[0m\u001b[0minput\u001b[0m\u001b[0;34m=\u001b[0m\u001b[0mscript\u001b[0m\u001b[0;34m)\u001b[0m\u001b[0;34m[\u001b[0m\u001b[0;36m0\u001b[0m\u001b[0;34m]\u001b[0m\u001b[0;34m\u001b[0m\u001b[0m\n",
      "\u001b[0;32m/Users/dansandiford/anaconda/lib/python2.7/subprocess.pyc\u001b[0m in \u001b[0;36m__init__\u001b[0;34m(self, args, bufsize, executable, stdin, stdout, stderr, preexec_fn, close_fds, shell, cwd, env, universal_newlines, startupinfo, creationflags)\u001b[0m\n\u001b[1;32m    708\u001b[0m                                 \u001b[0mp2cread\u001b[0m\u001b[0;34m,\u001b[0m \u001b[0mp2cwrite\u001b[0m\u001b[0;34m,\u001b[0m\u001b[0;34m\u001b[0m\u001b[0m\n\u001b[1;32m    709\u001b[0m                                 \u001b[0mc2pread\u001b[0m\u001b[0;34m,\u001b[0m \u001b[0mc2pwrite\u001b[0m\u001b[0;34m,\u001b[0m\u001b[0;34m\u001b[0m\u001b[0m\n\u001b[0;32m--> 710\u001b[0;31m                                 errread, errwrite)\n\u001b[0m\u001b[1;32m    711\u001b[0m         \u001b[0;32mexcept\u001b[0m \u001b[0mException\u001b[0m\u001b[0;34m:\u001b[0m\u001b[0;34m\u001b[0m\u001b[0m\n\u001b[1;32m    712\u001b[0m             \u001b[0;31m# Preserve original exception in case os.close raises.\u001b[0m\u001b[0;34m\u001b[0m\u001b[0;34m\u001b[0m\u001b[0m\n",
      "\u001b[0;32m/Users/dansandiford/anaconda/lib/python2.7/subprocess.pyc\u001b[0m in \u001b[0;36m_execute_child\u001b[0;34m(self, args, executable, preexec_fn, close_fds, cwd, env, universal_newlines, startupinfo, creationflags, shell, to_close, p2cread, p2cwrite, c2pread, c2pwrite, errread, errwrite)\u001b[0m\n\u001b[1;32m   1333\u001b[0m                         \u001b[0;32mraise\u001b[0m\u001b[0;34m\u001b[0m\u001b[0m\n\u001b[1;32m   1334\u001b[0m                 \u001b[0mchild_exception\u001b[0m \u001b[0;34m=\u001b[0m \u001b[0mpickle\u001b[0m\u001b[0;34m.\u001b[0m\u001b[0mloads\u001b[0m\u001b[0;34m(\u001b[0m\u001b[0mdata\u001b[0m\u001b[0;34m)\u001b[0m\u001b[0;34m\u001b[0m\u001b[0m\n\u001b[0;32m-> 1335\u001b[0;31m                 \u001b[0;32mraise\u001b[0m \u001b[0mchild_exception\u001b[0m\u001b[0;34m\u001b[0m\u001b[0m\n\u001b[0m\u001b[1;32m   1336\u001b[0m \u001b[0;34m\u001b[0m\u001b[0m\n\u001b[1;32m   1337\u001b[0m \u001b[0;34m\u001b[0m\u001b[0m\n",
      "\u001b[0;31mOSError\u001b[0m: [Errno 7] Argument list too long"
     ]
    }
   ],
   "source": [
    "# lets check FEM solution\n",
    "velMag = plt.Figure()\n",
    "velMag.Surface(fn.math.dot(velocityField,velocityField), linearMesh)\n",
    "velMag.show()"
   ]
  },
  {
   "cell_type": "markdown",
   "metadata": {},
   "source": [
    "Figure 1. Steady state snapshots of temperature, viscosity, RMS velocity, second invariant of the stress tensor, and (right column) corresponding laterally averaged profiles for Case 1 obtained with the code Underworld. "
   ]
  },
  {
   "cell_type": "markdown",
   "metadata": {},
   "source": [
    "Figure 2.. As in Figure 1, but for Case 2... The four profiles can be found in the Data Set S2 of the supporting information."
   ]
  },
  {
   "cell_type": "markdown",
   "metadata": {},
   "source": []
  },
  {
   "cell_type": "markdown",
   "metadata": {},
   "source": []
  },
  {
   "cell_type": "markdown",
   "metadata": {},
   "source": []
  },
  {
   "cell_type": "code",
   "execution_count": 25,
   "metadata": {
    "collapsed": false
   },
   "outputs": [
    {
     "data": {
      "text/plain": [
       "(2436, 9)"
      ]
     },
     "execution_count": 25,
     "metadata": {},
     "output_type": "execute_result"
    }
   ],
   "source": []
  },
  {
   "cell_type": "code",
   "execution_count": 26,
   "metadata": {
    "collapsed": false
   },
   "outputs": [
    {
     "name": "stdout",
     "output_type": "stream",
     "text": [
      "Populating the interactive namespace from numpy and matplotlib\n"
     ]
    },
    {
     "name": "stderr",
     "output_type": "stream",
     "text": [
      "WARNING: pylab import has clobbered these variables: ['diff', 'step', 'plt']\n",
      "`%matplotlib` prevents importing * from pylab and numpy\n"
     ]
    },
    {
     "data": {
      "text/plain": [
       "<matplotlib.text.Text at 0x10e8ae9d0>"
      ]
     },
     "execution_count": 26,
     "metadata": {},
     "output_type": "execute_result"
    },
    {
     "data": {
      "image/png": "[encoded data removed]",
      "text/plain": [
       "<matplotlib.figure.Figure at 0x10e743990>"
      ]
     },
     "metadata": {},
     "output_type": "display_data"
    }
   ],
   "source": [
    "\n",
    "plt.plot(fres[:,0], fres[:,5])\n",
    "plt.plot(uwres[:,0], uwres[:,1])\n",
    "plt.title('RMS vel vs. time')"
   ]
  },
  {
   "cell_type": "markdown",
   "metadata": {
    "collapsed": true
   },
   "source": []
  },
  {
   "cell_type": "code",
   "execution_count": null,
   "metadata": {
    "collapsed": true
   },
   "outputs": [],
   "source": []
  },
  {
   "cell_type": "code",
   "execution_count": 13,
   "metadata": {
    "collapsed": true
   },
   "outputs": [],
   "source": [
    "############\n",
    "#Here is the Fenics viscosity setup for comparison...\n",
    "############\n",
    "def viscosity(u, temp):\n",
    "    \"\"\"calculate viscosity for different cases:\n",
    "    1: temperature-dependent\n",
    "    2: temperature- and strain-rate-dependent\n",
    "    3: temperature- and depth- dependent\n",
    "    other (4,5): temperature-, depth- and strain-rate-dependent\n",
    "    \"\"\"\n",
    "    p, v = u.split()\n",
    "    if CASE == 1:\n",
    "        return exp(-temp*math.log(ETA_T))\n",
    "    elif CASE == 2:\n",
    "        viscosityl = exp(-temp*math.log(ETA_T))\n",
    "        viscosityp = ETA0 + YSTRESS/eijeij(v)\n",
    "        return 2/(1/viscosityl + 1/viscosityp)\n",
    "    elif CASE == 3:\n",
    "        return exp(-temp*math.log(ETA_T) + (1-cell.x[1])*math.log(ETA_Y))\n",
    "    else:\n",
    "        viscosityl = exp(-temp*math.log(ETA_T) + (1-cell.x[1])*math.log(ETA_Y))\n",
    "        viscosityp = ETA0 + YSTRESS/eijeij(v)\n",
    "        return 2/(1/viscosityl + 1/viscosityp)\n"
   ]
  },
  {
   "cell_type": "markdown",
   "metadata": {
    "collapsed": false
   },
   "source": [
    "<!--bibtex\n",
    "\n",
    "@article{tosi2015community,\n",
    "  title={A community benchmark for viscoplastic thermal convection in a 2-D square box},\n",
    "  author={Tosi, Nicola and Stein, Claudia and Noack, Lena and H{\\\"u}ttig, Christian and Maierov{\\'a}, Petra and Samuel, Henri and Davies, DR and Wilson, CR and Kramer, SC and Thieulot, Cedric and others},\n",
    "  journal={Geochemistry, Geophysics, Geosystems},\n",
    "  year={2015},\n",
    "  publisher={Wiley Online Library}\n",
    "}\n",
    "\n",
    "-->"
   ]
  },
  {
   "cell_type": "markdown",
   "metadata": {},
   "source": []
  },
  {
   "cell_type": "markdown",
   "metadata": {},
   "source": [
    "#References\n",
    "\n",
    "<a name=\"cite-tosi2015community\"/><sup>[^](#ref-1) </sup>Tosi, Nicola and Stein, Claudia and Noack, Lena and H&uuml;ttig, Christian and Maierov&aacute;, Petra and Samuel, Henri and Davies, DR and Wilson, CR and Kramer, SC and Thieulot, Cedric and others. 2015. _A community benchmark for viscoplastic thermal convection in a 2-D square box_.\n",
    "\n"
   ]
  }
 ],
 "metadata": {
  "kernelspec": {
   "display_name": "Python 2",
   "language": "python",
   "name": "python2"
  },
  "language_info": {
   "codemirror_mode": {
    "name": "ipython",
    "version": 2
   },
   "file_extension": ".py",
   "mimetype": "text/x-python",
   "name": "python",
   "nbconvert_exporter": "python",
   "pygments_lexer": "ipython2",
   "version": "2.7.10"
  }
 },
 "nbformat": 4,
 "nbformat_minor": 0
}
