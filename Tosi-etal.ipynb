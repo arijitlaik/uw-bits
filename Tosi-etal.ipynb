{
 "cells": [
  {
   "cell_type": "markdown",
   "metadata": {
    "collapsed": true
   },
   "source": [
    "#Tosi et al Benchmark"
   ]
  },
  {
   "cell_type": "code",
   "execution_count": 1,
   "metadata": {
    "collapsed": false
   },
   "outputs": [
    {
     "data": {
      "application/javascript": [
       "IPython.load_extensions('calico-document-tools');"
      ],
      "text/plain": [
       "<IPython.core.display.Javascript object>"
      ]
     },
     "metadata": {},
     "output_type": "display_data"
    }
   ],
   "source": [
    "%%javascript\n",
    "IPython.load_extensions('calico-document-tools');"
   ]
  },
  {
   "cell_type": "markdown",
   "metadata": {
    "collapsed": true
   },
   "source": [
    "This notebook generates models from the <a name=\"ref-1\"/>[(Tosi et al., 2015)](#cite-tosi2015community) Benchmark in Underworld2. The Underworld results are compared to the benchmark model run on Fenics. Input files for the Fenics models were provided by Petra Maierova. The comparison of Underworld2 and Fenics is useful because both are FEM codes which can be built Python environment and both interface to PetSc to solve the linear systems. "
   ]
  },
  {
   "cell_type": "code",
   "execution_count": 2,
   "metadata": {
    "collapsed": true
   },
   "outputs": [],
   "source": [
    "# RT PIC - classic and nearest neighbour\n",
    "import underworld as uw\n",
    "import math\n",
    "from underworld import function as fn\n",
    "import glucifer.pylab as plt\n",
    "import numpy as np\n",
    "import os"
   ]
  },
  {
   "cell_type": "code",
   "execution_count": 3,
   "metadata": {
    "collapsed": true
   },
   "outputs": [],
   "source": [
    "dim = 2\n",
    "xnum = 64\n",
    "ynum = 64"
   ]
  },
  {
   "cell_type": "code",
   "execution_count": 4,
   "metadata": {
    "collapsed": true
   },
   "outputs": [],
   "source": [
    "# create mesh objects\n",
    "elementMesh = uw.mesh.FeMesh_Cartesian( elementType=(\"linear\",\"constant\"), \n",
    "                                         elementRes=(xnum,ynum), \n",
    "                                           minCoord=(0.,0.), \n",
    "                                           maxCoord=(1.,1.)  )\n",
    "linearMesh   = elementMesh\n",
    "constantMesh = elementMesh.subMesh "
   ]
  },
  {
   "cell_type": "code",
   "execution_count": 5,
   "metadata": {
    "collapsed": true
   },
   "outputs": [],
   "source": [
    "# create fevariables\n",
    "velocityField    = uw.fevariable.FeVariable( feMesh=linearMesh,   nodeDofCount=dim )\n",
    "pressureField    = uw.fevariable.FeVariable( feMesh=constantMesh, nodeDofCount=1 )\n",
    "temperatureField = uw.fevariable.FeVariable( feMesh=linearMesh,   nodeDofCount=1 )"
   ]
  },
  {
   "cell_type": "code",
   "execution_count": 6,
   "metadata": {
    "collapsed": true
   },
   "outputs": [],
   "source": [
    "# create some dummy fevariables for doing top and bottom boundary integrations\n",
    "topField    = uw.fevariable.FeVariable( feMesh=linearMesh,   nodeDofCount=1)\n",
    "bottomField    = uw.fevariable.FeVariable( feMesh=linearMesh,   nodeDofCount=1)\n",
    "\n",
    "topField.numpyArray[:] = 0.\n",
    "bottomField.numpyArray[:] = 0.\n",
    "\n",
    "# lets ensure temp boundaries are still what we want \n",
    "# on the boundaries\n",
    "for index in linearMesh.specialSets[\"MinJ_VertexSet\"]():\n",
    "    bottomField.numpyArray[index] = 1.\n",
    "for index in linearMesh.specialSets[\"MaxJ_VertexSet\"]():\n",
    "    topField.numpyArray[index] = 1."
   ]
  },
  {
   "cell_type": "markdown",
   "metadata": {},
   "source": [
    "#ICs and BCs"
   ]
  },
  {
   "cell_type": "code",
   "execution_count": 7,
   "metadata": {
    "collapsed": false
   },
   "outputs": [],
   "source": [
    "# Initialise data.. Note that we are also setting boundary conditions here\n",
    "velocityField.numpyArray[:] = [0.,0.]\n",
    "pressureField.numpyArray[:] = 0.\n",
    "temperatureField.numpyArray[:] = 0.\n",
    "\n",
    "# Setup temperature initial condition via numpy arrays\n",
    "toptemp = 0.\n",
    "bottomtemp = 1.\n",
    "A = 0.01\n",
    "import math\n",
    "#Note that width = height = 1\n",
    "tempNump = temperatureField.numpyArray\n",
    "for index, coord in enumerate(linearMesh.numpyArray):\n",
    "    pertCoeff = (1- coord[1]) + A*math.cos( math.pi * coord[0] ) * math.sin( math.pi * coord[1] )\n",
    "    tempNump[index] = pertCoeff;"
   ]
  },
  {
   "cell_type": "markdown",
   "metadata": {
    "collapsed": true
   },
   "source": [
    "###Fenics ICs for comparison\n",
    "\n",
    "    u_init = Expression((\"0\", \"0\", \"0\")) # zero\n",
    "    temp_init = Expression(\"(1 - x[1]) + 0.01*cos(pi*x[0]/width)*sin(pi*x[1]/height)\",\n",
    "                        width=width, height=height)\n"
   ]
  },
  {
   "cell_type": "code",
   "execution_count": 8,
   "metadata": {
    "collapsed": false
   },
   "outputs": [
    {
     "data": {
      "image/png": "[encoded data removed]",
      "text/plain": [
       "<IPython.core.display.Image object>"
      ]
     },
     "execution_count": 8,
     "metadata": {},
     "output_type": "execute_result"
    }
   ],
   "source": [
    "figtemp = plt.Figure()\n",
    "tempminmax = fn.view.min_max(temperatureField)\n",
    "figtemp.Surface(tempminmax, elementMesh)\n",
    "figtemp.show()"
   ]
  },
  {
   "cell_type": "code",
   "execution_count": 37,
   "metadata": {
    "collapsed": false
   },
   "outputs": [
    {
     "data": {
      "text/plain": [
       "['AllWalls',\n",
       " 'MaxI_VertexSet',\n",
       " 'MinJ_VertexSet',\n",
       " 'MinI_VertexSet',\n",
       " 'MaxJ_VertexSet']"
      ]
     },
     "execution_count": 37,
     "metadata": {},
     "output_type": "execute_result"
    }
   ],
   "source": [
    "# Get list of special sets.\n",
    "# These are sets of vertices on the mesh. In this case we want to set them as boundary conditions.\n",
    "linearMesh.specialSets.keys()"
   ]
  },
  {
   "cell_type": "code",
   "execution_count": 38,
   "metadata": {
    "collapsed": true
   },
   "outputs": [],
   "source": [
    "# Get the actual sets \n",
    "#\n",
    "#  HJJJJJJH\n",
    "#  I      I\n",
    "#  I      I\n",
    "#  I      I\n",
    "#  HJJJJJJH\n",
    "#  \n",
    "#  Note that H = I & J \n",
    "\n",
    "# Note that we use operator overloading to combine sets\n",
    "IWalls = linearMesh.specialSets[\"MinI_VertexSet\"]() + linearMesh.specialSets[\"MaxI_VertexSet\"]()\n",
    "JWalls = linearMesh.specialSets[\"MinJ_VertexSet\"]() + linearMesh.specialSets[\"MaxJ_VertexSet\"]()"
   ]
  },
  {
   "cell_type": "code",
   "execution_count": 39,
   "metadata": {
    "collapsed": true
   },
   "outputs": [],
   "source": [
    "# Now setup the dirichlet boundary condition\n",
    "# Note that through this object, we are flagging to the system \n",
    "# that these nodes are to be considered as boundary conditions. \n",
    "# Also note that we provide a tuple of sets.. One for the Vx, one for Vy.\n",
    "freeslipBC = uw.conditions.DirichletCondition(     variable=velocityField, \n",
    "                                              nodeIndexSets=(IWalls,JWalls) )\n",
    "\n",
    "# also set dirichlet for temp field\n",
    "tempBC = uw.conditions.DirichletCondition(     variable=temperatureField, \n",
    "                                              nodeIndexSets=(JWalls,) )"
   ]
  },
  {
   "cell_type": "code",
   "execution_count": 40,
   "metadata": {
    "collapsed": true
   },
   "outputs": [],
   "source": [
    "# lets ensure temp boundaries are still what we want \n",
    "# on the boundaries\n",
    "for index in linearMesh.specialSets[\"MinJ_VertexSet\"]():\n",
    "    temperatureField.numpyArray[index] = 1.\n",
    "for index in linearMesh.specialSets[\"MaxJ_VertexSet\"]():\n",
    "    temperatureField.numpyArray[index] = 0."
   ]
  },
  {
   "cell_type": "markdown",
   "metadata": {
    "collapsed": false
   },
   "source": [
    "#Rheology\n",
    "\n",
    "##Arrhenius / Frank-Kameneski\n",
    "\n",
    "The temperature dependence of the mantle viscosity is usually expressed with the Arrhenius law:\n",
    "\n",
    "$\\eta(T) = C exp\\frac{E}{RT} $\n",
    "\n",
    "The Frank-Kamenetski (FK) approximation linearizes the exponential term. The FK approximation has theoretically almost no effect on the convecting part of the mantle, but the increase of the viscosity towards the surface is much weaker and the local and global viscosity contrasts are code friendlier.\n",
    "\n",
    "i.e. for temperature dependence:\n",
    "\n",
    "$\\eta(T) = A exp(−bT)$\n",
    "\n",
    "In this benchmark, the FK approximation encompasses both temperature and pressure dependence (pressure is paramaterized by depth) and is given as:\n",
    "\n",
    "$\\eta_{lin}(T,z) = exp(−\\gamma_T T + \\gamma_z z)$\n",
    "\n",
    "\n",
    "##Plasticity\n",
    "\n",
    "This benchmark uses an averaging term for the effective viscosity, whereas Underworld typically takes the miniumum of the linear or non-linear visocosity. However we can equally easily build an average form for the effective viscosity and perform Picard iterations all in Python.\n",
    "\n",
    "There are some differences in the definition of the second invariant of a symmetric tensor, that we need to be aware of. The symmetric part of the strain rate is the first term in the following decomposition:\n",
    "\n",
    "\n",
    "$$\\nabla v = \\frac{1}{2}\\left[\\nabla \\bf{v} + \\nabla \\bf{v}^T \\right] + \\frac{1}{2}\\left[\\nabla \\bf{v} - \\nabla \\bf{v}^T\\right] = \\begin{bmatrix}\n",
    "\\left(\\frac{\\partial u_x}{\\partial x}\\right) & \\frac{1}{2}\\left(\\frac{\\partial u_x}{\\partial y} + \\frac{\\partial u_y}{\\partial x}\\right) \\\\\n",
    "\\frac{1}{2}\\left(\\frac{\\partial u_x}{\\partial y} + \\frac{\\partial u_y}{\\partial x}\\right) & \\left(\\frac{\\partial u_y}{\\partial y}\\right) \\\\\n",
    "\\end{bmatrix}\n",
    "$$\n",
    "$+$ \n",
    "\\begin{bmatrix}\n",
    "0 & \\frac{1}{2}\\left(\\frac{\\partial u_x}{\\partial y} - \\frac{\\partial u_y}{\\partial x}\\right) \\\\\n",
    "\\frac{1}{2}\\left(\\frac{\\partial u_x}{\\partial y} - \\frac{\\partial u_y}{\\partial x}\\right) & 0 \\\\\n",
    "\\end{bmatrix}\n",
    "\n",
    "The (sqare root of the) inner product of the symmetric part (first term)\n",
    "with itself, ends up being:\n",
    "\n",
    "$$\\sqrt{ \\left(\\frac{\\partial u_x}{\\partial x}\\right)^2 + \\frac{1}{2}\\left(\\frac{\\partial u_x}{\\partial y} + \\frac{\\partial u_y}{\\partial x}\\right)^2 + \\left(\\frac{\\partial u_y}{\\partial y}\\right)^2 } \\\\\n",
    "= \\sqrt{\\dot\\epsilon_{ij}\\dot\\epsilon_{ij}}$$\n",
    "\n",
    "This is the form of the second invarient of the symmetric tensor used in the benchmark, (e.g. in the Fenics input file):\n",
    "\n",
    "\n",
    "However, in Underworld the second invariant of a symmetric tensor is $i = \\sqrt{ 0.5 u_{ij} u_{ij} }$\n",
    "\n",
    "$$ i = \\sqrt{\\frac{1}{2}\\left(\\frac{\\partial u_x}{\\partial x}^2 + \\frac{\\partial u_y}{\\partial y}^2\\right) + \\left(\\frac{1}{2}\\left(\\frac{\\partial u_x}{\\partial y} + \\frac{\\partial u_y}{\\partial x}\\right)\\right)^2}$$\n",
    "\n"
   ]
  },
  {
   "cell_type": "code",
   "execution_count": 41,
   "metadata": {
    "collapsed": false
   },
   "outputs": [],
   "source": [
    "# =============================================================================\n",
    "# CONSTANTS and PARAMETERS\n",
    "# =============================================================================\n",
    "RA  = 1e2        # Rayleigh number\n",
    "TS  = 0          # surface temperature\n",
    "TB  = 1          # bottom boundary temperature (melting point)\n",
    "CASE = 5# select identifier of the testing case (1-5)\n",
    "YSTRESS = 1.0    # yield stress=1 in cases 1-4, =3.0..5.0 in case 5\n",
    "ETA_T = 1e5\n",
    "ETA_Y = 10\n",
    "ETA0 = 1e-3\n",
    "TMAX = 3.0\n",
    "TOUT = 0.01\n",
    "IMAX = 100000\n",
    "XDIV, ZDIV = 40, 40 # number of horizontal and vertical divisions\n",
    "C_CFL = 0.5      # Courant number\n",
    "#dt = Constant(1e-10)# initial value of time step"
   ]
  },
  {
   "cell_type": "code",
   "execution_count": 42,
   "metadata": {
    "collapsed": false
   },
   "outputs": [],
   "source": [
    "#import random\n",
    "#first define the velocity file at timestep k - 1, and its second invariant:\n",
    "\n",
    "# create global copy of vel field\n",
    "velocityFieldCopy = uw.fevariable.FeVariable( feMesh=linearMesh, nodeDofCount=dim )\n",
    "velocityFieldCopy.numpyArray[:] = velocityField.numpyArray[:]\n",
    "\n",
    "\n",
    "#for index, coord in enumerate(velocityFieldCopy.numpyArray):\n",
    "#    velocityFieldCopy.numpyArray[index] = random.random()*0.1\n",
    "    \n",
    "\n",
    "secinvCopy = fn.tensor.second_invariant( \n",
    "                    fn.tensor.get_symmetric_part( \n",
    "                        velocityField.gradientFn ))\n",
    "\n",
    "#create time step iterator, for now we'll hardwire this into the viscosity function \n",
    "\n",
    "step = 1"
   ]
  },
  {
   "cell_type": "code",
   "execution_count": 43,
   "metadata": {
    "collapsed": false
   },
   "outputs": [
    {
     "data": {
      "image/png": "[encoded data removed]",
      "text/plain": [
       "<IPython.core.display.Image object>"
      ]
     },
     "execution_count": 43,
     "metadata": {},
     "output_type": "execute_result"
    }
   ],
   "source": [
    "# lets take a look at the eta function\n",
    "figEta = plt.Figure()\n",
    "figEta.Surface(secinvCopy, linearMesh)\n",
    "figEta.show()"
   ]
  },
  {
   "cell_type": "code",
   "execution_count": null,
   "metadata": {
    "collapsed": true
   },
   "outputs": [],
   "source": []
  },
  {
   "cell_type": "markdown",
   "metadata": {
    "collapsed": false
   },
   "source": [
    "#Viscosity for benchmark\n",
    "\n",
    "\n"
   ]
  },
  {
   "cell_type": "code",
   "execution_count": 44,
   "metadata": {
    "collapsed": false
   },
   "outputs": [
    {
     "data": {
      "text/plain": [
       "0.7071067811865476"
      ]
     },
     "execution_count": 44,
     "metadata": {},
     "output_type": "execute_result"
    }
   ],
   "source": [
    "math.sqrt(0.5)"
   ]
  },
  {
   "cell_type": "code",
   "execution_count": 45,
   "metadata": {
    "collapsed": false
   },
   "outputs": [],
   "source": [
    "#Remember to make all floats float when setting up functions\n",
    "\n",
    "\n",
    "#Linear viscosity - Case 1\n",
    "viscosityFn1 = fn.math.exp(math.log(ETA_T)*-1*temperatureField)\n",
    "\n",
    "\n",
    "#non-linear viscosity - Case 2\n",
    "viscosityl = fn.math.exp(math.log(ETA_T)*-1*temperatureField)\n",
    "viscosityp = ETA0 + YSTRESS/(secinvCopy/math.sqrt(0.5)) #extra factor to account for underworld second invariant form\n",
    "viscosityFn2 = 2./(1./viscosityl + 1./viscosityp)\n"
   ]
  },
  {
   "cell_type": "code",
   "execution_count": 46,
   "metadata": {
    "collapsed": false
   },
   "outputs": [
    {
     "data": {
      "image/png": "[encoded data removed]",
      "text/plain": [
       "<IPython.core.display.Image object>"
      ]
     },
     "execution_count": 46,
     "metadata": {},
     "output_type": "execute_result"
    }
   ],
   "source": [
    "# lets take a look at the eta function\n",
    "figEta = plt.Figure()\n",
    "figEta.Surface(viscosityFn2, linearMesh)\n",
    "figEta.show()"
   ]
  },
  {
   "cell_type": "code",
   "execution_count": 47,
   "metadata": {
    "collapsed": true
   },
   "outputs": [],
   "source": [
    "densityFn = RA*temperatureField\n",
    "# Define our gravity using a python tuple (this will be automatically converted to a function)\n",
    "gravity = ( 0.0, 1.0 )\n",
    "# now create a buoyancy force vector.. the gravity tuple is converted to a function \n",
    "# here via operator overloading\n",
    "buoyancyFn = gravity*densityFn"
   ]
  },
  {
   "cell_type": "markdown",
   "metadata": {},
   "source": [
    "##Build the Stokes system"
   ]
  },
  {
   "cell_type": "code",
   "execution_count": 48,
   "metadata": {
    "collapsed": false
   },
   "outputs": [],
   "source": [
    "# Setup the initial stokes system\n",
    "# For PIC style integration, we include a swarm for the a PIC integration swarm is generated within.\n",
    "# For gauss integration, simple do not include the swarm. Nearest neighbour is used where required.\n",
    "stokesPIC = uw.systems.Stokes(velocityField=velocityField, \n",
    "                              pressureField=pressureField,\n",
    "                              conditions=[freeslipBC,],\n",
    "                              etaFn=fn.exception.SafeMaths(viscosityFn1), \n",
    "                              bodyForceFn=buoyancyFn)"
   ]
  },
  {
   "cell_type": "code",
   "execution_count": 49,
   "metadata": {
    "collapsed": true
   },
   "outputs": [],
   "source": [
    "stokesPIC.solve()"
   ]
  },
  {
   "cell_type": "code",
   "execution_count": 50,
   "metadata": {
    "collapsed": false
   },
   "outputs": [],
   "source": [
    "# Setup the Stokes system again, now with full viscosity\n",
    "# For PIC style integration, we include a swarm for the a PIC integration swarm is generated within.\n",
    "# For gauss integration, simple do not include the swarm. Nearest neighbour is used where required.\n",
    "stokesPIC2 = uw.systems.Stokes(velocityField=velocityField, \n",
    "                              pressureField=pressureField,\n",
    "                              conditions=[freeslipBC,],\n",
    "                              etaFn=fn.exception.SafeMaths(viscosityFn2), \n",
    "                              bodyForceFn=buoyancyFn )"
   ]
  },
  {
   "cell_type": "code",
   "execution_count": 51,
   "metadata": {
    "collapsed": false
   },
   "outputs": [],
   "source": [
    "# Create advdiff system\n",
    "advDiff = uw.systems.AdvectionDiffusion( temperatureField, velocityField, diffusivity=1., conditions=[tempBC,] )\n",
    "# Also create some integral objects which are used to calculate statistics.\n",
    "v2sum_integral  = uw.utils.Integral( feMesh=linearMesh, fn=fn.math.dot(velocityField, velocityField) ) \n",
    "volume_integral = uw.utils.Integral( feMesh=linearMesh, fn=1. )"
   ]
  },
  {
   "cell_type": "markdown",
   "metadata": {},
   "source": [
    "##Metrics for benchmark\n",
    "\n",
    "For cases 1-4, participants were asked to report a number of diagnostic quantities to be measured after reaching steady state:\n",
    "\n",
    "* Average temp... $$  \\langle T \\rangle  = \\int^1_0 \\int^1_0 T \\, dxdy $$\n",
    "* Top and bottom Nusselt numbers... $$N = \\int^1_0 \\frac{\\partial T}{\\partial y} \\rvert_{y=0/1} \\, dx$$\n",
    "* RMS velocity over the whole domain, surface and max velocity at surface\n",
    "* max and min viscosity over the whole domain\n",
    "* average rate of work done against gravity...$$\\langle W \\rangle = \\int^1_0 \\int^1_0 T u_y \\, dx dy$$\n",
    "* and the average rate of viscous dissipation...$$\\langle \\Phi \\rangle = \\int^1_0 \\int^1_0 \\tau_{ij} \\dot \\epsilon_{ij} \\, dx dy$$\n",
    "\n",
    "* In steady state, if thermal energy is accurately conserved, the difference between $\\langle W \\rangle$ and $\\langle \\Phi \\rangle / Ra$ must vanish, so also reported is the percentage error: \n",
    "\n",
    "$$ \\delta = \\frac{\\lvert \\langle W \\rangle - \\frac{\\langle \\Phi \\rangle}{Ra} \\rvert}{max \\left(  \\langle W \\rangle,  \\frac{\\langle \\Phi \\rangle}{Ra}\\right)} \\times 100% $$"
   ]
  },
  {
   "cell_type": "code",
   "execution_count": 52,
   "metadata": {
    "collapsed": false
   },
   "outputs": [],
   "source": [
    "def avg_temp():\n",
    "    temp = uw.utils.Integral(temperatureField, linearMesh)\n",
    "    return temp.integrate()[0]\n",
    "\n",
    "#def top_nuss():\n",
    "#    temp = uw.utils.Integral(temperatureField, linearMesh)\n",
    "    \n",
    "def rms():\n",
    "    squared = uw.utils.Integral(fn.math.dot(velocityField,velocityField), linearMesh)\n",
    "    area = uw.utils.Integral(1.,linearMesh)\n",
    "    return math.sqrt(squared.integrate()[0]/area.integrate()[0])\n",
    "\n",
    "def rms_surf():\n",
    "    xvelocityField = fn.math.dot(velocityField,np.array([1.,0.]))\n",
    "    squared = uw.utils.Integral(fn.math.dot(topField, fn.math.dot(xvelocityField,xvelocityField)), linearMesh)\n",
    "    toparea = uw.utils.Integral((topField*1.),linearMesh)\n",
    "    return squared.integrate()[0]/toparea.integrate()[0]\n",
    "\n",
    "def max_vx_surf():\n",
    "    vsquare = velocityField.numpyArray.reshape(xnum+1,ynum+1,2)\n",
    "    vxmax = vsquare[0,:,0].max()\n",
    "    return vxmax\n",
    "\n",
    "def gravwork():\n",
    "    dw = uw.utils.Integral(temperatureField*velocityField[1], linearMesh)\n",
    "    return dw.integrate()[0]\n",
    "\n",
    "\n",
    "#note that viscosityFn2 is used here, so this is not case independent. \n",
    "def viscdis():\n",
    "    secinv = fn.tensor.second_invariant( \n",
    "                    fn.tensor.get_symmetric_part( \n",
    "                        velocityField.gradientFn ))\n",
    "    sinner = fn.math.dot(secinv,secinv)\n",
    "    vd = uw.utils.Integral((4.*viscosityFn2*sinner), linearMesh)\n",
    "    return vd.integrate()[0]\n",
    "        \n",
    "\n",
    "#linearMesh.specialSets[\"MinJ_VertexSet\"]()"
   ]
  },
  {
   "cell_type": "markdown",
   "metadata": {
    "collapsed": true
   },
   "source": [
    "##solve with Picard iteration"
   ]
  },
  {
   "cell_type": "code",
   "execution_count": 53,
   "metadata": {
    "collapsed": false
   },
   "outputs": [],
   "source": [
    "def Compute_dt():\n",
    "    \"\"\"computes time step using CFL criterion\"\"\"\n",
    "    h_min = 1./64. #or maybe 64 + 1\n",
    "    v_max = velmag.max()\n",
    "    dt = C_CFL*h_min/v_max\n",
    "    return dt"
   ]
  },
  {
   "cell_type": "code",
   "execution_count": 54,
   "metadata": {
    "collapsed": false
   },
   "outputs": [],
   "source": [
    "# Stepping. Initialise time and timestep.\n",
    "import time\n",
    "realtime = 0.\n",
    "step = 0\n",
    "timevals = []\n",
    "vrmsvals = []"
   ]
  },
  {
   "cell_type": "code",
   "execution_count": 55,
   "metadata": {
    "collapsed": false
   },
   "outputs": [
    {
     "name": "stdout",
     "output_type": "stream",
     "text": [
      "step = 10 nonlinear its 2 Rms = 9.97781035046\n",
      "step = 20 nonlinear its 2 Rms = 18.532849303\n",
      "step = 30 nonlinear its 2 Rms = 28.1613229227\n"
     ]
    }
   ],
   "source": [
    "# create integral to get diff \n",
    "diffFn = velocityFieldCopy - velocityField\n",
    "diffInt = uw.utils.Integral( feMesh=linearMesh, fn=fn.math.dot(diffFn,diffFn) )\n",
    "\n",
    "ToleranceValue = 1e-6\n",
    "start = time.clock()\n",
    "fname = \"uw_results_case\" + str(CASE) + \".dat\"\n",
    "f_o = open(os.path.join(\"./\",fname), 'w')\n",
    "# Perform steps\n",
    "maxiter = 10\n",
    "while step<30:\n",
    "    #Enter non-linear loop\n",
    "    diff = ToleranceValue + 1.\n",
    "    nlits = -1 #call the first solve a linear iteration\n",
    "    while diff > ToleranceValue and nlits < maxiter:\n",
    "        # store velocity of previous timestep on the feVaribale \"velocityFieldCopy\"\n",
    "        velocityFieldCopy.numpyArray[:] = velocityField.numpyArray[:]\n",
    "        stokesPIC2.solve()\n",
    "        diff = diffInt.integrate()[0]/v2sum_integral.integrate()[0]\n",
    "        nlits += 1\n",
    "        #reset viscosity, according to Louis' advice\n",
    "        #stokesPIC._etaFn = viscosity()\n",
    "        #Try to force a viscosity update\n",
    "        secinvCopy = fn.tensor.second_invariant( \n",
    "                    fn.tensor.get_symmetric_part( \n",
    "                        velocityField.gradientFn ))\n",
    "        viscosityl = fn.math.exp(math.log(ETA_T)*-1*temperatureField)\n",
    "        viscosityp = ETA0 + YSTRESS/(secinvCopy*2.) #factor of two to account for underworld second invariant form\n",
    "        viscosityFn2 = 2./(1./viscosityl + 1./viscosityp)\n",
    "    dt1 = advDiff.get_max_dt()\n",
    "    #Use a CFL timestep similar to Fenics...\n",
    "    velmag = np.zeros(velocityField.numpyArray.shape[0])\n",
    "    for i in range(velocityField.numpyArray.shape[0]):\n",
    "        velmag[i] = math.sqrt(velocityField.numpyArray[i,0]**2 + velocityField.numpyArray[i,1]**2)\n",
    "    dt = Compute_dt()\n",
    "    #\n",
    "    if step == 0:\n",
    "        dt = 0.\n",
    "    # Advect using this timestep size   \n",
    "    advDiff.integrate(dt)\n",
    "    # Increment\n",
    "    realtime += dt\n",
    "    step += 1\n",
    "    timevals.append(time)\n",
    "    # Calculate the Metrics\n",
    "    Avg_temp = avg_temp()\n",
    "    Rms = rms()\n",
    "    Rms_surf = rms_surf()\n",
    "    Max_vx_surf = max_vx_surf()\n",
    "    Gravwork = gravwork()\n",
    "    Viscdis = viscdis()\n",
    "    #Just some testing stuff\n",
    "    test5 = uw.utils.Integral(secinvCopy, linearMesh)\n",
    "    # write output values to file\n",
    "    #dtr = 0\n",
    "    #if step != 0:\n",
    "    #    dtr =dt1/dt\n",
    "    f_o.write((9*'%-15s ' + '\\n') % (realtime, 'NaN' , 'NaN' ,Viscdis, Avg_temp, Rms,Rms_surf,Max_vx_surf,Gravwork))\n",
    "    if step % 10 == 0:\n",
    "        print 'step =',step, 'nonlinear its', nlits, 'Rms =', Rms\n",
    "f_o.close()"
   ]
  },
  {
   "cell_type": "markdown",
   "metadata": {
    "collapsed": false
   },
   "source": [
    "##Sanity checks for yield behavior problem\n",
    "\n",
    "RMS for case 2 is 'similar' to Fenics, but the curve clearly deviates...trying the following\n",
    "\n",
    "* swapping viscosityl for viscosityp returns the same value as the linear viscosity...tested up to 300 timesteps\n",
    "* tried forcing updates of viscosity within the Picard loop...uw_results_case2_vf.dat\n",
    " * No appreciable difference\n",
    "* swap timestep for CFL criteria used in Fenics...uw_results_case2_dt.dat\n",
    " * This did bring the curves a bit closer\n",
    "* reduce threshold to 10^-8...uw_results_case2_10m8.dat\n",
    " * No appreciable difference\n",
    "* take the factor of $\\times 2$ out of the plasticity law...uw_results_case2_pl.dat\n",
    " * Yielding is much later, max RMS reduced\n"
   ]
  },
  {
   "cell_type": "markdown",
   "metadata": {},
   "source": [
    "#Figures"
   ]
  },
  {
   "cell_type": "code",
   "execution_count": null,
   "metadata": {
    "collapsed": true
   },
   "outputs": [],
   "source": [
    "#switch off to run in Parallel"
   ]
  },
  {
   "cell_type": "code",
   "execution_count": 1,
   "metadata": {
    "collapsed": false,
    "scrolled": true
   },
   "outputs": [
    {
     "ename": "NameError",
     "evalue": "name 'plt' is not defined",
     "output_type": "error",
     "traceback": [
      "\u001b[0;31m---------------------------------------------------------------------------\u001b[0m",
      "\u001b[0;31mNameError\u001b[0m                                 Traceback (most recent call last)",
      "\u001b[0;32m<ipython-input-1-98b7a66d941e>\u001b[0m in \u001b[0;36m<module>\u001b[0;34m()\u001b[0m\n\u001b[1;32m      1\u001b[0m \u001b[0;31m# lets check FEM solution\u001b[0m\u001b[0;34m\u001b[0m\u001b[0;34m\u001b[0m\u001b[0m\n\u001b[0;32m----> 2\u001b[0;31m \u001b[0mvelMag\u001b[0m \u001b[0;34m=\u001b[0m \u001b[0mplt\u001b[0m\u001b[0;34m.\u001b[0m\u001b[0mFigure\u001b[0m\u001b[0;34m(\u001b[0m\u001b[0;34m)\u001b[0m\u001b[0;34m\u001b[0m\u001b[0m\n\u001b[0m\u001b[1;32m      3\u001b[0m \u001b[0mvelMag\u001b[0m\u001b[0;34m.\u001b[0m\u001b[0mSurface\u001b[0m\u001b[0;34m(\u001b[0m\u001b[0mfn\u001b[0m\u001b[0;34m.\u001b[0m\u001b[0mmath\u001b[0m\u001b[0;34m.\u001b[0m\u001b[0mdot\u001b[0m\u001b[0;34m(\u001b[0m\u001b[0mvelocityField\u001b[0m\u001b[0;34m,\u001b[0m\u001b[0mvelocityField\u001b[0m\u001b[0;34m)\u001b[0m\u001b[0;34m,\u001b[0m \u001b[0mlinearMesh\u001b[0m\u001b[0;34m)\u001b[0m\u001b[0;34m\u001b[0m\u001b[0m\n\u001b[1;32m      4\u001b[0m \u001b[0mvelMag\u001b[0m\u001b[0;34m.\u001b[0m\u001b[0mshow\u001b[0m\u001b[0;34m(\u001b[0m\u001b[0;34m)\u001b[0m\u001b[0;34m\u001b[0m\u001b[0m\n",
      "\u001b[0;31mNameError\u001b[0m: name 'plt' is not defined"
     ]
    }
   ],
   "source": [
    "# lets check FEM solution\n",
    "velMag = plt.Figure()\n",
    "velMag.Surface(fn.math.dot(velocityField,velocityField), linearMesh)\n",
    "velMag.show()"
   ]
  },
  {
   "cell_type": "markdown",
   "metadata": {},
   "source": [
    "Figure 1. Steady state snapshots of temperature, viscosity, RMS velocity, second invariant of the stress tensor, and (right column) corresponding laterally averaged profiles for Case 1 obtained with the code Underworld. "
   ]
  },
  {
   "cell_type": "markdown",
   "metadata": {},
   "source": [
    "Figure 2.. As in Figure 1, but for Case 2... The four profiles can be found in the Data Set S2 of the supporting information."
   ]
  },
  {
   "cell_type": "markdown",
   "metadata": {},
   "source": [
    "#References\n",
    "\n",
    "<a name=\"cite-tosi2015community\"/><sup>[^](#ref-1) </sup>Tosi, Nicola and Stein, Claudia and Noack, Lena and H&uuml;ttig, Christian and Maierov&aacute;, Petra and Samuel, Henri and Davies, DR and Wilson, CR and Kramer, SC and Thieulot, Cedric and others. 2015. _A community benchmark for viscoplastic thermal convection in a 2-D square box_.\n",
    "\n"
   ]
  },
  {
   "cell_type": "markdown",
   "metadata": {},
   "source": [
    "<!--bibtex\n",
    "\n",
    "@article{tosi2015community,\n",
    "  title={A community benchmark for viscoplastic thermal convection in a 2-D square box},\n",
    "  author={Tosi, Nicola and Stein, Claudia and Noack, Lena and H{\\\"u}ttig, Christian and Maierov{\\'a}, Petra and Samuel, Henri and Davies, DR and Wilson, CR and Kramer, SC and Thieulot, Cedric and others},\n",
    "  journal={Geochemistry, Geophysics, Geosystems},\n",
    "  year={2015},\n",
    "  publisher={Wiley Online Library}\n",
    "}\n",
    "\n",
    "... Other Bibtex entries go here.\n",
    "\n",
    "-->"
   ]
  }
 ],
 "metadata": {
  "kernelspec": {
   "display_name": "Python 2",
   "language": "python",
   "name": "python2"
  },
  "language_info": {
   "codemirror_mode": {
    "name": "ipython",
    "version": 2
   },
   "file_extension": ".py",
   "mimetype": "text/x-python",
   "name": "python",
   "nbconvert_exporter": "python",
   "pygments_lexer": "ipython2",
   "version": "2.7.10"
  }
 },
 "nbformat": 4,
 "nbformat_minor": 0
}
