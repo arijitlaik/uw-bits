{
 "cells": [
  {
   "cell_type": "markdown",
   "metadata": {},
   "source": [
    "This docuement has references enabled through Calico document, to download:\n",
    "\n",
    "    sudo ipython install-nbextension https://bitbucket.org/ipre/calico/downloads/calico-document-tools-1.0.zip\n",
    "\n",
    "Then run the cell below\n",
    "\n",
    "for more information, see\n",
    "http://jupyter.cs.brynmawr.edu/hub/dblank/public/Examples/Calico%20Document%20Tools%20and%20Bibtex.ipynb"
   ]
  },
  {
   "cell_type": "code",
   "execution_count": 1,
   "metadata": {
    "collapsed": false
   },
   "outputs": [
    {
     "data": {
      "application/javascript": [
       "IPython.load_extensions('calico-document-tools');"
      ],
      "text/plain": [
       "<IPython.core.display.Javascript object>"
      ]
     },
     "metadata": {},
     "output_type": "display_data"
    }
   ],
   "source": [
    "%%javascript\n",
    "IPython.load_extensions('calico-document-tools');"
   ]
  },
  {
   "cell_type": "markdown",
   "metadata": {},
   "source": [
    "#Review of scaling for free subduction"
   ]
  },
  {
   "cell_type": "markdown",
   "metadata": {},
   "source": [
    "This notebook describes a couple of different ways of scaling the athermal Stokes flow system. In particular, how dimensionless model time can be related to dimensional 'earth' time (length and mass being more trivial).\n",
    "\n",
    "First, I describe the way sclaing that I have used in recent, unpublished models\n",
    "\n",
    "Second, the way that Louis handled scaling in <a name=\"ref-1\"/>[(Moresi, Betts, Miller and Cayley, 2014)](#cite-moresi2014dynamics),\n",
    "\n",
    "Finally, I summarise the paramters used in <a name=\"ref-2\"/>[(OzBench et al., 2008)](#cite-ozbench2008model), with a view to replicating this model in Underworld's New Interface..."
   ]
  },
  {
   "cell_type": "markdown",
   "metadata": {},
   "source": [
    "#Background\n",
    "\n",
    "A typical scaling process for __thermal__-Stokes problems results from non-dimensionalisation of the system (or equivalently dimensional analysis.) In this case, the Stokes system (conservation of mass, momentum and energy) is shown to depend on the non-dimensional group of parameters called the Rayleigh number. In modelling a fluid system, one typically chooses a similar Rayleigh number (while individual dimensional paramters that enter the Rayleigh number may be altered any order of magnitude).\n",
    "\n",
    "The time scale for this 'scaled' system is typically the conductive timescale:\n",
    "\n",
    "\\begin{equation}t_s = L/\\kappa\\end{equation}\n",
    "\n",
    "To return the real or 'earth' time , the model time is multiplied by the time scale\n",
    "\n",
    "\\begin{equation}t_e = t_m \\times t_s \\end{equation}"
   ]
  },
  {
   "cell_type": "markdown",
   "metadata": {},
   "source": [
    "#Dan's approach for scaling athermal system\n",
    "\n",
    "\n",
    "For a purely momentum-mass system, the only dimensional paramters that have time dimensions are gravity and viscosity. \n",
    "\n",
    "Often, the scaling is derived from the so-called stokes velocity, which derives from the equilibrium velocity for a  buoyant object in the (low-Renolds number) fluid. The velocity (up to a constant) is:\n",
    "\n",
    "\\begin{equation}v_m = \\frac{\\triangle \\rho_m g L_m^2}{ \\eta_m}\\end{equation}\n",
    "\n",
    "Where $L_m$ is the representative length scale of the buoyant object, typically the radius of the sphere. As long as the  geometric, kinematic, and dynamic constaints are fulfilled,(e.g. Reynolds numbers $<< 1$), we can compare two systems as follows (using subscripts m and e for model and earth):\n",
    "\n",
    "\\begin{equation}\\frac{1}{v_m}\\frac{\\triangle \\rho_m g_m L_m^2}{\\eta_m} = \\frac{1}{v_e}\\frac{\\triangle \\rho_e g_e L_e^2}{\\eta_e} \\end{equation}\n",
    "\n",
    "or \n",
    "\n",
    "\\begin{equation}v_e =  v_m \\frac{   \\eta_m \\triangle \\rho_e g_e L_e^2}{\\eta_e \\triangle \\rho_m g_m L_m^2} \\end{equation}\n",
    "\n",
    "The model is assumed to be non-dimensional, as in the computational world, which simply involves the manipulation of pure numbers. The ratio of $_e/_m$ parameters in the equation are the dimensional scaling factors chosen to normalise the values in our model. Model times can be compared to earth times by:\n",
    "\n",
    "\\begin{equation}t_e =  t_m \\frac{\\eta_e \\triangle \\rho_m g_m L_m}{  \\eta_m \\triangle \\rho_e g_e L_e}\\end{equation}\n",
    "\n",
    "or \n",
    "\n",
    "\\begin{equation}t_e = t_m \\frac{\\eta_s}{ \\rho_s g_s L_s}\\end{equation}\n",
    "\n",
    "\n",
    "This scaling approach is also discussed in <a name=\"ref-3\"/>[(Pysklywec and Cruden, 2004)](#cite-Pysklywec_2004),<a name=\"ref-4\"/>[(Wilson, Spiegelman and vanKeken, 2013)](#cite-wilson2013terraferma),  and has been used extensively by the Underworld community, e.g. <a name=\"ref-5\"/>[(Schellart and Moresi, 2013)](#cite-Schellart_2013)\n",
    "\n",
    "\n",
    "I typically choose the following values for the 'scale factors':\n",
    "\n",
    "* $\\rho_s$ = 30 kg/ms\n",
    "* $L_s$ = 110000 m\n",
    "* $g_s$ = 10 m\n",
    "* $\\eta_s$ = 1.0e20\n",
    "\n",
    "Meaning that, in dimensionless model units, \n",
    "\n",
    "* $g_m$, $\\eta_{m(um)}$ ~ 1\n",
    "* $L_{m(um)}$ ~ 6\n",
    "* $\\Delta \\rho_m$ ~ 10"
   ]
  },
  {
   "cell_type": "markdown",
   "metadata": {},
   "source": [
    "##Moresi 2014\n",
    "\n",
    "The two cells below contain the working-out of a different scaling system the models in <a name=\"ref-6\"/>[(Moresi, Betts, Miller and Cayley, 2014)](#cite-moresi2014dynamics)(taken from supplementary data). This is a quasi-thermal approach where the timescale is ultimately related to the representative rock thermal diffusivity, even though the energy equation is not being solved. "
   ]
  },
  {
   "cell_type": "code",
   "execution_count": 8,
   "metadata": {
    "collapsed": false
   },
   "outputs": [],
   "source": [
    "import math\n",
    "# Age in Myr:                              timeMyrs\n",
    "# Oceanic crust thickness in km:           crustThickness\n",
    "# Cohesion in MPa:                         cohesion\n",
    "# Friction coefficient:                    frictionCoeff\n",
    "# Plume head top / base (km from surface): plumeTop / plumeBase               \n",
    "\n",
    "timeMyrs = 80.0\n",
    "crustThickness = 20\n",
    "cohesion = 12.5\n",
    "frictionCoeff = 0.066667\n",
    "\n",
    "plumeTop = 75   \n",
    "plumeBase = 75\n",
    "\n",
    "# \"constants\" & physical properties\n",
    "\n",
    "Myrs = 3600*24*365.25*1.0e6     # Convert seconds to Myr\n",
    "Kms = 1000.0                    # Convert m to km \n",
    "\n",
    "# Density in kg/m^3 \n",
    "\n",
    "basaltDensity   = 2900    # Oceanic crust (cold basalt)\n",
    "mantleDensity   = 3400    # (cold)  \n",
    "eclogiteDensity = 3500    # (cold)\n",
    "\n",
    "crustDensity = basaltDensity    # Oceanic crust choose which phase to use for oceanic crust density calculation\n",
    "\n",
    "gravAcc = 9.81         # gravitational Acceleration m/s^2\n",
    "\n",
    "# Thermal properties \n",
    "\n",
    "Tsurf    = 0.0         # Surface temperature in degrees C     \n",
    "Tint     = 1300.0      # Interior temperature in degrees C\n",
    "Tplume   = 1500.0      # Temperature of the plume head in degrees C\n",
    "\n",
    "TC2K = 273.0           # Kelvin <--> degrees C\n",
    "kappa = 1e-6           # Thermal diffusivity m^2/s\n",
    "alpha = 3.0e-5         # Therml expansivity in /K\n",
    "\n",
    "# Rheology (From Karato & Wu, 1993, assuming wet dislocation creep)\n",
    "\n",
    "E0 = 240000                                 # Activation energy (J/mol)\n",
    "V0 = mantleDensity * gravAcc * 5.0e-6 * 1.0 # Activation Volume (m^3/mol) - then scale with approx lithostatic pressure \n",
    "R0 = 8.314                                  # Gas constant\n",
    "\n",
    "# rheology & temperature profile\n",
    "\n",
    "def viscosity(T,P):\n",
    "    \"\"\" Arrhenius viscosity assuming absolute temperature T and pressure P \"\"\"\n",
    "    return math.exp((E0 + V0*P)/(R0*T))\n",
    "\n",
    "def hsct(depth,time):\n",
    "    \"\"\" Temperature for cooling half space (with Plume as over-ride) \"\"\"\n",
    "    T = Tsurf +(Tint-Tsurf) * math.erf(depth/(2*math.sqrt(time*kappa)))\n",
    "                                       \n",
    "    if depth < plumeBase*Kms and depth > plumeTop*Kms:\n",
    "        T = Tplume\n",
    "        \n",
    "    return T\n",
    "\n",
    "\n",
    "# Viscosities are normalised to Tint at base of the layers\n",
    "referenceViscosity = viscosity(Tint+TC2K,100*Kms);\n",
    "\n",
    "# Densities are normalised by delta rho mantle (Tint -> Tsurf)\n",
    "referenceDensityDifference = mantleDensity * (Tint-Tsurf) * alpha\n",
    "hotMantleDensity = mantleDensity - referenceDensityDifference\n",
    "plumeHeadMantleDensity = mantleDensity * (Tplume-Tsurf) * alpha"
   ]
  },
  {
   "cell_type": "code",
   "execution_count": 13,
   "metadata": {
    "collapsed": false
   },
   "outputs": [
    {
     "name": "stdout",
     "output_type": "stream",
     "text": [
      "length scale      1.00e+06\n",
      "time scale        1.00e+18\n",
      "viscosity scale   1.00e+20\n",
      "temperature scale 1.30e+03\n",
      "velocity scale    1.00e-12\n",
      "mass scale        1.00e+44\n",
      "density scale     1.00e+26\n",
      "gravity scale     1.00e-30\n",
      "stress scale      1.00e+02\n",
      "buoyancyReScale      1.30e+07\n",
      "Note:  g' = 9.81e+30 drho' = 1.326e-24\n",
      "For numerical stability we can cancel the density and gravity values as follows:\n",
      "-  set relative densities to 1 and gravity to 1.30e+07\n",
      "-  reset timeScale (Myr) 2.44e-03 (10000 -> 24.40 Myr)\n",
      "-  reset velocityScale (cm/yr) 4.10e+04 (0.0001 -> 4.10 cm/yr)\n"
     ]
    }
   ],
   "source": [
    "lengthScale = 1000 * Kms\n",
    "timeScale = lengthScale ** 2.0 / kappa\n",
    "viscosityScale = 1.0e20 \n",
    "temperatureScale = Tint - Tsurf\n",
    "\n",
    "# Scaling - 2) derived\n",
    "\n",
    "velocityScale = lengthScale / timeScale\n",
    "massScale = viscosityScale * lengthScale * timeScale\n",
    "densityScale = massScale / (lengthScale ** 3.0)\n",
    "gravityScale = lengthScale / (timeScale ** 2.0)\n",
    "stressScale = viscosityScale * velocityScale / lengthScale\n",
    "\n",
    "print 'length scale      {:.2e}'.format(lengthScale)\n",
    "print 'time scale        {:.2e}'.format(timeScale)\n",
    "print 'viscosity scale   {:.2e}'.format(viscosityScale)\n",
    "print 'temperature scale {:.2e}'.format(temperatureScale)\n",
    "\n",
    "print 'velocity scale    {:.2e}'.format(velocityScale)\n",
    "print 'mass scale        {:.2e}'.format(massScale)\n",
    "print 'density scale     {:.2e}'.format(densityScale)\n",
    "print 'gravity scale     {:.2e}'.format(gravityScale)\n",
    "print 'stress scale      {:.2e}'.format(stressScale)\n",
    "\n",
    "gprime = gravAcc / gravityScale\n",
    "drhoprime = (mantleDensity - hotMantleDensity) / densityScale\n",
    "buoyancyReScale = gprime * drhoprime\n",
    "\n",
    "print 'buoyancyReScale      {:.2e}'.format(buoyancyReScale)\n",
    "\n",
    "print 'Note:  g\\' = {} drho\\' = {}'.format(gprime, drhoprime) \n",
    "print 'For numerical stability we can cancel the density and gravity values as follows:'\n",
    "print '-  set relative densities to 1 and gravity to {:.2e}'.format(buoyancyReScale)\n",
    "print '-  reset timeScale (Myr) {:.2e} (10000 -> {:.2f} Myr)'.format(timeScale / (3.15e7 * 1.0e6 * buoyancyReScale), 10000.0 * timeScale / (3.15e7 * 1.0e6 * buoyancyReScale))\n",
    "print '-  reset velocityScale (cm/yr) {:.2e} (0.0001 -> {:.2f} cm/yr)'.format(velocityScale * 3.15e7 * 100 * buoyancyReScale, 0.0001 * velocityScale * 3.15e7 * 100 * buoyancyReScale)"
   ]
  },
  {
   "cell_type": "markdown",
   "metadata": {},
   "source": [
    "* I never really understood the last two steps, where Louis reset the velocity and timescale. \n",
    "* I implemented this scaling to a slab model and got very unrealistic times (scaled times)"
   ]
  },
  {
   "cell_type": "markdown",
   "metadata": {},
   "source": [
    "##Ozbench model\n",
    "\n",
    "See .../Underworld/InputFiles/+PublishedResults/OzBenchSubduction.xml\n",
    "###physical units used (dimensionless)\n",
    "\n",
    "* Domain = 6 * 6 * 1\n",
    "* gravity = 1.0\n",
    "* upper mantle viscosity = 1\n",
    "* lower mantle viscosity = 100\n",
    "* upper slab visocosity = 200.0\n",
    "* core slab viscosity = 2.0e4\n",
    "* lower slab viscosity = 200\n",
    "* vonMises upper (cohesion) = 0.06\n",
    "* vonMises lower (cohesion) = 0.06\n",
    "* slab density = 1.0\n",
    "* upper mantle density = 0.0\n",
    "* lower mantle density = 0.0\n",
    "\n",
    "###Model setup / numerical parameters\n",
    "* no. slab layers = 3\n",
    "* lower mantle = True\n",
    "* Dim = 3\n",
    "* elementResI = 96\n",
    "* elementResJ = 48\n",
    "* elementResK = 96\n",
    "* nonLinearMaxIterations =  25\n",
    "* particlesPerCell = 20\n"
   ]
  },
  {
   "cell_type": "markdown",
   "metadata": {},
   "source": [
    "#Final thoughts\n",
    "As Louis has pointed out to me, the uncertainty in upper mantle / asthenosphere viscosity might be on the order of an 1 order of magnitude. Meanwhile plate velocities (instaneous, as well as long-term-average) are much better constrained. His point is that the upper mantle viscocity should be treated as the unknown, while 'real' (earth) times are simply fixed to representative values, e.g a couple of million years for a portion of the slab to sink through the upper mantle. Nevertheless, the conversion between viscosity and timescales is still non-unique, as the examples above demonstrate.\n",
    "\n",
    "###Length scales\n",
    "\n",
    "It is fairly typical in Underworld subduction models to use a vertical model domain length of 1, representing 1000 km in earth. This means that typical old lithsophere is about 0.1 model units wide. \n",
    "\n",
    "I chose a length scaling based on the 1 model unit being equal to 1 unit of longitude at the equator (111 km). I like this scaling partly because you doen have to use s many small numbers when dealing the lithsohere (i.e, the lithsohere thickness is ~ 1 unit), an also becaus you the 660 km discontinuity can be enforced at 6 model units beneath the surface. I also think that this scaling convenction might to an easier transition to spherical coordinates. \n",
    "\n",
    "###Densities\n",
    "\n",
    "Should we ever use zero density? As in the Ozbench model, it has been common to set the upper mantle density to zero in Underworld subduction models (and furthermore to use a uniform lithospher density of 1). Numerically, this is fine, but one problem with this is that typcal crust is lighter than typical upper mantle peridotite. So if you want to resolve the crust, an you use this scaling, crustal densities should be negative. Using zero densities for materials seems to result in zero (increase) in lithostatic pressure throughout these domains, which has implications for any pressure dependent rheologies we might want to explore. \n",
    "\n",
    "Instead of this, I used an arbitrary density value of say ~2500 kg/m3 to 'normalize' my model densities, given that this is typically lighter than any rock values that might be expected to have a significant effect on subduction. Hence keeping all density values positive. Futher review of this may be needed after more experimentation with 'sticky' air models. "
   ]
  },
  {
   "cell_type": "markdown",
   "metadata": {},
   "source": [
    "<!--bibtex\n",
    "\n",
    "@article{Pysklywec_2004,\n",
    "  doi = {10.1029/2004gc000748},\n",
    "  url = {http://dx.doi.org/10.1029/2004gc000748},\n",
    "  year = {2004},\n",
    "  month = {oct},\n",
    "  publisher = {Wiley-Blackwell},\n",
    "  volume = {5},\n",
    "  number = {10},\n",
    "  pages = {n/a--n/a},\n",
    "  author = {Pysklywec, Russell N and Cruden, Alexander R},\n",
    "  title = {{Coupled crust-mantle dynamics and intraplate tectonics: Two-dimensional numerical and three-dimensional analogue modeling}},\n",
    "  journal = {Geochemistry Geophysics, Geosystems},\n",
    "}\n",
    "\n",
    "@article{Schellart_2013,\n",
    "  doi = {10.1002/jgrb.50173},\n",
    "  url = {http://dx.doi.org/10.1002/jgrb.50173},\n",
    "  year = {2013},\n",
    "  month = {jun},\n",
    "  publisher = {Wiley-Blackwell},\n",
    "  volume = {118},\n",
    "  number = {6},\n",
    "  pages = {3221--3248},\n",
    "  author = {Schellart, Wouter P and Moresi, Louis},\n",
    "  title = {{A new driving mechanism for backarc extension and backarc shortening through slab sinking induced toroidal and poloidal mantle flow: Results from dynamic subduction models with an overriding plate}},\n",
    "  journal = {J. Geophys. Res. Solid Earth},\n",
    "}\n",
    "\n",
    "\n",
    "@article{wilson2013terraferma,\n",
    "  title = {{TerraFERMA: The transparent finite element rapid model assembler for multiphysics problems in earth sciences}},\n",
    "  author = {Wilson, Cian R and Spiegelman, Marc and van Keken, Peter E},\n",
    "  journal = {Geochem. Geophys. Geosyst., submitted},\n",
    "  year = {2013},\n",
    "}\n",
    "\n",
    "@article{moresi2014dynamics,\n",
    "  title={Dynamics of continental accretion},\n",
    "  author={Moresi, Louus and Betts, Pete G and Miller, Meghan S and Cayley, Ross A},\n",
    "  journal={Nature},\n",
    "  volume={508},\n",
    "  number={7495},\n",
    "  pages={245--248},\n",
    "  year={2014},\n",
    "  publisher={Nature Publishing Group}\n",
    "}\n",
    "\n",
    "@article{ozbench2008model,\n",
    "  title={A model comparison study of large-scale mantle--lithosphere dynamics driven by subduction},\n",
    "  author={OzBench, Mark and Regenauer-Lieb, Klaus and Stegman, Dave R and Morra, Gabriele and Farrington, Rebecca and Hale, Alina and May, Dave A and Freeman, Justin and Bourgouin, Laurent and M{\\\"u}hlhaus, Hans and others},\n",
    "  journal={Physics of the Earth and Planetary Interiors},\n",
    "  volume={171},\n",
    "  number={1},\n",
    "  pages={224--234},\n",
    "  year={2008},\n",
    "  publisher={Elsevier}\n",
    "}\n",
    "\n",
    "\n",
    "-->"
   ]
  },
  {
   "cell_type": "code",
   "execution_count": null,
   "metadata": {
    "collapsed": true
   },
   "outputs": [],
   "source": []
  },
  {
   "cell_type": "markdown",
   "metadata": {},
   "source": [
    "#References\n",
    "\n",
    "<a name=\"cite-moresi2014dynamics\"/><sup>[^](#ref-1) [^](#ref-6) </sup>Moresi, Louus and Betts, Pete G and Miller, Meghan S and Cayley, Ross A. 2014. _Dynamics of continental accretion_.\n",
    "\n",
    "<a name=\"cite-ozbench2008model\"/><sup>[^](#ref-2) </sup>OzBench, Mark and Regenauer-Lieb, Klaus and Stegman, Dave R and Morra, Gabriele and Farrington, Rebecca and Hale, Alina and May, Dave A and Freeman, Justin and Bourgouin, Laurent and M&uuml;hlhaus, Hans and others. 2008. _A model comparison study of large-scale mantle--lithosphere dynamics driven by subduction_.\n",
    "\n",
    "<a name=\"cite-Pysklywec_2004\"/><sup>[^](#ref-3) </sup>Pysklywec, Russell N and Cruden, Alexander R. 2004. _Coupled crust-mantle dynamics and intraplate tectonics: Two-dimensional numerical and three-dimensional analogue modeling_. [URL](http://dx.doi.org/10.1029/2004gc000748)\n",
    "\n",
    "<a name=\"cite-wilson2013terraferma\"/><sup>[^](#ref-4) </sup>Wilson, Cian R and Spiegelman, Marc and van Keken, Peter E. 2013. _TerraFERMA: The transparent finite element rapid model assembler for multiphysics problems in earth sciences_.\n",
    "\n",
    "<a name=\"cite-Schellart_2013\"/><sup>[^](#ref-5) </sup>Schellart, Wouter P and Moresi, Louis. 2013. _A new driving mechanism for backarc extension and backarc shortening through slab sinking induced toroidal and poloidal mantle flow: Results from dynamic subduction models with an overriding plate_. [URL](http://dx.doi.org/10.1002/jgrb.50173)\n",
    "\n"
   ]
  }
 ],
 "metadata": {
  "kernelspec": {
   "display_name": "Python 2",
   "language": "python",
   "name": "python2"
  },
  "language_info": {
   "codemirror_mode": {
    "name": "ipython",
    "version": 2
   },
   "file_extension": ".py",
   "mimetype": "text/x-python",
   "name": "python",
   "nbconvert_exporter": "python",
   "pygments_lexer": "ipython2",
   "version": "2.7.10"
  }
 },
 "nbformat": 4,
 "nbformat_minor": 0
}
