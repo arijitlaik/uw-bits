{
 "cells": [
  {
   "cell_type": "code",
   "execution_count": 331,
   "metadata": {
    "collapsed": true
   },
   "outputs": [],
   "source": [
    "# %load scripts/myarray.py\n",
    "from numpy import *\n",
    "\n",
    "# a small set of helper functions to\n",
    "# call common array creation functions\n",
    "# these are useful to ensure that\n",
    "# all arrays are created as double-precision\n",
    "# floats, no matter what data are provided\n",
    "# as argument. For example array([1,3,4]) normally returns\n",
    "# an array with data of type int, but arrayf([1,3,4])\n",
    "# always creates an array of floats \n",
    "\n",
    "kFloatType = float64\n",
    "\n",
    "def arrayf( arg ):\n",
    "    return array( arg, kFloatType )\n",
    "def asarrayf( arg ):\n",
    "    return asarray( arg, kFloatType )\n",
    "def zerosf( arg ):\n",
    "    return zeros( arg, kFloatType )\n",
    "def identityf( arg ):\n",
    "    return identity( arg, kFloatType )\n",
    "def emptyf( arg ):\n",
    "    return empty( arg, kFloatType )\n"
   ]
  },
  {
   "cell_type": "code",
   "execution_count": 334,
   "metadata": {
    "collapsed": false
   },
   "outputs": [
    {
     "name": "stdout",
     "output_type": "stream",
     "text": [
      "===== test1() =====\n",
      "p.shape: (3, 2)\n",
      "p undeformed: [[ 0.  0.]\n",
      " [ 1.  0.]\n",
      " [ 2.  0.]]\n",
      "edges: [(0, 1), (1, 2)]\n",
      "edge_rest_lengths: [1.0, 1.0]\n",
      "constraints: [(0, array([ 0.,  0.])), (2, array([ 2.,  0.]))]\n",
      "p initial: [[ 0.   0. ]\n",
      " [ 1.5  0. ]\n",
      " [ 2.   0. ]]\n",
      "-- iteration 0 --\n",
      "| F( p_n ) |^2: 1.5\n",
      "| p_n+1 - p_n |^2: 0.25\n",
      "-- iteration 1 --\n",
      "| F( p_n ) |^2: 0.0\n",
      "static solution: [[ 0.  0.]\n",
      " [ 1.  0.]\n",
      " [ 2.  0.]]\n"
     ]
    }
   ],
   "source": [
    "# %load scripts/springs.py\n",
    "from numpy import *\n",
    "#from myarray import *\n",
    "\n",
    "## This is the spring constant\n",
    "k = 1.\n",
    "\n",
    "## This is our threshold for whether a number is approximately zero.\n",
    "ZERO_THRESHOLD = 1e-8\n",
    "\n",
    "def F_ij( p_i, p_j, r_ij ):\n",
    "    '''\n",
    "    Returns the force of the spring from 'p_i' to 'p_j' with rest length 'r_ij' acting on 'p_i'.\n",
    "    Note that F_ij( p_i, p_j, r_ij ) equals -F_ij( p_j, p_i, r_ij ).\n",
    "    '''\n",
    "\n",
    "    p_ij = p_i - p_j\n",
    "    len_p_ij = sqrt( sum( p_ij ** 2 ) )\n",
    "\n",
    "    if abs( len_p_ij ) < ZERO_THRESHOLD:\n",
    "        result = 0. * p_ij\n",
    "    else:\n",
    "        result = -k * ( len_p_ij - r_ij ) / len_p_ij * p_ij\n",
    "\n",
    "    return result\n",
    "\n",
    "def F( p, edges, edges_rest_lengths ):\n",
    "    '''\n",
    "    Returns a vector containing the force at every point.\n",
    "    Note that the input 'p' is assumed to be a number-of-points by dimension array, where\n",
    "    dimension is 2 for our example.  The result is flattened into a single vector\n",
    "    of size number-of-points times dimension.\n",
    "    '''\n",
    "\n",
    "    dim = p.shape[1]\n",
    "\n",
    "    Fp = zerosf( prod( p.shape ) )\n",
    "\n",
    "    ## Loop over every edge and its corresponding rest length.\n",
    "    ## (zip() simply combines two lists into one so we can loop over them together.)\n",
    "    for (i,j), r_ij in zip( edges, edges_rest_lengths ):\n",
    "        assert i != j\n",
    "\n",
    "        Fij = F_ij( p[i], p[j], r_ij )\n",
    "\n",
    "        Fp[ i*dim : (i+1) * dim ] += Fij\n",
    "        ## 'edges' contains edges uniquely, so 'edges' will contain (i,j) but not (j,i).\n",
    "        ## This means that we must add -Fij to row j as well as Fij to row i.\n",
    "        Fp[ j*dim : (j+1) * dim ] += -Fij\n",
    "\n",
    "    return Fp\n",
    "\n",
    "def dF_ij_d_p_i( p_i, p_j, r_ij ):\n",
    "    '''\n",
    "    Returns the derivative with respect to 'p_i' of the force of the spring\n",
    "    from 'p_i' to 'p_j' with rest length 'r_ij' acting on 'p_i'.\n",
    "    Our dimension is 2, so this is a 2x2 quantity.\n",
    "    Note that dF_ij_d_p_i( p_i, p_j, r_ij ) equals dF_ij_d_p_i( p_j, p_i, r_ij ).\n",
    "    '''\n",
    "\n",
    "    dim = p_i.shape[0]\n",
    "\n",
    "    p_ij = p_i - p_j\n",
    "    len_p_ij = sqrt( sum( p_ij ** 2 ) )\n",
    "    if abs( len_p_ij ) < ZERO_THRESHOLD:\n",
    "        result = -k * identity( dim )\n",
    "    else:\n",
    "        result = -k * identity( dim ) - k * r_ij / len_p_ij**3 * outer( p_ij, p_ij ) + k * r_ij / len_p_ij * identity( dim )\n",
    "    return result\n",
    "\n",
    "def J( p, edges, edges_rest_lengths ):\n",
    "    '''\n",
    "    Returns a matrix containing the derivative of the force at every point with respect to each point.\n",
    "    Note that the input 'p' is assumed to be a number-of-points by dimension array, where\n",
    "    dimension is 2 for our example.\n",
    "    The result is flattened is a square matrix (of type numpy.array), of size NxN, where\n",
    "    N = number-of-points times dimension.\n",
    "    '''\n",
    "\n",
    "    dim = p.shape[1]\n",
    "\n",
    "    Jp = zerosf( ( prod( p.shape ), prod( p.shape ) ) )\n",
    "\n",
    "    ## Loop over every edge and its corresponding rest length.\n",
    "    ## (zip() simply combines two lists into one so we can loop over them together.)\n",
    "    for (i,j), r_ij in zip( edges, edges_rest_lengths ):\n",
    "        assert i != j\n",
    "\n",
    "        dF = dF_ij_d_p_i( p[i], p[j], r_ij )\n",
    "        assert ( ( Jp[ i*dim : (i+1) * dim, j*dim : (j+1) * dim ] - zeros( ( dim, dim ) ) ) ** 2 ).sum().sum() == 0.\n",
    "\n",
    "        Jp[ i*dim : (i+1) * dim, j*dim : (j+1) * dim ] = -dF\n",
    "        Jp[ i*dim : (i+1) * dim, i*dim : (i+1) * dim ] += dF\n",
    "        ## 'edges' contains edges uniquely, so 'edges' will contain (i,j) but not (j,i).\n",
    "        ## This means that we must add dF to the right places in column j as well.\n",
    "        Jp[ j*dim : (j+1) * dim, i*dim : (i+1) * dim ] = -dF\n",
    "        Jp[ j*dim : (j+1) * dim, j*dim : (j+1) * dim ] += dF\n",
    "\n",
    "    return Jp\n",
    "\n",
    "def constrain_system( A, rhs, rows ):\n",
    "    '''\n",
    "    This function modifies its input parameters, a system matrix 'A' and\n",
    "    right-hand-side vector 'rhs', such that for every index i in 'rows',\n",
    "    the row i of A is set to row i of the identity matrix and rhs[i] is set to zero.\n",
    "    '''\n",
    "\n",
    "    for i in rows:\n",
    "        A[ i, : ] = zeros( A.shape[1] )\n",
    "        ## We can also zero the column, which keeps the matrix symmetric, because\n",
    "        ## we are zeroing the corresponding entries in the right-hand-side (x*0 = 0).\n",
    "        A[ :, i ] = zeros( A.shape[0] )\n",
    "        A[ i, i ] = 1\n",
    "        rhs[i] = 0\n",
    "\n",
    "    return A, rhs\n",
    "\n",
    "def static_solution( p, edges, edges_rest_lengths, constraints, verbose = True ):\n",
    "    '''\n",
    "    Given a list of points 'p' as an n-by-2 array, a list of (i,j) pairs 'edges' denoting an edge\n",
    "    between points p[i] and p[j], a list of rest lengths (one for each edge in 'edges'),\n",
    "    and a list of position constraints (i, position) denoting p[i] = position,\n",
    "    uses Newton's method to solve for the positions where the forces are all zero.\n",
    "\n",
    "    NOTE: 'edges' must not have both (i,j) and (j,i)\n",
    "    '''\n",
    "\n",
    "    XSTEP_THRESHOLD = 1e-5\n",
    "    F_THRESHOLD = 1e-8\n",
    "    MAX_ITERATIONS = 100\n",
    "\n",
    "    p_n = p.copy().flatten()\n",
    "    dim = p.shape[1]\n",
    "\n",
    "    constrain_rows = []\n",
    "    for i, p_val in constraints:\n",
    "        p_n[ i*dim : (i+1) * dim ] = p_val\n",
    "        constrain_rows.extend( range( i*dim, (i+1) * dim ) )\n",
    "\n",
    "    iteration = 0\n",
    "    while True:\n",
    "        if verbose: print '-- iteration', iteration, '--'\n",
    "        iteration += 1\n",
    "\n",
    "        Jp_n = J( p_n.reshape( p.shape ), edges, edges_rest_lengths )\n",
    "        Fp_n = F( p_n.reshape( p.shape ), edges, edges_rest_lengths )\n",
    "        mag2_Fp_n = sum( Fp_n ** 2 )\n",
    "        if verbose: print '| F( p_n ) |^2:', mag2_Fp_n\n",
    "        if mag2_Fp_n < F_THRESHOLD: break\n",
    "\n",
    "        constrain_system( Jp_n, Fp_n, constrain_rows )\n",
    "\n",
    "        # p_n_p_1 = p_n - dot( linalg.inv( Jp_n ), Fp_n )\n",
    "        ## <=> p_n_p_1 - p_n = -linalg.inv( Jp_n ) * Fp_n\n",
    "        ## <=> p_n - p_n_p_1 = linalg.inv( Jp_n ) * Fp_n\n",
    "        ## <=> Jp_n * ( p_n - p_n_p_1 ) = Fp_n\n",
    "        p_negative_delta = linalg.solve( Jp_n, Fp_n )\n",
    "        ## p_n - ( p_n - p_n_p_1 ) = p_n_p_1\n",
    "        p_n_p_1 = p_n - p_negative_delta\n",
    "\n",
    "        diff2 = sum( ( p_n_p_1 - p_n ) ** 2 )\n",
    "        if verbose: print '| p_n+1 - p_n |^2:', diff2\n",
    "        p_n = p_n_p_1\n",
    "        if diff2 < XSTEP_THRESHOLD: break\n",
    "\n",
    "        if iteration >= MAX_ITERATIONS:\n",
    "            print 'Diverged.'\n",
    "            return p.copy()\n",
    "            break\n",
    "\n",
    "    return p_n.reshape( p.shape )\n",
    "\n",
    "def compute_edge_lengths( p, edges ):\n",
    "    '''\n",
    "    Given a list of (i,j) pairs 'edges' denoting an edge between points p[i] and p[j],\n",
    "    returns a list of rest lengths, one for each edge in 'edges'.\n",
    "\n",
    "    NOTE: 'edges' must not have both (i,j) and (j,i)\n",
    "    '''\n",
    "\n",
    "    ## Check for duplicate edges, which are forbidden.\n",
    "    edges = tuple( map( tuple, edges ) )\n",
    "    from sets import ImmutableSet as Set\n",
    "    assert len( Set( map( Set, edges ) ) ) == len( edges )\n",
    "\n",
    "    result = []\n",
    "    for i,j in edges:\n",
    "        len_p_ij = sqrt( sum( (p[i] - p[j]) ** 2 ) )\n",
    "        result.append( len_p_ij )\n",
    "\n",
    "    return result\n",
    "\n",
    "def test1():\n",
    "    print '===== test1() ====='\n",
    "\n",
    "    #p_undeformed = arrayf( [[0,0], [1,1]] )\n",
    "    #p_undeformed = arrayf( [[0,0], [1,0], [1,1]] )\n",
    "    #p_undeformed = arrayf( [[0,0], [1,0], [0,1], [1,1]] )\n",
    "    p_undeformed = arrayf( [[0,0], [1,0], [2,0]] )\n",
    "    print 'p.shape:', p_undeformed.shape\n",
    "    print 'p undeformed:', p_undeformed\n",
    "\n",
    "    #edges = [ (0,1) ]\n",
    "    edges = [ (0,1), (1,2) ]\n",
    "    #edges = [ (0,1), (0,2), (1,3), (2,3) ]\n",
    "    print 'edges:', edges\n",
    "    ## Multiply p_undeformed by 0 to force 0 rest length springs\n",
    "    #edge_rest_lengths = compute_edge_lengths( 0 * p_undeformed, edges )\n",
    "    edge_rest_lengths = compute_edge_lengths( p_undeformed, edges )\n",
    "    print 'edge_rest_lengths:', edge_rest_lengths\n",
    "\n",
    "    #constraints = [ ( 0, p_undeformed[0] ) ]\n",
    "    #constraints = [ ( 0, p_undeformed[0] ), ( 3, p_undeformed[3] ) ]\n",
    "    constraints = [ ( 0, p_undeformed[0] ), ( 2, p_undeformed[2] ) ]\n",
    "    print 'constraints:', constraints\n",
    "\n",
    "    p_initial = p_undeformed.copy()\n",
    "    p_initial[1] += array( (.5,0) )\n",
    "    print 'p initial:', p_initial\n",
    "    p_solution = static_solution( p_initial, edges, edge_rest_lengths, constraints )\n",
    "    print 'static solution:', p_solution\n",
    "\n",
    "def main():\n",
    "    test1()\n",
    "\n",
    "if __name__ == '__main__': main()\n"
   ]
  },
  {
   "cell_type": "code",
   "execution_count": 335,
   "metadata": {
    "collapsed": true
   },
   "outputs": [],
   "source": [
    "##Helper function to get node neighbours\n",
    "\n",
    "def node_neighbours(mesh):\n",
    "    nodes = mesh.data_nodegId.reshape(mesh.elementRes[0] +1, mesh.elementRes[1] +1)\n",
    "    testlist = []\n",
    "    for index, value in np.ndenumerate(nodes):\n",
    "        #print index, value\n",
    "        #####Get x neighbour:\n",
    "        if index[0] + 1 < nodes.shape[0]:\n",
    "            testlist.append((nodes[index], nodes[(index[0] + 1),index[1] ])) #Add in the X direction\n",
    "        #####Get Y neighbour:\n",
    "        if index[1] + 1 < nodes.shape[1]:\n",
    "            testlist.append((nodes[index], nodes[index[0], (index[1]+ 1) ])) #Add in the X direction\n",
    "    return testlist"
   ]
  },
  {
   "cell_type": "code",
   "execution_count": 336,
   "metadata": {
    "collapsed": true
   },
   "outputs": [],
   "source": [
    "import underworld as uw\n",
    "import glucifer\n",
    "import numpy as np"
   ]
  },
  {
   "cell_type": "code",
   "execution_count": 337,
   "metadata": {
    "collapsed": true
   },
   "outputs": [],
   "source": [
    "\n",
    "mesh = uw.mesh.FeMesh_Cartesian( elementType = (\"Q1/dQ0\"), \n",
    "                                 elementRes  = (10, 10), \n",
    "                                 minCoord    = (0., 0.), \n",
    "                                 maxCoord    = (1., 1.))"
   ]
  },
  {
   "cell_type": "code",
   "execution_count": 338,
   "metadata": {
    "collapsed": false
   },
   "outputs": [
    {
     "data": {
      "text/html": [
       "<img src='data:image/png;base64,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'>"
      ],
      "text/plain": [
       "<IPython.core.display.HTML object>"
      ]
     },
     "execution_count": 338,
     "metadata": {},
     "output_type": "execute_result"
    }
   ],
   "source": [
    "figMesh = glucifer.Figure(figsize=(1200,600),antialias=1)\n",
    "#figMesh.append( glucifer.objects.Mesh(mesh.subMesh, nodeNumbers=True) )\n",
    "figMesh.append( glucifer.objects.Mesh(mesh) )\n",
    "figMesh.show()"
   ]
  },
  {
   "cell_type": "code",
   "execution_count": 339,
   "metadata": {
    "collapsed": false
   },
   "outputs": [],
   "source": [
    "p_undeformed = mesh.data.copy()\n",
    "#p_undeformed"
   ]
  },
  {
   "cell_type": "code",
   "execution_count": 340,
   "metadata": {
    "collapsed": false
   },
   "outputs": [],
   "source": [
    "#Get a list of edges (egde represented by a tuple of nodes)\n",
    "edges = node_neighbours(mesh)"
   ]
  },
  {
   "cell_type": "code",
   "execution_count": 341,
   "metadata": {
    "collapsed": false
   },
   "outputs": [],
   "source": [
    "#constraints - boundary nodes...\n",
    "\n",
    "Walls = mesh.specialSets[\"MinI_VertexSet\"] + mesh.specialSets[\"MaxI_VertexSet\"] + \\\n",
    "    mesh.specialSets[\"MinJ_VertexSet\"] + mesh.specialSets[\"MaxJ_VertexSet\"]\n",
    "\n",
    "constraints = mesh.data[Walls.data,:] #is there a cleaner way to extract these?"
   ]
  },
  {
   "cell_type": "code",
   "execution_count": 342,
   "metadata": {
    "collapsed": false
   },
   "outputs": [],
   "source": [
    "#Get uniform edge_rest_lengths array from mesh\n",
    "edge_rest_lengths = compute_edge_lengths(p_undeformed, edges)\n"
   ]
  },
  {
   "cell_type": "code",
   "execution_count": 344,
   "metadata": {
    "collapsed": false
   },
   "outputs": [],
   "source": [
    "#Perturb the equilibrium sring length in the x direction \n",
    "\n",
    "for index, value in enumerate(edges):\n",
    "    #print index, value\n",
    "    upper_node = max(value)\n",
    "    edge_rest_lengths[index] += (0.5*edge_rest_lengths[0]*mesh.data[upper_node, 0])"
   ]
  },
  {
   "cell_type": "code",
   "execution_count": 345,
   "metadata": {
    "collapsed": true
   },
   "outputs": [],
   "source": [
    "p_initial = p_undeformed.copy()"
   ]
  },
  {
   "cell_type": "code",
   "execution_count": 346,
   "metadata": {
    "collapsed": false
   },
   "outputs": [],
   "source": [
    "#constraints = mesh\n",
    "\n",
    "Walls = mesh.specialSets['AllWalls_VertexSet']\n",
    "constraints = mesh.data[Walls.data,:] #is there a cleaner way to extract these?\n",
    "constraints = zip(Walls, constraints)"
   ]
  },
  {
   "cell_type": "code",
   "execution_count": 351,
   "metadata": {
    "collapsed": false
   },
   "outputs": [
    {
     "name": "stdout",
     "output_type": "stream",
     "text": [
      "-- iteration 0 --\n",
      "| F( p_n ) |^2: 0.0495\n",
      "| p_n+1 - p_n |^2: 0.307565917517\n",
      "-- iteration 1 --\n",
      "| F( p_n ) |^2: 0.0407307376143\n",
      "| p_n+1 - p_n |^2: 0.00244135502326\n",
      "-- iteration 2 --\n",
      "| F( p_n ) |^2: 0.038016380476\n",
      "| p_n+1 - p_n |^2: 0.000202835105385\n",
      "-- iteration 3 --\n",
      "| F( p_n ) |^2: 0.0382770893657\n",
      "| p_n+1 - p_n |^2: 2.79825349303e-06\n"
     ]
    }
   ],
   "source": [
    "p_solution = static_solution( p_initial, edges, edge_rest_lengths, constraints )\n",
    "#p_solution"
   ]
  },
  {
   "cell_type": "code",
   "execution_count": 352,
   "metadata": {
    "collapsed": true
   },
   "outputs": [],
   "source": [
    "with mesh.deform_mesh():\n",
    "    mesh.data[:] = p_solution[:]"
   ]
  },
  {
   "cell_type": "code",
   "execution_count": 353,
   "metadata": {
    "collapsed": false
   },
   "outputs": [
    {
     "data": {
      "text/html": [
       "<img src='data:image/png;base64,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'>"
      ],
      "text/plain": [
       "<IPython.core.display.HTML object>"
      ]
     },
     "execution_count": 353,
     "metadata": {},
     "output_type": "execute_result"
    }
   ],
   "source": [
    "figMesh.show()"
   ]
  },
  {
   "cell_type": "code",
   "execution_count": null,
   "metadata": {
    "collapsed": true
   },
   "outputs": [],
   "source": []
  }
 ],
 "metadata": {
  "kernelspec": {
   "display_name": "Python 2",
   "language": "python",
   "name": "python2"
  },
  "language_info": {
   "codemirror_mode": {
    "name": "ipython",
    "version": 2
   },
   "file_extension": ".py",
   "mimetype": "text/x-python",
   "name": "python",
   "nbconvert_exporter": "python",
   "pygments_lexer": "ipython2",
   "version": "2.7.11"
  }
 },
 "nbformat": 4,
 "nbformat_minor": 0
}
