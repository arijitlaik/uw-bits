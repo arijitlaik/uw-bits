{
 "cells": [
  {
   "cell_type": "code",
   "execution_count": 36,
   "metadata": {
    "collapsed": false
   },
   "outputs": [
    {
     "ename": "ImportError",
     "evalue": "dlopen(/Users/dansandiford/anaconda/lib/python2.7/site-packages/matplotlib/_png.so, 2): Library not loaded: @loader_path/../../../libpng15.15.dylib\n  Referenced from: /Users/dansandiford/anaconda/lib/python2.7/site-packages/matplotlib/_png.so\n  Reason: image not found",
     "output_type": "error",
     "traceback": [
      "\u001b[0;31m---------------------------------------------------------------------------\u001b[0m",
      "\u001b[0;31mImportError\u001b[0m                               Traceback (most recent call last)",
      "\u001b[0;32m<ipython-input-36-859ca650b38e>\u001b[0m in \u001b[0;36m<module>\u001b[0;34m()\u001b[0m\n\u001b[1;32m      6\u001b[0m \u001b[0;32mimport\u001b[0m \u001b[0mos\u001b[0m\u001b[0;34m\u001b[0m\u001b[0m\n\u001b[1;32m      7\u001b[0m \u001b[0;32mimport\u001b[0m \u001b[0mmath\u001b[0m\u001b[0;34m\u001b[0m\u001b[0m\n\u001b[0;32m----> 8\u001b[0;31m \u001b[0mget_ipython\u001b[0m\u001b[0;34m(\u001b[0m\u001b[0;34m)\u001b[0m\u001b[0;34m.\u001b[0m\u001b[0mmagic\u001b[0m\u001b[0;34m(\u001b[0m\u001b[0;34mu'pylab inline'\u001b[0m\u001b[0;34m)\u001b[0m\u001b[0;34m\u001b[0m\u001b[0m\n\u001b[0m",
      "\u001b[0;32m/Users/dansandiford/anaconda/lib/python2.7/site-packages/IPython/core/interactiveshell.pyc\u001b[0m in \u001b[0;36mmagic\u001b[0;34m(self, arg_s)\u001b[0m\n\u001b[1;32m   2161\u001b[0m         \u001b[0mmagic_name\u001b[0m\u001b[0;34m,\u001b[0m \u001b[0m_\u001b[0m\u001b[0;34m,\u001b[0m \u001b[0mmagic_arg_s\u001b[0m \u001b[0;34m=\u001b[0m \u001b[0marg_s\u001b[0m\u001b[0;34m.\u001b[0m\u001b[0mpartition\u001b[0m\u001b[0;34m(\u001b[0m\u001b[0;34m' '\u001b[0m\u001b[0;34m)\u001b[0m\u001b[0;34m\u001b[0m\u001b[0m\n\u001b[1;32m   2162\u001b[0m         \u001b[0mmagic_name\u001b[0m \u001b[0;34m=\u001b[0m \u001b[0mmagic_name\u001b[0m\u001b[0;34m.\u001b[0m\u001b[0mlstrip\u001b[0m\u001b[0;34m(\u001b[0m\u001b[0mprefilter\u001b[0m\u001b[0;34m.\u001b[0m\u001b[0mESC_MAGIC\u001b[0m\u001b[0;34m)\u001b[0m\u001b[0;34m\u001b[0m\u001b[0m\n\u001b[0;32m-> 2163\u001b[0;31m         \u001b[0;32mreturn\u001b[0m \u001b[0mself\u001b[0m\u001b[0;34m.\u001b[0m\u001b[0mrun_line_magic\u001b[0m\u001b[0;34m(\u001b[0m\u001b[0mmagic_name\u001b[0m\u001b[0;34m,\u001b[0m \u001b[0mmagic_arg_s\u001b[0m\u001b[0;34m)\u001b[0m\u001b[0;34m\u001b[0m\u001b[0m\n\u001b[0m\u001b[1;32m   2164\u001b[0m \u001b[0;34m\u001b[0m\u001b[0m\n\u001b[1;32m   2165\u001b[0m     \u001b[0;31m#-------------------------------------------------------------------------\u001b[0m\u001b[0;34m\u001b[0m\u001b[0;34m\u001b[0m\u001b[0m\n",
      "\u001b[0;32m/Users/dansandiford/anaconda/lib/python2.7/site-packages/IPython/core/interactiveshell.pyc\u001b[0m in \u001b[0;36mrun_line_magic\u001b[0;34m(self, magic_name, line)\u001b[0m\n\u001b[1;32m   2082\u001b[0m                 \u001b[0mkwargs\u001b[0m\u001b[0;34m[\u001b[0m\u001b[0;34m'local_ns'\u001b[0m\u001b[0;34m]\u001b[0m \u001b[0;34m=\u001b[0m \u001b[0msys\u001b[0m\u001b[0;34m.\u001b[0m\u001b[0m_getframe\u001b[0m\u001b[0;34m(\u001b[0m\u001b[0mstack_depth\u001b[0m\u001b[0;34m)\u001b[0m\u001b[0;34m.\u001b[0m\u001b[0mf_locals\u001b[0m\u001b[0;34m\u001b[0m\u001b[0m\n\u001b[1;32m   2083\u001b[0m             \u001b[0;32mwith\u001b[0m \u001b[0mself\u001b[0m\u001b[0;34m.\u001b[0m\u001b[0mbuiltin_trap\u001b[0m\u001b[0;34m:\u001b[0m\u001b[0;34m\u001b[0m\u001b[0m\n\u001b[0;32m-> 2084\u001b[0;31m                 \u001b[0mresult\u001b[0m \u001b[0;34m=\u001b[0m \u001b[0mfn\u001b[0m\u001b[0;34m(\u001b[0m\u001b[0;34m*\u001b[0m\u001b[0margs\u001b[0m\u001b[0;34m,\u001b[0m\u001b[0;34m**\u001b[0m\u001b[0mkwargs\u001b[0m\u001b[0;34m)\u001b[0m\u001b[0;34m\u001b[0m\u001b[0m\n\u001b[0m\u001b[1;32m   2085\u001b[0m             \u001b[0;32mreturn\u001b[0m \u001b[0mresult\u001b[0m\u001b[0;34m\u001b[0m\u001b[0m\n\u001b[1;32m   2086\u001b[0m \u001b[0;34m\u001b[0m\u001b[0m\n",
      "\u001b[0;32m<decorator-gen-107>\u001b[0m in \u001b[0;36mpylab\u001b[0;34m(self, line)\u001b[0m\n",
      "\u001b[0;32m/Users/dansandiford/anaconda/lib/python2.7/site-packages/IPython/core/magic.pyc\u001b[0m in \u001b[0;36m<lambda>\u001b[0;34m(f, *a, **k)\u001b[0m\n\u001b[1;32m    191\u001b[0m     \u001b[0;31m# but it's overkill for just that one bit of state.\u001b[0m\u001b[0;34m\u001b[0m\u001b[0;34m\u001b[0m\u001b[0m\n\u001b[1;32m    192\u001b[0m     \u001b[0;32mdef\u001b[0m \u001b[0mmagic_deco\u001b[0m\u001b[0;34m(\u001b[0m\u001b[0marg\u001b[0m\u001b[0;34m)\u001b[0m\u001b[0;34m:\u001b[0m\u001b[0;34m\u001b[0m\u001b[0m\n\u001b[0;32m--> 193\u001b[0;31m         \u001b[0mcall\u001b[0m \u001b[0;34m=\u001b[0m \u001b[0;32mlambda\u001b[0m \u001b[0mf\u001b[0m\u001b[0;34m,\u001b[0m \u001b[0;34m*\u001b[0m\u001b[0ma\u001b[0m\u001b[0;34m,\u001b[0m \u001b[0;34m**\u001b[0m\u001b[0mk\u001b[0m\u001b[0;34m:\u001b[0m \u001b[0mf\u001b[0m\u001b[0;34m(\u001b[0m\u001b[0;34m*\u001b[0m\u001b[0ma\u001b[0m\u001b[0;34m,\u001b[0m \u001b[0;34m**\u001b[0m\u001b[0mk\u001b[0m\u001b[0;34m)\u001b[0m\u001b[0;34m\u001b[0m\u001b[0m\n\u001b[0m\u001b[1;32m    194\u001b[0m \u001b[0;34m\u001b[0m\u001b[0m\n\u001b[1;32m    195\u001b[0m         \u001b[0;32mif\u001b[0m \u001b[0mcallable\u001b[0m\u001b[0;34m(\u001b[0m\u001b[0marg\u001b[0m\u001b[0;34m)\u001b[0m\u001b[0;34m:\u001b[0m\u001b[0;34m\u001b[0m\u001b[0m\n",
      "\u001b[0;32m/Users/dansandiford/anaconda/lib/python2.7/site-packages/IPython/core/magics/pylab.pyc\u001b[0m in \u001b[0;36mpylab\u001b[0;34m(self, line)\u001b[0m\n\u001b[1;32m    154\u001b[0m             \u001b[0mimport_all\u001b[0m \u001b[0;34m=\u001b[0m \u001b[0;32mnot\u001b[0m \u001b[0margs\u001b[0m\u001b[0;34m.\u001b[0m\u001b[0mno_import_all\u001b[0m\u001b[0;34m\u001b[0m\u001b[0m\n\u001b[1;32m    155\u001b[0m \u001b[0;34m\u001b[0m\u001b[0m\n\u001b[0;32m--> 156\u001b[0;31m         \u001b[0mgui\u001b[0m\u001b[0;34m,\u001b[0m \u001b[0mbackend\u001b[0m\u001b[0;34m,\u001b[0m \u001b[0mclobbered\u001b[0m \u001b[0;34m=\u001b[0m \u001b[0mself\u001b[0m\u001b[0;34m.\u001b[0m\u001b[0mshell\u001b[0m\u001b[0;34m.\u001b[0m\u001b[0menable_pylab\u001b[0m\u001b[0;34m(\u001b[0m\u001b[0margs\u001b[0m\u001b[0;34m.\u001b[0m\u001b[0mgui\u001b[0m\u001b[0;34m,\u001b[0m \u001b[0mimport_all\u001b[0m\u001b[0;34m=\u001b[0m\u001b[0mimport_all\u001b[0m\u001b[0;34m)\u001b[0m\u001b[0;34m\u001b[0m\u001b[0m\n\u001b[0m\u001b[1;32m    157\u001b[0m         \u001b[0mself\u001b[0m\u001b[0;34m.\u001b[0m\u001b[0m_show_matplotlib_backend\u001b[0m\u001b[0;34m(\u001b[0m\u001b[0margs\u001b[0m\u001b[0;34m.\u001b[0m\u001b[0mgui\u001b[0m\u001b[0;34m,\u001b[0m \u001b[0mbackend\u001b[0m\u001b[0;34m)\u001b[0m\u001b[0;34m\u001b[0m\u001b[0m\n\u001b[1;32m    158\u001b[0m         \u001b[0;32mprint\u001b[0m \u001b[0;34m(\u001b[0m\u001b[0;34m\"Populating the interactive namespace from numpy and matplotlib\"\u001b[0m\u001b[0;34m)\u001b[0m\u001b[0;34m\u001b[0m\u001b[0m\n",
      "\u001b[0;32m/Users/dansandiford/anaconda/lib/python2.7/site-packages/IPython/core/interactiveshell.pyc\u001b[0m in \u001b[0;36menable_pylab\u001b[0;34m(self, gui, import_all, welcome_message)\u001b[0m\n\u001b[1;32m   2988\u001b[0m         \u001b[0;32mfrom\u001b[0m \u001b[0mIPython\u001b[0m\u001b[0;34m.\u001b[0m\u001b[0mcore\u001b[0m\u001b[0;34m.\u001b[0m\u001b[0mpylabtools\u001b[0m \u001b[0;32mimport\u001b[0m \u001b[0mimport_pylab\u001b[0m\u001b[0;34m\u001b[0m\u001b[0m\n\u001b[1;32m   2989\u001b[0m \u001b[0;34m\u001b[0m\u001b[0m\n\u001b[0;32m-> 2990\u001b[0;31m         \u001b[0mgui\u001b[0m\u001b[0;34m,\u001b[0m \u001b[0mbackend\u001b[0m \u001b[0;34m=\u001b[0m \u001b[0mself\u001b[0m\u001b[0;34m.\u001b[0m\u001b[0menable_matplotlib\u001b[0m\u001b[0;34m(\u001b[0m\u001b[0mgui\u001b[0m\u001b[0;34m)\u001b[0m\u001b[0;34m\u001b[0m\u001b[0m\n\u001b[0m\u001b[1;32m   2991\u001b[0m \u001b[0;34m\u001b[0m\u001b[0m\n\u001b[1;32m   2992\u001b[0m         \u001b[0;31m# We want to prevent the loading of pylab to pollute the user's\u001b[0m\u001b[0;34m\u001b[0m\u001b[0;34m\u001b[0m\u001b[0m\n",
      "\u001b[0;32m/Users/dansandiford/anaconda/lib/python2.7/site-packages/IPython/core/interactiveshell.pyc\u001b[0m in \u001b[0;36menable_matplotlib\u001b[0;34m(self, gui)\u001b[0m\n\u001b[1;32m   2949\u001b[0m                 \u001b[0mgui\u001b[0m\u001b[0;34m,\u001b[0m \u001b[0mbackend\u001b[0m \u001b[0;34m=\u001b[0m \u001b[0mpt\u001b[0m\u001b[0;34m.\u001b[0m\u001b[0mfind_gui_and_backend\u001b[0m\u001b[0;34m(\u001b[0m\u001b[0mself\u001b[0m\u001b[0;34m.\u001b[0m\u001b[0mpylab_gui_select\u001b[0m\u001b[0;34m)\u001b[0m\u001b[0;34m\u001b[0m\u001b[0m\n\u001b[1;32m   2950\u001b[0m \u001b[0;34m\u001b[0m\u001b[0m\n\u001b[0;32m-> 2951\u001b[0;31m         \u001b[0mpt\u001b[0m\u001b[0;34m.\u001b[0m\u001b[0mactivate_matplotlib\u001b[0m\u001b[0;34m(\u001b[0m\u001b[0mbackend\u001b[0m\u001b[0;34m)\u001b[0m\u001b[0;34m\u001b[0m\u001b[0m\n\u001b[0m\u001b[1;32m   2952\u001b[0m         \u001b[0mpt\u001b[0m\u001b[0;34m.\u001b[0m\u001b[0mconfigure_inline_support\u001b[0m\u001b[0;34m(\u001b[0m\u001b[0mself\u001b[0m\u001b[0;34m,\u001b[0m \u001b[0mbackend\u001b[0m\u001b[0;34m)\u001b[0m\u001b[0;34m\u001b[0m\u001b[0m\n\u001b[1;32m   2953\u001b[0m \u001b[0;34m\u001b[0m\u001b[0m\n",
      "\u001b[0;32m/Users/dansandiford/anaconda/lib/python2.7/site-packages/IPython/core/pylabtools.pyc\u001b[0m in \u001b[0;36mactivate_matplotlib\u001b[0;34m(backend)\u001b[0m\n\u001b[1;32m    291\u001b[0m     \u001b[0mmatplotlib\u001b[0m\u001b[0;34m.\u001b[0m\u001b[0mrcParams\u001b[0m\u001b[0;34m[\u001b[0m\u001b[0;34m'backend'\u001b[0m\u001b[0;34m]\u001b[0m \u001b[0;34m=\u001b[0m \u001b[0mbackend\u001b[0m\u001b[0;34m\u001b[0m\u001b[0m\n\u001b[1;32m    292\u001b[0m \u001b[0;34m\u001b[0m\u001b[0m\n\u001b[0;32m--> 293\u001b[0;31m     \u001b[0;32mimport\u001b[0m \u001b[0mmatplotlib\u001b[0m\u001b[0;34m.\u001b[0m\u001b[0mpyplot\u001b[0m\u001b[0;34m\u001b[0m\u001b[0m\n\u001b[0m\u001b[1;32m    294\u001b[0m     \u001b[0mmatplotlib\u001b[0m\u001b[0;34m.\u001b[0m\u001b[0mpyplot\u001b[0m\u001b[0;34m.\u001b[0m\u001b[0mswitch_backend\u001b[0m\u001b[0;34m(\u001b[0m\u001b[0mbackend\u001b[0m\u001b[0;34m)\u001b[0m\u001b[0;34m\u001b[0m\u001b[0m\n\u001b[1;32m    295\u001b[0m \u001b[0;34m\u001b[0m\u001b[0m\n",
      "\u001b[0;32m/Users/dansandiford/anaconda/lib/python2.7/site-packages/matplotlib/pyplot.py\u001b[0m in \u001b[0;36m<module>\u001b[0;34m()\u001b[0m\n\u001b[1;32m     25\u001b[0m \u001b[0;34m\u001b[0m\u001b[0m\n\u001b[1;32m     26\u001b[0m \u001b[0;32mimport\u001b[0m \u001b[0mmatplotlib\u001b[0m\u001b[0;34m\u001b[0m\u001b[0m\n\u001b[0;32m---> 27\u001b[0;31m \u001b[0;32mimport\u001b[0m \u001b[0mmatplotlib\u001b[0m\u001b[0;34m.\u001b[0m\u001b[0mcolorbar\u001b[0m\u001b[0;34m\u001b[0m\u001b[0m\n\u001b[0m\u001b[1;32m     28\u001b[0m \u001b[0;32mfrom\u001b[0m \u001b[0mmatplotlib\u001b[0m \u001b[0;32mimport\u001b[0m \u001b[0mstyle\u001b[0m\u001b[0;34m\u001b[0m\u001b[0m\n\u001b[1;32m     29\u001b[0m \u001b[0;32mfrom\u001b[0m \u001b[0mmatplotlib\u001b[0m \u001b[0;32mimport\u001b[0m \u001b[0m_pylab_helpers\u001b[0m\u001b[0;34m,\u001b[0m \u001b[0minteractive\u001b[0m\u001b[0;34m\u001b[0m\u001b[0m\n",
      "\u001b[0;32m/Users/dansandiford/anaconda/lib/python2.7/site-packages/matplotlib/colorbar.py\u001b[0m in \u001b[0;36m<module>\u001b[0;34m()\u001b[0m\n\u001b[1;32m     32\u001b[0m \u001b[0;32mimport\u001b[0m \u001b[0mmatplotlib\u001b[0m\u001b[0;34m.\u001b[0m\u001b[0martist\u001b[0m \u001b[0;32mas\u001b[0m \u001b[0mmartist\u001b[0m\u001b[0;34m\u001b[0m\u001b[0m\n\u001b[1;32m     33\u001b[0m \u001b[0;32mimport\u001b[0m \u001b[0mmatplotlib\u001b[0m\u001b[0;34m.\u001b[0m\u001b[0mcbook\u001b[0m \u001b[0;32mas\u001b[0m \u001b[0mcbook\u001b[0m\u001b[0;34m\u001b[0m\u001b[0m\n\u001b[0;32m---> 34\u001b[0;31m \u001b[0;32mimport\u001b[0m \u001b[0mmatplotlib\u001b[0m\u001b[0;34m.\u001b[0m\u001b[0mcollections\u001b[0m \u001b[0;32mas\u001b[0m \u001b[0mcollections\u001b[0m\u001b[0;34m\u001b[0m\u001b[0m\n\u001b[0m\u001b[1;32m     35\u001b[0m \u001b[0;32mimport\u001b[0m \u001b[0mmatplotlib\u001b[0m\u001b[0;34m.\u001b[0m\u001b[0mcolors\u001b[0m \u001b[0;32mas\u001b[0m \u001b[0mcolors\u001b[0m\u001b[0;34m\u001b[0m\u001b[0m\n\u001b[1;32m     36\u001b[0m \u001b[0;32mimport\u001b[0m \u001b[0mmatplotlib\u001b[0m\u001b[0;34m.\u001b[0m\u001b[0mcontour\u001b[0m \u001b[0;32mas\u001b[0m \u001b[0mcontour\u001b[0m\u001b[0;34m\u001b[0m\u001b[0m\n",
      "\u001b[0;32m/Users/dansandiford/anaconda/lib/python2.7/site-packages/matplotlib/collections.py\u001b[0m in \u001b[0;36m<module>\u001b[0;34m()\u001b[0m\n\u001b[1;32m     25\u001b[0m \u001b[0;32mimport\u001b[0m \u001b[0mmatplotlib\u001b[0m\u001b[0;34m.\u001b[0m\u001b[0martist\u001b[0m \u001b[0;32mas\u001b[0m \u001b[0martist\u001b[0m\u001b[0;34m\u001b[0m\u001b[0m\n\u001b[1;32m     26\u001b[0m \u001b[0;32mfrom\u001b[0m \u001b[0mmatplotlib\u001b[0m\u001b[0;34m.\u001b[0m\u001b[0martist\u001b[0m \u001b[0;32mimport\u001b[0m \u001b[0mallow_rasterization\u001b[0m\u001b[0;34m\u001b[0m\u001b[0m\n\u001b[0;32m---> 27\u001b[0;31m \u001b[0;32mimport\u001b[0m \u001b[0mmatplotlib\u001b[0m\u001b[0;34m.\u001b[0m\u001b[0mbackend_bases\u001b[0m \u001b[0;32mas\u001b[0m \u001b[0mbackend_bases\u001b[0m\u001b[0;34m\u001b[0m\u001b[0m\n\u001b[0m\u001b[1;32m     28\u001b[0m \u001b[0;32mimport\u001b[0m \u001b[0mmatplotlib\u001b[0m\u001b[0;34m.\u001b[0m\u001b[0mpath\u001b[0m \u001b[0;32mas\u001b[0m \u001b[0mmpath\u001b[0m\u001b[0;34m\u001b[0m\u001b[0m\n\u001b[1;32m     29\u001b[0m \u001b[0;32mfrom\u001b[0m \u001b[0mmatplotlib\u001b[0m \u001b[0;32mimport\u001b[0m \u001b[0m_path\u001b[0m\u001b[0;34m\u001b[0m\u001b[0m\n",
      "\u001b[0;32m/Users/dansandiford/anaconda/lib/python2.7/site-packages/matplotlib/backend_bases.py\u001b[0m in \u001b[0;36m<module>\u001b[0;34m()\u001b[0m\n\u001b[1;32m     54\u001b[0m \u001b[0;34m\u001b[0m\u001b[0m\n\u001b[1;32m     55\u001b[0m \u001b[0;32mimport\u001b[0m \u001b[0mmatplotlib\u001b[0m\u001b[0;34m.\u001b[0m\u001b[0mtight_bbox\u001b[0m \u001b[0;32mas\u001b[0m \u001b[0mtight_bbox\u001b[0m\u001b[0;34m\u001b[0m\u001b[0m\n\u001b[0;32m---> 56\u001b[0;31m \u001b[0;32mimport\u001b[0m \u001b[0mmatplotlib\u001b[0m\u001b[0;34m.\u001b[0m\u001b[0mtextpath\u001b[0m \u001b[0;32mas\u001b[0m \u001b[0mtextpath\u001b[0m\u001b[0;34m\u001b[0m\u001b[0m\n\u001b[0m\u001b[1;32m     57\u001b[0m \u001b[0;32mfrom\u001b[0m \u001b[0mmatplotlib\u001b[0m\u001b[0;34m.\u001b[0m\u001b[0mpath\u001b[0m \u001b[0;32mimport\u001b[0m \u001b[0mPath\u001b[0m\u001b[0;34m\u001b[0m\u001b[0m\n\u001b[1;32m     58\u001b[0m \u001b[0;32mfrom\u001b[0m \u001b[0mmatplotlib\u001b[0m\u001b[0;34m.\u001b[0m\u001b[0mcbook\u001b[0m \u001b[0;32mimport\u001b[0m \u001b[0mmplDeprecation\u001b[0m\u001b[0;34m\u001b[0m\u001b[0m\n",
      "\u001b[0;32m/Users/dansandiford/anaconda/lib/python2.7/site-packages/matplotlib/textpath.py\u001b[0m in \u001b[0;36m<module>\u001b[0;34m()\u001b[0m\n\u001b[1;32m     20\u001b[0m \u001b[0;32mfrom\u001b[0m \u001b[0mmatplotlib\u001b[0m\u001b[0;34m.\u001b[0m\u001b[0mft2font\u001b[0m \u001b[0;32mimport\u001b[0m \u001b[0mFT2Font\u001b[0m\u001b[0;34m,\u001b[0m \u001b[0mKERNING_DEFAULT\u001b[0m\u001b[0;34m,\u001b[0m \u001b[0mLOAD_NO_HINTING\u001b[0m\u001b[0;34m\u001b[0m\u001b[0m\n\u001b[1;32m     21\u001b[0m \u001b[0;32mfrom\u001b[0m \u001b[0mmatplotlib\u001b[0m\u001b[0;34m.\u001b[0m\u001b[0mft2font\u001b[0m \u001b[0;32mimport\u001b[0m \u001b[0mLOAD_TARGET_LIGHT\u001b[0m\u001b[0;34m\u001b[0m\u001b[0m\n\u001b[0;32m---> 22\u001b[0;31m \u001b[0;32mfrom\u001b[0m \u001b[0mmatplotlib\u001b[0m\u001b[0;34m.\u001b[0m\u001b[0mmathtext\u001b[0m \u001b[0;32mimport\u001b[0m \u001b[0mMathTextParser\u001b[0m\u001b[0;34m\u001b[0m\u001b[0m\n\u001b[0m\u001b[1;32m     23\u001b[0m \u001b[0;32mimport\u001b[0m \u001b[0mmatplotlib\u001b[0m\u001b[0;34m.\u001b[0m\u001b[0mdviread\u001b[0m \u001b[0;32mas\u001b[0m \u001b[0mdviread\u001b[0m\u001b[0;34m\u001b[0m\u001b[0m\n\u001b[1;32m     24\u001b[0m \u001b[0;32mfrom\u001b[0m \u001b[0mmatplotlib\u001b[0m\u001b[0;34m.\u001b[0m\u001b[0mfont_manager\u001b[0m \u001b[0;32mimport\u001b[0m \u001b[0mFontProperties\u001b[0m\u001b[0;34m\u001b[0m\u001b[0m\n",
      "\u001b[0;32m/Users/dansandiford/anaconda/lib/python2.7/site-packages/matplotlib/mathtext.py\u001b[0m in \u001b[0;36m<module>\u001b[0;34m()\u001b[0m\n\u001b[1;32m     61\u001b[0m \u001b[0;34m\u001b[0m\u001b[0m\n\u001b[1;32m     62\u001b[0m \u001b[0;32mimport\u001b[0m \u001b[0mmatplotlib\u001b[0m\u001b[0;34m.\u001b[0m\u001b[0mcolors\u001b[0m \u001b[0;32mas\u001b[0m \u001b[0mmcolors\u001b[0m\u001b[0;34m\u001b[0m\u001b[0m\n\u001b[0;32m---> 63\u001b[0;31m \u001b[0;32mimport\u001b[0m \u001b[0mmatplotlib\u001b[0m\u001b[0;34m.\u001b[0m\u001b[0m_png\u001b[0m \u001b[0;32mas\u001b[0m \u001b[0m_png\u001b[0m\u001b[0;34m\u001b[0m\u001b[0m\n\u001b[0m\u001b[1;32m     64\u001b[0m \u001b[0;31m####################\u001b[0m\u001b[0;34m\u001b[0m\u001b[0;34m\u001b[0m\u001b[0m\n\u001b[1;32m     65\u001b[0m \u001b[0;34m\u001b[0m\u001b[0m\n",
      "\u001b[0;31mImportError\u001b[0m: dlopen(/Users/dansandiford/anaconda/lib/python2.7/site-packages/matplotlib/_png.so, 2): Library not loaded: @loader_path/../../../libpng15.15.dylib\n  Referenced from: /Users/dansandiford/anaconda/lib/python2.7/site-packages/matplotlib/_png.so\n  Reason: image not found"
     ]
    }
   ],
   "source": [
    "import underworld as uw\n",
    "import math\n",
    "from underworld import function as fn\n",
    "import glucifer\n",
    "import numpy as np\n",
    "import os\n",
    "import math\n",
    "%pylab inline"
   ]
  },
  {
   "cell_type": "code",
   "execution_count": 38,
   "metadata": {
    "collapsed": false
   },
   "outputs": [
    {
     "ename": "ImportError",
     "evalue": "dlopen(/Users/dansandiford/anaconda/lib/python2.7/site-packages/matplotlib/_png.so, 2): Library not loaded: @loader_path/../../../libpng15.15.dylib\n  Referenced from: /Users/dansandiford/anaconda/lib/python2.7/site-packages/matplotlib/_png.so\n  Reason: image not found",
     "output_type": "error",
     "traceback": [
      "\u001b[0;31m---------------------------------------------------------------------------\u001b[0m",
      "\u001b[0;31mImportError\u001b[0m                               Traceback (most recent call last)",
      "\u001b[0;32m<ipython-input-38-eff513f636fd>\u001b[0m in \u001b[0;36m<module>\u001b[0;34m()\u001b[0m\n\u001b[0;32m----> 1\u001b[0;31m \u001b[0;32mimport\u001b[0m \u001b[0mmatplotlib\u001b[0m\u001b[0;34m.\u001b[0m\u001b[0mpyplot\u001b[0m \u001b[0;32mas\u001b[0m \u001b[0mplt\u001b[0m\u001b[0;34m\u001b[0m\u001b[0m\n\u001b[0m",
      "\u001b[0;32m/Users/dansandiford/anaconda/lib/python2.7/site-packages/matplotlib/pyplot.py\u001b[0m in \u001b[0;36m<module>\u001b[0;34m()\u001b[0m\n\u001b[1;32m     25\u001b[0m \u001b[0;34m\u001b[0m\u001b[0m\n\u001b[1;32m     26\u001b[0m \u001b[0;32mimport\u001b[0m \u001b[0mmatplotlib\u001b[0m\u001b[0;34m\u001b[0m\u001b[0m\n\u001b[0;32m---> 27\u001b[0;31m \u001b[0;32mimport\u001b[0m \u001b[0mmatplotlib\u001b[0m\u001b[0;34m.\u001b[0m\u001b[0mcolorbar\u001b[0m\u001b[0;34m\u001b[0m\u001b[0m\n\u001b[0m\u001b[1;32m     28\u001b[0m \u001b[0;32mfrom\u001b[0m \u001b[0mmatplotlib\u001b[0m \u001b[0;32mimport\u001b[0m \u001b[0mstyle\u001b[0m\u001b[0;34m\u001b[0m\u001b[0m\n\u001b[1;32m     29\u001b[0m \u001b[0;32mfrom\u001b[0m \u001b[0mmatplotlib\u001b[0m \u001b[0;32mimport\u001b[0m \u001b[0m_pylab_helpers\u001b[0m\u001b[0;34m,\u001b[0m \u001b[0minteractive\u001b[0m\u001b[0;34m\u001b[0m\u001b[0m\n",
      "\u001b[0;32m/Users/dansandiford/anaconda/lib/python2.7/site-packages/matplotlib/colorbar.py\u001b[0m in \u001b[0;36m<module>\u001b[0;34m()\u001b[0m\n\u001b[1;32m     32\u001b[0m \u001b[0;32mimport\u001b[0m \u001b[0mmatplotlib\u001b[0m\u001b[0;34m.\u001b[0m\u001b[0martist\u001b[0m \u001b[0;32mas\u001b[0m \u001b[0mmartist\u001b[0m\u001b[0;34m\u001b[0m\u001b[0m\n\u001b[1;32m     33\u001b[0m \u001b[0;32mimport\u001b[0m \u001b[0mmatplotlib\u001b[0m\u001b[0;34m.\u001b[0m\u001b[0mcbook\u001b[0m \u001b[0;32mas\u001b[0m \u001b[0mcbook\u001b[0m\u001b[0;34m\u001b[0m\u001b[0m\n\u001b[0;32m---> 34\u001b[0;31m \u001b[0;32mimport\u001b[0m \u001b[0mmatplotlib\u001b[0m\u001b[0;34m.\u001b[0m\u001b[0mcollections\u001b[0m \u001b[0;32mas\u001b[0m \u001b[0mcollections\u001b[0m\u001b[0;34m\u001b[0m\u001b[0m\n\u001b[0m\u001b[1;32m     35\u001b[0m \u001b[0;32mimport\u001b[0m \u001b[0mmatplotlib\u001b[0m\u001b[0;34m.\u001b[0m\u001b[0mcolors\u001b[0m \u001b[0;32mas\u001b[0m \u001b[0mcolors\u001b[0m\u001b[0;34m\u001b[0m\u001b[0m\n\u001b[1;32m     36\u001b[0m \u001b[0;32mimport\u001b[0m \u001b[0mmatplotlib\u001b[0m\u001b[0;34m.\u001b[0m\u001b[0mcontour\u001b[0m \u001b[0;32mas\u001b[0m \u001b[0mcontour\u001b[0m\u001b[0;34m\u001b[0m\u001b[0m\n",
      "\u001b[0;32m/Users/dansandiford/anaconda/lib/python2.7/site-packages/matplotlib/collections.py\u001b[0m in \u001b[0;36m<module>\u001b[0;34m()\u001b[0m\n\u001b[1;32m     25\u001b[0m \u001b[0;32mimport\u001b[0m \u001b[0mmatplotlib\u001b[0m\u001b[0;34m.\u001b[0m\u001b[0martist\u001b[0m \u001b[0;32mas\u001b[0m \u001b[0martist\u001b[0m\u001b[0;34m\u001b[0m\u001b[0m\n\u001b[1;32m     26\u001b[0m \u001b[0;32mfrom\u001b[0m \u001b[0mmatplotlib\u001b[0m\u001b[0;34m.\u001b[0m\u001b[0martist\u001b[0m \u001b[0;32mimport\u001b[0m \u001b[0mallow_rasterization\u001b[0m\u001b[0;34m\u001b[0m\u001b[0m\n\u001b[0;32m---> 27\u001b[0;31m \u001b[0;32mimport\u001b[0m \u001b[0mmatplotlib\u001b[0m\u001b[0;34m.\u001b[0m\u001b[0mbackend_bases\u001b[0m \u001b[0;32mas\u001b[0m \u001b[0mbackend_bases\u001b[0m\u001b[0;34m\u001b[0m\u001b[0m\n\u001b[0m\u001b[1;32m     28\u001b[0m \u001b[0;32mimport\u001b[0m \u001b[0mmatplotlib\u001b[0m\u001b[0;34m.\u001b[0m\u001b[0mpath\u001b[0m \u001b[0;32mas\u001b[0m \u001b[0mmpath\u001b[0m\u001b[0;34m\u001b[0m\u001b[0m\n\u001b[1;32m     29\u001b[0m \u001b[0;32mfrom\u001b[0m \u001b[0mmatplotlib\u001b[0m \u001b[0;32mimport\u001b[0m \u001b[0m_path\u001b[0m\u001b[0;34m\u001b[0m\u001b[0m\n",
      "\u001b[0;32m/Users/dansandiford/anaconda/lib/python2.7/site-packages/matplotlib/backend_bases.py\u001b[0m in \u001b[0;36m<module>\u001b[0;34m()\u001b[0m\n\u001b[1;32m     54\u001b[0m \u001b[0;34m\u001b[0m\u001b[0m\n\u001b[1;32m     55\u001b[0m \u001b[0;32mimport\u001b[0m \u001b[0mmatplotlib\u001b[0m\u001b[0;34m.\u001b[0m\u001b[0mtight_bbox\u001b[0m \u001b[0;32mas\u001b[0m \u001b[0mtight_bbox\u001b[0m\u001b[0;34m\u001b[0m\u001b[0m\n\u001b[0;32m---> 56\u001b[0;31m \u001b[0;32mimport\u001b[0m \u001b[0mmatplotlib\u001b[0m\u001b[0;34m.\u001b[0m\u001b[0mtextpath\u001b[0m \u001b[0;32mas\u001b[0m \u001b[0mtextpath\u001b[0m\u001b[0;34m\u001b[0m\u001b[0m\n\u001b[0m\u001b[1;32m     57\u001b[0m \u001b[0;32mfrom\u001b[0m \u001b[0mmatplotlib\u001b[0m\u001b[0;34m.\u001b[0m\u001b[0mpath\u001b[0m \u001b[0;32mimport\u001b[0m \u001b[0mPath\u001b[0m\u001b[0;34m\u001b[0m\u001b[0m\n\u001b[1;32m     58\u001b[0m \u001b[0;32mfrom\u001b[0m \u001b[0mmatplotlib\u001b[0m\u001b[0;34m.\u001b[0m\u001b[0mcbook\u001b[0m \u001b[0;32mimport\u001b[0m \u001b[0mmplDeprecation\u001b[0m\u001b[0;34m\u001b[0m\u001b[0m\n",
      "\u001b[0;32m/Users/dansandiford/anaconda/lib/python2.7/site-packages/matplotlib/textpath.py\u001b[0m in \u001b[0;36m<module>\u001b[0;34m()\u001b[0m\n\u001b[1;32m     20\u001b[0m \u001b[0;32mfrom\u001b[0m \u001b[0mmatplotlib\u001b[0m\u001b[0;34m.\u001b[0m\u001b[0mft2font\u001b[0m \u001b[0;32mimport\u001b[0m \u001b[0mFT2Font\u001b[0m\u001b[0;34m,\u001b[0m \u001b[0mKERNING_DEFAULT\u001b[0m\u001b[0;34m,\u001b[0m \u001b[0mLOAD_NO_HINTING\u001b[0m\u001b[0;34m\u001b[0m\u001b[0m\n\u001b[1;32m     21\u001b[0m \u001b[0;32mfrom\u001b[0m \u001b[0mmatplotlib\u001b[0m\u001b[0;34m.\u001b[0m\u001b[0mft2font\u001b[0m \u001b[0;32mimport\u001b[0m \u001b[0mLOAD_TARGET_LIGHT\u001b[0m\u001b[0;34m\u001b[0m\u001b[0m\n\u001b[0;32m---> 22\u001b[0;31m \u001b[0;32mfrom\u001b[0m \u001b[0mmatplotlib\u001b[0m\u001b[0;34m.\u001b[0m\u001b[0mmathtext\u001b[0m \u001b[0;32mimport\u001b[0m \u001b[0mMathTextParser\u001b[0m\u001b[0;34m\u001b[0m\u001b[0m\n\u001b[0m\u001b[1;32m     23\u001b[0m \u001b[0;32mimport\u001b[0m \u001b[0mmatplotlib\u001b[0m\u001b[0;34m.\u001b[0m\u001b[0mdviread\u001b[0m \u001b[0;32mas\u001b[0m \u001b[0mdviread\u001b[0m\u001b[0;34m\u001b[0m\u001b[0m\n\u001b[1;32m     24\u001b[0m \u001b[0;32mfrom\u001b[0m \u001b[0mmatplotlib\u001b[0m\u001b[0;34m.\u001b[0m\u001b[0mfont_manager\u001b[0m \u001b[0;32mimport\u001b[0m \u001b[0mFontProperties\u001b[0m\u001b[0;34m\u001b[0m\u001b[0m\n",
      "\u001b[0;32m/Users/dansandiford/anaconda/lib/python2.7/site-packages/matplotlib/mathtext.py\u001b[0m in \u001b[0;36m<module>\u001b[0;34m()\u001b[0m\n\u001b[1;32m     61\u001b[0m \u001b[0;34m\u001b[0m\u001b[0m\n\u001b[1;32m     62\u001b[0m \u001b[0;32mimport\u001b[0m \u001b[0mmatplotlib\u001b[0m\u001b[0;34m.\u001b[0m\u001b[0mcolors\u001b[0m \u001b[0;32mas\u001b[0m \u001b[0mmcolors\u001b[0m\u001b[0;34m\u001b[0m\u001b[0m\n\u001b[0;32m---> 63\u001b[0;31m \u001b[0;32mimport\u001b[0m \u001b[0mmatplotlib\u001b[0m\u001b[0;34m.\u001b[0m\u001b[0m_png\u001b[0m \u001b[0;32mas\u001b[0m \u001b[0m_png\u001b[0m\u001b[0;34m\u001b[0m\u001b[0m\n\u001b[0m\u001b[1;32m     64\u001b[0m \u001b[0;31m####################\u001b[0m\u001b[0;34m\u001b[0m\u001b[0;34m\u001b[0m\u001b[0m\n\u001b[1;32m     65\u001b[0m \u001b[0;34m\u001b[0m\u001b[0m\n",
      "\u001b[0;31mImportError\u001b[0m: dlopen(/Users/dansandiford/anaconda/lib/python2.7/site-packages/matplotlib/_png.so, 2): Library not loaded: @loader_path/../../../libpng15.15.dylib\n  Referenced from: /Users/dansandiford/anaconda/lib/python2.7/site-packages/matplotlib/_png.so\n  Reason: image not found"
     ]
    }
   ],
   "source": [
    "import matplotlib.pyplot as plt"
   ]
  },
  {
   "cell_type": "markdown",
   "metadata": {},
   "source": [
    "This notebook implements various mesh refinement functions for use with Underworld2."
   ]
  },
  {
   "cell_type": "markdown",
   "metadata": {},
   "source": [
    "## Example 1: \n",
    "\n",
    "$y' = \\frac{ln((\\alpha y + e) -1)}{ln((\\alpha + e) - 1)}$\n"
   ]
  },
  {
   "cell_type": "markdown",
   "metadata": {},
   "source": []
  },
  {
   "cell_type": "code",
   "execution_count": 37,
   "metadata": {
    "collapsed": false
   },
   "outputs": [
    {
     "ename": "NameError",
     "evalue": "name 'pyplot' is not defined",
     "output_type": "error",
     "traceback": [
      "\u001b[0;31m---------------------------------------------------------------------------\u001b[0m",
      "\u001b[0;31mNameError\u001b[0m                                 Traceback (most recent call last)",
      "\u001b[0;32m<ipython-input-37-3923f5f47845>\u001b[0m in \u001b[0;36m<module>\u001b[0;34m()\u001b[0m\n\u001b[1;32m      4\u001b[0m \u001b[0my2\u001b[0m \u001b[0;34m=\u001b[0m \u001b[0;34m[\u001b[0m\u001b[0;34m(\u001b[0m\u001b[0mmath\u001b[0m\u001b[0;34m.\u001b[0m\u001b[0mlog\u001b[0m\u001b[0;34m(\u001b[0m\u001b[0malpha\u001b[0m\u001b[0;34m*\u001b[0m\u001b[0mY\u001b[0m \u001b[0;34m+\u001b[0m \u001b[0mmath\u001b[0m\u001b[0;34m.\u001b[0m\u001b[0me\u001b[0m\u001b[0;34m)\u001b[0m \u001b[0;34m-\u001b[0m \u001b[0;36m1.\u001b[0m\u001b[0;34m)\u001b[0m\u001b[0;34m*\u001b[0m\u001b[0;34m(\u001b[0m\u001b[0;36m1.\u001b[0m\u001b[0;34m/\u001b[0m\u001b[0;34m(\u001b[0m\u001b[0mmath\u001b[0m\u001b[0;34m.\u001b[0m\u001b[0mlog\u001b[0m\u001b[0;34m(\u001b[0m\u001b[0malpha\u001b[0m \u001b[0;34m+\u001b[0m \u001b[0mmath\u001b[0m\u001b[0;34m.\u001b[0m\u001b[0me\u001b[0m\u001b[0;34m)\u001b[0m \u001b[0;34m-\u001b[0m \u001b[0;36m1\u001b[0m\u001b[0;34m)\u001b[0m\u001b[0;34m)\u001b[0m \u001b[0;32mfor\u001b[0m \u001b[0mY\u001b[0m \u001b[0;32min\u001b[0m \u001b[0myorig\u001b[0m \u001b[0;34m]\u001b[0m\u001b[0;34m\u001b[0m\u001b[0m\n\u001b[1;32m      5\u001b[0m \u001b[0my3\u001b[0m \u001b[0;34m=\u001b[0m \u001b[0;34m[\u001b[0m\u001b[0;34m(\u001b[0m\u001b[0mmath\u001b[0m\u001b[0;34m.\u001b[0m\u001b[0me\u001b[0m\u001b[0;34m**\u001b[0m\u001b[0;34m(\u001b[0m\u001b[0mY\u001b[0m\u001b[0;34m*\u001b[0m\u001b[0;34m(\u001b[0m\u001b[0mmath\u001b[0m\u001b[0;34m.\u001b[0m\u001b[0mlog\u001b[0m\u001b[0;34m(\u001b[0m\u001b[0malpha\u001b[0m \u001b[0;34m+\u001b[0m \u001b[0mmath\u001b[0m\u001b[0;34m.\u001b[0m\u001b[0me\u001b[0m\u001b[0;34m)\u001b[0m \u001b[0;34m-\u001b[0m \u001b[0;36m1\u001b[0m\u001b[0;34m)\u001b[0m \u001b[0;34m+\u001b[0m \u001b[0;36m1\u001b[0m \u001b[0;34m)\u001b[0m \u001b[0;34m-\u001b[0m \u001b[0mmath\u001b[0m\u001b[0;34m.\u001b[0m\u001b[0me\u001b[0m\u001b[0;34m)\u001b[0m\u001b[0;34m/\u001b[0m\u001b[0malpha\u001b[0m \u001b[0;32mfor\u001b[0m \u001b[0mY\u001b[0m \u001b[0;32min\u001b[0m \u001b[0myorig\u001b[0m \u001b[0;34m]\u001b[0m\u001b[0;34m\u001b[0m\u001b[0m\n\u001b[0;32m----> 6\u001b[0;31m \u001b[0mpyplot\u001b[0m\u001b[0;34m.\u001b[0m\u001b[0mplot\u001b[0m\u001b[0;34m(\u001b[0m\u001b[0myorig\u001b[0m\u001b[0;34m,\u001b[0m \u001b[0my3\u001b[0m\u001b[0;34m)\u001b[0m\u001b[0;34m\u001b[0m\u001b[0m\n\u001b[0m\u001b[1;32m      7\u001b[0m \u001b[0mpyplot\u001b[0m\u001b[0;34m.\u001b[0m\u001b[0mplot\u001b[0m\u001b[0;34m(\u001b[0m\u001b[0myorig\u001b[0m\u001b[0;34m,\u001b[0m \u001b[0my2\u001b[0m\u001b[0;34m)\u001b[0m\u001b[0;34m\u001b[0m\u001b[0m\n\u001b[1;32m      8\u001b[0m \u001b[0mpyplot\u001b[0m\u001b[0;34m.\u001b[0m\u001b[0maxis\u001b[0m\u001b[0;34m(\u001b[0m\u001b[0;34m'equal'\u001b[0m\u001b[0;34m)\u001b[0m\u001b[0;34m\u001b[0m\u001b[0m\n",
      "\u001b[0;31mNameError\u001b[0m: name 'pyplot' is not defined"
     ]
    }
   ],
   "source": [
    "alpha = 11\n",
    "yorig = np.linspace(0.00,1,100)\n",
    "\n",
    "y2 = [(math.log(alpha*Y + math.e) - 1.)*(1./(math.log(alpha + math.e) - 1)) for Y in yorig ]\n",
    "y3 = [(math.e**(Y*(math.log(alpha + math.e) - 1) + 1 ) - math.e)/alpha for Y in yorig ]\n",
    "pyplot.plot(yorig, y3)\n",
    "pyplot.plot(yorig, y2)\n",
    "pyplot.axis('equal')\n",
    "pyplot.grid()"
   ]
  },
  {
   "cell_type": "code",
   "execution_count": 4,
   "metadata": {
    "collapsed": false
   },
   "outputs": [
    {
     "name": "stdout",
     "output_type": "stream",
     "text": [
      "(0.00390625, 0.001938026862393638, 2.015580937394969)\n"
     ]
    }
   ],
   "source": [
    "alpha = 11.\n",
    "res = 256\n",
    "dyo = 1./res\n",
    "\n",
    "dyn = 1. - (math.log(alpha*(1- dyo ) + math.e) - 1.)*(1./(math.log(alpha + math.e) - 1))\n",
    "\n",
    "print(dyo, dyn, (dyo/dyn))"
   ]
  },
  {
   "cell_type": "code",
   "execution_count": 5,
   "metadata": {
    "collapsed": false
   },
   "outputs": [
    {
     "name": "stdout",
     "output_type": "stream",
     "text": [
      "(0.0, 0.9999999999999999)\n"
     ]
    }
   ],
   "source": [
    "### print((math.log(alpha*0. + math.e) - 1)*(1/(math.log(alpha + math.e) - 1)), (math.log(alpha*1. + math.e) - 1)*(1/(math.log(alpha + math.e) - 1)))\n",
    "print((math.e**(0*(math.log(alpha + math.e) - 1) + 1 ) - math.e)/alpha, (math.e**(1.*(math.log(alpha + math.e) - 1) + 1 ) - math.e)/alpha)\n",
    "\n",
    "#(math.e**(0.*math.log(alpha + math.e)) - math.e)/alpha"
   ]
  },
  {
   "cell_type": "code",
   "execution_count": 18,
   "metadata": {
    "collapsed": false
   },
   "outputs": [],
   "source": [
    "# RT PIC - classic and nearest neighbour\n",
    "\n",
    "#from shapely.geometry import Polygon\n",
    "#from shapely.geometry import Point"
   ]
  },
  {
   "cell_type": "code",
   "execution_count": 5,
   "metadata": {
    "collapsed": true
   },
   "outputs": [],
   "source": [
    "dim = 2\n",
    "\n",
    "meshX = 64\n",
    "meshY = 64"
   ]
  },
  {
   "cell_type": "code",
   "execution_count": 20,
   "metadata": {
    "collapsed": true
   },
   "outputs": [],
   "source": [
    "# create mesh objects\n",
    "elementMesh = uw.mesh.FeMesh_Cartesian( elementType='Q1/dQ0', \n",
    "                                         elementRes=(meshX, meshY), \n",
    "                                           minCoord=(0.,0.), \n",
    "                                           maxCoord=(1.,1.0))\n",
    "linearMesh   = elementMesh\n",
    "constantMesh = elementMesh.subMesh"
   ]
  },
  {
   "cell_type": "code",
   "execution_count": 21,
   "metadata": {
    "collapsed": false
   },
   "outputs": [],
   "source": [
    "# create fevariables\n",
    "velocityField    = uw.mesh.MeshVariable( mesh=linearMesh,   nodeDofCount=dim )\n",
    "pressureField    = uw.mesh.MeshVariable( mesh=constantMesh, nodeDofCount=1 )\n",
    "temperatureField = uw.mesh.MeshVariable( mesh=linearMesh,   nodeDofCount=1 )\n",
    "temperatureDotField = uw.mesh.MeshVariable( mesh=linearMesh,         nodeDofCount=1 )\n"
   ]
  },
  {
   "cell_type": "code",
   "execution_count": 22,
   "metadata": {
    "collapsed": false
   },
   "outputs": [],
   "source": [
    "for index, coord in enumerate(linearMesh.data):\n",
    "    if coord[1] < 0.7:\n",
    "        temperatureField.data[index] = 0.5  \n",
    "    else:\n",
    "        temperatureField.data[index] = 1. - coord[1]\n",
    "    "
   ]
  },
  {
   "cell_type": "code",
   "execution_count": 23,
   "metadata": {
    "collapsed": false
   },
   "outputs": [],
   "source": [
    "#(math.log(0 + 0.001)/alpha + 1) + abs((math.log(0.0 + 0.001)/alpha + 1))"
   ]
  },
  {
   "cell_type": "code",
   "execution_count": 24,
   "metadata": {
    "collapsed": false
   },
   "outputs": [],
   "source": [
    "#THis one for the rectangonal mesh\n",
    "alpha = 1.\n",
    "newys = []\n",
    "newxs = []\n",
    "for index, coord in enumerate(linearMesh.data):\n",
    "    y0 = coord[1]\n",
    "    x0 = abs(coord[0])\n",
    "    newy = (math.log(alpha*y0 + math.e) - 1)*(1/(math.log(alpha + math.e) - 1))\n",
    "    if coord[0] > 0:\n",
    "        newx = (math.e**(x0*(math.log((alpha/2.) + math.e) - 1) + 1 ) - math.e)/(alpha/2.)     \n",
    "    else:\n",
    "        newx = -1.*(math.e**(x0*(math.log((alpha/2.) + math.e) - 1) + 1 ) - math.e)/(alpha/2.)\n",
    "    newys.append(newy)\n",
    "    newxs.append(newx)\n",
    "    #print y0,newy"
   ]
  },
  {
   "cell_type": "code",
   "execution_count": 25,
   "metadata": {
    "collapsed": true
   },
   "outputs": [],
   "source": [
    "#THis one for the square mesh\n",
    "\n",
    "alpha = 11.\n",
    "newys = []\n",
    "newxs = []\n",
    "for index, coord in enumerate(linearMesh.data):\n",
    "    y0 = coord[1]\n",
    "    x0 = abs(coord[0])\n",
    "    newy = (math.log(alpha*y0 + math.e) - 1)*(1/(math.log(alpha + math.e) - 1))\n",
    "    newx = (math.log(alpha*x0 + math.e) - 1)*(1/(math.log(alpha + math.e) - 1))\n",
    "    newys.append(newy)\n",
    "    newxs.append(newx)"
   ]
  },
  {
   "cell_type": "code",
   "execution_count": 26,
   "metadata": {
    "collapsed": false
   },
   "outputs": [
    {
     "data": {
      "text/plain": [
       "array([ 0.,  0.,  0., ...,  1.,  1.,  1.])"
      ]
     },
     "execution_count": 26,
     "metadata": {},
     "output_type": "execute_result"
    }
   ],
   "source": [
    "linearMesh.data[:,1]"
   ]
  },
  {
   "cell_type": "code",
   "execution_count": 27,
   "metadata": {
    "collapsed": false
   },
   "outputs": [],
   "source": [
    "with linearMesh.deform_mesh():\n",
    "    linearMesh.data[:,1] = newys\n",
    "    linearMesh.data[:,0] = newxs\n"
   ]
  },
  {
   "cell_type": "code",
   "execution_count": 28,
   "metadata": {
    "collapsed": false
   },
   "outputs": [],
   "source": [
    "\n",
    "    \n",
    "#figtemp = plt.Figure()\n",
    "#figtemp.Surface(temperatureField, elementMesh)\n",
    "#figtemp.Surface(indexField, elementMesh)\n",
    "#figtemp.Mesh(linearMesh, colourBar=False)\n",
    "#figtemp.show()"
   ]
  },
  {
   "cell_type": "code",
   "execution_count": 29,
   "metadata": {
    "collapsed": false
   },
   "outputs": [
    {
     "data": {
      "text/html": [
       "<img src='data:image/png;base64,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'>"
      ],
      "text/plain": [
       "<IPython.core.display.HTML object>"
      ]
     },
     "execution_count": 29,
     "metadata": {},
     "output_type": "execute_result"
    }
   ],
   "source": [
    "\n",
    "# gLucifer visualisation of mesh\n",
    "fig = glucifer.Figure( figsize=(800,400) )\n",
    "fig.append(glucifer.objects.Mesh( elementMesh ))\n",
    "fig.append(glucifer.objects.Surface( elementMesh, temperatureField))\n",
    "fig.show()"
   ]
  },
  {
   "cell_type": "code",
   "execution_count": 30,
   "metadata": {
    "collapsed": false
   },
   "outputs": [],
   "source": [
    "#indexField = uw.fevariable.FeVariable( feMesh=linearMesh, nodeDofCount=1)\n",
    "\n",
    "#for index, coord in enumerate(linearMesh.data):\n",
    "#     indexField.data[index] = ((index % (meshX+1)) % 2 ==0)\n",
    "#    indexField.data[index] = ((index/(meshX+1) % (meshY+1)) % 2 ==0)\n",
    "\n",
    "\n",
    "#figindex = plt.Figure()\n",
    "#figindex.Surface(indexField, elementMesh)\n",
    "#figindex.Mesh(linearMesh, colourBar=False)\n",
    "#figindex.show()"
   ]
  },
  {
   "cell_type": "code",
   "execution_count": 31,
   "metadata": {
    "collapsed": false
   },
   "outputs": [],
   "source": [
    "#indexField.evaluate((0.5,0.26))"
   ]
  },
  {
   "cell_type": "code",
   "execution_count": 32,
   "metadata": {
    "collapsed": false
   },
   "outputs": [],
   "source": [
    "#linearMesh._cself.isRegular#"
   ]
  },
  {
   "cell_type": "code",
   "execution_count": 33,
   "metadata": {
    "collapsed": false
   },
   "outputs": [],
   "source": [
    "Ra=1.e6\n",
    "rho = 4.0e3\n",
    "grav = 10\n",
    "height = 1.e6\n",
    "kappa = 1.0e-6\n",
    "\n",
    "# Set a constant viscosity.\n",
    "viscosity = 1.\n",
    "\n",
    "# Create our density function.\n",
    "densityFn = Ra * temperatureField\n",
    "\n",
    "# Define our vertical unit vector using a python tuple (this will be automatically converted to a function).\n",
    "z_hat = ( 0.0, 1.0 )\n",
    "\n",
    "# A buoyancy function.\n",
    "buoyancyFn = densityFn * z_hat\n",
    "\n",
    "# The temperature gradient is useful in the analysis below. We access it via the 'gradientFn' attribute provided\n",
    "# via the FeVariable.\n",
    "gradField = temperatureField.fn_gradient"
   ]
  },
  {
   "cell_type": "code",
   "execution_count": 34,
   "metadata": {
    "collapsed": false
   },
   "outputs": [],
   "source": [
    "iWalls = elementMesh.specialSets[\"MinI_VertexSet\"] + elementMesh.specialSets[\"MaxI_VertexSet\"]\n",
    "jWalls = elementMesh.specialSets[\"MinJ_VertexSet\"] + elementMesh.specialSets[\"MaxJ_VertexSet\"]\n",
    "\n",
    "freeslipBC = uw.conditions.DirichletCondition(     variable = velocityField, \n",
    "                                              indexSetsPerDof = (iWalls,jWalls) )\n",
    "tempBC     = uw.conditions.DirichletCondition(     variable = temperatureField, \n",
    "                                              indexSetsPerDof = (jWalls,) )"
   ]
  },
  {
   "cell_type": "code",
   "execution_count": 35,
   "metadata": {
    "collapsed": false
   },
   "outputs": [],
   "source": [
    "stokesPIC = uw.systems.Stokes( velocityField = velocityField, \n",
    "                               pressureField = pressureField,\n",
    "                               conditions    = [freeslipBC,],\n",
    "                               fn_viscosity   = viscosity, \n",
    "                               fn_bodyforce   = buoyancyFn )"
   ]
  },
  {
   "cell_type": "code",
   "execution_count": 36,
   "metadata": {
    "collapsed": false
   },
   "outputs": [],
   "source": [
    "advDiff = uw.systems.AdvectionDiffusion( temperatureField, temperatureDotField,velocityField, fn_diffusivity=1., conditions=[tempBC,], )"
   ]
  },
  {
   "cell_type": "code",
   "execution_count": 37,
   "metadata": {
    "collapsed": false
   },
   "outputs": [],
   "source": [
    "solver = uw.systems.Solver(stokesPIC)\n",
    "solver.solve() \n"
   ]
  },
  {
   "cell_type": "code",
   "execution_count": 38,
   "metadata": {
    "collapsed": false
   },
   "outputs": [
    {
     "data": {
      "text/html": [
       "<img src='data:image/png;base64,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'>"
      ],
      "text/plain": [
       "<IPython.core.display.HTML object>"
      ]
     },
     "execution_count": 38,
     "metadata": {},
     "output_type": "execute_result"
    }
   ],
   "source": [
    "\n",
    "velmax = np.amax(velocityField.data[:])\n",
    "if(velmax==0.0): velmax = 1.0\n",
    "fig1 = glucifer.Figure()\n",
    "fig1.append( glucifer.objects.Surface(linearMesh, temperatureField) )\n",
    "fig1.append( glucifer.objects.VectorArrows(linearMesh, velocityField/velmax, scaling=0.1, arrowHead=0.2) )\n",
    "fig1.show()"
   ]
  },
  {
   "cell_type": "markdown",
   "metadata": {
    "collapsed": true
   },
   "source": [
    "## Example 2: \n",
    "\n",
    "This refinement function is given in the Fenics documentation: http://fenicsproject.org/documentation/tutorial/prepro.html\n",
    "\n",
    "$y' = a + (b-a)(\\frac{y-a}{b-a})^s$\n",
    "\n",
    "Here I'm using the similar expression:\n",
    "\n",
    "$y' = 1. - \\left( a + (b-a)(\\frac{y-a}{b-a})^s \\right)$"
   ]
  },
  {
   "cell_type": "code",
   "execution_count": 39,
   "metadata": {
    "collapsed": false
   },
   "outputs": [
    {
     "data": {
      "text/plain": [
       "(0.0, 1.0, 0.0, 1.0)"
      ]
     },
     "execution_count": 39,
     "metadata": {},
     "output_type": "execute_result"
    },
    {
     "data": {
      "image/png": "[encoded data removed]",
      "text/plain": [
       "<matplotlib.figure.Figure at 0x116a7cb50>"
      ]
     },
     "metadata": {},
     "output_type": "display_data"
    }
   ],
   "source": [
    "s = 1.22\n",
    "a = 0.00\n",
    "b = 1.\n",
    "yorig = np.linspace(a,b,100)\n",
    "\n",
    "yp0 = [a + (b-a)*((Y - a)/(b-a))**(1./s) for Y in yorig ]\n",
    "yp1 = [1. - (a + (b-a)*((1 - Y)/(b-a))**s) for Y in yorig ]\n",
    "\n",
    "\n",
    "pyplot.plot(yorig, y2, linestyle='--')\n",
    "pyplot.plot(yorig, y3, linestyle='--')\n",
    "\n",
    "\n",
    "pyplot.plot(yorig, yp0, c= 'k')\n",
    "pyplot.plot(yorig, yp1)\n",
    "#pyplot.grid()\n",
    "pyplot.axis('equal')\n"
   ]
  },
  {
   "cell_type": "code",
   "execution_count": 40,
   "metadata": {
    "collapsed": false
   },
   "outputs": [
    {
     "data": {
      "text/plain": [
       "1.0"
      ]
     },
     "execution_count": 40,
     "metadata": {},
     "output_type": "execute_result"
    }
   ],
   "source": [
    "max(yp1)"
   ]
  },
  {
   "cell_type": "code",
   "execution_count": 6,
   "metadata": {
    "collapsed": false
   },
   "outputs": [],
   "source": [
    "s = 1.26\n",
    "a = 0.00\n",
    "b = 1.\n",
    "\n",
    "# create mesh objects\n",
    "elementMesh = uw.mesh.FeMesh_Cartesian( elementType='Q1/dQ0', \n",
    "                                         elementRes=(meshX, meshY), \n",
    "                                           minCoord=(a,a), \n",
    "                                           maxCoord=(b,b))\n",
    "linearMesh   = elementMesh\n",
    "constantMesh = elementMesh.subMesh"
   ]
  },
  {
   "cell_type": "code",
   "execution_count": 7,
   "metadata": {
    "collapsed": true
   },
   "outputs": [],
   "source": [
    "# create fevariables\n",
    "velocityField    = uw.mesh.MeshVariable( mesh=linearMesh,   nodeDofCount=dim )\n",
    "pressureField    = uw.mesh.MeshVariable( mesh=constantMesh, nodeDofCount=1 )\n",
    "temperatureField = uw.mesh.MeshVariable( mesh=linearMesh,   nodeDofCount=1 )\n",
    "temperatureDotField = uw.mesh.MeshVariable( mesh=linearMesh,         nodeDofCount=1 )"
   ]
  },
  {
   "cell_type": "code",
   "execution_count": 8,
   "metadata": {
    "collapsed": true
   },
   "outputs": [],
   "source": [
    "for index, coord in enumerate(linearMesh.data):\n",
    "    if coord[1] < 0.7:\n",
    "        temperatureField.data[index] = 0.5  \n",
    "    else:\n",
    "        temperatureField.data[index] = 1. - coord[1]\n",
    "    "
   ]
  },
  {
   "cell_type": "code",
   "execution_count": 9,
   "metadata": {
    "collapsed": true
   },
   "outputs": [],
   "source": [
    "#THis one for the square mesh\n",
    "\n",
    "\n",
    "newys = []\n",
    "newxs = []\n",
    "for index, coord in enumerate(linearMesh.data):\n",
    "    y0 = coord[1]\n",
    "    x0 = abs(coord[0])\n",
    "    newy =(1. - (a + (b-a)*((1 - y0)/(b-a))**s))\n",
    "    newx =(1. - (a + (b-a)*((1 - x0)/(b-a))**s)) \n",
    "    newys.append(newy)\n",
    "    newxs.append(newx)"
   ]
  },
  {
   "cell_type": "code",
   "execution_count": 10,
   "metadata": {
    "collapsed": true
   },
   "outputs": [],
   "source": [
    "with linearMesh.deform_mesh():\n",
    "    linearMesh.data[:,1] = newys\n",
    "    linearMesh.data[:,0] = newxs"
   ]
  },
  {
   "cell_type": "code",
   "execution_count": 12,
   "metadata": {
    "collapsed": false
   },
   "outputs": [
    {
     "data": {
      "text/html": [
       "<img src='data:image/png;base64,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'>"
      ],
      "text/plain": [
       "<IPython.core.display.HTML object>"
      ]
     },
     "execution_count": 12,
     "metadata": {},
     "output_type": "execute_result"
    }
   ],
   "source": [
    "# gLucifer visualisation of mesh\n",
    "fig = glucifer.Figure( figsize=(800,400) )\n",
    "fig.append(glucifer.objects.Mesh( elementMesh ))\n",
    "fig.append(glucifer.objects.Surface( elementMesh, temperatureField))\n",
    "fig.show()\n",
    "#fig.save_database('test.gldb')"
   ]
  },
  {
   "cell_type": "code",
   "execution_count": 47,
   "metadata": {
    "collapsed": false
   },
   "outputs": [
    {
     "data": {
      "text/plain": [
       "1.26"
      ]
     },
     "execution_count": 47,
     "metadata": {},
     "output_type": "execute_result"
    }
   ],
   "source": [
    "s"
   ]
  },
  {
   "cell_type": "code",
   "execution_count": 48,
   "metadata": {
    "collapsed": false
   },
   "outputs": [
    {
     "name": "stdout",
     "output_type": "stream",
     "text": [
      "2.4966610978\n"
     ]
    }
   ],
   "source": [
    "s = 1.22 \n",
    "res = 64.\n",
    "dy = 1/res\n",
    "dyp =(1. - (a + (b-a)*((1 - (1 - dy)/(b-a))**s)))\n",
    "#print(dyp)\n",
    "print((dy)/(1-dyp))"
   ]
  },
  {
   "cell_type": "code",
   "execution_count": 49,
   "metadata": {
    "collapsed": false
   },
   "outputs": [
    {
     "name": "stdout",
     "output_type": "stream",
     "text": [
      "s is: 1.0 del y is: 1.0\n",
      "s is: 1.02 del y is: 1.08673486253\n",
      "s is: 1.04 del y is: 1.18099266143\n",
      "s is: 1.06 del y is: 1.28342589756\n",
      "s is: 1.08 del y is: 1.39474366635\n",
      "s is: 1.1 del y is: 1.51571656651\n",
      "s is: 1.12 del y is: 1.64718203454\n",
      "s is: 1.14 del y is: 1.79005014186\n",
      "s is: 1.16 del y is: 1.94530989482\n",
      "s is: 1.18 del y is: 2.11403608112\n",
      "s is: 1.2 del y is: 2.29739670999\n",
      "s is: 1.22 del y is: 2.4966610978\n",
      "s is: 1.24 del y is: 2.7132086549\n",
      "s is: 1.26 del y is: 2.94853843458\n",
      "s is: 1.28 del y is: 3.20427951036\n",
      "s is: 1.3 del y is: 3.48220225318\n"
     ]
    }
   ],
   "source": [
    "for i in np.arange(1,1.3,0.02):\n",
    "    dyp =(1. - (a + (b-a)*((1 - (1 - dy)/(b-a))**i)))\n",
    "    #print(dyp)\n",
    "    print(\"s is: \" + str(i) + \" del y is: \" + str((dy)/(1-dyp)))"
   ]
  },
  {
   "cell_type": "markdown",
   "metadata": {},
   "source": [
    "## circular refinement"
   ]
  },
  {
   "cell_type": "code",
   "execution_count": 27,
   "metadata": {
    "collapsed": true
   },
   "outputs": [],
   "source": [
    "# create mesh objects\n",
    "meshX = 64\n",
    "meshY = 64\n",
    "\n",
    "mesh = uw.mesh.FeMesh_Cartesian( elementType = (\"Q1/dQ0\"), \n",
    "                                 elementRes  = (meshX, meshY), \n",
    "                                 minCoord    = (0., 0.), \n",
    "                                 maxCoord    = (1., 1.))\n",
    "linearMesh   = mesh\n",
    "constantMesh = mesh.subMesh"
   ]
  },
  {
   "cell_type": "code",
   "execution_count": 28,
   "metadata": {
    "collapsed": false
   },
   "outputs": [
    {
     "data": {
      "text/html": [
       "<img src='data:image/png;base64,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'>"
      ],
      "text/plain": [
       "<IPython.core.display.HTML object>"
      ]
     },
     "execution_count": 28,
     "metadata": {},
     "output_type": "execute_result"
    }
   ],
   "source": [
    "# gLucifer visualisation of mesh\n",
    "fig = glucifer.Figure( figsize=(800,400) )\n",
    "fig.append(glucifer.objects.Mesh(mesh))\n",
    "fig.show()"
   ]
  },
  {
   "cell_type": "code",
   "execution_count": 29,
   "metadata": {
    "collapsed": false
   },
   "outputs": [],
   "source": [
    "def gauss(r,a):\n",
    "    return np.exp(-r**2/a**2) \n",
    "\n",
    "def circ_attractor(mesh, beta, origin = [0.,1.],target = 0.5, vcutoff=None, hcutoff= None):\n",
    "    #Get mesh info\n",
    "    dx = (mesh.maxCoord[0] - mesh.minCoord[0])/mesh.elementRes[0]\n",
    "    #Initialise vector for the attractor\n",
    "    r0 = np.array(origin)\n",
    "    newmeshdata = np.copy(mesh.data)\n",
    "    for index, coord in enumerate(linearMesh.data):\n",
    "        n0 = np.array(coord) #get node position vector\n",
    "        d0 = r0 - n0 #get vector between points\n",
    "        dl = np.linalg.norm(d0)\n",
    "        if not dl == 0:\n",
    "            du = d0/dl\n",
    "        #Get weight\n",
    "        #w0 = gauss(dl, beta)*(dx*target/2) #\n",
    "        w0 = abs((1. - (a + (b-a)*((1 - dl)/(b-a))**s)) - dl)\n",
    "        #Calc new mesh positions:\n",
    "        if dl > dx:\n",
    "            newmeshdata[index] = newmeshdata[index] + (du*w0)\n",
    "    return newmeshdata\n",
    "        \n",
    "            \n",
    "        \n",
    "    print(r0, n0, d0, du, w0)"
   ]
  },
  {
   "cell_type": "code",
   "execution_count": 30,
   "metadata": {
    "collapsed": false
   },
   "outputs": [],
   "source": [
    "newcoords = circ_attractor(mesh, 1000., origin = [0.5,0.5], target = 2)"
   ]
  },
  {
   "cell_type": "code",
   "execution_count": 31,
   "metadata": {
    "collapsed": false
   },
   "outputs": [
    {
     "data": {
      "text/plain": [
       "array([[ 0.056606  ,  0.056606  ],\n",
       "       [ 0.07193535,  0.05812681],\n",
       "       [ 0.08712717,  0.05960231],\n",
       "       ..., \n",
       "       [ 0.91287283,  0.94039769],\n",
       "       [ 0.92806465,  0.94187319],\n",
       "       [ 0.943394  ,  0.943394  ]])"
      ]
     },
     "execution_count": 31,
     "metadata": {},
     "output_type": "execute_result"
    }
   ],
   "source": [
    "newcoords"
   ]
  },
  {
   "cell_type": "code",
   "execution_count": 32,
   "metadata": {
    "collapsed": false
   },
   "outputs": [],
   "source": [
    "with mesh.deform_mesh():\n",
    "    mesh.data[:] = newcoords    "
   ]
  },
  {
   "cell_type": "code",
   "execution_count": 33,
   "metadata": {
    "collapsed": false
   },
   "outputs": [
    {
     "data": {
      "text/html": [
       "<img src='data:image/png;base64,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'>"
      ],
      "text/plain": [
       "<IPython.core.display.HTML object>"
      ]
     },
     "execution_count": 33,
     "metadata": {},
     "output_type": "execute_result"
    }
   ],
   "source": [
    "# gLucifer visualisation of mesh\n",
    "fig = glucifer.Figure( figsize=(800,400) )\n",
    "fig.append(glucifer.objects.Mesh(mesh))\n",
    "\n",
    "fig.save_database('test.gldb')\n",
    "fig.show()"
   ]
  },
  {
   "cell_type": "code",
   "execution_count": null,
   "metadata": {
    "collapsed": true
   },
   "outputs": [],
   "source": []
  },
  {
   "cell_type": "code",
   "execution_count": null,
   "metadata": {
    "collapsed": true
   },
   "outputs": [],
   "source": []
  }
 ],
 "metadata": {
  "kernelspec": {
   "display_name": "Python 2",
   "language": "python",
   "name": "python2"
  },
  "language_info": {
   "codemirror_mode": {
    "name": "ipython",
    "version": 2
   },
   "file_extension": ".py",
   "mimetype": "text/x-python",
   "name": "python",
   "nbconvert_exporter": "python",
   "pygments_lexer": "ipython2",
   "version": "2.7.11"
  }
 },
 "nbformat": 4,
 "nbformat_minor": 0
}
