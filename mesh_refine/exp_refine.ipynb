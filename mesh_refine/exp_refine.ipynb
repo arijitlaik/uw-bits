{
 "cells": [
  {
   "cell_type": "code",
   "execution_count": 1,
   "metadata": {
    "collapsed": false
   },
   "outputs": [
    {
     "name": "stdout",
     "output_type": "stream",
     "text": [
      "Populating the interactive namespace from numpy and matplotlib\n"
     ]
    }
   ],
   "source": [
    "import numpy as np\n",
    "import math\n",
    "import matplotlib.pylab as pyplt\n",
    "%pylab inline"
   ]
  },
  {
   "cell_type": "markdown",
   "metadata": {},
   "source": [
    "This notebook implements various mesh refinement functions for use with Underworld2."
   ]
  },
  {
   "cell_type": "markdown",
   "metadata": {},
   "source": [
    "## Example 1: \n",
    "\n",
    "$y' = \\frac{ln((\\alpha y + e) -1)}{ln((\\alpha + e) - 1)}$\n"
   ]
  },
  {
   "cell_type": "markdown",
   "metadata": {},
   "source": []
  },
  {
   "cell_type": "code",
   "execution_count": 80,
   "metadata": {
    "collapsed": false
   },
   "outputs": [
    {
     "data": {
      "image/png": "[encoded data removed]",
      "text/plain": [
       "<matplotlib.figure.Figure at 0x7f5a650b1190>"
      ]
     },
     "metadata": {},
     "output_type": "display_data"
    }
   ],
   "source": [
    "alpha = 11\n",
    "yorig = np.linspace(0.00,1,100)\n",
    "\n",
    "y2 = [(math.log(alpha*Y + math.e) - 1.)*(1./(math.log(alpha + math.e) - 1)) for Y in yorig ]\n",
    "y3 = [(math.e**(Y*(math.log(alpha + math.e) - 1) + 1 ) - math.e)/alpha for Y in yorig ]\n",
    "pyplot.plot(yorig, y3)\n",
    "pyplot.plot(yorig, y2)\n",
    "pyplot.axis('equal')\n",
    "pyplot.grid()"
   ]
  },
  {
   "cell_type": "code",
   "execution_count": 3,
   "metadata": {
    "collapsed": false
   },
   "outputs": [
    {
     "name": "stdout",
     "output_type": "stream",
     "text": [
      "(0.00390625, 0.001938026862393638, 2.015580937394969)\n"
     ]
    }
   ],
   "source": [
    "alpha = 11.\n",
    "res = 256\n",
    "dyo = 1./res\n",
    "\n",
    "dyn = 1. - (math.log(alpha*(1- dyo ) + math.e) - 1.)*(1./(math.log(alpha + math.e) - 1))\n",
    "\n",
    "print(dyo, dyn, (dyo/dyn))"
   ]
  },
  {
   "cell_type": "code",
   "execution_count": 4,
   "metadata": {
    "collapsed": false
   },
   "outputs": [
    {
     "name": "stdout",
     "output_type": "stream",
     "text": [
      "(0.0, 0.9999999999999999)\n"
     ]
    }
   ],
   "source": [
    "### print((math.log(alpha*0. + math.e) - 1)*(1/(math.log(alpha + math.e) - 1)), (math.log(alpha*1. + math.e) - 1)*(1/(math.log(alpha + math.e) - 1)))\n",
    "print((math.e**(0*(math.log(alpha + math.e) - 1) + 1 ) - math.e)/alpha, (math.e**(1.*(math.log(alpha + math.e) - 1) + 1 ) - math.e)/alpha)\n",
    "\n",
    "#(math.e**(0.*math.log(alpha + math.e)) - math.e)/alpha"
   ]
  },
  {
   "cell_type": "code",
   "execution_count": 9,
   "metadata": {
    "collapsed": false
   },
   "outputs": [],
   "source": [
    "# RT PIC - classic and nearest neighbour\n",
    "import underworld as uw\n",
    "import math\n",
    "from underworld import function as fn\n",
    "import glucifer\n",
    "import numpy as np\n",
    "import os\n",
    "#from shapely.geometry import Polygon\n",
    "#from shapely.geometry import Point"
   ]
  },
  {
   "cell_type": "code",
   "execution_count": 10,
   "metadata": {
    "collapsed": true
   },
   "outputs": [],
   "source": [
    "dim = 2\n",
    "\n",
    "meshX = 64\n",
    "meshY = 64"
   ]
  },
  {
   "cell_type": "code",
   "execution_count": 11,
   "metadata": {
    "collapsed": true
   },
   "outputs": [],
   "source": [
    "# create mesh objects\n",
    "elementMesh = uw.mesh.FeMesh_Cartesian( elementType='Q1/dQ0', \n",
    "                                         elementRes=(meshX, meshY), \n",
    "                                           minCoord=(0.,0.), \n",
    "                                           maxCoord=(1.,1.0))\n",
    "linearMesh   = elementMesh\n",
    "constantMesh = elementMesh.subMesh"
   ]
  },
  {
   "cell_type": "code",
   "execution_count": 44,
   "metadata": {
    "collapsed": false
   },
   "outputs": [],
   "source": [
    "# create fevariables\n",
    "velocityField    = uw.mesh.MeshVariable( mesh=linearMesh,   nodeDofCount=dim )\n",
    "pressureField    = uw.mesh.MeshVariable( mesh=constantMesh, nodeDofCount=1 )\n",
    "temperatureField = uw.mesh.MeshVariable( mesh=linearMesh,   nodeDofCount=1 )\n",
    "temperatureDotField = uw.mesh.MeshVariable( mesh=linearMesh,         nodeDofCount=1 )\n"
   ]
  },
  {
   "cell_type": "code",
   "execution_count": 45,
   "metadata": {
    "collapsed": false
   },
   "outputs": [],
   "source": [
    "for index, coord in enumerate(linearMesh.data):\n",
    "    if coord[1] < 0.7:\n",
    "        temperatureField.data[index] = 0.5  \n",
    "    else:\n",
    "        temperatureField.data[index] = 1. - coord[1]\n",
    "    "
   ]
  },
  {
   "cell_type": "code",
   "execution_count": 46,
   "metadata": {
    "collapsed": false
   },
   "outputs": [],
   "source": [
    "#(math.log(0 + 0.001)/alpha + 1) + abs((math.log(0.0 + 0.001)/alpha + 1))"
   ]
  },
  {
   "cell_type": "code",
   "execution_count": 47,
   "metadata": {
    "collapsed": false
   },
   "outputs": [],
   "source": [
    "#THis one for the rectangonal mesh\n",
    "alpha = 1.\n",
    "newys = []\n",
    "newxs = []\n",
    "for index, coord in enumerate(linearMesh.data):\n",
    "    y0 = coord[1]\n",
    "    x0 = abs(coord[0])\n",
    "    newy = (math.log(alpha*y0 + math.e) - 1)*(1/(math.log(alpha + math.e) - 1))\n",
    "    if coord[0] > 0:\n",
    "        newx = (math.e**(x0*(math.log((alpha/2.) + math.e) - 1) + 1 ) - math.e)/(alpha/2.)     \n",
    "    else:\n",
    "        newx = -1.*(math.e**(x0*(math.log((alpha/2.) + math.e) - 1) + 1 ) - math.e)/(alpha/2.)\n",
    "    newys.append(newy)\n",
    "    newxs.append(newx)\n",
    "    #print y0,newy"
   ]
  },
  {
   "cell_type": "code",
   "execution_count": 48,
   "metadata": {
    "collapsed": true
   },
   "outputs": [],
   "source": [
    "#THis one for the square mesh\n",
    "\n",
    "alpha = 11.\n",
    "newys = []\n",
    "newxs = []\n",
    "for index, coord in enumerate(linearMesh.data):\n",
    "    y0 = coord[1]\n",
    "    x0 = abs(coord[0])\n",
    "    newy = (math.log(alpha*y0 + math.e) - 1)*(1/(math.log(alpha + math.e) - 1))\n",
    "    newx = (math.log(alpha*x0 + math.e) - 1)*(1/(math.log(alpha + math.e) - 1))\n",
    "    newys.append(newy)\n",
    "    newxs.append(newx)"
   ]
  },
  {
   "cell_type": "code",
   "execution_count": 49,
   "metadata": {
    "collapsed": false
   },
   "outputs": [
    {
     "data": {
      "text/plain": [
       "array([ 0.,  0.,  0., ...,  1.,  1.,  1.])"
      ]
     },
     "execution_count": 49,
     "metadata": {},
     "output_type": "execute_result"
    }
   ],
   "source": [
    "linearMesh.data[:,1]"
   ]
  },
  {
   "cell_type": "code",
   "execution_count": 50,
   "metadata": {
    "collapsed": false
   },
   "outputs": [],
   "source": [
    "with linearMesh.deform_mesh():\n",
    "    linearMesh.data[:,1] = newys\n",
    "    linearMesh.data[:,0] = newxs\n"
   ]
  },
  {
   "cell_type": "code",
   "execution_count": 51,
   "metadata": {
    "collapsed": false
   },
   "outputs": [],
   "source": [
    "\n",
    "    \n",
    "#figtemp = plt.Figure()\n",
    "#figtemp.Surface(temperatureField, elementMesh)\n",
    "#figtemp.Surface(indexField, elementMesh)\n",
    "#figtemp.Mesh(linearMesh, colourBar=False)\n",
    "#figtemp.show()"
   ]
  },
  {
   "cell_type": "code",
   "execution_count": 52,
   "metadata": {
    "collapsed": false
   },
   "outputs": [
    {
     "data": {
      "text/html": [
       "<img src='data:image/png;base64,iVBORw0KGgoAAAANSUhEUgAAAyAAAAGQCAIAAADZR5NjAAAUoUlEQVR42u3dwcsl2VUA8FedRvwzGjfqThdZKFkooqAwGGUQIzGoMSRRRgyhGReGEOLCoQkjDpqEGJUYjMigkQEFRXQRdJGF2Ykb6T9DBFMu3vTX7+uqOn3vufV6+nz1+8E8bp177v3me13v1Xl169U3zfN8AgBgP/c8BQAACiwAAAUWAIACCwAABRYAgAILAECBBQCAAgsAQIEFAKDAAgBAgQUAoMACAFBgAQAosAAAUGABACiwAAAUWAAAKLAAABRYAAAKLAAAFFgAAAosAAAFFgAACiwAAAUWAIACCwBAgQUAgAILAECBBQCgwAIAoNN9TwEVTdPkSYCDmOfZk4ACC15EdfWDf/Af15j5P3/7h/eaeWSq3NjeUe35LZnjOUFvoqsrvgwmIl0JjV2r7URwqxHHg2Di8XQ6rW7GDSh8qPLJgIoFlicBjsNxiopcgwUAoMACAHi5uQaLkn7oi9++xrTf+eT795p5ZKrc2N5R7fktmeM5QW+iqyu+DCYiXQmNXavtRHCrEceDYOLx/LJdbsYNqMs1WBTca12DBUfiOEVFlggBAHZmiZCS3v8n/36Nab/96z+y18wjU+XG9o5qz2/JHM8JehNdXfFlMBHpSmjsWm0ngluNOB4EE4/nl+1yM25AXZYIKbjXWiKEI3GcoiJLhAAAO7NESEkf+Nq3rjHttz7ygb1mHpkqN7Z3VHt+S+Z4TtCb6OqKL4OJSFdCY9dqOxHcasTxIJh4PL9sl5txA+qyREjBvdYSIRyJ4xQVWSIEANiZJUJK+vFv/Os1pv2XD/3YXjOPTJUb2zuqPb8lczwn6E10dcWXwUSkK6Gxa7WdCG414ngQTDyeX7bLzbgBdVkipOBea4kQjsRxioosEQIA7MwSISX91Nv/fI1p//HVn9hr5pGpcmN7R7Xnt2SO5wS9ia6u+DKYiHQlNHatthPBrUYcD4KJx/PLdrkZN6AuS4QU3GstEcKROE5RkTNYlPQz3/yna0z79x/8yb1mHpkqN7Z3VHt+S+Z4TtCb6OqKL4OJSFdCY9dqOxHcasTxIJh4PL9sl5txAwqfC/DJgHp7rTNYcCSOU1TkIncAgJ1ZIqSkD77zD9eY9puv/PReM49MlRvbO6o9vyVzPCfoTXR1xZfBRKQrobFrtZ0IbjXieBBMPJ5ftsvNuAF1WSKk4F5riRCOxHGKipzBoqRX33nnGtO+/core808MlVubO+o9vyWzPGcoDfR1RVfBhORroTGrtV2IrjViONBMPF4ftkuN+MGFD4X4JMB9fZaZ7DgSBynqMgZLEr6pb/7m2tM+5c/+/N7zTwyVW5s76j2/JbM8ZygN9HVFV8GE5GuhMau1XYiuNWI40Ew8Xh+2S434wYUPhfgkwH19lpnsOBIHKeoyBksSvqVv/2ra0z75z/3i3vNPDJVbmzvqPb8lszxnKA30dUVXwYTka6Exq7VdiK41YjjQTDxeH7ZLjfjBhQ+F+CTAfX2Wmew4Egcp6jIGSxK+vjbf3GNab/86i/vNfPIVLmxvaPa81syx3OC3kRXV3wZTES6Ehq7VtuJ4FYjjgfBxOP5ZbvcjBtQ+FyATwbU22udwYIjcZyiImewKOm1v/7qNaZ96xc+utfMI1PlxvaOas9vyRzPCXoTXV3xZTAR6Upo7FptJ4JbjTgeBBOP55ftcjNuQOFzAT4ZUG+vdQYLjsRxioqcwaKkT3/jS9eY9gsf+sReM49MlRvbO6o9vyVzPCfoTXR1xZfBRKQrobFrtZ0IbjXieBBMPJ5ftsvNuAGFzwX4ZEC9vdYZLDgSxykqcgaLkn7n629dY9rf//Bre808MlVubO+o9vyWzPGcoDfR1RVfBhORroTGrtV2IrjViONBMPF4ftkuN+MGFD4X4JMB9fZaZ7DgSBynqMgZLEr6zNfevMa0n//Ip/aaeWSq3NjeUe35LZnjOUFvoqsrvgwmIl0JjV2r7URwqxHHg2Di8fyyXW7GDSh8LsAnA+rttc5gwZE4TlGRM1iU9Pk/e+Ma037mV1/fa+aRqXJje0e157dkjucEvYmurvgymIh0JTR2rbYTwa1GHA+Cicfzy3a5GTeg8LkAnwyot9c6gwVH4jhFRc5gUdIbX/29a0z7+kd/d6+ZR6bKje0d1Z7fkjmeE/Qmurriy2Ai0pXQ2LXaTgS3GnE8CCYezy/b5WbcgMLnAnwyoN5e6wwWHInjFBU5g0VJb37ls9eY9lMf+9xeM49MlRvbO6o9vyVzPCfoTXR1xZfBRKQrobFrtZ0IbjXieBBMPJ5ftsvNuAEKLHih3jf/38s/88hUubG9o9rzWzLHc4LeRFdXfBlMRLoSGrtW24ngViOOB8Hex+f+xK3fBYqyREjBvdYSIRyJ4xQVOYNFSV/80lW+wv3JT7yx18wjU+XG9o5qz2/JHM8JehNdXfFlMBHpSmjsWm0ngluNOB4EE4/nl+1yM25A4XMBPhlQb691BguOxHGKipzBoqSv/PGnrzHtx37jC3vNPDJVbmzvqPb8lszxnKA30dUVXwYTka6Exq7VdiK41YjjQTDxeH7ZLjfjBhQ+F+CTAfX2Wmew4Egcp6jIGSxK+tM/+q1rTPtrv/mHe808MlVubO+o9vyWzPGcoDfR1RVfBhORroTGrtV2IrjViONBMPF4ftkuN+MGKLDghbp3+u7LP/PIVLmxvaPa81syx3OC3kRXV3wZTES6Ehq7VtuJ4FYjjgfB3sfn/sSt3wWKskRIwb3WEiEcieMUFTmDRUlff+vj15j2w699ea+ZR6bKje0d1Z7fkjmeE/Qmurriy2Ai0pXQ2LXaTgS3GnE8CCYezy/b5WbcAAUWvFDf893/fflnHpkqN7Z3VHt+S+Z4TtCb6OqKL4OJSFdCY9dqOxHcasTxINj7+NyfuPW7QFGWCCm411oihCNxnKIiZ7Ao6b8+96PXmPb7P/tve808MlVubO+o9vyWzPGcoDfR1RVfBhORroTGrtV2IrjViONBMPF4ftkuN+MGFD4X4JMB9fZaZ7DgSBynqMgZLEr6n9e/7xrTfu8b/73XzCNT5cb2jmrPb8kczwl6E11d8WUwEelKaOxabSeCW404HgQTj+eX7XIzboACC16o913tE+2OM49MlRvbO6o9vyVzPCfoTXR1xZfBRKQrobFrtZ0IbjXieBDsfXzuT9z6XaAoS4QU3GstEcKROE5RkTNY1HzDffjgKqXbo8d7zTwyVW5s76j2/JbM8ZygN9HVFV8GE5GuhMau1XYiuNWI40Ew8Xh+2S434wbUdc9TAACw8yd2p16pt9daIoQjcZyiIkuE1HzDtUQ4PMoSYRC0RGiJEAZZIgQA2PsTu1Ov1NtrLRHCkThOUZElQmq+4VoiHB5liTAIWiK0RAiDLBECAOz9id2pV+rttZYI4Ugcp6jIEiE133AtEQ6PskQYBC0RWiKEQZYIAQAUWAAALzfXYFFwr3UNFhyJ4xQVuQaLmm+4rsEaHuUarCDoGizXYMEgS4QAAHt/YnfqlXp7rSVCOBLHKSqyREjNN1xLhMOjLBEGQUuElghhkCVCAAAFFgDAy801WBTca12DBUfiOEVFrsGi5huua7CGR7kGKwi6Bss1WDDIEiEAwN6f2J16pd5ea4kQjsRxioosEVLzDdcS4fAoS4RB0BKhJUIYZIkQAECBBQDwcnMNFgX3WtdgwZE4TlGRa7Co+YbrGqzhUa7BCoKuwXINFgyyRAgAoMACAHi5uQaLgnuta7DgSBynqMg1WNR8w3UN1vAo12AFQddguQYLBlkiBABQYAEAvNxcg0XBvdY1WHAkjlNU5Bosar7hugZreJRrsIKga7BcgwWDLBECACiwAAAUWAAAh+IidwrutS5yhyNxnKIiF7lT8w3XRe7Do1zkHgRd5O4idxhkiRAAQIEFAPBycw0WBfda12DBkThOUZFrsKj5husarOFRrsEKgq7Bcg0WDLJECACgwAIAUGABAByKi9wpuNe6yB2OxHGKilzkTs03XBe5D49ykXsQdJG7i9xhkCVCAAAFFgCAAgsAQIEFAECebxFScK/1LUI4EscpKvItQmq+4foW4fAo3yIMgr5F6FuEMMgSIQCAAgsAQIEFAHAoLnKn4F7rInc4EscpKnKROzXfcF3kPjzKRe5B0EXuLnKHQZYIAQAUWAAACiwAAAUWAAB5vkVIwb3WtwjhSBynqMi3CKn5hutbhMOjfIswCPoWoW8RwiBLhAAACiwAAAUWAIACCwCAPN8ipOBe61uEcCSOU1TkW4TUfMP1LcLhUb5FGAR9i9C3CGGQJUIAAAUWAIACCwBAgQUAQJ5vEVJwr/UtQjgSxykq8i1Car7h+hbh8CjfIgyCvkXoW4QwyBIhAIACCwBAgQUAoMACAECBBQDw0nCbBgrutW7TAEfiOEVFbtNAzTdct2kYHuU2DUHQbRrcpgEGWSIEAFBgAQAosAAAFFgAACiwAAAUWAAAd5X7YFFwr3UfLDgSxykqch8sar7hug/W8Cj3wQqC7oPlPlgwyBIhAIACCwBAgQUAoMACAECBBQCgwAIAuKvcB4uCe637YMGROE5RkftgUfMN132whke5D1YQdB8s98GCQZYIAQAUWAAACiwAAAUWAAAKLAAABRYAwF3lPlgU3GvdBwuOxHGKitwHi5pvuO6DNTzKfbCCoPtguQ8WDLJECACgwAIAUGABACiwAABQYAEAKLAAABRYAAAosAAA3gvu5E7Bvdad3OFIHKeoyJ3cqfmG607uw6PcyT0IupO7O7nDIEuEAAAKLAAABRYAgAILAAAFFgCAAgsAQIEFAIACCwDgveBO7hTca93JHY7EcYqK3Mmdmm+47uQ+PMqd3IOgO7m7kzsMskQIAKDAAgBQYAEAKLAAAFBgAQAosAAAFFgAACiwAAAUWAAACiwAAJ7lbxFScK/1twjhSBynqMjfIqTmG66/RTg8yt8iDIL+FqG/RQiDLBECACiwAAAUWAAACiwAABRYAAAKLAAABRYAAAosAAAFFgCAAgsAgGf5W4QU3Gv9LUI4EscpKvK3CKn5hutvEQ6P8rcIg6C/RehvEcIgS4QAAAosAAAFFgCAAgsAAAUWAIACCwBAgQUAgAILAECBBQCgwAIAQIEFAKDAAgCoZfJXyqm3106TJwGOw3GKiu57Cij5hvvwwVVKt0eP95p5ZKrc2N5R7fktmeM5QW+iqyu+DCYiXQmNXavtRHCrEceDYOLx/LJdbsYNqMsSIQCAAgsAQIEFAKDAAgBAgQUAoMACAFBgAQCgwAIAUGABACiwAABQYAEAKLAAABRYAAAKLAAA9jPN8+xZoNheO02eBDgOxykquu8poOQb7sMHVyndHj3ea+aRqXJje0e157dkjucEvYmurvgymIh0JTR2rbYTwa1GHA+Cicfzy3a5GTegLkuEAAAKLAAABRYAgAILAAAFFgCAAgsAQIEFAIACCwBAgQUAoMACAECBBQCgwAIAUGABACiwAABQYAEAKLAAAI5imufZs0CxvXaaPAlwHI5TVHTfU0DJN9yHD65Suj16vNfMI1PlxvaOas9vyRzPCXoTXV3xZTAR6Upo7FptJ4JbjTgeBBOP55ftcjNuQF2WCAEAFFgAAAosAAAFFgAACiwAAAUWAIACCwAABRYAgAILAECBBQCAAgsAQIEFAKDAAgBQYAEAoMACAFBgAQAosAAAUGABALwMpnmePQsU22unyZMAx+E4RUX3PQWUfMN9+OAqpdujx3vNPDJVbmzvqPb8lszxnKA30dUVXwYTka6Exq7VdiK41YjjQTDxeH7ZLjfjBtRliRAAQIEFAKDAAgBQYAEAoMACAFBgAQAosAAAUGABACiwAAAUWAAAKLAAABRYAAAKLAAABRYAAAosAAAFFgCAAgsAAAUWAIACCwBAgQUAgAILAECBBQCgwAIA4MI0z7NngWJ77TR5EuA4HKeo6L6ngJJvuA8fXKV0e/R4r5lHpsqN7R3Vnt+SOZ4T9Ca6uuLLYCLSldDYtdpOBLcacTwIJh7PL9vlZtyAuiwRAgAosAAAFFgAAAosAAAUWAAACiwAAAUWAAAKLAAABRYAgAILAAAFFgCAAgsAQIEFAKDAAgBAgQUAoMACAFBgAQCgwAIAUGABACiwAABQYAEAKLAAABRYAAAosAAAFFgAAAosAAAFFgAAu5jmefYsUGyvnSZPAhyH4xQKLAAALBECACiwAAAUWAAACiwAAAbcP9ov7AtoAPDiHe1LdccqsKZp+oE3v3M6nabpdDrNT4KXCfNF++lecSvndDo9SZve/e/cni/aN/H5ds7Y2Cdp00VoOv8iz8bn2zmpsafTaXoy9mn7Jj7fzjm3dxo78G90nnya3x1+uTndPKvzzf/Duz90mi+ST6fTYnO6TD7Np/nZzafJi82LGZ783NubT376xf/zfDH2NE/zxdjbm0f7fS/2z/nmt17tvfitn/Yu/58vRt3qvfWD2nqXz9XlP8pl77O//uI3upjzWL/v7V/24q3pctr5dCvz6VvIIvI0Pt+eauunzNOtqZb/Y8/+lIv4vPgffjJ2jn6R289Y9Issf8ozPyJ4WjZ+kehp2fpFlrNt/SKXP+Xeo8dHKygtEQIAKLAAABRYAAAKLAAAFFgAAAosAAAFFgAACiwAgPfCdKg7q7qNOwC8J9zJ3T8wALCnA57gsEQIAKDAAgBQYAEAKLAAAMibXPQNALAvZ7AAAHZ2d27TME0rZ+Muvxfada7uPPByyM1UzvkBQMthdPWg+cwtG+7qUfX+HfuHXEr8yy1nu6ne3KoUAJ57GL05aK6e/jjCqYp7d+kfci/BbE5fAcD48fTOu/t3cl+epexdN3TWCgCucXS+wxXYvTvwLxT/88zzfLm6d/Mv2vuPOj3hVQEAg+78hTe1C6yW6uqZxmW11PVPOz+hxgKAwdLqdNcXEOstET6z5HdZ7jRejBV8o8ElVgDAEQusyxromdsorFZOQR1203juabCb4U5fAUCj1YPm7l9NU2C90H/R5SXtN7VU7lIqZ7kAoMXliYnLw/HWoflO+n8dGPWyN6fnDQAAAABJRU5ErkJggg=='>"
      ],
      "text/plain": [
       "<IPython.core.display.HTML object>"
      ]
     },
     "execution_count": 52,
     "metadata": {},
     "output_type": "execute_result"
    }
   ],
   "source": [
    "\n",
    "# gLucifer visualisation of mesh\n",
    "fig = glucifer.Figure( figsize=(800,400) )\n",
    "fig.append(glucifer.objects.Mesh( elementMesh ))\n",
    "fig.append(glucifer.objects.Surface( elementMesh, temperatureField))\n",
    "fig.show()"
   ]
  },
  {
   "cell_type": "code",
   "execution_count": 53,
   "metadata": {
    "collapsed": false
   },
   "outputs": [],
   "source": [
    "#indexField = uw.fevariable.FeVariable( feMesh=linearMesh, nodeDofCount=1)\n",
    "\n",
    "#for index, coord in enumerate(linearMesh.data):\n",
    "#     indexField.data[index] = ((index % (meshX+1)) % 2 ==0)\n",
    "#    indexField.data[index] = ((index/(meshX+1) % (meshY+1)) % 2 ==0)\n",
    "\n",
    "\n",
    "#figindex = plt.Figure()\n",
    "#figindex.Surface(indexField, elementMesh)\n",
    "#figindex.Mesh(linearMesh, colourBar=False)\n",
    "#figindex.show()"
   ]
  },
  {
   "cell_type": "code",
   "execution_count": 54,
   "metadata": {
    "collapsed": false
   },
   "outputs": [],
   "source": [
    "#indexField.evaluate((0.5,0.26))"
   ]
  },
  {
   "cell_type": "code",
   "execution_count": 55,
   "metadata": {
    "collapsed": false
   },
   "outputs": [],
   "source": [
    "#linearMesh._cself.isRegular#"
   ]
  },
  {
   "cell_type": "code",
   "execution_count": 56,
   "metadata": {
    "collapsed": false
   },
   "outputs": [],
   "source": [
    "Ra=1.e6\n",
    "rho = 4.0e3\n",
    "grav = 10\n",
    "height = 1.e6\n",
    "kappa = 1.0e-6\n",
    "\n",
    "# Set a constant viscosity.\n",
    "viscosity = 1.\n",
    "\n",
    "# Create our density function.\n",
    "densityFn = Ra * temperatureField\n",
    "\n",
    "# Define our vertical unit vector using a python tuple (this will be automatically converted to a function).\n",
    "z_hat = ( 0.0, 1.0 )\n",
    "\n",
    "# A buoyancy function.\n",
    "buoyancyFn = densityFn * z_hat\n",
    "\n",
    "# The temperature gradient is useful in the analysis below. We access it via the 'gradientFn' attribute provided\n",
    "# via the FeVariable.\n",
    "gradField = temperatureField.fn_gradient"
   ]
  },
  {
   "cell_type": "code",
   "execution_count": 57,
   "metadata": {
    "collapsed": false
   },
   "outputs": [],
   "source": [
    "iWalls = elementMesh.specialSets[\"MinI_VertexSet\"] + elementMesh.specialSets[\"MaxI_VertexSet\"]\n",
    "jWalls = elementMesh.specialSets[\"MinJ_VertexSet\"] + elementMesh.specialSets[\"MaxJ_VertexSet\"]\n",
    "\n",
    "freeslipBC = uw.conditions.DirichletCondition(     variable = velocityField, \n",
    "                                              indexSetsPerDof = (iWalls,jWalls) )\n",
    "tempBC     = uw.conditions.DirichletCondition(     variable = temperatureField, \n",
    "                                              indexSetsPerDof = (jWalls,) )"
   ]
  },
  {
   "cell_type": "code",
   "execution_count": 58,
   "metadata": {
    "collapsed": false
   },
   "outputs": [],
   "source": [
    "stokesPIC = uw.systems.Stokes( velocityField = velocityField, \n",
    "                               pressureField = pressureField,\n",
    "                               conditions    = [freeslipBC,],\n",
    "                               fn_viscosity   = viscosity, \n",
    "                               fn_bodyforce   = buoyancyFn )"
   ]
  },
  {
   "cell_type": "code",
   "execution_count": 61,
   "metadata": {
    "collapsed": false
   },
   "outputs": [],
   "source": [
    "advDiff = uw.systems.AdvectionDiffusion( temperatureField, temperatureDotField,velocityField, fn_diffusivity=1., conditions=[tempBC,], )"
   ]
  },
  {
   "cell_type": "code",
   "execution_count": 64,
   "metadata": {
    "collapsed": false
   },
   "outputs": [],
   "source": [
    "solver = uw.systems.Solver(stokesPIC)\n",
    "solver.solve() \n"
   ]
  },
  {
   "cell_type": "code",
   "execution_count": 67,
   "metadata": {
    "collapsed": false
   },
   "outputs": [
    {
     "data": {
      "text/html": [
       "<img src='data:image/png;base64,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'>"
      ],
      "text/plain": [
       "<IPython.core.display.HTML object>"
      ]
     },
     "execution_count": 67,
     "metadata": {},
     "output_type": "execute_result"
    }
   ],
   "source": [
    "\n",
    "velmax = np.amax(velocityField.data[:])\n",
    "if(velmax==0.0): velmax = 1.0\n",
    "fig1 = glucifer.Figure()\n",
    "fig1.append( glucifer.objects.Surface(linearMesh, temperatureField) )\n",
    "fig1.append( glucifer.objects.VectorArrows(linearMesh, velocityField/velmax, scaling=0.1, arrowHead=0.2) )\n",
    "fig1.show()"
   ]
  },
  {
   "cell_type": "markdown",
   "metadata": {
    "collapsed": true
   },
   "source": [
    "## Example 2: \n",
    "\n",
    "This refinement function is given in the Fenics documentation: http://fenicsproject.org/documentation/tutorial/prepro.html\n",
    "\n",
    "$y' = a + (b-a)(\\frac{y-a}{b-a})^s$\n",
    "\n",
    "Here I'm using the similar expression:\n",
    "\n",
    "$y' = 1. - \\left( a + (b-a)(\\frac{y-a}{b-a})^s \\right)$"
   ]
  },
  {
   "cell_type": "code",
   "execution_count": 192,
   "metadata": {
    "collapsed": false
   },
   "outputs": [
    {
     "data": {
      "text/plain": [
       "(0.0, 1.0, 0.0, 1.0)"
      ]
     },
     "execution_count": 192,
     "metadata": {},
     "output_type": "execute_result"
    },
    {
     "data": {
      "image/png": "[encoded data removed]",
      "text/plain": [
       "<matplotlib.figure.Figure at 0x7f5a6551f110>"
      ]
     },
     "metadata": {},
     "output_type": "display_data"
    }
   ],
   "source": [
    "s = 1.22\n",
    "a = 0.00\n",
    "b = 1.\n",
    "yorig = np.linspace(a,b,100)\n",
    "\n",
    "yp0 = [a + (b-a)*((Y - a)/(b-a))**(1./s) for Y in yorig ]\n",
    "yp1 = [1. - (a + (b-a)*((1 - Y)/(b-a))**s) for Y in yorig ]\n",
    "\n",
    "\n",
    "pyplot.plot(yorig, y2, linestyle='--')\n",
    "pyplot.plot(yorig, y3, linestyle='--')\n",
    "\n",
    "\n",
    "pyplot.plot(yorig, yp0, c= 'k')\n",
    "pyplot.plot(yorig, yp1)\n",
    "#pyplot.grid()\n",
    "pyplot.axis('equal')\n"
   ]
  },
  {
   "cell_type": "code",
   "execution_count": 193,
   "metadata": {
    "collapsed": false
   },
   "outputs": [
    {
     "data": {
      "text/plain": [
       "1.0"
      ]
     },
     "execution_count": 193,
     "metadata": {},
     "output_type": "execute_result"
    }
   ],
   "source": [
    "max(yp1)"
   ]
  },
  {
   "cell_type": "code",
   "execution_count": 211,
   "metadata": {
    "collapsed": true
   },
   "outputs": [],
   "source": [
    "s = 1.26\n",
    "a = 0.00\n",
    "b = 1.\n",
    "\n",
    "# create mesh objects\n",
    "elementMesh = uw.mesh.FeMesh_Cartesian( elementType='Q1/dQ0', \n",
    "                                         elementRes=(meshX, meshY), \n",
    "                                           minCoord=(a,a), \n",
    "                                           maxCoord=(b,b))\n",
    "linearMesh   = elementMesh\n",
    "constantMesh = elementMesh.subMesh"
   ]
  },
  {
   "cell_type": "code",
   "execution_count": 212,
   "metadata": {
    "collapsed": true
   },
   "outputs": [],
   "source": [
    "# create fevariables\n",
    "velocityField    = uw.mesh.MeshVariable( mesh=linearMesh,   nodeDofCount=dim )\n",
    "pressureField    = uw.mesh.MeshVariable( mesh=constantMesh, nodeDofCount=1 )\n",
    "temperatureField = uw.mesh.MeshVariable( mesh=linearMesh,   nodeDofCount=1 )\n",
    "temperatureDotField = uw.mesh.MeshVariable( mesh=linearMesh,         nodeDofCount=1 )"
   ]
  },
  {
   "cell_type": "code",
   "execution_count": 213,
   "metadata": {
    "collapsed": true
   },
   "outputs": [],
   "source": [
    "for index, coord in enumerate(linearMesh.data):\n",
    "    if coord[1] < 0.7:\n",
    "        temperatureField.data[index] = 0.5  \n",
    "    else:\n",
    "        temperatureField.data[index] = 1. - coord[1]\n",
    "    "
   ]
  },
  {
   "cell_type": "code",
   "execution_count": 214,
   "metadata": {
    "collapsed": true
   },
   "outputs": [],
   "source": [
    "#THis one for the square mesh\n",
    "\n",
    "\n",
    "newys = []\n",
    "newxs = []\n",
    "for index, coord in enumerate(linearMesh.data):\n",
    "    y0 = coord[1]\n",
    "    x0 = abs(coord[0])\n",
    "    newy =(1. - (a + (b-a)*((1 - y0)/(b-a))**s))\n",
    "    newx =(1. - (a + (b-a)*((1 - x0)/(b-a))**s)) \n",
    "    newys.append(newy)\n",
    "    newxs.append(newx)"
   ]
  },
  {
   "cell_type": "code",
   "execution_count": 215,
   "metadata": {
    "collapsed": true
   },
   "outputs": [],
   "source": [
    "with linearMesh.deform_mesh():\n",
    "    linearMesh.data[:,1] = newys\n",
    "    linearMesh.data[:,0] = newxs"
   ]
  },
  {
   "cell_type": "code",
   "execution_count": 216,
   "metadata": {
    "collapsed": false
   },
   "outputs": [],
   "source": [
    "\n",
    "\n",
    "# gLucifer visualisation of mesh\n",
    "fig = glucifer.Figure( figsize=(800,400) )\n",
    "fig.append(glucifer.objects.Mesh( elementMesh ))\n",
    "fig.append(glucifer.objects.Surface( elementMesh, temperatureField))\n",
    "fig.show()\n",
    "fig.save_database('test.gldb')"
   ]
  },
  {
   "cell_type": "code",
   "execution_count": 200,
   "metadata": {
    "collapsed": false
   },
   "outputs": [
    {
     "data": {
      "text/plain": [
       "1.5"
      ]
     },
     "execution_count": 200,
     "metadata": {},
     "output_type": "execute_result"
    }
   ],
   "source": [
    "s"
   ]
  },
  {
   "cell_type": "code",
   "execution_count": 209,
   "metadata": {
    "collapsed": false
   },
   "outputs": [
    {
     "name": "stdout",
     "output_type": "stream",
     "text": [
      "2.4966610978\n"
     ]
    }
   ],
   "source": [
    "s = 1.22 \n",
    "res = 64.\n",
    "dy = 1/res\n",
    "dyp =(1. - (a + (b-a)*((1 - (1 - dy)/(b-a))**s)))\n",
    "#print(dyp)\n",
    "print((dy)/(1-dyp))"
   ]
  },
  {
   "cell_type": "code",
   "execution_count": 210,
   "metadata": {
    "collapsed": false
   },
   "outputs": [
    {
     "name": "stdout",
     "output_type": "stream",
     "text": [
      "s is: 1.0 del y is: 1.0\n",
      "s is: 1.02 del y is: 1.08673486253\n",
      "s is: 1.04 del y is: 1.18099266143\n",
      "s is: 1.06 del y is: 1.28342589756\n",
      "s is: 1.08 del y is: 1.39474366635\n",
      "s is: 1.1 del y is: 1.51571656651\n",
      "s is: 1.12 del y is: 1.64718203454\n",
      "s is: 1.14 del y is: 1.79005014186\n",
      "s is: 1.16 del y is: 1.94530989482\n",
      "s is: 1.18 del y is: 2.11403608112\n",
      "s is: 1.2 del y is: 2.29739670999\n",
      "s is: 1.22 del y is: 2.4966610978\n",
      "s is: 1.24 del y is: 2.7132086549\n",
      "s is: 1.26 del y is: 2.94853843458\n",
      "s is: 1.28 del y is: 3.20427951036\n",
      "s is: 1.3 del y is: 3.48220225318\n"
     ]
    }
   ],
   "source": [
    "for i in np.arange(1,1.3,0.02):\n",
    "    dyp =(1. - (a + (b-a)*((1 - (1 - dy)/(b-a))**i)))\n",
    "    #print(dyp)\n",
    "    print(\"s is: \" + str(i) + \" del y is: \" + str((dy)/(1-dyp)))"
   ]
  },
  {
   "cell_type": "code",
   "execution_count": 172,
   "metadata": {
    "collapsed": true
   },
   "outputs": [],
   "source": [
    "range?"
   ]
  },
  {
   "cell_type": "code",
   "execution_count": 174,
   "metadata": {
    "collapsed": false
   },
   "outputs": [
    {
     "data": {
      "text/plain": [
       "[0, -1, -2, -3, -4, -5, -6, -7, -8, -9]"
      ]
     },
     "execution_count": 174,
     "metadata": {},
     "output_type": "execute_result"
    }
   ],
   "source": [
    "list(range(0, -10, -1))"
   ]
  },
  {
   "cell_type": "code",
   "execution_count": null,
   "metadata": {
    "collapsed": true
   },
   "outputs": [],
   "source": []
  }
 ],
 "metadata": {
  "kernelspec": {
   "display_name": "Python 2",
   "language": "python",
   "name": "python2"
  },
  "language_info": {
   "codemirror_mode": {
    "name": "ipython",
    "version": 2
   },
   "file_extension": ".py",
   "mimetype": "text/x-python",
   "name": "python",
   "nbconvert_exporter": "python",
   "pygments_lexer": "ipython2",
   "version": "2.7.9"
  }
 },
 "nbformat": 4,
 "nbformat_minor": 0
}
