{
 "cells": [
  {
   "cell_type": "markdown",
   "metadata": {},
   "source": [
    "#Sigmoid refinement function"
   ]
  },
  {
   "cell_type": "code",
   "execution_count": null,
   "metadata": {
    "collapsed": true
   },
   "outputs": [],
   "source": []
  },
  {
   "cell_type": "code",
   "execution_count": 1,
   "metadata": {
    "collapsed": false
   },
   "outputs": [
    {
     "name": "stdout",
     "output_type": "stream",
     "text": [
      "Populating the interactive namespace from numpy and matplotlib\n"
     ]
    }
   ],
   "source": [
    "import numpy as np\n",
    "import math\n",
    "import matplotlib.pylab as pyplt\n",
    "%pylab inline"
   ]
  },
  {
   "cell_type": "code",
   "execution_count": 70,
   "metadata": {
    "collapsed": false
   },
   "outputs": [],
   "source": [
    "def sigmoid(x, k, a):\n",
    "    x0 = abs(x)\n",
    "    if x > 0:\n",
    "        y2 = (-1*k*x0)/(-1*x0 - a)\n",
    "    else:\n",
    "        y2 = -1*(-1*k*x0)/(-1*x0 - a)\n",
    "    return y2"
   ]
  },
  {
   "cell_type": "code",
   "execution_count": 71,
   "metadata": {
    "collapsed": false
   },
   "outputs": [],
   "source": [
    "def sigmoid2(x, a):\n",
    "    x0 = abs(x)\n",
    "    if x > 0:\n",
    "        y2 = 1./(1 + math.e**(-x0*a))\n",
    "    else:\n",
    "        y2 = -1./(1 + math.e**(-x0*a))\n",
    "    return y2"
   ]
  },
  {
   "cell_type": "code",
   "execution_count": 78,
   "metadata": {
    "collapsed": false
   },
   "outputs": [
    {
     "data": {
      "image/png": "[encoded data removed]",
      "text/plain": [
       "<matplotlib.figure.Figure at 0x10d687a90>"
      ]
     },
     "metadata": {},
     "output_type": "display_data"
    }
   ],
   "source": [
    "#This notebook implements a logarithmic mesh refinement of the unit \n",
    "k =1.0\n",
    "a = 1.2\n",
    "x = np.linspace(-1,1.,100)\n",
    "y1 = [sigmoid(X,k,a) for X in x] \n",
    "y2 = [sigmoid2(X, a) for X in x]\n",
    "\n",
    "pyplot.plot(x, y1, color='r')\n",
    "pyplot.plot(x, y2, color='b')\n",
    "pyplot.grid()"
   ]
  },
  {
   "cell_type": "code",
   "execution_count": 46,
   "metadata": {
    "collapsed": false
   },
   "outputs": [
    {
     "name": "stdout",
     "output_type": "stream",
     "text": [
      "(-0.0, 0.10909090909090909)\n",
      "(0.5, 0.9999546021312976)\n"
     ]
    }
   ],
   "source": [
    "print(sigmoid(0,k,a), sigmoid(1,k,a))\n",
    "print(sigmoid2(0,a), sigmoid2(1,a))"
   ]
  },
  {
   "cell_type": "code",
   "execution_count": 83,
   "metadata": {
    "collapsed": false
   },
   "outputs": [
    {
     "data": {
      "image/png": "[encoded data removed]",
      "text/plain": [
       "<matplotlib.figure.Figure at 0x1083ae150>"
      ]
     },
     "metadata": {},
     "output_type": "display_data"
    }
   ],
   "source": [
    "#This notebook implements a logarithmic mesh refinement of the unit \n",
    "k =1.2\n",
    "a = 10\n",
    "x = np.linspace(0,1,100)\n",
    "y1 = [X - 0.2*math.sin(1.6*math.pi*X) for X in x]\n",
    "#y2 = [sigmoid2(2*(X-0.5), a) for X in x]\n",
    "\n",
    "pyplot.plot(x, y1)\n",
    "#pyplot.plot(x, y2)\n",
    "pyplot.grid()"
   ]
  },
  {
   "cell_type": "code",
   "execution_count": 86,
   "metadata": {
    "collapsed": false
   },
   "outputs": [
    {
     "data": {
      "text/plain": [
       "1.1902113032590307"
      ]
     },
     "execution_count": 86,
     "metadata": {},
     "output_type": "execute_result"
    }
   ],
   "source": [
    "max(y1)"
   ]
  },
  {
   "cell_type": "code",
   "execution_count": 7,
   "metadata": {
    "collapsed": true
   },
   "outputs": [],
   "source": [
    "# RT PIC - classic and nearest neighbour\n",
    "import underworld as uw\n",
    "import math\n",
    "from underworld import function as fn\n",
    "import glucifer.pylab as plt\n",
    "import numpy as np\n",
    "import os\n",
    "from shapely.geometry import Polygon\n",
    "from shapely.geometry import Point"
   ]
  },
  {
   "cell_type": "code",
   "execution_count": 8,
   "metadata": {
    "collapsed": true
   },
   "outputs": [],
   "source": [
    "dim = 2\n",
    "\n",
    "meshX = 64\n",
    "meshY = 32"
   ]
  },
  {
   "cell_type": "code",
   "execution_count": 9,
   "metadata": {
    "collapsed": false
   },
   "outputs": [],
   "source": [
    "# create mesh objects\n",
    "elementMesh = uw.mesh.FeMesh_Cartesian( elementType='Q1/dQ0', \n",
    "                                         elementRes=(meshX, meshY), \n",
    "                                           minCoord=(0.,0.), \n",
    "                                           maxCoord=(1.,1.0))\n",
    "linearMesh   = elementMesh\n",
    "constantMesh = elementMesh.subMesh"
   ]
  },
  {
   "cell_type": "code",
   "execution_count": 10,
   "metadata": {
    "collapsed": true
   },
   "outputs": [],
   "source": [
    "# create fevariables\n",
    "velocityField    = uw.fevariable.FeVariable( feMesh=linearMesh,   nodeDofCount=dim )\n",
    "pressureField    = uw.fevariable.FeVariable( feMesh=constantMesh, nodeDofCount=1 )\n",
    "temperatureField = uw.fevariable.FeVariable( feMesh=linearMesh,   nodeDofCount=1 )"
   ]
  },
  {
   "cell_type": "code",
   "execution_count": 11,
   "metadata": {
    "collapsed": true
   },
   "outputs": [],
   "source": [
    "for index, coord in enumerate(linearMesh.data):\n",
    "    if coord[1] < 0.7:\n",
    "        temperatureField.data[index] = 0.5  \n",
    "    else:\n",
    "        temperatureField.data[index] = 1. - coord[1]\n",
    "    "
   ]
  },
  {
   "cell_type": "code",
   "execution_count": 12,
   "metadata": {
    "collapsed": false
   },
   "outputs": [
    {
     "data": {
      "text/plain": [
       "0.5"
      ]
     },
     "execution_count": 12,
     "metadata": {},
     "output_type": "execute_result"
    }
   ],
   "source": [
    "sigmoid2(2*(0-0.5), 0)"
   ]
  },
  {
   "cell_type": "code",
   "execution_count": 13,
   "metadata": {
    "collapsed": false
   },
   "outputs": [],
   "source": [
    "\n",
    "newys = []\n",
    "for index, coord in enumerate(linearMesh.data):\n",
    "    midpoint = (linearMesh.maxCoord[1] - linearMesh.minCoord[1])/2.\n",
    "    scalefact = 2./(linearMesh.maxCoord[1] - linearMesh.minCoord[1])\n",
    "    y0 = coord[1]\n",
    "    #print y0\n",
    "    yS = abs(y0 - midpoint)*scalefact\n",
    "    newy = sigmoid(yS,k,a)\n",
    "    newy = sigmoid2(2*(y0-0.5), 5.)\n",
    "    #print newy\n",
    "    #print (newy /scalefact) + midpoint\n",
    "    newys.append(newy)"
   ]
  },
  {
   "cell_type": "code",
   "execution_count": null,
   "metadata": {
    "collapsed": true
   },
   "outputs": [],
   "source": []
  },
  {
   "cell_type": "code",
   "execution_count": 14,
   "metadata": {
    "collapsed": false
   },
   "outputs": [],
   "source": [
    "with linearMesh.deform_mesh():\n",
    "    linearMesh.data[:,1] = newys"
   ]
  },
  {
   "cell_type": "code",
   "execution_count": 16,
   "metadata": {
    "collapsed": false
   },
   "outputs": [
    {
     "data": {
      "image/png": "[encoded data removed]",
      "text/plain": [
       "<IPython.core.display.Image object>"
      ]
     },
     "execution_count": 16,
     "metadata": {},
     "output_type": "execute_result"
    }
   ],
   "source": [
    "    \n",
    "figtemp = plt.Figure()\n",
    "#figtemp.Surface(temperatureField, elementMesh)\n",
    "#figtemp.Surface(indexField, elementMesh)\n",
    "figtemp.Mesh(linearMesh, colourBar=False)\n",
    "figtemp.show()"
   ]
  },
  {
   "cell_type": "code",
   "execution_count": null,
   "metadata": {
    "collapsed": true
   },
   "outputs": [],
   "source": []
  }
 ],
 "metadata": {
  "kernelspec": {
   "display_name": "Python 2",
   "language": "python",
   "name": "python2"
  },
  "language_info": {
   "codemirror_mode": {
    "name": "ipython",
    "version": 2
   },
   "file_extension": ".py",
   "mimetype": "text/x-python",
   "name": "python",
   "nbconvert_exporter": "python",
   "pygments_lexer": "ipython2",
   "version": "2.7.10"
  }
 },
 "nbformat": 4,
 "nbformat_minor": 0
}
