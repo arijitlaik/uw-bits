{
 "cells": [
  {
   "cell_type": "code",
   "execution_count": 419,
   "metadata": {
    "collapsed": true
   },
   "outputs": [],
   "source": [
    "#%matplotlib inline\n",
    "import matplotlib.pyplot as plt\n",
    "import underworld as uw\n",
    "import glucifer\n",
    "import numpy as np\n",
    "import slippy2 as sp\n",
    "import math\n"
   ]
  },
  {
   "cell_type": "code",
   "execution_count": 420,
   "metadata": {
    "collapsed": true
   },
   "outputs": [],
   "source": [
    "refineby = 0.50001 \n",
    "A = 0.01"
   ]
  },
  {
   "cell_type": "code",
   "execution_count": 421,
   "metadata": {
    "collapsed": false
   },
   "outputs": [],
   "source": [
    "mesh = uw.mesh.FeMesh_Cartesian( elementType = (\"Q1/dQ0\"), \n",
    "                                 elementRes  = (128,64), \n",
    "                                 minCoord    = (-1., 0.), \n",
    "                                 maxCoord    = (1., 1.))"
   ]
  },
  {
   "cell_type": "code",
   "execution_count": 422,
   "metadata": {
    "collapsed": true
   },
   "outputs": [],
   "source": [
    "temperatureField    = uw.mesh.MeshVariable( mesh=mesh,         nodeDofCount=1 )\n"
   ]
  },
  {
   "cell_type": "code",
   "execution_count": 423,
   "metadata": {
    "collapsed": false
   },
   "outputs": [
    {
     "data": {
      "text/html": [
       "<img src='data:image/png;base64,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'>"
      ],
      "text/plain": [
       "<IPython.core.display.HTML object>"
      ]
     },
     "execution_count": 423,
     "metadata": {},
     "output_type": "execute_result"
    }
   ],
   "source": [
    "figMesh = glucifer.Figure(antialias=1)\n",
    "#figMesh.append( glucifer.objects.Mesh(mesh.subMesh, nodeNumbers=True) )\n",
    "figMesh.append( glucifer.objects.Mesh(mesh) )\n",
    "figMesh.show()"
   ]
  },
  {
   "cell_type": "code",
   "execution_count": 424,
   "metadata": {
    "collapsed": true
   },
   "outputs": [],
   "source": [
    "def mesh_min_max(mesh, axis='x'):\n",
    "    if axis == \"y\":\n",
    "        thisaxis = 1\n",
    "    else:\n",
    "        thisaxis = 0\n",
    "    return np.diff(np.sort(np.unique(mesh.data[:,thisaxis]))).min(), \\\n",
    "    np.diff(np.sort(np.unique(mesh.data[:,thisaxis]))).max()"
   ]
  },
  {
   "cell_type": "code",
   "execution_count": 425,
   "metadata": {
    "collapsed": false
   },
   "outputs": [
    {
     "name": "stdout",
     "output_type": "stream",
     "text": [
      "(0.015625, 0.015625, 0.015625, 0.015625)\n"
     ]
    }
   ],
   "source": [
    "dxmin,dxmax = mesh_min_max(mesh, axis='x')\n",
    "dymin,dymax = mesh_min_max(mesh, axis='y')\n",
    "print(dxmin,dxmax,dymin,dymax)"
   ]
  },
  {
   "cell_type": "markdown",
   "metadata": {},
   "source": [
    "## Temp ICS"
   ]
  },
  {
   "cell_type": "code",
   "execution_count": 426,
   "metadata": {
    "collapsed": false
   },
   "outputs": [],
   "source": [
    "dummymesh = uw.mesh.FeMesh_Cartesian( elementType = (\"Q1/dQ0\"),\n",
    "                                 elementRes  = (128, 64), \n",
    "                                 minCoord    = (-1.,0.), \n",
    "                                 maxCoord=(1.,1.))\n",
    "    \n",
    "dummytemperatureField = uw.mesh.MeshVariable(mesh=dummymesh, nodeDofCount=1 )\n",
    "\n",
    "dummytemperatureField.load(\"8100/temperatureField.hdf5\")"
   ]
  },
  {
   "cell_type": "code",
   "execution_count": 427,
   "metadata": {
    "collapsed": true
   },
   "outputs": [],
   "source": [
    "for index, coord in enumerate(mesh.data):\n",
    "    #Don't know mesh partitions in advance, and possible diferent between 'real' and 'dummy' mesh\n",
    "    try:\n",
    "        #temperatureField.data[index] = dummytemperatureField.evaluate([coord[0], coord[1]])\n",
    "        temperatureField.data[index] = 10.5\n",
    "    except:\n",
    "        pass"
   ]
  },
  {
   "cell_type": "code",
   "execution_count": 428,
   "metadata": {
    "collapsed": false
   },
   "outputs": [],
   "source": [
    "tempNump = temperatureField.data\n",
    "for index, coord in enumerate(mesh.data):\n",
    "    pertCoeff = (1- coord[1]) + A*math.cos( math.pi * abs(1. - coord[0]) ) * math.sin( math.pi * coord[1] )\n",
    "    tempNump[index] = pertCoeff;\n",
    "    if coord[1] > 1:\n",
    "        tempNump[index] = 0."
   ]
  },
  {
   "cell_type": "code",
   "execution_count": 429,
   "metadata": {
    "collapsed": true
   },
   "outputs": [],
   "source": [
    "# area\n",
    "areaint = uw.utils.Integral( 1.,               mesh )\n",
    "tempint = uw.utils.Integral(temperatureField, mesh)\n",
    "def avg_temp():\n",
    "    return tempint.evaluate()[0]/areaint.evaluate()[0]\n",
    "\n",
    "area = np.copy(areaint.evaluate()[0])\n",
    "temp =  np.copy(avg_temp())"
   ]
  },
  {
   "cell_type": "markdown",
   "metadata": {},
   "source": [
    "## Shiskin refinement"
   ]
  },
  {
   "cell_type": "code",
   "execution_count": 430,
   "metadata": {
    "collapsed": false
   },
   "outputs": [],
   "source": [
    "\n",
    "axis = 0\n",
    "#print((mesh.minCoord[axis], mesh.maxCoord[axis], mesh.elementRes[axis]))\n",
    "#print(mesh.data_nodegId.shape)\n",
    "xkeys, ykeys = sp.mesh_element_keys(mesh)\n",
    "\n",
    "#print(xkeys.shape, ykeys.shape,)"
   ]
  },
  {
   "cell_type": "code",
   "execution_count": 431,
   "metadata": {
    "collapsed": false
   },
   "outputs": [
    {
     "name": "stdout",
     "output_type": "stream",
     "text": [
      "('unique mesh index: ', (8385,))\n"
     ]
    }
   ],
   "source": [
    "testx = []\n",
    "for index, coord in enumerate(mesh.data):\n",
    "    testx.append(index)\n",
    "    \n",
    "    \n",
    "    \n",
    "print(\"unique mesh index: \", np.unique(testx).shape)"
   ]
  },
  {
   "cell_type": "code",
   "execution_count": null,
   "metadata": {
    "collapsed": false
   },
   "outputs": [],
   "source": []
  },
  {
   "cell_type": "code",
   "execution_count": 432,
   "metadata": {
    "collapsed": false
   },
   "outputs": [
    {
     "name": "stdout",
     "output_type": "stream",
     "text": [
      "Min\n",
      "(128, 0.0078126562499999993, 1.6718815624999999, 0.48837209302325607)\n",
      "('edges', 128)\n",
      "-- iteration 0 --\n",
      "| F( p_n ) |^2: 0.000299519120992\n",
      "| p_n+1 - p_n |^2: 1.15089070244\n",
      "-- iteration 1 --\n",
      "| F( p_n ) |^2: 2.79747342953e-31\n",
      "Min, Max element width: \n",
      "0.00781\n",
      "0.01944\n"
     ]
    }
   ],
   "source": [
    "#X-Axis\n",
    "mesh.reset()\n",
    "axis = 0\n",
    "origcoords = np.linspace(mesh.minCoord[axis], mesh.maxCoord[axis], mesh.elementRes[axis] + 1)\n",
    "edge_rest_lengths = np.diff(origcoords)\n",
    "\n",
    "deform_lengths = edge_rest_lengths.copy()\n",
    "third = edge_rest_lengths.shape[0]/3\n",
    "deform_lengths[third:2*third] *= refineby ##The matix can go singular when this is exactly 1.\n",
    "\n",
    "#print(edge_rest_lengths.shape, deform_lengths.shape)\n",
    "\n",
    "sp.deform_1d(deform_lengths, mesh,axis = 'x',norm = 'Min', constraints = [])"
   ]
  },
  {
   "cell_type": "code",
   "execution_count": 433,
   "metadata": {
    "collapsed": false
   },
   "outputs": [
    {
     "name": "stdout",
     "output_type": "stream",
     "text": [
      "Min\n",
      "(64, 0.0078126562499999993, 0.82812843749999987, 0.52380952380952439)\n",
      "('edges', 64)\n",
      "-- iteration 0 --\n",
      "| F( p_n ) |^2: 0.000219496339639\n",
      "| p_n+1 - p_n |^2: 0.630524133437\n",
      "-- iteration 1 --\n",
      "| F( p_n ) |^2: 3.37970612585e-31\n",
      "Min, Max element width: \n",
      "0.00781\n",
      "0.01972\n"
     ]
    }
   ],
   "source": [
    "#Y-Axis\n",
    "axis = 1\n",
    "origcoords = np.linspace(mesh.minCoord[axis], mesh.maxCoord[axis], mesh.elementRes[axis] + 1)\n",
    "edge_rest_lengths = np.diff(origcoords)\n",
    "third = edge_rest_lengths.shape[0]/3\n",
    "deform_lengths = np.copy(edge_rest_lengths)\n",
    "deform_lengths\n",
    "\n",
    "deform_lengths[2*third:] *= refineby ##The matix can go singular when this is exactly 1.\n",
    "sp.deform_1d(deform_lengths, mesh, axis = 'y',norm = 'Min', constraints = [])\n"
   ]
  },
  {
   "cell_type": "code",
   "execution_count": 434,
   "metadata": {
    "collapsed": false
   },
   "outputs": [],
   "source": [
    "for index, coord in enumerate(mesh.data):\n",
    "    #Don't know mesh partitions in advance, and possible diferent between 'real' and 'dummy' mesh\n",
    "    try:\n",
    "        #temperatureField.data[index] = dummytemperatureField.evaluate([coord[0], coord[1]])\n",
    "        temperatureField.data[index] = 10.5\n",
    "    except:\n",
    "        pass"
   ]
  },
  {
   "cell_type": "code",
   "execution_count": 435,
   "metadata": {
    "collapsed": true
   },
   "outputs": [],
   "source": [
    "tempNump = temperatureField.data\n",
    "for index, coord in enumerate(mesh.data):\n",
    "    pertCoeff = (1- coord[1]) + A*math.cos( math.pi * abs(1. - coord[0]) ) * math.sin( math.pi * coord[1] )\n",
    "    tempNump[index] = pertCoeff;\n",
    "    if coord[1] > 1:\n",
    "        tempNump[index] = 0."
   ]
  },
  {
   "cell_type": "code",
   "execution_count": 436,
   "metadata": {
    "collapsed": false
   },
   "outputs": [
    {
     "data": {
      "text/html": [
       "<img src='data:image/png;base64,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'>"
      ],
      "text/plain": [
       "<IPython.core.display.HTML object>"
      ]
     },
     "execution_count": 436,
     "metadata": {},
     "output_type": "execute_result"
    }
   ],
   "source": [
    "figMesh.save_database('test.gldb')\n",
    "figMesh.append( glucifer.objects.Surface(mesh, temperatureField))\n",
    "figMesh.show()"
   ]
  },
  {
   "cell_type": "code",
   "execution_count": 437,
   "metadata": {
    "collapsed": false
   },
   "outputs": [
    {
     "data": {
      "text/plain": [
       "(0.0078126562500000496, 0.019440330668604733)"
      ]
     },
     "execution_count": 437,
     "metadata": {},
     "output_type": "execute_result"
    }
   ],
   "source": [
    "mesh_min_max(mesh, axis='x')"
   ]
  },
  {
   "cell_type": "code",
   "execution_count": 438,
   "metadata": {
    "collapsed": false
   },
   "outputs": [
    {
     "name": "stdout",
     "output_type": "stream",
     "text": [
      "1.9999600008\n",
      "1.9999600008\n"
     ]
    }
   ],
   "source": [
    "print(dxmin/mesh_min_max(mesh, axis='x')[0])\n",
    "print(dymin/mesh_min_max(mesh, axis='y')[0])\n",
    "#print(dxorig, dyorig)"
   ]
  },
  {
   "cell_type": "code",
   "execution_count": 439,
   "metadata": {
    "collapsed": false
   },
   "outputs": [],
   "source": [
    "# area\n",
    "areaint = uw.utils.Integral( 1.,               mesh )\n",
    "tempint = uw.utils.Integral(temperatureField, mesh)\n",
    "def avg_temp():\n",
    "    return tempint.evaluate()[0]/areaint.evaluate()[0]\n",
    "\n",
    "shiskin_area = np.copy(areaint.evaluate()[0])\n",
    "shiskin_temp =  np.copy(avg_temp())\n",
    "\n"
   ]
  },
  {
   "cell_type": "markdown",
   "metadata": {},
   "source": [
    "## Linear refinement"
   ]
  },
  {
   "cell_type": "code",
   "execution_count": 440,
   "metadata": {
    "collapsed": false
   },
   "outputs": [
    {
     "data": {
      "text/plain": [
       "array([ 0.015625  ,  0.015625  ,  0.015625  ,  0.015625  ,  0.015625  ,\n",
       "        0.015625  ,  0.015625  ,  0.015625  ,  0.015625  ,  0.015625  ,\n",
       "        0.015625  ,  0.015625  ,  0.015625  ,  0.015625  ,  0.015625  ,\n",
       "        0.015625  ,  0.015625  ,  0.015625  ,  0.015625  ,  0.015625  ,\n",
       "        0.015625  ,  0.015625  ,  0.015625  ,  0.015625  ,  0.015625  ,\n",
       "        0.015625  ,  0.015625  ,  0.015625  ,  0.015625  ,  0.015625  ,\n",
       "        0.015625  ,  0.015625  ,  0.015625  ,  0.015625  ,  0.015625  ,\n",
       "        0.015625  ,  0.015625  ,  0.015625  ,  0.015625  ,  0.015625  ,\n",
       "        0.015625  ,  0.015625  ,  0.00781266,  0.00781266,  0.00781266,\n",
       "        0.00781266,  0.00781266,  0.00781266,  0.00781266,  0.00781266,\n",
       "        0.00781266,  0.00781266,  0.00781266,  0.00781266,  0.00781266,\n",
       "        0.00781266,  0.00781266,  0.00781266,  0.00781266,  0.00781266,\n",
       "        0.00781266,  0.00781266,  0.00781266,  0.00781266])"
      ]
     },
     "execution_count": 440,
     "metadata": {},
     "output_type": "execute_result"
    }
   ],
   "source": [
    "deform_lengths"
   ]
  },
  {
   "cell_type": "code",
   "execution_count": 441,
   "metadata": {
    "collapsed": false
   },
   "outputs": [
    {
     "name": "stdout",
     "output_type": "stream",
     "text": [
      "Min\n",
      "(128, 0.0078126562499999993, 1.5000199999999995, 0.99996000000000196)\n",
      "('edges', 128)\n",
      "-- iteration 0 --\n",
      "| F( p_n ) |^2: 0.000125879974416\n",
      "| p_n+1 - p_n |^2: 1.06922831723\n",
      "-- iteration 1 --\n",
      "| F( p_n ) |^2: 3.7071744017e-31\n",
      "Min, Max element width: \n",
      "0.00781\n",
      "0.02344\n"
     ]
    }
   ],
   "source": [
    "#X-Axis\n",
    "mesh.reset()\n",
    "axis = 0\n",
    "origcoords = np.linspace(mesh.minCoord[axis], mesh.maxCoord[axis], mesh.elementRes[axis] + 1)\n",
    "edge_rest_lengths = np.diff(origcoords)\n",
    "\n",
    "deform_lengths = edge_rest_lengths.copy()\n",
    "min_point =  (abs(mesh.maxCoord[axis]) - abs(mesh.minCoord[axis]))/2.\n",
    "el_reduction = refineby\n",
    "dx = mesh.maxCoord[axis] - min_point\n",
    "\n",
    "deform_lengths = deform_lengths - \\\n",
    "                                ((1.-el_reduction) *deform_lengths[0]) + \\\n",
    "                                abs((origcoords[1:] - min_point))*((0.5*deform_lengths[0])/dx)\n",
    "\n",
    "#print(edge_rest_lengths.shape, deform_lengths.shape)\n",
    "\n",
    "sp.deform_1d(deform_lengths, mesh,axis = 'x',norm = 'Min', constraints = [])"
   ]
  },
  {
   "cell_type": "code",
   "execution_count": 442,
   "metadata": {
    "collapsed": false
   },
   "outputs": [
    {
     "data": {
      "text/plain": [
       "1.0"
      ]
     },
     "execution_count": 442,
     "metadata": {},
     "output_type": "execute_result"
    }
   ],
   "source": [
    "dx"
   ]
  },
  {
   "cell_type": "code",
   "execution_count": 443,
   "metadata": {
    "collapsed": false,
    "scrolled": true
   },
   "outputs": [
    {
     "name": "stdout",
     "output_type": "stream",
     "text": [
      "Min\n",
      "(64, 0.0078126562499999993, 0.74610374999999984, 1.031705396825398)\n",
      "('edges', 64)\n",
      "-- iteration 0 --\n",
      "| F( p_n ) |^2: 0.000125940522744\n",
      "| p_n+1 - p_n |^2: 0.55037687646\n",
      "-- iteration 1 --\n",
      "| F( p_n ) |^2: 1.9405549749e-31\n",
      "Min, Max element width: \n",
      "0.00781\n",
      "0.02344\n"
     ]
    }
   ],
   "source": [
    "#Y-Axis\n",
    "axis = 1\n",
    "origcoords = np.linspace(mesh.minCoord[axis], mesh.maxCoord[axis], mesh.elementRes[axis] + 1)\n",
    "edge_rest_lengths = np.diff(origcoords)\n",
    "\n",
    "deform_lengths = edge_rest_lengths.copy()\n",
    "min_point =  (mesh.maxCoord[axis])\n",
    "el_reduction = refineby\n",
    "dx = mesh.maxCoord[axis]\n",
    "\n",
    "deform_lengths = deform_lengths - \\\n",
    "                                ((1.-el_reduction)*deform_lengths[0]) + \\\n",
    "                                abs((origcoords[1:] - min_point))*((0.5*deform_lengths[0])/dx)\n",
    "\n",
    "#print(edge_rest_lengths.shape, deform_lengths.shape)\n",
    "\n",
    "sp.deform_1d(deform_lengths, mesh,axis = 'y',norm = 'Min', constraints = [])"
   ]
  },
  {
   "cell_type": "code",
   "execution_count": 444,
   "metadata": {
    "collapsed": true
   },
   "outputs": [],
   "source": [
    "for index, coord in enumerate(mesh.data):\n",
    "    #Don't know mesh partitions in advance, and possible diferent between 'real' and 'dummy' mesh\n",
    "    try:\n",
    "        #temperatureField.data[index] = dummytemperatureField.evaluate([coord[0], coord[1]])\n",
    "        temperatureField.data[index] = 10.5\n",
    "    except:\n",
    "        pass"
   ]
  },
  {
   "cell_type": "code",
   "execution_count": 445,
   "metadata": {
    "collapsed": true
   },
   "outputs": [],
   "source": [
    "tempNump = temperatureField.data\n",
    "for index, coord in enumerate(mesh.data):\n",
    "    pertCoeff = (1- coord[1]) + A*math.cos( math.pi * abs(1. - coord[0]) ) * math.sin( math.pi * coord[1] )\n",
    "    tempNump[index] = pertCoeff;\n",
    "    if coord[1] > 1:\n",
    "        tempNump[index] = 0."
   ]
  },
  {
   "cell_type": "code",
   "execution_count": 446,
   "metadata": {
    "collapsed": false
   },
   "outputs": [
    {
     "data": {
      "text/html": [
       "<img src='data:image/png;base64,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'>"
      ],
      "text/plain": [
       "<IPython.core.display.HTML object>"
      ]
     },
     "execution_count": 446,
     "metadata": {},
     "output_type": "execute_result"
    }
   ],
   "source": [
    "figMesh.save_database('test.gldb')\n",
    "figMesh.show()"
   ]
  },
  {
   "cell_type": "code",
   "execution_count": 447,
   "metadata": {
    "collapsed": false
   },
   "outputs": [
    {
     "name": "stdout",
     "output_type": "stream",
     "text": [
      "1.9999600008\n",
      "1.9999600008\n"
     ]
    }
   ],
   "source": [
    "print(dxmin/mesh_min_max(mesh, axis='x')[0])\n",
    "print(dymin/mesh_min_max(mesh, axis='y')[0])"
   ]
  },
  {
   "cell_type": "code",
   "execution_count": 448,
   "metadata": {
    "collapsed": false
   },
   "outputs": [],
   "source": [
    "# area\n",
    "areaint = uw.utils.Integral( 1.,               mesh )\n",
    "tempint = uw.utils.Integral(temperatureField, mesh)\n",
    "def avg_temp():\n",
    "    return tempint.evaluate()[0]/areaint.evaluate()[0]\n",
    "\n",
    "linear_area = np.copy(areaint.evaluate()[0])\n",
    "linear_temp =  np.copy(avg_temp())"
   ]
  },
  {
   "cell_type": "markdown",
   "metadata": {},
   "source": [
    "## Cosine - spline"
   ]
  },
  {
   "cell_type": "code",
   "execution_count": 449,
   "metadata": {
    "collapsed": false
   },
   "outputs": [
    {
     "name": "stdout",
     "output_type": "stream",
     "text": [
      "Min\n",
      "(128, 0.0078126562499999993, 2.0, 0.0)\n",
      "('edges', 128)\n",
      "-- iteration 0 --\n",
      "| F( p_n ) |^2: 0.000131328518561\n",
      "| p_n+1 - p_n |^2: 1.62335268728\n",
      "-- iteration 1 --\n",
      "| F( p_n ) |^2: 5.37099731772e-31\n",
      "Min, Max element width: \n",
      "0.00781\n",
      "0.02344\n"
     ]
    }
   ],
   "source": [
    "#X-Axis\n",
    "mesh.reset()\n",
    "axis = 0\n",
    "origcoords = np.linspace(mesh.minCoord[axis], mesh.maxCoord[axis], mesh.elementRes[axis] + 1)\n",
    "edge_rest_lengths = np.diff(origcoords)\n",
    "\n",
    "deform_lengths = edge_rest_lengths.copy()\n",
    "min_point =  (abs(mesh.maxCoord[axis]) - abs(mesh.minCoord[axis]))/2.\n",
    "el_reduction = refineby\n",
    "\n",
    "\n",
    "deform_lengths = deform_lengths - (1.-el_reduction)*deform_lengths[0]*np.cos(np.pi*origcoords[1:])\n",
    "\n",
    "#print(edge_rest_lengths.shape, deform_lengths.shape)\n",
    "\n",
    "sp.deform_1d(deform_lengths, mesh,axis = 'x',norm = 'Min', constraints = [])"
   ]
  },
  {
   "cell_type": "code",
   "execution_count": 450,
   "metadata": {
    "collapsed": false
   },
   "outputs": [
    {
     "name": "stdout",
     "output_type": "stream",
     "text": [
      "Min\n",
      "(64, 0.0078126562499999993, 0.99218765624999994, 0.015873015873015997)\n",
      "('edges', 64)\n",
      "-- iteration 0 --\n",
      "| F( p_n ) |^2: 0.00013070353679\n",
      "| p_n+1 - p_n |^2: 0.836159635998\n",
      "-- iteration 1 --\n",
      "| F( p_n ) |^2: 2.90941810755e-31\n",
      "Min, Max element width: \n",
      "0.00781\n",
      "0.02368\n"
     ]
    }
   ],
   "source": [
    "#Y-Axis\n",
    "\n",
    "axis = 1\n",
    "origcoords = np.linspace(mesh.minCoord[axis], mesh.maxCoord[axis], mesh.elementRes[axis] + 1)\n",
    "edge_rest_lengths = np.diff(origcoords)\n",
    "\n",
    "deform_lengths = edge_rest_lengths.copy()\n",
    "min_point =  1.\n",
    "el_reduction = refineby\n",
    "\n",
    "\n",
    "\n",
    "deform_lengths = deform_lengths - ((1.-el_reduction)*deform_lengths[0])*np.cos(abs(np.pi*(origcoords[1:] - min_point)))\n",
    "\n",
    "#print(edge_rest_lengths.shape, deform_lengths.shape)\n",
    "\n",
    "sp.deform_1d(deform_lengths, mesh,axis = 'y',norm = 'Min', constraints = [])"
   ]
  },
  {
   "cell_type": "code",
   "execution_count": 451,
   "metadata": {
    "collapsed": false
   },
   "outputs": [
    {
     "name": "stdout",
     "output_type": "stream",
     "text": [
      "(0.015625, 0.0078126562499999993)\n"
     ]
    }
   ],
   "source": [
    "print(edge_rest_lengths.min(), deform_lengths.min())"
   ]
  },
  {
   "cell_type": "code",
   "execution_count": 452,
   "metadata": {
    "collapsed": true
   },
   "outputs": [],
   "source": [
    "for index, coord in enumerate(mesh.data):\n",
    "    #Don't know mesh partitions in advance, and possible diferent between 'real' and 'dummy' mesh\n",
    "    try:\n",
    "        #temperatureField.data[index] = dummytemperatureField.evaluate([coord[0], coord[1]])\n",
    "        temperatureField.data[index] = 10.5\n",
    "    except:\n",
    "        pass"
   ]
  },
  {
   "cell_type": "code",
   "execution_count": 453,
   "metadata": {
    "collapsed": true
   },
   "outputs": [],
   "source": [
    "tempNump = temperatureField.data\n",
    "for index, coord in enumerate(mesh.data):\n",
    "    pertCoeff = (1- coord[1]) + A*math.cos( math.pi * abs(1. - coord[0]) ) * math.sin( math.pi * coord[1] )\n",
    "    tempNump[index] = pertCoeff;\n",
    "    if coord[1] > 1:\n",
    "        tempNump[index] = 0."
   ]
  },
  {
   "cell_type": "code",
   "execution_count": 454,
   "metadata": {
    "collapsed": false
   },
   "outputs": [
    {
     "data": {
      "text/html": [
       "<img src='data:image/png;base64,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'>"
      ],
      "text/plain": [
       "<IPython.core.display.HTML object>"
      ]
     },
     "execution_count": 454,
     "metadata": {},
     "output_type": "execute_result"
    }
   ],
   "source": [
    "figMesh.save_database('test.gldb')\n",
    "figMesh.show()"
   ]
  },
  {
   "cell_type": "code",
   "execution_count": 455,
   "metadata": {
    "collapsed": false
   },
   "outputs": [
    {
     "name": "stdout",
     "output_type": "stream",
     "text": [
      "1.9999600008\n",
      "1.9999600008\n"
     ]
    }
   ],
   "source": [
    "print(dxmin/mesh_min_max(mesh, axis='x')[0])\n",
    "print(dymin/mesh_min_max(mesh, axis='y')[0])\n"
   ]
  },
  {
   "cell_type": "code",
   "execution_count": 456,
   "metadata": {
    "collapsed": false
   },
   "outputs": [],
   "source": [
    "# area\n",
    "areaint = uw.utils.Integral( 1.,               mesh )\n",
    "tempint = uw.utils.Integral(temperatureField, mesh)\n",
    "def avg_temp():\n",
    "    return tempint.evaluate()[0]/areaint.evaluate()[0]\n",
    "\n",
    "cosine_area = np.copy(areaint.evaluate()[0])\n",
    "cosine_temp =  np.copy(avg_temp())"
   ]
  },
  {
   "cell_type": "markdown",
   "metadata": {},
   "source": [
    "## Gauss Refine"
   ]
  },
  {
   "cell_type": "code",
   "execution_count": 457,
   "metadata": {
    "collapsed": false
   },
   "outputs": [
    {
     "name": "stdout",
     "output_type": "stream",
     "text": [
      "Min\n",
      "(128, 0.0078126562499999993, 1.8227581598174367, 0.21542922018092941)\n",
      "('edges', 128)\n",
      "-- iteration 0 --\n",
      "| F( p_n ) |^2: 1.44797656296e-05\n",
      "| p_n+1 - p_n |^2: 0.287919467574\n",
      "-- iteration 1 --\n",
      "| F( p_n ) |^2: 4.45894911843e-31\n",
      "Min, Max element width: \n",
      "0.00781\n",
      "0.01731\n"
     ]
    }
   ],
   "source": [
    "#X-Axis\n",
    "\n",
    "def gauss(r,a):\n",
    "    return np.exp(-r**2/a**2) \n",
    "\n",
    "a = 0.2\n",
    "\n",
    "\n",
    "mesh.reset()\n",
    "axis = 0\n",
    "origcoords = np.linspace(mesh.minCoord[axis], mesh.maxCoord[axis], mesh.elementRes[axis] + 1)\n",
    "edge_rest_lengths = np.diff(origcoords)\n",
    "\n",
    "deform_lengths = edge_rest_lengths.copy()\n",
    "min_point =  (abs(mesh.maxCoord[axis]) - abs(mesh.minCoord[axis]))/2.\n",
    "el_reduction = 1.- refineby\n",
    "\n",
    "deform_lengths = deform_lengths - (el_reduction*deform_lengths[0])*gauss((origcoords[1:] - min_point), a)\n",
    "\n",
    "#print(edge_rest_lengths.shape, deform_lengths.shape)\n",
    "\n",
    "sp.deform_1d(deform_lengths, mesh,axis = 'x',norm = 'Min', constraints = [])"
   ]
  },
  {
   "cell_type": "code",
   "execution_count": 458,
   "metadata": {
    "collapsed": false
   },
   "outputs": [],
   "source": [
    "#deform_lengths - (el_reduction*deform_lengths[0])*gauss((origcoords[1:] - min_point), a)"
   ]
  },
  {
   "cell_type": "code",
   "execution_count": 459,
   "metadata": {
    "collapsed": false
   },
   "outputs": [
    {
     "name": "stdout",
     "output_type": "stream",
     "text": [
      "Min\n",
      "(64, 0.0078162248213331804, 0.89760435402532834, 0.25768599949453364)\n",
      "('edges', 64)\n",
      "-- iteration 0 --\n",
      "| F( p_n ) |^2: 6.83203343421e-05\n",
      "| p_n+1 - p_n |^2: 0.194724921\n",
      "-- iteration 1 --\n",
      "| F( p_n ) |^2: 3.34058567385e-31\n",
      "Min, Max element width: \n",
      "0.00782\n",
      "0.01764\n"
     ]
    }
   ],
   "source": [
    "#Y-Axis\n",
    "\n",
    "def gauss(r,a):\n",
    "    return np.exp(-r**2/a**2) \n",
    "\n",
    "axis = 1\n",
    "origcoords = np.linspace(mesh.minCoord[axis], mesh.maxCoord[axis], mesh.elementRes[axis] + 1)\n",
    "edge_rest_lengths = np.diff(origcoords)\n",
    "\n",
    "deform_lengths = edge_rest_lengths.copy()\n",
    "min_point =  0.9801\n",
    "el_reduction = 1.- refineby\n",
    "\n",
    "deform_lengths = deform_lengths - (el_reduction*deform_lengths[0])*gauss((origcoords[1:] - min_point), a)\n",
    "\n",
    "#print(edge_rest_lengths.shape, deform_lengths.shape)\n",
    "\n",
    "sp.deform_1d(deform_lengths, mesh,axis = 'y',norm = 'Min', constraints = [])"
   ]
  },
  {
   "cell_type": "code",
   "execution_count": 460,
   "metadata": {
    "collapsed": true
   },
   "outputs": [],
   "source": [
    "for index, coord in enumerate(mesh.data):\n",
    "    #Don't know mesh partitions in advance, and possible diferent between 'real' and 'dummy' mesh\n",
    "    try:\n",
    "        #temperatureField.data[index] = dummytemperatureField.evaluate([coord[0], coord[1]])\n",
    "        temperatureField.data[index] = 10.5\n",
    "    except:\n",
    "        pass"
   ]
  },
  {
   "cell_type": "code",
   "execution_count": 461,
   "metadata": {
    "collapsed": true
   },
   "outputs": [],
   "source": [
    "tempNump = temperatureField.data\n",
    "for index, coord in enumerate(mesh.data):\n",
    "    pertCoeff = (1- coord[1]) + A*math.cos( math.pi * abs(1. - coord[0]) ) * math.sin( math.pi * coord[1] )\n",
    "    tempNump[index] = pertCoeff;\n",
    "    if coord[1] > 1:\n",
    "        tempNump[index] = 0."
   ]
  },
  {
   "cell_type": "code",
   "execution_count": 462,
   "metadata": {
    "collapsed": false
   },
   "outputs": [
    {
     "data": {
      "text/html": [
       "<img src='data:image/png;base64,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'>"
      ],
      "text/plain": [
       "<IPython.core.display.HTML object>"
      ]
     },
     "execution_count": 462,
     "metadata": {},
     "output_type": "execute_result"
    }
   ],
   "source": [
    "figMesh.save_database('test.gldb')\n",
    "figMesh.show()"
   ]
  },
  {
   "cell_type": "code",
   "execution_count": 463,
   "metadata": {
    "collapsed": false
   },
   "outputs": [
    {
     "name": "stdout",
     "output_type": "stream",
     "text": [
      "1.9999600008\n",
      "1.99904690015\n"
     ]
    }
   ],
   "source": [
    "print(dxmin/mesh_min_max(mesh, axis='x')[0])\n",
    "print(dymin/mesh_min_max(mesh, axis='y')[0])"
   ]
  },
  {
   "cell_type": "code",
   "execution_count": 464,
   "metadata": {
    "collapsed": false
   },
   "outputs": [],
   "source": [
    "# area\n",
    "areaint = uw.utils.Integral( 1.,               mesh )\n",
    "tempint = uw.utils.Integral(temperatureField, mesh)\n",
    "def avg_temp():\n",
    "    return tempint.evaluate()[0]/areaint.evaluate()[0]\n",
    "\n",
    "gauss_area = np.copy(areaint.evaluate()[0])\n",
    "gauss_temp =  np.copy(avg_temp())\n"
   ]
  },
  {
   "cell_type": "code",
   "execution_count": 465,
   "metadata": {
    "collapsed": false
   },
   "outputs": [
    {
     "name": "stdout",
     "output_type": "stream",
     "text": [
      "('uniform: ', array(2.0), array(0.5))\n",
      "('linear: ', array(2.000000000000006), array(0.4999994822927494))\n",
      "('cosine: ', array(1.999999999999967), array(0.4999993812328058))\n",
      "('gaussian: ', array(2.000000000000041), array(0.49999984124079205))\n"
     ]
    }
   ],
   "source": [
    "if uw.rank() == 0:\n",
    "    print(\"uniform: \", area, temp)\n",
    "    print(\"linear: \", linear_area, linear_temp)\n",
    "    print(\"cosine: \", cosine_area, cosine_temp)\n",
    "    print(\"gaussian: \", gauss_area, gauss_temp)\n",
    "else:\n",
    "    pass"
   ]
  },
  {
   "cell_type": "code",
   "execution_count": null,
   "metadata": {
    "collapsed": true
   },
   "outputs": [],
   "source": []
  },
  {
   "cell_type": "code",
   "execution_count": null,
   "metadata": {
    "collapsed": true
   },
   "outputs": [],
   "source": []
  },
  {
   "cell_type": "code",
   "execution_count": 466,
   "metadata": {
    "collapsed": true
   },
   "outputs": [],
   "source": [
    "areaint = uw.utils.Integral( 1.,               mesh )"
   ]
  },
  {
   "cell_type": "code",
   "execution_count": 467,
   "metadata": {
    "collapsed": false
   },
   "outputs": [
    {
     "data": {
      "text/plain": [
       "[2.000000000000041]"
      ]
     },
     "execution_count": 467,
     "metadata": {},
     "output_type": "execute_result"
    }
   ],
   "source": [
    "areaint.evaluate()"
   ]
  },
  {
   "cell_type": "code",
   "execution_count": null,
   "metadata": {
    "collapsed": true
   },
   "outputs": [],
   "source": []
  },
  {
   "cell_type": "code",
   "execution_count": null,
   "metadata": {
    "collapsed": true
   },
   "outputs": [],
   "source": []
  },
  {
   "cell_type": "code",
   "execution_count": null,
   "metadata": {
    "collapsed": true
   },
   "outputs": [],
   "source": []
  }
 ],
 "metadata": {
  "kernelspec": {
   "display_name": "Python 2",
   "language": "python",
   "name": "python2"
  },
  "language_info": {
   "codemirror_mode": {
    "name": "ipython",
    "version": 2
   },
   "file_extension": ".py",
   "mimetype": "text/x-python",
   "name": "python",
   "nbconvert_exporter": "python",
   "pygments_lexer": "ipython2",
   "version": "2.7.11"
  }
 },
 "nbformat": 4,
 "nbformat_minor": 0
}
