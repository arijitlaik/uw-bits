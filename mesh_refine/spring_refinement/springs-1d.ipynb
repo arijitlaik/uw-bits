{
 "cells": [
  {
   "cell_type": "code",
   "execution_count": 1,
   "metadata": {
    "collapsed": false
   },
   "outputs": [],
   "source": [
    "%matplotlib inline\n",
    "import matplotlib.pyplot as plt\n",
    "import collections\n",
    "import itertools"
   ]
  },
  {
   "cell_type": "code",
   "execution_count": 2,
   "metadata": {
    "collapsed": false
   },
   "outputs": [],
   "source": [
    "# %load scripts/myarray.py\n",
    "import numpy as np\n",
    "\n",
    "# a small set of helper functions to\n",
    "# call common array creation functions\n",
    "# these are useful to ensure that\n",
    "# all arrays are created as double-precision\n",
    "# floats, no matter what data are provided\n",
    "# as argument. For example array([1,3,4]) normally returns\n",
    "# an array with data of type int, but arrayf([1,3,4])\n",
    "# always creates an array of floats \n",
    "\n",
    "kFloatType = np.float64\n",
    "\n",
    "def arrayf( arg ):\n",
    "    return np.array( arg, kFloatType )\n",
    "def asarrayf( arg ):\n",
    "    return np.asarray( arg, kFloatType )\n",
    "def zerosf( arg ):\n",
    "    return np.zeros( arg, kFloatType )\n",
    "def identityf( arg ):\n",
    "    return np.identity( arg, kFloatType )\n",
    "def emptyf( arg ):\n",
    "    return np.empty( arg, kFloatType )\n"
   ]
  },
  {
   "cell_type": "code",
   "execution_count": 3,
   "metadata": {
    "collapsed": false
   },
   "outputs": [
    {
     "name": "stdout",
     "output_type": "stream",
     "text": [
      "===== test1() =====\n",
      "p.shape: (3, 2)\n",
      "p undeformed: [[ 0.  0.]\n",
      " [ 1.  0.]\n",
      " [ 2.  0.]]\n",
      "edges: [(0, 1), (1, 2)]\n",
      "edge_rest_lengths: [1.0, 1.0]\n",
      "constraints: [(0, array([ 0.,  0.])), (2, array([ 2.,  0.]))]\n",
      "p initial: [[ 0.   0. ]\n",
      " [ 1.5  0. ]\n",
      " [ 2.   0. ]]\n",
      "-- iteration 0 --\n",
      "| F( p_n ) |^2: 1.5\n",
      "| p_n+1 - p_n |^2: 0.25\n",
      "-- iteration 1 --\n",
      "| F( p_n ) |^2: 0.0\n",
      "static solution: [[ 0.  0.]\n",
      " [ 1.  0.]\n",
      " [ 2.  0.]]\n"
     ]
    },
    {
     "name": "stderr",
     "output_type": "stream",
     "text": [
      "/Users/dansandiford/anaconda/lib/python2.7/site-packages/ipykernel/__main__.py:183: DeprecationWarning: the sets module is deprecated\n"
     ]
    }
   ],
   "source": [
    "# %load scripts/springs.py\n",
    "#from numpy import *\n",
    "#from myarray import *\n",
    "\n",
    "## This is the spring constant\n",
    "k = 1.\n",
    "\n",
    "## This is our threshold for whether a number is approximately zero.\n",
    "ZERO_THRESHOLD = 1e-8\n",
    "\n",
    "def F_ij( p_i, p_j, r_ij ):\n",
    "    '''\n",
    "    Returns the force of the spring from 'p_i' to 'p_j' with rest length 'r_ij' acting on 'p_i'.\n",
    "    Note that F_ij( p_i, p_j, r_ij ) equals -F_ij( p_j, p_i, r_ij ).\n",
    "    '''\n",
    "\n",
    "    p_ij = p_i - p_j\n",
    "    len_p_ij = np.sqrt( sum( p_ij ** 2 ) )\n",
    "\n",
    "    if abs( len_p_ij ) < ZERO_THRESHOLD:\n",
    "        result = 0. * p_ij\n",
    "    else:\n",
    "        result = -k * ( len_p_ij - r_ij ) / len_p_ij * p_ij\n",
    "\n",
    "    return result\n",
    "\n",
    "def F( p, edges, edges_rest_lengths ):\n",
    "    '''\n",
    "    Returns a vector containing the force at every point.\n",
    "    Note that the input 'p' is assumed to be a number-of-points by dimension array, where\n",
    "    dimension is 2 for our example.  The result is flattened into a single vector\n",
    "    of size number-of-points times dimension.\n",
    "    '''\n",
    "\n",
    "    dim = p.shape[1]\n",
    "\n",
    "    Fp = zerosf( np.prod( p.shape ) )\n",
    "\n",
    "    ## Loop over every edge and its corresponding rest length.\n",
    "    ## (zip() simply combines two lists into one so we can loop over them together.)\n",
    "    for (i,j), r_ij in zip( edges, edges_rest_lengths ):\n",
    "        assert i != j\n",
    "\n",
    "        Fij = F_ij( p[i], p[j], r_ij )\n",
    "\n",
    "        Fp[ i*dim : (i+1) * dim ] += Fij\n",
    "        ## 'edges' contains edges uniquely, so 'edges' will contain (i,j) but not (j,i).\n",
    "        ## This means that we must add -Fij to row j as well as Fij to row i.\n",
    "        Fp[ j*dim : (j+1) * dim ] += -Fij\n",
    "\n",
    "    return Fp\n",
    "\n",
    "def dF_ij_d_p_i( p_i, p_j, r_ij ):\n",
    "    '''\n",
    "    Returns the derivative with respect to 'p_i' of the force of the spring\n",
    "    from 'p_i' to 'p_j' with rest length 'r_ij' acting on 'p_i'.\n",
    "    Our dimension is 2, so this is a 2x2 quantity.\n",
    "    Note that dF_ij_d_p_i( p_i, p_j, r_ij ) equals dF_ij_d_p_i( p_j, p_i, r_ij ).\n",
    "    '''\n",
    "\n",
    "    dim = p_i.shape[0]\n",
    "\n",
    "    p_ij = p_i - p_j\n",
    "    len_p_ij = np.sqrt( sum( p_ij ** 2 ) )\n",
    "    if abs( len_p_ij ) < ZERO_THRESHOLD:\n",
    "        result = -k * np.identity( dim )\n",
    "    else:\n",
    "        result = -k * np.identity( dim ) - k * r_ij / len_p_ij**3 * np.outer( p_ij, p_ij ) + k * r_ij / len_p_ij * np.identity( dim )\n",
    "    return result\n",
    "\n",
    "def J( p, edges, edges_rest_lengths ):\n",
    "    '''\n",
    "    Returns a matrix containing the derivative of the force at every point with respect to each point.\n",
    "    Note that the input 'p' is assumed to be a number-of-points by dimension array, where\n",
    "    dimension is 2 for our example.\n",
    "    The result is flattened is a square matrix (of type numpy.array), of size NxN, where\n",
    "    N = number-of-points times dimension.\n",
    "    '''\n",
    "\n",
    "    dim = p.shape[1]\n",
    "\n",
    "    Jp = zerosf( ( np.prod( p.shape ), np.prod( p.shape ) ) )\n",
    "\n",
    "    ## Loop over every edge and its corresponding rest length.\n",
    "    ## (zip() simply combines two lists into one so we can loop over them together.)\n",
    "    for (i,j), r_ij in zip( edges, edges_rest_lengths ):\n",
    "        assert i != j\n",
    "\n",
    "        dF = dF_ij_d_p_i( p[i], p[j], r_ij )\n",
    "        assert ( ( Jp[ i*dim : (i+1) * dim, j*dim : (j+1) * dim ] - np.zeros( ( dim, dim ) ) ) ** 2 ).sum().sum() == 0.\n",
    "\n",
    "        Jp[ i*dim : (i+1) * dim, j*dim : (j+1) * dim ] = -dF\n",
    "        Jp[ i*dim : (i+1) * dim, i*dim : (i+1) * dim ] += dF\n",
    "        ## 'edges' contains edges uniquely, so 'edges' will contain (i,j) but not (j,i).\n",
    "        ## This means that we must add dF to the right places in column j as well.\n",
    "        Jp[ j*dim : (j+1) * dim, i*dim : (i+1) * dim ] = -dF\n",
    "        Jp[ j*dim : (j+1) * dim, j*dim : (j+1) * dim ] += dF\n",
    "\n",
    "    return Jp\n",
    "\n",
    "def constrain_system( A, rhs, rows ):\n",
    "    '''\n",
    "    This function modifies its input parameters, a system matrix 'A' and\n",
    "    right-hand-side vector 'rhs', such that for every index i in 'rows',\n",
    "    the row i of A is set to row i of the identity matrix and rhs[i] is set to zero.\n",
    "    '''\n",
    "\n",
    "    for i in rows:\n",
    "        A[ i, : ] = np.zeros( A.shape[1] )\n",
    "        ## We can also zero the column, which keeps the matrix symmetric, because\n",
    "        ## we are zeroing the corresponding entries in the right-hand-side (x*0 = 0).\n",
    "        A[ :, i ] = np.zeros( A.shape[0] )\n",
    "        A[ i, i ] = 1\n",
    "        rhs[i] = 0\n",
    "\n",
    "    return A, rhs\n",
    "\n",
    "def static_solution( p, edges, edges_rest_lengths, constraints, verbose = True ):\n",
    "    '''\n",
    "    Given a list of points 'p' as an n-by-2 array, a list of (i,j) pairs 'edges' denoting an edge\n",
    "    between points p[i] and p[j], a list of rest lengths (one for each edge in 'edges'),\n",
    "    and a list of position constraints (i, position) denoting p[i] = position,\n",
    "    uses Newton's method to solve for the positions where the forces are all zero.\n",
    "\n",
    "    NOTE: 'edges' must not have both (i,j) and (j,i)\n",
    "    '''\n",
    "\n",
    "    XSTEP_THRESHOLD = 1e-5\n",
    "    F_THRESHOLD = 1e-8\n",
    "    MAX_ITERATIONS = 100\n",
    "\n",
    "    p_n = p.copy().flatten()\n",
    "    dim = p.shape[1]\n",
    "\n",
    "    constrain_rows = []\n",
    "    for i, p_val in constraints:\n",
    "        p_n[ i*dim : (i+1) * dim ] = p_val\n",
    "        constrain_rows.extend( range( i*dim, (i+1) * dim ) )\n",
    "\n",
    "    iteration = 0\n",
    "    while True:\n",
    "        if verbose: print '-- iteration', iteration, '--'\n",
    "        iteration += 1\n",
    "\n",
    "        Jp_n = J( p_n.reshape( p.shape ), edges, edges_rest_lengths )\n",
    "        Fp_n = F( p_n.reshape( p.shape ), edges, edges_rest_lengths )\n",
    "        mag2_Fp_n = sum( Fp_n ** 2 )\n",
    "        if verbose: print '| F( p_n ) |^2:', mag2_Fp_n\n",
    "        if mag2_Fp_n < F_THRESHOLD: break\n",
    "\n",
    "        constrain_system( Jp_n, Fp_n, constrain_rows )\n",
    "\n",
    "        # p_n_p_1 = p_n - dot( linalg.inv( Jp_n ), Fp_n )\n",
    "        ## <=> p_n_p_1 - p_n = -linalg.inv( Jp_n ) * Fp_n\n",
    "        ## <=> p_n - p_n_p_1 = np.linalg.inv( Jp_n ) * Fp_n\n",
    "        ## <=> Jp_n * ( p_n - p_n_p_1 ) = Fp_n\n",
    "        p_negative_delta = np.linalg.solve( Jp_n, Fp_n )\n",
    "        ## p_n - ( p_n - p_n_p_1 ) = p_n_p_1\n",
    "        p_n_p_1 = p_n - p_negative_delta\n",
    "\n",
    "        diff2 = sum( ( p_n_p_1 - p_n ) ** 2 )\n",
    "        if verbose: print '| p_n+1 - p_n |^2:', diff2\n",
    "        p_n = p_n_p_1\n",
    "        if diff2 < XSTEP_THRESHOLD: break\n",
    "\n",
    "        if iteration >= MAX_ITERATIONS:\n",
    "            print 'Diverged.'\n",
    "            return p.copy()\n",
    "            break\n",
    "\n",
    "    return p_n.reshape( p.shape )\n",
    "\n",
    "def compute_edge_lengths( p, edges ):\n",
    "    '''\n",
    "    Given a list of (i,j) pairs 'edges' denoting an edge between points p[i] and p[j],\n",
    "    returns a list of rest lengths, one for each edge in 'edges'.\n",
    "\n",
    "    NOTE: 'edges' must not have both (i,j) and (j,i)\n",
    "    '''\n",
    "\n",
    "    ## Check for duplicate edges, which are forbidden.\n",
    "    edges = tuple( map( tuple, edges ) )\n",
    "    from sets import ImmutableSet as Set\n",
    "    assert len( Set( map( Set, edges ) ) ) == len( edges )\n",
    "\n",
    "    result = []\n",
    "    for i,j in edges:\n",
    "        len_p_ij = np.sqrt( sum( (p[i] - p[j]) ** 2 ) )\n",
    "        result.append( len_p_ij )\n",
    "\n",
    "    return result\n",
    "\n",
    "def test1():\n",
    "    print '===== test1() ====='\n",
    "\n",
    "    #p_undeformed = arrayf( [[0,0], [1,1]] )\n",
    "    #p_undeformed = arrayf( [[0,0], [1,0], [1,1]] )\n",
    "    #p_undeformed = arrayf( [[0,0], [1,0], [0,1], [1,1]] )\n",
    "    p_undeformed = arrayf( [[0,0], [1,0], [2,0]] )\n",
    "    print 'p.shape:', p_undeformed.shape\n",
    "    print 'p undeformed:', p_undeformed\n",
    "\n",
    "    #edges = [ (0,1) ]\n",
    "    edges = [ (0,1), (1,2) ]\n",
    "    #edges = [ (0,1), (0,2), (1,3), (2,3) ]\n",
    "    print 'edges:', edges\n",
    "    ## Multiply p_undeformed by 0 to force 0 rest length springs\n",
    "    #edge_rest_lengths = compute_edge_lengths( 0 * p_undeformed, edges )\n",
    "    edge_rest_lengths = compute_edge_lengths( p_undeformed, edges )\n",
    "    print 'edge_rest_lengths:', edge_rest_lengths\n",
    "\n",
    "    #constraints = [ ( 0, p_undeformed[0] ) ]\n",
    "    #constraints = [ ( 0, p_undeformed[0] ), ( 3, p_undeformed[3] ) ]\n",
    "    constraints = [ ( 0, p_undeformed[0] ), ( 2, p_undeformed[2] ) ]\n",
    "    print 'constraints:', constraints\n",
    "\n",
    "    p_initial = p_undeformed.copy()\n",
    "    p_initial[1] += np.array( (.5,0) )\n",
    "    print 'p initial:', p_initial\n",
    "    p_solution = static_solution( p_initial, edges, edge_rest_lengths, constraints )\n",
    "    print 'static solution:', p_solution\n",
    "\n",
    "def main():\n",
    "    test1()\n",
    "\n",
    "if __name__ == '__main__': main()\n"
   ]
  },
  {
   "cell_type": "code",
   "execution_count": 4,
   "metadata": {
    "collapsed": false
   },
   "outputs": [
    {
     "data": {
      "text/plain": [
       "[(0, array([ 0.,  0.])), (2, array([ 2.,  0.]))]"
      ]
     },
     "execution_count": 4,
     "metadata": {},
     "output_type": "execute_result"
    }
   ],
   "source": [
    "p_undeformed = arrayf( [[0,0], [1,0], [2,0]] )\n",
    "constraints = [ ( 0, p_undeformed[0] ), ( 2, p_undeformed[2] ) ]\n",
    "constraints"
   ]
  },
  {
   "cell_type": "code",
   "execution_count": 5,
   "metadata": {
    "collapsed": true
   },
   "outputs": [],
   "source": [
    "##Helper function to get node neighbours\n",
    "\n",
    "def node_neighbours(mesh):\n",
    "    nodes = mesh.data_nodegId.reshape(mesh.elementRes[0] +1, mesh.elementRes[1] +1)\n",
    "    testlist = []\n",
    "    for index, value in np.ndenumerate(nodes):\n",
    "        #print index, value\n",
    "        #####Get x neighbour:\n",
    "        if index[0] + 1 < nodes.shape[0]:\n",
    "            testlist.append((nodes[index], nodes[(index[0] + 1),index[1] ])) #Add in the X direction\n",
    "        #####Get Y neighbour:\n",
    "        if index[1] + 1 < nodes.shape[1]:\n",
    "            testlist.append((nodes[index], nodes[index[0], (index[1]+ 1) ])) #Add in the X direction\n",
    "    return testlist"
   ]
  },
  {
   "cell_type": "code",
   "execution_count": 7,
   "metadata": {
    "collapsed": false
   },
   "outputs": [],
   "source": [
    "#nodes = mesh.data_nodegId.reshape(mesh.elementRes[0] +1, mesh.elementRes[1] +1)"
   ]
  },
  {
   "cell_type": "code",
   "execution_count": 8,
   "metadata": {
    "collapsed": true
   },
   "outputs": [],
   "source": [
    "import underworld as uw\n",
    "import glucifer\n",
    "import numpy as np\n",
    "mesh = uw.mesh.FeMesh_Cartesian( elementType = (\"Q1/dQ0\"), \n",
    "                                 elementRes  = (100, 100), \n",
    "                                 minCoord    = (0., 0.), \n",
    "                                 maxCoord    = (1., 1.))"
   ]
  },
  {
   "cell_type": "code",
   "execution_count": 9,
   "metadata": {
    "collapsed": false
   },
   "outputs": [
    {
     "data": {
      "text/html": [
       "<img src='data:image/png;base64,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'>"
      ],
      "text/plain": [
       "<IPython.core.display.HTML object>"
      ]
     },
     "execution_count": 9,
     "metadata": {},
     "output_type": "execute_result"
    }
   ],
   "source": [
    "figMesh = glucifer.Figure(figsize=(1200,600),antialias=1)\n",
    "#figMesh.append( glucifer.objects.Mesh(mesh.subMesh, nodeNumbers=True) )\n",
    "figMesh.append( glucifer.objects.Mesh(mesh) )\n",
    "figMesh.show()"
   ]
  },
  {
   "cell_type": "code",
   "execution_count": 10,
   "metadata": {
    "collapsed": false
   },
   "outputs": [],
   "source": [
    "thisaxis = 0\n",
    "\n",
    "p_undeformed  = mesh.data[:mesh.elementRes[0] +1,:]\n",
    "positions = [pos[0] for pos in p_undeformed]\n",
    "\n",
    "mesh_nodes= np.arange(0, p_undeformed.shape[0] , 1)\n",
    "edges = [(int(i), int(i+1)) for i in mesh_nodes[:-1]]\n",
    "edge_rest_lengths = compute_edge_lengths( p_undeformed, edges )\n",
    "new_lengths = edge_rest_lengths + 0.01*np.cos(np.pi*(np.array(positions[:-1])))\n",
    "constraints = [ ( mesh_nodes[0], p_undeformed[ 0] ), ( mesh_nodes[-1], p_undeformed[-1] ) ]\n",
    "\n",
    "p_initial = p_undeformed.copy()"
   ]
  },
  {
   "cell_type": "code",
   "execution_count": 11,
   "metadata": {
    "collapsed": false
   },
   "outputs": [
    {
     "name": "stdout",
     "output_type": "stream",
     "text": [
      "-- iteration 0 --\n",
      "| F( p_n ) |^2: 0.000204835708416\n",
      "| p_n+1 - p_n |^2: 5.065282779\n",
      "-- iteration 1 --\n",
      "| F( p_n ) |^2: 5.10542436591e-08\n",
      "| p_n+1 - p_n |^2: 2.63951630205e-06\n"
     ]
    }
   ],
   "source": [
    "p_solution = static_solution( p_initial, edges, new_lengths, constraints )"
   ]
  },
  {
   "cell_type": "code",
   "execution_count": 12,
   "metadata": {
    "collapsed": false
   },
   "outputs": [
    {
     "data": {
      "text/plain": [
       "[<matplotlib.lines.Line2D at 0x1134f2090>,\n",
       " <matplotlib.lines.Line2D at 0x113316ad0>]"
      ]
     },
     "execution_count": 12,
     "metadata": {},
     "output_type": "execute_result"
    },
    {
     "data": {
      "image/png": "[encoded data removed]",
      "text/plain": [
       "<matplotlib.figure.Figure at 0x1134f2bd0>"
      ]
     },
     "metadata": {},
     "output_type": "display_data"
    }
   ],
   "source": [
    "plt.plot(mesh_nodes, p_undeformed)\n",
    "plt.plot(mesh_nodes, p_solution)"
   ]
  },
  {
   "cell_type": "code",
   "execution_count": 13,
   "metadata": {
    "collapsed": false
   },
   "outputs": [],
   "source": [
    "new_lengths  = np.array(edge_rest_lengths)\n",
    "mid = new_lengths.shape[0]/2\n",
    "old_dx = edge_rest_lengths[0]\n",
    "new_lengths[0:mid ] *= 3.\n",
    "#new_lengths[mid :] *= 1.001 ##weird, the matix goes singular when this is exactly 1.\n",
    "new_lengths[mid :] *= 0.601 ##weird, the matix goes singular when this is exactly 1."
   ]
  },
  {
   "cell_type": "code",
   "execution_count": 14,
   "metadata": {
    "collapsed": false
   },
   "outputs": [
    {
     "name": "stdout",
     "output_type": "stream",
     "text": [
      "(0.0060099999999999381, 0.030000000000000027, 1.8005000000000007)\n"
     ]
    }
   ],
   "source": [
    "print(new_lengths.min(),new_lengths.max(), new_lengths.sum())"
   ]
  },
  {
   "cell_type": "code",
   "execution_count": 15,
   "metadata": {
    "collapsed": false
   },
   "outputs": [
    {
     "data": {
      "text/plain": [
       "array([ 0.03   ,  0.03   ,  0.03   ,  0.03   ,  0.03   ,  0.03   ,\n",
       "        0.03   ,  0.03   ,  0.03   ,  0.03   ,  0.03   ,  0.03   ,\n",
       "        0.03   ,  0.03   ,  0.03   ,  0.03   ,  0.03   ,  0.03   ,\n",
       "        0.03   ,  0.03   ,  0.03   ,  0.03   ,  0.03   ,  0.03   ,\n",
       "        0.03   ,  0.03   ,  0.03   ,  0.03   ,  0.03   ,  0.03   ,\n",
       "        0.03   ,  0.03   ,  0.03   ,  0.03   ,  0.03   ,  0.03   ,\n",
       "        0.03   ,  0.03   ,  0.03   ,  0.03   ,  0.03   ,  0.03   ,\n",
       "        0.03   ,  0.03   ,  0.03   ,  0.03   ,  0.03   ,  0.03   ,\n",
       "        0.03   ,  0.03   ,  0.00601,  0.00601,  0.00601,  0.00601,\n",
       "        0.00601,  0.00601,  0.00601,  0.00601,  0.00601,  0.00601,\n",
       "        0.00601,  0.00601,  0.00601,  0.00601,  0.00601,  0.00601,\n",
       "        0.00601,  0.00601,  0.00601,  0.00601,  0.00601,  0.00601,\n",
       "        0.00601,  0.00601,  0.00601,  0.00601,  0.00601,  0.00601,\n",
       "        0.00601,  0.00601,  0.00601,  0.00601,  0.00601,  0.00601,\n",
       "        0.00601,  0.00601,  0.00601,  0.00601,  0.00601,  0.00601,\n",
       "        0.00601,  0.00601,  0.00601,  0.00601,  0.00601,  0.00601,\n",
       "        0.00601,  0.00601,  0.00601,  0.00601])"
      ]
     },
     "execution_count": 15,
     "metadata": {},
     "output_type": "execute_result"
    }
   ],
   "source": [
    "new_lengths"
   ]
  },
  {
   "cell_type": "markdown",
   "metadata": {},
   "source": [
    "$$ \\sum_i^N X_i = \\beta $$\n",
    "Where $X_i$ are the non-negative spring equilibriums positions\n",
    "$$ min X_i = m$$\n",
    "define\n",
    "$$ \\sum_i^N P_i = \\sum_i^N \\left( X_i + (X_i - m)\\alpha \\right) $$\n",
    "We want \n",
    "$$ \\sum_i^N P_i = 1$$\n",
    "$$ \\sum_i^N \\left( X_i + (X_i - m)\\alpha\\right) = 1 $$\n",
    "$$ \\beta + \\alpha \\beta - \\sum_i^N m\\alpha = 1$$\n",
    "$$ \\beta + \\alpha \\beta - N m\\alpha = 1$$\n",
    "$$ \\alpha \\beta - N m\\alpha = 1 - \\beta $$\n",
    "$$ \\alpha = \\frac{1 - \\beta }{\\beta - N m}$$"
   ]
  },
  {
   "cell_type": "code",
   "execution_count": 16,
   "metadata": {
    "collapsed": false
   },
   "outputs": [
    {
     "name": "stdout",
     "output_type": "stream",
     "text": [
      "(100, 0.0060099999999999381, 1.8005000000000007, -0.66736140058357318)\n"
     ]
    }
   ],
   "source": [
    "#normalizing function\n",
    "\n",
    "beta = new_lengths.sum()\n",
    "N = mesh.elementRes[0]\n",
    "\n",
    "fm = min(new_lengths)\n",
    "alpha = (1 - beta)/(beta - N*fm)\n",
    "print(N, fm, beta, alpha)\n",
    "norm_lengths = np.array(new_lengths) + ((np.array(new_lengths) - fm)*alpha)"
   ]
  },
  {
   "cell_type": "code",
   "execution_count": 17,
   "metadata": {
    "collapsed": false
   },
   "outputs": [],
   "source": [
    "#norm_lengths"
   ]
  },
  {
   "cell_type": "code",
   "execution_count": 18,
   "metadata": {
    "collapsed": false
   },
   "outputs": [
    {
     "name": "stdout",
     "output_type": "stream",
     "text": [
      "(0.0060099999999999381, 0.013990000000000048, 0.99999999999999978)\n"
     ]
    }
   ],
   "source": [
    "print(norm_lengths.min(),norm_lengths.max(), norm_lengths.sum())"
   ]
  },
  {
   "cell_type": "code",
   "execution_count": 19,
   "metadata": {
    "collapsed": true
   },
   "outputs": [],
   "source": [
    "thisaxis = 0\n",
    "\n",
    "p_undeformed  = mesh.data[:mesh.elementRes[0] +1,:]\n",
    "positions = [pos[0] for pos in p_undeformed]\n",
    "\n",
    "mesh_nodes= np.arange(0, p_undeformed.shape[0] , 1)\n",
    "edges = [(int(i), int(i+1)) for i in mesh_nodes[:-1]]\n",
    "edge_rest_lengths = compute_edge_lengths( p_undeformed, edges )\n",
    "#new_lengths = edge_rest_lengths + 0.01*np.cos(np.pi*(np.array(positions[:-1])))\n",
    "constraints = [ ( mesh_nodes[0], p_undeformed[ 0] ), ( mesh_nodes[-1], p_undeformed[-1] ) ]\n",
    "\n",
    "p_initial = p_undeformed.copy()"
   ]
  },
  {
   "cell_type": "code",
   "execution_count": 20,
   "metadata": {
    "collapsed": false
   },
   "outputs": [
    {
     "name": "stdout",
     "output_type": "stream",
     "text": [
      "-- iteration 0 --\n",
      "| F( p_n ) |^2: 9.55206e-05\n",
      "| p_n+1 - p_n |^2: 1.326940335\n",
      "-- iteration 1 --\n",
      "| F( p_n ) |^2: 2.23668175018e-31\n"
     ]
    }
   ],
   "source": [
    "p_solution = static_solution( p_initial, edges, norm_lengths, constraints )"
   ]
  },
  {
   "cell_type": "code",
   "execution_count": 21,
   "metadata": {
    "collapsed": false
   },
   "outputs": [
    {
     "data": {
      "text/plain": [
       "[<matplotlib.lines.Line2D at 0x106ede190>,\n",
       " <matplotlib.lines.Line2D at 0x1138ad890>]"
      ]
     },
     "execution_count": 21,
     "metadata": {},
     "output_type": "execute_result"
    },
    {
     "data": {
      "image/png": "[encoded data removed]",
      "text/plain": [
       "<matplotlib.figure.Figure at 0x11341cd50>"
      ]
     },
     "metadata": {},
     "output_type": "display_data"
    }
   ],
   "source": [
    "plt.plot(mesh_nodes, p_undeformed)\n",
    "plt.plot(mesh_nodes, p_solution)"
   ]
  },
  {
   "cell_type": "code",
   "execution_count": 22,
   "metadata": {
    "collapsed": true
   },
   "outputs": [],
   "source": [
    "new_edge_rest_lengths = compute_edge_lengths(p_solution, edges )"
   ]
  },
  {
   "cell_type": "code",
   "execution_count": null,
   "metadata": {
    "collapsed": true
   },
   "outputs": [],
   "source": []
  },
  {
   "cell_type": "code",
   "execution_count": null,
   "metadata": {
    "collapsed": true
   },
   "outputs": [],
   "source": []
  },
  {
   "cell_type": "markdown",
   "metadata": {
    "collapsed": true
   },
   "source": [
    "Using dictionaries to map old coordinates to new coordinates is fine. But using coordinates as dictionary keys is crazy...we want to use the element number, as these are integer and unique.\n",
    "\n",
    "So, we basically need a look-up function that maps an element index in the 1D mesh vector (m*n) to the value m, for instance."
   ]
  },
  {
   "cell_type": "code",
   "execution_count": 23,
   "metadata": {
    "collapsed": false
   },
   "outputs": [
    {
     "data": {
      "text/plain": [
       "array([[   0],\n",
       "       [   1],\n",
       "       [   2],\n",
       "       ..., \n",
       "       [9997],\n",
       "       [9998],\n",
       "       [9999]], dtype=int32)"
      ]
     },
     "execution_count": 23,
     "metadata": {},
     "output_type": "execute_result"
    }
   ],
   "source": [
    "mesh.data_elgId"
   ]
  },
  {
   "cell_type": "code",
   "execution_count": 24,
   "metadata": {
    "collapsed": false
   },
   "outputs": [],
   "source": [
    "md = mesh.data[:,0].copy()\n",
    "mesharray = md.reshape(mesh.elementRes[0] +1, mesh.elementRes[1] +1)"
   ]
  },
  {
   "cell_type": "code",
   "execution_count": 25,
   "metadata": {
    "collapsed": false
   },
   "outputs": [
    {
     "data": {
      "text/plain": [
       "(101, 101)"
      ]
     },
     "execution_count": 25,
     "metadata": {},
     "output_type": "execute_result"
    }
   ],
   "source": [
    "mesharray.shape"
   ]
  },
  {
   "cell_type": "code",
   "execution_count": null,
   "metadata": {
    "collapsed": true
   },
   "outputs": [],
   "source": [
    "\n"
   ]
  },
  {
   "cell_type": "code",
   "execution_count": null,
   "metadata": {
    "collapsed": false
   },
   "outputs": [],
   "source": [
    "    "
   ]
  },
  {
   "cell_type": "code",
   "execution_count": 26,
   "metadata": {
    "collapsed": false
   },
   "outputs": [],
   "source": [
    "#ykeys = np.zeros(mesh.data.size)\n",
    "#ykeys = np.linspace(mesh.minCoord[1], mesh.maxCoord[1], mesh.elementRes[1] + 1)\n",
    "\n",
    "#a = xkeys\n",
    "#b = ykeys\n",
    "\n",
    "\n",
    "#for j in range(mesh.elementRes[0]):\n",
    "#        b = np.column_stack((b, ykeys))\n",
    "    "
   ]
  },
  {
   "cell_type": "code",
   "execution_count": 27,
   "metadata": {
    "collapsed": false
   },
   "outputs": [
    {
     "data": {
      "text/plain": [
       "5000"
      ]
     },
     "execution_count": 27,
     "metadata": {},
     "output_type": "execute_result"
    }
   ],
   "source": [
    "mesh.data.size\n",
    "#mesh.elementRes\n",
    "(100*50)"
   ]
  },
  {
   "cell_type": "code",
   "execution_count": 28,
   "metadata": {
    "collapsed": true
   },
   "outputs": [],
   "source": [
    "def mesh_element_keys(mesh):\n",
    "    #xkeys = np.zeros(mesh.data.size)\n",
    "    xkeys = np.linspace(mesh.minCoord[0], mesh.maxCoord[0], mesh.elementRes[0] + 1)\n",
    "    #ykeys = np.zeros(mesh.data.size)\n",
    "    ykeys = np.linspace(mesh.minCoord[1], mesh.maxCoord[1], mesh.elementRes[1] + 1)\n",
    "    \n",
    "    a = xkeys\n",
    "    b = ykeys\n",
    "    for i in range(mesh.elementRes[1]):\n",
    "        a = np.row_stack((a, xkeys))\n",
    "    for j in range(mesh.elementRes[0]):\n",
    "        b = np.column_stack((b, ykeys))\n",
    "    return a.flatten(), b.flatten()"
   ]
  },
  {
   "cell_type": "code",
   "execution_count": 29,
   "metadata": {
    "collapsed": false
   },
   "outputs": [],
   "source": [
    "xkeys, ykeys = mesh_element_keys(mesh)"
   ]
  },
  {
   "cell_type": "code",
   "execution_count": 30,
   "metadata": {
    "collapsed": false
   },
   "outputs": [
    {
     "data": {
      "text/plain": [
       "(10201,)"
      ]
     },
     "execution_count": 30,
     "metadata": {},
     "output_type": "execute_result"
    }
   ],
   "source": [
    "xkeys.shape"
   ]
  },
  {
   "cell_type": "code",
   "execution_count": 31,
   "metadata": {
    "collapsed": false
   },
   "outputs": [
    {
     "data": {
      "text/plain": [
       "(10201,)"
      ]
     },
     "execution_count": 31,
     "metadata": {},
     "output_type": "execute_result"
    }
   ],
   "source": [
    "ykeys.shape"
   ]
  },
  {
   "cell_type": "code",
   "execution_count": 32,
   "metadata": {
    "collapsed": false
   },
   "outputs": [],
   "source": [
    "origxcoords = np.linspace(mesh.minCoord[0], mesh.maxCoord[0], mesh.elementRes[0] + 1)\n",
    "dictionary = dict(itertools.izip(origxcoords, p_solution[:,0]))\n",
    "#assert len([x for x, y in collections.Counter(lest(p_solution).items() if y > 1]) == 0 #checks agains multiple coordinates\n"
   ]
  },
  {
   "cell_type": "code",
   "execution_count": 33,
   "metadata": {
    "collapsed": false
   },
   "outputs": [],
   "source": [
    "with mesh.deform_mesh():\n",
    "    for index, coord in enumerate(mesh.data):\n",
    "            key =  xkeys[index]\n",
    "            mesh.data[index][0] = dictionary[key]"
   ]
  },
  {
   "cell_type": "code",
   "execution_count": 34,
   "metadata": {
    "collapsed": false
   },
   "outputs": [
    {
     "data": {
      "text/html": [
       "<img src='data:image/png;base64,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'>"
      ],
      "text/plain": [
       "<IPython.core.display.HTML object>"
      ]
     },
     "execution_count": 34,
     "metadata": {},
     "output_type": "execute_result"
    }
   ],
   "source": [
    "figMesh = glucifer.Figure(figsize=(1200,600),antialias=1)\n",
    "#figMesh.append( glucifer.objects.Mesh(mesh.subMesh, nodeNumbers=True) )\n",
    "figMesh.append( glucifer.objects.Mesh(mesh) )\n",
    "figMesh.show()"
   ]
  },
  {
   "cell_type": "markdown",
   "metadata": {},
   "source": [
    "## As a Function"
   ]
  },
  {
   "cell_type": "code",
   "execution_count": 35,
   "metadata": {
    "collapsed": false
   },
   "outputs": [
    {
     "data": {
      "text/plain": [
       "1.0"
      ]
     },
     "execution_count": 35,
     "metadata": {},
     "output_type": "execute_result"
    }
   ],
   "source": [
    "mesh.maxCoord[0] - mesh.minCoord[0]"
   ]
  },
  {
   "cell_type": "code",
   "execution_count": 130,
   "metadata": {
    "collapsed": false
   },
   "outputs": [],
   "source": [
    "def deform_1d(f, mesh,axis = 'x',norm = 'None', constraints = []):\n",
    "    \"\"\"This function deforms the mesh along the given axis,\n",
    "    by solving an anlogous spring system. The deformation is described by:\n",
    "    f: function, or vector, giving the equilibrium spring lengths.\n",
    "        If a function is given, the equilibrium positions are treated a function of space\n",
    "        and the function solves for the current node/spring positions\n",
    "        then remaps the spatial function onto the updated position\n",
    "        If a vector is give, the equilibrium spring lengths are considered a fucntion of\n",
    "        the springs themselves and only one equilibrium solve is needed\n",
    "        (though this is still a non-linear system)\n",
    "    axis: the axis to deform along, x or y\n",
    "    norm: You can choose to normalise the function / vector in a couple of different ways:\n",
    "        \"None\", vector / function isn.t normalised, spings will be in tension / compression\n",
    "        \"Uniform\": vector / function is normalised to axis width uniformally\n",
    "        \"Min\": vector / function is normalised to axis width, while preserving the min separation\n",
    "    constraints: extra constraints for the system (the mesh never changes size, but inernal nodel can be fixed)\n",
    "    \"\"\"\n",
    "    xkeys, ykeys = mesh_element_keys(mesh)\n",
    "    if axis == \"y\":\n",
    "        thisaxis = 1\n",
    "        usekeys = ykeys\n",
    "    else:\n",
    "        thisaxis = 0\n",
    "        usekeys = xkeys\n",
    "    print(norm)\n",
    "    if not callable(f):\n",
    "        #Sort out normalisation\n",
    "        if norm == 'None':\n",
    "            pass\n",
    "        elif norm == 'Uniform':\n",
    "            f = f/f.sum()\n",
    "        elif norm == 'Min':\n",
    "            beta = f.sum()\n",
    "            N = mesh.elementRes[thisaxis]\n",
    "            fm = min(f)\n",
    "            alpha = ((mesh.maxCoord[thisaxis] - mesh.minCoord[thisaxis]) - beta)/(beta - N*fm)\n",
    "            print(N, fm, beta, alpha)\n",
    "            f = np.array(f) + ((np.array(f) - fm)*alpha)\n",
    "        #p_undeformed  = mesh.data[:mesh.elementRes[ thisaxis] +1,:] #This need fixing\n",
    "        p_undeformed  = np.array(zip(np.linspace(mesh.minCoord[thisaxis], mesh.maxCoord[thisaxis],\n",
    "                                        mesh.elementRes[thisaxis] + 1), np.zeros(mesh.elementRes[thisaxis] + 1 )))\n",
    "\n",
    "\n",
    "        mesh_nodes= np.arange(0, p_undeformed.shape[ 0] , 1)\n",
    "\n",
    "        edges = [(int(i), int(i+1)) for i in mesh_nodes[:-1]]\n",
    "        constraints = [ ( mesh_nodes[0], p_undeformed[ 0] ), ( mesh_nodes[-1], p_undeformed[-1] ) ] + constraints#Add egde constraints\n",
    "        p_initial = p_undeformed.copy()\n",
    "        print ('edges', len(edges))\n",
    "        p_solution = static_solution( p_initial, edges, f, constraints )\n",
    "        origxcoords = np.around(np.linspace(mesh.minCoord[thisaxis ], mesh.maxCoord[thisaxis ], mesh.elementRes[thisaxis ] + 1), 5)\n",
    "        dictionary = dict(itertools.izip(origxcoords, p_solution[:,0]))\n",
    "        #print dictionary\n",
    "        with mesh.deform_mesh():\n",
    "            for index, coord in enumerate(mesh.data):\n",
    "                mesh.data[index][thisaxis] = dictionary[np.around(coord,5)[thisaxis]]\n",
    "        #Print some stats\n",
    "        print(\"Min, Max element width: \")\n",
    "        print(\"%.5f\" % min(compute_edge_lengths(p_solution, edges )))\n",
    "        print(\"%.5f\" % max(compute_edge_lengths(p_solution, edges )))"
   ]
  },
  {
   "cell_type": "code",
   "execution_count": 150,
   "metadata": {
    "collapsed": false
   },
   "outputs": [],
   "source": [
    "mesh = uw.mesh.FeMesh_Cartesian( elementType = (\"Q1/dQ0\"), \n",
    "                                 elementRes  = (100, 50), \n",
    "                                 minCoord    = (-1., 0.), \n",
    "                                 maxCoord    = (1., 1.1))"
   ]
  },
  {
   "cell_type": "code",
   "execution_count": 151,
   "metadata": {
    "collapsed": false
   },
   "outputs": [
    {
     "data": {
      "text/html": [
       "<img src='data:image/png;base64,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'>"
      ],
      "text/plain": [
       "<IPython.core.display.HTML object>"
      ]
     },
     "execution_count": 151,
     "metadata": {},
     "output_type": "execute_result"
    }
   ],
   "source": [
    "figMesh = glucifer.Figure()\n",
    "#figMesh.append( glucifer.objects.Mesh(mesh.subMesh, nodeNumbers=True) )\n",
    "figMesh.append( glucifer.objects.Mesh(mesh) )\n",
    "figMesh.show()"
   ]
  },
  {
   "cell_type": "code",
   "execution_count": 152,
   "metadata": {
    "collapsed": false
   },
   "outputs": [
    {
     "data": {
      "text/plain": [
       "50"
      ]
     },
     "execution_count": 152,
     "metadata": {},
     "output_type": "execute_result"
    }
   ],
   "source": [
    "new_lengths.shape[0]/2"
   ]
  },
  {
   "cell_type": "code",
   "execution_count": 153,
   "metadata": {
    "collapsed": false
   },
   "outputs": [],
   "source": [
    "mesh.reset()"
   ]
  },
  {
   "cell_type": "code",
   "execution_count": 154,
   "metadata": {
    "collapsed": false
   },
   "outputs": [],
   "source": [
    "p_undeformed  = mesh.data[:mesh.elementRes[0] +1,:]\n",
    "mesh_xs= np.arange(0, p_undeformed.shape[0] , 1)\n",
    "edges = [(int(i), int(i+1)) for i in mesh_xs[:-1]]\n",
    "edge_rest_lengths = compute_edge_lengths( p_undeformed, edges )\n",
    "new_lengths  = np.array(edge_rest_lengths)\n",
    "mid = new_lengths.shape[0]/2\n",
    "old_dx = edge_rest_lengths[0]\n",
    "third = new_lengths.shape[0]/3\n",
    "#new_lengths[:third] *= 2.\n",
    "#new_lengths[third:] *= 2.\n",
    "new_lengths[third:2*third] *= 0.5 ##weird, the matix goes singular when this is exactly 1.\n"
   ]
  },
  {
   "cell_type": "code",
   "execution_count": 155,
   "metadata": {
    "collapsed": false
   },
   "outputs": [
    {
     "data": {
      "text/plain": [
       "array([ 0.   ,  0.022,  0.044,  0.066,  0.088,  0.11 ,  0.132,  0.154,\n",
       "        0.176,  0.198,  0.22 ,  0.242,  0.264,  0.286,  0.308,  0.33 ,\n",
       "        0.352,  0.374,  0.396,  0.418,  0.44 ,  0.462,  0.484,  0.506,\n",
       "        0.528,  0.55 ,  0.572,  0.594,  0.616,  0.638,  0.66 ,  0.682,\n",
       "        0.704,  0.726,  0.748,  0.77 ,  0.792,  0.814,  0.836,  0.858,\n",
       "        0.88 ,  0.902,  0.924,  0.946,  0.968,  0.99 ,  1.012,  1.034,\n",
       "        1.056,  1.078,  1.1  ])"
      ]
     },
     "execution_count": 155,
     "metadata": {},
     "output_type": "execute_result"
    }
   ],
   "source": [
    "origxcoords = np.linspace(mesh.minCoord[thisaxis ], mesh.maxCoord[thisaxis ], mesh.elementRes[thisaxis ] + 1)\n",
    "np.around(origxcoords, 3)"
   ]
  },
  {
   "cell_type": "code",
   "execution_count": 156,
   "metadata": {
    "collapsed": true
   },
   "outputs": [],
   "source": [
    "def find_closest(A, target):\n",
    "    #A must be sorted\n",
    "    idx = A.searchsorted(target)\n",
    "    idx = np.clip(idx, 1, len(A)-1)\n",
    "    left = A[idx-1]\n",
    "    right = A[idx]\n",
    "    idx -= target - left < right - target\n",
    "    return idx"
   ]
  },
  {
   "cell_type": "code",
   "execution_count": 157,
   "metadata": {
    "collapsed": false
   },
   "outputs": [
    {
     "data": {
      "text/plain": [
       "[(45, array([ 1.,  0.]))]"
      ]
     },
     "execution_count": 157,
     "metadata": {},
     "output_type": "execute_result"
    }
   ],
   "source": [
    "orgs = np.unique(mesh.data[:,1])\n",
    "\n",
    "value_to_constrain = 1.\n",
    "\n",
    "\n",
    "yconst = [(find_closest(orgs, value_to_constrain), np.array([1.,0]))]\n",
    "yconst "
   ]
  },
  {
   "cell_type": "code",
   "execution_count": 158,
   "metadata": {
    "collapsed": false
   },
   "outputs": [
    {
     "name": "stdout",
     "output_type": "stream",
     "text": [
      "Min\n",
      "(100, 0.0099999999999998979, 1.6699999999999999, 0.49253731343282847)\n",
      "('edges', 100)\n",
      "-- iteration 0 --\n",
      "| F( p_n ) |^2: 0.000494052127423\n",
      "| p_n+1 - p_n |^2: 0.908927378035\n",
      "-- iteration 1 --\n",
      "| F( p_n ) |^2: 3.12771022968e-31\n",
      "Min, Max element width: \n",
      "0.01000\n",
      "0.02493\n"
     ]
    }
   ],
   "source": [
    "deform_1d(new_lengths, mesh,axis = 'x',norm = 'Min', constraints = [])"
   ]
  },
  {
   "cell_type": "code",
   "execution_count": 159,
   "metadata": {
    "collapsed": false
   },
   "outputs": [
    {
     "data": {
      "text/plain": [
       "(0.0099999999999998979, 0.020000000000000018)"
      ]
     },
     "execution_count": 159,
     "metadata": {},
     "output_type": "execute_result"
    }
   ],
   "source": [
    "new_lengths.min(), new_lengths.max()"
   ]
  },
  {
   "cell_type": "code",
   "execution_count": 160,
   "metadata": {
    "collapsed": false
   },
   "outputs": [
    {
     "name": "stdout",
     "output_type": "stream",
     "text": [
      "Uniform\n",
      "('edges', 50)\n",
      "-- iteration 0 --\n",
      "| F( p_n ) |^2: 0.000850454922105\n",
      "| p_n+1 - p_n |^2: 0.22128012082\n",
      "-- iteration 1 --\n",
      "| F( p_n ) |^2: 0.000104296519003\n",
      "| p_n+1 - p_n |^2: 1.7976268989e-30\n",
      "Min, Max element width: \n",
      "0.01355\n",
      "0.02574\n"
     ]
    }
   ],
   "source": [
    "#Y-Axis\n",
    "axis = 1\n",
    "origcoords = np.linspace(mesh.minCoord[axis], mesh.maxCoord[axis], mesh.elementRes[axis] + 1)\n",
    "edge_rest_lengths = np.diff(origcoords)\n",
    "third = edge_rest_lengths.shape[0]/3\n",
    "deform_lengths = np.copy(edge_rest_lengths)\n",
    "deform_lengths\n",
    "\n",
    "deform_lengths[2*third:] *= 0.5001 ##The matix can go singular when this is exactly 1.\n",
    "deform_1d(deform_lengths, mesh, axis = 'y',norm = 'Uniform', constraints = yconst )"
   ]
  },
  {
   "cell_type": "code",
   "execution_count": 161,
   "metadata": {
    "collapsed": false
   },
   "outputs": [
    {
     "data": {
      "text/html": [
       "<img src='data:image/png;base64,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'>"
      ],
      "text/plain": [
       "<IPython.core.display.HTML object>"
      ]
     },
     "execution_count": 161,
     "metadata": {},
     "output_type": "execute_result"
    }
   ],
   "source": [
    "figMesh.save_database('test.gldb')\n",
    "figMesh.show()\n"
   ]
  },
  {
   "cell_type": "code",
   "execution_count": 85,
   "metadata": {
    "collapsed": false
   },
   "outputs": [
    {
     "data": {
      "text/plain": [
       "(0, array([-1.,  0.]))"
      ]
     },
     "execution_count": 85,
     "metadata": {},
     "output_type": "execute_result"
    }
   ],
   "source": [
    "mesh_nodes[0], p_undeformed[ 0] "
   ]
  },
  {
   "cell_type": "code",
   "execution_count": 92,
   "metadata": {
    "collapsed": false
   },
   "outputs": [],
   "source": [
    "orgs = np.unique(mesh.data[:,1])"
   ]
  },
  {
   "cell_type": "code",
   "execution_count": 100,
   "metadata": {
    "collapsed": true
   },
   "outputs": [],
   "source": [
    "def find_closest(A, target):\n",
    "    #A must be sorted\n",
    "    idx = A.searchsorted(target)\n",
    "    idx = np.clip(idx, 1, len(A)-1)\n",
    "    left = A[idx-1]\n",
    "    right = A[idx]\n",
    "    idx -= target - left < right - target\n",
    "    return idx"
   ]
  },
  {
   "cell_type": "code",
   "execution_count": 101,
   "metadata": {
    "collapsed": false
   },
   "outputs": [
    {
     "data": {
      "text/plain": [
       "43"
      ]
     },
     "execution_count": 101,
     "metadata": {},
     "output_type": "execute_result"
    }
   ],
   "source": [
    "find_closest(orgs, 1.)"
   ]
  },
  {
   "cell_type": "code",
   "execution_count": 99,
   "metadata": {
    "collapsed": false
   },
   "outputs": [
    {
     "data": {
      "text/plain": [
       "(51,)"
      ]
     },
     "execution_count": 99,
     "metadata": {},
     "output_type": "execute_result"
    }
   ],
   "source": [
    "orgs.shape"
   ]
  },
  {
   "cell_type": "code",
   "execution_count": 106,
   "metadata": {
    "collapsed": true
   },
   "outputs": [],
   "source": [
    "constraints = [ ( mesh_nodes[0], p_undeformed[ 0] ), ( mesh_nodes[-1], p_undeformed[-1] ) ]"
   ]
  },
  {
   "cell_type": "code",
   "execution_count": 109,
   "metadata": {
    "collapsed": false
   },
   "outputs": [],
   "source": [
    "constraints.append((43, np.array([1.,0])))"
   ]
  },
  {
   "cell_type": "code",
   "execution_count": 110,
   "metadata": {
    "collapsed": false
   },
   "outputs": [
    {
     "data": {
      "text/plain": [
       "[(0, array([-1.,  0.])), (100, array([ 1.,  0.])), (43, array([ 1.,  0.]))]"
      ]
     },
     "execution_count": 110,
     "metadata": {},
     "output_type": "execute_result"
    }
   ],
   "source": [
    "constraints"
   ]
  },
  {
   "cell_type": "code",
   "execution_count": 118,
   "metadata": {
    "collapsed": false
   },
   "outputs": [
    {
     "data": {
      "text/plain": [
       "[(0, array([-1.,  0.])),\n",
       " (100, array([ 1.,  0.])),\n",
       " (43, array([ 1.,  0.])),\n",
       " (0, array([-1.,  0.])),\n",
       " (100, array([ 1.,  0.])),\n",
       " (43, array([ 1.,  0.]))]"
      ]
     },
     "execution_count": 118,
     "metadata": {},
     "output_type": "execute_result"
    }
   ],
   "source": [
    "constraints + constraints"
   ]
  },
  {
   "cell_type": "code",
   "execution_count": null,
   "metadata": {
    "collapsed": true
   },
   "outputs": [],
   "source": []
  }
 ],
 "metadata": {
  "kernelspec": {
   "display_name": "Python 2",
   "language": "python",
   "name": "python2"
  },
  "language_info": {
   "codemirror_mode": {
    "name": "ipython",
    "version": 2
   },
   "file_extension": ".py",
   "mimetype": "text/x-python",
   "name": "python",
   "nbconvert_exporter": "python",
   "pygments_lexer": "ipython2",
   "version": "2.7.11"
  }
 },
 "nbformat": 4,
 "nbformat_minor": 0
}
