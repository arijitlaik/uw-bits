{
 "cells": [
  {
   "cell_type": "markdown",
   "metadata": {},
   "source": [
    "# Adaptive Moving Mesh Methods"
   ]
  },
  {
   "cell_type": "markdown",
   "metadata": {},
   "source": [
    "If one wishes to approximate a given function u(x) using its values at a finite number of\n",
    "mesh points, how should these points be chosen? The answer can usually be given\n",
    "as follows: one chooses a so-called mesh density function ρ(x), which in some way\n",
    "indicates the error in the numerical approximation, and the mesh points are then\n",
    "placed in such a way that distances between them are smaller in regions where\n",
    "ρ(x) is larger, and the distances are larger in regions where ρ(x) is smaller\n",
    "\n",
    "The proper choice of a mesh density function is key to the success of the moving\n",
    "mesh method. One popular choice is\n",
    "\n",
    "we assume henceforth that any mesh density function is by definition strictly positive\n",
    "\n",
    "\n",
    "Recall from Chapter 2 that for the rezoning approach, the mesh is changed intermittently\n",
    "at discrete time levels.\n",
    "\n",
    "We shall see that viewing an adaptive mesh as a uniform one in some metric\n",
    "space has the advantage that such a mesh can be described both geometrically and\n",
    "analytically in a relatively simple manner. "
   ]
  },
  {
   "cell_type": "code",
   "execution_count": 1,
   "metadata": {
    "collapsed": true
   },
   "outputs": [],
   "source": [
    "%matplotlib inline\n",
    "import underworld as uw\n",
    "import math\n",
    "from underworld import function as fn\n",
    "import glucifer\n",
    "import matplotlib.pyplot as pyplot\n",
    "import numpy as np"
   ]
  },
  {
   "cell_type": "code",
   "execution_count": 2,
   "metadata": {
    "collapsed": true
   },
   "outputs": [],
   "source": [
    "mesh = uw.mesh.FeMesh_Cartesian( elementType = (\"Q1/dQ0\"), \n",
    "                                 elementRes  = (4, 4), \n",
    "                                 minCoord    = (0., 0.), \n",
    "                                 maxCoord    = (2., 1.))\n",
    "yCoordFn = fn.input()[1]"
   ]
  },
  {
   "cell_type": "code",
   "execution_count": 3,
   "metadata": {
    "collapsed": false
   },
   "outputs": [
    {
     "data": {
      "text/html": [
       "<img src='data:image/png;base64,'>"
      ],
      "text/plain": [
       "<IPython.core.display.HTML object>"
      ]
     },
     "execution_count": 3,
     "metadata": {},
     "output_type": "execute_result"
    }
   ],
   "source": [
    "figMesh = glucifer.Figure(figsize=(1200,600),antialias=1)\n",
    "figMesh.append( glucifer.objects.Mesh(mesh.subMesh, nodeNumbers=True) )\n",
    "figMesh.append( glucifer.objects.Mesh(mesh, nodeNumbers=True) )\n",
    "figMesh.show()"
   ]
  },
  {
   "cell_type": "code",
   "execution_count": null,
   "metadata": {
    "collapsed": true
   },
   "outputs": [],
   "source": []
  },
  {
   "cell_type": "code",
   "execution_count": null,
   "metadata": {
    "collapsed": true
   },
   "outputs": [],
   "source": []
  }
 ],
 "metadata": {
  "kernelspec": {
   "display_name": "Python 2",
   "language": "python",
   "name": "python2"
  },
  "language_info": {
   "codemirror_mode": {
    "name": "ipython",
    "version": 2
   },
   "file_extension": ".py",
   "mimetype": "text/x-python",
   "name": "python",
   "nbconvert_exporter": "python",
   "pygments_lexer": "ipython2",
   "version": "2.7.11"
  }
 },
 "nbformat": 4,
 "nbformat_minor": 0
}
