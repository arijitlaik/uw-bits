{
 "cells": [
  {
   "cell_type": "code",
   "execution_count": 3,
   "metadata": {
    "collapsed": false
   },
   "outputs": [],
   "source": [
    "import underworld as uw\n",
    "import math\n",
    "from underworld import function as fn\n",
    "import glucifer\n",
    "import numpy as np\n",
    "import os\n",
    "import math\n",
    "#%pylab inline"
   ]
  },
  {
   "cell_type": "markdown",
   "metadata": {},
   "source": [
    "This notebook implements various mesh refinement functions for use with Underworld2."
   ]
  },
  {
   "cell_type": "markdown",
   "metadata": {},
   "source": [
    "## Example 1: \n",
    "\n",
    "$y' = \\frac{ln((\\alpha y + e) -1)}{ln((\\alpha + e) - 1)}$\n"
   ]
  },
  {
   "cell_type": "markdown",
   "metadata": {},
   "source": []
  },
  {
   "cell_type": "code",
   "execution_count": 3,
   "metadata": {
    "collapsed": false
   },
   "outputs": [
    {
     "data": {
      "image/png": "[encoded data removed]",
      "text/plain": [
       "<matplotlib.figure.Figure at 0x10e117110>"
      ]
     },
     "metadata": {},
     "output_type": "display_data"
    }
   ],
   "source": [
    "alpha = 11\n",
    "yorig = np.linspace(0.00,1,100)\n",
    "\n",
    "y2 = [(math.log(alpha*Y + math.e) - 1.)*(1./(math.log(alpha + math.e) - 1)) for Y in yorig ]\n",
    "y3 = [(math.e**(Y*(math.log(alpha + math.e) - 1) + 1 ) - math.e)/alpha for Y in yorig ]\n",
    "pyplot.plot(yorig, y3)\n",
    "pyplot.plot(yorig, y2)\n",
    "pyplot.axis('equal')\n",
    "pyplot.grid()"
   ]
  },
  {
   "cell_type": "code",
   "execution_count": 4,
   "metadata": {
    "collapsed": false
   },
   "outputs": [
    {
     "name": "stdout",
     "output_type": "stream",
     "text": [
      "(0.00390625, 0.001938026862393638, 2.015580937394969)\n"
     ]
    }
   ],
   "source": [
    "alpha = 11.\n",
    "res = 256\n",
    "dyo = 1./res\n",
    "\n",
    "dyn = 1. - (math.log(alpha*(1- dyo ) + math.e) - 1.)*(1./(math.log(alpha + math.e) - 1))\n",
    "\n",
    "print(dyo, dyn, (dyo/dyn))"
   ]
  },
  {
   "cell_type": "code",
   "execution_count": 5,
   "metadata": {
    "collapsed": false
   },
   "outputs": [
    {
     "name": "stdout",
     "output_type": "stream",
     "text": [
      "(0.0, 0.9999999999999999)\n"
     ]
    }
   ],
   "source": [
    "### print((math.log(alpha*0. + math.e) - 1)*(1/(math.log(alpha + math.e) - 1)), (math.log(alpha*1. + math.e) - 1)*(1/(math.log(alpha + math.e) - 1)))\n",
    "print((math.e**(0*(math.log(alpha + math.e) - 1) + 1 ) - math.e)/alpha, (math.e**(1.*(math.log(alpha + math.e) - 1) + 1 ) - math.e)/alpha)\n",
    "\n",
    "#(math.e**(0.*math.log(alpha + math.e)) - math.e)/alpha"
   ]
  },
  {
   "cell_type": "code",
   "execution_count": 18,
   "metadata": {
    "collapsed": false
   },
   "outputs": [],
   "source": [
    "# RT PIC - classic and nearest neighbour\n",
    "\n",
    "#from shapely.geometry import Polygon\n",
    "#from shapely.geometry import Point"
   ]
  },
  {
   "cell_type": "code",
   "execution_count": 5,
   "metadata": {
    "collapsed": true
   },
   "outputs": [],
   "source": [
    "dim = 2\n",
    "\n",
    "meshX = 64\n",
    "meshY = 64"
   ]
  },
  {
   "cell_type": "code",
   "execution_count": 20,
   "metadata": {
    "collapsed": true
   },
   "outputs": [],
   "source": [
    "# create mesh objects\n",
    "elementMesh = uw.mesh.FeMesh_Cartesian( elementType='Q1/dQ0', \n",
    "                                         elementRes=(meshX, meshY), \n",
    "                                           minCoord=(0.,0.), \n",
    "                                           maxCoord=(1.,1.0))\n",
    "linearMesh   = elementMesh\n",
    "constantMesh = elementMesh.subMesh"
   ]
  },
  {
   "cell_type": "code",
   "execution_count": 21,
   "metadata": {
    "collapsed": false
   },
   "outputs": [],
   "source": [
    "# create fevariables\n",
    "velocityField    = uw.mesh.MeshVariable( mesh=linearMesh,   nodeDofCount=dim )\n",
    "pressureField    = uw.mesh.MeshVariable( mesh=constantMesh, nodeDofCount=1 )\n",
    "temperatureField = uw.mesh.MeshVariable( mesh=linearMesh,   nodeDofCount=1 )\n",
    "temperatureDotField = uw.mesh.MeshVariable( mesh=linearMesh,         nodeDofCount=1 )\n"
   ]
  },
  {
   "cell_type": "code",
   "execution_count": 22,
   "metadata": {
    "collapsed": false
   },
   "outputs": [],
   "source": [
    "for index, coord in enumerate(linearMesh.data):\n",
    "    if coord[1] < 0.7:\n",
    "        temperatureField.data[index] = 0.5  \n",
    "    else:\n",
    "        temperatureField.data[index] = 1. - coord[1]\n",
    "    "
   ]
  },
  {
   "cell_type": "code",
   "execution_count": 23,
   "metadata": {
    "collapsed": false
   },
   "outputs": [],
   "source": [
    "#(math.log(0 + 0.001)/alpha + 1) + abs((math.log(0.0 + 0.001)/alpha + 1))"
   ]
  },
  {
   "cell_type": "code",
   "execution_count": 24,
   "metadata": {
    "collapsed": false
   },
   "outputs": [],
   "source": [
    "#THis one for the rectangonal mesh\n",
    "alpha = 1.\n",
    "newys = []\n",
    "newxs = []\n",
    "for index, coord in enumerate(linearMesh.data):\n",
    "    y0 = coord[1]\n",
    "    x0 = abs(coord[0])\n",
    "    newy = (math.log(alpha*y0 + math.e) - 1)*(1/(math.log(alpha + math.e) - 1))\n",
    "    if coord[0] > 0:\n",
    "        newx = (math.e**(x0*(math.log((alpha/2.) + math.e) - 1) + 1 ) - math.e)/(alpha/2.)     \n",
    "    else:\n",
    "        newx = -1.*(math.e**(x0*(math.log((alpha/2.) + math.e) - 1) + 1 ) - math.e)/(alpha/2.)\n",
    "    newys.append(newy)\n",
    "    newxs.append(newx)\n",
    "    #print y0,newy"
   ]
  },
  {
   "cell_type": "code",
   "execution_count": 25,
   "metadata": {
    "collapsed": true
   },
   "outputs": [],
   "source": [
    "#THis one for the square mesh\n",
    "\n",
    "alpha = 11.\n",
    "newys = []\n",
    "newxs = []\n",
    "for index, coord in enumerate(linearMesh.data):\n",
    "    y0 = coord[1]\n",
    "    x0 = abs(coord[0])\n",
    "    newy = (math.log(alpha*y0 + math.e) - 1)*(1/(math.log(alpha + math.e) - 1))\n",
    "    newx = (math.log(alpha*x0 + math.e) - 1)*(1/(math.log(alpha + math.e) - 1))\n",
    "    newys.append(newy)\n",
    "    newxs.append(newx)"
   ]
  },
  {
   "cell_type": "code",
   "execution_count": 26,
   "metadata": {
    "collapsed": false
   },
   "outputs": [
    {
     "data": {
      "text/plain": [
       "array([ 0.,  0.,  0., ...,  1.,  1.,  1.])"
      ]
     },
     "execution_count": 26,
     "metadata": {},
     "output_type": "execute_result"
    }
   ],
   "source": [
    "linearMesh.data[:,1]"
   ]
  },
  {
   "cell_type": "code",
   "execution_count": 27,
   "metadata": {
    "collapsed": false
   },
   "outputs": [],
   "source": [
    "with linearMesh.deform_mesh():\n",
    "    linearMesh.data[:,1] = newys\n",
    "    linearMesh.data[:,0] = newxs\n"
   ]
  },
  {
   "cell_type": "code",
   "execution_count": 28,
   "metadata": {
    "collapsed": false
   },
   "outputs": [],
   "source": [
    "\n",
    "    \n",
    "#figtemp = plt.Figure()\n",
    "#figtemp.Surface(temperatureField, elementMesh)\n",
    "#figtemp.Surface(indexField, elementMesh)\n",
    "#figtemp.Mesh(linearMesh, colourBar=False)\n",
    "#figtemp.show()"
   ]
  },
  {
   "cell_type": "code",
   "execution_count": 29,
   "metadata": {
    "collapsed": false
   },
   "outputs": [
    {
     "data": {
      "text/html": [
       "<img src='data:image/png;base64,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'>"
      ],
      "text/plain": [
       "<IPython.core.display.HTML object>"
      ]
     },
     "execution_count": 29,
     "metadata": {},
     "output_type": "execute_result"
    }
   ],
   "source": [
    "\n",
    "# gLucifer visualisation of mesh\n",
    "fig = glucifer.Figure( figsize=(800,400) )\n",
    "fig.append(glucifer.objects.Mesh( elementMesh ))\n",
    "fig.append(glucifer.objects.Surface( elementMesh, temperatureField))\n",
    "fig.show()"
   ]
  },
  {
   "cell_type": "code",
   "execution_count": 30,
   "metadata": {
    "collapsed": false
   },
   "outputs": [],
   "source": [
    "#indexField = uw.fevariable.FeVariable( feMesh=linearMesh, nodeDofCount=1)\n",
    "\n",
    "#for index, coord in enumerate(linearMesh.data):\n",
    "#     indexField.data[index] = ((index % (meshX+1)) % 2 ==0)\n",
    "#    indexField.data[index] = ((index/(meshX+1) % (meshY+1)) % 2 ==0)\n",
    "\n",
    "\n",
    "#figindex = plt.Figure()\n",
    "#figindex.Surface(indexField, elementMesh)\n",
    "#figindex.Mesh(linearMesh, colourBar=False)\n",
    "#figindex.show()"
   ]
  },
  {
   "cell_type": "code",
   "execution_count": 31,
   "metadata": {
    "collapsed": false
   },
   "outputs": [],
   "source": [
    "#indexField.evaluate((0.5,0.26))"
   ]
  },
  {
   "cell_type": "code",
   "execution_count": 32,
   "metadata": {
    "collapsed": false
   },
   "outputs": [],
   "source": [
    "#linearMesh._cself.isRegular#"
   ]
  },
  {
   "cell_type": "code",
   "execution_count": 33,
   "metadata": {
    "collapsed": false
   },
   "outputs": [],
   "source": [
    "Ra=1.e6\n",
    "rho = 4.0e3\n",
    "grav = 10\n",
    "height = 1.e6\n",
    "kappa = 1.0e-6\n",
    "\n",
    "# Set a constant viscosity.\n",
    "viscosity = 1.\n",
    "\n",
    "# Create our density function.\n",
    "densityFn = Ra * temperatureField\n",
    "\n",
    "# Define our vertical unit vector using a python tuple (this will be automatically converted to a function).\n",
    "z_hat = ( 0.0, 1.0 )\n",
    "\n",
    "# A buoyancy function.\n",
    "buoyancyFn = densityFn * z_hat\n",
    "\n",
    "# The temperature gradient is useful in the analysis below. We access it via the 'gradientFn' attribute provided\n",
    "# via the FeVariable.\n",
    "gradField = temperatureField.fn_gradient"
   ]
  },
  {
   "cell_type": "code",
   "execution_count": 34,
   "metadata": {
    "collapsed": false
   },
   "outputs": [],
   "source": [
    "iWalls = elementMesh.specialSets[\"MinI_VertexSet\"] + elementMesh.specialSets[\"MaxI_VertexSet\"]\n",
    "jWalls = elementMesh.specialSets[\"MinJ_VertexSet\"] + elementMesh.specialSets[\"MaxJ_VertexSet\"]\n",
    "\n",
    "freeslipBC = uw.conditions.DirichletCondition(     variable = velocityField, \n",
    "                                              indexSetsPerDof = (iWalls,jWalls) )\n",
    "tempBC     = uw.conditions.DirichletCondition(     variable = temperatureField, \n",
    "                                              indexSetsPerDof = (jWalls,) )"
   ]
  },
  {
   "cell_type": "code",
   "execution_count": 35,
   "metadata": {
    "collapsed": false
   },
   "outputs": [],
   "source": [
    "stokesPIC = uw.systems.Stokes( velocityField = velocityField, \n",
    "                               pressureField = pressureField,\n",
    "                               conditions    = [freeslipBC,],\n",
    "                               fn_viscosity   = viscosity, \n",
    "                               fn_bodyforce   = buoyancyFn )"
   ]
  },
  {
   "cell_type": "code",
   "execution_count": 36,
   "metadata": {
    "collapsed": false
   },
   "outputs": [],
   "source": [
    "advDiff = uw.systems.AdvectionDiffusion( temperatureField, temperatureDotField,velocityField, fn_diffusivity=1., conditions=[tempBC,], )"
   ]
  },
  {
   "cell_type": "code",
   "execution_count": 37,
   "metadata": {
    "collapsed": false
   },
   "outputs": [],
   "source": [
    "solver = uw.systems.Solver(stokesPIC)\n",
    "solver.solve() \n"
   ]
  },
  {
   "cell_type": "code",
   "execution_count": 38,
   "metadata": {
    "collapsed": false
   },
   "outputs": [
    {
     "data": {
      "text/html": [
       "<img src='data:image/png;base64,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'>"
      ],
      "text/plain": [
       "<IPython.core.display.HTML object>"
      ]
     },
     "execution_count": 38,
     "metadata": {},
     "output_type": "execute_result"
    }
   ],
   "source": [
    "\n",
    "velmax = np.amax(velocityField.data[:])\n",
    "if(velmax==0.0): velmax = 1.0\n",
    "fig1 = glucifer.Figure()\n",
    "fig1.append( glucifer.objects.Surface(linearMesh, temperatureField) )\n",
    "fig1.append( glucifer.objects.VectorArrows(linearMesh, velocityField/velmax, scaling=0.1, arrowHead=0.2) )\n",
    "fig1.show()"
   ]
  },
  {
   "cell_type": "markdown",
   "metadata": {
    "collapsed": true
   },
   "source": [
    "## Example 2: \n",
    "\n",
    "This refinement function is given in the Fenics documentation: http://fenicsproject.org/documentation/tutorial/prepro.html\n",
    "\n",
    "$y' = a + (b-a)(\\frac{y-a}{b-a})^s$\n",
    "\n",
    "Here I'm using the similar expression:\n",
    "\n",
    "$y' = 1. - \\left( a + (b-a)(\\frac{y-a}{b-a})^s \\right)$"
   ]
  },
  {
   "cell_type": "code",
   "execution_count": 39,
   "metadata": {
    "collapsed": false
   },
   "outputs": [
    {
     "data": {
      "text/plain": [
       "(0.0, 1.0, 0.0, 1.0)"
      ]
     },
     "execution_count": 39,
     "metadata": {},
     "output_type": "execute_result"
    },
    {
     "data": {
      "image/png": "[encoded data removed]",
      "text/plain": [
       "<matplotlib.figure.Figure at 0x116a7cb50>"
      ]
     },
     "metadata": {},
     "output_type": "display_data"
    }
   ],
   "source": [
    "s = 1.22\n",
    "a = 0.00\n",
    "b = 1.\n",
    "yorig = np.linspace(a,b,100)\n",
    "\n",
    "yp0 = [a + (b-a)*((Y - a)/(b-a))**(1./s) for Y in yorig ]\n",
    "yp1 = [1. - (a + (b-a)*((1 - Y)/(b-a))**s) for Y in yorig ]\n",
    "\n",
    "\n",
    "pyplot.plot(yorig, y2, linestyle='--')\n",
    "pyplot.plot(yorig, y3, linestyle='--')\n",
    "\n",
    "\n",
    "pyplot.plot(yorig, yp0, c= 'k')\n",
    "pyplot.plot(yorig, yp1)\n",
    "#pyplot.grid()\n",
    "pyplot.axis('equal')\n"
   ]
  },
  {
   "cell_type": "code",
   "execution_count": 40,
   "metadata": {
    "collapsed": false
   },
   "outputs": [
    {
     "data": {
      "text/plain": [
       "1.0"
      ]
     },
     "execution_count": 40,
     "metadata": {},
     "output_type": "execute_result"
    }
   ],
   "source": [
    "max(yp1)"
   ]
  },
  {
   "cell_type": "code",
   "execution_count": 6,
   "metadata": {
    "collapsed": false
   },
   "outputs": [],
   "source": [
    "s = 1.26\n",
    "a = 0.00\n",
    "b = 1.\n",
    "\n",
    "# create mesh objects\n",
    "elementMesh = uw.mesh.FeMesh_Cartesian( elementType='Q1/dQ0', \n",
    "                                         elementRes=(meshX, meshY), \n",
    "                                           minCoord=(a,a), \n",
    "                                           maxCoord=(b,b))\n",
    "linearMesh   = elementMesh\n",
    "constantMesh = elementMesh.subMesh"
   ]
  },
  {
   "cell_type": "code",
   "execution_count": 7,
   "metadata": {
    "collapsed": true
   },
   "outputs": [],
   "source": [
    "# create fevariables\n",
    "velocityField    = uw.mesh.MeshVariable( mesh=linearMesh,   nodeDofCount=dim )\n",
    "pressureField    = uw.mesh.MeshVariable( mesh=constantMesh, nodeDofCount=1 )\n",
    "temperatureField = uw.mesh.MeshVariable( mesh=linearMesh,   nodeDofCount=1 )\n",
    "temperatureDotField = uw.mesh.MeshVariable( mesh=linearMesh,         nodeDofCount=1 )"
   ]
  },
  {
   "cell_type": "code",
   "execution_count": 8,
   "metadata": {
    "collapsed": true
   },
   "outputs": [],
   "source": [
    "for index, coord in enumerate(linearMesh.data):\n",
    "    if coord[1] < 0.7:\n",
    "        temperatureField.data[index] = 0.5  \n",
    "    else:\n",
    "        temperatureField.data[index] = 1. - coord[1]\n",
    "    "
   ]
  },
  {
   "cell_type": "code",
   "execution_count": 9,
   "metadata": {
    "collapsed": true
   },
   "outputs": [],
   "source": [
    "#THis one for the square mesh\n",
    "\n",
    "\n",
    "newys = []\n",
    "newxs = []\n",
    "for index, coord in enumerate(linearMesh.data):\n",
    "    y0 = coord[1]\n",
    "    x0 = abs(coord[0])\n",
    "    newy =(1. - (a + (b-a)*((1 - y0)/(b-a))**s))\n",
    "    newx =(1. - (a + (b-a)*((1 - x0)/(b-a))**s)) \n",
    "    newys.append(newy)\n",
    "    newxs.append(newx)"
   ]
  },
  {
   "cell_type": "code",
   "execution_count": 10,
   "metadata": {
    "collapsed": true
   },
   "outputs": [],
   "source": [
    "with linearMesh.deform_mesh():\n",
    "    linearMesh.data[:,1] = newys\n",
    "    linearMesh.data[:,0] = newxs"
   ]
  },
  {
   "cell_type": "code",
   "execution_count": 12,
   "metadata": {
    "collapsed": false
   },
   "outputs": [
    {
     "data": {
      "text/html": [
       "<img src='data:image/png;base64,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'>"
      ],
      "text/plain": [
       "<IPython.core.display.HTML object>"
      ]
     },
     "execution_count": 12,
     "metadata": {},
     "output_type": "execute_result"
    }
   ],
   "source": [
    "# gLucifer visualisation of mesh\n",
    "fig = glucifer.Figure( figsize=(800,400) )\n",
    "fig.append(glucifer.objects.Mesh( elementMesh ))\n",
    "fig.append(glucifer.objects.Surface( elementMesh, temperatureField))\n",
    "fig.show()\n",
    "#fig.save_database('test.gldb')"
   ]
  },
  {
   "cell_type": "code",
   "execution_count": 47,
   "metadata": {
    "collapsed": false
   },
   "outputs": [
    {
     "data": {
      "text/plain": [
       "1.26"
      ]
     },
     "execution_count": 47,
     "metadata": {},
     "output_type": "execute_result"
    }
   ],
   "source": [
    "s"
   ]
  },
  {
   "cell_type": "code",
   "execution_count": 48,
   "metadata": {
    "collapsed": false
   },
   "outputs": [
    {
     "name": "stdout",
     "output_type": "stream",
     "text": [
      "2.4966610978\n"
     ]
    }
   ],
   "source": [
    "s = 1.22 \n",
    "res = 64.\n",
    "dy = 1/res\n",
    "dyp =(1. - (a + (b-a)*((1 - (1 - dy)/(b-a))**s)))\n",
    "#print(dyp)\n",
    "print((dy)/(1-dyp))"
   ]
  },
  {
   "cell_type": "code",
   "execution_count": 49,
   "metadata": {
    "collapsed": false
   },
   "outputs": [
    {
     "name": "stdout",
     "output_type": "stream",
     "text": [
      "s is: 1.0 del y is: 1.0\n",
      "s is: 1.02 del y is: 1.08673486253\n",
      "s is: 1.04 del y is: 1.18099266143\n",
      "s is: 1.06 del y is: 1.28342589756\n",
      "s is: 1.08 del y is: 1.39474366635\n",
      "s is: 1.1 del y is: 1.51571656651\n",
      "s is: 1.12 del y is: 1.64718203454\n",
      "s is: 1.14 del y is: 1.79005014186\n",
      "s is: 1.16 del y is: 1.94530989482\n",
      "s is: 1.18 del y is: 2.11403608112\n",
      "s is: 1.2 del y is: 2.29739670999\n",
      "s is: 1.22 del y is: 2.4966610978\n",
      "s is: 1.24 del y is: 2.7132086549\n",
      "s is: 1.26 del y is: 2.94853843458\n",
      "s is: 1.28 del y is: 3.20427951036\n",
      "s is: 1.3 del y is: 3.48220225318\n"
     ]
    }
   ],
   "source": [
    "for i in np.arange(1,1.3,0.02):\n",
    "    dyp =(1. - (a + (b-a)*((1 - (1 - dy)/(b-a))**i)))\n",
    "    #print(dyp)\n",
    "    print(\"s is: \" + str(i) + \" del y is: \" + str((dy)/(1-dyp)))"
   ]
  },
  {
   "cell_type": "markdown",
   "metadata": {},
   "source": [
    "## circular refinement"
   ]
  },
  {
   "cell_type": "code",
   "execution_count": 20,
   "metadata": {
    "collapsed": true
   },
   "outputs": [],
   "source": [
    "# create mesh objects\n",
    "meshX = 64\n",
    "meshY = 64\n",
    "\n",
    "mesh = uw.mesh.FeMesh_Cartesian( elementType = (\"Q1/dQ0\"), \n",
    "                                 elementRes  = (meshX, meshY), \n",
    "                                 minCoord    = (0., 0.), \n",
    "                                 maxCoord    = (1., 1.))\n",
    "linearMesh   = mesh\n",
    "constantMesh = mesh.subMesh"
   ]
  },
  {
   "cell_type": "code",
   "execution_count": 21,
   "metadata": {
    "collapsed": false
   },
   "outputs": [
    {
     "data": {
      "text/html": [
       "<img src='data:image/png;base64,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'>"
      ],
      "text/plain": [
       "<IPython.core.display.HTML object>"
      ]
     },
     "execution_count": 21,
     "metadata": {},
     "output_type": "execute_result"
    }
   ],
   "source": [
    "# gLucifer visualisation of mesh\n",
    "fig = glucifer.Figure( figsize=(800,400) )\n",
    "fig.append(glucifer.objects.Mesh(mesh))\n",
    "fig.show()"
   ]
  },
  {
   "cell_type": "code",
   "execution_count": 22,
   "metadata": {
    "collapsed": false
   },
   "outputs": [],
   "source": [
    "def gauss(r,a):\n",
    "    return np.exp(-r**2/a**2) \n",
    "\n",
    "def circ_attractor(mesh, beta, origin = [0.,1.],target = 0.5, vcutoff=None, hcutoff= None):\n",
    "    #Get mesh info\n",
    "    dx = (mesh.maxCoord[0] - mesh.minCoord[0])/mesh.elementRes[0]\n",
    "    #Initialise vector for the attractor\n",
    "    r0 = np.array(origin)\n",
    "    newmeshdata = np.copy(mesh.data)\n",
    "    for index, coord in enumerate(linearMesh.data):\n",
    "        n0 = np.array(coord) #get node position vector\n",
    "        d0 = r0 - n0 #get vector between points\n",
    "        dl = np.linalg.norm(d0)\n",
    "        if not dl == 0:\n",
    "            du = d0/dl\n",
    "        #Get weight\n",
    "        #w0 = gauss(dl, beta)*(dx*target/2) #\n",
    "        w0 = abs((1. - (a + (b-a)*((1 - dl)/(b-a))**s)) - dl)\n",
    "        #Calc new mesh positions:\n",
    "        if dl > dx:\n",
    "            newmeshdata[index] = newmeshdata[index] + (du*w0)\n",
    "    return newmeshdata\n",
    "        \n",
    "            \n",
    "        \n",
    "    print(r0, n0, d0, du, w0)"
   ]
  },
  {
   "cell_type": "code",
   "execution_count": 23,
   "metadata": {
    "collapsed": false
   },
   "outputs": [
    {
     "name": "stderr",
     "output_type": "stream",
     "text": [
      "/Users/dansandiford/anaconda/lib/python2.7/site-packages/ipykernel/__main__.py:18: RuntimeWarning: invalid value encountered in double_scalars\n"
     ]
    }
   ],
   "source": [
    "newcoords = circ_attractor(mesh, 1000., origin = [0.5,0.5], target = 2)"
   ]
  },
  {
   "cell_type": "code",
   "execution_count": 24,
   "metadata": {
    "collapsed": false
   },
   "outputs": [
    {
     "data": {
      "text/plain": [
       "array([[        nan,         nan],\n",
       "       [        nan,         nan],\n",
       "       [        nan,         nan],\n",
       "       ..., \n",
       "       [ 0.88927918,  0.98304623],\n",
       "       [ 0.9039064 ,  0.98338713],\n",
       "       [ 0.91866468,  0.98373294]])"
      ]
     },
     "execution_count": 24,
     "metadata": {},
     "output_type": "execute_result"
    }
   ],
   "source": [
    "newcoords"
   ]
  },
  {
   "cell_type": "code",
   "execution_count": 25,
   "metadata": {
    "collapsed": false
   },
   "outputs": [
    {
     "ename": "RuntimeError",
     "evalue": "Error encountered. Full restart recommended as exception safety not guaranteed. Error message:\nAn error occurred when checking mesh metrics. Possibly two nodes are in an identical location.",
     "output_type": "error",
     "traceback": [
      "\u001b[0;31m---------------------------------------------------------------------------\u001b[0m",
      "\u001b[0;31mRuntimeError\u001b[0m                              Traceback (most recent call last)",
      "\u001b[0;32m<ipython-input-25-77f26be6850c>\u001b[0m in \u001b[0;36m<module>\u001b[0;34m()\u001b[0m\n\u001b[1;32m      1\u001b[0m \u001b[0;32mwith\u001b[0m \u001b[0mmesh\u001b[0m\u001b[0;34m.\u001b[0m\u001b[0mdeform_mesh\u001b[0m\u001b[0;34m(\u001b[0m\u001b[0;34m)\u001b[0m\u001b[0;34m:\u001b[0m\u001b[0;34m\u001b[0m\u001b[0m\n\u001b[0;32m----> 2\u001b[0;31m     \u001b[0mmesh\u001b[0m\u001b[0;34m.\u001b[0m\u001b[0mdata\u001b[0m\u001b[0;34m[\u001b[0m\u001b[0;34m:\u001b[0m\u001b[0;34m]\u001b[0m \u001b[0;34m=\u001b[0m \u001b[0mnewcoords\u001b[0m\u001b[0;34m\u001b[0m\u001b[0m\n\u001b[0m",
      "\u001b[0;32m/Users/dansandiford/anaconda/lib/python2.7/contextlib.pyc\u001b[0m in \u001b[0;36m__exit__\u001b[0;34m(self, type, value, traceback)\u001b[0m\n\u001b[1;32m     22\u001b[0m         \u001b[0;32mif\u001b[0m \u001b[0mtype\u001b[0m \u001b[0;32mis\u001b[0m \u001b[0mNone\u001b[0m\u001b[0;34m:\u001b[0m\u001b[0;34m\u001b[0m\u001b[0m\n\u001b[1;32m     23\u001b[0m             \u001b[0;32mtry\u001b[0m\u001b[0;34m:\u001b[0m\u001b[0;34m\u001b[0m\u001b[0m\n\u001b[0;32m---> 24\u001b[0;31m                 \u001b[0mself\u001b[0m\u001b[0;34m.\u001b[0m\u001b[0mgen\u001b[0m\u001b[0;34m.\u001b[0m\u001b[0mnext\u001b[0m\u001b[0;34m(\u001b[0m\u001b[0;34m)\u001b[0m\u001b[0;34m\u001b[0m\u001b[0m\n\u001b[0m\u001b[1;32m     25\u001b[0m             \u001b[0;32mexcept\u001b[0m \u001b[0mStopIteration\u001b[0m\u001b[0;34m:\u001b[0m\u001b[0;34m\u001b[0m\u001b[0m\n\u001b[1;32m     26\u001b[0m                 \u001b[0;32mreturn\u001b[0m\u001b[0;34m\u001b[0m\u001b[0m\n",
      "\u001b[0;32m/Users/dansandiford/Documents/programming/newinterface/underworld2/underworld/mesh/_mesh.pyc\u001b[0m in \u001b[0;36mdeform_mesh\u001b[0;34m(self)\u001b[0m\n\u001b[1;32m    235\u001b[0m             \u001b[0mself\u001b[0m\u001b[0;34m.\u001b[0m\u001b[0m_dataWriteable\u001b[0m \u001b[0;34m=\u001b[0m \u001b[0mFalse\u001b[0m\u001b[0;34m\u001b[0m\u001b[0m\n\u001b[1;32m    236\u001b[0m             \u001b[0;31m# call deformupdate, which updates various mesh metrics\u001b[0m\u001b[0;34m\u001b[0m\u001b[0;34m\u001b[0m\u001b[0m\n\u001b[0;32m--> 237\u001b[0;31m             \u001b[0muw\u001b[0m\u001b[0;34m.\u001b[0m\u001b[0mlibUnderworld\u001b[0m\u001b[0;34m.\u001b[0m\u001b[0mStgDomain\u001b[0m\u001b[0;34m.\u001b[0m\u001b[0mMesh_DeformationUpdate\u001b[0m\u001b[0;34m(\u001b[0m \u001b[0mself\u001b[0m\u001b[0;34m.\u001b[0m\u001b[0m_cself\u001b[0m \u001b[0;34m)\u001b[0m\u001b[0;34m\u001b[0m\u001b[0m\n\u001b[0m\u001b[1;32m    238\u001b[0m             \u001b[0;32mif\u001b[0m \u001b[0mhasattr\u001b[0m\u001b[0;34m(\u001b[0m\u001b[0mself\u001b[0m\u001b[0;34m,\u001b[0m\u001b[0;34m\"subMesh\"\u001b[0m\u001b[0;34m)\u001b[0m \u001b[0;32mand\u001b[0m \u001b[0mself\u001b[0m\u001b[0;34m.\u001b[0m\u001b[0msubMesh\u001b[0m\u001b[0;34m:\u001b[0m\u001b[0;34m\u001b[0m\u001b[0m\n\u001b[1;32m    239\u001b[0m                 \u001b[0;31m# remesh the submesh based on the new primary\u001b[0m\u001b[0;34m\u001b[0m\u001b[0;34m\u001b[0m\u001b[0m\n",
      "\u001b[0;31mRuntimeError\u001b[0m: Error encountered. Full restart recommended as exception safety not guaranteed. Error message:\nAn error occurred when checking mesh metrics. Possibly two nodes are in an identical location."
     ]
    }
   ],
   "source": [
    "with mesh.deform_mesh():\n",
    "    mesh.data[:] = newcoords    "
   ]
  },
  {
   "cell_type": "code",
   "execution_count": 26,
   "metadata": {
    "collapsed": false
   },
   "outputs": [
    {
     "data": {
      "text/html": [
       "<img src='data:image/png;base64,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'>"
      ],
      "text/plain": [
       "<IPython.core.display.HTML object>"
      ]
     },
     "execution_count": 26,
     "metadata": {},
     "output_type": "execute_result"
    }
   ],
   "source": [
    "# gLucifer visualisation of mesh\n",
    "fig = glucifer.Figure( figsize=(800,400) )\n",
    "fig.append(glucifer.objects.Mesh(mesh))\n",
    "\n",
    "fig.save_database('test.gldb')\n",
    "fig.show()"
   ]
  },
  {
   "cell_type": "code",
   "execution_count": null,
   "metadata": {
    "collapsed": true
   },
   "outputs": [],
   "source": []
  },
  {
   "cell_type": "code",
   "execution_count": null,
   "metadata": {
    "collapsed": true
   },
   "outputs": [],
   "source": []
  }
 ],
 "metadata": {
  "kernelspec": {
   "display_name": "Python 2",
   "language": "python",
   "name": "python2"
  },
  "language_info": {
   "codemirror_mode": {
    "name": "ipython",
    "version": 2
   },
   "file_extension": ".py",
   "mimetype": "text/x-python",
   "name": "python",
   "nbconvert_exporter": "python",
   "pygments_lexer": "ipython2",
   "version": "2.7.11"
  }
 },
 "nbformat": 4,
 "nbformat_minor": 0
}
