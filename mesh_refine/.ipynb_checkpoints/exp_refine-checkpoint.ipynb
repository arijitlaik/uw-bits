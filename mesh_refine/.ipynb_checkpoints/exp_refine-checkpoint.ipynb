{
 "cells": [
  {
   "cell_type": "code",
   "execution_count": 128,
   "metadata": {
    "collapsed": false
   },
   "outputs": [
    {
     "name": "stdout",
     "output_type": "stream",
     "text": [
      "Populating the interactive namespace from numpy and matplotlib\n"
     ]
    },
    {
     "name": "stderr",
     "output_type": "stream",
     "text": [
      "WARNING: pylab import has clobbered these variables: ['plt', 'Polygon']\n",
      "`%matplotlib` prevents importing * from pylab and numpy\n"
     ]
    }
   ],
   "source": [
    "import numpy as np\n",
    "import math\n",
    "import matplotlib.pylab as pyplt\n",
    "%pylab inline"
   ]
  },
  {
   "cell_type": "markdown",
   "metadata": {},
   "source": [
    "$y = \\frac{ln((\\alpha x + e) -1)}{ln((\\alpha + e) - 1)}$\n"
   ]
  },
  {
   "cell_type": "code",
   "execution_count": 129,
   "metadata": {
    "collapsed": false
   },
   "outputs": [
    {
     "data": {
      "image/png": "[encoded data removed]",
      "text/plain": [
       "<matplotlib.figure.Figure at 0x10c8400d0>"
      ]
     },
     "metadata": {},
     "output_type": "display_data"
    }
   ],
   "source": [
    "#This notebook implements a logarithmic mesh refinement of the unit; we use the above function as well as its inverse\n",
    "alpha = 10.\n",
    "yorig = np.linspace(0.00,1,100)\n",
    "\n",
    "y2 = [(math.log(alpha*Y + math.e) - 1.)*(1./(math.log(alpha + math.e) - 1)) for Y in yorig ]\n",
    "y3 = [(math.e**(Y*(math.log(alpha + math.e) - 1) + 1 ) - math.e)/alpha for Y in yorig ]\n",
    "pyplot.plot(yorig, y3)\n",
    "pyplot.plot(yorig, y2)\n",
    "pyplot.grid()"
   ]
  },
  {
   "cell_type": "code",
   "execution_count": 151,
   "metadata": {
    "collapsed": false
   },
   "outputs": [
    {
     "name": "stdout",
     "output_type": "stream",
     "text": [
      "(0.00390625, 0.001938026862393638, 2.015580937394969)\n"
     ]
    }
   ],
   "source": [
    "alpha = 11.\n",
    "res = 256\n",
    "dyo = 1./res\n",
    "\n",
    "dyn = 1. - (math.log(alpha*(1- dyo ) + math.e) - 1.)*(1./(math.log(alpha + math.e) - 1))\n",
    "\n",
    "print(dyo, dyn, (dyo/dyn))"
   ]
  },
  {
   "cell_type": "code",
   "execution_count": 152,
   "metadata": {
    "collapsed": false
   },
   "outputs": [
    {
     "name": "stdout",
     "output_type": "stream",
     "text": [
      "(0.0, 0.9999999999999999)\n"
     ]
    }
   ],
   "source": [
    "### print((math.log(alpha*0. + math.e) - 1)*(1/(math.log(alpha + math.e) - 1)), (math.log(alpha*1. + math.e) - 1)*(1/(math.log(alpha + math.e) - 1)))\n",
    "print((math.e**(0*(math.log(alpha + math.e) - 1) + 1 ) - math.e)/alpha, (math.e**(1.*(math.log(alpha + math.e) - 1) + 1 ) - math.e)/alpha)\n",
    "\n",
    "#(math.e**(0.*math.log(alpha + math.e)) - math.e)/alpha"
   ]
  },
  {
   "cell_type": "code",
   "execution_count": 153,
   "metadata": {
    "collapsed": true
   },
   "outputs": [],
   "source": [
    "# RT PIC - classic and nearest neighbour\n",
    "import underworld as uw\n",
    "import math\n",
    "from underworld import function as fn\n",
    "import glucifer.pylab as plt\n",
    "import numpy as np\n",
    "import os\n",
    "from shapely.geometry import Polygon\n",
    "from shapely.geometry import Point"
   ]
  },
  {
   "cell_type": "code",
   "execution_count": 165,
   "metadata": {
    "collapsed": true
   },
   "outputs": [],
   "source": [
    "dim = 2\n",
    "\n",
    "meshX = 64\n",
    "meshY = 64"
   ]
  },
  {
   "cell_type": "code",
   "execution_count": 166,
   "metadata": {
    "collapsed": true
   },
   "outputs": [],
   "source": [
    "# create mesh objects\n",
    "elementMesh = uw.mesh.FeMesh_Cartesian( elementType='Q1/dQ0', \n",
    "                                         elementRes=(meshX, meshY), \n",
    "                                           minCoord=(0.,0.), \n",
    "                                           maxCoord=(1.,1.0))\n",
    "linearMesh   = elementMesh\n",
    "constantMesh = elementMesh.subMesh"
   ]
  },
  {
   "cell_type": "code",
   "execution_count": 167,
   "metadata": {
    "collapsed": true
   },
   "outputs": [],
   "source": [
    "# create fevariables\n",
    "velocityField    = uw.fevariable.FeVariable( feMesh=linearMesh,   nodeDofCount=dim )\n",
    "pressureField    = uw.fevariable.FeVariable( feMesh=constantMesh, nodeDofCount=1 )\n",
    "temperatureField = uw.fevariable.FeVariable( feMesh=linearMesh,   nodeDofCount=1 )"
   ]
  },
  {
   "cell_type": "code",
   "execution_count": 168,
   "metadata": {
    "collapsed": false
   },
   "outputs": [],
   "source": [
    "for index, coord in enumerate(linearMesh.data):\n",
    "    if coord[1] < 0.7:\n",
    "        temperatureField.data[index] = 0.5  \n",
    "    else:\n",
    "        temperatureField.data[index] = 1. - coord[1]\n",
    "    "
   ]
  },
  {
   "cell_type": "code",
   "execution_count": 169,
   "metadata": {
    "collapsed": false
   },
   "outputs": [],
   "source": [
    "#(math.log(0 + 0.001)/alpha + 1) + abs((math.log(0.0 + 0.001)/alpha + 1))"
   ]
  },
  {
   "cell_type": "code",
   "execution_count": 170,
   "metadata": {
    "collapsed": false
   },
   "outputs": [],
   "source": [
    "#THis one for the horizontal mesh\n",
    "alpha = 43.\n",
    "newys = []\n",
    "newxs = []\n",
    "for index, coord in enumerate(linearMesh.data):\n",
    "    y0 = coord[1]\n",
    "    x0 = abs(coord[0])\n",
    "    newy = (math.log(alpha*y0 + math.e) - 1)*(1/(math.log(alpha + math.e) - 1))\n",
    "    if coord[0] > 0:\n",
    "        newx = (math.e**(x0*(math.log((alpha/2.) + math.e) - 1) + 1 ) - math.e)/(alpha/2.)     \n",
    "    else:\n",
    "        newx = -1.*(math.e**(x0*(math.log((alpha/2.) + math.e) - 1) + 1 ) - math.e)/(alpha/2.)\n",
    "    newys.append(newy)\n",
    "    newxs.append(newx)\n",
    "    #print y0,newy"
   ]
  },
  {
   "cell_type": "code",
   "execution_count": 171,
   "metadata": {
    "collapsed": true
   },
   "outputs": [],
   "source": [
    "#THis one for the square mesh\n",
    "\n",
    "alpha = 43.\n",
    "newys = []\n",
    "newxs = []\n",
    "for index, coord in enumerate(linearMesh.data):\n",
    "    y0 = coord[1]\n",
    "    x0 = abs(coord[0])\n",
    "    newy = (math.log(alpha*y0 + math.e) - 1)*(1/(math.log(alpha + math.e) - 1))\n",
    "    newx = (math.log(alpha*x0 + math.e) - 1)*(1/(math.log(alpha + math.e) - 1))\n",
    "    newys.append(newy)\n",
    "    newxs.append(newx)"
   ]
  },
  {
   "cell_type": "code",
   "execution_count": 172,
   "metadata": {
    "collapsed": false
   },
   "outputs": [
    {
     "data": {
      "text/plain": [
       "array([ 0.,  0.,  0., ...,  1.,  1.,  1.])"
      ]
     },
     "execution_count": 172,
     "metadata": {},
     "output_type": "execute_result"
    }
   ],
   "source": [
    "linearMesh.data[:,1]"
   ]
  },
  {
   "cell_type": "code",
   "execution_count": 173,
   "metadata": {
    "collapsed": false
   },
   "outputs": [],
   "source": [
    "with linearMesh.deform_mesh():\n",
    "    linearMesh.data[:,1] = newys\n",
    "    linearMesh.data[:,0] = newxs\n"
   ]
  },
  {
   "cell_type": "code",
   "execution_count": 174,
   "metadata": {
    "collapsed": false
   },
   "outputs": [],
   "source": [
    "\n",
    "    \n",
    "#figtemp = plt.Figure()\n",
    "#figtemp.Surface(temperatureField, elementMesh)\n",
    "#figtemp.Surface(indexField, elementMesh)\n",
    "#figtemp.Mesh(linearMesh, colourBar=False)\n",
    "#figtemp.show()"
   ]
  },
  {
   "cell_type": "code",
   "execution_count": 175,
   "metadata": {
    "collapsed": false,
    "scrolled": true
   },
   "outputs": [],
   "source": [
    "figtemp = plt.Figure()\n",
    "figtemp.Surface(temperatureField, elementMesh)\n",
    "#figtemp.Surface(indexField, elementMesh)\n",
    "figtemp.Mesh(linearMesh, colourBar=False)\n",
    "figtemp.save_database('test_mesh_refine.gldb')"
   ]
  },
  {
   "cell_type": "code",
   "execution_count": 176,
   "metadata": {
    "collapsed": false
   },
   "outputs": [],
   "source": [
    "#indexField = uw.fevariable.FeVariable( feMesh=linearMesh, nodeDofCount=1)\n",
    "\n",
    "#for index, coord in enumerate(linearMesh.data):\n",
    "#     indexField.data[index] = ((index % (meshX+1)) % 2 ==0)\n",
    "#    indexField.data[index] = ((index/(meshX+1) % (meshY+1)) % 2 ==0)\n",
    "\n",
    "\n",
    "#figindex = plt.Figure()\n",
    "#figindex.Surface(indexField, elementMesh)\n",
    "#figindex.Mesh(linearMesh, colourBar=False)\n",
    "#figindex.show()"
   ]
  },
  {
   "cell_type": "code",
   "execution_count": 145,
   "metadata": {
    "collapsed": false
   },
   "outputs": [],
   "source": [
    "#indexField.evaluate((0.5,0.26))"
   ]
  },
  {
   "cell_type": "code",
   "execution_count": 146,
   "metadata": {
    "collapsed": false
   },
   "outputs": [],
   "source": [
    "#linearMesh._cself.isRegular#"
   ]
  },
  {
   "cell_type": "code",
   "execution_count": 20,
   "metadata": {
    "collapsed": false
   },
   "outputs": [],
   "source": [
    "Ra=1.e6\n",
    "rho = 4.0e3\n",
    "grav = 10\n",
    "height = 1.e6\n",
    "kappa = 1.0e-6\n",
    "\n",
    "# Set a constant viscosity.\n",
    "viscosity = 1.\n",
    "\n",
    "# Create our density function.\n",
    "densityFn = Ra * temperatureField\n",
    "\n",
    "# Define our vertical unit vector using a python tuple (this will be automatically converted to a function).\n",
    "z_hat = ( 0.0, 1.0 )\n",
    "\n",
    "# A buoyancy function.\n",
    "buoyancyFn = densityFn * z_hat\n",
    "\n",
    "# The temperature gradient is useful in the analysis below. We access it via the 'gradientFn' attribute provided\n",
    "# via the FeVariable.\n",
    "gradField = temperatureField.gradientFn"
   ]
  },
  {
   "cell_type": "code",
   "execution_count": 21,
   "metadata": {
    "collapsed": true
   },
   "outputs": [],
   "source": [
    "iWalls = elementMesh.specialSets[\"MinI_VertexSet\"] + elementMesh.specialSets[\"MaxI_VertexSet\"]\n",
    "jWalls = elementMesh.specialSets[\"MinJ_VertexSet\"] + elementMesh.specialSets[\"MaxJ_VertexSet\"]\n",
    "\n",
    "freeslipBC = uw.conditions.DirichletCondition(     variable = velocityField, \n",
    "                                              nodeIndexSets = (iWalls,jWalls) )\n",
    "tempBC     = uw.conditions.DirichletCondition(     variable = temperatureField, \n",
    "                                              nodeIndexSets = (jWalls,) )"
   ]
  },
  {
   "cell_type": "code",
   "execution_count": 22,
   "metadata": {
    "collapsed": true
   },
   "outputs": [],
   "source": [
    "stokesPIC = uw.systems.Stokes( velocityField = velocityField, \n",
    "                               pressureField = pressureField,\n",
    "                               conditions    = [freeslipBC,],\n",
    "                               viscosityFn   = viscosity, \n",
    "                               bodyForceFn   = buoyancyFn )"
   ]
  },
  {
   "cell_type": "code",
   "execution_count": 23,
   "metadata": {
    "collapsed": true
   },
   "outputs": [],
   "source": [
    "advDiff = uw.systems.AdvectionDiffusion( temperatureField, velocityField, diffusivity=1., conditions=[tempBC,], )"
   ]
  },
  {
   "cell_type": "code",
   "execution_count": 24,
   "metadata": {
    "collapsed": true
   },
   "outputs": [],
   "source": [
    "stokesPIC.solve()"
   ]
  },
  {
   "cell_type": "code",
   "execution_count": 36,
   "metadata": {
    "collapsed": false
   },
   "outputs": [
    {
     "data": {
      "image/png": "[encoded data removed]",
      "text/plain": [
       "<IPython.core.display.Image object>"
      ]
     },
     "execution_count": 36,
     "metadata": {},
     "output_type": "execute_result"
    }
   ],
   "source": [
    "fig2 = plt.Figure()\n",
    "velmagfield = uw.function.math.sqrt( uw.function.math.dot( velocityField, velocityField ) )\n",
    "#fig2.VectorArrows( velocityField, elementMesh, arrowHeadSize=0.2, lengthScale=10.1 )\n",
    "fig2.Surface( temperatureField, elementMesh )\n",
    "fig2.Mesh(linearMesh)\n",
    "fig2.show()"
   ]
  },
  {
   "cell_type": "code",
   "execution_count": null,
   "metadata": {
    "collapsed": true
   },
   "outputs": [],
   "source": []
  },
  {
   "cell_type": "code",
   "execution_count": null,
   "metadata": {
    "collapsed": true
   },
   "outputs": [],
   "source": []
  },
  {
   "cell_type": "code",
   "execution_count": null,
   "metadata": {
    "collapsed": true
   },
   "outputs": [],
   "source": []
  }
 ],
 "metadata": {
  "kernelspec": {
   "display_name": "Python 2",
   "language": "python",
   "name": "python2"
  },
  "language_info": {
   "codemirror_mode": {
    "name": "ipython",
    "version": 2
   },
   "file_extension": ".py",
   "mimetype": "text/x-python",
   "name": "python",
   "nbconvert_exporter": "python",
   "pygments_lexer": "ipython2",
   "version": "2.7.10"
  }
 },
 "nbformat": 4,
 "nbformat_minor": 0
}
