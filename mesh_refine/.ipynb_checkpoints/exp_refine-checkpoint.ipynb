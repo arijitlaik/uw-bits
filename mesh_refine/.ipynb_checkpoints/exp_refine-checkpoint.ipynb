{
 "cells": [
  {
   "cell_type": "code",
   "execution_count": 1,
   "metadata": {
    "collapsed": false
   },
   "outputs": [
    {
     "name": "stdout",
     "output_type": "stream",
     "text": [
      "Populating the interactive namespace from numpy and matplotlib\n"
     ]
    },
    {
     "name": "stderr",
     "output_type": "stream",
     "text": [
      "Vendor:  Continuum Analytics, Inc.\n",
      "Package: mkl\n",
      "Message: trial mode expires in 29 days\n"
     ]
    }
   ],
   "source": [
    "import underworld as uw\n",
    "import math\n",
    "from underworld import function as fn\n",
    "import glucifer\n",
    "import numpy as np\n",
    "import os\n",
    "import math\n",
    "%pylab inline"
   ]
  },
  {
   "cell_type": "markdown",
   "metadata": {},
   "source": [
    "This notebook implements various mesh refinement functions for use with Underworld2."
   ]
  },
  {
   "cell_type": "markdown",
   "metadata": {},
   "source": [
    "## Example 1: \n",
    "\n",
    "$y' = \\frac{ln((\\alpha y + e) -1)}{ln((\\alpha + e) - 1)}$\n"
   ]
  },
  {
   "cell_type": "markdown",
   "metadata": {},
   "source": []
  },
  {
   "cell_type": "code",
   "execution_count": 2,
   "metadata": {
    "collapsed": false
   },
   "outputs": [
    {
     "data": {
      "image/png": "[encoded data removed]",
      "text/plain": [
       "<matplotlib.figure.Figure at 0x111471690>"
      ]
     },
     "metadata": {},
     "output_type": "display_data"
    }
   ],
   "source": [
    "alpha = 11\n",
    "yorig = np.linspace(0.00,1,100)\n",
    "\n",
    "y2 = [(math.log(alpha*Y + math.e) - 1.)*(1./(math.log(alpha + math.e) - 1)) for Y in yorig ]\n",
    "y3 = [(math.e**(Y*(math.log(alpha + math.e) - 1) + 1 ) - math.e)/alpha for Y in yorig ]\n",
    "pyplot.plot(yorig, y3)\n",
    "pyplot.plot(yorig, y2)\n",
    "pyplot.axis('equal')\n",
    "pyplot.grid()"
   ]
  },
  {
   "cell_type": "code",
   "execution_count": 3,
   "metadata": {
    "collapsed": false
   },
   "outputs": [
    {
     "name": "stdout",
     "output_type": "stream",
     "text": [
      "(0.00390625, 0.001938026862393638, 2.015580937394969)\n"
     ]
    }
   ],
   "source": [
    "alpha = 11.\n",
    "res = 256\n",
    "dyo = 1./res\n",
    "\n",
    "dyn = 1. - (math.log(alpha*(1- dyo ) + math.e) - 1.)*(1./(math.log(alpha + math.e) - 1))\n",
    "\n",
    "print(dyo, dyn, (dyo/dyn))"
   ]
  },
  {
   "cell_type": "code",
   "execution_count": 4,
   "metadata": {
    "collapsed": false
   },
   "outputs": [
    {
     "name": "stdout",
     "output_type": "stream",
     "text": [
      "(0.0, 0.9999999999999999)\n"
     ]
    }
   ],
   "source": [
    "### print((math.log(alpha*0. + math.e) - 1)*(1/(math.log(alpha + math.e) - 1)), (math.log(alpha*1. + math.e) - 1)*(1/(math.log(alpha + math.e) - 1)))\n",
    "print((math.e**(0*(math.log(alpha + math.e) - 1) + 1 ) - math.e)/alpha, (math.e**(1.*(math.log(alpha + math.e) - 1) + 1 ) - math.e)/alpha)\n",
    "\n",
    "#(math.e**(0.*math.log(alpha + math.e)) - math.e)/alpha"
   ]
  },
  {
   "cell_type": "code",
   "execution_count": 163,
   "metadata": {
    "collapsed": true
   },
   "outputs": [],
   "source": [
    "dim = 2\n",
    "\n",
    "meshX = 128\n",
    "meshY = 128"
   ]
  },
  {
   "cell_type": "code",
   "execution_count": 164,
   "metadata": {
    "collapsed": true
   },
   "outputs": [],
   "source": [
    "# create mesh objects\n",
    "mesh = uw.mesh.FeMesh_Cartesian( elementType='Q1/dQ0', \n",
    "                                         elementRes=(meshX, meshY), \n",
    "                                           minCoord=(0.,0.), \n",
    "                                           maxCoord=(1.,1.0))\n"
   ]
  },
  {
   "cell_type": "markdown",
   "metadata": {
    "collapsed": false
   },
   "source": [
    "#THis one for the rectangonal mesh\n",
    "alpha = 1.\n",
    "newys = []\n",
    "newxs = []\n",
    "for index, coord in enumerate(mesh.data):\n",
    "    y0 = coord[1]\n",
    "    x0 = abs(coord[0])\n",
    "    newy = (math.log(alpha*y0 + math.e) - 1)*(1/(math.log(alpha + math.e) - 1))\n",
    "    if coord[0] > 0:\n",
    "        newx = (math.e**(x0*(math.log((alpha/2.) + math.e) - 1) + 1 ) - math.e)/(alpha/2.)     \n",
    "    else:\n",
    "        newx = -1.*(math.e**(x0*(math.log((alpha/2.) + math.e) - 1) + 1 ) - math.e)/(alpha/2.)\n",
    "    newys.append(newy)\n",
    "    newxs.append(newx)\n",
    "    #print y0,newy"
   ]
  },
  {
   "cell_type": "code",
   "execution_count": 7,
   "metadata": {
    "collapsed": true
   },
   "outputs": [],
   "source": [
    "#THis one for the square mesh\n",
    "\n",
    "alpha = 11.\n",
    "newys = []\n",
    "newxs = []\n",
    "for index, coord in enumerate(mesh.data):\n",
    "    y0 = coord[1]\n",
    "    x0 = abs(coord[0])\n",
    "    newy = (math.log(alpha*y0 + math.e) - 1)*(1/(math.log(alpha + math.e) - 1))\n",
    "    newx = (math.log(alpha*x0 + math.e) - 1)*(1/(math.log(alpha + math.e) - 1))\n",
    "    newys.append(newy)\n",
    "    newxs.append(newx)"
   ]
  },
  {
   "cell_type": "code",
   "execution_count": 8,
   "metadata": {
    "collapsed": false
   },
   "outputs": [],
   "source": [
    "with mesh.deform_mesh():\n",
    "    mesh.data[:,1] = newys\n",
    "    mesh.data[:,0] = newxs\n"
   ]
  },
  {
   "cell_type": "code",
   "execution_count": 9,
   "metadata": {
    "collapsed": false
   },
   "outputs": [
    {
     "data": {
      "text/html": [
       "<img src='data:image/png;base64,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'>"
      ],
      "text/plain": [
       "<IPython.core.display.HTML object>"
      ]
     },
     "execution_count": 9,
     "metadata": {},
     "output_type": "execute_result"
    }
   ],
   "source": [
    "\n",
    "# gLucifer visualisation of mesh\n",
    "fig = glucifer.Figure( figsize=(800,400) )\n",
    "fig.append(glucifer.objects.Mesh(mesh ))\n",
    "fig.save_database('test.gldb')\n",
    "fig.show()\n"
   ]
  },
  {
   "cell_type": "markdown",
   "metadata": {
    "collapsed": true
   },
   "source": [
    "## Example 2: \n",
    "\n",
    "This refinement function is given in the Fenics documentation: http://fenicsproject.org/documentation/tutorial/prepro.html\n",
    "\n",
    "$y' = a + (b-a)(\\frac{y-a}{b-a})^s$\n",
    "\n",
    "Here I'm using the similar expression:\n",
    "\n",
    "$y' = 1. - \\left( a + (b-a)(\\frac{y-a}{b-a})^s \\right)$"
   ]
  },
  {
   "cell_type": "code",
   "execution_count": 10,
   "metadata": {
    "collapsed": false
   },
   "outputs": [
    {
     "data": {
      "text/plain": [
       "(0.0, 1.0, 0.0, 1.0)"
      ]
     },
     "execution_count": 10,
     "metadata": {},
     "output_type": "execute_result"
    },
    {
     "data": {
      "image/png": "[encoded data removed]",
      "text/plain": [
       "<matplotlib.figure.Figure at 0x113058c50>"
      ]
     },
     "metadata": {},
     "output_type": "display_data"
    }
   ],
   "source": [
    "s = 1.22\n",
    "a = 0.00\n",
    "b = 1.\n",
    "yorig = np.linspace(a,b,100)\n",
    "\n",
    "yp0 = [a + (b-a)*((Y - a)/(b-a))**(1./s) for Y in yorig ]\n",
    "yp1 = [1. - (a + (b-a)*((1 - Y)/(b-a))**s) for Y in yorig ]\n",
    "\n",
    "\n",
    "pyplot.plot(yorig, y2, linestyle='--')\n",
    "pyplot.plot(yorig, y3, linestyle='--')\n",
    "\n",
    "\n",
    "pyplot.plot(yorig, yp0, c= 'k')\n",
    "pyplot.plot(yorig, yp1)\n",
    "#pyplot.grid()\n",
    "pyplot.axis('equal')\n"
   ]
  },
  {
   "cell_type": "code",
   "execution_count": 11,
   "metadata": {
    "collapsed": false
   },
   "outputs": [
    {
     "data": {
      "text/plain": [
       "1.0"
      ]
     },
     "execution_count": 11,
     "metadata": {},
     "output_type": "execute_result"
    }
   ],
   "source": [
    "max(yp1)"
   ]
  },
  {
   "cell_type": "code",
   "execution_count": null,
   "metadata": {
    "collapsed": false
   },
   "outputs": [],
   "source": [
    "\n",
    "\n"
   ]
  },
  {
   "cell_type": "code",
   "execution_count": 12,
   "metadata": {
    "collapsed": true
   },
   "outputs": [],
   "source": [
    "mesh.reset()"
   ]
  },
  {
   "cell_type": "code",
   "execution_count": 13,
   "metadata": {
    "collapsed": true
   },
   "outputs": [],
   "source": [
    "#THis one for the square mesh\n",
    "s = 1.26\n",
    "a = 0.00\n",
    "b = 1.\n",
    "\n",
    "newys = []\n",
    "newxs = []\n",
    "for index, coord in enumerate(mesh.data):\n",
    "    y0 = coord[1]\n",
    "    x0 = abs(coord[0])\n",
    "    newy =(1. - (a + (b-a)*((1 - y0)/(b-a))**s))\n",
    "    newx =(1. - (a + (b-a)*((1 - x0)/(b-a))**s)) \n",
    "    newys.append(newy)\n",
    "    newxs.append(newx)"
   ]
  },
  {
   "cell_type": "code",
   "execution_count": 14,
   "metadata": {
    "collapsed": true
   },
   "outputs": [],
   "source": [
    "with mesh.deform_mesh():\n",
    "    mesh.data[:,1] = newys\n",
    "    mesh.data[:,0] = newxs"
   ]
  },
  {
   "cell_type": "code",
   "execution_count": 15,
   "metadata": {
    "collapsed": false
   },
   "outputs": [
    {
     "data": {
      "text/html": [
       "<img src='data:image/png;base64,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'>"
      ],
      "text/plain": [
       "<IPython.core.display.HTML object>"
      ]
     },
     "execution_count": 15,
     "metadata": {},
     "output_type": "execute_result"
    }
   ],
   "source": [
    "# gLucifer visualisation of mesh\n",
    "fig = glucifer.Figure( figsize=(800,400) )\n",
    "fig.append(glucifer.objects.Mesh( mesh))\n",
    "fig.save_database('test.gldb')\n",
    "fig.show()\n",
    "#"
   ]
  },
  {
   "cell_type": "code",
   "execution_count": 16,
   "metadata": {
    "collapsed": false
   },
   "outputs": [
    {
     "data": {
      "text/plain": [
       "1.26"
      ]
     },
     "execution_count": 16,
     "metadata": {},
     "output_type": "execute_result"
    }
   ],
   "source": [
    "s"
   ]
  },
  {
   "cell_type": "code",
   "execution_count": 17,
   "metadata": {
    "collapsed": false
   },
   "outputs": [
    {
     "name": "stdout",
     "output_type": "stream",
     "text": [
      "2.4966610978\n"
     ]
    }
   ],
   "source": [
    "\n",
    "s = 1.22 \n",
    "res = 64.\n",
    "dy = 1/res\n",
    "dyp =(1. - (a + (b-a)*((1 - (1 - dy)/(b-a))**s)))\n",
    "#print(dyp)\n",
    "print((dy)/(1-dyp))"
   ]
  },
  {
   "cell_type": "code",
   "execution_count": 18,
   "metadata": {
    "collapsed": false
   },
   "outputs": [
    {
     "name": "stdout",
     "output_type": "stream",
     "text": [
      "s is: 1.0 del y is: 1.0\n",
      "s is: 1.02 del y is: 1.08673486253\n",
      "s is: 1.04 del y is: 1.18099266143\n",
      "s is: 1.06 del y is: 1.28342589756\n",
      "s is: 1.08 del y is: 1.39474366635\n",
      "s is: 1.1 del y is: 1.51571656651\n",
      "s is: 1.12 del y is: 1.64718203454\n",
      "s is: 1.14 del y is: 1.79005014186\n",
      "s is: 1.16 del y is: 1.94530989482\n",
      "s is: 1.18 del y is: 2.11403608112\n",
      "s is: 1.2 del y is: 2.29739670999\n",
      "s is: 1.22 del y is: 2.4966610978\n",
      "s is: 1.24 del y is: 2.7132086549\n",
      "s is: 1.26 del y is: 2.94853843458\n",
      "s is: 1.28 del y is: 3.20427951036\n",
      "s is: 1.3 del y is: 3.48220225318\n"
     ]
    }
   ],
   "source": [
    "for i in np.arange(1,1.3,0.02):\n",
    "    dyp =(1. - (a + (b-a)*((1 - (1 - dy)/(b-a))**i)))\n",
    "    #print(dyp)\n",
    "    print(\"s is: \" + str(i) + \" del y is: \" + str((dy)/(1-dyp)))"
   ]
  },
  {
   "cell_type": "markdown",
   "metadata": {},
   "source": [
    "## circular refinement"
   ]
  },
  {
   "cell_type": "code",
   "execution_count": 19,
   "metadata": {
    "collapsed": true
   },
   "outputs": [],
   "source": [
    "mesh.reset()"
   ]
  },
  {
   "cell_type": "code",
   "execution_count": 20,
   "metadata": {
    "collapsed": false
   },
   "outputs": [
    {
     "data": {
      "text/html": [
       "<img src='data:image/png;base64,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'>"
      ],
      "text/plain": [
       "<IPython.core.display.HTML object>"
      ]
     },
     "execution_count": 20,
     "metadata": {},
     "output_type": "execute_result"
    }
   ],
   "source": [
    "# gLucifer visualisation of mesh\n",
    "fig = glucifer.Figure( figsize=(800,400) )\n",
    "fig.append(glucifer.objects.Mesh(mesh))\n",
    "fig.show()\n"
   ]
  },
  {
   "cell_type": "code",
   "execution_count": 21,
   "metadata": {
    "collapsed": false
   },
   "outputs": [],
   "source": [
    "def circ_attractor(mesh, a=0., b=1., s=1.3, radius = 0.3, origin = [0.,1.],target = 0.5, vcutoff=None, hcutoff= None):\n",
    "    #Get mesh info\n",
    "    dx = (mesh.maxCoord[0] - mesh.minCoord[0])/mesh.elementRes[0]\n",
    "    #Initialise vector for the attractor\n",
    "    r0 = np.array(origin)\n",
    "    newmeshdata = np.copy(mesh.data)\n",
    "    for index, coord in enumerate(mesh.data):\n",
    "        n0 = np.array(coord) #get node position vector\n",
    "        d0 = r0 - n0 #get vector between points  \n",
    "        dl = np.linalg.norm(d0)\n",
    "        #print(d0)\n",
    "        #Get unit vector for the displacement\n",
    "        if not dl == NaN:\n",
    "            du = d0/dl       \n",
    "        #Calc new mesh positions:\n",
    "        if (dl > (dx/2.)) and (dl < radius):\n",
    "            #Get weight\n",
    "            normpos = 1. - (dl/radius)\n",
    "            #print normpos\n",
    "            d1 = (1. - (a + (b-a)*((1 - normpos)/(b-a))**s))\n",
    "            w0 = d1 - normpos\n",
    "            #print w0\n",
    "            #print(normpos, d1, w0)\n",
    "            newmeshdata[index] = newmeshdata[index] + ((du/2.)*w0)\n",
    "    return newmeshdata\n",
    "#print(normpos, d1, w0)        "
   ]
  },
  {
   "cell_type": "code",
   "execution_count": 22,
   "metadata": {
    "collapsed": false
   },
   "outputs": [],
   "source": [
    "newcoords = circ_attractor(mesh, origin = [0.51,0.51], target = 2)"
   ]
  },
  {
   "cell_type": "code",
   "execution_count": 23,
   "metadata": {
    "collapsed": false
   },
   "outputs": [],
   "source": [
    "test = np.array([ nan,  nan])\n"
   ]
  },
  {
   "cell_type": "code",
   "execution_count": 24,
   "metadata": {
    "collapsed": false
   },
   "outputs": [],
   "source": [
    "with mesh.deform_mesh():\n",
    "    mesh.data[:] = newcoords    "
   ]
  },
  {
   "cell_type": "code",
   "execution_count": 25,
   "metadata": {
    "collapsed": false
   },
   "outputs": [
    {
     "data": {
      "text/html": [
       "<img src='data:image/png;base64,iVBORw0KGgoAAAANSUhEUgAAAyAAAAGQCAIAAADZR5NjAAAgAElEQVR42u3d3XajOhIGUPWsef9X7rk4szIZg4rSDxjB3lcdd8COTeCLVJT+/P37twAAMM+/vAUAAAIWAICABQAgYAEAIGABAAhYAAACFgAAAhYAgIAFACBgAQAgYAEACFgAAAIWAICABQCAgAUAIGABAAhYAAAIWAAAAhYAgIAFAICABQAgYAEACFgAAAhYAAACFgCAgAUAIGABACBgAQAIWAAAAhYAAAIWAMB3/dtbwHL+/PnjTYD3+Pv3rzcBAQu+cML98+fP70eavrS5zW1+882d8ViRKUIAAAELAEDAAgB4lT+KB1nvqFWTAW/iOsWKFLnzhBOuemGb21yRO9yKKUIAAAELAEDAAgB4FUXuLHjUqsmAN3GdYkWK3HnCCVe9sM1trsgdbsUUIQCAgAUAIGABALyKIncWPGrVZMCbuE6xIkXuPOGEq17Y5jZX5A63YooQAEDAAgAQsAAABCwAAPq5i5AFj1pFr/AmrlOsyF2EPOGE64Ysm9vcXYRwK6YIAQAELAAAAQsA4FUUubPgUasmA97EdYoVKXLnCSdc9cI2t7kid7gVU4QAAAIWAICABQDwKorcWfCoVZMBb+I6xYoUufOEE656YZvbXJE73IopQgAAAQsAQMACAHgVRe4seNSqyYA3cZ1iRYrcecIJV72wzW2uyB1uxRQhAICABQAgYAEACFgAAPRzFyELHrWKXuFNXKdYkbsIecIJ1w1ZNre5uwjhVkwRAgAIWAAAAhYAwKsocmfBo1ZNBryJ6xQrUuTOE0646oVtbnNF7nArpggBAAQsAAABCwDgVRS5s+BRqyYD3sR1ihUpcucJJ1z1wja3uSJ3uBVThAAAAhYAgIAFAPAqitxZ8KhVkwFv4jrFihS584QTrnphm9tckTvciilCAAABCwBAwAIAELAAAOjnLkIWPGoVvcKbuE6xIncR8oQTrhuyltj8u6/WB7fu5s54rMgUIQCAgAUAIGABALyKIncWPGrVZKzsVjVYPo7ljhlYhSJ3nnDCVS+8xOb/PPIRa7ZfTryaxs/1xbRnc0XuCFgAZ4Xj3Svr7wvq9uJ6mM/68hOAgAUsk6U6cszP9xv5ANalyB0AYDKD5Cx41BqZuJNVOovOemqH33ePMViFKUKecMJVL3zN5rvfcGqV+q2i/D9f1mYwHTbnbe6Mh4AFCLv9kauvZuukOFXUyAMCFnDPyJW5MfBbKSp/yyGAgAXcN3IdzjCWRCOGYP4ov615KODcP+f8lcZ6R61r4VWR6LB6pnyjmuf3AfD1mvdaenMInRHQYSFGsHjCCVe98PTNfyJCLc10f3Djs2/X55j4NW/fq+2P6agb2dwZDwELeFqE3Q7M/I4RL3xnMnEKQMAC2lJXMMq1DRkPCB+7sVKiAgQs4Iq8tc0i5XujXK2TVh9JsRigAgQsYGJmGgkTmchV7jH8s3v3YrAM4t1eP3BzThMseNQqej0/ZgVhYkoJc/whdnRLb62MPrvBvXV1TjogYRVGsHjCCdcNWbO+v2x6Ux2OafUNesURKmgHGnyZbxwa556RAaqPurRgSMxBm//SGQ8BC3hafv3KnYMXjGDNspuozCECAhZwkHVe3qlhN7oNlsBLYCBgAS/KT5nvL/VODc8LDbv3RYpHwPHZw2mCRa95jEern/dzVhn79qM57Gk+68sp++l4/d1voCOw41iFhRjB4gknXPXCHd//UR4+5Rq2UJuGslcgP6WCanfz3eg25XN8w+bOeAhYwHoh9bBvQsc04s/370aWjxsVT63o2l1UsbR0vRpPb7txyhEIAhbwory1DUBNiarv6X4PquX7MpSwTUMwKDUxXWVGBMUpELAAPgNQR+TqftKTarB2I1HH/+5mu8OWV8ALORGw4FFrPGA4LY1Xtc8KRmVS6foF5fC7s37jb2bJdbd3AMNajGDxwMSgXvjjG1qv3K3d25/aHKuj5VXHAJiDVpE7AhbwkDz60dhpfP+Hdw5+NydlfsZtOfzclldxkZZBGhCwgEdFrsz4U1PU2J0xvNs4xEk9GnafRZEWCFjAG8PWbqXRSHP2j31un6J2M2D+6ZrGpU7q0XDY8krbd3gtv/kseNSqyUjkm8MQ0Necvbv/e7LMfPqHe3Yr+dY3v/XjcLQXRe6syQgWTzjhKnL/+HK8c/pPLgn6kXaPzQTjOtuxrik3A+azeyabxodi95Pm+3gVRe4gYAF3CKCzqtovrqzqm2JrupXv8DuDRDUYZHXSAgELWCZa7V6eW6vak3u+eSV7n9oo3Xju2X3nxSkQsIAHhrApVe0jeevKSvDDWb98omrt/lDUvIOABbwnY+VXfZ6bt74VNU5d9fmwQku6gpfw286CR62i15ZkU7u0Jx+JM1O+eDlTjH/4LFNuRZx+R2Gtvq3vPS9Wzkkcz3B/RrB4wgnXXYQfj8TjKN1v9bZYfqT7aKmUdQddsoJ/J4POlNSyO6k6d/TLUjn+oELAAm6XPncvUVPWCjxpt/GzzB3BCvLN4Q7PSFRq3kHAAp4Qubqr2g/7s5cZlfJzdTfEKucsSqjmHQQs4LF563f4mNI79CMuHGa4fK/Ra7JXa6I6fIW7dVR9Ne9CGAhYcN2wRPxI05cP2PzwAhwHmt+7mnKv38ds10feKjcY4jppjCquo3LMd38/CFhw6RhM7Ur21ILfkqtqn/veBjuPJw0/1tsJRoyujOM/g2qnJqrBtXoOY64idxCwgKsTZzlqyNS98995a3CfrXcOxhN2pX6D4dwlaM6+hXD7wyabOwACFnB16tq9Ya1jFKep0CoOVXHe2v47SFHx5n1xp/buTUlUtTlTyQkELGC9sLU7A/U7N7S2tir1QqvpQSETwkYST9xkNR5SSu6to+RL5AIBC67z8oLfjwTTNxD1cf2u1RLldx7krSUiQpyoxg/RuW/CrKNolWMeBCy4bjym9lf+S4rc5y7t170iYaawvamg6so4FTR/b9pVpiNDcj+ZLDX4K1AUuYOABWRS5u41frCp1e/9dF/kavN653WBj2PKlES13WRiJsgMfckcIGAB34lcyWC0nQGMFw0seysSdr/UwwL2vp1n+jIE70xyzZx8BVjwDZl2DPm9AQIW8IXIVWa0bwhWyBnJW613DpZL+jJ0FKcftoDPJDlZClbnt5cFj9pXzo8c3sWWvDzHk1m1ZgH5oplt0Im/+bJ/N31bLfm1vjm1+b6Jn+AbfiNcp1iRESyecMJ9Q5F77TarwWvPlHWgf+9kt7b9DoXt+YGlppcadMwqLd2tkt9Te7WK3EHAAkYzZW2MZEof0TKvd0N3o6yz13ueW/Aej3hNf5HmDUHAAq4LXnHqakozH60WSnvvht39x4XttWgyJbLkE1VmcKVpuCv/4g/HpQABC7hX6hq8QW93Empw7iZzI+H4XYSttxBmdhgMd+Vn+g7bMSQLsIoxLRCwgFn5abeTQnChPaNp1vS8tS0831YdTb+LsBZZdr/hsLroMJ/tZqmi0ggELLiDly+VMyulxZFrMB7V9ja43GHmzsHBg2pwlcPM0FQm5DU9S+tBVSyVAwIWxOGgPPouwmCIJXMR6kgzyf0fDpjV8tZ9JrN2i+7Hs87cHgqHK1FOOajcRQgCFlBqSaV7ni7Tz33Wgjm1CqS+1xlHk6AW7XBUrORaZsTDXU1xLTOypdwKBCzgvqmrr+IqiFz5veUnE6fYDlONjFF9jB717Sq5Vrd0BQIW8ITUNbLnkQVzamGr+16/eJiqaW/B7GF3/4WOOT5gOX6HWfCofXFNxkkL5tTe1e7KnvEFczrq1msLGpau6vju9uhxkXv3B1QSNzy+5y8EuD8jWDzhhPueIveOBXPyk2Lb5+2uc5++YM5hAuu+Btc6nfYNUHWPciWfIpODiyJ3ELCApoGZpgVzykBpVEnUubfenLjNW99aLaejadbhio1Tpvniz/G1I1ggYAFfC2HxX/9TlmHZ7YfeWnd1/WrQwetMppPkqj6Z/WQWkSxqsEDAAu4fvGoVV9N7r7fmrcPVclpTSy1W1mJN7UXOSlSyFLyWX2wWPGpfOScyWAd9Up17yTWLyte5T+nJ3lftHuyhDFS4H2apkbL3Uu/78OyDH+7PCBZPOOE+u8i91OvNtzNrg2MtrXXuh7sanAoM6tmnVLsnK9yDcNP6USZjU9OfFod9HxS5g4AFNPwRXxs1+ZiHSqau8/q55+vcO9axbtW9LHQ5rYf79in67hYEBCzgrOyVubtw5LnGI1dtcOuMrDBS4b5997rbluY/l1qaNJADAhYwP0L1XdTjIZZZ1+y4lcNhO4ZSmUnsTjC1UJWpcN8NfIPDUdsvVbjD4/ndZsGj9h1/yk/v991d514ae5HHheq1ivhgYeZMJqvl0UzL+MMsmykq6njfznvw2b8LsAQjWDwwfDyjyD2orLr+vT1cmTjYW21p58Pa/N2c9HsPP68tKHsPMnpy+edkiJlYgxW/mMxR0X3v5z1/ZZzxELCAi0LkNq/ULrqt6y4f1rnvPm9+NZ7dibyOxaH77r9LhqqmONVd4d7anyzf0MGvDwhYwMwctr3uDhY2ZZ53O8qViU1B2JpSmVQb6CrpIa5knOp7VbUnamqCBQhYQDa4zL2adtS5d3Sr2p3lybe/qoWtiaEqn3uS9VVNQWr3IxCbQMACHpjG4oLuKQtIx3nrYx3rf/79Eba2I3DBP/Kzh7WfKD/1GbfAmFWSFf8I8hkIWDD50hI/0vTl3TYPxj/iq/j09LZ7Ie8eYcq3G91uFVSy59eKqbUYbT3ePgbk8jcVTj/y497uj/mVAQELrhu5Cf6UX/ouwtJ+Q34mjY1EsY+Brlll75l2o/khutothB0tRpsWwJlbLnYYr5ML+LiLEAQsYChoNjW4mnXLYa2rQhC54jKsbdj6+P6m6u/ddaYP35zdH2Q8TsU3GSRjk9lAELCAS7PU3CgW57BklXqQVOIyrDhs5RPMYSVWLVF1r4ETPBi8GLEJBCzgLTGu1Od0xgtl4jKsuAvXz5DY7s2Jhw1aO9Z4Pqz33+bIMtAES+QCAQu+7J1F7mVqZVV3/KpFgZPKsD6+/6PWKn6jphRglS/Vs+dfXscvSFHkDgIWxFf68o4i9zJQWbX74BnhLNN9tPbUrTODca7aNtbavoe7z3JNn6rWD66MVWspcgcBC2gLNPk0Vlo6vI9f1WrdR3fjRVyG1VSDFcxybnPerGt5/jbA+IMzbwgCFrB8OEsOMJRKz/fuOLLNQNslnLdZJKjBOiyW2m3ikLlDMDnXNmVpQkDAAl6XxjITPSMhLBm2yv/PAAbPmOzqni9gl5wAAYuHU+S+RAg7TGC15ljbsLW7tuB2xjPuibCbqO5TwN56zA8+qMgdBCwowbhCeXGRe6kv2Dzr6jt3hKajJGu3R0Ot7mr3J9rOJMbvc+Z/4xjUvfZRaWlCpsgdBCzgunGjuVffeAataU6w9lKTJVkf04K7s4TbXNiakwZ/3sxc6pQHAQELWDvAJcchSntVVpzGSqJrw+66OsGTHs5Mjfy8whAgYAGX5rNaAtsdtfqIRLszibvjWHGh1QXLNgP895TihMJ6R62ajHmJp/RW7ZTeMa0gYNX+Hfws8Qxd8umSeat7BCt40MHcd9CCgAWnBCxF7t0X9XWvr7VEUluCcMXoMF6Y9cgid9cpVmSKEN4+GHDDEazy//N6yabzTa1EbzKC5YAEAQvgUrVBqdrMmuk2QMACnpmHRlpK7q67vF0G5/Dbgn02dWE4qRnYFMEylICABaSu9H2Pn937uyQWMB4scv8Ibb/HrnbvHPzpmNX67Ievre89OfXBctpC3cCEE7s/gHhAHFndlUXufeVWZUbFVTLEfLwz8cqD228L3uELbkc4o6foa29uqP2CwBKMYPHARLLcXYSvisXBnN3uCNbHSNVuJ/ff6xWWvcGww2efdQm/7cydpXJAwALagssXL+dNZUxN19GPib/kAFX3CNZuAVntpzOgAghYwHE26i4kap0ijF/MdjRrm64+xqJ+f0MtaWVSUVMB2eFqP5klCx2BIGAB901CpbcCumnRvZKY3EzGqdqPczg/uK3H+pgf/Pm232mpVi8/Il5JOlmqVWYXuQttcK9Tt99Jlg4cb9B6OW/95lm128nSmda1cT4SVRC2DhNbaVmEp5zWbXXKg+VNtUquU6zICBZPOOG+ZKmck9Jq33MdFi3FRVfxeFgt35TEQNRhPVbmFR72ZbhtGfsjl8pxxkPAAm5hJKIl+4WWdHeJ+IkO88HHDOA2Qn3cQrh9eduSrMPXeTiClaxgM/QCAhbw5LyVSQM/mSBfRZQPebUy9pIYqaot9vwxOVgrw9o+V2sJfC2BlaPhmeQqinEa07QdBCzguqiUf7Bp8mjiiwwCRPCat4s3N4Wej8WhP8LWR1jJzAmOaLqTIJ79DN6x3/uRxkDAgpk5I7/g3f03L4kK8TghXXOJjeuTkpU02yairbkqSFrbFqPBKNHua979Gae8t9skFGSj+FPuO6IW+pUBAQsu8sIi98uGJWr32cU1WK0tr0quYcTuJrUvM8npI89tZxKDL8veDOPcNNA3/jR+Y6MidxCwgPmJqvZI8qa/pkS1naSrbbLbBb72j3hmcDfBBFEvH4B235nkdB4gYAHLx6ZSX1B5cPyj9hS7iSr5soO6sSD9bCNOUIa1u3BhabwHMDnTV5vOMzwDAhZw0+SUiU0lvFlvyosJCrDizXfr8Vtfye5tg9syrKYFcyY2f9/9XGqfSFMzd+Cm52rj1TwgYbzKxC7hfUvi7L6YfFVN0GehtlpOaS+0qu3zsPlWpmCo40M5o5n7e34RXKdYkREsHhgyli5yH1/6Zjy8zl3UubUDVm3DIEUFjSG283el3p2hVrl1+G4cNnw/o3tCbZ+K3EHAAuY7vOgG9wbW6ocGU1ryerntt949grWbEQ/LsDI9HWq187vvdryUkGMVBCxgsYwVPNjU/fIwwO0OeuVHIJINUVvV1snJbNWUt0pY5344MFP7pIKbHwEBCzg9P41UuCef63DFm/yczu5yN5kc1pquauvk1N6u3fcnqAMb77kQt9dPducHBCygJz/tPp5ZxW/iK4njVEcizJSWl3otzu4/ki8pM7JVazcaLLBTZi/w3PFunHQMAJ3nT38G8Zj88Rj58aeJtxDmh3aSJcyHVe3Bv4O3JWg0GmSp2ko4wZN2V203DZKd8WB5XJ246xQrMoLFE064D7uL8LJ4Orf+6XCYKr95rQXo4SGRr3OPD6q4ciuzn3zFlV8ZdxEiYAFryCzVMl7hvlsD3hTRkgmvL/b11bln8lb3i8mvqwMIWMA3U1Rf38v8U9TiVEeiihtinfpe1cLWtnFDbfO4w3tywZzDPcepa1tZ7+5CELCAzggVRJDzWo8m49Rhp9DWYqymiDY+srVbvNWat8pR66+RRLh9q+O1koQtuMsJ3G8jS8eOZ2u6ya77wSC69VXP1HpiJSvca6Gn7C2tk//Ow9c/sc69trcL6twf+dvhOsWKjGDxhBPuG5bKOSOeHlZl9e2ze2hqm/wOZyGDWwvL3ljXNXXuJTfKdUZ0SA40KnIHAQsYDVJloHBq97rYkajiFXgOWyp05IyPF5a5D3F34cLkHjKRq7T3wQcELOCsqHS4IvL2kdZhpGRvp5FBr2Dq8IK3sfWmwlq70Vrk2m0En1k3uhY9jdyAgAVcEbMOU9GKFe75KPnFsHW4n20qyv8g+TsQg7sLDXrB7U7afi15RtR4vEznhb4Ha8Xd36pw//h368fd9CxloM69b1d9ffYPg+mrDn5YghEsHpg2HlbkPnd8orudVVxfdZhjOtLzz3RkLXjtPji4JHNT3dXhfjKNxGqbb9/AYM5x8KBS5A4CFtCcVw5Xa25Nda093OOhl/w0YmtJ0+9Btd+xJogp+Tr3TNHV70euXCsaELCAs7JUmdfpO59RMvsp9dGpM96ZoINDU1yL+7mPtzzdvglSFwhYwFmxaXcgJ5mlZi3efJioDquRutcrPCNv1dpltU4mZm60bN2V1AUCFnwzdsSPNH251ua1i+tgaonruzt2VRvuutUtb92DW7VgdNgqbOR1ZlLXg495ELDgoutiZvikPKvgd/zyU1thJugCmowIHROI+RZf2wrxklirseO42iakjhGpcrTiYfc60LWP7MHHvLCFgAXcVHx1755YTPYfbwpn2yryjv4OIzcS/sSaWkKKd5hsatV9f+KsojpAwALOjVN9u41HvPJ7i3sx9KndrzcybZdcjrpjh4ORCxCwgNOzVJmxePNhourIcPFyzmc7XOhmJMNNn52UukDAAq5OUWdkqSADBa+hb2/fmuEKelwNNhRtXaOwL8lJXSBgwRcyx4PvIpzbeWE3NsVxLf+Mhy3d71k/tJ2gHBzcCtpl/fMNyVKq2rdlUpe7CEHAgtE/6599F+HcVNrR1T2ZqMoJba52a6cO/30YUEbyVus+D9fMGXx5u78U7iIEAQs40UgymJKomm5IzC9EWNJ3EXbnmCBvDe4z7phVdBAFAQu4Z5baDmnM2vluyVHrfGJTkBrPQ7Wm7X3PMrFX1vZj6m6aBQhYwBVxarAZ6dyg9t1bCGvBqwxPPwW9GwYzYhy5AAELLooXr1oqp68IPZ7ICy7wsxLVeaGqYzhqbmH77vsW73Ckzn1354rcQcCCCRfUfOB4WMHvlIByRgAauYXw67NgTXkrn42SKfbiX4GiyB0ELGBinPpdgdQXaw7vhjs7Kg12Y09ucngj4Xgq2taEOVBBwAIWSFTjcepwt4erNTc9Y6YFQ1z2tPvvcXH9Vr6v1eE+k5HLioQgYAGXZqltELlnoooXBwz+XfsxL+vaEGej8cEt7RvgISdnv7EsGikIslSyfehu7UtTH/n8l9vdJku1Tvq2+PWU3rqi1i78TZ/Ua4981ylWZASLJ5xw31zk3n3RrY2UTKkv3p3w+sqaOXHf86BL1shuf37G6TOV7zzmnfEQsIAFJJcgDDJZsNsrC96nZ5cgb3WvuvPxFk1cBxoQsIBL89PuKNd3a97XKsqurWYT1EJ19G7Y/VwUsIOABdw3Y3Vc+zORaHqT98xPkbxV8Ly5pI68ldxtrUxNVTssfx72C8zq6YFaIAiiUvKReM8jhTi1YvMg1pSWIvfkm3PGj9BUfhQ/4lC/IMfDSYxg8cAA8bYi98tWIRy/3h8u81wmTSYG2WtWavl55UFrrlk/xbMPWkXuCFjAA9XaOG0n4DomGWt7+FaZ0eGSOOMvLLiR0EgMCFjAqmnp8Cp+Us17aZwsm/XjHKaopry17Q7/87/jNxImm0GocwcBC1ggcpXNajODHRlKoq/mijM7u/OV+R/k8I2Nl8eRqEDAAu6eqGq5p6S7hx/uvLtWZsWWDR15azdy/X4kLt5SewRrn4r9zcQDAgSDcSp/I1vmJr7xL+e+D+e91FlxNlMG7pCGtRjB4oEZ4s13EU680a+1z/tIUB6PcfHU3qkBpfa8c98udxGCgAWsJFPzPqvtezIbzU0kh2VVc7OjEitAwIJXh6qfQHBGUdT0OwpHEs+2EOrjxSS7qDeVsdf6v5fVqtAAAQv4TDm7rS9bm5fu7vYjkUy5o/CL/bE+XsD09XCuHEUDvn/69SvNiqHBm9CXHso5NdeH3dhHSqm+u2E5akgx5f10VOcPYFiFESyecMJV5J7//lm59otTftOPpUw30WQz0pNysKVyQMACnuDsRQnzLyDuDnXZrYJxGBICAAELaEtUrekhOaJTy0a/a55mtWkoF3ZqKAZdAAELJKpy8jLMuyXwv2vJT5ptjJNZd4158qbLeMlnqw3C88+xfsNZOhkwmD/6Ktxbm52e1/N9Yrv22ssef0O2L9Xh152VYRVGsHjCCVeRe/fms/LuA1Z9PuzUMOtK3zr76aB1xkPAAl4h7lP6mCtisjmW+T5AwAJ6stRTezT0RS7N2QEBC+gMVbtxqnxpgCrZtWFWikqmpQuaYwGrnkidAlj98s8ZCSMIChMrbPIf5WHdUnJXfXXrfVXtDqQzDkhYhREsnnDCVS980uZ98Xe7h9qwU+saO/EhkbmpsDYS1nr4dXRqcNR1b+6Mh4AFPFwmWLSuLX1SBN9dAKepMamBE0DAAr6Zur4bp2Zlso+XXesvf5jnAAQsIEpOh/N9Zc2uV1Mil0QFCFhAZ8Y6jB2DiW3FyLXb/F21EPC/E4K/wHjAJZ8LIsVuQrpV9fR5X5YZ6wUx6yCEJRjB4vlXfTdkjWx+fXSOh4U6vuy4PE+pqXLUzdrcGQ8BCyCVompfnjGgFTcpNToCCFjA3cPT7hoytQh1zVhF3KR0N35lelwpcgcELODcXPXx76Dd1N1e/O5L3Z2sBGg4MfoLjKUv59w2o9QC1j1L4ItKoBUOMFiIESyecMJVL3yTzR11DpuiyB1KKaX8y1sAnESVEiBgAbzItk0owESmCIFvauprVb7UFgug+eTmXMPql2SWdn2Ru+Nn6YMEVmEEiyeccNULr7v5Fw8eH9wqmzvjsSI1WAAAAhYAgIAFAPAqitxZ8KhVkwFv4jrFihS584QTrnphm9tckTvciilCAAABCwBAwAIAELAAAOjnLkIWPGoVvcKbuE6xIncR8oQTrhuybG5zdxHCrZgiBAAQsAAABCwAgFdR5M6CR62aDHgT1ylWpMidJ5xw1Qvb3OaK3OFWTBECAAhYAAACFgDAqyhyZ8GjVk0GvInrFCtS5M4TTrjqhW1uc0XucCumCAEABCwAAAELAOBVFLmz4FGrJgPexHWKFSly5wknXPXCNre5Ine4FVOEAAACFgCAgAUAIGABANDPXYQseNQqeoU3cZ1iRe4i5AknXDdk2dzm7iKEWzFFCAAgYAEACFgAAK+iyJ0Fj1o1GfAmrlOsSJE7Tzjhqhe2uc0VucOtmCIEABCwAAAELACAV1HkzoJHrZoMeBPXKVakyJ0nnJGxKToAAAF2SURBVHDVC9vc5orc4VZMEQIACFgAAAIWAMCrKHJnwaNWTQa8iesUK1LkzhNOuOqFbW5zRe5wK6YIAQAELAAAAQsAQMACAKCfuwhZ8KhV9Apv4jrFitxFyBNOuG7IsrnN3UUIt2KKEABAwAIAELAAAF5FkTsLHrVqMuBNXKdYkSJ3nnDCVS9sc5srcodbMUUIACBgAQAIWAAAr6LInQWPWjUZ8CauU6xIkTtPOOGqF7a5zRW5w62YIgQAELAAAAQsAIBXUeTOgketmgx4E9cpVqTInSeccNUL29zmitzhVkwRAgAIWAAAAhYAgIAFAEA/dxGy5oGr7hVew3UKAQsAAFOEAAACFgCAgAUAIGABACBgAQAIWAAAAhYAAAIWAICABQAgYAEAIGABAAhYAAACFgCAgAUAgIAFACBgAQAIWAAACFgAAAIWAICABQCAgAUAIGABAAhYAAAIWAAAAhYAgIAFACBgAQAgYAEACFgAAAIWAADN/gPOVtzjiuqjIAAAAABJRU5ErkJggg=='>"
      ],
      "text/plain": [
       "<IPython.core.display.HTML object>"
      ]
     },
     "execution_count": 25,
     "metadata": {},
     "output_type": "execute_result"
    }
   ],
   "source": [
    "# gLucifer visualisation of mesh\n",
    "fig = glucifer.Figure( figsize=(800,400) )\n",
    "fig.append(glucifer.objects.Mesh(mesh))\n",
    "\n",
    "fig.save_database('test.gldb')\n",
    "fig.show()"
   ]
  },
  {
   "cell_type": "markdown",
   "metadata": {},
   "source": [
    "## Cosine taper"
   ]
  },
  {
   "cell_type": "code",
   "execution_count": 29,
   "metadata": {
    "collapsed": false
   },
   "outputs": [],
   "source": [
    "mesh.reset()\n",
    "\n",
    "begin_taper = 0.8\n",
    "maxY = 1.\n",
    "\n",
    "#THis one for the square mesh\n",
    "s = 1.4\n",
    "a = 0.00\n",
    "b = 1.\n",
    "\n",
    "newys = []\n",
    "newxs = []\n",
    "for index, coord in enumerate(mesh.data):\n",
    "    y0 = coord[1]\n",
    "    x0 = abs(coord[0])\n",
    "    yp1 = 1. - (a + (b-a)*((1 - y0)/(b-a))**s)\n",
    "    \n",
    "    if y0 < begin_taper:\n",
    "        newy = yp1\n",
    "    else:\n",
    "        lamb = math.pi/(maxY - begin_taper)\n",
    "        taper = 0.5* ((math.cos(lamb*(y0 - begin_taper))) + 1.)\n",
    "        dy = (yp1 - y0)\n",
    "        newy = y0 + dy*taper\n",
    "\n",
    "    #newy =(1. - (a + (b-a)*((1 - y0)/(b-a))**s))\n",
    "    #newx =(1. - (a + (b-a)*((1 - x0)/(b-a))**s)) \n",
    "    newys.append(newy)\n",
    "    #newxs.append(newx)"
   ]
  },
  {
   "cell_type": "code",
   "execution_count": 30,
   "metadata": {
    "collapsed": false
   },
   "outputs": [],
   "source": [
    "with mesh.deform_mesh():\n",
    "    mesh.data[:,1] = newys"
   ]
  },
  {
   "cell_type": "code",
   "execution_count": 31,
   "metadata": {
    "collapsed": false
   },
   "outputs": [
    {
     "data": {
      "text/html": [
       "<img src='data:image/png;base64,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'>"
      ],
      "text/plain": [
       "<IPython.core.display.HTML object>"
      ]
     },
     "execution_count": 31,
     "metadata": {},
     "output_type": "execute_result"
    }
   ],
   "source": [
    "# gLucifer visualisation of mesh\n",
    "fig = glucifer.Figure( figsize=(800,400) )\n",
    "fig.append(glucifer.objects.Mesh(mesh))\n",
    "\n",
    "fig.save_database('test.gldb')\n",
    "fig.show()"
   ]
  },
  {
   "cell_type": "code",
   "execution_count": 32,
   "metadata": {
    "collapsed": false
   },
   "outputs": [
    {
     "data": {
      "image/png": "[encoded data removed]",
      "text/plain": [
       "<matplotlib.figure.Figure at 0x113064fd0>"
      ]
     },
     "metadata": {},
     "output_type": "display_data"
    }
   ],
   "source": [
    "s = 1.5\n",
    "\n",
    "a = 0.00\n",
    "b = 1.\n",
    "yorig = np.linspace(a,b,100)\n",
    "\n",
    "begin_taper = 0.9\n",
    "\n",
    "#yp1 = [1. - (a + (b-a)*((1 - Y)/(b-a))**s) for Y in yorig ]\n",
    "#y2 = [i + amp*(gauss(i-cent,sig)) for i in yp1]\n",
    "\n",
    "y2 = []    \n",
    "for y0 in yorig:   \n",
    "    yp1 = 1. - (a + (b-a)*((1 - y0)/(b-a))**s)\n",
    "    #print(y0, yp1)\n",
    "    if y0 < begin_taper:\n",
    "        newy = yp1\n",
    "    else:\n",
    "        lamb = math.pi/(maxY - begin_taper)\n",
    "        taper = 0.5* ((math.cos(lamb*(y0 - begin_taper))) + 1.)\n",
    "        dy = (yp1 - y0)\n",
    "        \n",
    "        newy = y0 + dy *taper\n",
    "    y2.append(newy)  \n",
    "\n",
    "    \n",
    "#pyplot.plot(yorig, yorig)\n",
    "pyplot.plot(yorig, y2)\n",
    "pyplot.axis('equal')\n",
    "pyplot.grid()  "
   ]
  },
  {
   "cell_type": "code",
   "execution_count": 34,
   "metadata": {
    "collapsed": false
   },
   "outputs": [
    {
     "data": {
      "text/plain": [
       "(64, 64)"
      ]
     },
     "execution_count": 34,
     "metadata": {},
     "output_type": "execute_result"
    }
   ],
   "source": [
    "mesh.elementRes"
   ]
  },
  {
   "cell_type": "markdown",
   "metadata": {},
   "source": [
    "## Shishkin Mesh"
   ]
  },
  {
   "cell_type": "code",
   "execution_count": 277,
   "metadata": {
    "collapsed": true
   },
   "outputs": [],
   "source": [
    "mesh.reset()"
   ]
  },
  {
   "cell_type": "code",
   "execution_count": 284,
   "metadata": {
    "collapsed": false
   },
   "outputs": [],
   "source": [
    "def coarse_fine_division(mesh, axis=\"y\", refine_by=2., relax_by =0.5):\n",
    "    if axis == \"y\":\n",
    "        thisaxis = 1\n",
    "    else:\n",
    "        thisaxis = 0\n",
    "    width = (mesh.maxCoord[thisaxis]-mesh.minCoord[thisaxis])\n",
    "    dx = (mesh.maxCoord[thisaxis]-mesh.minCoord[thisaxis])/ (mesh.elementRes[thisaxis])\n",
    "    nx = mesh.elementRes[thisaxis]\n",
    "    dxf = dx/ refine_by\n",
    "    dxc = dx/ relax_by\n",
    "    i = 0\n",
    "    current_width = ((nx - i)  * dxf) + (i * dxc)\n",
    "    while current_width < width:\n",
    "        i += 1\n",
    "        current_width = ((nx - i)  * dxf) + (i * dxc)\n",
    "    #print current_width\n",
    "    #correct dxc so the total domain is preserved.\n",
    "    dxc = (width  - ((nx - i)  * dxf))/i\n",
    "    nxf = (nx - i) \n",
    "    nxc = i\n",
    "    nt = (nxf + nxc)\n",
    "    assert nt == nx\n",
    "    return nxf, dxf, nxc, dxc"
   ]
  },
  {
   "cell_type": "code",
   "execution_count": 285,
   "metadata": {
    "collapsed": false
   },
   "outputs": [
    {
     "data": {
      "text/plain": [
       "(85, 0.00390625, 43, 0.015534156976744186)"
      ]
     },
     "execution_count": 285,
     "metadata": {},
     "output_type": "execute_result"
    }
   ],
   "source": [
    "coarse_fine_division(mesh, refine_by=2., relax_by =0.5)"
   ]
  },
  {
   "cell_type": "code",
   "execution_count": null,
   "metadata": {
    "collapsed": true
   },
   "outputs": [],
   "source": []
  },
  {
   "cell_type": "code",
   "execution_count": 286,
   "metadata": {
    "collapsed": false
   },
   "outputs": [],
   "source": [
    "def shishkin_centre_arrange(mesh, axis=\"y\",centre = 0.5, nxf=nxf, dxf=dxf, nxc=nxc, dxc=dxc):\n",
    "    import itertools\n",
    "    if axis == \"y\":\n",
    "        thisaxis = 1\n",
    "    else:\n",
    "        thisaxis = 0\n",
    "    ###################\n",
    "    #Get the number of coarse elements either side of fine elements\n",
    "    ###################\n",
    "    nr = nxc\n",
    "    nl = 0\n",
    "    if ((nxf*dxf) > centre):\n",
    "        pass\n",
    "    else:\n",
    "        left_length = (nl*dxc) + 0.5*(dxf*nxf)\n",
    "        while (left_length <  centre):\n",
    "            nl += 1\n",
    "            left_length = (nl*dxc) + 0.5*(dxf*nxf)\n",
    "            #print(left_length)\n",
    "            if nl == nxc:\n",
    "                break\n",
    "        nr = nxc - nl\n",
    "\n",
    "    ###################\n",
    "    #return dictionary of new element mappings\n",
    "    ###################\n",
    "    lcoords = [i*dxc for i in range(nl)]\n",
    "    ccoords =  [lcoords[-1] + i*dxf for i in range(1, nxf+1)]\n",
    "    rcoords = [ccoords[-1] + i*dxc for i in range(1, nr +1)]\n",
    "    rcoords.append(mesh.maxCoord[0])\n",
    "    newcoords = lcoords+ ccoords+ rcoords\n",
    "    assert len(newcoords) == nx + 1 \n",
    "    origcoords = list(np.unique(mesh.data[:,thisaxis]))\n",
    "    dictionary = dict(itertools.izip(origcoords, newcoords))\n",
    "    assert len([x for x, y in collections.Counter(newcoords).items() if y > 1]) == 0 #checks agains multiple coordinates\n",
    "    return dictionary\n",
    "    \n"
   ]
  },
  {
   "cell_type": "code",
   "execution_count": 287,
   "metadata": {
    "collapsed": false
   },
   "outputs": [
    {
     "name": "stdout",
     "output_type": "stream",
     "text": [
      "0.166015625\n"
     ]
    }
   ],
   "source": [
    "coorddict = shishkin_centre_arrange(mesh,centre = 0.5, nxf=nxf, dxf=dxf, nxc=nxc, dxc=dxc)"
   ]
  },
  {
   "cell_type": "code",
   "execution_count": 306,
   "metadata": {
    "collapsed": true
   },
   "outputs": [],
   "source": [
    "def shishkin_deform(mesh, centre = 0.5, axis=\"y\", refine_by=2., relax_by =0.5):\n",
    "    if axis == \"y\":\n",
    "        thisaxis = 1\n",
    "    else:\n",
    "        thisaxis = 0\n",
    "    nxf, dxf, nxc, dxc, = coarse_fine_division(mesh,axis, refine_by=2., relax_by =0.5)\n",
    "    coorddict = shishkin_centre_arrange(mesh, axis, centre, nxf=nxf, dxf=dxf, nxc=nxc, dxc=dxc)\n",
    "    with mesh.deform_mesh():\n",
    "        for index, coord in enumerate(mesh.data):\n",
    "            key = mesh.data[index][thisaxis]\n",
    "            mesh.data[index][thisaxis] = coorddict[key]"
   ]
  },
  {
   "cell_type": "code",
   "execution_count": 312,
   "metadata": {
    "collapsed": true
   },
   "outputs": [],
   "source": [
    "mesh.reset()"
   ]
  },
  {
   "cell_type": "code",
   "execution_count": 313,
   "metadata": {
    "collapsed": false
   },
   "outputs": [
    {
     "name": "stdout",
     "output_type": "stream",
     "text": [
      "0.166015625\n",
      "0.166015625\n"
     ]
    }
   ],
   "source": [
    "shishkin_deform(mesh, centre = 1.0, axis=\"y\", refine_by=2., relax_by =0.5)\n",
    "shishkin_deform(mesh, axis=\"x\", refine_by=2., relax_by =0.5)"
   ]
  },
  {
   "cell_type": "code",
   "execution_count": 314,
   "metadata": {
    "collapsed": false
   },
   "outputs": [
    {
     "data": {
      "text/html": [
       "<img src='data:image/png;base64,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'>"
      ],
      "text/plain": [
       "<IPython.core.display.HTML object>"
      ]
     },
     "execution_count": 314,
     "metadata": {},
     "output_type": "execute_result"
    }
   ],
   "source": [
    "# gLucifer visualisation of mesh\n",
    "fig = glucifer.Figure( figsize=(800,400) )\n",
    "fig.append(glucifer.objects.Mesh(mesh))\n",
    "\n",
    "fig.save_database('test.gldb')\n",
    "fig.show()"
   ]
  },
  {
   "cell_type": "code",
   "execution_count": null,
   "metadata": {
    "collapsed": false
   },
   "outputs": [],
   "source": [
    "tempwidth = ((nx - i)  * dxf) + (i * dxc)"
   ]
  },
  {
   "cell_type": "code",
   "execution_count": 90,
   "metadata": {
    "collapsed": false
   },
   "outputs": [
    {
     "data": {
      "text/plain": [
       "0.030539772727272728"
      ]
     },
     "execution_count": 90,
     "metadata": {},
     "output_type": "execute_result"
    }
   ],
   "source": [
    "dxc = (width  - ((nx - i)  * dxf))/i\n",
    "dxc\n"
   ]
  },
  {
   "cell_type": "code",
   "execution_count": 91,
   "metadata": {
    "collapsed": false
   },
   "outputs": [
    {
     "data": {
      "text/plain": [
       "1.0"
      ]
     },
     "execution_count": 91,
     "metadata": {},
     "output_type": "execute_result"
    }
   ],
   "source": [
    "((nx - i)  * dxf) + (i * dxc)"
   ]
  },
  {
   "cell_type": "code",
   "execution_count": 92,
   "metadata": {
    "collapsed": false
   },
   "outputs": [
    {
     "data": {
      "text/plain": [
       "3.909090909090909"
      ]
     },
     "execution_count": 92,
     "metadata": {},
     "output_type": "execute_result"
    }
   ],
   "source": [
    "dxc/dxf"
   ]
  },
  {
   "cell_type": "code",
   "execution_count": 33,
   "metadata": {
    "collapsed": false
   },
   "outputs": [
    {
     "ename": "NameError",
     "evalue": "name 'y' is not defined",
     "output_type": "error",
     "traceback": [
      "\u001b[0;31m---------------------------------------------------------------------------\u001b[0m",
      "\u001b[0;31mNameError\u001b[0m                                 Traceback (most recent call last)",
      "\u001b[0;32m<ipython-input-33-6e9daf6c700f>\u001b[0m in \u001b[0;36m<module>\u001b[0;34m()\u001b[0m\n\u001b[0;32m----> 1\u001b[0;31m \u001b[0;32mdef\u001b[0m \u001b[0mshishkin_mesh\u001b[0m\u001b[0;34m(\u001b[0m\u001b[0mmesh\u001b[0m\u001b[0;34m,\u001b[0m\u001b[0maxis\u001b[0m\u001b[0;34m=\u001b[0m\u001b[0my\u001b[0m\u001b[0;34m,\u001b[0m\u001b[0mrefine_by\u001b[0m\u001b[0;34m=\u001b[0m\u001b[0;36m2.\u001b[0m\u001b[0;34m,\u001b[0m \u001b[0mrelax_by\u001b[0m\u001b[0;34m=\u001b[0m\u001b[0;36m0.5\u001b[0m\u001b[0;34m,\u001b[0m \u001b[0mcentre\u001b[0m \u001b[0;34m=\u001b[0m \u001b[0;36m0.5\u001b[0m\u001b[0;34m,\u001b[0m \u001b[0mexclude_above\u001b[0m \u001b[0;34m=\u001b[0m \u001b[0;36m1.\u001b[0m\u001b[0;34m)\u001b[0m\u001b[0;34m:\u001b[0m\u001b[0;34m\u001b[0m\u001b[0m\n\u001b[0m\u001b[1;32m      2\u001b[0m     \u001b[0mnx\u001b[0m \u001b[0;34m=\u001b[0m \u001b[0mmesh\u001b[0m\u001b[0;34m.\u001b[0m\u001b[0melementRes\u001b[0m\u001b[0;34m[\u001b[0m\u001b[0;36m0\u001b[0m\u001b[0;34m]\u001b[0m\u001b[0;34m\u001b[0m\u001b[0m\n\u001b[1;32m      3\u001b[0m     \u001b[0mny\u001b[0m \u001b[0;34m=\u001b[0m \u001b[0mmesh\u001b[0m\u001b[0;34m.\u001b[0m\u001b[0melementRes\u001b[0m\u001b[0;34m[\u001b[0m\u001b[0;36m1\u001b[0m\u001b[0;34m]\u001b[0m\u001b[0;34m\u001b[0m\u001b[0m\n\u001b[1;32m      4\u001b[0m \u001b[0;34m\u001b[0m\u001b[0m\n",
      "\u001b[0;31mNameError\u001b[0m: name 'y' is not defined"
     ]
    }
   ],
   "source": [
    "def shishkin_mesh(mesh,axis=y,refine_by=2., relax_by=0.5, centre = 0.5, exclude_above = 1.):\n",
    "    nx = mesh.elementRes[0]\n",
    "    ny = mesh.elementRes[1]\n",
    "    "
   ]
  },
  {
   "cell_type": "code",
   "execution_count": null,
   "metadata": {
    "collapsed": true
   },
   "outputs": [],
   "source": []
  }
 ],
 "metadata": {
  "kernelspec": {
   "display_name": "Python 2",
   "language": "python",
   "name": "python2"
  },
  "language_info": {
   "codemirror_mode": {
    "name": "ipython",
    "version": 2
   },
   "file_extension": ".py",
   "mimetype": "text/x-python",
   "name": "python",
   "nbconvert_exporter": "python",
   "pygments_lexer": "ipython2",
   "version": "2.7.11"
  }
 },
 "nbformat": 4,
 "nbformat_minor": 0
}
