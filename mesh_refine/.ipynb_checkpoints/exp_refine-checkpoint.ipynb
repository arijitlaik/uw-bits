{
 "cells": [
  {
   "cell_type": "code",
   "execution_count": 89,
   "metadata": {
    "collapsed": false
   },
   "outputs": [
    {
     "name": "stdout",
     "output_type": "stream",
     "text": [
      "Populating the interactive namespace from numpy and matplotlib\n"
     ]
    },
    {
     "name": "stderr",
     "output_type": "stream",
     "text": [
      "WARNING: pylab import has clobbered these variables: ['test']\n",
      "`%matplotlib` prevents importing * from pylab and numpy\n"
     ]
    }
   ],
   "source": [
    "import underworld as uw\n",
    "import math\n",
    "from underworld import function as fn\n",
    "import glucifer\n",
    "import numpy as np\n",
    "import os\n",
    "import math\n",
    "import collections\n",
    "%pylab inline"
   ]
  },
  {
   "cell_type": "markdown",
   "metadata": {},
   "source": [
    "This notebook implements various mesh refinement functions for use with Underworld2."
   ]
  },
  {
   "cell_type": "markdown",
   "metadata": {},
   "source": [
    "## Example 1: \n",
    "\n",
    "$y' = \\frac{ln((\\alpha y + e) -1)}{ln((\\alpha + e) - 1)}$\n"
   ]
  },
  {
   "cell_type": "markdown",
   "metadata": {},
   "source": []
  },
  {
   "cell_type": "code",
   "execution_count": 90,
   "metadata": {
    "collapsed": false
   },
   "outputs": [
    {
     "data": {
      "image/png": "[encoded data removed]",
      "text/plain": [
       "<matplotlib.figure.Figure at 0x12088e590>"
      ]
     },
     "metadata": {},
     "output_type": "display_data"
    }
   ],
   "source": [
    "alpha = 11\n",
    "yorig = np.linspace(0.00,1,100)\n",
    "\n",
    "y2 = [(math.log(alpha*Y + math.e) - 1.)*(1./(math.log(alpha + math.e) - 1)) for Y in yorig ]\n",
    "y3 = [(math.e**(Y*(math.log(alpha + math.e) - 1) + 1 ) - math.e)/alpha for Y in yorig ]\n",
    "pyplot.plot(yorig, y3)\n",
    "pyplot.plot(yorig, y2)\n",
    "pyplot.axis('equal')\n",
    "pyplot.grid()"
   ]
  },
  {
   "cell_type": "code",
   "execution_count": 91,
   "metadata": {
    "collapsed": false
   },
   "outputs": [
    {
     "name": "stdout",
     "output_type": "stream",
     "text": [
      "(0.00390625, 0.001938026862393638, 2.015580937394969)\n"
     ]
    }
   ],
   "source": [
    "alpha = 11.\n",
    "res = 256\n",
    "dyo = 1./res\n",
    "\n",
    "dyn = 1. - (math.log(alpha*(1- dyo ) + math.e) - 1.)*(1./(math.log(alpha + math.e) - 1))\n",
    "\n",
    "print(dyo, dyn, (dyo/dyn))"
   ]
  },
  {
   "cell_type": "code",
   "execution_count": 92,
   "metadata": {
    "collapsed": false
   },
   "outputs": [
    {
     "name": "stdout",
     "output_type": "stream",
     "text": [
      "(0.0, 0.9999999999999999)\n"
     ]
    }
   ],
   "source": [
    "### print((math.log(alpha*0. + math.e) - 1)*(1/(math.log(alpha + math.e) - 1)), (math.log(alpha*1. + math.e) - 1)*(1/(math.log(alpha + math.e) - 1)))\n",
    "print((math.e**(0*(math.log(alpha + math.e) - 1) + 1 ) - math.e)/alpha, (math.e**(1.*(math.log(alpha + math.e) - 1) + 1 ) - math.e)/alpha)\n",
    "\n",
    "#(math.e**(0.*math.log(alpha + math.e)) - math.e)/alpha"
   ]
  },
  {
   "cell_type": "code",
   "execution_count": 93,
   "metadata": {
    "collapsed": true
   },
   "outputs": [],
   "source": [
    "dim = 2\n",
    "\n",
    "meshX = 128\n",
    "meshY = 64"
   ]
  },
  {
   "cell_type": "code",
   "execution_count": 94,
   "metadata": {
    "collapsed": false
   },
   "outputs": [],
   "source": [
    "# create mesh objects\n",
    "mesh = uw.mesh.FeMesh_Cartesian( elementType='Q1/dQ0', \n",
    "                                         elementRes=(meshX, meshY), \n",
    "                                           minCoord=(-1.,0.), \n",
    "                                           maxCoord=(1.,1.0))\n"
   ]
  },
  {
   "cell_type": "markdown",
   "metadata": {
    "collapsed": false
   },
   "source": [
    "#THis one for the rectangonal mesh\n",
    "alpha = 1.\n",
    "newys = []\n",
    "newxs = []\n",
    "for index, coord in enumerate(mesh.data):\n",
    "    y0 = coord[1]\n",
    "    x0 = abs(coord[0])\n",
    "    newy = (math.log(alpha*y0 + math.e) - 1)*(1/(math.log(alpha + math.e) - 1))\n",
    "    if coord[0] > 0:\n",
    "        newx = (math.e**(x0*(math.log((alpha/2.) + math.e) - 1) + 1 ) - math.e)/(alpha/2.)     \n",
    "    else:\n",
    "        newx = -1.*(math.e**(x0*(math.log((alpha/2.) + math.e) - 1) + 1 ) - math.e)/(alpha/2.)\n",
    "    newys.append(newy)\n",
    "    newxs.append(newx)\n",
    "    #print y0,newy"
   ]
  },
  {
   "cell_type": "code",
   "execution_count": 95,
   "metadata": {
    "collapsed": true
   },
   "outputs": [],
   "source": [
    "#THis one for the square mesh\n",
    "\n",
    "alpha = 11.\n",
    "newys = []\n",
    "newxs = []\n",
    "for index, coord in enumerate(mesh.data):\n",
    "    y0 = coord[1]\n",
    "    x0 = abs(coord[0])\n",
    "    newy = (math.log(alpha*y0 + math.e) - 1)*(1/(math.log(alpha + math.e) - 1))\n",
    "    newx = (math.log(alpha*x0 + math.e) - 1)*(1/(math.log(alpha + math.e) - 1))\n",
    "    newys.append(newy)\n",
    "    newxs.append(newx)"
   ]
  },
  {
   "cell_type": "code",
   "execution_count": 96,
   "metadata": {
    "collapsed": false
   },
   "outputs": [],
   "source": [
    "with mesh.deform_mesh():\n",
    "    mesh.data[:,1] = newys\n",
    "    mesh.data[:,0] = newxs\n"
   ]
  },
  {
   "cell_type": "code",
   "execution_count": 97,
   "metadata": {
    "collapsed": false
   },
   "outputs": [
    {
     "data": {
      "text/html": [
       "<img src='data:image/png;base64,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'>"
      ],
      "text/plain": [
       "<IPython.core.display.HTML object>"
      ]
     },
     "execution_count": 97,
     "metadata": {},
     "output_type": "execute_result"
    }
   ],
   "source": [
    "\n",
    "# gLucifer visualisation of mesh\n",
    "fig = glucifer.Figure( figsize=(800,400) )\n",
    "fig.append(glucifer.objects.Mesh(mesh ))\n",
    "fig.save_database('test.gldb')\n",
    "fig.show()\n"
   ]
  },
  {
   "cell_type": "markdown",
   "metadata": {
    "collapsed": true
   },
   "source": [
    "## Example 2: \n",
    "\n",
    "This refinement function is given in the Fenics documentation: http://fenicsproject.org/documentation/tutorial/prepro.html\n",
    "\n",
    "$y' = a + (b-a)(\\frac{y-a}{b-a})^s$\n",
    "\n",
    "Here I'm using the similar expression:\n",
    "\n",
    "$y' = 1. - \\left( a + (b-a)(\\frac{y-a}{b-a})^s \\right)$"
   ]
  },
  {
   "cell_type": "code",
   "execution_count": 98,
   "metadata": {
    "collapsed": false
   },
   "outputs": [
    {
     "data": {
      "text/plain": [
       "(0.0, 1.0, 0.0, 1.0)"
      ]
     },
     "execution_count": 98,
     "metadata": {},
     "output_type": "execute_result"
    },
    {
     "data": {
      "image/png": "[encoded data removed]",
      "text/plain": [
       "<matplotlib.figure.Figure at 0x1208a2f10>"
      ]
     },
     "metadata": {},
     "output_type": "display_data"
    }
   ],
   "source": [
    "s = 1.22\n",
    "a = 0.00\n",
    "b = 1.\n",
    "yorig = np.linspace(a,b,100)\n",
    "\n",
    "yp0 = [a + (b-a)*((Y - a)/(b-a))**(1./s) for Y in yorig ]\n",
    "yp1 = [1. - (a + (b-a)*((1 - Y)/(b-a))**s) for Y in yorig ]\n",
    "\n",
    "\n",
    "pyplot.plot(yorig, y2, linestyle='--')\n",
    "pyplot.plot(yorig, y3, linestyle='--')\n",
    "\n",
    "\n",
    "pyplot.plot(yorig, yp0, c= 'k')\n",
    "pyplot.plot(yorig, yp1)\n",
    "#pyplot.grid()\n",
    "pyplot.axis('equal')\n"
   ]
  },
  {
   "cell_type": "code",
   "execution_count": 99,
   "metadata": {
    "collapsed": false
   },
   "outputs": [
    {
     "data": {
      "text/plain": [
       "1.0"
      ]
     },
     "execution_count": 99,
     "metadata": {},
     "output_type": "execute_result"
    }
   ],
   "source": [
    "max(yp1)"
   ]
  },
  {
   "cell_type": "code",
   "execution_count": null,
   "metadata": {
    "collapsed": false
   },
   "outputs": [],
   "source": [
    "\n",
    "\n"
   ]
  },
  {
   "cell_type": "code",
   "execution_count": 100,
   "metadata": {
    "collapsed": true
   },
   "outputs": [],
   "source": [
    "mesh.reset()"
   ]
  },
  {
   "cell_type": "code",
   "execution_count": 101,
   "metadata": {
    "collapsed": true
   },
   "outputs": [],
   "source": [
    "#THis one for the square mesh\n",
    "s = 1.26\n",
    "a = 0.00\n",
    "b = 1.\n",
    "\n",
    "newys = []\n",
    "newxs = []\n",
    "for index, coord in enumerate(mesh.data):\n",
    "    y0 = coord[1]\n",
    "    x0 = abs(coord[0])\n",
    "    newy =(1. - (a + (b-a)*((1 - y0)/(b-a))**s))\n",
    "    newx =(1. - (a + (b-a)*((1 - x0)/(b-a))**s)) \n",
    "    newys.append(newy)\n",
    "    newxs.append(newx)"
   ]
  },
  {
   "cell_type": "code",
   "execution_count": 102,
   "metadata": {
    "collapsed": true
   },
   "outputs": [],
   "source": [
    "with mesh.deform_mesh():\n",
    "    mesh.data[:,1] = newys\n",
    "    mesh.data[:,0] = newxs"
   ]
  },
  {
   "cell_type": "code",
   "execution_count": 103,
   "metadata": {
    "collapsed": false
   },
   "outputs": [
    {
     "data": {
      "text/html": [
       "<img src='data:image/png;base64,iVBORw0KGgoAAAANSUhEUgAAAyAAAAGQCAIAAADZR5NjAAAMkElEQVR42u3cUY4cNwwE0EyQ+195cwHCjBvDuIt878uxHH0YglRrkv35+fn5CwCA7/nbXwEAgIAFACBgAQAIWAAACFgAAAIWAICABQCAgAUAIGABAAhYAAAIWAAAAhYAgIAFACBgAQAgYAEACFgAAAIWAAACFgCAgAUAIGABACBgAQAIWAAAAhYAAAIWAICABQAgYAEACFgAAAhYAAACFgCAgAUAgIAFAPBn/eOvgDifz8dfAtzx8/PjL4E4/gULAODL/AsWS36i/Xw+/+U3X/LHvvg/jm71v/3On9rk639g9H9//J+jS7/161//ZvkL1x2h/AsWAMCXfdS2yTu1fqiFS7xTJFIiZMmFq0Q4sZUSoRJhu6RECCUlQgCAL1MiJPDU+qEWLvFOkUiJkCUXrhLhxFZKhEqE7ZISIZSUCAEAvkyJkMBT64dauMQ7RSIlQpZcuEqEE1spESoRtktKhFBSIgQA+DIlQgJPrR9q4RLvFImUCFly4SoRTmylRKhE2C4pEUJJiRAAQMACAHg3PVgEnlpVA7jEO0UiPVgsuXD1YE1spQdLD1a7pAcLSkqEAABfpkRI4Kn1Qy1c4p0ikRIhSy5cJcKJrZQIlQjbJSVCKCkRAgAIWAAA76YHi8BTq2oAl3inSKQHiyUXrh6sia30YOnBapf0YEFJiRAAQMACAHg3PVgEnlpVA7jEO0UiPVgsuXD1YE1spQdLD1a7pAcLSkqEAAACFgDAu+nBIvDUqhrAJd4pEunBYsmFqwdrYis9WHqw2iU9WFBSIgQAELAAAN5NDxaBp1bVAC7xTpFIDxZLLlw9WBNb6cHSg9Uu6cGCkhIhAICABQDwbnqwCDy1qgZwiXeKRHqwWHLh6sGa2EoPlh6sdkkPFpSUCAEABCwAAAELAOAUTe4EnlptGXCJd4pEmtxZcuFqcp/YSpO7Jvd2SZM7lJQIAQAELACAd9ODReCpVTWAS7xTJNKDxZILVw/WxFZ6sPRgtUt6sKCkRAgAIGABAAhYAACnaHIn8NRqy4BLvFMk0uTOkgtXk/vEVprcNbm3S5rcoaRECAAgYAEAvJseLAJPraoBXOKdIpEeLJZcuHqwJrbSg6UHq13SgwUlJUIAAAELAEDAAgA4RZM7gadWWwZc4p0ikSZ3lly4mtwnttLkrsm9XdLkDiUlQgAAAQsA4N30YBF4alUN4BLvFIn0YLHkwtWDNbGVHiw9WO2SHiwoKRECAAhYAAACFgDAKZrcCTy12jLgEu8UiTS5s+TC1eQ+sZUmd03u7ZImdygpEQIACFgAAAIWAMApmtwJPLXaMuAS7xSJNLmz5MLV5D6xlSZ3Te7tkiZ3KCkRAgAIWAAAAhYAwCma3Ak8tdoy4BLvFIk0ubPkwtXkPrGVJndN7u2SJncoKRECAAhYAAACFgDAKZrcCTy12jLgEu8UiTS5s+TC1eQ+sZUmd03u7ZImdygpEQIACFgAAAIWAMApmtwJPLXaMuAS7xSJNLmz5MLV5D6xlSZ3Te7tkiZ3KCkRAgAIWAAAAhYAwCma3Ak8tdoy4BLvFIk0ubPkwtXkPrGVJndN7u2SJncoKRECAAhYAAACFgDAKZrcCTy12jLgEu8UiTS5s+TC1eQ+sZUmd03u7ZImdygpEQIACFgAAAIWAICABQDAc6YICTy1+l7hEu8UiUwRsuTCNUU4sZUpQlOE7ZIpQigpEQIACFgAAAIWAMApmtwJPLXaMuAS7xSJNLmz5MLV5D6xlSZ3Te7tkiZ3KCkRAgAIWAAAAhYAwCma3Ak8tdoy4BLvFIk0ubPkwtXkPrGVJndN7u2SJncoKRECAAhYAAACFgDAKZrcCTy12jLgEu8UiTS5s+TC1eQ+sZUmd03u7ZImdygpEQIACFgAAAIWAICABQDAc6YICTy1+l7hEu8UiUwRsuTCNUU4sZUpQlOE7ZIpQigpEQIACFgAAAIWAMApmtwJPLXaMuAS7xSJNLmz5MLV5D6xlSZ3Te7tkiZ3KCkRAgAIWAAAAhYAgIAFAMBzpggJPLX6XuES7xSJTBGy5MI1RTixlSlCU4TtkilCKCkRAgAIWAAAAhYAwCma3Ak8tdoy4BLvFIk0ubPkwtXkPrGVJndN7u2SJncoKRECAAhYAAACFgCAgAUAwHOmCAk8tfpe4RLvFIlMEbLkwjVFOLGVKUJThO2SKUIoKRECAAhYAAACFgCAgAUAwHOmCAk8tfpe4RLvFIlMEbLkwjVFOLGVKUJThO2SKUIoKRECAAhYAAACFgDAKZrcCTy12jLgEu8UiTS5s+TC1eQ+sZUmd03u7ZImdygpEQIACFgAAAIWAICABQDAc6YICTy1+l7hEu8UiUwRsuTCNUU4sZUpQlOE7ZIpQigpEQIACFgAAAIWAICABQDAc6YICTy1+l7hEu8UiUwRsuTCNUU4sZUpQlOE7ZIpQigpEQIACFgAAAIWAICABQDAc6YICTy1+l7hEu8UiUwRsuTCNUU4sZUpQlOE7ZIpQigpEQIACFgAAAIWAMApmtwJPLXaMuAS7xSJNLmz5MLV5D6xlSZ3Te7tkiZ3KCkRAgAIWAAAAhYAgIAFAMBzpggJPLX6XuES7xSJTBGy5MI1RTixlSlCU4TtkilCKCkRAgAIWAAAAhYAgIAFAMBzpggJPLX6XuES7xSJTBGy5MI1RTixlSlCU4TtkilCKCkRAgAIWAAAAhYAgIAFAMBzpggJPLX6XuES7xSJTBGy5MI1RTixlSlCU4TtkilCKCkRAgAIWAAAAhYAgIAFAMBzpggJPLX6XuES7xSJTBGy5MI1RTixlSlCU4TtkilCKCkRAgAIWAAAAhYAgIAFAMBzpggJPLX6XuES7xSJTBGy5MI1RTixlSlCU4TtkilCKCkRAgAIWAAAAhYAgIAFAMBzpggJPLX6XuES7xSJTBGy5MI1RTixlSlCU4TtkilCKCkRAgAIWAAAAhYAgIAFAMBzpggJPLX6XuES7xSJTBGy5MI1RTixlSlCU4TtkilCKCkRAgAIWAAAAhYAgIAFAMBzpggJPLX6XuES7xSJTBGy5MI1RTixlSlCU4TtkilCKCkRAgAIWAAAAhYAgIAFAMBzpggJPLX6XuES7xSJTBGy5MI1RTixlSlCU4TtkilCKCkRAgAIWAAAAhYAgIAFAICABQDwGj7TQOCpNVgEl3inSOQzDSy5cH2mYWIrn2nwmYZ2yWcaoKRECAAgYAEACFgAAAIWAADPmSIk8NTqe4VLvFMkMkXIkgvXFOHEVqYITRG2S6YIoaRECAAgYAEACFgAAAIWAADPmSIk8NTqe4VLvFMkMkXIkgvXFOHEVqYITRG2S6YIoaRECAAgYAEACFgAAAIWAADPmSIk8NTqe4VLvFMkMkXIkgvXFOHEVqYITRG2S6YIoaRECAAgYAEACFgAAAIWAAACFgDAa/hMA4Gn1mARXOKdIpHPNLDkwvWZhomtfKbBZxraJZ9pgJISIQCAgAUAIGABAAhYAAA8Z4qQwFOr7xUu8U6RyBQhSy5cU4QTW5kiNEXYLpkihJISIQCAgAUAIGABAAhYAAA8Z4qQwFOr7xUu8U6RyBQhSy5cU4QTW5kiNEXYLpkihJISIQCAgAUAIGABAAhYAAAIWAAAr+EzDQSeWoNFcIl3ikQ+08CSC9dnGia28pkGn2lol3ymAUpKhAAAAhYAgIAFACBgAQDwnClCAk+tvle4xDtFIlOELLlwTRFObGWK0BRhu2SKEEpKhAAAAhYAgIAFACBgAQAgYAEAvIbPNBB4ag0WwSXeKRL5TANLLlyfaZjYymcafKahXfKZBigpEQIACFgAAAIWAICABQDAc6YICTy1+l7hEu8UiUwRsuTCNUU4sZUpQlOE7ZIpQigpEQIACFgAAAIWAICABQCAgAUA8Bo+00DgqTVYBJd4p0jkMw0suXB9pmFiK59p8JmGdslnGqCkRAgAIGABAAhYAAACFgAAz5kiJPDU6nuFS7xTJDJFyJIL1xThxFamCE0RtkumCKGkRAgAIGABAAhYAAACFgAAAhYAwGv4TAOBp9ZgEVzinSKRzzSw5ML1mYaJrXymwWca2iWfaYCSEiEAgIAFACBgAQAIWAAACFgAAK/hMw1kHlyzRXCGdwoBCwAAJUIAAAELAEDAAgAQsAAAELAAAAQsAAABCwAAAQsAQMACABCwAAAQsAAABCwAAAELAEDAAgBAwAIAELAAAAQsAAAELAAAAQsAQMACAEDAAgAQsAAABCwAAAQsAAABCwBAwAIAELAAABCwAAAELAAAAQsAgN/2L5/QC23KuC/9AAAAAElFTkSuQmCC'>"
      ],
      "text/plain": [
       "<IPython.core.display.HTML object>"
      ]
     },
     "execution_count": 103,
     "metadata": {},
     "output_type": "execute_result"
    }
   ],
   "source": [
    "# gLucifer visualisation of mesh\n",
    "fig = glucifer.Figure( figsize=(800,400) )\n",
    "fig.append(glucifer.objects.Mesh( mesh))\n",
    "fig.save_database('test.gldb')\n",
    "fig.show()\n",
    "#"
   ]
  },
  {
   "cell_type": "code",
   "execution_count": 104,
   "metadata": {
    "collapsed": false
   },
   "outputs": [
    {
     "data": {
      "text/plain": [
       "1.26"
      ]
     },
     "execution_count": 104,
     "metadata": {},
     "output_type": "execute_result"
    }
   ],
   "source": [
    "s"
   ]
  },
  {
   "cell_type": "code",
   "execution_count": 105,
   "metadata": {
    "collapsed": false
   },
   "outputs": [
    {
     "name": "stdout",
     "output_type": "stream",
     "text": [
      "2.4966610978\n"
     ]
    }
   ],
   "source": [
    "\n",
    "s = 1.22 \n",
    "res = 64.\n",
    "dy = 1/res\n",
    "dyp =(1. - (a + (b-a)*((1 - (1 - dy)/(b-a))**s)))\n",
    "#print(dyp)\n",
    "print((dy)/(1-dyp))"
   ]
  },
  {
   "cell_type": "code",
   "execution_count": 106,
   "metadata": {
    "collapsed": false
   },
   "outputs": [
    {
     "name": "stdout",
     "output_type": "stream",
     "text": [
      "s is: 1.0 del y is: 1.0\n",
      "s is: 1.02 del y is: 1.08673486253\n",
      "s is: 1.04 del y is: 1.18099266143\n",
      "s is: 1.06 del y is: 1.28342589756\n",
      "s is: 1.08 del y is: 1.39474366635\n",
      "s is: 1.1 del y is: 1.51571656651\n",
      "s is: 1.12 del y is: 1.64718203454\n",
      "s is: 1.14 del y is: 1.79005014186\n",
      "s is: 1.16 del y is: 1.94530989482\n",
      "s is: 1.18 del y is: 2.11403608112\n",
      "s is: 1.2 del y is: 2.29739670999\n",
      "s is: 1.22 del y is: 2.4966610978\n",
      "s is: 1.24 del y is: 2.7132086549\n",
      "s is: 1.26 del y is: 2.94853843458\n",
      "s is: 1.28 del y is: 3.20427951036\n",
      "s is: 1.3 del y is: 3.48220225318\n"
     ]
    }
   ],
   "source": [
    "for i in np.arange(1,1.3,0.02):\n",
    "    dyp =(1. - (a + (b-a)*((1 - (1 - dy)/(b-a))**i)))\n",
    "    #print(dyp)\n",
    "    print(\"s is: \" + str(i) + \" del y is: \" + str((dy)/(1-dyp)))"
   ]
  },
  {
   "cell_type": "markdown",
   "metadata": {},
   "source": [
    "## circular refinement"
   ]
  },
  {
   "cell_type": "code",
   "execution_count": 107,
   "metadata": {
    "collapsed": true
   },
   "outputs": [],
   "source": [
    "mesh.reset()"
   ]
  },
  {
   "cell_type": "code",
   "execution_count": 108,
   "metadata": {
    "collapsed": false
   },
   "outputs": [
    {
     "data": {
      "text/html": [
       "<img src='data:image/png;base64,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'>"
      ],
      "text/plain": [
       "<IPython.core.display.HTML object>"
      ]
     },
     "execution_count": 108,
     "metadata": {},
     "output_type": "execute_result"
    }
   ],
   "source": [
    "# gLucifer visualisation of mesh\n",
    "fig = glucifer.Figure( figsize=(800,400) )\n",
    "fig.append(glucifer.objects.Mesh(mesh))\n",
    "fig.show()\n"
   ]
  },
  {
   "cell_type": "code",
   "execution_count": 109,
   "metadata": {
    "collapsed": false
   },
   "outputs": [],
   "source": [
    "def circ_attractor(mesh, a=0., b=1., s=1.3, radius = 0.3, origin = [0.,1.],target = 0.5, vcutoff=None, hcutoff= None):\n",
    "    #Get mesh info\n",
    "    dx = (mesh.maxCoord[0] - mesh.minCoord[0])/mesh.elementRes[0]\n",
    "    #Initialise vector for the attractor\n",
    "    r0 = np.array(origin)\n",
    "    newmeshdata = np.copy(mesh.data)\n",
    "    for index, coord in enumerate(mesh.data):\n",
    "        n0 = np.array(coord) #get node position vector\n",
    "        d0 = r0 - n0 #get vector between points  \n",
    "        dl = np.linalg.norm(d0)\n",
    "        #print(d0)\n",
    "        #Get unit vector for the displacement\n",
    "        if not dl == NaN:\n",
    "            du = d0/dl       \n",
    "        #Calc new mesh positions:\n",
    "        if (dl > (dx/2.)) and (dl < radius):\n",
    "            #Get weight\n",
    "            normpos = 1. - (dl/radius)\n",
    "            #print normpos\n",
    "            d1 = (1. - (a + (b-a)*((1 - normpos)/(b-a))**s))\n",
    "            w0 = d1 - normpos\n",
    "            #print w0\n",
    "            #print(normpos, d1, w0)\n",
    "            newmeshdata[index] = newmeshdata[index] + ((du/2.)*w0)\n",
    "    return newmeshdata\n",
    "#print(normpos, d1, w0)        "
   ]
  },
  {
   "cell_type": "code",
   "execution_count": 110,
   "metadata": {
    "collapsed": false
   },
   "outputs": [],
   "source": [
    "newcoords = circ_attractor(mesh, origin = [0.51,0.51], target = 2)"
   ]
  },
  {
   "cell_type": "code",
   "execution_count": 111,
   "metadata": {
    "collapsed": false
   },
   "outputs": [],
   "source": [
    "test = np.array([ nan,  nan])\n"
   ]
  },
  {
   "cell_type": "code",
   "execution_count": 112,
   "metadata": {
    "collapsed": false
   },
   "outputs": [],
   "source": [
    "with mesh.deform_mesh():\n",
    "    mesh.data[:] = newcoords    "
   ]
  },
  {
   "cell_type": "code",
   "execution_count": 113,
   "metadata": {
    "collapsed": false
   },
   "outputs": [
    {
     "data": {
      "text/html": [
       "<img src='data:image/png;base64,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'>"
      ],
      "text/plain": [
       "<IPython.core.display.HTML object>"
      ]
     },
     "execution_count": 113,
     "metadata": {},
     "output_type": "execute_result"
    }
   ],
   "source": [
    "# gLucifer visualisation of mesh\n",
    "fig = glucifer.Figure( figsize=(800,400) )\n",
    "fig.append(glucifer.objects.Mesh(mesh))\n",
    "\n",
    "fig.save_database('test.gldb')\n",
    "fig.show()"
   ]
  },
  {
   "cell_type": "markdown",
   "metadata": {},
   "source": [
    "## Cosine taper"
   ]
  },
  {
   "cell_type": "code",
   "execution_count": 114,
   "metadata": {
    "collapsed": false
   },
   "outputs": [],
   "source": [
    "mesh.reset()\n",
    "\n",
    "begin_taper = 0.8\n",
    "maxY = 1.\n",
    "\n",
    "#THis one for the square mesh\n",
    "s = 1.4\n",
    "a = 0.00\n",
    "b = 1.\n",
    "\n",
    "newys = []\n",
    "newxs = []\n",
    "for index, coord in enumerate(mesh.data):\n",
    "    y0 = coord[1]\n",
    "    x0 = abs(coord[0])\n",
    "    yp1 = 1. - (a + (b-a)*((1 - y0)/(b-a))**s)\n",
    "    \n",
    "    if y0 < begin_taper:\n",
    "        newy = yp1\n",
    "    else:\n",
    "        lamb = math.pi/(maxY - begin_taper)\n",
    "        taper = 0.5* ((math.cos(lamb*(y0 - begin_taper))) + 1.)\n",
    "        dy = (yp1 - y0)\n",
    "        newy = y0 + dy*taper\n",
    "\n",
    "    #newy =(1. - (a + (b-a)*((1 - y0)/(b-a))**s))\n",
    "    #newx =(1. - (a + (b-a)*((1 - x0)/(b-a))**s)) \n",
    "    newys.append(newy)\n",
    "    #newxs.append(newx)"
   ]
  },
  {
   "cell_type": "code",
   "execution_count": 115,
   "metadata": {
    "collapsed": false
   },
   "outputs": [],
   "source": [
    "with mesh.deform_mesh():\n",
    "    mesh.data[:,1] = newys"
   ]
  },
  {
   "cell_type": "code",
   "execution_count": 116,
   "metadata": {
    "collapsed": false
   },
   "outputs": [
    {
     "data": {
      "text/html": [
       "<img src='data:image/png;base64,iVBORw0KGgoAAAANSUhEUgAAAyAAAAGQCAIAAADZR5NjAAAJ5ElEQVR42u3cQY4bORAAwWpj/v9l+errEIIrJUbcvEAC9vJSEIv9vF6vAQDgff74XwAAYMACADBgAQAYsAAAMGABABiwAAAMWAAAGLAAAAxYAAAGLAAADFgAAAYsAAADFgCAAQsAAAMWAIABCwDAgAUAgAELAMCABQBgwAIAwIAFAGDAAgAwYAEAYMACADBgAQAYsAAADFgAABiwAAAMWAAABiwAAAxYAAC7fj76b/88jyMEgO/zer0MWKEDeJ7n3//yqz/K5XK5XC6P5J8+n7giBAAwYAEAGLAAAK7yfPQSmSV3APhKltxbB2B/UC6Xy+XyseS+zRUhAIABCwDAgAUAcBVL7gBAjiX31gHYH5TL5XK5fCy5b3NFCABgwAIAaLODBQDk2MFqHYDrbblcLpfLxw7WNleEAABv5ooQAMhxRdg6AL++yuVyuVw+rgi3uSIEAHgzV4QAQI4rwtYB+PVVLpfL5fJxRegXLL9gAQB+wfILllwul8vlcr9g+QULAPAL1n/kFSEAgAELAKDNDpZcLpfL5XI7WG9mBwsAqP+A8nFcEQIAvJkrQrlcLpfL5a4I/YIFANBmBwsAyPEl99YB+PVVLpfL5fJxRbjNFSEAgAELAKDNDhYAkGMHq3UArrflcrlcLh87WNtcEQIAGLAAANrsYAEAOXawWgfgelsul8vl8rGDtc0VIQCAAQsAoM0OFgCQYwerdQCut+VyuVwuHztY21wRAgAYsAAA2uxgAQA5drBaB+B6Wy6Xy+XysYO1zRUhAIABCwCgzQ4WAJBjB6t1AK635XK5XC4fO1jbXBECABiwAADa7GABADl2sFoH4HpbLpfL5fKxg7XNFSEAgAELAMCABQBwFUvuAECOJffWAdgflMvlcrl8LLlvc0UIAGDAAgBos4MFAOTYwWodgOttuVwul8vHDtY2V4QAAAYsAAADFgDAVSy5AwA5ltxbB2B/UC6Xy+XyseS+zRUhAIABCwDAgAUAcBVL7gBAjiX31gHYH5TL5XK5fCy5b3NFCABgwAIAMGABAFzFkjsAkGPJvXUA9gflcrlcLh9L7ttcEQIAGLAAAAxYAABXseQOAORYcm8dgP1BuVwul8vHkvs2V4QAAAYsAAADFgDAVSy5AwA5ltxbB2B/UC6Xy+XyseS+zRUhAIABCwDAgAUAcBVL7gBAjiX31gHYH5TL5XK5fCy5b3NFCABgwAIAMGABAFzFkjsAkGPJvXUA9gflcrlcLh9L7ttcEQIAGLAAAAxYAABXseQOAORYcm8dgP1BuVwul8vHkvs2V4QAAAYsAAADFgDAVSy5AwA5ltxbB2B/UC6Xy+XyseS+zRUhAIABCwDAgAUAYMACAOCcV4QAQI5XhK0D8EBDLpfL5fLxinCbK0IAAAMWAIABCwDgKpbcAYAcS+6tA7A/KJfL5XL5WHLf5ooQAMCABQBgwAIAMGABAHDOK0IAIMcrwtYBeKAhl8vlcvl4RbjNFSEAgAELAMCABQBwFUvuAECOJffWAdgflMvlcrl8LLlvc0UIAGDAAgAwYAEAGLAAADjnFSEAkOMVYesAPNCQy+VyuXy8ItzmihAAwIAFAGDAAgAwYAEAcM4rQgAgxyvC1gF4oCGXy+Vy+XhFuM0VIQCAAQsAwIAFAGDAAgDgnFeEAECOV4StA/BAQy6Xy+Xy8YpwmytCAAADFgCAAQsAwIAFAMA5rwgBgByvCFsH4IGGXC6Xy+XjFeE2V4QAAAYsAAADFgDAVSy5AwA5ltxbB2B/UC6Xy+XyseS+zRUhAIABCwDAgAUAYMACAOCcV4QAQI5XhK0D8EBDLpfL5fLxinCbK0IAAAMWAIABCwDAgAUAgAELACDDZxoAgByfaWgdgBewcrlcLpePzzRsc0UIAGDAAgAwYAEAGLAAADjnFSEAkOMVYesAPNCQy+VyuXy8ItzmihAAwIAFAGDAAgAwYAEAcM4rQgAgxyvC1gF4oCGXy+Vy+XhFuM0VIQCAAQsAwIAFAGDAAgDgnFeEAECOV4StA/BAQy6Xy+Xy8YpwmytCAAADFgCAAQsAwIAFAMA5rwgBgByvCFsH4IGGXC6Xy+XjFeE2V4QAAAYsAAADFgCAAQsAAAMWAECGzzQAADk+09A6AC9g5XK5XC4fn2nY5ooQAMCABQBgwAIAMGABAHDOK0IAIMcrwtYBeKAhl8vlcvl4RbjNFSEAgAELAMCABQBgwAIAwIAFAJDhMw0AQI7PNLQOwAtYuVwul8vHZxq2uSIEADBgAQAYsAAADFgAAJzzihAAyPGKsHUAHmjI5XK5XD5eEW5zRQgAYMACADBgAQAYsAAAMGABAGT4TAMAkOMzDa0D8AJWLpfL5fLxmYZtrggBAAxYAAAGLAAAAxYAAOe8IgQAcrwibB2ABxpyuVwul49XhNtcEQIAGLAAAAxYAAAGLAAADFgAABk+0wAA5PhMQ+sAvICVy+VyuXx8pmGbK0IAAAMWAIABCwDAgAUAgAELACDDZxoAgByfaWgdgBewcrlcLpePzzRsc0UIAGDAAgAwYAEAGLAAADBgAQBk+EwDAJDjMw2tA/ACVi6Xy+Xy8ZmGba4IAQAMWAAABiwAAAMWAADnvCIEAHK8ImwdgAcacrlcLpePV4TbXBECABiwAAAMWAAABiwAAAxYAAAZPtMAAOT4TEPrALyAlcvlcrl8fKZhmytCAAADFgCAAQsAwIAFAIABCwAgw2caAIAcn2loHYAXsHK5XC6Xj880bHNFCABgwAIAMGABABiwAAAwYAEAZPhMAwCQ4zMNrQPwAlYul8vl8vGZhm2uCAEADFgAAAYsAAADFgAABiwAgAyfaQAAcnymoXUAXsDK5XK5XD4+07DNFSEAgAELAMCABQBgwAIAwIAFAJDhMw0AQI7PNLQOwAtYuVwul8vHZxq2uSIEADBgAQAYsAAADFgAABiwAAAyfKYBAMjxmYbWAXgBK5fL5XL5+EzDNleEAAAGLAAAAxYAgAELAAADFgCAAQsA4Fv5DhYAkOM7WK0D8IkRuVwul8vHd7C2uSIEADBgAQAYsAAADFgAABiwAAAyfKYBAMjxmYbWAXgBK5fL5XL5+EzDNleEAAAGLAAAAxYAgAELAAADFgBAhs80AAA5PtPQOgAvYOVyuVwuH59p2OaKEADAgAUAYMACADBgAQBgwAIAMGABAHyr59O/M+FTWADwfT5+Pvn0fwAAQI0rQgAAAxYAgAELAMCABQCAAQsAwIAFAGDAAgDAgAUAYMACADBgAQBgwAIAMGABABiwAAAMWAAAGLAAAAxYAAAGLAAADFgAAAYsAAADFgAABiwAAAMWAIABCwAAAxYAgAELAMCABQBgwAIAwIAFAGDAAgAwYAEA8Ft/Aami/wUCRoW6AAAAAElFTkSuQmCC'>"
      ],
      "text/plain": [
       "<IPython.core.display.HTML object>"
      ]
     },
     "execution_count": 116,
     "metadata": {},
     "output_type": "execute_result"
    }
   ],
   "source": [
    "# gLucifer visualisation of mesh\n",
    "fig = glucifer.Figure( figsize=(800,400) )\n",
    "fig.append(glucifer.objects.Mesh(mesh))\n",
    "\n",
    "fig.save_database('test.gldb')\n",
    "fig.show()"
   ]
  },
  {
   "cell_type": "code",
   "execution_count": 117,
   "metadata": {
    "collapsed": false
   },
   "outputs": [
    {
     "data": {
      "image/png": "[encoded data removed]",
      "text/plain": [
       "<matplotlib.figure.Figure at 0x11390c150>"
      ]
     },
     "metadata": {},
     "output_type": "display_data"
    }
   ],
   "source": [
    "s = 1.5\n",
    "\n",
    "a = 0.00\n",
    "b = 1.\n",
    "yorig = np.linspace(a,b,100)\n",
    "\n",
    "begin_taper = 0.9\n",
    "\n",
    "#yp1 = [1. - (a + (b-a)*((1 - Y)/(b-a))**s) for Y in yorig ]\n",
    "#y2 = [i + amp*(gauss(i-cent,sig)) for i in yp1]\n",
    "\n",
    "y2 = []    \n",
    "for y0 in yorig:   \n",
    "    yp1 = 1. - (a + (b-a)*((1 - y0)/(b-a))**s)\n",
    "    #print(y0, yp1)\n",
    "    if y0 < begin_taper:\n",
    "        newy = yp1\n",
    "    else:\n",
    "        lamb = math.pi/(maxY - begin_taper)\n",
    "        taper = 0.5* ((math.cos(lamb*(y0 - begin_taper))) + 1.)\n",
    "        dy = (yp1 - y0)\n",
    "        \n",
    "        newy = y0 + dy *taper\n",
    "    y2.append(newy)  \n",
    "\n",
    "    \n",
    "#pyplot.plot(yorig, yorig)\n",
    "pyplot.plot(yorig, y2)\n",
    "pyplot.axis('equal')\n",
    "pyplot.grid()  "
   ]
  },
  {
   "cell_type": "code",
   "execution_count": 118,
   "metadata": {
    "collapsed": false
   },
   "outputs": [
    {
     "data": {
      "text/plain": [
       "(128, 64)"
      ]
     },
     "execution_count": 118,
     "metadata": {},
     "output_type": "execute_result"
    }
   ],
   "source": [
    "mesh.elementRes"
   ]
  },
  {
   "cell_type": "markdown",
   "metadata": {},
   "source": [
    "## Shishkin Mesh"
   ]
  },
  {
   "cell_type": "code",
   "execution_count": 119,
   "metadata": {
    "collapsed": true
   },
   "outputs": [],
   "source": [
    "mesh.reset()"
   ]
  },
  {
   "cell_type": "code",
   "execution_count": 120,
   "metadata": {
    "collapsed": false
   },
   "outputs": [],
   "source": [
    "def coarse_fine_division(mesh, axis=\"y\", refine_by=2., relax_by =0.5):\n",
    "    if axis == \"y\":\n",
    "        thisaxis = 1\n",
    "    else:\n",
    "        thisaxis = 0\n",
    "    width = (mesh.maxCoord[thisaxis]-mesh.minCoord[thisaxis])\n",
    "    dx = (mesh.maxCoord[thisaxis]-mesh.minCoord[thisaxis])/ (mesh.elementRes[thisaxis])\n",
    "    nx = mesh.elementRes[thisaxis]\n",
    "    dxf = dx/ refine_by\n",
    "    dxc = dx/ relax_by\n",
    "    i = 0\n",
    "    current_width = ((nx - i)  * dxf) + (i * dxc)\n",
    "    while current_width < width:\n",
    "        i += 1\n",
    "        current_width = ((nx - i)  * dxf) + (i * dxc)\n",
    "    #print current_width\n",
    "    #correct dxc so the total domain is preserved.\n",
    "    dxc = (width  - ((nx - i)  * dxf))/i\n",
    "    nxf = (nx - i) \n",
    "    nxc = i\n",
    "    nt = (nxf + nxc)\n",
    "    assert nt == nx\n",
    "    return nxf, dxf, nxc, dxc"
   ]
  },
  {
   "cell_type": "code",
   "execution_count": 121,
   "metadata": {
    "collapsed": false
   },
   "outputs": [],
   "source": [
    "nxf, dxf, nxc, dxc = coarse_fine_division(mesh, axis=\"x\", refine_by=2., relax_by =0.5)"
   ]
  },
  {
   "cell_type": "code",
   "execution_count": 122,
   "metadata": {
    "collapsed": false
   },
   "outputs": [],
   "source": [
    "#nxf*dxf "
   ]
  },
  {
   "cell_type": "code",
   "execution_count": 123,
   "metadata": {
    "collapsed": false
   },
   "outputs": [],
   "source": [
    "def shishkin_centre_arrange(mesh, nxf, dxf, nxc, dxc, axis=\"y\",centre = 0.5):\n",
    "    import itertools\n",
    "    if axis == \"y\":\n",
    "        thisaxis = 1\n",
    "    else:\n",
    "        thisaxis = 0\n",
    "    print thisaxis\n",
    "    ###################\n",
    "    #Get the number of coarse elements either side of fine elements\n",
    "    ###################\n",
    "    nr = nxc\n",
    "    nl = 0\n",
    "    print((nxf*dxf - abs(mesh.minCoord[thisaxis])))\n",
    "    if ((nxf*dxf - abs(mesh.minCoord[thisaxis])) > centre):\n",
    "        print(\"left edge\")\n",
    "        pass\n",
    "    else:\n",
    "        left_length = (nl*dxc) + 0.5*(dxf*nxf) - abs(mesh.minCoord[thisaxis])\n",
    "        while (left_length <  centre):\n",
    "            nl += 1\n",
    "            left_length = (nl*dxc) + 0.5*(dxf*nxf) - abs(mesh.minCoord[thisaxis])\n",
    "            #print(left_length)\n",
    "            if nl == nxc:\n",
    "                print(\"right edge\")\n",
    "                break\n",
    "        nr = nxc - nl\n",
    "    print(nl, nr, nxf)\n",
    "    #assert nr + nl + nxf == mesh.elementRes[thisaxis]\n",
    "    ###################\n",
    "    #return dictionary of new element mappings\n",
    "    ###################\n",
    "    lcoords = [(mesh.minCoord[thisaxis] + i*dxc) for i in range(nl+1)]\n",
    "    if lcoords:\n",
    "        #print(nl, lcoords[-1]/dxc)\n",
    "        ccoords =  [lcoords[-1] + i*dxf for i in range(1, nxf+1)]\n",
    "    else:\n",
    "        ccoords =  [(mesh.minCoord[thisaxis] + i*dxf) for i in range(0, nxf)]\n",
    "    rcoords = [ccoords[-1] + i*dxc for i in range(1, nr +1)]\n",
    "    if rcoords:\n",
    "        #rcoords.append(mesh.maxCoord[0])\n",
    "        pass\n",
    "    else:\n",
    "        #ccoords.append(mesh.maxCoord[0])\n",
    "        pass\n",
    "    newcoords = lcoords+ ccoords+ rcoords\n",
    "    #assert len(newcoords) == nx + 1 \n",
    "    origcoords = list(np.unique(mesh.data[:,thisaxis]))\n",
    "    dictionary = dict(itertools.izip(origcoords, newcoords))\n",
    "    assert len([x for x, y in collections.Counter(newcoords).items() if y > 1]) == 0 #checks agains multiple coordinates\n",
    "    return dictionary\n",
    "    \n"
   ]
  },
  {
   "cell_type": "code",
   "execution_count": 124,
   "metadata": {
    "collapsed": false
   },
   "outputs": [],
   "source": [
    "#nxf, dxf, nxc, dxc = coarse_fine_division(mesh, axis=\"x\", refine_by=2., relax_by =0.5)\n",
    "#d  =shishkin_centre_arrange(mesh,  nxf=nxf, dxf=dxf, nxc=nxc, dxc=dxc,axis=\"x\",centre = 0.)"
   ]
  },
  {
   "cell_type": "code",
   "execution_count": 125,
   "metadata": {
    "collapsed": false
   },
   "outputs": [],
   "source": [
    "def shishkin_deform(mesh, centre = 0.5, axis=\"y\", refine_by=2., relax_by =0.5):\n",
    "    if axis == \"y\":\n",
    "        thisaxis = 1\n",
    "    else:\n",
    "        thisaxis = 0\n",
    "    nxf, dxf, nxc, dxc, = coarse_fine_division(mesh,axis, refine_by=refine_by, relax_by =relax_by)\n",
    "    coorddict = shishkin_centre_arrange(mesh, nxf=nxf, dxf=dxf, nxc=nxc, dxc=dxc, axis=axis , centre=centre)\n",
    "    with mesh.deform_mesh():\n",
    "        for index, coord in enumerate(mesh.data):\n",
    "            key = mesh.data[index][thisaxis]\n",
    "            mesh.data[index][thisaxis] = coorddict[key]"
   ]
  },
  {
   "cell_type": "code",
   "execution_count": 126,
   "metadata": {
    "collapsed": true
   },
   "outputs": [],
   "source": [
    "mesh.reset()"
   ]
  },
  {
   "cell_type": "code",
   "execution_count": 127,
   "metadata": {
    "collapsed": false
   },
   "outputs": [
    {
     "name": "stdout",
     "output_type": "stream",
     "text": [
      "1\n",
      "0.5\n",
      "right edge\n",
      "(16, 0, 48)\n",
      "0\n",
      "-0.333333333333\n",
      "(32, 32, 64)\n"
     ]
    }
   ],
   "source": [
    "shishkin_deform(mesh, centre = 0.9, axis=\"y\", refine_by=1.5, relax_by =0.5)\n",
    "shishkin_deform(mesh, centre = 0.0, axis=\"x\", refine_by=1.5, relax_by =0.75)"
   ]
  },
  {
   "cell_type": "code",
   "execution_count": 129,
   "metadata": {
    "collapsed": false
   },
   "outputs": [
    {
     "data": {
      "text/html": [
       "<img src='data:image/png;base64,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'>"
      ],
      "text/plain": [
       "<IPython.core.display.HTML object>"
      ]
     },
     "execution_count": 129,
     "metadata": {},
     "output_type": "execute_result"
    }
   ],
   "source": [
    "# gLucifer visualisation of mesh\n",
    "fig = glucifer.Figure( figsize=(800,400) )\n",
    "fig.append(glucifer.objects.Mesh(mesh))\n",
    "\n",
    "fig.save_database('test.gldb')\n",
    "fig.show()"
   ]
  },
  {
   "cell_type": "code",
   "execution_count": 510,
   "metadata": {
    "collapsed": false
   },
   "outputs": [
    {
     "data": {
      "text/plain": [
       "(1.0, 1.0)"
      ]
     },
     "execution_count": 510,
     "metadata": {},
     "output_type": "execute_result"
    }
   ],
   "source": [
    "mesh.maxCoord"
   ]
  }
 ],
 "metadata": {
  "kernelspec": {
   "display_name": "Python 2",
   "language": "python",
   "name": "python2"
  },
  "language_info": {
   "codemirror_mode": {
    "name": "ipython",
    "version": 2
   },
   "file_extension": ".py",
   "mimetype": "text/x-python",
   "name": "python",
   "nbconvert_exporter": "python",
   "pygments_lexer": "ipython2",
   "version": "2.7.11"
  }
 },
 "nbformat": 4,
 "nbformat_minor": 0
}
