{
 "cells": [
  {
   "cell_type": "markdown",
   "metadata": {},
   "source": [
    "## Laplace"
   ]
  },
  {
   "cell_type": "code",
   "execution_count": null,
   "metadata": {
    "collapsed": true
   },
   "outputs": [],
   "source": []
  },
  {
   "cell_type": "code",
   "execution_count": 1,
   "metadata": {
    "collapsed": false
   },
   "outputs": [
    {
     "name": "stdout",
     "output_type": "stream",
     "text": [
      "Populating the interactive namespace from numpy and matplotlib\n"
     ]
    }
   ],
   "source": [
    "import underworld as uw\n",
    "from underworld import function as fn\n",
    "import glucifer\n",
    "%pylab inline\n",
    "import matplotlib.pylab as plt\n",
    "\n",
    "import slippy2 as sp\n",
    "import itertools"
   ]
  },
  {
   "cell_type": "code",
   "execution_count": 2,
   "metadata": {
    "collapsed": true
   },
   "outputs": [],
   "source": [
    "# Set number of dimensions.\n",
    "dim = 2\n",
    "# Set box size.\n",
    "boxHeight = 1.0\n",
    "boxLength = 2.0\n",
    "# Set the resolution.\n",
    "resx = 16\n",
    "resy = 8"
   ]
  },
  {
   "cell_type": "code",
   "execution_count": 3,
   "metadata": {
    "collapsed": true
   },
   "outputs": [],
   "source": [
    "mesh = uw.mesh.FeMesh_Cartesian( elementType = (\"Q1/dQ0\"), \n",
    "                                 elementRes  = (resx, resy), \n",
    "                                 minCoord    = (0., 0.), \n",
    "                                 maxCoord    = (boxLength, boxHeight))"
   ]
  },
  {
   "cell_type": "code",
   "execution_count": 4,
   "metadata": {
    "collapsed": false
   },
   "outputs": [
    {
     "data": {
      "text/html": [
       "<img src='data:image/png;base64,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'>"
      ],
      "text/plain": [
       "<IPython.core.display.HTML object>"
      ]
     },
     "execution_count": 4,
     "metadata": {},
     "output_type": "execute_result"
    }
   ],
   "source": [
    "# gLucifer visualisation of mesh\n",
    "fig = glucifer.Figure( figsize=(800,400) )\n",
    "fig.append(glucifer.objects.Mesh( mesh ))\n",
    "fig.show()"
   ]
  },
  {
   "cell_type": "code",
   "execution_count": 5,
   "metadata": {
    "collapsed": true
   },
   "outputs": [],
   "source": [
    "temperatureField = uw.mesh.MeshVariable( mesh=mesh, nodeDofCount=1 )\n",
    "temperatureField.data[:] = 0."
   ]
  },
  {
   "cell_type": "code",
   "execution_count": 6,
   "metadata": {
    "collapsed": true
   },
   "outputs": [],
   "source": [
    "jWalls = mesh.specialSets[\"MinJ_VertexSet\"] + mesh.specialSets[\"MaxJ_VertexSet\"]\n"
   ]
  },
  {
   "cell_type": "code",
   "execution_count": 7,
   "metadata": {
    "collapsed": true
   },
   "outputs": [],
   "source": [
    "tempBC = uw.conditions.DirichletCondition( variable=temperatureField, indexSetsPerDof=(jWalls,) )\n"
   ]
  },
  {
   "cell_type": "code",
   "execution_count": 8,
   "metadata": {
    "collapsed": true
   },
   "outputs": [],
   "source": [
    "\n",
    "# set bottom wall temperature bc\n",
    "for index in mesh.specialSets[\"MinJ_VertexSet\"]:\n",
    "    temperatureField.data[index] = 1.0\n",
    "# set top wall temperature bc\n",
    "for index in mesh.specialSets[\"MaxJ_VertexSet\"]:\n",
    "    temperatureField.data[index] = 0.0"
   ]
  },
  {
   "cell_type": "code",
   "execution_count": 9,
   "metadata": {
    "collapsed": false
   },
   "outputs": [
    {
     "data": {
      "text/html": [
       "<img src='data:image/png;base64,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'>"
      ],
      "text/plain": [
       "<IPython.core.display.HTML object>"
      ]
     },
     "execution_count": 9,
     "metadata": {},
     "output_type": "execute_result"
    }
   ],
   "source": [
    "# gLucifer visualisation of temperature field & mesh\n",
    "fig.append( glucifer.objects.Surface( mesh, temperatureField, colours=\"blue white red\" ) )\n",
    "fig.show()"
   ]
  },
  {
   "cell_type": "code",
   "execution_count": 10,
   "metadata": {
    "collapsed": true
   },
   "outputs": [],
   "source": [
    "heatequation = uw.systems.SteadyStateHeat(temperatureField=temperatureField, fn_diffusivity=1.0, conditions=[tempBC,])"
   ]
  },
  {
   "cell_type": "code",
   "execution_count": 11,
   "metadata": {
    "collapsed": true
   },
   "outputs": [],
   "source": [
    "\n",
    "# get the default heat equation solver\n",
    "heatsolver = uw.systems.Solver(heatequation)\n",
    "# solve\n",
    "heatsolver.solve()"
   ]
  },
  {
   "cell_type": "code",
   "execution_count": 12,
   "metadata": {
    "collapsed": false
   },
   "outputs": [
    {
     "data": {
      "text/html": [
       "<img src='data:image/png;base64,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'>"
      ],
      "text/plain": [
       "<IPython.core.display.HTML object>"
      ]
     },
     "execution_count": 12,
     "metadata": {},
     "output_type": "execute_result"
    }
   ],
   "source": [
    "# gLucifer visualisation of temperature field & mesh\n",
    "fig.show()"
   ]
  },
  {
   "cell_type": "code",
   "execution_count": 13,
   "metadata": {
    "collapsed": true
   },
   "outputs": [],
   "source": [
    "coordinate = fn.input()"
   ]
  },
  {
   "cell_type": "code",
   "execution_count": 14,
   "metadata": {
    "collapsed": false
   },
   "outputs": [],
   "source": [
    "fn_diffusivity = coordinate[1] + 0.2"
   ]
  },
  {
   "cell_type": "code",
   "execution_count": 15,
   "metadata": {
    "collapsed": false
   },
   "outputs": [],
   "source": [
    "heatequation = uw.systems.SteadyStateHeat(temperatureField=temperatureField, fn_diffusivity=fn_diffusivity, conditions=[tempBC,])"
   ]
  },
  {
   "cell_type": "code",
   "execution_count": 16,
   "metadata": {
    "collapsed": true
   },
   "outputs": [],
   "source": [
    "# get the default heat equation solver\n",
    "heatsolver = uw.systems.Solver(heatequation)\n",
    "# solve\n",
    "heatsolver.solve()"
   ]
  },
  {
   "cell_type": "code",
   "execution_count": 17,
   "metadata": {
    "collapsed": false
   },
   "outputs": [
    {
     "data": {
      "text/html": [
       "<img src='data:image/png;base64,iVBORw0KGgoAAAANSUhEUgAAAyAAAAGQCAIAAADZR5NjAAAQhElEQVR42u3dsZEURxiG4ekt4oAEyIJUMEkBixQwSYUsSADiAFoGVajOGUPq2b//b5635MjRc7rtKr6e3TvGnPOQJEnSuh6+BZIkSQaWJEmSgSVJkmRgSZIkycCSJEkysCRJkgwsSZIkGViSJEkGliRJkoElSZIkA0uSJMnAkiRJMrAkSZIMLEmSJBlYkiRJBpYkSZKBJUmSJANLkiTJwJIkSTKwJEmSZGBJkiQZWJIkSQaWJEmSDCxJkiQDS5IkycCSJEkysCRJkmRgSZIkGViSJEkGliRJkgwsSZKk2l61/urHGF5CSZLymnMaWMUvQeHAo9PpdDqdfo3eu/YDq/AZ1px0Op1Op9Mv0bvnM1iSJEmL8wTL3YJOp9Pp9O10A+u+A4tOp9PpdLoMLDqdTqfT6QbWM/IZLEmSpMV5gkWn0+l0On073cAysOh0Op1Op+tF3iKUJElanCdYdDqdTqfTt9MNLAOLTqfT6XS6DCw6nU6n0+kGloHl8NHpdDqdbmA1yofcJUmSFucJFp1Op9Pp9O307nmCJUmStDhPsOh0Op1Op2+nG1gGFp1Op9PpdBlYdDqdTqfTDSwDy+Gj0+l0Ot3AapQPuUuSJC3OEyw6nU6n0+nb6QaWgUWn0+l0Ol0GFp1Op9PpdAPrynwGS5IkaXGeYNHpdDqdTt9ON7AMLDqdTqfT6XqRtwglSZIW5wkWnU6n0+n07XQDy8Ci0+l0Op0uA4tOp9PpdLqBZWA5fHQ6nU6nG1iN8iF3SZKkxXmCRafT6XQ6fTvdwDKw6HQ6nU6ny8Ci0+l0Op1uYBlYDh+dTqfT6QZWo3zIXZIkaXGeYNHpdDqdTt9ON7AMLDqdTqfT6Xr53Ztzdl5XXnxJkgJrvU+OgCdYb96UvQDfvw86nU6n0+lX6N33ibcI6XQ6nU6nb6cbWAYWnU6n0+l0GVh0Op1Op9MNLAPL4aPT6XQ63cAysBw+Op1Op9PpBpaBRafT6XQ63cAysBw+Op1Op9MNLAPL4aPT6XQ6nX6L/GXPkiRJi/MEi06n0+l0+na6gWVg0el0Op1Ol4FFp9PpdDrdwLoyn8GSJElanCdYdDqdTqfTt9MNLAOLTqfT6XS6DCw6nU6n0+kG1pX5DJYkSdLiPMGi0+l0Op2+nW5gGVh0Op1Op9NlYNHpdDqdTjewDCyHj06n0+l0A8vAcvjodDqdTqcbWAYWnU6n0+l0A8vAcvjodDqdTjewDCyHj06n0+l0+i3yi0YlSZIW5wkWnU6n0+n07XQDy8Ci0+l0Op0uA4tOp9PpdLqBZWA5fHQ6nU6nG1gGlsNHp9PpdDrdwDKw6HQ6nU6nG1gGlsNHp9PpdLqBZWA5fHQ6nU6n02+RXzQqSZK0OE+w6HQ6nU6nb6d3zxMsSZKkxXmCRafT6XQ6fTvdwDKw6HQ6nU6ny8Ci0+l0Op1uYF363Ztzdl5XXnxJkgJrvU+OgCdY796VvQBfvw46nU6n0+lX6N33ibcI6XQ6nU6nb6cbWAYWnU6n0+l0GVh0Op1Op9MNLAPL4aPT6XQ63cAysBw+Op1Op9PpBpaBRafT6XQ63cAysBw+Op1Op9MNLAPL4aPT6XQ6nW5gGVh0Op1Op9NlYNHpdDqdTjewDCyHj06n0+l0uoFlYNHpdDqdTpeBRafT6XQ63cAysBw+Op1Op9MNLAPL4aPT6XQ6nS4Di06n0+l0uoFlYDl8dDqdTqcbWD16+BZIkiStzRMsOp1Op9Pp2+kGloFFp9PpdDpdBhadTqfT6XQDy8By+Oh0Op1ON7AMLIePTqfT6XS6gWVg0el0Op1ON7AMLIePTqfT6XQDy8By+Oh0Op1OpxtYBhadTqfT6XQZWHQ6nU6n0w0sA8vho9PpdDqdbmAZWHQ6nU6n02Vg0el0Op1ON7AMLIePTqfT6XQDy8By+Oh0Op1Op8vAotPpdDqdbmAZWA4fnU6n0+kGVo8evgWSJElr8wSLTqfT6XT6drqBVdzjQafT6XQ6PU03sIpzt6DT6XQ6PU83sAwsOp1Op9Ppevndm3N2XldefEmSAmu9T46AJ1gfPpS9AJ8/DzqdTqfT6Vfo3feJtwjpdDqdTqdvpxtYBhadTqfT6XQZWHQ6nU6n0w0sA8vho9PpdDrdwDKwHD46nU6n0+kGloFFp9PpdDrdwDKw/uQvMaDT6XQ6PU83sIpzt6DT6XQ6PU83sAwsOp1Op9PpMrDodDqdTqcbWAaWw0en0+l0uoFlYDl8dDqdTqfTDay2+fkOOp1Op9PzdAOrOHcLOp1Op9PzdAPLwKLT6XQ6nS4Di06n0+l0uoFlYDl8dDqdTqcbWAaWw0en0+l0Ot3AMrDodDqdTqcbWAaWw0en0+l0uoFlYDl8dDqdTqfTDSwDi06n0+l0ugwsOp1Op9PpBpaB9X/zlxjQ6XQ6nZ6nG1jFuVvQ6XQ6nZ6nG1gGFp1Op9PpdBlYdDqdTqfTDSwDy+Gj0+l0Ot3AMrAcPjqdTqfT6QZW2/x8B51Op9PpebqBVZy7BZ1Op9PpebqBZWDR6XQ6nU6XgUWn0+l0Ot3AMrAcPjqdTqfTDSwD63n5+CGdTqfT6Xm6gVWcuwWdTqfT6Xl696xTSZKkxXmCRafT6XQ6fTvdwDKw6HQ6nU6nK2tg+fghnU6n0+l5evfGnLPxV29dS5KUWOt9cgQ8wfrypewFeP9+0Ol0Op1Ov0Lvvk98BotOp9PpdPp2uoFlYNHpdDqdTpeBRafT6XQ63cAysE7y8x10Op1Op+fpBlZx7hZ0Op1Op+fpBlZx7hZ0Op1Op+fpBlZx7hZ0Op1Op+fpBpaBRafT6XQ6XQYWnU6n0+l0A8vAOsm743Q6nU6n5+kGVnHuFnQ6nU6n5+kGloFFp9PpdDpdWQPLw1s6nU6n0/N0A6s4dws6nU6n0/N0A8vAotPpdDqdrqyB5eEtnU6n0+l5uoFVnLsFnU6n0+l5uoFlYNHpdDqdTlfWwPLwlk6n0+n0PN3AKs7dgk6n0+n0PN3AKs7dgk6n0+n0PN3AKs7dgk6n0+n0PN3AMrDodDqdTqfLwKLT6XQ6nW5gGVgneXecTqfT6fQ83cAqzt2CTqfT6fQ83cAysOh0Op1OpytrYHl4S6fT6XR6nm5gFeduQafT6XR6nm5gFeduQafT6XR6nm5gFeduQafT6XR6nm5gGVh0Op1Op9OVNbA8vKXT6XQ6PU83sIpzt6DT6XQ6PU83sAwsOp1Op9PpyhpYHt7S6XQ6nZ6nG1jFuVvQ6XQ6nZ6nG1jFuVvQ6XQ6nZ6nG1jFuVvQ6XQ6nZ6nG1gGFp1Op9PpdL387s05O68rL74kSYG13idHwBOsb9/KXoC3bwedTqfT6fQr9O77xIfc6XQ6nU6nb6cbWMV5d5xOp9Pp9DzdwCrO3YJOp9Pp9DzdwDKw6HQ6nU6ny8Ci0+l0Op1uYBlYJ3l3nE6n0+n0PN3AKs7dgk6n0+n0PN3AKs7dgk6n0+n0PN3AKs7dgk6n0+n0PN3AMrDodDqdTqcra2B5eEun0+l0ep5uYBXnbkGn0+l0ep5uYBlYdDqdTqfTZWDR6XQ6nU43sAysk7w7TqfT6XR6nm5gFeduQafT6XR6nm5gGVh0Op1Op9OVNbA8vKXT6XQ6PU83sIpzt6DT6XQ6PU83sIpzt6DT6XQ6PU83sIpzt6DT6XQ6PU83sAwsOp1Op9PpyhpYHt7S6XQ6nZ6nG1jFPcak0+l0Op0ephtYxblb0Ol0Op2epxtYxblb0Ol0Op2epxtY1c1Jp9PpdDo9TTewivv9m06n0+l0eppuYBXnbkGn0+l0ep5uYBXnbkGn0+l0ep5uYBlYdDqdTqfTlTWwPLyl0+l0Oj1PN7CKc7eg0+l0Oj1PN7AMLDqdTqfT6TKw6HQ6nU6nG1gGlsNHp9PpdLqBZWA9Lx8/pNPpdDo9TzewinO3oNPpdDo9TzewinO3oNPpdDo9TzewinO3oNPpdDo9T2/emJ336RjDSyhJUl6z+fOz9k+w5o8fZfPu9Ws6nU6n0+lX6N33ibcI6XQ6nU6n76cbWAYWnU6n0+l0ZQ2sX7/odDqdTqen6QZWce4WdDqdTqfn6QaWgUWn0+l0Ol0GFp1Op9PpdAPLwHL46HQ6nU43sAwsh49Op9PpdLqB1TY/30Gn0+l0ep5uYBXnbkGn0+l0ep5uYBlYdDqdTqfTlTWwPLyl0+l0Oj1PN7CKc7eg0+l0Oj1PN7AMLDqdTqfT6TKw6HQ6nU6nG1gGlsNHp9PpdLqBZWA9Lx8/pNPpdDo9TzewinO3oNPpdDo9TzewDCw6nU6n0+kysOh0Op1OpxtYBpbDR6fT6XS6gWVgOXx0Op1Op9MNrLb5+Q46nU6n0/N0A6s4dws6nU6n0/N0A8vAotPpdDqdLgOLTqfT6XS6gWVgneTdcTqdTqfT83QDqzh3CzqdTqfT83QDy8Ci0+l0Op0uA4tOp9PpdLqBZWCd5N1xOp1Op9PzdAOrOHcLOp1Op9PzdAPLwKLT6XQ6nS4Di06n0+l0uoFlYDl8dDqdTqcbWAaWw0en0+l0Ot3Aapuf76DT6XQ6PU83sIpzt6DT6XQ6PU83sIpzt6DT6XQ6PU83sIpzt6DT6XQ6PU9v3phzNv7qx/ASSpKUV+t9cgQ8wZqfPpXNu48f6XQ6nU6nX6F33yc+g0Wn0+l0On0/3cAysOh0Op1Op8vAotPpdDqdbmAZWCf9/Emn0+l0Oj1NN7CKc7eg0+l0Oj1PN7AMLDqdTqfT6TKw6HQ6nU6nG1gG1kneHafT6XQ6PU83sIpzt6DT6XQ6PU83sAwsOp1Op9PpMrDodDqdTqcbWAbWSd4dp9PpdDo9TzewinO3oNPpdDo9TzewDCw6nU6n0+kysOh0Op1OpxtYBtZJ3h2n0+l0Oj1PN7CKc7eg0+l0Oj1PN7AMLDqdTqfT6TKw6HQ6nU6nG1gG1kneHafT6XQ6PU83sIpzt6DT6XQ6PU83sAwsOp1Op9PpMrDodDqdTqcbWAbWSd4dp9PpdDo9TzewinO3oNPpdDo9TzewDCw6nU6n0+kysOh0Op1OpxtYBpbDR6fT6XS6gWVgPS8fP6TT6XQ6PU83sIpzt6DT6XQ6PU83sAwsOp1Op9PpMrDodDqdTqcbWAbWSd4dp9PpdDo9TzewinO3oNPpdDo9TzewDCw6nU6n0+kysOh0Op1OpxtYBtZJ3h2n0+l0Oj1PN7CKc7eg0+l0Oj1PN7AMLDqdTqfT6TKw6HQ6nU6nG1gXNuacvf8HxvAqSpIUVvt90v1/QJIkabcevgWSJEkGliRJkoElSZJkYEmSJOk/9+pW/7d+5FCSpJLu9kN1r274Eo9x/P3nOI4r/vWi/+zT/tXX7+vf9us/5vz3n4v+9TmKr9/Xf6evf9zvVxZ4i1CSJMnAkiRJMrAkSZIMLEmSJBlYkiRJBpYkSZKBJUmSJANLkiSpohv+otHx9/efSZIkGVgLmraVJEnP7YZ/VZ23CCVJkgwsSZIkA0uSJOlWDZ9JkiRJWpsnWJIkSYu7108R/v0pBs/tJEl6/h/B9/nz93Grl3bO+eelveHPi0qSVLuubtUd3yL0+EqSJH/yGliSJEkGliRJkoElSZIkA0uSJMnA2iY/QihJki7tRr8Ha87p92BJkqQn9A+yxuMoOuef3AAAAABJRU5ErkJggg=='>"
      ],
      "text/plain": [
       "<IPython.core.display.HTML object>"
      ]
     },
     "execution_count": 17,
     "metadata": {},
     "output_type": "execute_result"
    }
   ],
   "source": [
    "# gLucifer visualisation of temperature field & mesh\n",
    "fig.show()"
   ]
  },
  {
   "cell_type": "code",
   "execution_count": null,
   "metadata": {
    "collapsed": false
   },
   "outputs": [],
   "source": []
  },
  {
   "cell_type": "code",
   "execution_count": 18,
   "metadata": {
    "collapsed": false
   },
   "outputs": [
    {
     "data": {
      "text/plain": [
       "array([ 0.   ,  0.125,  0.25 ,  0.375,  0.5  ,  0.625,  0.75 ,  0.875,  1.   ])"
      ]
     },
     "execution_count": 18,
     "metadata": {},
     "output_type": "execute_result"
    },
    {
     "data": {
      "image/png": "[encoded data removed]",
      "text/plain": [
       "<matplotlib.figure.Figure at 0x1114ffc10>"
      ]
     },
     "metadata": {},
     "output_type": "display_data"
    }
   ],
   "source": [
    "\n",
    "LWalls = mesh.specialSets[\"MinI_VertexSet\"] \n",
    "tout = temperatureField.evaluate(LWalls)\n",
    "\n",
    "plt.plot(tout)\n",
    "\n",
    "meshys = mesh.data\n",
    "\n",
    "axis = 1\n",
    "thisaxis = axis\n",
    "\n",
    "origcoords = np.linspace(mesh.minCoord[axis], mesh.maxCoord[axis], mesh.elementRes[axis] + 1)\n",
    "\n",
    "incoords = np.array(zip(np.zeros(origcoords.shape[0]), origcoords))\n",
    "outcoords = temperatureField.evaluate(incoords)[::-1]\n",
    "\n",
    "origxcoords = np.around(np.linspace(mesh.minCoord[thisaxis ], mesh.maxCoord[thisaxis ], mesh.elementRes[thisaxis ] + 1), 5)\n",
    "origxcoords"
   ]
  },
  {
   "cell_type": "code",
   "execution_count": null,
   "metadata": {
    "collapsed": true
   },
   "outputs": [],
   "source": []
  },
  {
   "cell_type": "code",
   "execution_count": 19,
   "metadata": {
    "collapsed": false
   },
   "outputs": [],
   "source": [
    "origxcoords = np.around(np.linspace(mesh.minCoord[thisaxis ], mesh.maxCoord[thisaxis ], mesh.elementRes[thisaxis ] + 1), 5)\n",
    "dictionary = dict(itertools.izip(origxcoords, outcoords))"
   ]
  },
  {
   "cell_type": "code",
   "execution_count": 20,
   "metadata": {
    "collapsed": true
   },
   "outputs": [],
   "source": [
    "#with mesh.deform_mesh():\n",
    "#    for index, coord in enumerate(mesh.data):\n",
    "#        mesh.data[index][thisaxis] = dictionary[np.around(coord,5)[thisaxis]]"
   ]
  },
  {
   "cell_type": "code",
   "execution_count": 21,
   "metadata": {
    "collapsed": false
   },
   "outputs": [
    {
     "data": {
      "text/html": [
       "<img src='data:image/png;base64,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'>"
      ],
      "text/plain": [
       "<IPython.core.display.HTML object>"
      ]
     },
     "execution_count": 21,
     "metadata": {},
     "output_type": "execute_result"
    }
   ],
   "source": [
    "fig.show()"
   ]
  },
  {
   "cell_type": "code",
   "execution_count": 46,
   "metadata": {
    "collapsed": true
   },
   "outputs": [],
   "source": [
    "mesh.reset()"
   ]
  },
  {
   "cell_type": "code",
   "execution_count": null,
   "metadata": {
    "collapsed": true
   },
   "outputs": [],
   "source": []
  },
  {
   "cell_type": "code",
   "execution_count": 23,
   "metadata": {
    "collapsed": false
   },
   "outputs": [],
   "source": [
    "#with mesh.deform_mesh():\n",
    "#    mesh.data[:,1] = temperatureField.evaluate(mesh.data)[::-1,0]"
   ]
  },
  {
   "cell_type": "code",
   "execution_count": 24,
   "metadata": {
    "collapsed": false
   },
   "outputs": [
    {
     "data": {
      "text/plain": [
       "array([ 0.   ,  0.   ,  0.   ,  0.   ,  0.   ,  0.   ,  0.   ,  0.   ,\n",
       "        0.   ,  0.   ,  0.   ,  0.   ,  0.   ,  0.   ,  0.   ,  0.   ,\n",
       "        0.   ,  0.125,  0.125,  0.125,  0.125,  0.125,  0.125,  0.125,\n",
       "        0.125,  0.125,  0.125,  0.125,  0.125,  0.125,  0.125,  0.125,\n",
       "        0.125,  0.125,  0.25 ,  0.25 ,  0.25 ,  0.25 ,  0.25 ,  0.25 ,\n",
       "        0.25 ,  0.25 ,  0.25 ,  0.25 ,  0.25 ,  0.25 ,  0.25 ,  0.25 ,\n",
       "        0.25 ,  0.25 ,  0.25 ,  0.375,  0.375,  0.375,  0.375,  0.375,\n",
       "        0.375,  0.375,  0.375,  0.375,  0.375,  0.375,  0.375,  0.375,\n",
       "        0.375,  0.375,  0.375,  0.375,  0.5  ,  0.5  ,  0.5  ,  0.5  ,\n",
       "        0.5  ,  0.5  ,  0.5  ,  0.5  ,  0.5  ,  0.5  ,  0.5  ,  0.5  ,\n",
       "        0.5  ,  0.5  ,  0.5  ,  0.5  ,  0.5  ,  0.625,  0.625,  0.625,\n",
       "        0.625,  0.625,  0.625,  0.625,  0.625,  0.625,  0.625,  0.625,\n",
       "        0.625,  0.625,  0.625,  0.625,  0.625,  0.625,  0.75 ,  0.75 ,\n",
       "        0.75 ,  0.75 ,  0.75 ,  0.75 ,  0.75 ,  0.75 ,  0.75 ,  0.75 ,\n",
       "        0.75 ,  0.75 ,  0.75 ,  0.75 ,  0.75 ,  0.75 ,  0.75 ,  0.875,\n",
       "        0.875,  0.875,  0.875,  0.875,  0.875,  0.875,  0.875,  0.875,\n",
       "        0.875,  0.875,  0.875,  0.875,  0.875,  0.875,  0.875,  0.875,\n",
       "        1.   ,  1.   ,  1.   ,  1.   ,  1.   ,  1.   ,  1.   ,  1.   ,\n",
       "        1.   ,  1.   ,  1.   ,  1.   ,  1.   ,  1.   ,  1.   ,  1.   ,  1.   ])"
      ]
     },
     "execution_count": 24,
     "metadata": {},
     "output_type": "execute_result"
    }
   ],
   "source": [
    "mesh.data[:,1]"
   ]
  },
  {
   "cell_type": "code",
   "execution_count": 25,
   "metadata": {
    "collapsed": false
   },
   "outputs": [
    {
     "data": {
      "text/plain": [
       "array([ 0.        ,  0.        ,  0.        ,  0.        ,  0.        ,\n",
       "        0.        ,  0.        ,  0.        ,  0.        ,  0.        ,\n",
       "        0.        ,  0.        ,  0.        ,  0.        ,  0.        ,\n",
       "        0.        ,  0.        ,  0.06184282,  0.06184295,  0.06184305,\n",
       "        0.06184314,  0.06184321,  0.06184361,  0.06184422,  0.06184466,\n",
       "        0.0618448 ,  0.06184486,  0.06184502,  0.06184516,  0.06184511,\n",
       "        0.06184489,  0.06184467,  0.06184455,  0.06184445,  0.13132062,\n",
       "        0.13132102,  0.13132136,  0.13132163,  0.13132189,  0.13132262,\n",
       "        0.13132371,  0.1313246 ,  0.13132497,  0.13132507,  0.13132526,\n",
       "        0.13132545,  0.13132539,  0.13132507,  0.13132469,  0.13132449,\n",
       "        0.1313244 ,  0.21058472,  0.21058527,  0.21058575,  0.21058632,\n",
       "        0.21058694,  0.21058793,  0.21058924,  0.2105904 ,  0.21059102,\n",
       "        0.21059122,  0.21059137,  0.21059153,  0.21059143,  0.21059108,\n",
       "        0.21059063,  0.21059029,  0.21059021,  0.30284397,  0.30284445,\n",
       "        0.30284477,  0.30284558,  0.30284667,  0.30284786,  0.30284911,\n",
       "        0.3028503 ,  0.30285107,  0.30285134,  0.30285145,  0.30285152,\n",
       "        0.30285138,  0.30285101,  0.30285057,  0.30285004,  0.30284983,\n",
       "        0.41319416,  0.41319451,  0.41319451,  0.41319542,  0.41319675,\n",
       "        0.41319803,  0.41319915,  0.41320021,  0.41320095,  0.41320124,\n",
       "        0.41320128,  0.41320122,  0.41320104,  0.4132007 ,  0.41320031,\n",
       "        0.41319984,  0.41319943,  0.55045966,  0.55045993,  0.55046008,\n",
       "        0.55046083,  0.55046195,  0.55046305,  0.55046401,  0.55046485,\n",
       "        0.55046542,  0.55046568,  0.55046566,  0.55046545,  0.55046524,\n",
       "        0.55046511,  0.55046484,  0.55046459,  0.55046446,  0.73200483,\n",
       "        0.73200496,  0.73200516,  0.73200556,  0.73200615,  0.73200679,\n",
       "        0.73200738,  0.73200788,  0.73200821,  0.73200837,  0.73200834,\n",
       "        0.73200816,  0.732008  ,  0.73200802,  0.73200792,  0.7320078 ,\n",
       "        0.73200776,  1.        ,  1.        ,  1.        ,  1.        ,\n",
       "        1.        ,  1.        ,  1.        ,  1.        ,  1.        ,\n",
       "        1.        ,  1.        ,  1.        ,  1.        ,  1.        ,\n",
       "        1.        ,  1.        ,  1.        ])"
      ]
     },
     "execution_count": 25,
     "metadata": {},
     "output_type": "execute_result"
    }
   ],
   "source": [
    "temperatureField.evaluate(mesh.data)[::-1,0]"
   ]
  },
  {
   "cell_type": "code",
   "execution_count": 26,
   "metadata": {
    "collapsed": false
   },
   "outputs": [],
   "source": [
    "#mesh.data[index][thisaxis]"
   ]
  },
  {
   "cell_type": "code",
   "execution_count": 42,
   "metadata": {
    "collapsed": false
   },
   "outputs": [
    {
     "data": {
      "text/plain": [
       "array([ 0.        ,  0.        ,  0.        ,  0.        ,  0.        ,\n",
       "        0.        ,  0.        ,  0.        ,  0.        ,  0.        ,\n",
       "        0.        ,  0.        ,  0.        ,  0.        ,  0.        ,\n",
       "        0.        ,  0.        ,  0.06184282,  0.06184295,  0.06184305,\n",
       "        0.06184314,  0.06184321,  0.06184361,  0.06184422,  0.06184466,\n",
       "        0.0618448 ,  0.06184486,  0.06184502,  0.06184516,  0.06184511,\n",
       "        0.06184489,  0.06184467,  0.06184455,  0.06184445,  0.13132062,\n",
       "        0.13132102,  0.13132136,  0.13132163,  0.13132189,  0.13132262,\n",
       "        0.13132371,  0.1313246 ,  0.13132497,  0.13132507,  0.13132526,\n",
       "        0.13132545,  0.13132539,  0.13132507,  0.13132469,  0.13132449,\n",
       "        0.1313244 ,  0.21058472,  0.21058527,  0.21058575,  0.21058632,\n",
       "        0.21058694,  0.21058793,  0.21058924,  0.2105904 ,  0.21059102,\n",
       "        0.21059122,  0.21059137,  0.21059153,  0.21059143,  0.21059108,\n",
       "        0.21059063,  0.21059029,  0.21059021,  0.30284397,  0.30284445,\n",
       "        0.30284477,  0.30284558,  0.30284667,  0.30284786,  0.30284911,\n",
       "        0.3028503 ,  0.30285107,  0.30285134,  0.30285145,  0.30285152,\n",
       "        0.30285138,  0.30285101,  0.30285057,  0.30285004,  0.30284983,\n",
       "        0.41319416,  0.41319451,  0.41319451,  0.41319542,  0.41319675,\n",
       "        0.41319803,  0.41319915,  0.41320021,  0.41320095,  0.41320124,\n",
       "        0.41320128,  0.41320122,  0.41320104,  0.4132007 ,  0.41320031,\n",
       "        0.41319984,  0.41319943,  0.55045966,  0.55045993,  0.55046008,\n",
       "        0.55046083,  0.55046195,  0.55046305,  0.55046401,  0.55046485,\n",
       "        0.55046542,  0.55046568,  0.55046566,  0.55046545,  0.55046524,\n",
       "        0.55046511,  0.55046484,  0.55046459,  0.55046446,  0.73200483,\n",
       "        0.73200496,  0.73200516,  0.73200556,  0.73200615,  0.73200679,\n",
       "        0.73200738,  0.73200788,  0.73200821,  0.73200837,  0.73200834,\n",
       "        0.73200816,  0.732008  ,  0.73200802,  0.73200792,  0.7320078 ,\n",
       "        0.73200776,  1.        ,  1.        ,  1.        ,  1.        ,\n",
       "        1.        ,  1.        ,  1.        ,  1.        ,  1.        ,\n",
       "        1.        ,  1.        ,  1.        ,  1.        ,  1.        ,\n",
       "        1.        ,  1.        ,  1.        ])"
      ]
     },
     "execution_count": 42,
     "metadata": {},
     "output_type": "execute_result"
    }
   ],
   "source": [
    "dc = temperatureField.evaluate(mesh.data)[::-1,0].copy()\n",
    "dc "
   ]
  },
  {
   "cell_type": "code",
   "execution_count": 53,
   "metadata": {
    "collapsed": true
   },
   "outputs": [],
   "source": [
    "with mesh.deform_mesh():\n",
    "    mesh.data[:,1] = dc"
   ]
  },
  {
   "cell_type": "code",
   "execution_count": 54,
   "metadata": {
    "collapsed": false
   },
   "outputs": [
    {
     "data": {
      "text/html": [
       "<img src='data:image/png;base64,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'>"
      ],
      "text/plain": [
       "<IPython.core.display.HTML object>"
      ]
     },
     "execution_count": 54,
     "metadata": {},
     "output_type": "execute_result"
    }
   ],
   "source": [
    "fig.show()"
   ]
  },
  {
   "cell_type": "code",
   "execution_count": null,
   "metadata": {
    "collapsed": true
   },
   "outputs": [],
   "source": []
  }
 ],
 "metadata": {
  "kernelspec": {
   "display_name": "Python 2",
   "language": "python",
   "name": "python2"
  },
  "language_info": {
   "codemirror_mode": {
    "name": "ipython",
    "version": 2
   },
   "file_extension": ".py",
   "mimetype": "text/x-python",
   "name": "python",
   "nbconvert_exporter": "python",
   "pygments_lexer": "ipython2",
   "version": "2.7.11"
  }
 },
 "nbformat": 4,
 "nbformat_minor": 0
}
