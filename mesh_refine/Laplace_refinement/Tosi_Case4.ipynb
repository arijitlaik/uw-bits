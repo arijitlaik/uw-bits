{
 "cells": [
  {
   "cell_type": "markdown",
   "metadata": {
    "collapsed": true
   },
   "source": [
    "Viscoplastic thermal convection in a 2-D square box: Tosi et al. 2015\n",
    "=====\n",
    "\n",
    "This series of notebooks generates benchmark models from the Tosi et al. (2015) in Underworld2. The Underworld2 results are then directly compared to the results from Table 2 of Tosi et al. (2015) the paper for each case. The notebooks are broken into a general notebook for reproducing the models from scratch and 5 post-analysis notebooks which look at the results Underworld2 gives for each case after running to equilibrium. \n",
    "\n",
    "Case 4: Mobile lid (larger viscosity contrast)\n",
    "-------\n",
    "\n",
    "This case has a temperatureand strain rate-dependent nonlinear rheology, like case 2, but with a larger value for the depth-dependent viscosity contrast ($\\Delta \\eta_y$).\n",
    "The parameters used for case 4 are: $Ra = 10^2$, $\\Delta \\eta_T = 10^5$, $\\eta^* = 10^{-3}$, $\\Delta \\eta_z = 10$ and $\\sigma_\\gamma = 1$.\n",
    "\n",
    "\n",
    "References\n",
    "-----\n",
    "\n",
    "1. Tosi, Nicola and Stein, Claudia and Noack, Lena and H&uuml;ttig, Christian and Maierov&aacute;, Petra and Samuel, Henri and Davies, DR and Wilson, CR and Kramer, SC and Thieulot, Cedric and others. 2015. _A community benchmark for viscoplastic thermal convection in a 2-D square box_.\n",
    "\n"
   ]
  },
  {
   "cell_type": "markdown",
   "metadata": {},
   "source": [
    "Load python functions needed for underworld. Some additional python functions from os, math and numpy used later on."
   ]
  },
  {
   "cell_type": "code",
   "execution_count": 326,
   "metadata": {
    "collapsed": false
   },
   "outputs": [],
   "source": [
    "%matplotlib inline\n",
    "import underworld as uw\n",
    "import math\n",
    "from underworld import function as fn\n",
    "import glucifer\n",
    "import matplotlib.pyplot as pyplot\n",
    "import matplotlib.pylab as pylab\n",
    "import time\n",
    "import numpy as np\n",
    "import os"
   ]
  },
  {
   "cell_type": "markdown",
   "metadata": {},
   "source": [
    "Set physical constants and parameters, including the Rayleigh number (*Ra*) and viscosity constants ($\\eta^*$ and $\\eta_T$) which are common to all Tosi et al cases."
   ]
  },
  {
   "cell_type": "code",
   "execution_count": 327,
   "metadata": {
    "collapsed": false
   },
   "outputs": [],
   "source": [
    "RA  = 1e2        # Rayleigh number\n",
    "ETA_T = 1e5      # common viscosity constant\n",
    "TS  = 0          # surface temperature\n",
    "TB  = 1          # bottom boundary temperature (melting point)\n",
    "ETA0 = 1e-3      # viscosity constant eta^* in Tosi et al\n",
    "TMAX = 3.0\n",
    "IMAX = 1000"
   ]
  },
  {
   "cell_type": "markdown",
   "metadata": {},
   "source": [
    "Select case 2 of Tosi et al (2015) and set constants as required."
   ]
  },
  {
   "cell_type": "code",
   "execution_count": 328,
   "metadata": {
    "collapsed": false
   },
   "outputs": [],
   "source": [
    "CASE = 4\n",
    "ETA_Y = 10.\n",
    "YSTRESS = 1."
   ]
  },
  {
   "cell_type": "markdown",
   "metadata": {},
   "source": [
    "Set input and output file directories"
   ]
  },
  {
   "cell_type": "code",
   "execution_count": 329,
   "metadata": {
    "collapsed": false
   },
   "outputs": [],
   "source": [
    "# input file directory\n",
    "inputPath  = 'TosiInput/case' + str(CASE) + \"/\"\n",
    "# output files\n",
    "outputPath = 'TosiOutput/'\n",
    "filePath   = outputPath+'files'\n",
    "# make directories if they don't exist\n",
    "if not os.path.isdir(outputPath):\n",
    "    os.makedirs(outputPath)\n",
    "if not os.path.isdir(filePath):\n",
    "    os.makedirs(filePath)"
   ]
  },
  {
   "cell_type": "markdown",
   "metadata": {},
   "source": [
    "Create mesh and finite element variables\n",
    "------\n",
    "\n",
    "Set up mesh and field variables that are solved on the mesh."
   ]
  },
  {
   "cell_type": "code",
   "execution_count": 330,
   "metadata": {
    "collapsed": true
   },
   "outputs": [],
   "source": [
    "res = 32\n",
    "mesh = uw.mesh.FeMesh_Cartesian( elementType = (\"Q1/dQ0\"), \n",
    "                                 elementRes  = (res, res), \n",
    "                                 minCoord    = (0., 0.), \n",
    "                                 maxCoord    = (1., 1.))\n",
    "\n",
    "velocityField       = uw.mesh.MeshVariable( mesh=mesh,         nodeDofCount=2 )\n",
    "pressureField       = uw.mesh.MeshVariable( mesh=mesh.subMesh, nodeDofCount=1 )\n",
    "temperatureField    = uw.mesh.MeshVariable( mesh=mesh,         nodeDofCount=1 )\n",
    "temperatureDotField = uw.mesh.MeshVariable( mesh=mesh,         nodeDofCount=1 )"
   ]
  },
  {
   "cell_type": "code",
   "execution_count": 331,
   "metadata": {
    "collapsed": false
   },
   "outputs": [],
   "source": [
    "dummyres = 128\n",
    "dummymesh = uw.mesh.FeMesh_Cartesian( elementType = (\"Q1/dQ0\"), \n",
    "                                 elementRes  = (dummyres, dummyres), \n",
    "                                 minCoord    = (0., 0.), \n",
    "                                 maxCoord    = (1., 1.))\n",
    "\n",
    "dummyvelocityField       = uw.mesh.MeshVariable( mesh=dummymesh,         nodeDofCount=2 )\n",
    "dummypressureField       = uw.mesh.MeshVariable( mesh=dummymesh.subMesh, nodeDofCount=1 )\n",
    "dummytemperatureField    = uw.mesh.MeshVariable( mesh=dummymesh,         nodeDofCount=1 )\n",
    "dummytemperatureDotField = uw.mesh.MeshVariable( mesh=dummymesh,         nodeDofCount=1 )"
   ]
  },
  {
   "cell_type": "markdown",
   "metadata": {},
   "source": [
    "Set initial conditions and boundary conditions\n",
    "----------\n",
    "\n",
    "Load all variable fields and summary data with data from previously run cases."
   ]
  },
  {
   "cell_type": "code",
   "execution_count": 332,
   "metadata": {
    "collapsed": false
   },
   "outputs": [],
   "source": [
    "# load fields\n",
    "dummytemperatureField.load(    inputPath+'temperatureField.h5' )\n",
    "dummytemperatureDotField.load( inputPath+'temperatureDotField.h5' )\n",
    "dummypressureField.load(       inputPath+'pressureField.h5')\n",
    "dummyvelocityField.load(       inputPath+'velocityField.h5')\n",
    "\n",
    "# load past iterations of summary data\n",
    "data = np.loadtxt( inputPath+'Summary.txt', unpack=True )\n",
    "stepsVal = data[0].tolist()\n",
    "timeVal = data[1].tolist()\n",
    "viscdisVal = data[2].tolist()\n",
    "nu0Val = data[3].tolist()\n",
    "nu1Val = data[4].tolist()\n",
    "Avg_tempVal = data[5].tolist()\n",
    "vrmsVal = data[6].tolist()\n",
    "Rms_surfVal = data[7].tolist()\n",
    "Max_vx_surfVal = data[8].tolist()\n",
    "GravworkVal = data[9].tolist()\n",
    "etamaxVal = data[10].tolist()\n",
    "etaminVal = data[11].tolist() "
   ]
  },
  {
   "cell_type": "code",
   "execution_count": 333,
   "metadata": {
    "collapsed": false
   },
   "outputs": [
    {
     "data": {
      "text/plain": [
       "10"
      ]
     },
     "execution_count": 333,
     "metadata": {},
     "output_type": "execute_result"
    }
   ],
   "source": [
    "len(nu0Val)"
   ]
  },
  {
   "cell_type": "markdown",
   "metadata": {},
   "source": [
    "## Define a mesh deformation field using the temp. gradient at steady state"
   ]
  },
  {
   "cell_type": "code",
   "execution_count": 361,
   "metadata": {
    "collapsed": false
   },
   "outputs": [],
   "source": [
    "mesh.reset()"
   ]
  },
  {
   "cell_type": "code",
   "execution_count": 362,
   "metadata": {
    "collapsed": true
   },
   "outputs": [],
   "source": [
    "iWalls = dummymesh.specialSets[\"MinI_VertexSet\"] + dummymesh.specialSets[\"MaxI_VertexSet\"]\n",
    "jWalls = dummymesh.specialSets[\"MinJ_VertexSet\"] + dummymesh.specialSets[\"MaxJ_VertexSet\"]\n",
    "freeslipBC = uw.conditions.DirichletCondition( variable      = velocityField, \n",
    "                                               indexSetsPerDof = (iWalls, jWalls) )\n",
    "tempBC     = uw.conditions.DirichletCondition( variable      = temperatureField, \n",
    "                                               indexSetsPerDof = (jWalls,) )"
   ]
  },
  {
   "cell_type": "code",
   "execution_count": 336,
   "metadata": {
    "collapsed": false
   },
   "outputs": [
    {
     "data": {
      "text/plain": [
       "(0.99996235392618105, 1.999962353926181)"
      ]
     },
     "execution_count": 336,
     "metadata": {},
     "output_type": "execute_result"
    }
   ],
   "source": [
    "intensity = 8.\n",
    "\n",
    "testfn0 = fn.math.abs(fn.math.dot((fn.math.abs(dummytemperatureField.fn_gradient[0]) + \\\n",
    "                                    fn.math.abs(dummytemperatureField.fn_gradient[1]))**2, 1.))\n",
    "\n",
    "testfn1 = (1. - testfn0 /(testfn0.evaluate(dummymesh).max() - \\\n",
    "    testfn0.evaluate(dummymesh).min())) + 1.\n",
    "\n",
    "#testfn *= testfn\n",
    "testfn1.evaluate(dummymesh).min(), testfn1.evaluate(dummymesh).max()"
   ]
  },
  {
   "cell_type": "code",
   "execution_count": 337,
   "metadata": {
    "collapsed": false
   },
   "outputs": [
    {
     "data": {
      "text/plain": [
       "(1.0, 2.0)"
      ]
     },
     "execution_count": 337,
     "metadata": {},
     "output_type": "execute_result"
    }
   ],
   "source": [
    "#coord = fn.coord()\n",
    "testfn2 = fn.math.sqrt((fn.coord()[0] -(0.5))**2 + (fn.coord()[1] -(0.5))**2)\n",
    "\n",
    "testfn3 = (1. - fn.misc.max(0., fn.math.cos((2*3.142*0.45)*testfn2))) + 1.\n",
    "\n",
    "#testfn = testfn**4\n",
    "\n",
    "testfn3.evaluate(dummymesh).min(), testfn3.evaluate(dummymesh).max()"
   ]
  },
  {
   "cell_type": "code",
   "execution_count": 338,
   "metadata": {
    "collapsed": false
   },
   "outputs": [],
   "source": [
    "#testfn = (testfn1 + 1.5*testfn3)\n",
    "testfn = (testfn2)\n",
    "\n",
    "\n",
    "#testfn = (testfn /(testfn.evaluate(dummymesh).max() - \\\n",
    "#    testfn.evaluate(dummymesh).min())) - testfn.evaluate(dummymesh).min()"
   ]
  },
  {
   "cell_type": "code",
   "execution_count": 339,
   "metadata": {
    "collapsed": false
   },
   "outputs": [
    {
     "data": {
      "text/plain": [
       "(0.0, 0.70710678118654757)"
      ]
     },
     "execution_count": 339,
     "metadata": {},
     "output_type": "execute_result"
    }
   ],
   "source": [
    "testfn = testfn\n",
    "testfn.evaluate(dummymesh).min(), testfn.evaluate(dummymesh).max()"
   ]
  },
  {
   "cell_type": "code",
   "execution_count": 340,
   "metadata": {
    "collapsed": false
   },
   "outputs": [],
   "source": [
    "#testfn = testfn - testfn.evaluate(dummymesh).min()\n",
    "#testfn = (testfn * intensity) + 1.\n",
    "#testfn.evaluate(dummymesh).min(), testfn.evaluate(dummymesh).max()\n"
   ]
  },
  {
   "cell_type": "code",
   "execution_count": 341,
   "metadata": {
    "collapsed": false
   },
   "outputs": [],
   "source": [
    "circleFn = (fn.coord()[0] - 0.5)**2 + (fn.coord()[1] - 0.5)**2\n",
    "fn_conditional = fn.branching.conditional( [ (circleFn < 0.15, 1.), (         True, 2. ) ] )\n"
   ]
  },
  {
   "cell_type": "code",
   "execution_count": 363,
   "metadata": {
    "collapsed": false
   },
   "outputs": [],
   "source": [
    "squareCentre = (0.5, 0.5)\n",
    "squareWidth  = 0.7\n",
    "def squareFnGenerator(centre = (0.0,0.0), width = 1.0):\n",
    "    coord = fn.coord()\n",
    "    xDist = coord[0] - centre[0]\n",
    "    zDist = coord[1] - centre[1]\n",
    "    edgeDist = width*width/4.0\n",
    "    xCond = (xDist*xDist) < edgeDist\n",
    "    zCond = (zDist*zDist) < edgeDist\n",
    "    cond =  (xCond & zCond)\n",
    "    return cond\n",
    "\n",
    "\n",
    "conditions = [ ( squareFnGenerator( squareCentre, squareWidth ) , 1. ), \n",
    "               ( True                                           , 4. ) ]\n",
    "# use the branching conditional function to set each particle's index\n",
    "fn_conditional = fn.branching.conditional( conditions )"
   ]
  },
  {
   "cell_type": "code",
   "execution_count": 364,
   "metadata": {
    "collapsed": false
   },
   "outputs": [],
   "source": [
    "yField = uw.mesh.MeshVariable( mesh=dummymesh, nodeDofCount=1 )\n",
    "yField.data[:] = 0.\n",
    "\n",
    "yBC = uw.conditions.DirichletCondition( variable=yField, indexSetsPerDof=(jWalls,) )\n",
    "\n",
    "xField = uw.mesh.MeshVariable( mesh=dummymesh, nodeDofCount=1 )\n",
    "xField.data[:] = 0.\n",
    "\n",
    "xBC = uw.conditions.DirichletCondition( variable=xField, indexSetsPerDof=(iWalls,) )"
   ]
  },
  {
   "cell_type": "code",
   "execution_count": 365,
   "metadata": {
    "collapsed": true
   },
   "outputs": [],
   "source": [
    "# set bottom wall temperature bc\n",
    "for index in dummymesh.specialSets[\"MinJ_VertexSet\"]:\n",
    "    yField.data[index] = dummymesh.maxCoord[1]\n",
    "# set top wall temperature bc\n",
    "for index in dummymesh.specialSets[\"MaxJ_VertexSet\"]:\n",
    "    yField.data[index] = dummymesh.minCoord[1]\n",
    "    \n",
    "# set bottom wall temperature bc\n",
    "for index in dummymesh.specialSets[\"MinI_VertexSet\"]:\n",
    "    xField.data[index] = dummymesh.minCoord[0]\n",
    "## set top wall temperature bc\n",
    "for index in dummymesh.specialSets[\"MaxI_VertexSet\"]:\n",
    "    xField.data[index] = dummymesh.maxCoord[0]"
   ]
  },
  {
   "cell_type": "code",
   "execution_count": 366,
   "metadata": {
    "collapsed": false
   },
   "outputs": [],
   "source": [
    "yLaplaceEquation = uw.systems.SteadyStateHeat(temperatureField=yField, fn_diffusivity=fn_conditional, conditions=[yBC,])\n",
    "xLaplaceEquation = uw.systems.SteadyStateHeat(temperatureField=xField, fn_diffusivity=fn_conditional, conditions=[xBC,])"
   ]
  },
  {
   "cell_type": "code",
   "execution_count": 367,
   "metadata": {
    "collapsed": true
   },
   "outputs": [],
   "source": [
    "# get the default heat equation solver\n",
    "yLaplaceSolver = uw.systems.Solver(yLaplaceEquation)\n",
    "# solve\n",
    "yLaplaceSolver.solve()\n",
    "\n",
    "\n",
    "# get the default heat equation solver\n",
    "xLaplaceSolver = uw.systems.Solver(xLaplaceEquation)\n",
    "# solve\n",
    "xLaplaceSolver.solve()"
   ]
  },
  {
   "cell_type": "code",
   "execution_count": 368,
   "metadata": {
    "collapsed": true
   },
   "outputs": [],
   "source": [
    "dcy = yField.evaluate(mesh.data)[::-1,0].copy()\n",
    "\n",
    "dcx = xField.evaluate(mesh.data)[::-1,0].copy()"
   ]
  },
  {
   "cell_type": "code",
   "execution_count": 369,
   "metadata": {
    "collapsed": false
   },
   "outputs": [],
   "source": [
    "with mesh.deform_mesh():\n",
    "    mesh.data[:,1] = dcy\n",
    "    mesh.data[:,0] = dcx"
   ]
  },
  {
   "cell_type": "code",
   "execution_count": 370,
   "metadata": {
    "collapsed": false
   },
   "outputs": [
    {
     "data": {
      "text/html": [
       "<img src='data:image/png;base64,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'>"
      ],
      "text/plain": [
       "<IPython.core.display.HTML object>"
      ]
     },
     "execution_count": 370,
     "metadata": {},
     "output_type": "execute_result"
    }
   ],
   "source": [
    "# plot figure\n",
    "fig = glucifer.Figure( figsize=(800,400) )\n",
    "#fig.append( glucifer.objects.Surface(mesh, fn_conditional, colours=\"blue white red\") )\n",
    "#fig.append( glucifer.objects.VectorArrows(mesh, testfn, arrowHead=0.2, scaling=0.2) )\n",
    "fig.append( glucifer.objects.Mesh(mesh))\n",
    "fig.show()"
   ]
  },
  {
   "cell_type": "code",
   "execution_count": null,
   "metadata": {
    "collapsed": false
   },
   "outputs": [],
   "source": []
  },
  {
   "cell_type": "markdown",
   "metadata": {},
   "source": [
    "## check = xField.fn_gradient[0]*testfn"
   ]
  },
  {
   "cell_type": "code",
   "execution_count": 371,
   "metadata": {
    "collapsed": false
   },
   "outputs": [],
   "source": [
    "#check2 = check.evaluate(dummymesh)\n",
    "#check2.min(), check2.max()"
   ]
  },
  {
   "cell_type": "code",
   "execution_count": 372,
   "metadata": {
    "collapsed": false
   },
   "outputs": [],
   "source": [
    "# plot figure\n",
    "#fig = glucifer.Figure( figsize=(800,400) )\n",
    "#fig.append( glucifer.objects.Surface(dummymesh, check, colours=\"blue white red\") )\n",
    "#fig.append( glucifer.objects.VectorArrows(mesh, check, arrowHead=0.2, scaling=0.2) )\n",
    "#fig.append( glucifer.objects.Mesh(mesh))\n",
    "#fig.show()"
   ]
  },
  {
   "cell_type": "markdown",
   "metadata": {},
   "source": [
    "## Create a starting field"
   ]
  },
  {
   "cell_type": "markdown",
   "metadata": {
    "collapsed": true
   },
   "source": [
    "for index, coord in enumerate(mesh.data):\n",
    "    #In parallel, we don't know mesh partitions in advance, here is a way to avoid errors\n",
    "    try:\n",
    "        temperatureField.data[index] = dummytemperatureField.evaluate([coord[0], coord[1]])\n",
    "        velocityField.data[index] = dummyvelocityField.evaluate([coord[0], coord[1]])\n",
    "        pressureField.data[index] = dummypressureField.evaluate([coord[0], coord[1]])\n",
    "    except:\n",
    "        pass"
   ]
  },
  {
   "cell_type": "code",
   "execution_count": 373,
   "metadata": {
    "collapsed": true
   },
   "outputs": [],
   "source": [
    "# Setup temperature initial condition via numpy arrays\n",
    "A = 0.1\n",
    "#Note that width = height = 1\n",
    "tempNump = temperatureField.data\n",
    "for index, coord in enumerate(mesh.data):\n",
    "    pertCoeff = (1- coord[1]) + A*math.cos( math.pi * abs(1. - coord[0]) ) * math.sin( math.pi * coord[1] )\n",
    "    tempNump[index] = pertCoeff;\n",
    "    if coord[1] > 1:\n",
    "        tempNump[index] = 0."
   ]
  },
  {
   "cell_type": "code",
   "execution_count": 374,
   "metadata": {
    "collapsed": false
   },
   "outputs": [
    {
     "data": {
      "text/html": [
       "<img src='data:image/png;base64,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'>"
      ],
      "text/plain": [
       "<IPython.core.display.HTML object>"
      ]
     },
     "execution_count": 374,
     "metadata": {},
     "output_type": "execute_result"
    }
   ],
   "source": [
    "# plot figure\n",
    "fig = glucifer.Figure( figsize=(800,400) )\n",
    "fig.append( glucifer.objects.Surface(mesh, temperatureField, colours=\"blue white red\") )\n",
    "#fig.append( glucifer.objects.VectorArrows(mesh, testfn, arrowHead=0.2, scaling=0.2) )\n",
    "fig.append( glucifer.objects.Mesh(mesh))\n",
    "fig.save_database('test.gldb')\n",
    "fig.show()"
   ]
  },
  {
   "cell_type": "code",
   "execution_count": 375,
   "metadata": {
    "collapsed": true
   },
   "outputs": [],
   "source": [
    "iWalls = mesh.specialSets[\"MinI_VertexSet\"] + mesh.specialSets[\"MaxI_VertexSet\"]\n",
    "jWalls = mesh.specialSets[\"MinJ_VertexSet\"] + mesh.specialSets[\"MaxJ_VertexSet\"]\n",
    "freeslipBC = uw.conditions.DirichletCondition( variable      = velocityField, \n",
    "                                               indexSetsPerDof = (iWalls, jWalls) )\n",
    "tempBC     = uw.conditions.DirichletCondition( variable      = temperatureField, \n",
    "                                               indexSetsPerDof = (jWalls,) )"
   ]
  },
  {
   "cell_type": "markdown",
   "metadata": {},
   "source": [
    "**Conditions on the boundaries**"
   ]
  },
  {
   "cell_type": "markdown",
   "metadata": {
    "collapsed": false
   },
   "source": [
    "Set up material parameters and functions\n",
    "-----\n"
   ]
  },
  {
   "cell_type": "markdown",
   "metadata": {},
   "source": [
    "**Viscosity field**\n",
    "\n",
    "The viscosity is a function of temperature ($T$), the vertical coordinate ($z$) and the strain rate ($\\dot{\\epsilon}$) and is given by\n",
    "\n",
    "$$\n",
    "    \\eta(T, z, \\dot{\\epsilon}) = 2 \\left( \\frac{1}{\\eta_{lin}(T,z)} + \\frac{1}{\\eta_{plast}(\\dot{\\epsilon})} \\right)^{-1}\n",
    "$$\n",
    "\n",
    "where the linear part is\n",
    "\n",
    "$$\n",
    "    \\eta_{lin}(T, z) = \\exp(-\\gamma_T T + \\gamma_z z)\n",
    "$$\n",
    "\n",
    "with $\\gamma_T = \\ln(\\Delta \\eta_T)$ and $\\gamma_z = \\ln(\\Delta \\eta_z)$. The nonlinear part is\n",
    "\n",
    "$$\n",
    "    \\eta_{plast}(\\dot{\\epsilon}) = \\eta^* + \\frac{\\sigma_{\\gamma}}{\\sqrt{\\dot{\\epsilon} : \\dot{\\epsilon}}}\n",
    "$$\n",
    "\n",
    "where $\\eta^*$ is the effective viscosity at high stresses and $\\sigma_{\\gamma}$ is the yield stress. The values of $\\Delta \\eta_T$, $\\Delta \\eta_z$, $\\eta^*$ and $\\sigma_{\\gamma}$ are assumed to be constant with values dependent on the particular case."
   ]
  },
  {
   "cell_type": "markdown",
   "metadata": {},
   "source": [
    "**Create variables required for plasticity calculations**"
   ]
  },
  {
   "cell_type": "code",
   "execution_count": 376,
   "metadata": {
    "collapsed": false
   },
   "outputs": [],
   "source": [
    "secinv = fn.tensor.second_invariant( fn.tensor.symmetric( velocityField.fn_gradient ) )\n",
    "coordinate = fn.coord()"
   ]
  },
  {
   "cell_type": "markdown",
   "metadata": {},
   "source": [
    "**Setup viscosity functions**\n",
    "\n",
    "Remember to use floats everywhere when setting up functions"
   ]
  },
  {
   "cell_type": "code",
   "execution_count": 377,
   "metadata": {
    "collapsed": false
   },
   "outputs": [],
   "source": [
    "viscosityl1 = fn.math.exp(math.log(ETA_T)*-1.*temperatureField)\n",
    "viscosityl2 = fn.math.exp((math.log(ETA_T)*-1.*temperatureField) + (1.-coordinate[1])*math.log(ETA_Y))\n",
    "\n",
    "#Von Mises effective viscosity\n",
    "viscosityp = ETA0 + YSTRESS/((secinv/math.sqrt(0.5)) +1.0e-18) #extra factor to account for underworld second invariant form\n",
    "\n",
    "if CASE == 1:\n",
    "    fn_viscosity = viscosityl1\n",
    "elif CASE == 2:\n",
    "    fn_viscosity = 2./(1./viscosityl1 + 1./viscosityp)\n",
    "elif CASE == 3:\n",
    "    fn_viscosity = viscosityl2\n",
    "else:\n",
    "    fn_viscosity = 2./(1./viscosityl2 + 1./viscosityp)"
   ]
  },
  {
   "cell_type": "markdown",
   "metadata": {},
   "source": [
    "**Add functions for density and buoyancy**"
   ]
  },
  {
   "cell_type": "code",
   "execution_count": 378,
   "metadata": {
    "collapsed": true
   },
   "outputs": [],
   "source": [
    "densityFn = RA*temperatureField\n",
    "\n",
    "# define our vertical unit vector using a python tuple (this will be automatically converted to a function)\n",
    "z_hat = ( 0.0, 1.0 )\n",
    "\n",
    "# now create a buoyancy force vector using the density (FEvariable) and the vertical unit vector. \n",
    "buoyancyFn = densityFn * z_hat"
   ]
  },
  {
   "cell_type": "code",
   "execution_count": 379,
   "metadata": {
    "collapsed": false
   },
   "outputs": [
    {
     "data": {
      "text/html": [
       "<img src='data:image/png;base64,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'>"
      ],
      "text/plain": [
       "<IPython.core.display.HTML object>"
      ]
     },
     "execution_count": 379,
     "metadata": {},
     "output_type": "execute_result"
    }
   ],
   "source": [
    "# plot figure\n",
    "fig = glucifer.Figure( figsize=(800,400) )\n",
    "fig.append( glucifer.objects.Surface(mesh, densityFn, colours=\"blue white red\") )\n",
    "fig.append( glucifer.objects.VectorArrows(mesh, velocityField, arrowHead=0.2, scaling=0.002) )\n",
    "fig.append( glucifer.objects.Mesh(mesh))\n",
    "fig.save_database('test.gldb')\n",
    "fig.show()"
   ]
  },
  {
   "cell_type": "code",
   "execution_count": 380,
   "metadata": {
    "collapsed": false
   },
   "outputs": [
    {
     "data": {
      "text/html": [
       "<img src='data:image/png;base64,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'>"
      ],
      "text/plain": [
       "<IPython.core.display.HTML object>"
      ]
     },
     "execution_count": 380,
     "metadata": {},
     "output_type": "execute_result"
    }
   ],
   "source": [
    "figStress = glucifer.Figure( figsize=(1024,384) )\n",
    "figStress.append( glucifer.objects.Surface(mesh, fn_viscosity*secinv) )\n",
    "figStress.show()"
   ]
  },
  {
   "cell_type": "markdown",
   "metadata": {},
   "source": [
    "Build the Stokes system and solvers\n",
    "------\n",
    "\n",
    "Setup the Stokes system with linear or nonlinear visocity viscosity depending on case."
   ]
  },
  {
   "cell_type": "code",
   "execution_count": 381,
   "metadata": {
    "collapsed": false
   },
   "outputs": [],
   "source": [
    "stokesPIC = uw.systems.Stokes(velocityField=velocityField, \n",
    "                              pressureField=pressureField,\n",
    "                              conditions=[freeslipBC,],\n",
    "                              fn_viscosity=fn.exception.SafeMaths(fn_viscosity), \n",
    "                              fn_bodyforce=buoyancyFn)"
   ]
  },
  {
   "cell_type": "markdown",
   "metadata": {},
   "source": [
    "Setup solver for the Stokes system of equations"
   ]
  },
  {
   "cell_type": "code",
   "execution_count": 382,
   "metadata": {
    "collapsed": false
   },
   "outputs": [],
   "source": [
    "solver = uw.systems.Solver( stokesPIC )"
   ]
  },
  {
   "cell_type": "markdown",
   "metadata": {},
   "source": [
    "We do one solve for initial pressure and velocity with linear viscosity to get the initial strain rate invariant. This solve step also calculates a 'guess' of the the velocity field based on the linear system, which is used later in the non-linear solver."
   ]
  },
  {
   "cell_type": "code",
   "execution_count": 383,
   "metadata": {
    "collapsed": false
   },
   "outputs": [],
   "source": [
    "solver.solve( nonLinearIterate=False )"
   ]
  },
  {
   "cell_type": "markdown",
   "metadata": {},
   "source": [
    "Create an advective-diffusive system\n",
    "-----\n",
    "\n",
    "Setup the system in underworld by flagging the temperature and velocity field variables."
   ]
  },
  {
   "cell_type": "code",
   "execution_count": 384,
   "metadata": {
    "collapsed": false
   },
   "outputs": [],
   "source": [
    "advDiff = uw.systems.AdvectionDiffusion( temperatureField, temperatureDotField, velocityField,\n",
    "                                         fn_diffusivity=1., conditions=[tempBC,] )"
   ]
  },
  {
   "cell_type": "markdown",
   "metadata": {},
   "source": [
    "Metrics for benchmark\n",
    "-----\n",
    "\n",
    "Define diagnostic functions to be used in the time loop and/or measured after reaching steady state:\n",
    "\n",
    "* Average temperature\n",
    "$$  \\langle T \\rangle  = \\int^1_0 \\int^1_0 T \\, dxdy $$\n",
    "* Top and bottom Nusselt numbers\n",
    "$$Nu_{top/bot} = - \\left. \\int^1_0 \\frac{\\partial T}{\\partial y} \\right|_{y=1/y=0} \\, dx$$\n",
    "* RMS velocity over the whole domain, surface and max velocity at surface\n",
    "$$u_{RMS} = \\left( \\int_0^1 \\int_0^1 \\left( u_x^2 + u_y^2 \\right) dx dy \\right)^{1/2}$$\n",
    "$$u_{RMS}^{surf} = \\left( \\left. \\int_0^1 u_x^2\\right|_{y=1} dx \\right)^{1/2}$$\n",
    "$$u_{max}^{surf} = \\left. \\max(u_x)\\right|_{y=1}$$\n",
    "* max and min viscosity over the whole domain\n",
    "$$\\eta_{max/min} = \\max / \\min \\left( \\eta\\left(x,y\\right) \\right)$$\n",
    "* average rate of work done against gravity\n",
    "$$\\langle W \\rangle = \\int^1_0 \\int^1_0 T u_y \\, dx dy$$\n",
    "* and the average rate of viscous dissipation\n",
    "$$\\langle \\Phi \\rangle = \\int^1_0 \\int^1_0 \\tau_{ij} \\dot \\epsilon_{ij} \\, dx dy$$\n",
    "\n",
    "* In steady state, if thermal energy is accurately conserved, the difference between $\\langle W \\rangle$ and $\\langle \\Phi \\rangle / Ra$ must vanish, so also reported is the percentage error: \n",
    "\n",
    "$$ \\delta = \\frac{\\lvert \\langle W \\rangle - \\frac{\\langle \\Phi \\rangle}{Ra} \\rvert}{max \\left(  \\langle W \\rangle,  \\frac{\\langle \\Phi \\rangle}{Ra}\\right)} \\times 100% $$"
   ]
  },
  {
   "cell_type": "markdown",
   "metadata": {},
   "source": [
    "**Setup volume integrals used in metric functions**"
   ]
  },
  {
   "cell_type": "code",
   "execution_count": 385,
   "metadata": {
    "collapsed": false
   },
   "outputs": [],
   "source": [
    "# temperature\n",
    "tempint = uw.utils.Integral( temperatureField, mesh )\n",
    "# area\n",
    "areaint = uw.utils.Integral( 1.,               mesh )\n",
    "# velocity squared\n",
    "v2int   = uw.utils.Integral(fn.math.dot(velocityField,velocityField), mesh)\n",
    "# work done\n",
    "dwint   = uw.utils.Integral(temperatureField*velocityField[1], mesh)\n",
    "# viscous dissipation\n",
    "sinner = fn.math.dot(secinv,secinv)\n",
    "vdint = uw.utils.Integral((4.*fn_viscosity*sinner), mesh)"
   ]
  },
  {
   "cell_type": "markdown",
   "metadata": {},
   "source": [
    "**Setup surface integrals used in metric functions**"
   ]
  },
  {
   "cell_type": "code",
   "execution_count": 386,
   "metadata": {
    "collapsed": false
   },
   "outputs": [],
   "source": [
    "rmsSurfInt = uw.utils.Integral( fn=velocityField[0]*velocityField[0], mesh=mesh, integrationType='Surface', \n",
    "                          surfaceIndexSet=mesh.specialSets[\"MaxJ_VertexSet\"])\n",
    "nuTop      = uw.utils.Integral( fn=temperatureField.fn_gradient[1], mesh=mesh, integrationType='Surface', \n",
    "                          surfaceIndexSet=mesh.specialSets[\"MaxJ_VertexSet\"])\n",
    "nuBottom   = uw.utils.Integral( fn=temperatureField.fn_gradient[1], mesh=mesh, integrationType='Surface', \n",
    "                          surfaceIndexSet=mesh.specialSets[\"MinJ_VertexSet\"])"
   ]
  },
  {
   "cell_type": "markdown",
   "metadata": {},
   "source": [
    "**Define diagnostic functions using integrals**"
   ]
  },
  {
   "cell_type": "code",
   "execution_count": 387,
   "metadata": {
    "collapsed": false
   },
   "outputs": [],
   "source": [
    "def avg_temp():\n",
    "    return tempint.evaluate()[0]/areaint.evaluate()[0]\n",
    "\n",
    "def nusseltTB(temp_field, mesh):\n",
    "    return -nuTop.evaluate()[0], -nuBottom.evaluate()[0]\n",
    "\n",
    "def rms():\n",
    "    return math.sqrt(v2int.evaluate()[0]/areaint.evaluate()[0])\n",
    "\n",
    "def rms_surf():\n",
    "    return math.sqrt(rmsSurfInt.evaluate()[0])\n",
    "\n",
    "def max_vx_surf(velfield, mesh):\n",
    "    vuvelxfn = fn.view.min_max(velfield[0])\n",
    "    vuvelxfn.evaluate(mesh.specialSets[\"MaxJ_VertexSet\"])\n",
    "    return vuvelxfn.max_global()\n",
    "\n",
    "def gravwork(workfn):\n",
    "    return workfn.evaluate()[0]\n",
    "\n",
    "def viscdis(vdissfn):\n",
    "    return vdissfn.evaluate()[0]\n",
    "\n",
    "def visc_extr(viscfn):\n",
    "    vuviscfn = fn.view.min_max(viscfn)\n",
    "    vuviscfn.evaluate(mesh)\n",
    "    return vuviscfn.max_global(), vuviscfn.min_global()"
   ]
  },
  {
   "cell_type": "code",
   "execution_count": 388,
   "metadata": {
    "collapsed": false
   },
   "outputs": [],
   "source": [
    "#Fields for saving data / fields\n",
    "rmsField = uw.mesh.MeshVariable( mesh=mesh, nodeDofCount=1 )\n",
    "rmsfn    = fn.math.sqrt( fn.math.dot( velocityField, velocityField ) )\n",
    "rmsdata  = rmsfn.evaluate( mesh )\n",
    "rmsField.data[:] = rmsdata \n",
    "\n",
    "viscField = uw.mesh.MeshVariable( mesh=mesh, nodeDofCount=1 )\n",
    "viscdata  = fn_viscosity.evaluate( mesh )\n",
    "viscField.data[:] = viscdata\n",
    "\n",
    "stressField = uw.mesh.MeshVariable( mesh=mesh, nodeDofCount=1)\n",
    "srtdata     = fn.tensor.second_invariant( fn.tensor.symmetric( velocityField.fn_gradient ) )\n",
    "rostfield   = srtdata.evaluate( mesh )\n",
    "stressinv   = 2*viscdata*rostfield[:]\n",
    "stressField.data[:] = stressinv"
   ]
  },
  {
   "cell_type": "markdown",
   "metadata": {},
   "source": [
    "Main simulation loop\n",
    "------\n",
    "\n",
    "Normally a loop over time increments would be added here. As we are only interested in the post-analysis a single time step will be taken to ensure that all analysis fields are live. This step will involve the non-linear Stokes system solver."
   ]
  },
  {
   "cell_type": "code",
   "execution_count": 389,
   "metadata": {
    "collapsed": false
   },
   "outputs": [],
   "source": [
    "steps_todo = 10"
   ]
  },
  {
   "cell_type": "markdown",
   "metadata": {
    "collapsed": false
   },
   "source": [
    "Initialise steps and time. Set to zero unless loading values from file."
   ]
  },
  {
   "cell_type": "code",
   "execution_count": 390,
   "metadata": {
    "collapsed": false
   },
   "outputs": [
    {
     "name": "stdout",
     "output_type": "stream",
     "text": [
      "This model has previously completed  48900 steps to get to time = 0.564\n"
     ]
    }
   ],
   "source": [
    "try:\n",
    "    realtime = timeVal[-1]\n",
    "    step = int(stepsVal[-1])\n",
    "except:\n",
    "    realtime = 0.0\n",
    "    step = 0\n",
    "steps_end = step + steps_todo\n",
    "steps_output = 1\n",
    "steps_output = max(steps_output,1)\n",
    "print('This model has previously completed {0:6d} steps to get to time = {1:.3f}'.format(step,realtime))"
   ]
  },
  {
   "cell_type": "code",
   "execution_count": 391,
   "metadata": {
    "collapsed": false
   },
   "outputs": [
    {
     "data": {
      "text/plain": [
       "(48900, 48910)"
      ]
     },
     "execution_count": 391,
     "metadata": {},
     "output_type": "execute_result"
    }
   ],
   "source": [
    "step, steps_end"
   ]
  },
  {
   "cell_type": "code",
   "execution_count": 394,
   "metadata": {
    "collapsed": false
   },
   "outputs": [],
   "source": [
    "sol = fn.analytic."
   ]
  },
  {
   "cell_type": "code",
   "execution_count": 392,
   "metadata": {
    "collapsed": false
   },
   "outputs": [
    {
     "name": "stdout",
     "output_type": "stream",
     "text": [
      "step = 48901 ; CPU time = 1.836683 ; vrms =  11.5068536579\n",
      "step = 48902 ; CPU time = 2.454432 ; vrms =  11.6642356895\n",
      "step = 48903 ; CPU time = 3.052724 ; vrms =  11.8185900737\n",
      "step = 48904 ; CPU time = 3.643879 ; vrms =  11.9566052729\n",
      "step = 48905 ; CPU time = 4.236099 ; vrms =  12.0852269974\n",
      "step = 48906 ; CPU time = 4.829978 ; vrms =  12.2090147501\n",
      "step = 48907 ; CPU time = 5.388771 ; vrms =  12.3308031493\n",
      "step = 48908 ; CPU time = 5.976537 ; vrms =  12.4523353857\n",
      "step = 48909 ; CPU time = 6.562605 ; vrms =  12.5746901478\n",
      "step = 48910 ; CPU time = 7.115902 ; vrms =  12.6985465581\n"
     ]
    }
   ],
   "source": [
    "# initialise timer for computation\n",
    "start = time.clock()\n",
    "# start loop\n",
    "while step < steps_end:\n",
    "    # Solve non-linear system\n",
    "    solver.solve(nonLinearIterate=True)\n",
    "    dt = advDiff.get_max_dt()\n",
    "    if step == 0:\n",
    "        dt = 0.\n",
    "    # Advect using this timestep size   \n",
    "    advDiff.integrate(dt)\n",
    "    # Increment\n",
    "    realtime += dt\n",
    "    step += 1\n",
    "    # Calculate the Metrics, only on 1 of the processors:\n",
    "    Avg_temp = avg_temp()\n",
    "    Rms = rms()\n",
    "    Rms_surf = rms_surf()\n",
    "    Max_vx_surf = max_vx_surf(velocityField, mesh)\n",
    "    Gravwork = gravwork(dwint)\n",
    "    Viscdis = viscdis(vdint)\n",
    "    nu1, nu0 = nusseltTB(temperatureField, mesh) # return top then bottom\n",
    "    etamax, etamin = visc_extr(fn_viscosity)\n",
    "    # store results\n",
    "    stepsVal.append(       step)\n",
    "    timeVal.append(        realtime )\n",
    "    viscdisVal.append(     Viscdis )\n",
    "    nu0Val.append(         nu0 )\n",
    "    nu1Val.append(         nu1 )\n",
    "    Avg_tempVal.append(    Avg_temp )\n",
    "    vrmsVal.append(        Rms )\n",
    "    Rms_surfVal.append(    Rms_surf )\n",
    "    Max_vx_surfVal.append( Max_vx_surf )\n",
    "    GravworkVal.append(    Gravwork )\n",
    "    etamaxVal.append(      etamax )\n",
    "    etaminVal.append(      etamin )\n",
    "\n",
    "    # output fields and summary info to file (output graphics can also be added here)\n",
    "    if uw.rank()==0:\n",
    "        if (step % steps_output == 0) or (step == steps_end-1):\n",
    "            print 'step =',step, '; CPU time =', time.clock()-start, '; vrms = ',Rms\n",
    "            # Temperature\n",
    "            fnametemp = \"temperatureField_\" + str(step).zfill(6) + \".h5\"\n",
    "            fullpath = os.path.join(outputPath + \"files/\" + fnametemp)\n",
    "            temperatureField.save(fullpath)\n",
    "            # Temperature time derivative\n",
    "            fnametemp = \"temperatureDotField_\" + str(step).zfill(6) + \".h5\"\n",
    "            fullpath = os.path.join(outputPath + \"files/\" + fnametemp)\n",
    "            temperatureDotField.save(fullpath)\n",
    "            # Pressure\n",
    "            fnametemp = \"pressureField_\" + str(step).zfill(6) + \".h5\"\n",
    "            fullpath = os.path.join(outputPath + \"files/\" + fnametemp)\n",
    "            pressureField.save(fullpath)\n",
    "            # Velocity\n",
    "            fnametemp = \"velocityField_\" + str(step).zfill(6) + \".h5\"\n",
    "            fullpath = os.path.join(outputPath + \"files/\" + fnametemp)\n",
    "            velocityField.save(fullpath)\n",
    "\n",
    "            np.savetxt( outputPath + 'Summary.txt', np.c_[stepsVal, timeVal, viscdisVal, nu0Val, \n",
    "                                                          nu1Val, Avg_tempVal, vrmsVal, Rms_surfVal,\n",
    "                                                         Max_vx_surfVal, GravworkVal, etamaxVal, etaminVal], \n",
    "                   header=\"Steps, Time, visc, Nusselt bottom/top, av_T, vrms, surf_rms, surf_max, grav, etamax, etamin\" )"
   ]
  },
  {
   "cell_type": "markdown",
   "metadata": {},
   "source": [
    "Post-simulation analysis\n",
    "-------\n",
    "\n",
    "Here we will calculate the quantities specified for this case in Tosi et al. (2015) and finally compare them to the values given in their Table 2."
   ]
  },
  {
   "cell_type": "markdown",
   "metadata": {},
   "source": [
    "**Plot final temperature and velocity fields**"
   ]
  },
  {
   "cell_type": "code",
   "execution_count": 393,
   "metadata": {
    "collapsed": false
   },
   "outputs": [
    {
     "data": {
      "text/html": [
       "<img src='data:image/png;base64,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'>"
      ],
      "text/plain": [
       "<IPython.core.display.HTML object>"
      ]
     },
     "execution_count": 393,
     "metadata": {},
     "output_type": "execute_result"
    }
   ],
   "source": [
    "velmax = np.amax(velocityField.data[:])\n",
    "if(velmax==0.0): velmax = 1.0\n",
    "fig1 = glucifer.Figure()\n",
    "fig1.append( glucifer.objects.Surface(mesh, temperatureField) )\n",
    "fig1.append( glucifer.objects.Mesh(mesh))\n",
    "fig1.append( glucifer.objects.VectorArrows(mesh, velocityField/velmax, scaling=0.2, arrowHead=0.2) )\n",
    "fig1.show()"
   ]
  },
  {
   "cell_type": "markdown",
   "metadata": {},
   "source": [
    "**Calculate quantities for benchmark comparison**"
   ]
  },
  {
   "cell_type": "code",
   "execution_count": 96,
   "metadata": {
    "collapsed": true
   },
   "outputs": [],
   "source": [
    "tempAv = Avg_tempVal[-1]\n",
    "nuTop = nu1Val[-1]\n",
    "nuBot = nu0Val[-1]\n",
    "uRMS = vrmsVal[-1]\n",
    "uSurfRMS = Rms_surfVal[-1]\n",
    "uSurfMax = Max_vx_surfVal[-1]\n",
    "etaMin = etaminVal[-1]\n",
    "etaMax = etamaxVal[-1]\n",
    "workDone = GravworkVal[-1]\n",
    "phi = viscdisVal[-1]/100.\n",
    "delta = abs(workDone - phi)/max(workDone, phi) * 100."
   ]
  },
  {
   "cell_type": "markdown",
   "metadata": {},
   "source": [
    "**Output all quantities for this case**"
   ]
  },
  {
   "cell_type": "code",
   "execution_count": 97,
   "metadata": {
    "collapsed": false
   },
   "outputs": [
    {
     "name": "stdout",
     "output_type": "stream",
     "text": [
      "<T>        = 0.5000\n",
      "Nu_top     = 1.0008\n",
      "Nu_bot     = 1.0052\n",
      "u_rms      = 12.2368\n",
      "u^surf_rms = 4.8486\n",
      "u^surf_max = 0.0000\n",
      "eta_min    = 1.9627e-04\n",
      "eta_max    = 1.8895\n",
      "W          = -0.3165\n",
      "Phi        = -0.3150\n",
      "delta      = -0.4790%\n"
     ]
    }
   ],
   "source": [
    "print('<T>        = {0:.4f}'.format(tempAv))\n",
    "print('Nu_top     = {0:.4f}'.format(nuTop))\n",
    "print('Nu_bot     = {0:.4f}'.format(nuBot))\n",
    "print('u_rms      = {0:.4f}'.format(uRMS))\n",
    "print('u^surf_rms = {0:.4f}'.format(uSurfRMS))\n",
    "print('u^surf_max = {0:.4f}'.format(uSurfMax))\n",
    "print('eta_min    = {0:.4e}'.format(etaMin))\n",
    "print('eta_max    = {0:.4f}'.format(etaMax))\n",
    "print('W          = {0:.4f}'.format(workDone))\n",
    "print('Phi        = {0:.4f}'.format(phi))\n",
    "print('delta      = {0:.4f}%'.format(delta))"
   ]
  },
  {
   "cell_type": "markdown",
   "metadata": {},
   "source": [
    "**Comparison values from Tosi et al. (2015)**\n",
    "\n",
    "The expected benchmark values from Table 2 of Tosi et al. (2015) for case 4 are given in the table below. The minimum and maximum values from each of the participating codes are given here to provide an expected range for each quantity.\n",
    "\n",
    "| Case 4  | $<$$T$$>$ | $Nu_{top}$ | $Nu_{bot}$ | $u_{RMS}$ | $u_{RMS}^{surf}$ | $u_{max}^{surf}$ | $\\eta_{min}$ | $\\eta_{max}$ | $<$$W$$>$ |  $<$$\\Phi$$>$/Ra | $\\delta$ |\n",
    "|:--------|:---------:|:----------:|:----------:|:---------:|:----------------:|:----------------:|:------------:|:------------:|:------------:|:------------------:|:--------:|\n",
    "| Min     | 0.5273 | 6.5572 | 6.5243 | 78.6652 | 74.1719 | 88.8130 | 1.9467$\\times 10^{-4}$ | 1.1800 | 5.5903 | 5.5434 | $<$0.01% |\n",
    "| Max     | 0.5289 | 6.6822 | 6.6690 | 79.6202 | 75.4814 | 88.9848 | 1.9900$\\times 10^{-4}$ | 1.9834 | 5.6512 | 5.6463 | 0.84% |\n",
    "\n",
    "Note that the values from the spectral code MC3D are not used to construct the min/max values here, as they are outlier values."
   ]
  },
  {
   "cell_type": "code",
   "execution_count": 98,
   "metadata": {
    "collapsed": false
   },
   "outputs": [
    {
     "data": {
      "text/plain": [
       "[6.580907343415108,\n",
       " 6.580907360638824,\n",
       " 6.580907377886451,\n",
       " 6.58090739515795,\n",
       " 6.580907412453151,\n",
       " 6.580907429772024,\n",
       " 6.58090744711437,\n",
       " 6.58090746448006,\n",
       " 6.580907481869085,\n",
       " 6.580907499281265,\n",
       " 1.0002654867815328,\n",
       " 1.000801723353293,\n",
       " 1.0013438808907285,\n",
       " 1.0018897082731286,\n",
       " 1.0024389900809765,\n",
       " 1.0029914905518555,\n",
       " 1.0035470901764774,\n",
       " 1.0041057376697908,\n",
       " 1.0046674245039608,\n",
       " 1.005232167539169]"
      ]
     },
     "execution_count": 98,
     "metadata": {},
     "output_type": "execute_result"
    }
   ],
   "source": [
    "nu0Val"
   ]
  },
  {
   "cell_type": "code",
   "execution_count": null,
   "metadata": {
    "collapsed": false
   },
   "outputs": [],
   "source": []
  },
  {
   "cell_type": "code",
   "execution_count": null,
   "metadata": {
    "collapsed": true
   },
   "outputs": [],
   "source": []
  }
 ],
 "metadata": {
  "kernelspec": {
   "display_name": "Python 2",
   "language": "python",
   "name": "python2"
  },
  "language_info": {
   "codemirror_mode": {
    "name": "ipython",
    "version": 2
   },
   "file_extension": ".py",
   "mimetype": "text/x-python",
   "name": "python",
   "nbconvert_exporter": "python",
   "pygments_lexer": "ipython2",
   "version": "2.7.11"
  }
 },
 "nbformat": 4,
 "nbformat_minor": 0
}
