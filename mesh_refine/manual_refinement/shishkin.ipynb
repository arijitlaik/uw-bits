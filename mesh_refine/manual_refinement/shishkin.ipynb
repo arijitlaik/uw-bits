{
 "cells": [
  {
   "cell_type": "markdown",
   "metadata": {},
   "source": [
    "# Shishkin mesh\n",
    "\n",
    "This notebook demonstrates some functions that create a stepwise-refined mesh, sometimes called a Shsikin mesh\n",
    "\n",
    "The functions allow you to set target maximum coarsening and minumum refinement, then they automatically adjust the coarse / fine element division.\n",
    "\n",
    "New coordinates are provided as a dictionary, which is a good approach for running parallel, rather than trying to automatically modify mesh coordinates"
   ]
  },
  {
   "cell_type": "code",
   "execution_count": 1,
   "metadata": {
    "collapsed": false
   },
   "outputs": [],
   "source": [
    "import underworld as uw\n",
    "import math\n",
    "from underworld import function as fn\n",
    "import glucifer\n",
    "import numpy as np\n",
    "import collections\n"
   ]
  },
  {
   "cell_type": "code",
   "execution_count": 2,
   "metadata": {
    "collapsed": true
   },
   "outputs": [],
   "source": [
    "##########\n",
    "#Model setup parameters\n",
    "###########\n",
    "\n",
    "stickyAir = False\n",
    "\n",
    "MINX = -1.\n",
    "MINY = 0.\n",
    "MAXX = 1.0\n",
    "\n",
    "#MAXY = 1.035\n",
    "MAXY = 1.\n",
    "\n",
    "if MINX == 0.:\n",
    "    squareModel = True\n",
    "else: \n",
    "    squareModel = False\n",
    "    \n",
    "    \n",
    "dim = 2          # number of spatial dimensions\n",
    "\n",
    "\n",
    "#MESH STUFF\n",
    "\n",
    "RES = 192\n",
    "\n",
    "if MINX == 0.:\n",
    "    Xres = RES\n",
    "else:\n",
    "    Xres = 2*RES\n",
    "\n",
    "if stickyAir:\n",
    "    Yres = RES + 8\n",
    "    MAXY = float(Yres)/RES\n",
    "    \n",
    "else:\n",
    "    Yres = RES\n",
    "    MAXY = 1.\n",
    "\n",
    "\n",
    "periodic = [False,False]\n",
    "elementType = \"Q1/dQ0\"\n",
    "#elementType =\"Q2/DPC1\"\n",
    "\n",
    "refineMesh = True"
   ]
  },
  {
   "cell_type": "code",
   "execution_count": null,
   "metadata": {
    "collapsed": true
   },
   "outputs": [],
   "source": []
  },
  {
   "cell_type": "code",
   "execution_count": 3,
   "metadata": {
    "collapsed": false
   },
   "outputs": [],
   "source": [
    "mesh = uw.mesh.FeMesh_Cartesian( elementType = (\"Q1/dQ0\"),\n",
    "                                 elementRes  = (Xres, Yres), \n",
    "                                 minCoord    = (MINX,MINY), \n",
    "                                 maxCoord=(MAXX,MAXY), periodic=periodic)"
   ]
  },
  {
   "cell_type": "code",
   "execution_count": 4,
   "metadata": {
    "collapsed": false
   },
   "outputs": [
    {
     "name": "stdout",
     "output_type": "stream",
     "text": [
      "(74305, 2)\n"
     ]
    }
   ],
   "source": [
    "print(mesh.data.shape)"
   ]
  },
  {
   "cell_type": "code",
   "execution_count": 5,
   "metadata": {
    "collapsed": false
   },
   "outputs": [],
   "source": [
    "def coarse_fine_division(mesh, axis=\"y\", refine_by=2., relax_by =0.5):\n",
    "    if axis == \"y\":\n",
    "        thisaxis = 1\n",
    "    else:\n",
    "        thisaxis = 0\n",
    "    width = (mesh.maxCoord[thisaxis]-mesh.minCoord[thisaxis])\n",
    "    dx = (mesh.maxCoord[thisaxis]-mesh.minCoord[thisaxis])/ (mesh.elementRes[thisaxis])\n",
    "    nx = mesh.elementRes[thisaxis]\n",
    "    dxf = dx/ refine_by\n",
    "    dxc = dx/ relax_by\n",
    "    #print(\"refine By:\" + str(refine_by))\n",
    "    i = 0\n",
    "    current_width = ((nx - i)  * dxf) + (i * dxc)\n",
    "    while current_width < width:\n",
    "        i += 1\n",
    "        current_width = ((nx - i)  * dxf) + (i * dxc)\n",
    "    #print current_width\n",
    "    #correct dxc so the total domain is preserved.\n",
    "    dxc = (width  - ((nx - i)  * dxf))/i\n",
    "    nxf = (nx - i) \n",
    "    nxc = i\n",
    "    nt = (nxf + nxc)\n",
    "    assert nt == nx\n",
    "    return nxf, dxf, nxc, dxc\n",
    "\n"
   ]
  },
  {
   "cell_type": "code",
   "execution_count": 6,
   "metadata": {
    "collapsed": false
   },
   "outputs": [],
   "source": [
    "def shishkin_centre_arrange(mesh,  nxf, dxf, nxc, dxc, axis=\"y\",centre = 0.5):\n",
    "    \"\"\"Returns dictionary that maps\n",
    "    original coordinates to new coordinaters.\n",
    "    \n",
    "    nxf: number of fine elements\n",
    "    dxf: size of fine elements\n",
    "    nxc: number or coarse elements\n",
    "    dxc: size of coarse elements \n",
    "    \"\"\"\n",
    "    import itertools\n",
    "    if axis == \"y\":\n",
    "        thisaxis = 1\n",
    "    else:\n",
    "        thisaxis = 0\n",
    "    #print thisaxis\n",
    "    ###################\n",
    "    #Get the number of coarse elements either side of fine elements\n",
    "    ###################\n",
    "    nr = nxc\n",
    "    nl = 0\n",
    "    #print((nxf*dxf - abs(mesh.minCoord[thisaxis])))\n",
    "    if ((nxf*dxf - abs(mesh.minCoord[thisaxis])) > centre):\n",
    "        print(\"left edge\")\n",
    "        pass\n",
    "    else:\n",
    "        left_length = (nl*dxc) + 0.5*(dxf*nxf) - abs(mesh.minCoord[thisaxis])\n",
    "        while (left_length <  centre):\n",
    "            nl += 1\n",
    "            left_length = (nl*dxc) + 0.5*(dxf*nxf) - abs(mesh.minCoord[thisaxis])\n",
    "            #print(left_length)\n",
    "            if nl == nxc:\n",
    "                print(\"right edge\")\n",
    "                break\n",
    "        nr = nxc - nl\n",
    "    #print(nl, nr, nxf)\n",
    "    #assert nr + nl + nxf == mesh.elementRes[thisaxis]\n",
    "    ###################\n",
    "    #return dictionary of new element mappings\n",
    "    ###################\n",
    "    lcoords = [(mesh.minCoord[thisaxis] + i*dxc) for i in range(nl+1)]\n",
    "    if lcoords:\n",
    "        #print(nl, lcoords[-1]/dxc)\n",
    "        ccoords =  [lcoords[-1] + i*dxf for i in range(1, nxf+1)]\n",
    "    else:\n",
    "        ccoords =  [(mesh.minCoord[thisaxis] + i*dxf) for i in range(0, nxf)]\n",
    "    rcoords = [ccoords[-1] + i*dxc for i in range(1, nr +1)]\n",
    "    if rcoords:\n",
    "        #rcoords.append(mesh.maxCoord[0])\n",
    "        pass\n",
    "    else:\n",
    "        #ccoords.append(mesh.maxCoord[0])\n",
    "        pass\n",
    "    newcoords = lcoords+ ccoords+ rcoords\n",
    "    #assert len(newcoords) == nx + 1\n",
    "    #origcoords = list(np.unique(mesh.data[:,thisaxis]))\n",
    "    #origcoords = np.linspace(mesh.minCoord[thisaxis], mesh.maxCoord[thisaxis], mesh.elementRes[thisaxis])\n",
    "    width = (mesh.maxCoord[thisaxis]-mesh.minCoord[thisaxis])\n",
    "    dx = (mesh.maxCoord[thisaxis]-mesh.minCoord[thisaxis])/ (mesh.elementRes[thisaxis])\n",
    "    origcoords = list(np.arange(mesh.minCoord[thisaxis], mesh.maxCoord[thisaxis], dx))\n",
    "    origcoords.append(mesh.maxCoord[thisaxis])\n",
    "    origcoords = [round(elem, 8) for elem in origcoords]\n",
    "    dictionary = dict(itertools.izip(origcoords, newcoords))\n",
    "    assert len([x for x, y in collections.Counter(newcoords).items() if y > 1]) == 0 #checks agains multiple coordinates\n",
    "    return dictionary\n"
   ]
  },
  {
   "cell_type": "code",
   "execution_count": 7,
   "metadata": {
    "collapsed": true
   },
   "outputs": [],
   "source": [
    "def shishkin_deform(mesh, centre = 0.5, axis=\"y\", refine_by=2., relax_by =0.5):\n",
    "    if axis == \"y\":\n",
    "        thisaxis = 1\n",
    "    else:\n",
    "        thisaxis = 0\n",
    "    print axis\n",
    "    nxf, dxf, nxc, dxc, = coarse_fine_division(mesh,axis, refine_by=refine_by, relax_by =relax_by)\n",
    "    coorddict = shishkin_centre_arrange(mesh, nxf=nxf, dxf=dxf, nxc=nxc, dxc=dxc, axis=axis , centre=centre)\n",
    "    with mesh.deform_mesh():\n",
    "        for index, coord in enumerate(mesh.data):\n",
    "            key =  round(mesh.data[index][thisaxis], 8)     \n",
    "            #print key\n",
    "            mesh.data[index][thisaxis] = coorddict[key]"
   ]
  },
  {
   "cell_type": "code",
   "execution_count": 9,
   "metadata": {
    "collapsed": true
   },
   "outputs": [],
   "source": [
    "mesh.reset()\n"
   ]
  },
  {
   "cell_type": "code",
   "execution_count": null,
   "metadata": {
    "collapsed": false
   },
   "outputs": [],
   "source": []
  },
  {
   "cell_type": "code",
   "execution_count": null,
   "metadata": {
    "collapsed": false
   },
   "outputs": [],
   "source": []
  },
  {
   "cell_type": "code",
   "execution_count": 10,
   "metadata": {
    "collapsed": false
   },
   "outputs": [
    {
     "name": "stdout",
     "output_type": "stream",
     "text": [
      "y\n",
      "right edge\n",
      "x\n"
     ]
    }
   ],
   "source": [
    "if refineMesh:\n",
    "    \n",
    "    shishkin_deform(mesh, centre = 0.9, axis=\"y\", refine_by=2.0, relax_by =0.5)\n",
    "    shishkin_deform(mesh, centre = 0.0, axis=\"x\", refine_by=2.0, relax_by =0.75)"
   ]
  },
  {
   "cell_type": "code",
   "execution_count": 11,
   "metadata": {
    "collapsed": false
   },
   "outputs": [
    {
     "data": {
      "text/html": [
       "<img src='data:image/png;base64,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'>"
      ],
      "text/plain": [
       "<IPython.core.display.HTML object>"
      ]
     },
     "execution_count": 11,
     "metadata": {},
     "output_type": "execute_result"
    }
   ],
   "source": [
    "fig= glucifer.Figure(figsize=(1024,384))\n",
    "fig.append( glucifer.objects.Mesh(mesh))\n",
    "fig.save_database('test.gldb')\n",
    "fig.show()"
   ]
  },
  {
   "cell_type": "markdown",
   "metadata": {
    "collapsed": true
   },
   "source": [
    "So the dictionary approach, while easier for parallel mesh refinement, is really clunky because of using potential high precision floats as dictionary keys. Key errors are likely to reappear as long a we do it like this. \n",
    "\n"
   ]
  },
  {
   "cell_type": "code",
   "execution_count": 77,
   "metadata": {
    "collapsed": false
   },
   "outputs": [],
   "source": [
    "centre = 0.0\n",
    "axis=\"x\"\n",
    "refine_by=2.0\n",
    "relax_by =0.75\n",
    "\n",
    "nxf, dxf, nxc, dxc, = coarse_fine_division(mesh,axis, refine_by=refine_by, relax_by =relax_by)\n",
    "coorddict = shishkin_centre_arrange(mesh, nxf=nxf, dxf=dxf, nxc=nxc, dxc=dxc, axis=axis , centre=centre)\n",
    "\n",
    "\n",
    "thisaxis = 0\n",
    "dx = (mesh.maxCoord[thisaxis]-mesh.minCoord[thisaxis])/ (mesh.elementRes[thisaxis])\n",
    "\n",
    "cdk = coorddict.keys()\n",
    "cdk.sort()\n",
    "\n",
    "origcoords = list(np.arange(mesh.minCoord[thisaxis], mesh.maxCoord[thisaxis], dx))\n",
    "origcoords.append(mesh.maxCoord[thisaxis])\n",
    "origcoords = [round(elem, 5) for elem in origcoords]\n",
    "\n",
    "origcoords == cdk"
   ]
  }
 ],
 "metadata": {
  "kernelspec": {
   "display_name": "Python 2",
   "language": "python",
   "name": "python2"
  },
  "language_info": {
   "codemirror_mode": {
    "name": "ipython",
    "version": 2
   },
   "file_extension": ".py",
   "mimetype": "text/x-python",
   "name": "python",
   "nbconvert_exporter": "python",
   "pygments_lexer": "ipython2",
   "version": "2.7.11"
  }
 },
 "nbformat": 4,
 "nbformat_minor": 0
}
