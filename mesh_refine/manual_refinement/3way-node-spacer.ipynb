{
 "cells": [
  {
   "cell_type": "code",
   "execution_count": 1,
   "metadata": {
    "collapsed": true
   },
   "outputs": [],
   "source": [
    "%matplotlib inline\n",
    "import underworld as uw\n",
    "import math\n",
    "from underworld import function as fn\n",
    "import glucifer\n",
    "import matplotlib.pyplot as pyplot\n",
    "import numpy as np\n"
   ]
  },
  {
   "cell_type": "code",
   "execution_count": 2,
   "metadata": {
    "collapsed": true
   },
   "outputs": [],
   "source": [
    "dim = 2\n",
    "meshX = 64\n",
    "meshY = 64\n",
    "\n",
    "Q1dP0Mesh = uw.mesh.FeMesh_Cartesian( elementType='Q1/dQ0',\n",
    "                                      elementRes=(meshX,meshY), \n",
    "                                      minCoord=(0.,0.), maxCoord=(1.0,1.0)  )\n",
    "\n",
    "Q1Mesh =  Q1dP0Mesh # returns outer mesh by default\n",
    "dP0Mesh = Q1dP0Mesh.subMesh\n",
    "\n",
    "velocityMesh =  Q1Mesh\n",
    "pressureMesh = dP0Mesh\n",
    "\n",
    "xCoordFn = fn.input()[0]\n",
    "yCoordFn = fn.input()[1]"
   ]
  },
  {
   "cell_type": "code",
   "execution_count": 169,
   "metadata": {
    "collapsed": true
   },
   "outputs": [],
   "source": [
    "# create & zero meshvariables\n",
    "velocityField    = uw.mesh.MeshVariable( mesh=velocityMesh,   nodeDofCount=dim )\n",
    "pressureField    = uw.mesh.MeshVariable( mesh=pressureMesh,   nodeDofCount=1 )\n",
    "temperatureField = uw.mesh.MeshVariable( mesh=velocityMesh,   nodeDofCount=1 )\n",
    "\n",
    "velocityField.data[:] = [0.,0.]\n",
    "pressureField.data[:] = 0.\n",
    "temperatureField.data[:] = 0"
   ]
  },
  {
   "cell_type": "code",
   "execution_count": 170,
   "metadata": {
    "collapsed": true
   },
   "outputs": [],
   "source": [
    "IWalls = velocityMesh.specialSets[\"MinI_VertexSet\"] + velocityMesh.specialSets[\"MaxI_VertexSet\"]\n",
    "JWalls = velocityMesh.specialSets[\"MinJ_VertexSet\"] + velocityMesh.specialSets[\"MaxJ_VertexSet\"]\n",
    "\n",
    "freeslipBC = uw.conditions.DirichletCondition(    variable=velocityField, \n",
    "                                                  indexSetsPerDof=(IWalls,JWalls) )\n",
    "\n",
    "# temperature does not evolve with time so no bcs are needed"
   ]
  },
  {
   "cell_type": "code",
   "execution_count": 171,
   "metadata": {
    "collapsed": false
   },
   "outputs": [],
   "source": [
    "import numpy as np\n",
    "import math\n",
    "\n",
    "def gauss(r,a):\n",
    "   return np.exp(-r**2/a**2) \n",
    "\n",
    "def three_way_node_density(alpha, beta, yLoc):\n",
    "    \"\"\"\n",
    "    This is a function to return a new distribution of point densities on the unit interval\n",
    "    in three gaussian-shaped regions (surface, base and one specified - \n",
    "    presumed to be where the forcing function is concentrated)\n",
    "    \n",
    "    \"\"\"\n",
    "\n",
    "    count = len(yLoc)\n",
    "    new_vpoints            = np.zeros(count)\n",
    "\n",
    "    refine1 = gauss(yLoc, beta) \n",
    "    refine2 = gauss(yLoc-1.0, beta)\n",
    "    refine3 = gauss(yLoc-alpha, beta)\n",
    "\n",
    "    node_density_function = (refine1 + refine2 + refine3)\n",
    "                \n",
    "    return node_density_function\n",
    "\n",
    "\n",
    "def unit_interval_node_spacer(node_count, separation, yd):\n",
    "\n",
    "    from scipy import interpolate as interpolate\n",
    "    from scipy.misc import derivative as derivative\n",
    "\n",
    "    count = node_count\n",
    "\n",
    "    ys = np.linspace(0.0,1.0,count)\n",
    "    \n",
    "    # separation = 10.0 * np.sin(4.0*math.pi*yd)**2\n",
    "    separation -= separation.min() - 1.0\n",
    "    separation_fn_rbf = interpolate.Rbf(yd, separation)\n",
    "    separation_fn_rbf_deriv = derivative(separation_fn_rbf, ys, dx=0.5/count)\n",
    "\n",
    "    sep = ys.copy() \n",
    "    sep[1:-1] = 0.5 * (ys[2:] - ys[0:-2])\n",
    "    sep[-1] = sep[-2]\n",
    "    sep[0] = sep[1]\n",
    "\n",
    "    sep_ratio = sep / sep.min() \n",
    "\n",
    "    node_separation_anomaly = (sep_ratio - separation_fn_rbf(ys))\n",
    "    node_separation_anomaly_rbf = interpolate.Rbf(ys, node_separation_anomaly, smooth=0.5)\n",
    "    node_flux =  derivative(node_separation_anomaly_rbf, ys, dx=0.5/count)\n",
    "\n",
    "    node_separation_anomaly0 = node_separation_anomaly.copy()\n",
    "\n",
    "    delta = np.abs(sep / node_flux).min() / count\n",
    "    residual = (node_separation_anomaly**2).sum()\n",
    "    residual0 = residual\n",
    "    loops = 0\n",
    "    while loops < 1000 and residual > residual0 * 0.001:\n",
    "\n",
    "        y_old = ys.copy()\n",
    "\n",
    "        for i in range(1, count-1):\n",
    "            ys += node_flux * delta  # ? SOR\n",
    "\n",
    "        ys /= (ys.max() - ys.min()) \n",
    "        ys -= ys.min()\n",
    "\n",
    "        ys = 0.75 * ys + 0.25 * y_old\n",
    "\n",
    "        sep = ys.copy() \n",
    "        sep[1:-1] = 0.5 * (ys[2:] - ys[0:-2])\n",
    "        sep[-1] = sep[-2]\n",
    "        sep[0] = sep[1]\n",
    "\n",
    "        sep_ratio = sep / sep.min() \n",
    "\n",
    "        node_separation_anomaly = (sep_ratio - separation_fn_rbf(ys))\n",
    "        node_separation_anomaly_rbf = interpolate.Rbf(ys, node_separation_anomaly, smooth=0.5)\n",
    "        node_flux = derivative(node_separation_anomaly_rbf, ys, dx=1.0/count)\n",
    "\n",
    "        residual = (node_separation_anomaly**2).sum()\n",
    "\n",
    "        delta = np.abs(sep / node_flux).min() / count\n",
    "        loops += 1\n",
    "\n",
    "#    print loops, \"iterations, residual = \", residual / residual0\n",
    "    \n",
    "    return ys, sep_ratio\n",
    "\n",
    "\n",
    "# Need to fix this for non-unit mesh sizes #\n",
    "\n",
    "def remap_vmesh_pmesh_y(alpha, beta, intensity):\n",
    "    \"\"\"\n",
    "    remap the mesh in x to give better resolution on boundaries and around one horizontal line\n",
    "    \"\"\"\n",
    "    with velocityMesh.deform_mesh():\n",
    "        yd = np.linspace(0,1.0,1000)\n",
    "        separation = intensity * ( 1.0 - three_way_node_density(alpha, beta, yd)) \n",
    "\n",
    "        new_yVcoords, sep = unit_interval_node_spacer(meshY+1, separation, yd)\n",
    "\n",
    "        vpoints = velocityMesh.data.reshape(meshY+1,meshX+1,2)\n",
    "\n",
    "        meshMinY = velocityMesh.minCoord[1]\n",
    "        meshDY =   velocityMesh.maxCoord[1] - velocityMesh.minCoord[1]\n",
    "\n",
    "        for column in range(0,meshX+1):\n",
    "            vpoints[:,column,1] = new_yVcoords[:] * meshDY + meshMinY\n",
    "\n",
    "        # This will have changed the mesh since {v,p}points is a view into the original mesh data    \n",
    "\n",
    "        actual_level = 0\n",
    "        actual_coord = 0.0\n",
    "        distance = 1.0\n",
    "\n",
    "        for i in range(0,meshY+1):\n",
    "            this_distance = np.abs(new_yVcoords[i] - alpha)\n",
    "            if this_distance < distance:\n",
    "                distance = this_distance\n",
    "                actual_coord = new_yVcoords[i]\n",
    "                actual_level = i\n",
    "\n",
    "        return actual_coord, actual_level\n",
    "\n",
    "\n",
    "def remap_vmesh_pmesh_x(alpha, beta, intensity):\n",
    "    \"\"\"\n",
    "    remap the mesh in x to give better resolution on boundaries and around one vertical line.\n",
    "    Caution, the kernel routines / ffts currently assume even spacing laterally !!\n",
    "    \"\"\"\n",
    "    with velocityMesh.deform_mesh():\n",
    "\n",
    "        xd = np.linspace(0,1.0,1000)\n",
    "        separation = intensity * ( 1.0 - three_way_node_density(alpha, beta, xd)) \n",
    "\n",
    "        new_xVcoords, sep = unit_interval_node_spacer(meshX+1, separation, xd)\n",
    "\n",
    "        vpoints = velocityMesh.data.reshape(meshY+1,meshX+1,2)\n",
    "\n",
    "        meshMinX = velocityMesh.minCoord[0]\n",
    "        meshDX =   velocityMesh.maxCoord[0] - velocityMesh.minCoord[0]\n",
    "\n",
    "        for row in range(0,meshY+1):\n",
    "            vpoints[row,:,0] = new_xVcoords[:] * meshDX + meshMinX\n",
    "\n",
    "        # This will have changed the mesh since {v,p}points is a view into the original mesh data    \n",
    "\n",
    "        actual_column = 0\n",
    "        actual_coord = 0.0\n",
    "        distance = 1.0\n",
    "\n",
    "        for i in range(0,meshX+1):\n",
    "            this_distance = np.abs(new_xVcoords[i] - alpha)\n",
    "            if this_distance < distance:\n",
    "                distance = this_distance\n",
    "                actual_coord = new_xVcoords[i]\n",
    "                actual_column = i\n",
    "\n",
    "        return actual_coord, actual_column\n",
    "\n"
   ]
  },
  {
   "cell_type": "code",
   "execution_count": 172,
   "metadata": {
    "collapsed": false
   },
   "outputs": [
    {
     "name": "stdout",
     "output_type": "stream",
     "text": [
      "[[ 0.79402221]\n",
      " [ 0.80293376]\n",
      " [ 0.81191327]]\n",
      "0.802933764664 48\n"
     ]
    },
    {
     "data": {
      "text/html": [
       "<img src='data:image/png;base64,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'>"
      ],
      "text/plain": [
       "<IPython.core.display.HTML object>"
      ]
     },
     "execution_count": 172,
     "metadata": {},
     "output_type": "execute_result"
    }
   ],
   "source": [
    "\n",
    "actual_y, layer  = remap_vmesh_pmesh_y(0.8,0.05, 2.0) \n",
    "#actual_x, column = remap_vmesh_pmesh_x(0.5,0.05,1.0) \n",
    "\n",
    "y_coordinates = yCoordFn.evaluate(velocityMesh.specialSets[\"MinI_VertexSet\"])\n",
    "\n",
    "print y_coordinates[[layer-1, layer, layer+1]]\n",
    "print actual_y, layer\n",
    "\n",
    "meshfig = glucifer.Figure()\n",
    "meshfig.append( glucifer.objects.Mesh(velocityMesh))\n",
    "\n",
    "meshfig.save_database('test.gldb')\n",
    "meshfig.show()"
   ]
  },
  {
   "cell_type": "code",
   "execution_count": 3,
   "metadata": {
    "collapsed": false
   },
   "outputs": [
    {
     "data": {
      "text/html": [
       "<img src='data:image/png;base64,'>"
      ],
      "text/plain": [
       "<IPython.core.display.HTML object>"
      ]
     },
     "execution_count": 3,
     "metadata": {},
     "output_type": "execute_result"
    }
   ],
   "source": [
    "meshfig = glucifer.Figure()\n",
    "meshfig.append( glucifer.objects.Mesh(velocityMesh))\n",
    "\n",
    "#meshfig.save_database('test.gldb')\n",
    "meshfig.show()"
   ]
  },
  {
   "cell_type": "code",
   "execution_count": null,
   "metadata": {
    "collapsed": true
   },
   "outputs": [],
   "source": []
  }
 ],
 "metadata": {
  "kernelspec": {
   "display_name": "Python 2",
   "language": "python",
   "name": "python2"
  },
  "language_info": {
   "codemirror_mode": {
    "name": "ipython",
    "version": 2
   },
   "file_extension": ".py",
   "mimetype": "text/x-python",
   "name": "python",
   "nbconvert_exporter": "python",
   "pygments_lexer": "ipython2",
   "version": "2.7.11"
  }
 },
 "nbformat": 4,
 "nbformat_minor": 0
}
