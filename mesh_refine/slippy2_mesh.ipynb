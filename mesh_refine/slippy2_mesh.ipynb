{
 "cells": [
  {
   "cell_type": "code",
   "execution_count": 76,
   "metadata": {
    "collapsed": true
   },
   "outputs": [],
   "source": [
    "%matplotlib inline\n",
    "import matplotlib.pyplot as plt\n",
    "import underworld as uw\n",
    "import glucifer\n",
    "import numpy as np\n",
    "import slippy2 as sp\n"
   ]
  },
  {
   "cell_type": "code",
   "execution_count": 77,
   "metadata": {
    "collapsed": false
   },
   "outputs": [],
   "source": [
    "mesh = uw.mesh.FeMesh_Cartesian( elementType = (\"Q1/dQ0\"), \n",
    "                                 elementRes  = (128,64), \n",
    "                                 minCoord    = (-1., 0.), \n",
    "                                 maxCoord    = (1., 1.))"
   ]
  },
  {
   "cell_type": "code",
   "execution_count": 78,
   "metadata": {
    "collapsed": false
   },
   "outputs": [
    {
     "data": {
      "text/html": [
       "<img src='data:image/png;base64,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'>"
      ],
      "text/plain": [
       "<IPython.core.display.HTML object>"
      ]
     },
     "execution_count": 78,
     "metadata": {},
     "output_type": "execute_result"
    }
   ],
   "source": [
    "figMesh = glucifer.Figure(antialias=1)\n",
    "#figMesh.append( glucifer.objects.Mesh(mesh.subMesh, nodeNumbers=True) )\n",
    "figMesh.append( glucifer.objects.Mesh(mesh) )\n",
    "figMesh.show()"
   ]
  },
  {
   "cell_type": "code",
   "execution_count": 79,
   "metadata": {
    "collapsed": true
   },
   "outputs": [],
   "source": [
    "def mesh_min_max(mesh, axis='x'):\n",
    "    if axis == \"y\":\n",
    "        thisaxis = 1\n",
    "    else:\n",
    "        thisaxis = 0\n",
    "    return np.diff(np.sort(np.unique(mesh.data[:,thisaxis]))).min(), \\\n",
    "    np.diff(np.sort(np.unique(mesh.data[:,thisaxis]))).max()"
   ]
  },
  {
   "cell_type": "code",
   "execution_count": 80,
   "metadata": {
    "collapsed": false
   },
   "outputs": [
    {
     "name": "stdout",
     "output_type": "stream",
     "text": [
      "(0.015625, 0.015625, 0.015625, 0.015625)\n"
     ]
    }
   ],
   "source": [
    "dxmin,dxmax = mesh_min_max(mesh, axis='x')\n",
    "dymin,dymax = mesh_min_max(mesh, axis='y')\n",
    "print(dxmin,dxmax,dymin,dymax)"
   ]
  },
  {
   "cell_type": "markdown",
   "metadata": {},
   "source": [
    "## Shiskin refinement"
   ]
  },
  {
   "cell_type": "code",
   "execution_count": 81,
   "metadata": {
    "collapsed": false
   },
   "outputs": [],
   "source": [
    "axis = 0\n",
    "#print((mesh.minCoord[axis], mesh.maxCoord[axis], mesh.elementRes[axis]))\n",
    "#print(mesh.data_nodegId.shape)\n",
    "xkeys, ykeys = sp.mesh_element_keys(mesh)\n",
    "\n",
    "#print(xkeys.shape, ykeys.shape,)"
   ]
  },
  {
   "cell_type": "code",
   "execution_count": 82,
   "metadata": {
    "collapsed": false
   },
   "outputs": [
    {
     "name": "stdout",
     "output_type": "stream",
     "text": [
      "('unique mesh index: ', (8385,))\n"
     ]
    }
   ],
   "source": [
    "testx = []\n",
    "for index, coord in enumerate(mesh.data):\n",
    "    testx.append(index)\n",
    "    \n",
    "    \n",
    "    \n",
    "print(\"unique mesh index: \", np.unique(testx).shape)"
   ]
  },
  {
   "cell_type": "code",
   "execution_count": null,
   "metadata": {
    "collapsed": false
   },
   "outputs": [],
   "source": []
  },
  {
   "cell_type": "code",
   "execution_count": 83,
   "metadata": {
    "collapsed": false
   },
   "outputs": [
    {
     "name": "stdout",
     "output_type": "stream",
     "text": [
      "Min\n",
      "(128, 0.0078126562499999993, 1.6718815624999999, 0.48837209302325607)\n",
      "('edges', 128)\n",
      "-- iteration 0 --\n",
      "| F( p_n ) |^2: 0.000299519120992\n",
      "| p_n+1 - p_n |^2: 1.15089070244\n",
      "-- iteration 1 --\n",
      "| F( p_n ) |^2: 2.79747342953e-31\n",
      "Min, Max element width: \n",
      "0.00781\n",
      "0.01944\n"
     ]
    }
   ],
   "source": [
    "#X-Axis\n",
    "mesh.reset()\n",
    "axis = 0\n",
    "origcoords = np.linspace(mesh.minCoord[axis], mesh.maxCoord[axis], mesh.elementRes[axis] + 1)\n",
    "edge_rest_lengths = np.diff(origcoords)\n",
    "\n",
    "deform_lengths = edge_rest_lengths.copy()\n",
    "third = edge_rest_lengths.shape[0]/3\n",
    "deform_lengths[third:2*third] *= 0.50001 ##The matix can go singular when this is exactly 1.\n",
    "\n",
    "#print(edge_rest_lengths.shape, deform_lengths.shape)\n",
    "\n",
    "sp.deform_1d(deform_lengths, mesh,axis = 'x',norm = 'Min', constraints = \"None\")"
   ]
  },
  {
   "cell_type": "code",
   "execution_count": 84,
   "metadata": {
    "collapsed": false
   },
   "outputs": [
    {
     "name": "stdout",
     "output_type": "stream",
     "text": [
      "Min\n",
      "(64, 0.0078126562499999993, 0.82812843749999987, 0.52380952380952439)\n",
      "('edges', 64)\n",
      "-- iteration 0 --\n",
      "| F( p_n ) |^2: 0.000219496339639\n",
      "| p_n+1 - p_n |^2: 0.630524133437\n",
      "-- iteration 1 --\n",
      "| F( p_n ) |^2: 3.37970612585e-31\n",
      "Min, Max element width: \n",
      "0.00781\n",
      "0.01972\n"
     ]
    }
   ],
   "source": [
    "#Y-Axis\n",
    "axis = 1\n",
    "origcoords = np.linspace(mesh.minCoord[axis], mesh.maxCoord[axis], mesh.elementRes[axis] + 1)\n",
    "edge_rest_lengths = np.diff(origcoords)\n",
    "third = edge_rest_lengths.shape[0]/3\n",
    "deform_lengths = np.copy(edge_rest_lengths)\n",
    "deform_lengths\n",
    "\n",
    "deform_lengths[2*third:] *= 0.50001 ##The matix can go singular when this is exactly 1.\n",
    "sp.deform_1d(deform_lengths, mesh, axis = 'y',norm = 'Min', constraints = \"None\")\n"
   ]
  },
  {
   "cell_type": "code",
   "execution_count": 85,
   "metadata": {
    "collapsed": false
   },
   "outputs": [
    {
     "data": {
      "text/html": [
       "<img src='data:image/png;base64,iVBORw0KGgoAAAANSUhEUgAAAoAAAAHgCAIAAAC6s0uzAAAJ00lEQVR42u3cwWpcVxAEUD+j///l8X7UGIzVKtR1ziKLJFSwGCj1pTLP6/X6BQB8r99+BACggAFAAQMAChgAFDAAoIABQAEDAAoYABQwAKCAAUABA4ACBgAUMAAoYABAAQOAAgYAFDAAKGAAQAEDgAIGAAUMAChgAFDAAIACBgAFDAAoYABQwACAAgYABQwAChgAUMAAoIABAAUMAAoYAFDAAKCAAQAFDAAKGAAUMACggAFAAQMAChgAFDAAoIABQAEDAAoYABQwAChgAEABA4ACBgAUMAAoYABAAQOAAgYAFDAAKGAAUMAAgAIGAAUMAChgAFDAAIACBgAFDAAoYABQwACggAEABQwAChgAUMAAoIABAAUMAAoYAFDAAKCAAUABAwAKGAAUMACggAFAAQMAChgAFDAAoIABQAEDgAIGABQwAChgAEABA4ACBgAUMAAoYABAAQOAAgYAFDAAKGAAUMAAwJaP1fTnefyIAfiJXq/XDy7gz3+A53n+/nf+/1+QKfPLMz//1T/y0ZJ5O/MbDshnteFdwAC4gF3AMmW6gF3AMmW6gAHABewClinTBewClinTBQwALmAXsEwXsAvYBSzTBfzVfBEHAAR4ggaAgSdobyYy85meoD1By2zLNMICABewC1imC9gF7AKW6QJ2AQOAC9gFLNMF7AL20ZLpAnYBA4AL2K9XMl3ALmAfLZku4De+iAMAAjxBA8DAE7Q3E5n5TE/QnqBltmUaYQGAC9gFLNMF7AJ2Act0AbuAAcAF7AKW6QJ2AftoyXQBu4ABwAXs1yuZLmAXsI+WTBfwG1/EAQABnqABYOAJ2puJzHymJ2hP0DLbMo2wAMAF7AKW6QJ2AbuAZbqAXcAA4AJ2Act0AbuAfbRkuoBdwADgAvbrlUwXsAvYR0umC/iNL+IAgABP0AAw8ATtzURmPtMTtCdomW2ZRlgA4AJ2Act0AbuAXcAyXcAuYABwAbuAZbqAXcA+WjJdwC5gAHAB+/VKpgvYBeyjJdMF/MYXcQBAgCdoABh4gvZmIjOf6QnaE7TMtkwjLABwAbuAZbqAXcAuYJkuYBcwALiAXcAyXcAuYB8tmS7gf+B/QwKAAAUMAAoYABQwALDEChoABlbQZnsy85lW0FbQMtsyraAB4CYFDAAKGAA6GGEBwMAIy2pAZj7TCMsIS2ZbphEWANykgAFAAQOAAgYAllhBA8DACtpsT2Y+0wraClpmW6YVNADcpIABQAEDgAIGAJZYQQPAwArabE9mPtMK2gpaZlumFTQA3KSAAUABA0AHIywAGBhhWQ3IzGcaYRlhyWzLNMICgJsUMAAoYABQwADAEitoABhYQZvtycxnWkFbQctsy7SCBoCbFDAAKGAAUMAAwBIraAAYWEGb7cnMZ1pBW0HLbMu0ggaAmxQwAChgAOhghAUAAyMsqwGZ+UwjLCMsmW2ZRlgAcJMCBgAFDAAKGABYYgUNAAMraLM9mflMK2graJltmVbQAHCTAgYABQwAChgAWGIFDQADK2izPZn5TCtoK2iZbZlW0ABwkwIGAAUMAB2MsABgYIRlNSAzn2mEZYQlsy3TCAsAblLAAKCAAUABAwBLrKABYGAFbbYnM59pBW0FLbMt0woaAG5SwACggAFAAQMAS6ygAWBgBW22JzOfaQVtBS2zLdMKGgBuUsAAoIABQAEDAEusoAFgYAVtticzn2kFbQUtsy3TChoAblLAAKCAAaCDERYADIywrAZk5jONsIywZLZlGmEBwE0KGAAUMAAoYABgiRU0AAysoM32ZOYzraCtoGW2ZVpBA8BNChgAFDAAKGAAYIkVNAAMrKDN9mTmM62graBltmVaQQPATQoYABQwAHQwwgKAgRGW1YDMfKYRlhGWzLZMIywAuEkBA4ACBgAFDAAssYIGgIEVtNmezHymFbQVtMy2TCtoALhJAQOAAgYABQwALLGCBoCBFbTZnsx8phW0FbTMtkwraAC4SQEDgAIGgA5GWAAwMMKyGpCZzzTCMsKS2ZZphAUANylgAFDAAKCAAYAlVtAAMLCCNtuTmc+0graCltmWaQUNADcpYABQwACggAGAJVbQADCwgjbbk5nPtIK2gpbZlmkFDQA3KWAAUMAA0MEICwAGRlhWAzLzmUZYRlgy2zKNsADgJgUMAAoYABQwALDEChoABlbQZnsy85lW0FbQMtsyraAB4CYFDAAKGAAUMACwxAoaAAZW0GZ7MvOZVtBW0DLbMq2gAeAmBQwAChgAOhhhAcDACMtqQGY+0wjLCEtmW6YRFgDcpIABQAEDgAIGAJZYQQPAwArabE9mPtMK2gpaZlumFTQA3KSAAUABA4ACBgCWWEEDwMAK2mxPZj7TCtoKWmZbphU0ANykgAFAAQNAByMsABgYYVkNyMxnGmEZYclsyzTCAoCbFDAAKGAAUMAAwBIraAAYWEGb7cnMZ1pBW0HLbMu0ggaAmxQwAChgAFDAAMASK2gAGFhBm+3JzGdaQVtBy2zLtIIGgJsUMAAoYADoYIQFAAMjLKsBmflMIywjLJltmUZYAHCTAgYABQwAChgAWGIFDQADK2izPZn5TCtoK2iZbZlW0ABwkwIGAAUMAAoYAFhiBQ0AAytosz2Z+UwraCtomW2ZVtAAcJMCBgAFDAAdjLAAYGCEZTUgM59phGWEJbMt0wgLAG5SwACggAFAAQMAS6ygAWBgBW22JzOfaQVtBS2zLdMKGgBuUsAAoIABQAEDAEusoAFgYAVtticzn2kFbQUtsy3TChoAblLAAKCAAaCDERYADIywrAZk5jONsIywZLZlGmEBwE0KGAAUMAAoYABgiRU0AAysoM32ZOYzraCtoGW2ZVpBA8BNChgAFDAAKGAAYIkVNAAMrKDN9mTmM62graBltmVaQQPATQoYABQwAChgAGDJs73yMoQG4Cda78ft/wAA8JknaABQwACggAEABQwAChgAUMAAoIABAAUMAAoYAFDAAKCAAUABAwAKGAAUMACggAFAAQMAChgAFDAAoIABQAEDgAIGABQwAChgAEABA4ACBgAUMAAoYABAAQOAAgYABQwAKGAAUMAAgAIGAAUMAChgAFDAAIACBgAFDAAKGABQwACggAEABQwAChgAUMAAoIABAAUMAAoYABQwAKCAAUABAwAKGAAUMACggAFAAQMAChgAFDAAKGAAQAEDgAIGABQwAChgAEABA4ACBgAUMAAoYABQwACAAgYABQwAKGAAUMAAgAIGAAUMAChgAFDAAKCAAQAFDAAKGABQwACggAEABQwAChgAUMAAoIABQAH7EQCAAgYABQwAKGAAUMAAgAIGAAUMAChgAFDAAIACBgAFDAAt/gAbp5HqxXPSUwAAAABJRU5ErkJggg=='>"
      ],
      "text/plain": [
       "<IPython.core.display.HTML object>"
      ]
     },
     "execution_count": 85,
     "metadata": {},
     "output_type": "execute_result"
    }
   ],
   "source": [
    "figMesh.save_database('test.gldb')\n",
    "figMesh.show()"
   ]
  },
  {
   "cell_type": "code",
   "execution_count": 86,
   "metadata": {
    "collapsed": false
   },
   "outputs": [
    {
     "data": {
      "text/plain": [
       "(0.0078126562500000496, 0.019440330668604733)"
      ]
     },
     "execution_count": 86,
     "metadata": {},
     "output_type": "execute_result"
    }
   ],
   "source": [
    "mesh_min_max(mesh, axis='x')"
   ]
  },
  {
   "cell_type": "code",
   "execution_count": 87,
   "metadata": {
    "collapsed": false
   },
   "outputs": [
    {
     "name": "stdout",
     "output_type": "stream",
     "text": [
      "1.9999600008\n",
      "1.9999600008\n"
     ]
    }
   ],
   "source": [
    "print(dxmin/mesh_min_max(mesh, axis='x')[0])\n",
    "print(dymin/mesh_min_max(mesh, axis='y')[0])\n",
    "#print(dxorig, dyorig)"
   ]
  },
  {
   "cell_type": "markdown",
   "metadata": {},
   "source": [
    "## Linear refinement"
   ]
  },
  {
   "cell_type": "code",
   "execution_count": 88,
   "metadata": {
    "collapsed": false
   },
   "outputs": [
    {
     "data": {
      "text/plain": [
       "array([ 0.015625  ,  0.015625  ,  0.015625  ,  0.015625  ,  0.015625  ,\n",
       "        0.015625  ,  0.015625  ,  0.015625  ,  0.015625  ,  0.015625  ,\n",
       "        0.015625  ,  0.015625  ,  0.015625  ,  0.015625  ,  0.015625  ,\n",
       "        0.015625  ,  0.015625  ,  0.015625  ,  0.015625  ,  0.015625  ,\n",
       "        0.015625  ,  0.015625  ,  0.015625  ,  0.015625  ,  0.015625  ,\n",
       "        0.015625  ,  0.015625  ,  0.015625  ,  0.015625  ,  0.015625  ,\n",
       "        0.015625  ,  0.015625  ,  0.015625  ,  0.015625  ,  0.015625  ,\n",
       "        0.015625  ,  0.015625  ,  0.015625  ,  0.015625  ,  0.015625  ,\n",
       "        0.015625  ,  0.015625  ,  0.00781266,  0.00781266,  0.00781266,\n",
       "        0.00781266,  0.00781266,  0.00781266,  0.00781266,  0.00781266,\n",
       "        0.00781266,  0.00781266,  0.00781266,  0.00781266,  0.00781266,\n",
       "        0.00781266,  0.00781266,  0.00781266,  0.00781266,  0.00781266,\n",
       "        0.00781266,  0.00781266,  0.00781266,  0.00781266])"
      ]
     },
     "execution_count": 88,
     "metadata": {},
     "output_type": "execute_result"
    }
   ],
   "source": [
    "deform_lengths"
   ]
  },
  {
   "cell_type": "code",
   "execution_count": 89,
   "metadata": {
    "collapsed": false
   },
   "outputs": [
    {
     "name": "stdout",
     "output_type": "stream",
     "text": [
      "Min\n",
      "(128, 0.0078140624999999998, 1.5001999999999998, 0.99960000000000093)\n",
      "('edges', 128)\n",
      "-- iteration 0 --\n",
      "| F( p_n ) |^2: 0.000125834660797\n",
      "| p_n+1 - p_n |^2: 1.06884342198\n",
      "-- iteration 1 --\n",
      "| F( p_n ) |^2: 4.05552698039e-31\n",
      "Min, Max element width: \n",
      "0.00781\n",
      "0.02344\n"
     ]
    }
   ],
   "source": [
    "#X-Axis\n",
    "mesh.reset()\n",
    "axis = 0\n",
    "origcoords = np.linspace(mesh.minCoord[axis], mesh.maxCoord[axis], mesh.elementRes[axis] + 1)\n",
    "edge_rest_lengths = np.diff(origcoords)\n",
    "\n",
    "deform_lengths = edge_rest_lengths.copy()\n",
    "min_point =  (abs(mesh.maxCoord[axis]) - abs(mesh.minCoord[axis]))/2.\n",
    "el_reduction = 0.5001\n",
    "dx = mesh.maxCoord[axis] - min_point\n",
    "\n",
    "deform_lengths = deform_lengths - \\\n",
    "                                ((1.-el_reduction) *deform_lengths[0]) + \\\n",
    "                                abs((origcoords[1:] - min_point))*((0.5*deform_lengths[0])/dx)\n",
    "\n",
    "#print(edge_rest_lengths.shape, deform_lengths.shape)\n",
    "\n",
    "sp.deform_1d(deform_lengths, mesh,axis = 'x',norm = 'Min', constraints = \"None\")"
   ]
  },
  {
   "cell_type": "code",
   "execution_count": 90,
   "metadata": {
    "collapsed": false
   },
   "outputs": [
    {
     "data": {
      "text/plain": [
       "1.0"
      ]
     },
     "execution_count": 90,
     "metadata": {},
     "output_type": "execute_result"
    }
   ],
   "source": [
    "dx"
   ]
  },
  {
   "cell_type": "code",
   "execution_count": 91,
   "metadata": {
    "collapsed": false,
    "scrolled": true
   },
   "outputs": [
    {
     "name": "stdout",
     "output_type": "stream",
     "text": [
      "Min\n",
      "(64, 0.0078140624999999998, 0.74619374999999988, 1.0313396825396834)\n",
      "('edges', 64)\n",
      "-- iteration 0 --\n",
      "| F( p_n ) |^2: 0.000125895187329\n",
      "| p_n+1 - p_n |^2: 0.550178754655\n",
      "-- iteration 1 --\n",
      "| F( p_n ) |^2: 3.77079027518e-31\n",
      "Min, Max element width: \n",
      "0.00781\n",
      "0.02344\n"
     ]
    }
   ],
   "source": [
    "#Y-Axis\n",
    "axis = 1\n",
    "origcoords = np.linspace(mesh.minCoord[axis], mesh.maxCoord[axis], mesh.elementRes[axis] + 1)\n",
    "edge_rest_lengths = np.diff(origcoords)\n",
    "\n",
    "deform_lengths = edge_rest_lengths.copy()\n",
    "min_point =  (mesh.maxCoord[axis])\n",
    "el_reduction = 0.5001\n",
    "dx = mesh.maxCoord[axis]\n",
    "\n",
    "deform_lengths = deform_lengths - \\\n",
    "                                ((1.-el_reduction)*deform_lengths[0]) + \\\n",
    "                                abs((origcoords[1:] - min_point))*((0.5*deform_lengths[0])/dx)\n",
    "\n",
    "#print(edge_rest_lengths.shape, deform_lengths.shape)\n",
    "\n",
    "sp.deform_1d(deform_lengths, mesh,axis = 'y',norm = 'Min', constraints = \"None\")"
   ]
  },
  {
   "cell_type": "code",
   "execution_count": 92,
   "metadata": {
    "collapsed": false
   },
   "outputs": [
    {
     "data": {
      "text/html": [
       "<img src='data:image/png;base64,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'>"
      ],
      "text/plain": [
       "<IPython.core.display.HTML object>"
      ]
     },
     "execution_count": 92,
     "metadata": {},
     "output_type": "execute_result"
    }
   ],
   "source": [
    "figMesh.save_database('test.gldb')\n",
    "figMesh.show()"
   ]
  },
  {
   "cell_type": "code",
   "execution_count": 93,
   "metadata": {
    "collapsed": false
   },
   "outputs": [
    {
     "name": "stdout",
     "output_type": "stream",
     "text": [
      "1.99960007998\n",
      "1.99960007998\n"
     ]
    }
   ],
   "source": [
    "print(dxmin/mesh_min_max(mesh, axis='x')[0])\n",
    "print(dymin/mesh_min_max(mesh, axis='y')[0])"
   ]
  },
  {
   "cell_type": "markdown",
   "metadata": {},
   "source": [
    "## Cosine - spline"
   ]
  },
  {
   "cell_type": "code",
   "execution_count": 94,
   "metadata": {
    "collapsed": false
   },
   "outputs": [
    {
     "name": "stdout",
     "output_type": "stream",
     "text": [
      "Min\n",
      "(128, 0.0078125, 2.0, 0.0)\n",
      "('edges', 128)\n",
      "-- iteration 0 --\n",
      "| F( p_n ) |^2: 0.00013133377186\n",
      "| p_n+1 - p_n |^2: 1.62341762333\n",
      "-- iteration 1 --\n",
      "| F( p_n ) |^2: 3.40191450552e-31\n",
      "Min, Max element width: \n",
      "0.00781\n",
      "0.02344\n"
     ]
    }
   ],
   "source": [
    "#X-Axis\n",
    "mesh.reset()\n",
    "axis = 0\n",
    "origcoords = np.linspace(mesh.minCoord[axis], mesh.maxCoord[axis], mesh.elementRes[axis] + 1)\n",
    "edge_rest_lengths = np.diff(origcoords)\n",
    "\n",
    "deform_lengths = edge_rest_lengths.copy()\n",
    "min_point =  (abs(mesh.maxCoord[axis]) - abs(mesh.minCoord[axis]))/2.\n",
    "el_reduction = 0.5\n",
    "\n",
    "\n",
    "deform_lengths = deform_lengths - (1.-el_reduction)*deform_lengths[0]*np.cos(np.pi*origcoords[1:])\n",
    "\n",
    "#print(edge_rest_lengths.shape, deform_lengths.shape)\n",
    "\n",
    "sp.deform_1d(deform_lengths, mesh,axis = 'x',norm = 'Min', constraints = \"None\")"
   ]
  },
  {
   "cell_type": "code",
   "execution_count": 95,
   "metadata": {
    "collapsed": false
   },
   "outputs": [
    {
     "name": "stdout",
     "output_type": "stream",
     "text": [
      "Min\n",
      "(64, 0.0078125, 0.9921875, 0.015873015873015872)\n",
      "('edges', 64)\n",
      "-- iteration 0 --\n",
      "| F( p_n ) |^2: 0.000130708765088\n",
      "| p_n+1 - p_n |^2: 0.836193083387\n",
      "-- iteration 1 --\n",
      "| F( p_n ) |^2: 3.48388689877e-31\n",
      "Min, Max element width: \n",
      "0.00781\n",
      "0.02368\n"
     ]
    }
   ],
   "source": [
    "#Y-Axis\n",
    "\n",
    "axis = 1\n",
    "origcoords = np.linspace(mesh.minCoord[axis], mesh.maxCoord[axis], mesh.elementRes[axis] + 1)\n",
    "edge_rest_lengths = np.diff(origcoords)\n",
    "\n",
    "deform_lengths = edge_rest_lengths.copy()\n",
    "min_point =  1.\n",
    "el_reduction = 0.5\n",
    "\n",
    "\n",
    "\n",
    "deform_lengths = deform_lengths - ((1.-el_reduction)*deform_lengths[0])*np.cos(abs(np.pi*(origcoords[1:] - min_point)))\n",
    "\n",
    "#print(edge_rest_lengths.shape, deform_lengths.shape)\n",
    "\n",
    "sp.deform_1d(deform_lengths, mesh,axis = 'y',norm = 'Min', constraints = \"None\")"
   ]
  },
  {
   "cell_type": "code",
   "execution_count": 96,
   "metadata": {
    "collapsed": false
   },
   "outputs": [
    {
     "name": "stdout",
     "output_type": "stream",
     "text": [
      "(0.015625, 0.0078125)\n"
     ]
    }
   ],
   "source": [
    "print(edge_rest_lengths.min(), deform_lengths.min())"
   ]
  },
  {
   "cell_type": "code",
   "execution_count": 97,
   "metadata": {
    "collapsed": false
   },
   "outputs": [
    {
     "data": {
      "text/html": [
       "<img src='data:image/png;base64,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'>"
      ],
      "text/plain": [
       "<IPython.core.display.HTML object>"
      ]
     },
     "execution_count": 97,
     "metadata": {},
     "output_type": "execute_result"
    }
   ],
   "source": [
    "figMesh.save_database('test.gldb')\n",
    "figMesh.show()"
   ]
  },
  {
   "cell_type": "code",
   "execution_count": 100,
   "metadata": {
    "collapsed": false
   },
   "outputs": [
    {
     "name": "stdout",
     "output_type": "stream",
     "text": [
      "2.0\n",
      "2.0\n"
     ]
    }
   ],
   "source": [
    "print(dxmin/mesh_min_max(mesh, axis='x')[0])\n",
    "print(dymin/mesh_min_max(mesh, axis='y')[0])\n"
   ]
  },
  {
   "cell_type": "markdown",
   "metadata": {},
   "source": [
    "## Gauss Refine"
   ]
  },
  {
   "cell_type": "code",
   "execution_count": 162,
   "metadata": {
    "collapsed": false
   },
   "outputs": [
    {
     "name": "stdout",
     "output_type": "stream",
     "text": [
      "Min\n",
      "(128, 0.0078109375000000002, 1.8227191658327169, 0.21542922018092941)\n",
      "('edges', 128)\n",
      "-- iteration 0 --\n",
      "| F( p_n ) |^2: 1.44861375547e-05\n",
      "| p_n+1 - p_n |^2: 0.288046168609\n",
      "-- iteration 1 --\n",
      "| F( p_n ) |^2: 4.57133013995e-31\n",
      "Min, Max element width: \n",
      "0.00781\n",
      "0.01731\n"
     ]
    }
   ],
   "source": [
    "#X-Axis\n",
    "\n",
    "def gauss(r,a):\n",
    "    return np.exp(-r**2/a**2) \n",
    "\n",
    "a = 0.2\n",
    "\n",
    "\n",
    "mesh.reset()\n",
    "axis = 0\n",
    "origcoords = np.linspace(mesh.minCoord[axis], mesh.maxCoord[axis], mesh.elementRes[axis] + 1)\n",
    "edge_rest_lengths = np.diff(origcoords)\n",
    "\n",
    "deform_lengths = edge_rest_lengths.copy()\n",
    "min_point =  (abs(mesh.maxCoord[axis]) - abs(mesh.minCoord[axis]))/2.\n",
    "el_reduction = 0.5001\n",
    "\n",
    "deform_lengths = deform_lengths - (el_reduction*deform_lengths[0])*gauss((origcoords[1:] - min_point), a)\n",
    "\n",
    "#print(edge_rest_lengths.shape, deform_lengths.shape)\n",
    "\n",
    "sp.deform_1d(deform_lengths, mesh,axis = 'x',norm = 'Min', constraints = \"None\")"
   ]
  },
  {
   "cell_type": "code",
   "execution_count": 163,
   "metadata": {
    "collapsed": false
   },
   "outputs": [],
   "source": [
    "#deform_lengths - (el_reduction*deform_lengths[0])*gauss((origcoords[1:] - min_point), a)"
   ]
  },
  {
   "cell_type": "code",
   "execution_count": 164,
   "metadata": {
    "collapsed": false
   },
   "outputs": [
    {
     "name": "stdout",
     "output_type": "stream",
     "text": [
      "Min\n",
      "(64, 0.0078145068564345766, 0.89758182653266405, 0.25768599949453369)\n",
      "('edges', 64)\n",
      "-- iteration 0 --\n",
      "| F( p_n ) |^2: 6.83503991973e-05\n",
      "| p_n+1 - p_n |^2: 0.194810611104\n",
      "-- iteration 1 --\n",
      "| F( p_n ) |^2: 2.19676384282e-31\n",
      "Min, Max element width: \n",
      "0.00781\n",
      "0.01764\n"
     ]
    }
   ],
   "source": [
    "#Y-Axis\n",
    "\n",
    "def gauss(r,a):\n",
    "    return np.exp(-r**2/a**2) \n",
    "\n",
    "axis = 1\n",
    "origcoords = np.linspace(mesh.minCoord[axis], mesh.maxCoord[axis], mesh.elementRes[axis] + 1)\n",
    "edge_rest_lengths = np.diff(origcoords)\n",
    "\n",
    "deform_lengths = edge_rest_lengths.copy()\n",
    "min_point =  0.9801\n",
    "el_reduction = 0.5001\n",
    "\n",
    "deform_lengths = deform_lengths - (el_reduction*deform_lengths[0])*gauss((origcoords[1:] - min_point), a)\n",
    "\n",
    "#print(edge_rest_lengths.shape, deform_lengths.shape)\n",
    "\n",
    "sp.deform_1d(deform_lengths, mesh,axis = 'y',norm = 'Min', constraints = \"None\")"
   ]
  },
  {
   "cell_type": "code",
   "execution_count": 165,
   "metadata": {
    "collapsed": false
   },
   "outputs": [
    {
     "data": {
      "text/html": [
       "<img src='data:image/png;base64,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'>"
      ],
      "text/plain": [
       "<IPython.core.display.HTML object>"
      ]
     },
     "execution_count": 165,
     "metadata": {},
     "output_type": "execute_result"
    }
   ],
   "source": [
    "figMesh.save_database('test.gldb')\n",
    "figMesh.show()"
   ]
  },
  {
   "cell_type": "code",
   "execution_count": 149,
   "metadata": {
    "collapsed": false
   },
   "outputs": [
    {
     "name": "stdout",
     "output_type": "stream",
     "text": [
      "2.00040008002\n",
      "1.99675276344\n"
     ]
    }
   ],
   "source": [
    "print(dxmin/mesh_min_max(mesh, axis='x')[0])\n",
    "print(dymin/mesh_min_max(mesh, axis='y')[0])"
   ]
  },
  {
   "cell_type": "code",
   "execution_count": null,
   "metadata": {
    "collapsed": true
   },
   "outputs": [],
   "source": []
  }
 ],
 "metadata": {
  "kernelspec": {
   "display_name": "Python 2",
   "language": "python",
   "name": "python2"
  },
  "language_info": {
   "codemirror_mode": {
    "name": "ipython",
    "version": 2
   },
   "file_extension": ".py",
   "mimetype": "text/x-python",
   "name": "python",
   "nbconvert_exporter": "python",
   "pygments_lexer": "ipython2",
   "version": "2.7.11"
  }
 },
 "nbformat": 4,
 "nbformat_minor": 0
}
