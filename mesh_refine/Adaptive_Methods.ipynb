{
 "cells": [
  {
   "cell_type": "markdown",
   "metadata": {},
   "source": [
    "# Adaptive Moving Mesh Methods"
   ]
  },
  {
   "cell_type": "markdown",
   "metadata": {},
   "source": [
    "If one wishes to approximate a given function u(x) using its values at a finite number of\n",
    "mesh points, how should these points be chosen? The answer can usually be given\n",
    "as follows: one chooses mesh density function ρ(x)"
   ]
  },
  {
   "cell_type": "code",
   "execution_count": 144,
   "metadata": {
    "collapsed": false
   },
   "outputs": [
    {
     "name": "stdout",
     "output_type": "stream",
     "text": [
      "Populating the interactive namespace from numpy and matplotlib\n"
     ]
    },
    {
     "name": "stderr",
     "output_type": "stream",
     "text": [
      "WARNING: pylab import has clobbered these variables: ['test']\n",
      "`%matplotlib` prevents importing * from pylab and numpy\n"
     ]
    }
   ],
   "source": [
    "import underworld as uw\n",
    "import math\n",
    "from underworld import function as fn\n",
    "import glucifer\n",
    "import numpy as np\n",
    "import scipy as sp\n",
    "import os\n",
    "import math\n",
    "import collections\n",
    "import itertools\n",
    "%pylab inline"
   ]
  },
  {
   "cell_type": "code",
   "execution_count": 145,
   "metadata": {
    "collapsed": true
   },
   "outputs": [],
   "source": [
    "def gauss(r,a):\n",
    "   return np.exp(-r**2/a**2) "
   ]
  },
  {
   "cell_type": "code",
   "execution_count": 146,
   "metadata": {
    "collapsed": true
   },
   "outputs": [],
   "source": [
    "dim = 2\n",
    "\n",
    "meshX = 64\n",
    "meshY = 32"
   ]
  },
  {
   "cell_type": "code",
   "execution_count": 147,
   "metadata": {
    "collapsed": false
   },
   "outputs": [],
   "source": [
    "# create mesh objects\n",
    "mesh = uw.mesh.FeMesh_Cartesian( elementType='Q1/dQ0', \n",
    "                                         elementRes=(meshX, meshY), \n",
    "                                           minCoord=(-1.,0.), \n",
    "                                           maxCoord=(1.,1.0))\n"
   ]
  },
  {
   "cell_type": "code",
   "execution_count": 7,
   "metadata": {
    "collapsed": false
   },
   "outputs": [
    {
     "data": {
      "text/html": [
       "<img src='data:image/png;base64,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'>"
      ],
      "text/plain": [
       "<IPython.core.display.HTML object>"
      ]
     },
     "execution_count": 7,
     "metadata": {},
     "output_type": "execute_result"
    }
   ],
   "source": [
    "figMesh = glucifer.Figure(figsize=(600,300),antialias=1)\n",
    "#figMesh.append( glucifer.objects.Mesh(mesh.subMesh, nodeNumbers=True) )\n",
    "figMesh.append( glucifer.objects.Mesh(mesh, nodeNumbers=False) )\n",
    "figMesh.show()"
   ]
  },
  {
   "cell_type": "code",
   "execution_count": 8,
   "metadata": {
    "collapsed": false
   },
   "outputs": [],
   "source": [
    "axis = 'x'\n",
    "if axis == \"y\":\n",
    "    thisaxis = 1\n",
    "else:\n",
    "    thisaxis = 0\n",
    "\n",
    "dom = np.linspace(mesh.minCoord[thisaxis], mesh.maxCoord[thisaxis], mesh.elementRes[thisaxis]+1)"
   ]
  },
  {
   "cell_type": "code",
   "execution_count": 9,
   "metadata": {
    "collapsed": false
   },
   "outputs": [],
   "source": [
    "dom.shape\n",
    "def get_mesh_spacing(mesh, axis = 'y'):\n",
    "    if axis == \"y\":\n",
    "        thisaxis = 1\n",
    "    else:\n",
    "        thisaxis = 0\n",
    "    dom = np.linspace(mesh.minCoord[thisaxis], mesh.maxCoord[thisaxis], mesh.elementRes[thisaxis]+1)\n",
    "    return np.diff(dom)"
   ]
  },
  {
   "cell_type": "code",
   "execution_count": 10,
   "metadata": {
    "collapsed": false
   },
   "outputs": [],
   "source": [
    "orig= get_mesh_spacing(mesh, axis = 'x')"
   ]
  },
  {
   "cell_type": "code",
   "execution_count": 11,
   "metadata": {
    "collapsed": false
   },
   "outputs": [
    {
     "data": {
      "text/plain": [
       "2.0"
      ]
     },
     "execution_count": 11,
     "metadata": {},
     "output_type": "execute_result"
    }
   ],
   "source": [
    "orig.sum()"
   ]
  },
  {
   "cell_type": "code",
   "execution_count": 12,
   "metadata": {
    "collapsed": false
   },
   "outputs": [],
   "source": [
    "#Lets create some toy mesh density function, and normaize it using the orginal (constant) density\n",
    "\n",
    "density_norm = (orig + orig.mean()/2.*np.sin((math.pi/1.)* dom[:-1]) + orig.mean()*gauss(dom[:-1],0.1))/orig\n",
    "space_norm = 1./density_norm"
   ]
  },
  {
   "cell_type": "code",
   "execution_count": 13,
   "metadata": {
    "collapsed": false
   },
   "outputs": [],
   "source": [
    "def density_norm_func(x):\n",
    "    return ((orig.mean() +\n",
    "            orig.mean()/2.*np.sin((math.pi/1.)* x) +\n",
    "            orig.mean()*gauss(x,0.1))/orig.mean())"
   ]
  },
  {
   "cell_type": "code",
   "execution_count": 14,
   "metadata": {
    "collapsed": false
   },
   "outputs": [
    {
     "data": {
      "text/plain": [
       "[<matplotlib.lines.Line2D at 0x111471490>]"
      ]
     },
     "execution_count": 14,
     "metadata": {},
     "output_type": "execute_result"
    },
    {
     "data": {
      "image/png": "[encoded data removed]",
      "text/plain": [
       "<matplotlib.figure.Figure at 0x1114717d0>"
      ]
     },
     "metadata": {},
     "output_type": "display_data"
    }
   ],
   "source": [
    "testx = np.linspace(-1.,1., 100)\n",
    "out = density_norm_func(testx)\n",
    "pyplot.plot(testx,out)\n",
    "pyplot.plot(testx,1./out)"
   ]
  },
  {
   "cell_type": "code",
   "execution_count": 17,
   "metadata": {
    "collapsed": false
   },
   "outputs": [
    {
     "data": {
      "text/plain": [
       "-1.0"
      ]
     },
     "execution_count": 17,
     "metadata": {},
     "output_type": "execute_result"
    }
   ],
   "source": [
    "density_norm_func(0.5)\n",
    "mesh.elementRes[thisaxis]\n",
    "mesh.minCoord[thisaxis]"
   ]
  },
  {
   "cell_type": "code",
   "execution_count": 19,
   "metadata": {
    "collapsed": false
   },
   "outputs": [],
   "source": [
    "#density_norm_func(loc)"
   ]
  },
  {
   "cell_type": "markdown",
   "metadata": {},
   "source": [
    "#This is a naive way of making our refined mesh coordinates fit the domain\n",
    "newcoords = []\n",
    "loc = 0.\n",
    "for coord in range((mesh.elementRes[thisaxis] + 1)):\n",
    "    if i == 0:\n",
    "        loc = loc\n",
    "    else: \n",
    "        loc += 1./density_norm_func(loc) #spacing is inverse of mesh density function\n",
    "    print(loc, density_norm_func(loc))\n",
    "    newcoords.append(loc)\n",
    "    \n",
    "newcoords = np.array(newcoords) * (orig.sum()/max(newcoords)) - abs(mesh.minCoord[thisaxis])"
   ]
  },
  {
   "cell_type": "code",
   "execution_count": null,
   "metadata": {
    "collapsed": false
   },
   "outputs": [],
   "source": []
  },
  {
   "cell_type": "code",
   "execution_count": 21,
   "metadata": {
    "collapsed": false
   },
   "outputs": [
    {
     "data": {
      "text/plain": [
       "[]"
      ]
     },
     "execution_count": 21,
     "metadata": {},
     "output_type": "execute_result"
    }
   ],
   "source": [
    "newcoords"
   ]
  },
  {
   "cell_type": "code",
   "execution_count": 22,
   "metadata": {
    "collapsed": false
   },
   "outputs": [
    {
     "ename": "NameError",
     "evalue": "name 'denity_norm' is not defined",
     "output_type": "error",
     "traceback": [
      "\u001b[0;31m---------------------------------------------------------------------------\u001b[0m",
      "\u001b[0;31mNameError\u001b[0m                                 Traceback (most recent call last)",
      "\u001b[0;32m<ipython-input-22-1b41adbbed6a>\u001b[0m in \u001b[0;36m<module>\u001b[0;34m()\u001b[0m\n\u001b[0;32m----> 1\u001b[0;31m \u001b[0mdenity_norm\u001b[0m\u001b[0;34m\u001b[0m\u001b[0m\n\u001b[0m",
      "\u001b[0;31mNameError\u001b[0m: name 'denity_norm' is not defined"
     ]
    }
   ],
   "source": [
    "denity_norm \n"
   ]
  },
  {
   "cell_type": "code",
   "execution_count": null,
   "metadata": {
    "collapsed": false
   },
   "outputs": [],
   "source": [
    "#This is a naive way of making our refined mesh coordinates fit the domain\n",
    "#newcoords1 = np.cumsum(space_norm*orig.sum()/space_norm.sum()) - abs(mesh.minCoord[thisaxis])\n",
    "#newcoords2 = orig.sum()/space_norm.sum() * np.cumsum(space_norm - space_norm.mean())\n",
    "\n",
    "#Add the zeroeth node\n",
    "#newcoords1 = np.hstack((mesh.minCoord[thisaxis],newcoords1))\n",
    "#newcoords2 = np.hstack((mesh.minCoord[thisaxis],newcoords2))"
   ]
  },
  {
   "cell_type": "code",
   "execution_count": null,
   "metadata": {
    "collapsed": false
   },
   "outputs": [],
   "source": [
    "#newcoords"
   ]
  },
  {
   "cell_type": "code",
   "execution_count": null,
   "metadata": {
    "collapsed": false
   },
   "outputs": [],
   "source": [
    "pyplot.plot(dom[:-1], density_norm, label='New mesh density function')\n",
    "pyplot.plot(dom[:-1], orig/orig, label='Old mesh density function')\n",
    "pyplot.plot(dom[:-1], space_norm, label='New mesh space function')\n",
    "pyplot.plot(dom, newcoords, label='New node coordinates')\n",
    "\n",
    "pyplot.plot(dom, np.unique(mesh.data[:,thisaxis]), label='Old node coordinates')\n",
    "pyplot.legend(loc=4)\n"
   ]
  },
  {
   "cell_type": "code",
   "execution_count": null,
   "metadata": {
    "collapsed": false
   },
   "outputs": [],
   "source": [
    "coorddict = dict(itertools.izip(dom, newcoords))"
   ]
  },
  {
   "cell_type": "code",
   "execution_count": null,
   "metadata": {
    "collapsed": false
   },
   "outputs": [],
   "source": [
    "mesh.reset()"
   ]
  },
  {
   "cell_type": "code",
   "execution_count": null,
   "metadata": {
    "collapsed": false
   },
   "outputs": [],
   "source": [
    "\n",
    "with mesh.deform_mesh():\n",
    "        for index, coord in enumerate(mesh.data):\n",
    "            key = mesh.data[index][thisaxis]\n",
    "            mesh.data[index][thisaxis] = coorddict[key]"
   ]
  },
  {
   "cell_type": "code",
   "execution_count": null,
   "metadata": {
    "collapsed": false
   },
   "outputs": [],
   "source": [
    "figMesh = glucifer.Figure(figsize=(600,300),antialias=1)\n",
    "#figMesh.append( glucifer.objects.Mesh(mesh.subMesh, nodeNumbers=True) )\n",
    "figMesh.append( glucifer.objects.Mesh(mesh, nodeNumbers=False) )\n",
    "figMesh.show()"
   ]
  },
  {
   "cell_type": "code",
   "execution_count": null,
   "metadata": {
    "collapsed": false
   },
   "outputs": [],
   "source": [
    "mesh.maxCoord"
   ]
  },
  {
   "cell_type": "markdown",
   "metadata": {
    "collapsed": true
   },
   "source": [
    "##  A numerical method for the problem"
   ]
  },
  {
   "cell_type": "code",
   "execution_count": 21,
   "metadata": {
    "collapsed": true
   },
   "outputs": [],
   "source": [
    "#elements\n",
    "res = 10"
   ]
  },
  {
   "cell_type": "code",
   "execution_count": 22,
   "metadata": {
    "collapsed": false
   },
   "outputs": [],
   "source": [
    "# create mesh objects\n",
    "mesh = np.linspace(0.,1., res + 1)\n",
    "dx = 1./res\n",
    "BC0 = 0.\n",
    "BC1 = 1."
   ]
  },
  {
   "cell_type": "code",
   "execution_count": 23,
   "metadata": {
    "collapsed": false
   },
   "outputs": [
    {
     "data": {
      "text/plain": [
       "11"
      ]
     },
     "execution_count": 23,
     "metadata": {},
     "output_type": "execute_result"
    }
   ],
   "source": [
    "\n",
    "len(mesh)"
   ]
  },
  {
   "cell_type": "code",
   "execution_count": 31,
   "metadata": {
    "collapsed": false
   },
   "outputs": [],
   "source": [
    "#Create central difference Gradient operator\n",
    "a = np.ones((1, res-1))[0]\n",
    "b = np.ones((1, res-2))[0]\n",
    "A = np.diag(a, 0)*-1. + np.diag(b, 1)"
   ]
  },
  {
   "cell_type": "code",
   "execution_count": 32,
   "metadata": {
    "collapsed": false
   },
   "outputs": [
    {
     "data": {
      "text/plain": [
       "array([[-1.,  1.,  0.,  0.,  0.,  0.,  0.,  0.,  0.],\n",
       "       [ 0., -1.,  1.,  0.,  0.,  0.,  0.,  0.,  0.],\n",
       "       [ 0.,  0., -1.,  1.,  0.,  0.,  0.,  0.,  0.],\n",
       "       [ 0.,  0.,  0., -1.,  1.,  0.,  0.,  0.,  0.],\n",
       "       [ 0.,  0.,  0.,  0., -1.,  1.,  0.,  0.,  0.],\n",
       "       [ 0.,  0.,  0.,  0.,  0., -1.,  1.,  0.,  0.],\n",
       "       [ 0.,  0.,  0.,  0.,  0.,  0., -1.,  1.,  0.],\n",
       "       [ 0.,  0.,  0.,  0.,  0.,  0.,  0., -1.,  1.],\n",
       "       [ 0.,  0.,  0.,  0.,  0.,  0.,  0.,  0., -1.]])"
      ]
     },
     "execution_count": 32,
     "metadata": {},
     "output_type": "execute_result"
    }
   ],
   "source": [
    "A"
   ]
  },
  {
   "cell_type": "code",
   "execution_count": 52,
   "metadata": {
    "collapsed": true
   },
   "outputs": [],
   "source": [
    "#create our mesh density function \n",
    "def mesh_density(x):\n",
    "    return dx + (dx/2)*np.sin(2*math.pi/1.*x)"
   ]
  },
  {
   "cell_type": "code",
   "execution_count": 53,
   "metadata": {
    "collapsed": false
   },
   "outputs": [],
   "source": [
    "B = mesh_density(mesh[1:-1])\n"
   ]
  },
  {
   "cell_type": "code",
   "execution_count": 54,
   "metadata": {
    "collapsed": false
   },
   "outputs": [
    {
     "name": "stdout",
     "output_type": "stream",
     "text": [
      "[ 0.12938926  0.14755283  0.14755283  0.12938926  0.1         0.07061074\n",
      "  0.05244717  0.05244717  0.07061074]\n"
     ]
    },
    {
     "data": {
      "text/plain": [
       "array([ 0.1       ,  0.22938926,  0.37694209,  0.52449491,  0.65388418,\n",
       "        0.75388418,  0.82449491,  0.87694209,  0.92938926])"
      ]
     },
     "execution_count": 54,
     "metadata": {},
     "output_type": "execute_result"
    }
   ],
   "source": [
    "#RHS \n",
    "B = mesh_density(mesh[1:-1])\n",
    "#B= copy(mesh[1:-1])\n",
    "#B[:] = dx\n",
    "#BCs\n",
    "print(B)\n",
    "B[-1] = B[-1] - BC1\n",
    "result = numpy.linalg.solve(A, B)\n",
    "result \n"
   ]
  },
  {
   "cell_type": "code",
   "execution_count": 55,
   "metadata": {
    "collapsed": false
   },
   "outputs": [
    {
     "data": {
      "text/plain": [
       "array([ 0. ,  0.1,  0.2,  0.3,  0.4,  0.5,  0.6,  0.7,  0.8,  0.9,  1. ])"
      ]
     },
     "execution_count": 55,
     "metadata": {},
     "output_type": "execute_result"
    }
   ],
   "source": [
    "mesh"
   ]
  },
  {
   "cell_type": "code",
   "execution_count": 56,
   "metadata": {
    "collapsed": false
   },
   "outputs": [
    {
     "data": {
      "text/plain": [
       "<matplotlib.collections.PathCollection at 0x114d241d0>"
      ]
     },
     "execution_count": 56,
     "metadata": {},
     "output_type": "execute_result"
    },
    {
     "data": {
      "image/png": "[encoded data removed]",
      "text/plain": [
       "<matplotlib.figure.Figure at 0x114963790>"
      ]
     },
     "metadata": {},
     "output_type": "display_data"
    }
   ],
   "source": [
    "pyplot.scatter(mesh[1:-1], result, c = 'r')\n",
    "pyplot.scatter(mesh[1:-1], mesh[1:-1], c='k')\n",
    "pyplot.scatter(mesh[:-1], [dx]*res)\n",
    "pyplot.scatter(mesh[1:-1], mesh_density(mesh[1:-1]), c = 'g')\n",
    "#pyplot.plot(mesh_density(mesh[1:-1])/dx)"
   ]
  },
  {
   "cell_type": "markdown",
   "metadata": {},
   "source": [
    "This approach works when the mesh-density integral is normalised, i.e is equal to the domain width. "
   ]
  },
  {
   "cell_type": "code",
   "execution_count": 315,
   "metadata": {
    "collapsed": false
   },
   "outputs": [
    {
     "data": {
      "text/plain": [
       "array([ 0.00174214,  0.00346519,  0.00515028,  0.00677894,  0.00833333,\n",
       "        0.00979642,  0.01115218,  0.01238575,  0.01348362,  0.01443376,\n",
       "        0.01522576,  0.01585094,  0.01630246,  0.01657536,  0.01666667,\n",
       "        0.01657536,  0.01630246,  0.01585094,  0.01522576,  0.01443376,\n",
       "        0.01348362,  0.01238575,  0.01115218,  0.00979642,  0.00833333,\n",
       "        0.00677894,  0.00515028,  0.00346519,  0.00174214])"
      ]
     },
     "execution_count": 315,
     "metadata": {},
     "output_type": "execute_result"
    }
   ],
   "source": [
    "np.dot(A,result)"
   ]
  },
  {
   "cell_type": "code",
   "execution_count": 319,
   "metadata": {
    "collapsed": false
   },
   "outputs": [
    {
     "data": {
      "text/plain": [
       "0.31801894479547027"
      ]
     },
     "execution_count": 319,
     "metadata": {},
     "output_type": "execute_result"
    }
   ],
   "source": [
    "\n"
   ]
  },
  {
   "cell_type": "code",
   "execution_count": 259,
   "metadata": {
    "collapsed": false
   },
   "outputs": [],
   "source": [
    "for t in range(10):\n",
    "    #RHS \n",
    "    #B = mesh_density(mesh[1:-1])\n",
    "    #B = mesh_density(mesh[1:-1])\n",
    "    B= copy(mesh[1:-1])\n",
    "    B[:] = dx\n",
    "    #BCs\n",
    "    B[0]  = B[0] + BC0\n",
    "    B[-1] = B[-1] - BC1\n",
    "    newpos = numpy.linalg.solve(A, B)\n",
    "    mesh[1:-1] = newpos\n",
    "    #print  B, newpos"
   ]
  },
  {
   "cell_type": "code",
   "execution_count": 260,
   "metadata": {
    "collapsed": false
   },
   "outputs": [
    {
     "data": {
      "text/plain": [
       "array([ 0.03333333,  0.03333333,  0.03333333,  0.03333333,  0.03333333,\n",
       "        0.03333333,  0.03333333,  0.03333333,  0.03333333,  0.03333333,\n",
       "        0.03333333,  0.03333333,  0.03333333,  0.03333333,  0.03333333,\n",
       "        0.03333333,  0.03333333,  0.03333333,  0.03333333,  0.03333333,\n",
       "        0.03333333,  0.03333333,  0.03333333,  0.03333333,  0.03333333,\n",
       "        0.03333333,  0.03333333,  0.03333333, -0.96666667])"
      ]
     },
     "execution_count": 260,
     "metadata": {},
     "output_type": "execute_result"
    }
   ],
   "source": [
    "np.dot(A,newpos)"
   ]
  },
  {
   "cell_type": "code",
   "execution_count": 261,
   "metadata": {
    "collapsed": false
   },
   "outputs": [
    {
     "data": {
      "text/plain": [
       "0.96666666666666667"
      ]
     },
     "execution_count": 261,
     "metadata": {},
     "output_type": "execute_result"
    }
   ],
   "source": [
    "newpos[-1]"
   ]
  },
  {
   "cell_type": "code",
   "execution_count": 262,
   "metadata": {
    "collapsed": false
   },
   "outputs": [
    {
     "data": {
      "text/plain": [
       "array([ 0.03333333,  0.03333333,  0.03333333,  0.03333333,  0.03333333,\n",
       "        0.03333333,  0.03333333,  0.03333333,  0.03333333,  0.03333333,\n",
       "        0.03333333,  0.03333333,  0.03333333,  0.03333333,  0.03333333,\n",
       "        0.03333333,  0.03333333,  0.03333333,  0.03333333,  0.03333333,\n",
       "        0.03333333,  0.03333333,  0.03333333,  0.03333333,  0.03333333,\n",
       "        0.03333333,  0.03333333,  0.03333333, -0.96666667])"
      ]
     },
     "execution_count": 262,
     "metadata": {},
     "output_type": "execute_result"
    }
   ],
   "source": [
    "\n",
    "B"
   ]
  },
  {
   "cell_type": "markdown",
   "metadata": {
    "collapsed": false
   },
   "source": [
    "## 1D Spring methods"
   ]
  },
  {
   "cell_type": "code",
   "execution_count": null,
   "metadata": {
    "collapsed": false
   },
   "outputs": [],
   "source": []
  },
  {
   "cell_type": "code",
   "execution_count": 57,
   "metadata": {
    "collapsed": false
   },
   "outputs": [
    {
     "name": "stdout",
     "output_type": "stream",
     "text": [
      "[[  0.   ]\n",
      " [  0.   ]\n",
      " [  7.143]\n",
      " [ -9.039]\n",
      " [  5.247]\n",
      " [-16.296]\n",
      " [  5.247]\n",
      " [-20.088]\n",
      " [ 10.494]\n",
      " [  0.   ]\n",
      " [  3.351]\n",
      " [ -9.039]]\n",
      "[[-210.902]\n",
      " [ 122.432]\n",
      " [  62.558]\n",
      " [ -44.235]\n",
      " [-173.145]\n",
      " [ -88.47 ]\n",
      " [  62.558]\n",
      " [-173.145]\n",
      " [ -44.235]\n",
      " [ 122.432]\n",
      " [-210.902]]\n",
      "[[ -2.183e-11   1.000e+05]\n",
      " [ -3.638e-12  -5.000e+04]\n",
      " [ -1.273e-11  -1.637e-11]\n",
      " [  3.638e-12  -1.000e+05]\n",
      " [ -7.276e-12   1.000e+05]\n",
      " [ -3.638e-12  -5.000e+04]]\n"
     ]
    }
   ],
   "source": [
    "\"\"\"\n",
    "Created on Thu May 08 07:07:24 2014\n",
    " \n",
    "@author: Sukhbinder Singh\n",
    " \n",
    "Truss FEM\n",
    " \n",
    "\"\"\"\n",
    "from __future__ import division\n",
    "import numpy as np\n",
    " \n",
    "modE=30.0e6\n",
    "Area=2.0\n",
    " \n",
    " \n",
    "#numElem=3\n",
    "#numNodes=4\n",
    " \n",
    "elemNodes=np.array([[0,1],[0,2],[0,3]])\n",
    "nodeCords=np.array([[0.0,0.0],[0.0,120.0],[120.0,120.0],[120.0,0]])\n",
    " \n",
    "#'''\n",
    "elemNodes=np.array([[0,1],[0,2],[1,2],[1,3],\n",
    "                    [0,3],[2,3],[2,5],[3,4],[3,5],[2,4],[4,5]])\n",
    " \n",
    "nodeCords=np.array([\n",
    "[0.0,0.0],[0.0,3000.0],\n",
    "[3000.0,0.0],[3000.0,3000.0],\n",
    "[6000.0,0.0],[6000.0,3000.0]\n",
    "])\n",
    " \n",
    " \n",
    "modE=70000\n",
    "Area=300\n",
    "#'''\n",
    " \n",
    "numElem=elemNodes.shape[0]\n",
    "numNodes=nodeCords.shape[0]\n",
    " \n",
    "xx=nodeCords[:,0]\n",
    "yy=nodeCords[:,1]\n",
    " \n",
    "EA=modE*Area\n",
    "tdof = 2*numNodes #total number of degrees of freedom\n",
    "disps=np.zeros((tdof,1))\n",
    "force=np.zeros((tdof,1))\n",
    "sigma=np.zeros((numElem,1))\n",
    "stiffness=np.zeros((tdof,tdof))\n",
    "np.set_printoptions(precision=3)\n",
    " \n",
    "'''\n",
    "force[1]=-10000.0\n",
    "presDof=np.arange(2,9)\n",
    " \n",
    "'''\n",
    "force[3]=-50000.0\n",
    "force[7]=-100000.0\n",
    "force[11]=-50000.0\n",
    " \n",
    "presDof=np.array([0,1,9])\n",
    "#'''\n",
    " \n",
    "for e in xrange(numElem):\n",
    "    indice= elemNodes[e,:]\n",
    "    elemDof=np.array([indice[0]*2, indice[0]*2+1, indice[1]*2, indice[1]*2+1 ])\n",
    "    xa=xx[indice[1]]-xx[indice[0]]\n",
    "    ya=yy[indice[1]]-yy[indice[0]]\n",
    "    len_elem=np.sqrt(xa*xa+ya*ya)\n",
    "    c=xa/len_elem\n",
    "    s=ya/len_elem\n",
    "    k1=(EA/len_elem)* np.array([[c*c,c*s,-c*c, -c*s],\n",
    "                                [c*s,s*s,-c*s ,-s*s],\n",
    "                                [-c*c,-c*s,c*c,c*s],\n",
    "                                [-c*s,-s*s,c*s,s*s]])\n",
    "    stiffness[np.ix_(elemDof,elemDof)] +=k1\n",
    " \n",
    " \n",
    "actDof=np.setdiff1d(np.arange(tdof),presDof)\n",
    " \n",
    "disp1=np.linalg.solve(stiffness[np.ix_(actDof,actDof)],force[np.ix_(actDof)]);\n",
    "disps[np.ix_(actDof)]=disp1\n",
    " \n",
    " \n",
    "# stresses at elements\n",
    " \n",
    "for e in xrange(numElem):\n",
    "    indice= elemNodes[e,:]\n",
    "    elemDof=np.array([indice[0]*2, indice[0]*2+1, indice[1]*2, indice[1]*2+1 ])\n",
    "    xa=xx[indice[1]]-xx[indice[0]]\n",
    "    ya=yy[indice[1]]-yy[indice[0]]\n",
    "    len_elem=np.sqrt(xa*xa+ya*ya)\n",
    "    c=xa/len_elem\n",
    "    s=ya/len_elem\n",
    "    sigma[e] = (modE/len_elem) * np.dot(np.array([-c,-s,c,s]),disps[np.ix_(elemDof)])\n",
    " \n",
    "         \n",
    "print disps\n",
    "print sigma\n",
    " \n",
    "react = np.dot(stiffness,disps)\n",
    "print react.reshape((numNodes,2))"
   ]
  },
  {
   "cell_type": "code",
   "execution_count": 1,
   "metadata": {
    "collapsed": false
   },
   "outputs": [
    {
     "name": "stderr",
     "output_type": "stream",
     "text": [
      "Vendor:  Continuum Analytics, Inc.\n",
      "Package: mkl\n",
      "Message: trial mode expires in 23 days\n"
     ]
    }
   ],
   "source": [
    "import networkx as nx\n",
    "import random"
   ]
  },
  {
   "cell_type": "code",
   "execution_count": 61,
   "metadata": {
    "collapsed": false
   },
   "outputs": [
    {
     "data": {
      "image/png": "[encoded data removed]",
      "text/plain": [
       "<matplotlib.figure.Figure at 0x114877c90>"
      ]
     },
     "metadata": {},
     "output_type": "display_data"
    }
   ],
   "source": [
    "\n",
    "G = nx.path_graph(10)\n",
    "\n",
    "# Add some random weights (as dictonary with edges as key and weight as value).\n",
    "nx.set_edge_attributes(G, 'my_weight', dict(zip(G.edges(), [random.random()*10 for edge in G.edges()])))\n",
    "\n",
    "# Apply layout using weights.\n",
    "pos = nx.spring_layout(G, weight='my_weight')\n",
    "nx.draw(G, pos)"
   ]
  },
  {
   "cell_type": "code",
   "execution_count": 62,
   "metadata": {
    "collapsed": false
   },
   "outputs": [
    {
     "data": {
      "text/plain": [
       "{0: array([ 0.006,  0.346]),\n",
       " 1: array([ 0.   ,  0.541]),\n",
       " 2: array([ 0.091,  0.801]),\n",
       " 3: array([ 0.417,  1.   ]),\n",
       " 4: array([ 0.647,  0.964]),\n",
       " 5: array([ 0.84 ,  0.812]),\n",
       " 6: array([ 0.947,  0.636]),\n",
       " 7: array([ 1.   ,  0.363]),\n",
       " 8: array([ 0.961,  0.171]),\n",
       " 9: array([ 0.859,  0.   ])}"
      ]
     },
     "execution_count": 62,
     "metadata": {},
     "output_type": "execute_result"
    }
   ],
   "source": [
    "pos"
   ]
  },
  {
   "cell_type": "code",
   "execution_count": 2,
   "metadata": {
    "collapsed": false
   },
   "outputs": [],
   "source": [
    "G = nx.grid_2d_graph(10, 10)\n",
    "# Add some random weights (as dictonary with edges as key and weight as value).\n",
    "#nx.set_edge_attributes(G, 'my_weight', dict(zip(G.edges(), [random.random()*10 for edge in G.edges()])))\n",
    "\n",
    "# Apply layout using weights.\n",
    "#pos = nx.spring_layout(G, weight='my_weight')\n",
    "nx.draw(G)"
   ]
  },
  {
   "cell_type": "code",
   "execution_count": 10,
   "metadata": {
    "collapsed": false
   },
   "outputs": [
    {
     "data": {
      "image/png": "[encoded data removed]",
      "text/plain": [
       "<matplotlib.figure.Figure at 0x10bc15990>"
      ]
     },
     "metadata": {},
     "output_type": "display_data"
    }
   ],
   "source": [
    "G2 = nx.DiGraph(G)\n",
    "for edge in G2.edges():\n",
    "    if edge != tuple(sorted(edge)):\n",
    "        G2.remove_edge(*edge)\n",
    "\n",
    "nx.draw_spectral(G2,node_size=600,node_color='w')"
   ]
  },
  {
   "cell_type": "code",
   "execution_count": 27,
   "metadata": {
    "collapsed": false
   },
   "outputs": [],
   "source": [
    "n = nx.node_boundary?"
   ]
  },
  {
   "cell_type": "code",
   "execution_count": null,
   "metadata": {
    "collapsed": true
   },
   "outputs": [],
   "source": [
    "n = nx.node_boundary"
   ]
  },
  {
   "cell_type": "code",
   "execution_count": 42,
   "metadata": {
    "collapsed": false
   },
   "outputs": [
    {
     "data": {
      "text/plain": [
       "{(0, 0): 0,\n",
       " (0, 1): 1,\n",
       " (0, 2): 2,\n",
       " (1, 0): 10,\n",
       " (1, 1): 11,\n",
       " (1, 2): 12,\n",
       " (2, 0): 20,\n",
       " (2, 1): 21,\n",
       " (2, 2): 22,\n",
       " (3, 0): 30,\n",
       " (3, 1): 31,\n",
       " (3, 2): 32,\n",
       " (4, 0): 40,\n",
       " (4, 1): 41,\n",
       " (4, 2): 42,\n",
       " (5, 0): 50,\n",
       " (5, 1): 51,\n",
       " (5, 2): 52}"
      ]
     },
     "execution_count": 42,
     "metadata": {},
     "output_type": "execute_result"
    }
   ],
   "source": [
    "labels "
   ]
  },
  {
   "cell_type": "code",
   "execution_count": 44,
   "metadata": {
    "collapsed": false
   },
   "outputs": [
    {
     "data": {
      "text/plain": [
       "{(0, 0): (0, 0),\n",
       " (0, 1): (0, 1),\n",
       " (0, 2): (0, 2),\n",
       " (1, 0): (1, 0),\n",
       " (1, 1): (1, 1),\n",
       " (1, 2): (1, 2),\n",
       " (2, 0): (2, 0),\n",
       " (2, 1): (2, 1),\n",
       " (2, 2): (2, 2),\n",
       " (3, 0): (3, 0),\n",
       " (3, 1): (3, 1),\n",
       " (3, 2): (3, 2),\n",
       " (4, 0): (4, 0),\n",
       " (4, 1): (4, 1),\n",
       " (4, 2): (4, 2),\n",
       " (5, 0): (5, 0),\n",
       " (5, 1): (5, 1),\n",
       " (5, 2): (5, 2)}"
      ]
     },
     "execution_count": 44,
     "metadata": {},
     "output_type": "execute_result"
    }
   ],
   "source": [
    "pos"
   ]
  },
  {
   "cell_type": "code",
   "execution_count": 94,
   "metadata": {
    "collapsed": false
   },
   "outputs": [
    {
     "data": {
      "text/plain": [
       "<function networkx.drawing.layout.fruchterman_reingold_layout>"
      ]
     },
     "execution_count": 94,
     "metadata": {},
     "output_type": "execute_result"
    }
   ],
   "source": [
    "nx.spring_layout\n"
   ]
  },
  {
   "cell_type": "code",
   "execution_count": 60,
   "metadata": {
    "collapsed": false
   },
   "outputs": [
    {
     "data": {
      "text/plain": [
       "{(0, 0): 3,\n",
       " (0, 1): 0,\n",
       " (0, 2): 16,\n",
       " (1, 0): 14,\n",
       " (1, 1): 8,\n",
       " (1, 2): 1,\n",
       " (2, 0): 9,\n",
       " (2, 1): 7,\n",
       " (2, 2): 11,\n",
       " (3, 0): 4,\n",
       " (3, 1): 6,\n",
       " (3, 2): 2,\n",
       " (4, 0): 17,\n",
       " (4, 1): 15,\n",
       " (4, 2): 13,\n",
       " (5, 0): 10,\n",
       " (5, 1): 12,\n",
       " (5, 2): 5}"
      ]
     },
     "execution_count": 60,
     "metadata": {},
     "output_type": "execute_result"
    }
   ],
   "source": [
    "dict(zip(G, range(len(G))))"
   ]
  },
  {
   "cell_type": "code",
   "execution_count": 70,
   "metadata": {
    "collapsed": false
   },
   "outputs": [],
   "source": [
    "nx.spring_layout?"
   ]
  },
  {
   "cell_type": "code",
   "execution_count": 139,
   "metadata": {
    "collapsed": false
   },
   "outputs": [
    {
     "data": {
      "image/png": "[encoded data removed]",
      "text/plain": [
       "<matplotlib.figure.Figure at 0x11bc40590>"
      ]
     },
     "metadata": {},
     "output_type": "display_data"
    }
   ],
   "source": [
    "N = 4\n",
    "G=nx.grid_2d_graph(N,N)\n",
    "pos = dict( (n, n) for n in G.nodes() )\n",
    "labels = dict( ((i, j), i * 10 + j) for i, j in G.nodes() )\n",
    "nx.set_edge_attributes(G, 'my_weight', dict(zip(G.edges(), [random.random()*10 for edge in G.edges()])))\n",
    "\n",
    "# Apply layout using weights.\n",
    "\n",
    "\n",
    "pos = nx.spring_layout(G, k=1, pos=pos, weight='my_weight', fixed = [(0, 0), (0, 1), (0,2), (0,3), (1,3),(2,3),(3,3), (3,2),(3,1),(3,0),(2,0),(1,0)])\n",
    "#pos = nx.spring_layout(G, k=1, pos=pos,  fixed = [(0, 0), (0, 1), (0,2), (0,3), (1,3),(2,3),(3,3), (3,2),(3,1),(3,0),(2,0),(1,0)])\n",
    "\n",
    "\n",
    "\n",
    "nx.draw_networkx(G, pos=pos, labels=labels)\n",
    "\n",
    "plt.axis('off')\n",
    "plt.show()\n",
    "#pos"
   ]
  },
  {
   "cell_type": "code",
   "execution_count": 143,
   "metadata": {
    "collapsed": false
   },
   "outputs": [
    {
     "data": {
      "text/plain": [
       "matrix([[ 0.,  0.,  0.,  1.],\n",
       "        [ 0.,  0.,  0.,  0.],\n",
       "        [ 0.,  0.,  0.,  0.],\n",
       "        [ 1.,  0.,  0.,  0.]])"
      ]
     },
     "execution_count": 143,
     "metadata": {},
     "output_type": "execute_result"
    }
   ],
   "source": [
    "test = nx.to_numpy_matrix(G)\n",
    "test[0:4,0:4]"
   ]
  },
  {
   "cell_type": "code",
   "execution_count": 21,
   "metadata": {
    "collapsed": false
   },
   "outputs": [
    {
     "data": {
      "image/png": "[encoded data removed]",
      "text/plain": [
       "<matplotlib.figure.Figure at 0x11bca9f10>"
      ]
     },
     "metadata": {},
     "output_type": "display_data"
    }
   ],
   "source": [
    "G=nx.grid_2d_graph(10,10)        \n",
    "nx.draw?\n",
    "\n",
    "plt.axis('off')\n",
    "plt.show()"
   ]
  },
  {
   "cell_type": "code",
   "execution_count": 97,
   "metadata": {
    "collapsed": false
   },
   "outputs": [
    {
     "ename": "AssertionError",
     "evalue": "",
     "output_type": "error",
     "traceback": [
      "\u001b[0;31m---------------------------------------------------------------------------\u001b[0m",
      "\u001b[0;31mAssertionError\u001b[0m                            Traceback (most recent call last)",
      "\u001b[0;32m<ipython-input-97-431006859162>\u001b[0m in \u001b[0;36m<module>\u001b[0;34m()\u001b[0m\n\u001b[1;32m      1\u001b[0m \u001b[0mG\u001b[0m\u001b[0;34m=\u001b[0m\u001b[0mnx\u001b[0m\u001b[0;34m.\u001b[0m\u001b[0mcomplete_graph\u001b[0m\u001b[0;34m(\u001b[0m\u001b[0;36m5\u001b[0m\u001b[0;34m)\u001b[0m\u001b[0;34m\u001b[0m\u001b[0m\n\u001b[1;32m      2\u001b[0m \u001b[0mpos\u001b[0m\u001b[0;34m=\u001b[0m\u001b[0mnx\u001b[0m\u001b[0;34m.\u001b[0m\u001b[0mspring_layout\u001b[0m\u001b[0;34m(\u001b[0m\u001b[0mG\u001b[0m\u001b[0;34m,\u001b[0m\u001b[0mdim\u001b[0m\u001b[0;34m=\u001b[0m\u001b[0;36m3\u001b[0m\u001b[0;34m)\u001b[0m\u001b[0;34m\u001b[0m\u001b[0m\n\u001b[0;32m----> 3\u001b[0;31m \u001b[0mnx\u001b[0m\u001b[0;34m.\u001b[0m\u001b[0mdraw_networkx\u001b[0m\u001b[0;34m(\u001b[0m\u001b[0mG\u001b[0m\u001b[0;34m,\u001b[0m \u001b[0mpos\u001b[0m\u001b[0;34m=\u001b[0m\u001b[0mpos\u001b[0m\u001b[0;34m,\u001b[0m \u001b[0mlabels\u001b[0m\u001b[0;34m=\u001b[0m\u001b[0mlabels\u001b[0m\u001b[0;34m)\u001b[0m\u001b[0;34m\u001b[0m\u001b[0m\n\u001b[0m\u001b[1;32m      4\u001b[0m \u001b[0;34m\u001b[0m\u001b[0m\n\u001b[1;32m      5\u001b[0m \u001b[0mplt\u001b[0m\u001b[0;34m.\u001b[0m\u001b[0maxis\u001b[0m\u001b[0;34m(\u001b[0m\u001b[0;34m'off'\u001b[0m\u001b[0;34m)\u001b[0m\u001b[0;34m\u001b[0m\u001b[0m\n",
      "\u001b[0;32m/Users/dansandiford/anaconda/lib/python2.7/site-packages/networkx/drawing/nx_pylab.pyc\u001b[0m in \u001b[0;36mdraw_networkx\u001b[0;34m(G, pos, arrows, with_labels, **kwds)\u001b[0m\n\u001b[1;32m    274\u001b[0m \u001b[0;34m\u001b[0m\u001b[0m\n\u001b[1;32m    275\u001b[0m     \u001b[0mnode_collection\u001b[0m \u001b[0;34m=\u001b[0m \u001b[0mdraw_networkx_nodes\u001b[0m\u001b[0;34m(\u001b[0m\u001b[0mG\u001b[0m\u001b[0;34m,\u001b[0m \u001b[0mpos\u001b[0m\u001b[0;34m,\u001b[0m \u001b[0;34m**\u001b[0m\u001b[0mkwds\u001b[0m\u001b[0;34m)\u001b[0m\u001b[0;34m\u001b[0m\u001b[0m\n\u001b[0;32m--> 276\u001b[0;31m     \u001b[0medge_collection\u001b[0m \u001b[0;34m=\u001b[0m \u001b[0mdraw_networkx_edges\u001b[0m\u001b[0;34m(\u001b[0m\u001b[0mG\u001b[0m\u001b[0;34m,\u001b[0m \u001b[0mpos\u001b[0m\u001b[0;34m,\u001b[0m \u001b[0marrows\u001b[0m\u001b[0;34m=\u001b[0m\u001b[0marrows\u001b[0m\u001b[0;34m,\u001b[0m \u001b[0;34m**\u001b[0m\u001b[0mkwds\u001b[0m\u001b[0;34m)\u001b[0m\u001b[0;34m\u001b[0m\u001b[0m\n\u001b[0m\u001b[1;32m    277\u001b[0m     \u001b[0;32mif\u001b[0m \u001b[0mwith_labels\u001b[0m\u001b[0;34m:\u001b[0m\u001b[0;34m\u001b[0m\u001b[0m\n\u001b[1;32m    278\u001b[0m         \u001b[0mdraw_networkx_labels\u001b[0m\u001b[0;34m(\u001b[0m\u001b[0mG\u001b[0m\u001b[0;34m,\u001b[0m \u001b[0mpos\u001b[0m\u001b[0;34m,\u001b[0m \u001b[0;34m**\u001b[0m\u001b[0mkwds\u001b[0m\u001b[0;34m)\u001b[0m\u001b[0;34m\u001b[0m\u001b[0m\n",
      "\u001b[0;32m/Users/dansandiford/anaconda/lib/python2.7/site-packages/networkx/drawing/nx_pylab.pyc\u001b[0m in \u001b[0;36mdraw_networkx_edges\u001b[0;34m(G, pos, edgelist, width, edge_color, style, alpha, edge_cmap, edge_vmin, edge_vmax, ax, arrows, label, **kwds)\u001b[0m\n\u001b[1;32m    551\u001b[0m                                      \u001b[0mantialiaseds\u001b[0m\u001b[0;34m=\u001b[0m\u001b[0;34m(\u001b[0m\u001b[0;36m1\u001b[0m\u001b[0;34m,\u001b[0m\u001b[0;34m)\u001b[0m\u001b[0;34m,\u001b[0m\u001b[0;34m\u001b[0m\u001b[0m\n\u001b[1;32m    552\u001b[0m                                      \u001b[0mlinestyle\u001b[0m\u001b[0;34m=\u001b[0m\u001b[0mstyle\u001b[0m\u001b[0;34m,\u001b[0m\u001b[0;34m\u001b[0m\u001b[0m\n\u001b[0;32m--> 553\u001b[0;31m                                      \u001b[0mtransOffset\u001b[0m \u001b[0;34m=\u001b[0m \u001b[0max\u001b[0m\u001b[0;34m.\u001b[0m\u001b[0mtransData\u001b[0m\u001b[0;34m,\u001b[0m\u001b[0;34m\u001b[0m\u001b[0m\n\u001b[0m\u001b[1;32m    554\u001b[0m                                      )\n\u001b[1;32m    555\u001b[0m \u001b[0;34m\u001b[0m\u001b[0m\n",
      "\u001b[0;32m/Users/dansandiford/anaconda/lib/python2.7/site-packages/matplotlib/collections.pyc\u001b[0m in \u001b[0;36m__init__\u001b[0;34m(self, segments, linewidths, colors, antialiaseds, linestyles, offsets, transOffset, norm, cmap, pickradius, zorder, **kwargs)\u001b[0m\n\u001b[1;32m   1051\u001b[0m             **kwargs)\n\u001b[1;32m   1052\u001b[0m \u001b[0;34m\u001b[0m\u001b[0m\n\u001b[0;32m-> 1053\u001b[0;31m         \u001b[0mself\u001b[0m\u001b[0;34m.\u001b[0m\u001b[0mset_segments\u001b[0m\u001b[0;34m(\u001b[0m\u001b[0msegments\u001b[0m\u001b[0;34m)\u001b[0m\u001b[0;34m\u001b[0m\u001b[0m\n\u001b[0m\u001b[1;32m   1054\u001b[0m \u001b[0;34m\u001b[0m\u001b[0m\n\u001b[1;32m   1055\u001b[0m     \u001b[0;32mdef\u001b[0m \u001b[0mset_segments\u001b[0m\u001b[0;34m(\u001b[0m\u001b[0mself\u001b[0m\u001b[0;34m,\u001b[0m \u001b[0msegments\u001b[0m\u001b[0;34m)\u001b[0m\u001b[0;34m:\u001b[0m\u001b[0;34m\u001b[0m\u001b[0m\n",
      "\u001b[0;32m/Users/dansandiford/anaconda/lib/python2.7/site-packages/matplotlib/collections.pyc\u001b[0m in \u001b[0;36mset_segments\u001b[0;34m(self, segments)\u001b[0m\n\u001b[1;32m   1065\u001b[0m         \u001b[0;32mif\u001b[0m \u001b[0mself\u001b[0m\u001b[0;34m.\u001b[0m\u001b[0m_uniform_offsets\u001b[0m \u001b[0;32mis\u001b[0m \u001b[0;32mnot\u001b[0m \u001b[0mNone\u001b[0m\u001b[0;34m:\u001b[0m\u001b[0;34m\u001b[0m\u001b[0m\n\u001b[1;32m   1066\u001b[0m             \u001b[0m_segments\u001b[0m \u001b[0;34m=\u001b[0m \u001b[0mself\u001b[0m\u001b[0;34m.\u001b[0m\u001b[0m_add_offsets\u001b[0m\u001b[0;34m(\u001b[0m\u001b[0m_segments\u001b[0m\u001b[0;34m)\u001b[0m\u001b[0;34m\u001b[0m\u001b[0m\n\u001b[0;32m-> 1067\u001b[0;31m         \u001b[0mself\u001b[0m\u001b[0;34m.\u001b[0m\u001b[0m_paths\u001b[0m \u001b[0;34m=\u001b[0m \u001b[0;34m[\u001b[0m\u001b[0mmpath\u001b[0m\u001b[0;34m.\u001b[0m\u001b[0mPath\u001b[0m\u001b[0;34m(\u001b[0m\u001b[0mseg\u001b[0m\u001b[0;34m)\u001b[0m \u001b[0;32mfor\u001b[0m \u001b[0mseg\u001b[0m \u001b[0;32min\u001b[0m \u001b[0m_segments\u001b[0m\u001b[0;34m]\u001b[0m\u001b[0;34m\u001b[0m\u001b[0m\n\u001b[0m\u001b[1;32m   1068\u001b[0m \u001b[0;34m\u001b[0m\u001b[0m\n\u001b[1;32m   1069\u001b[0m     \u001b[0mset_verts\u001b[0m \u001b[0;34m=\u001b[0m \u001b[0mset_segments\u001b[0m  \u001b[0;31m# for compatibility with PolyCollection\u001b[0m\u001b[0;34m\u001b[0m\u001b[0m\n",
      "\u001b[0;32m/Users/dansandiford/anaconda/lib/python2.7/site-packages/matplotlib/path.pyc\u001b[0m in \u001b[0;36m__init__\u001b[0;34m(self, vertices, codes, _interpolation_steps, closed, readonly)\u001b[0m\n\u001b[1;32m    150\u001b[0m \u001b[0;34m\u001b[0m\u001b[0m\n\u001b[1;32m    151\u001b[0m         \u001b[0;32massert\u001b[0m \u001b[0mvertices\u001b[0m\u001b[0;34m.\u001b[0m\u001b[0mndim\u001b[0m \u001b[0;34m==\u001b[0m \u001b[0;36m2\u001b[0m\u001b[0;34m\u001b[0m\u001b[0m\n\u001b[0;32m--> 152\u001b[0;31m         \u001b[0;32massert\u001b[0m \u001b[0mvertices\u001b[0m\u001b[0;34m.\u001b[0m\u001b[0mshape\u001b[0m\u001b[0;34m[\u001b[0m\u001b[0;36m1\u001b[0m\u001b[0;34m]\u001b[0m \u001b[0;34m==\u001b[0m \u001b[0;36m2\u001b[0m\u001b[0;34m\u001b[0m\u001b[0m\n\u001b[0m\u001b[1;32m    153\u001b[0m \u001b[0;34m\u001b[0m\u001b[0m\n\u001b[1;32m    154\u001b[0m         \u001b[0mself\u001b[0m\u001b[0;34m.\u001b[0m\u001b[0m_vertices\u001b[0m \u001b[0;34m=\u001b[0m \u001b[0mvertices\u001b[0m\u001b[0;34m\u001b[0m\u001b[0m\n",
      "\u001b[0;31mAssertionError\u001b[0m: "
     ]
    },
    {
     "data": {
      "image/png": "[encoded data removed]",
      "text/plain": [
       "<matplotlib.figure.Figure at 0x11bcce490>"
      ]
     },
     "metadata": {},
     "output_type": "display_data"
    }
   ],
   "source": [
    "#3D\n",
    "G=nx.complete_graph(5)\n",
    "pos=nx.spring_layout(G,dim=3)\n"
   ]
  },
  {
   "cell_type": "code",
   "execution_count": 99,
   "metadata": {
    "collapsed": false
   },
   "outputs": [],
   "source": [
    "nx.spring_layout?"
   ]
  },
  {
   "cell_type": "markdown",
   "metadata": {
    "collapsed": true
   },
   "source": [
    "## Springs:\n",
    "\n",
    "https://cs.nyu.edu/~dzorin/numcomp08/springs.py\n",
    "https://cs.nyu.edu/~dzorin/numcomp08/springs_notes.pdf"
   ]
  },
  {
   "cell_type": "code",
   "execution_count": null,
   "metadata": {
    "collapsed": true
   },
   "outputs": [],
   "source": []
  }
 ],
 "metadata": {
  "kernelspec": {
   "display_name": "Python 2",
   "language": "python",
   "name": "python2"
  },
  "language_info": {
   "codemirror_mode": {
    "name": "ipython",
    "version": 2
   },
   "file_extension": ".py",
   "mimetype": "text/x-python",
   "name": "python",
   "nbconvert_exporter": "python",
   "pygments_lexer": "ipython2",
   "version": "2.7.11"
  }
 },
 "nbformat": 4,
 "nbformat_minor": 0
}
