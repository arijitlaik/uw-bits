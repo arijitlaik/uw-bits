{
 "cells": [
  {
   "cell_type": "code",
   "execution_count": null,
   "metadata": {
    "collapsed": true
   },
   "outputs": [],
   "source": [
    "#More Scaling "
   ]
  },
  {
   "cell_type": "code",
   "execution_count": 10,
   "metadata": {
    "collapsed": true
   },
   "outputs": [],
   "source": [
    "%matplotlib inline\n",
    "import pandas as pd\n",
    "import numpy as np\n",
    "import math\n",
    "import matplotlib.pylab as plt"
   ]
  },
  {
   "cell_type": "markdown",
   "metadata": {},
   "source": [
    "##Rayleigh numbers\n",
    "A number of definitions of the Rayleigh number can be formulated. The simplest is perhaps that for basal heating:\n",
    "\n",
    "$$Ra = \\frac{\\rho_0 g \\alpha_0 \\triangle T D^3}{\\kappa_0 \\eta_0}$$\n",
    "\n",
    "where $\\rho_0$, $\\alpha_0$, $\\kappa_0$, and $\\eta_0$ are the reference values for density, thermal expansivity, thermal diffusivity, and viscosity. D is the typical length scale (refernece depth). These can be taken as representative values at any part of the convecting fluid. "
   ]
  },
  {
   "cell_type": "code",
   "execution_count": 61,
   "metadata": {
    "collapsed": false
   },
   "outputs": [
    {
     "name": "stdout",
     "output_type": "stream",
     "text": [
      "Typical Rayleigh number ~ 1.12e+07\n"
     ]
    }
   ],
   "source": [
    "#Adam F. Holt, Bruce A. Buffett, and Thorsten W. Becker: \n",
    "#Overriding plate thickness control on subducting plate curvature\n",
    "\n",
    "rho = 3300\n",
    "g = 9.8\n",
    "a = 1.25*10**-5\n",
    "k = 10**-6\n",
    "#The sublithospheric mantle has a reference viscosity:\n",
    "nu = 10**20\n",
    "D = 1320*10**3\n",
    "dT = 1200\n",
    "\n",
    "Rayleigh_num = rho*g*a*dT*(D**3)/(nu*k)\n",
    "print \"Typical Rayleigh number ~ \" + \"%.3g\" % Rayleigh_num"
   ]
  },
  {
   "cell_type": "code",
   "execution_count": null,
   "metadata": {
    "collapsed": false
   },
   "outputs": [],
   "source": []
  },
  {
   "cell_type": "markdown",
   "metadata": {},
   "source": [
    "##Internal heating\n",
    "\n",
    "dimensionless internal heating is:\n",
    "\n",
    "$$H_{int} = \\frac{Q D^2}{\\rho_0 C \\triangle T \\kappa_0} $$\n",
    "\n",
    "where Q is the internal heating rate measured as energy per time per volume, and C is the specific heat. Internal heating is often given as in units of energy per time per volume, in which case the density is not needed in the scaling. "
   ]
  },
  {
   "cell_type": "markdown",
   "metadata": {},
   "source": [
    "##Arhennius Laws\n",
    "\n",
    "Scaling a temperature-only Arhennius law is straitforward:\n",
    "\n",
    "$$\\eta = A \\exp{\\frac{E}{RT}}$$\n",
    "\n",
    "$$  T = \\triangle  T \\tilde T + T_0$$\n",
    "\n",
    "$$\\tilde E = \\frac{E}{R \\triangle T}$$\n",
    "\n",
    "\n",
    "$$\\tilde \\eta = \\eta_{Arr} \\exp{\\frac{\\tilde E}{\\tilde T_0 + \\tilde T}}$$\n",
    "\n",
    "\n",
    "where the pre-factor $ \\eta_{Arr}$ is chosen to ensure that the viscosity is equal to unity at $\\tilde T = 1$ (or wherever the reference viscosity is set)\n",
    "\n",
    "With pressure, the relation is:\n",
    "\n",
    "$$\\eta = \\eta_0\\cdot \\exp \\left( \\frac{E_{act} + pV_{act}}{RT} \\right)$$\n",
    "\n",
    "\n",
    "The following are dimensionless forms from the literature:\n",
    "\n",
    "Christensen, \"Convection with pressure- and temperature-dependent non-Newtonian rheology\":\n",
    "\n",
    "\n",
    "$$\\eta = A \\exp \\left( \\frac{E + (1-z)W}{T + T_0} \\right)$$\n",
    "\n",
    "And for the non-linear law:\n",
    "\n",
    "$$\\eta = (B/\\dot\\epsilon^{n-1})^{1/n} \\exp \\left( \\frac{1}{n} \\frac{E + (1-z)W}{T + T_0} \\right)$$\n",
    "\n",
    "With the Boussinesq-approximationpressure dependence is converted into simple depth dependence, now described by the dimensionless activation ‘volume’ W. Note that the $n$ exponent enters the exponetial term. \n",
    "\n",
    "The scaling factors are:\n",
    "\n",
    "$$E(E*) = \\frac{1}{R \\triangle T}$$\n",
    "$$W(W*) = \\frac{\\rho g h}{R \\triangle T}$$\n",
    "\n",
    "$$A = 1/\\eta_0$$\n"
   ]
  },
  {
   "cell_type": "markdown",
   "metadata": {},
   "source": [
    "From Ana-Catalina Plesa, et al., \"Thermo-chemical Mantle Convection Simulations using Gaia\", \n",
    "a non-dimensional form for the Arhennius law is:\n",
    "\n",
    "$$\\eta(\\epsilon, T, p) = \\left(\\frac{\\epsilon}{\\epsilon_{ref}}\\right)^{\\frac{1-n}{n}} \\exp \\left(\\frac{E + pV}{n(T + T_0)} - \\frac{E + p_{ref}V}{n(T_{ref} + T_0)} \\right) $$\n",
    "\n",
    "Though I'm not sure about the $n$ term in the exponenatials, they aren't explained. I assume that $V$ and  $E$ in the above are still dimensional: i.e. they simply subtract a 'characteristic value' from the exponential term, which you can do because the total exponential term is by definition dimensionless.\n",
    "\n",
    "\n",
    "Roberts and Zhong,\"Degree-1 convection in the Martian mantle and the origin of the hemispheric dichotomy\", a similar form is\n",
    "\n",
    "$$\\eta(T, z) = \\eta(z)'\\exp \\left(\\frac{E' + V'(1-z)}{T + T_s} - \\frac{E + V'(1-D_s)}{1 + T_s} \\right) $$\n",
    "\n",
    "Here η′(z) is a radial viscosity profile (e.g., layering) upon which the temperature- and pressure-dependence is superimposed. In this case $E'$, $V'$ are dimensionless, the scaling factors are given below. \n",
    "\n",
    "###Normalizing factors \n",
    "\n",
    "Here I try and work out the normalizing factors used in Crameri and Tackley, (they do not provide these). The follwoign factors are adapted from the discussion in Roberts and Zhong,\"Degree-1 convection in the Martian mantle and the origin of the hemispheric dichotomy\"\n",
    "\n",
    "\n",
    "$$E' = \\frac{E}{R \\triangle T}$$\n",
    "\n",
    "$$V' = \\frac{\\rho_0 g D V}{R \\triangle T}$$\n",
    "\n",
    "Roberts and Zhong give:\n",
    "\n",
    "$$H' = \\frac{H D^2}{\\rho_0 C \\triangle T \\kappa_0} $$\n",
    "\n",
    "where H is the internal heating rate measured as energy per time per volume. But for the Crameri example, we need, energy per time per kg:\n",
    "\n",
    "$$H' = \\frac{H D^2}{C \\triangle T \\kappa_0} $$\n"
   ]
  },
  {
   "cell_type": "markdown",
   "metadata": {},
   "source": [
    "###Fabio Crameri, and Paul J. Tackley \n",
    "####Parameters controlling dynamically self-consistent plate tectonics and single-sided subduction in global models of mantle convection\n",
    "The assumed temperature-based Rayleigh number is $10^6$, \n",
    "\n",
    "the nondimensional internal heating rate is 20.0, which gives an internal heating-based Rayleigh number of $2.0 \\times 10^7$."
   ]
  },
  {
   "cell_type": "markdown",
   "metadata": {},
   "source": [
    "In this paper they use the normalizing factors for activation energy volume, and replace these directly to give a dimensionless form of the Arhennius relationship:\n",
    "\n",
    "$$\\eta = \\eta_0\\cdot \\exp \\left( \\frac{E_{act} + pV_{act}}{RT} \\right)$$\n",
    "\n",
    "Where the equation is either dimensional or non dimensionl, with the conversion given by appropriate scaling factors shown below. \n",
    "\n",
    "In the paper, they state $\\eta_0$ is  set such that $\\eta$ gives the reference viscosity at the characteristic Temperature and pressure. Crameri and Tackley use $T = 1600$ K and $p = 0$ Pa, e.g. viscosity at the midocean ridge. But $\\eta_0$ is also called the reference viscosity."
   ]
  },
  {
   "cell_type": "code",
   "execution_count": null,
   "metadata": {
    "collapsed": true
   },
   "outputs": [],
   "source": []
  },
  {
   "cell_type": "code",
   "execution_count": 105,
   "metadata": {
    "collapsed": false
   },
   "outputs": [
    {
     "name": "stdout",
     "output_type": "stream",
     "text": [
      "is this the reference viscosity: 1.02e+23\n",
      "or this: 1e+23?\n"
     ]
    }
   ],
   "source": [
    "D = 2890\n",
    "E = 240 # kJ mol−1\n",
    "R = 8.314 # m^3 mol\n",
    "#Vact is the varied activation volume\n",
    "V = 6.34*(10**-7)\n",
    "#Nu0 is set such that Nu gives the reference viscosity at T = 1600 K and p = 0 Pa.\n",
    "T = 1300\n",
    "p = 0.0\n",
    "delT = 2500\n",
    "rho0 = 3300\n",
    "Nu0 = 10**23 \n",
    "Nu = Nu0*math.exp((E+p*V)/(R*T))\n",
    "H = 5.44*10**(-12) #Internal heating\n",
    "C = 1200 # Heat capacity J kg−1 K-1\n",
    "k = 10**(-6) #Thermal diffusivity m2 s−1 \n",
    "print \"is this the reference viscosity: \" \"%.3g\" % Nu \n",
    "\n",
    "Nu2 = (Nu0/math.exp((E+p*V)/(R*T)))\n",
    "Nu = Nu2*math.exp((E+p*V)/(R*T))\n",
    "\n",
    "#ie \"set such that $\\eta$ gives the reference viscosity at the characteristic Temperature and pressure.\"\n",
    "print \"or this: \" \"%.3g\" % Nu + \"?\"\n",
    "\n",
    "\n"
   ]
  },
  {
   "cell_type": "code",
   "execution_count": 108,
   "metadata": {
    "collapsed": false
   },
   "outputs": [
    {
     "name": "stdout",
     "output_type": "stream",
     "text": [
      "this is the reference viscosity, I guess: 0.978\n",
      "E'= 0.555689198942\n",
      "V'= 13503676.2088\n",
      "H1'= 15.1451413333\n"
     ]
    }
   ],
   "source": [
    "#Dimensionless values given in Crameri\n",
    "E =11.55\n",
    "V = 3.0\n",
    "T = 2500/1300.\n",
    "#Nu0 = 1.\n",
    "Nu2dl = Nu2/Nu0\n",
    "Nu = Nu0*math.exp((E+p*V)/(R*T))\n",
    "print \"this is the reference viscosity, I guess: \" \"%.3g\" % Nu2dl\n",
    "\n",
    "print \"E'= \" + str(E*1000/(R*delT))\n",
    "\n",
    "print \"V'= \" + str((rho0*9.81*V*D*1000)/(R*delT))\n",
    "\n",
    "print \"H1'= \" + str((H*(D*1000)**2)/(C*delT*k))"
   ]
  },
  {
   "cell_type": "markdown",
   "metadata": {},
   "source": [
    "The dimensionless values are not exaclty what are published in Crameri and Tackley, e.g. V' is 3.0 not 2.8\n",
    "This suggests that they used a slightly different scaling somewhere."
   ]
  },
  {
   "cell_type": "markdown",
   "metadata": {},
   "source": [
    "However, I still used the dimensional form for the the Gas constant, which should be dimensionless. "
   ]
  },
  {
   "cell_type": "code",
   "execution_count": 176,
   "metadata": {
    "collapsed": false
   },
   "outputs": [
    {
     "name": "stdout",
     "output_type": "stream",
     "text": [
      "10808.2\n",
      "16500000000\n"
     ]
    },
    {
     "data": {
      "text/plain": [
       "float"
      ]
     },
     "execution_count": 176,
     "metadata": {},
     "output_type": "execute_result"
    }
   ],
   "source": [
    "#Scaling the Arhennius paramters using the Christenson paper \n",
    "\n",
    "Ep = E*1000/(R*delT)\n",
    "Wp = rho0*9.81*V*D*1000/R*delT\n",
    "n0 = 1e23\n",
    "T = 1300\n",
    "T0 = 0.5\n",
    "p= rho0*10*(500*1000) #pressure at mid mantle\n",
    "\n",
    "#A = n0/math.exp(E + p*V/R*T)\n",
    "#math.exp(E + p*V/(R*T))\n",
    "#print(E + p*V)\n",
    "print(R*T)\n",
    "print(p)\n",
    "\n",
    "T = np.linspace(0,1,100)\n",
    "z = np.linspace(0,1,100)\n",
    "\n",
    "Nu = [math.exp(Ep + 1*(1-0.5)/(i + T0)) for i in T]\n",
    "type(Ep)"
   ]
  },
  {
   "cell_type": "code",
   "execution_count": 162,
   "metadata": {
    "collapsed": false
   },
   "outputs": [
    {
     "data": {
      "text/plain": [
       "[<matplotlib.lines.Line2D at 0x10e7dcdd0>]"
      ]
     },
     "execution_count": 162,
     "metadata": {},
     "output_type": "execute_result"
    },
    {
     "data": {
      "image/png": "[encoded data removed]",
      "text/plain": [
       "<matplotlib.figure.Figure at 0x10b085450>"
      ]
     },
     "metadata": {},
     "output_type": "display_data"
    }
   ],
   "source": [
    "plt.plot(T, Nu)\n",
    "\n"
   ]
  },
  {
   "cell_type": "code",
   "execution_count": 103,
   "metadata": {
    "collapsed": false
   },
   "outputs": [],
   "source": [
    "Ep = E*1000/(R*delT)\n",
    "Vp = (rho0*9.81*V*D*1000)/(R*delT)\n",
    "n0 = 1e23"
   ]
  },
  {
   "cell_type": "code",
   "execution_count": 106,
   "metadata": {
    "collapsed": false
   },
   "outputs": [
    {
     "name": "stdout",
     "output_type": "stream",
     "text": [
      "E'= 11.5467885494\n",
      "V'= 2.85377690546\n",
      "H1'= 15.1451413333\n"
     ]
    }
   ],
   "source": []
  },
  {
   "cell_type": "code",
   "execution_count": 66,
   "metadata": {
    "collapsed": false
   },
   "outputs": [],
   "source": [
    "#Paramters from Moresi.\n",
    "\n",
    "TC2K = 273.0           # Kelvin <--> degrees C\n",
    "kappa = 1e-6           # Thermal diffusivity m^2/s\n",
    "alpha = 3.0e-5         # Therml expansivity in /K\n",
    "\n",
    "# Rheology (From Karato & Wu, 1993, assuming wet dislocation creep)\n",
    "\n",
    "E0 = 240000                                 # Activation energy (J/mol)\n",
    "mantleDensity = 3300\n",
    "gravAcc = 10\n",
    "V0 = mantleDensity*gravAcc*5.0e-6*1.0 # Activation Volume (m^3/mol) - then scale with approx lithostatic pressure \n",
    "R0 = 8.314                                  # Gas constant"
   ]
  },
  {
   "cell_type": "markdown",
   "metadata": {
    "collapsed": true
   },
   "source": [
    "###Moresi"
   ]
  },
  {
   "cell_type": "code",
   "execution_count": 67,
   "metadata": {
    "collapsed": false
   },
   "outputs": [],
   "source": [
    "#In Case 1, the viscosity prefactors, η0(z), \n",
    "#are 1, 1/30, and 0.27 for the lower mantle, upper mantle, and lithosphere, respectively (Table 2). \n",
    "T = np.linspace(0,1,100)\n",
    "\n",
    "Nu0 = 1/30.\n",
    "T0 = 0.5\n",
    "E= 6.907\n",
    "Nu = [Nu0*math.exp(E*(i-T0)) for i in T]"
   ]
  },
  {
   "cell_type": "code",
   "execution_count": 68,
   "metadata": {
    "collapsed": false
   },
   "outputs": [
    {
     "data": {
      "text/plain": [
       "[<matplotlib.lines.Line2D at 0x10e5e1e10>]"
      ]
     },
     "execution_count": 68,
     "metadata": {},
     "output_type": "execute_result"
    },
    {
     "data": {
      "image/png": "[encoded data removed]",
      "text/plain": [
       "<matplotlib.figure.Figure at 0x10e3b3990>"
      ]
     },
     "metadata": {},
     "output_type": "display_data"
    }
   ],
   "source": [
    "plt.plot(T, Nu)\n"
   ]
  }
 ],
 "metadata": {
  "kernelspec": {
   "display_name": "Python 2",
   "language": "python",
   "name": "python2"
  },
  "language_info": {
   "codemirror_mode": {
    "name": "ipython",
    "version": 2
   },
   "file_extension": ".py",
   "mimetype": "text/x-python",
   "name": "python",
   "nbconvert_exporter": "python",
   "pygments_lexer": "ipython2",
   "version": "2.7.10"
  }
 },
 "nbformat": 4,
 "nbformat_minor": 0
}
