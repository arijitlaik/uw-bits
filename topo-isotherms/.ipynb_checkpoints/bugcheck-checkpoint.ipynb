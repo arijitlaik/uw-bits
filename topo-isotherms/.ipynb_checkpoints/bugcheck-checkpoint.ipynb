{
 "cells": [
  {
   "cell_type": "markdown",
   "metadata": {},
   "source": [
    "##Test mesh distortion bug\n",
    " \n",
    " * Aim is to be able start with a regular mesh, distort the mesh, then visualize a field on that distorted mesh "
   ]
  },
  {
   "cell_type": "code",
   "execution_count": 1,
   "metadata": {
    "collapsed": true
   },
   "outputs": [],
   "source": [
    "# Stagnant lid convection model\n",
    "\n",
    "%matplotlib inline\n",
    "\n",
    "import underworld as uw\n",
    "import math\n",
    "from underworld import function as fn\n",
    "import glucifer.pylab as plt\n",
    "import matplotlib.pylab as pyplot\n",
    "import numpy as np"
   ]
  },
  {
   "cell_type": "code",
   "execution_count": 2,
   "metadata": {
    "collapsed": false
   },
   "outputs": [],
   "source": [
    "dim = 2\n",
    "meshX = 100\n",
    "meshY = 100\n",
    "maxX = 1 \n",
    "maxY = 1\n",
    "\n",
    "\n",
    "elementMesh = uw.mesh.FeMesh_Cartesian( elementType='Q1/dQ0',\n",
    "                                      elementRes=(meshX,meshY), \n",
    "                                      minCoord=(0.,0.), maxCoord=(maxX,maxY )  )\n",
    "\n",
    "\n",
    "linearMesh   = elementMesh\n",
    "constantMesh = elementMesh.subMesh\n"
   ]
  },
  {
   "cell_type": "code",
   "execution_count": 3,
   "metadata": {
    "collapsed": true
   },
   "outputs": [],
   "source": [
    "A= 0.02\n",
    "def sin_pert(x):\n",
    "    return A*math.sin((2*math.pi*x)/0.1)"
   ]
  },
  {
   "cell_type": "code",
   "execution_count": 4,
   "metadata": {
    "collapsed": false
   },
   "outputs": [],
   "source": [
    "with elementMesh.deform_mesh():\n",
    "    for index, coord in enumerate(elementMesh.data):\n",
    "        y0 = coord[1]\n",
    "        pert = sin_pert(coord[0])\n",
    "        elementMesh.data[index][1] = y0 + ((y0/maxY)*pert)"
   ]
  },
  {
   "cell_type": "code",
   "execution_count": 5,
   "metadata": {
    "collapsed": false
   },
   "outputs": [],
   "source": [
    "temperatureField = uw.fevariable.FeVariable( feMesh=linearMesh,   nodeDofCount=1 )\n",
    "\n",
    "temperatureField.data[:] = 0."
   ]
  },
  {
   "cell_type": "code",
   "execution_count": 6,
   "metadata": {
    "collapsed": false
   },
   "outputs": [
    {
     "data": {
      "image/png": "[encoded data removed]",
      "text/plain": [
       "<IPython.core.display.Image object>"
      ]
     },
     "execution_count": 6,
     "metadata": {},
     "output_type": "execute_result"
    }
   ],
   "source": [
    "meshfig = plt.Figure()\n",
    "meshfig.Mesh(elementMesh, colourBar=False)\n",
    "#meshfig.Surface(temperatureField,linearMesh)\n",
    "meshfig.show()"
   ]
  },
  {
   "cell_type": "code",
   "execution_count": 7,
   "metadata": {
    "collapsed": false
   },
   "outputs": [],
   "source": [
    "for index, coord in enumerate(elementMesh.data):\n",
    "    pert = sin_pert(coord[0])\n",
    "    maxY = 1 + pert\n",
    "    temperatureField.data[index] = (maxY - coord[1])"
   ]
  },
  {
   "cell_type": "code",
   "execution_count": 8,
   "metadata": {
    "collapsed": false
   },
   "outputs": [
    {
     "ename": "RuntimeError",
     "evalue": "FeVariable interpolation at location (0, 1.00873) does not appear to be valid.\nLocation is probably outside local domain.",
     "output_type": "error",
     "traceback": [
      "\u001b[0;31m---------------------------------------------------------------------------\u001b[0m",
      "\u001b[0;31mRuntimeError\u001b[0m                              Traceback (most recent call last)",
      "\u001b[0;32m<ipython-input-8-6311b249c78a>\u001b[0m in \u001b[0;36m<module>\u001b[0;34m()\u001b[0m\n\u001b[1;32m      2\u001b[0m \u001b[0;31m#meshfig.Mesh(elementMesh, colourBar=False)\u001b[0m\u001b[0;34m\u001b[0m\u001b[0;34m\u001b[0m\u001b[0m\n\u001b[1;32m      3\u001b[0m \u001b[0mmeshfig\u001b[0m\u001b[0;34m.\u001b[0m\u001b[0mSurface\u001b[0m\u001b[0;34m(\u001b[0m\u001b[0mtemperatureField\u001b[0m\u001b[0;34m,\u001b[0m\u001b[0mlinearMesh\u001b[0m\u001b[0;34m)\u001b[0m\u001b[0;34m\u001b[0m\u001b[0m\n\u001b[0;32m----> 4\u001b[0;31m \u001b[0mmeshfig\u001b[0m\u001b[0;34m.\u001b[0m\u001b[0mshow\u001b[0m\u001b[0;34m(\u001b[0m\u001b[0;34m)\u001b[0m\u001b[0;34m\u001b[0m\u001b[0m\n\u001b[0m",
      "\u001b[0;32m/Users/dansandiford/Documents/programming/newinterface/underworld2/glucifer/pylab/_pylab.pyc\u001b[0m in \u001b[0;36mshow\u001b[0;34m(self, type)\u001b[0m\n\u001b[1;32m    169\u001b[0m         \u001b[0;32mtry\u001b[0m\u001b[0;34m:\u001b[0m\u001b[0;34m\u001b[0m\u001b[0m\n\u001b[1;32m    170\u001b[0m             \u001b[0;32mfrom\u001b[0m \u001b[0mIPython\u001b[0m\u001b[0;34m.\u001b[0m\u001b[0mdisplay\u001b[0m \u001b[0;32mimport\u001b[0m \u001b[0mImage\u001b[0m\u001b[0;34m,\u001b[0m\u001b[0mHTML\u001b[0m\u001b[0;34m\u001b[0m\u001b[0m\n\u001b[0;32m--> 171\u001b[0;31m             \u001b[0mself\u001b[0m\u001b[0;34m.\u001b[0m\u001b[0m_generate_DB\u001b[0m\u001b[0;34m(\u001b[0m\u001b[0;34m)\u001b[0m\u001b[0;34m\u001b[0m\u001b[0m\n\u001b[0m\u001b[1;32m    172\u001b[0m             \u001b[0;32mif\u001b[0m \u001b[0muw\u001b[0m\u001b[0;34m.\u001b[0m\u001b[0mrank\u001b[0m\u001b[0;34m(\u001b[0m\u001b[0;34m)\u001b[0m \u001b[0;34m==\u001b[0m \u001b[0;36m0\u001b[0m\u001b[0;34m:\u001b[0m\u001b[0;34m\u001b[0m\u001b[0m\n\u001b[1;32m    173\u001b[0m                 \u001b[0mself\u001b[0m\u001b[0;34m.\u001b[0m\u001b[0m_generate_image\u001b[0m\u001b[0;34m(\u001b[0m\u001b[0;34m)\u001b[0m\u001b[0;34m\u001b[0m\u001b[0m\n",
      "\u001b[0;32m/Users/dansandiford/Documents/programming/newinterface/underworld2/glucifer/pylab/_pylab.pyc\u001b[0m in \u001b[0;36m_generate_DB\u001b[0;34m(self)\u001b[0m\n\u001b[1;32m    266\u001b[0m         \u001b[0mlibUnderworld\u001b[0m\u001b[0;34m.\u001b[0m\u001b[0mgLucifer\u001b[0m\u001b[0;34m.\u001b[0m\u001b[0mlucDatabase_OutputWindow\u001b[0m\u001b[0;34m(\u001b[0m\u001b[0mself\u001b[0m\u001b[0;34m.\u001b[0m\u001b[0m_db\u001b[0m\u001b[0;34m,\u001b[0m \u001b[0mself\u001b[0m\u001b[0;34m.\u001b[0m\u001b[0m_win\u001b[0m\u001b[0;34m)\u001b[0m\u001b[0;34m\u001b[0m\u001b[0m\n\u001b[1;32m    267\u001b[0m         \u001b[0mlibUnderworld\u001b[0m\u001b[0;34m.\u001b[0m\u001b[0mgLucifer\u001b[0m\u001b[0;34m.\u001b[0m\u001b[0m_lucDatabase_Execute\u001b[0m\u001b[0;34m(\u001b[0m\u001b[0mself\u001b[0m\u001b[0;34m.\u001b[0m\u001b[0m_db\u001b[0m\u001b[0;34m,\u001b[0m\u001b[0mNone\u001b[0m\u001b[0;34m)\u001b[0m\u001b[0;34m\u001b[0m\u001b[0m\n\u001b[0;32m--> 268\u001b[0;31m         \u001b[0mlibUnderworld\u001b[0m\u001b[0;34m.\u001b[0m\u001b[0mgLucifer\u001b[0m\u001b[0;34m.\u001b[0m\u001b[0m_lucWindow_Execute\u001b[0m\u001b[0;34m(\u001b[0m\u001b[0mself\u001b[0m\u001b[0;34m.\u001b[0m\u001b[0m_win\u001b[0m\u001b[0;34m,\u001b[0m\u001b[0mNone\u001b[0m\u001b[0;34m)\u001b[0m\u001b[0;34m\u001b[0m\u001b[0m\n\u001b[0m\u001b[1;32m    269\u001b[0m \u001b[0;34m\u001b[0m\u001b[0m\n\u001b[1;32m    270\u001b[0m     \u001b[0;32mdef\u001b[0m \u001b[0m_generate_image\u001b[0m\u001b[0;34m(\u001b[0m\u001b[0mself\u001b[0m\u001b[0;34m)\u001b[0m\u001b[0;34m:\u001b[0m\u001b[0;34m\u001b[0m\u001b[0m\n",
      "\u001b[0;31mRuntimeError\u001b[0m: FeVariable interpolation at location (0, 1.00873) does not appear to be valid.\nLocation is probably outside local domain."
     ]
    }
   ],
   "source": [
    "meshfig = plt.Figure()\n",
    "#meshfig.Mesh(elementMesh, colourBar=False)\n",
    "meshfig.Surface(temperatureField,linearMesh)\n",
    "meshfig.show()"
   ]
  },
  {
   "cell_type": "markdown",
   "metadata": {},
   "source": [
    "##Now test if zero-flux temp BCs apply by default if Dirichlet conditions aren't set"
   ]
  },
  {
   "cell_type": "markdown",
   "metadata": {},
   "source": [
    "###first: steady state heat"
   ]
  },
  {
   "cell_type": "code",
   "execution_count": 9,
   "metadata": {
    "collapsed": true
   },
   "outputs": [],
   "source": [
    "mesh = uw.mesh.FeMesh_Cartesian('Q1', (128,128), (-2,-1.), (2,1.))\n",
    "temperatureField = uw.fevariable.FeVariable(mesh,1)"
   ]
  },
  {
   "cell_type": "code",
   "execution_count": 10,
   "metadata": {
    "collapsed": true
   },
   "outputs": [],
   "source": [
    "# declare which nodes are to be considered as boundary nodes\n",
    "topNodes = mesh.specialSets[\"MaxJ_VertexSet\"] \n",
    "bottomNodes = mesh.specialSets[\"MinJ_VertexSet\"]\n",
    "conditions = uw.conditions.DirichletCondition(temperatureField, topNodes + bottomNodes)"
   ]
  },
  {
   "cell_type": "code",
   "execution_count": 11,
   "metadata": {
    "collapsed": false
   },
   "outputs": [],
   "source": [
    "# init tempfield to zero everywhere\n",
    "temperatureField.data[:] = 0.\n",
    "# setup required values on boundary nodes\n",
    "temperatureField.data[topNodes.data]    = 0.\n",
    "#temperatureField.data[bottomNodes.data] = 1."
   ]
  },
  {
   "cell_type": "code",
   "execution_count": 12,
   "metadata": {
    "collapsed": true
   },
   "outputs": [],
   "source": [
    "# setup system\n",
    "steadyStateThermal = uw.systems.SteadyStateHeat(temperatureField,1.,conditions=[conditions,])"
   ]
  },
  {
   "cell_type": "code",
   "execution_count": 13,
   "metadata": {
    "collapsed": true
   },
   "outputs": [],
   "source": [
    "steadyStateThermal.solve()"
   ]
  },
  {
   "cell_type": "code",
   "execution_count": 14,
   "metadata": {
    "collapsed": false
   },
   "outputs": [
    {
     "data": {
      "image/png": "[encoded data removed]",
      "text/plain": [
       "<IPython.core.display.Image object>"
      ]
     },
     "execution_count": 14,
     "metadata": {},
     "output_type": "execute_result"
    }
   ],
   "source": [
    "# now lets look\n",
    "fig = plt.Figure()\n",
    "fig.Surface(temperatureField,mesh, colours=['blue','red'])\n",
    "fig.show()"
   ]
  },
  {
   "cell_type": "markdown",
   "metadata": {},
   "source": [
    "* So it seems like a zero flux condition does apply (but could something else be going on here?) "
   ]
  },
  {
   "cell_type": "markdown",
   "metadata": {},
   "source": [
    "###second: advection diffusion "
   ]
  },
  {
   "cell_type": "code",
   "execution_count": 2,
   "metadata": {
    "collapsed": false
   },
   "outputs": [],
   "source": [
    "dim = 2\n",
    "# create mesh objects\n",
    "elementMesh = uw.mesh.FeMesh_Cartesian( elementType='Q2/dPc1', \n",
    "                                         elementRes=(128,128), \n",
    "                                           minCoord=(-2.,-1.), \n",
    "                                           maxCoord=(2.,1.)  )\n",
    "\n",
    "linearMesh   = elementMesh\n",
    "constantMesh = elementMesh.subMesh "
   ]
  },
  {
   "cell_type": "code",
   "execution_count": 3,
   "metadata": {
    "collapsed": true
   },
   "outputs": [],
   "source": [
    "linearMesh   = elementMesh\n",
    "constantMesh = elementMesh.subMesh"
   ]
  },
  {
   "cell_type": "code",
   "execution_count": 4,
   "metadata": {
    "collapsed": false
   },
   "outputs": [],
   "source": [
    "\n",
    "# create & zero fevariables\n",
    "velocityField    = uw.fevariable.FeVariable( feMesh=linearMesh,   nodeDofCount=dim )\n",
    "temperatureField = uw.fevariable.FeVariable( feMesh=linearMesh,   nodeDofCount=1 )\n",
    "\n",
    "velocityField.data[:] = [0.,0.]\n",
    "temperatureField.data[:] = 0.5"
   ]
  },
  {
   "cell_type": "code",
   "execution_count": 5,
   "metadata": {
    "collapsed": false
   },
   "outputs": [],
   "source": [
    "# declare which nodes are to be considered as boundary nodes\n",
    "topNodes = linearMesh.specialSets[\"MaxJ_VertexSet\"] \n",
    "bottomNodes = linearMesh.specialSets[\"MinJ_VertexSet\"]\n",
    "conditions = uw.conditions.DirichletCondition(temperatureField, topNodes + bottomNodes)"
   ]
  },
  {
   "cell_type": "code",
   "execution_count": 6,
   "metadata": {
    "collapsed": true
   },
   "outputs": [],
   "source": [
    "# setup required values on boundary nodes\n",
    "temperatureField.data[topNodes.data]    = 0.\n",
    "temperatureField.data[bottomNodes.data] = 1."
   ]
  },
  {
   "cell_type": "code",
   "execution_count": 7,
   "metadata": {
    "collapsed": false
   },
   "outputs": [],
   "source": [
    "velocityField.data[:] = [0,0]\n",
    "kappa = 1.\n",
    "advDiff = uw.systems.AdvectionDiffusion( temperatureField, velocityField, diffusivity=kappa, conditions=[conditions,] )"
   ]
  },
  {
   "cell_type": "code",
   "execution_count": 8,
   "metadata": {
    "collapsed": false
   },
   "outputs": [
    {
     "data": {
      "image/png": "[encoded data removed]",
      "text/plain": [
       "<IPython.core.display.Image object>"
      ]
     },
     "execution_count": 8,
     "metadata": {},
     "output_type": "execute_result"
    }
   ],
   "source": [
    "fig2 = plt.Figure()\n",
    "fig2.Surface(temperatureField,linearMesh, colours=['blue','red'])\n",
    "fig2.show()"
   ]
  },
  {
   "cell_type": "code",
   "execution_count": 9,
   "metadata": {
    "collapsed": false
   },
   "outputs": [],
   "source": [
    "step = 0\n",
    "while step < 2:\n",
    "    dt = advDiff.get_max_dt()\n",
    "    advDiff.integrate(dt)\n",
    "    step += 1"
   ]
  },
  {
   "cell_type": "code",
   "execution_count": null,
   "metadata": {
    "collapsed": false
   },
   "outputs": [],
   "source": [
    "fig3 = plt.Figure()\n",
    "fig3.Surface(temperatureField,linearMesh, colours=['blue','red'])\n",
    "fig3.show()"
   ]
  },
  {
   "cell_type": "code",
   "execution_count": null,
   "metadata": {
    "collapsed": true
   },
   "outputs": [],
   "source": []
  }
 ],
 "metadata": {
  "kernelspec": {
   "display_name": "Python 2",
   "language": "python",
   "name": "python2"
  },
  "language_info": {
   "codemirror_mode": {
    "name": "ipython",
    "version": 2
   },
   "file_extension": ".py",
   "mimetype": "text/x-python",
   "name": "python",
   "nbconvert_exporter": "python",
   "pygments_lexer": "ipython2",
   "version": "2.7.10"
  }
 },
 "nbformat": 4,
 "nbformat_minor": 0
}
