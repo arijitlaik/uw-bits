{
 "cells": [
  {
   "cell_type": "code",
   "execution_count": 20,
   "metadata": {
    "collapsed": true
   },
   "outputs": [],
   "source": [
    "# RT PIC - classic and nearest neighbour\n",
    "import underworld as uw\n",
    "import math\n",
    "from underworld import function as fn\n",
    "import glucifer.pylab as plt\n",
    "import numpy as np\n",
    "import os\n",
    "import time\n",
    "import h5py"
   ]
  },
  {
   "cell_type": "code",
   "execution_count": 21,
   "metadata": {
    "collapsed": true
   },
   "outputs": [],
   "source": [
    "CASE = 2\n",
    "\n",
    "outputPath = 'CrameriOutput/'\n",
    "tempPath = 'temp/'\n",
    "outputFile = 'results_case' + str(CASE) + '.dat'"
   ]
  },
  {
   "cell_type": "code",
   "execution_count": 22,
   "metadata": {
    "collapsed": true
   },
   "outputs": [],
   "source": [
    "# make directories if they don't exist\n",
    "if not os.path.isdir(outputPath):\n",
    "    os.makedirs(outputPath)\n",
    "if not os.path.isdir(tempPath):\n",
    "    os.makedirs(tempPath) "
   ]
  },
  {
   "cell_type": "code",
   "execution_count": 23,
   "metadata": {
    "collapsed": true
   },
   "outputs": [],
   "source": [
    "dim = 2"
   ]
  },
  {
   "cell_type": "code",
   "execution_count": 24,
   "metadata": {
    "collapsed": false
   },
   "outputs": [
    {
     "data": {
      "text/plain": [
       "384"
      ]
     },
     "execution_count": 24,
     "metadata": {},
     "output_type": "execute_result"
    }
   ],
   "source": [
    "192*2"
   ]
  },
  {
   "cell_type": "code",
   "execution_count": 25,
   "metadata": {
    "collapsed": true
   },
   "outputs": [],
   "source": [
    "elementMesh = uw.mesh.FeMesh_Cartesian( elementType=(\"Q1/dQ0\"),\n",
    "                                         elementRes=(384,192), \n",
    "                                           minCoord=(0.,0.), \n",
    "                                           maxCoord=(28e5,9e5)  )\n",
    "linearMesh   = elementMesh\n",
    "constantMesh = elementMesh.subMesh"
   ]
  },
  {
   "cell_type": "code",
   "execution_count": 26,
   "metadata": {
    "collapsed": false
   },
   "outputs": [],
   "source": [
    "# create fevariables\n",
    "velocityField    = uw.fevariable.FeVariable( feMesh=linearMesh,   nodeDofCount=dim )\n",
    "pressureField    = uw.fevariable.FeVariable( feMesh=constantMesh, nodeDofCount=1 )\n",
    "\n",
    "velocityField.data[:] = [0.,0.]\n",
    "pressureField.data[:] = 0."
   ]
  },
  {
   "cell_type": "code",
   "execution_count": 27,
   "metadata": {
    "collapsed": true
   },
   "outputs": [],
   "source": [
    "#Boundary conditions\n",
    "\n",
    "# Note that we use operator overloading to combine sets\n",
    "IWalls = linearMesh.specialSets[\"MinI_VertexSet\"] + linearMesh.specialSets[\"MaxI_VertexSet\"]\n",
    "JWalls = linearMesh.specialSets[\"MinJ_VertexSet\"] + linearMesh.specialSets[\"MaxJ_VertexSet\"]\n",
    "BWalls = linearMesh.specialSets[\"MinJ_VertexSet\"]\n",
    "\n",
    "\n",
    "\n",
    "#free sides, no slip top\n",
    "mixedslipBC = uw.conditions.DirichletCondition(     variable=velocityField, \n",
    "                                                                  nodeIndexSets=(IWalls+BWalls, JWalls)  )"
   ]
  },
  {
   "cell_type": "code",
   "execution_count": null,
   "metadata": {
    "collapsed": true
   },
   "outputs": [],
   "source": []
  },
  {
   "cell_type": "code",
   "execution_count": null,
   "metadata": {
    "collapsed": true
   },
   "outputs": [],
   "source": []
  },
  {
   "cell_type": "markdown",
   "metadata": {},
   "source": [
    "##Geometry"
   ]
  },
  {
   "cell_type": "code",
   "execution_count": 28,
   "metadata": {
    "collapsed": false
   },
   "outputs": [],
   "source": [
    "#sphereShape = uw.shapes.Sphere(0.5e5, 2, centre=(14e5,3e5))\n",
    "\n",
    "from shapely.geometry import Point\n",
    "\n",
    "#Shapely stuff\n",
    "\n",
    "sphereshape = Point((14e5,3e5)).buffer(5e4)"
   ]
  },
  {
   "cell_type": "markdown",
   "metadata": {},
   "source": [
    "##Particles"
   ]
  },
  {
   "cell_type": "code",
   "execution_count": 29,
   "metadata": {
    "collapsed": false
   },
   "outputs": [],
   "source": [
    "# We create swarms of particles which can advect, and which may determine 'materials'\n",
    "gSwarm = uw.swarm.Swarm( feMesh=elementMesh )\n",
    "\n",
    "# Now we add a data variable which will store an index to determine material\n",
    "materialVariable = gSwarm.add_variable( dataType=\"char\", count=1 )\n",
    "\n",
    "# Layouts are used to populate the swarm across the whole domain\n",
    "# Create the layout object\n",
    "layout = uw.swarm.layouts.GlobalSpaceFillerLayout( swarm=gSwarm, particlesPerCell=36 )\n",
    "# Now use it to populate.\n",
    "gSwarm.populate_using_layout(layout=layout )\n",
    "\n",
    "# Lets initialise the 'materialVariable' data to represent two different materials. \n",
    "\n",
    "mantleIndex = 1\n",
    "lithosphereIndex = 2\n",
    "airIndex = 3\n",
    "sphereIndex = 4\n",
    "\n",
    "\n",
    "# Set the material to heavy everywhere via the numpy array\n",
    "materialVariable.data[:] = mantleIndex"
   ]
  },
  {
   "cell_type": "code",
   "execution_count": 30,
   "metadata": {
    "collapsed": false
   },
   "outputs": [],
   "source": [
    "for particleID in range(gSwarm.particleCoordinates.data.shape[0]):\n",
    "    x = gSwarm.particleCoordinates.data[particleID][0]\n",
    "    y = gSwarm.particleCoordinates.data[particleID][1]  \n",
    "    if gSwarm.particleCoordinates.data[particleID][1] > 6e5 and gSwarm.particleCoordinates.data[particleID][1] < 7e5:\n",
    "        materialVariable.data[particleID] =  lithosphereIndex\n",
    "    elif gSwarm.particleCoordinates.data[particleID][1] > 7e5:\n",
    "        materialVariable.data[particleID] =  airIndex\n",
    "    elif Point(x,y).within(sphereshape):\n",
    "        materialVariable.data[particleID] =  sphereIndex\n",
    "    else:\n",
    "        materialVariable.data[particleID] =  mantleIndex\n",
    "\n"
   ]
  },
  {
   "cell_type": "code",
   "execution_count": 31,
   "metadata": {
    "collapsed": false,
    "scrolled": true
   },
   "outputs": [],
   "source": [
    "#fig1 = plt.Figure()\n",
    "#fig1.Points( swarm=gSwarm, colourVariable=materialVariable )\n",
    "#fig1.save_database('test_pol.gldb')\n",
    "#fig1.show()"
   ]
  },
  {
   "cell_type": "code",
   "execution_count": 32,
   "metadata": {
    "collapsed": false
   },
   "outputs": [
    {
     "data": {
      "text/plain": [
       "array([   0,    1,    2, ..., 9997, 9998, 9999], dtype=int32)"
      ]
     },
     "execution_count": 32,
     "metadata": {},
     "output_type": "execute_result"
    }
   ],
   "source": [
    "incr = 5000.\n",
    "xps = np.linspace(0 + 1000.,28e5 - 1000., 10000)\n",
    "#yps = [7e5 + 7e3*np.cos(2*np.pi*(i/28e5)) for i in xps]\n",
    "yps = [7e5 for i in xps]\n",
    "\n",
    "surfswarm = uw.swarm.Swarm( feMesh=elementMesh )\n",
    "surfswarm.add_particles_with_coordinates(np.array((xps,yps)).T)"
   ]
  },
  {
   "cell_type": "code",
   "execution_count": null,
   "metadata": {
    "collapsed": false
   },
   "outputs": [],
   "source": []
  },
  {
   "cell_type": "markdown",
   "metadata": {},
   "source": [
    "##Material properties"
   ]
  },
  {
   "cell_type": "code",
   "execution_count": 34,
   "metadata": {
    "collapsed": false
   },
   "outputs": [
    {
     "name": "stdout",
     "output_type": "stream",
     "text": [
      "(1e+23, 1e+23)\n"
     ]
    }
   ],
   "source": [
    "print(1e23, 10.**23)"
   ]
  },
  {
   "cell_type": "code",
   "execution_count": 35,
   "metadata": {
    "collapsed": true
   },
   "outputs": [],
   "source": [
    "#\n",
    "viscosityMapFn  = fn.branching.map( keyFunc = materialVariable, \n",
    "                         mappingDict = {mantleIndex:1e21,airIndex:1e18,lithosphereIndex:1e23, sphereIndex:1e20} )\n",
    "\n",
    "\n",
    "densityMapFn = fn.branching.map( keyFunc = materialVariable,\n",
    "                         mappingDict = {mantleIndex:3300.,airIndex:0., lithosphereIndex:3300., sphereIndex:3200.} )\n",
    "\n",
    "# Define our gravity using a python tuple (this will be automatically converted to a function)\n",
    "if dim ==2:\n",
    "    gravity = ( 0.0, -10.0 )\n",
    "else:\n",
    "    gravity = ( 0.0, -10.0, 0.0)\n",
    "    \n",
    "\n",
    "# now create a buoyancy force vector.. the gravity tuple is converted to a function \n",
    "# here via operator overloading\n",
    "\n",
    "buoyancyFn = gravity*densityMapFn"
   ]
  },
  {
   "cell_type": "code",
   "execution_count": 36,
   "metadata": {
    "collapsed": false
   },
   "outputs": [],
   "source": [
    "# Setup the Stokes system again, now with full viscosity\n",
    "# For PIC style integration, we include a swarm for the a PIC integration swarm is generated within.\n",
    "# For gauss integration, simple do not include the swarm. Nearest neighbour is used where required.\n",
    "stokesPIC = uw.systems.Stokes(velocityField=velocityField, \n",
    "                              pressureField=pressureField,\n",
    "                              conditions=[mixedslipBC,],\n",
    "                              viscosityFn=fn.exception.SafeMaths(viscosityMapFn), \n",
    "                              bodyForceFn=buoyancyFn)"
   ]
  },
  {
   "cell_type": "code",
   "execution_count": 37,
   "metadata": {
    "collapsed": true
   },
   "outputs": [],
   "source": [
    "solver = uw.systems.Solver(stokesPIC)"
   ]
  },
  {
   "cell_type": "code",
   "execution_count": 38,
   "metadata": {
    "collapsed": true
   },
   "outputs": [],
   "source": [
    "solver.solve()"
   ]
  },
  {
   "cell_type": "code",
   "execution_count": 39,
   "metadata": {
    "collapsed": true
   },
   "outputs": [],
   "source": [
    "# Create advector objects to advect the swarms. We specify second order integration.\n",
    "advector1 = uw.systems.SwarmAdvector( swarm=gSwarm, velocityField=velocityField, order=2)\n",
    "advector2 = uw.systems.SwarmAdvector( swarm=surfswarm, velocityField=velocityField, order=2)"
   ]
  },
  {
   "cell_type": "code",
   "execution_count": 40,
   "metadata": {
    "collapsed": true
   },
   "outputs": [],
   "source": [
    "# Stepping. Initialise time and timestep.\n",
    "realtime = 0.\n",
    "step = 0\n",
    "\n",
    "timevals = []\n",
    "vrmsvals = []"
   ]
  },
  {
   "cell_type": "code",
   "execution_count": null,
   "metadata": {
    "collapsed": false
   },
   "outputs": [],
   "source": []
  },
  {
   "cell_type": "code",
   "execution_count": 41,
   "metadata": {
    "collapsed": false
   },
   "outputs": [],
   "source": [
    "sectoka = (3600*24*365*1000.)\n",
    "sectoka\n",
    "sectoma = (3600*24*365*1e6)"
   ]
  },
  {
   "cell_type": "code",
   "execution_count": 42,
   "metadata": {
    "collapsed": true
   },
   "outputs": [],
   "source": [
    "heightfn = fn.view.min_max(surfswarm.particleCoordinates[1])"
   ]
  },
  {
   "cell_type": "code",
   "execution_count": 43,
   "metadata": {
    "collapsed": false
   },
   "outputs": [],
   "source": [
    "#20*sectoma/"
   ]
  },
  {
   "cell_type": "code",
   "execution_count": 44,
   "metadata": {
    "collapsed": false
   },
   "outputs": [
    {
     "name": "stdout",
     "output_type": "stream",
     "text": [
      "step = 1 dt 0.0 time 0.0\n",
      "step = 2 dt 1.57260502216e+12 time 0.0498669781253\n",
      "step = 3 dt 1.73361621303e+12 time 0.10483958762\n",
      "step = 4 dt 1.71942860542e+12 time 0.159362311029\n",
      "step = 5 dt 6.41282973513e+11 time 0.179697260722\n",
      "step = 6 dt 1.30208570575e+12 time 0.220986127596\n",
      "step = 7 dt 9.45647920379e+11 time 0.250972426441\n",
      "step = 8 dt 1.59256061612e+12 time 0.3014721923\n",
      "step = 9 dt 5.90628068703e+11 time 0.320200885498\n",
      "step = 10 dt 1.55714885795e+12 time 0.369577751871\n",
      "step = 11 dt 1.91763386597e+12 time 0.430385522862\n",
      "step = 12 dt 1.06521341002e+12 time 0.464163218512\n",
      "step = 13 dt 1.6773805155e+12 time 0.517352605737\n",
      "step = 14 dt 1.07894162978e+12 time 0.55156562038\n",
      "step = 15 dt 5.99858216783e+11 time 0.570586999654\n",
      "step = 16 dt 7.39825334944e+11 time 0.594046707129\n",
      "step = 17 dt 1.59271666067e+12 time 0.644551421128\n",
      "step = 18 dt 1.84095043875e+12 time 0.702927576593\n",
      "step = 19 dt 9.7188933862e+11 time 0.733745985352\n",
      "step = 20 dt 8.34092225689e+11 time 0.760194876324\n",
      "step = 21 dt 5.10534807326e+11 time 0.776383828864\n",
      "step = 22 dt 1.6055991677e+12 time 0.827297044481\n",
      "step = 23 dt 1.87114468389e+12 time 0.886630653179\n",
      "step = 24 dt 1.53784826253e+12 time 0.935395501686\n",
      "step = 25 dt 6.10644379883e+11 time 0.954758907948\n",
      "step = 26 dt 1.03258664986e+12 time 0.987502015821\n",
      "step = 27 dt 1.1059067423e+12 time 1.02257008857\n"
     ]
    }
   ],
   "source": [
    "# create integral to get diff \n",
    "f_o = open(outputPath+outputFile, 'w')\n",
    "start = time.clock()\n",
    "#while step<10:\n",
    "while realtime/sectoma < 1:\n",
    "    #stokesPIC2.solve(nonLinearIterate=True)\n",
    "    solver.solve()\n",
    "    dt = advector1.get_max_dt()\n",
    "    #dt = min((2.*sectoka),dt1)\n",
    "    if step == 0:\n",
    "        dt = 0.\n",
    "    # Advect swarm using this timestep size\n",
    "    advector1.integrate(dt)\n",
    "    advector2.integrate(dt)\n",
    "    # Increment\n",
    "    realtime += dt\n",
    "    step += 1\n",
    "    timevals.append(realtime)\n",
    "    #Save the suface swarm max to file\n",
    "    heightfn.evaluate(surfswarm)\n",
    "    height = heightfn.max_global()\n",
    "    if uw.rank() == 0:\n",
    "        f_o.write((2*'%-15s ' + '\\n') % (realtime,height))\n",
    "    print 'step =',step, 'dt', dt, 'time', realtime/sectoma\n",
    "f_o.close()"
   ]
  },
  {
   "cell_type": "code",
   "execution_count": 55,
   "metadata": {
    "collapsed": false
   },
   "outputs": [
    {
     "data": {
      "image/png": "[encoded data removed]",
      "text/plain": [
       "<IPython.core.display.Image object>"
      ]
     },
     "execution_count": 55,
     "metadata": {},
     "output_type": "execute_result"
    }
   ],
   "source": [
    "fig2 = plt.Figure()\n",
    "fig2.Points( swarm=surfswarm, pointSize=1.0)\n",
    "fig2.Points( swarm=gSwarm, colourVariable=materialVariable )\n",
    "fig2.VectorArrows(velocityField, linearMesh, lengthScale=1e14)\n",
    "fig2.save_database('test_pol.gldb')\n",
    "fig2.show()"
   ]
  },
  {
   "cell_type": "code",
   "execution_count": 47,
   "metadata": {
    "collapsed": true
   },
   "outputs": [],
   "source": [
    "fig2.VectorArrows?"
   ]
  },
  {
   "cell_type": "code",
   "execution_count": null,
   "metadata": {
    "collapsed": true
   },
   "outputs": [],
   "source": []
  }
 ],
 "metadata": {
  "kernelspec": {
   "display_name": "Python 2",
   "language": "python",
   "name": "python2"
  },
  "language_info": {
   "codemirror_mode": {
    "name": "ipython",
    "version": 2
   },
   "file_extension": ".py",
   "mimetype": "text/x-python",
   "name": "python",
   "nbconvert_exporter": "python",
   "pygments_lexer": "ipython2",
   "version": "2.7.10"
  }
 },
 "nbformat": 4,
 "nbformat_minor": 0
}
