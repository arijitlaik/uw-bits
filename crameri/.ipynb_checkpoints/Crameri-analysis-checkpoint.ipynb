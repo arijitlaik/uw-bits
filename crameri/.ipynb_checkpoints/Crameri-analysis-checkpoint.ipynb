{
 "cells": [
  {
   "cell_type": "code",
   "execution_count": null,
   "metadata": {
    "collapsed": true
   },
   "outputs": [],
   "source": [
    "%pylab inline"
   ]
  },
  {
   "cell_type": "code",
   "execution_count": null,
   "metadata": {
    "collapsed": true
   },
   "outputs": [],
   "source": [
    "\n",
    "kms = [j/1000. - 700 for j in maxheight]\n",
    "\n",
    "kyas = [i/sectoka for i in timevals]\n",
    "\n",
    "#Analytic solution\n",
    "y = -0.2139e-11\n",
    "def analytic_height(y,t):\n",
    "    return 7e3*math.exp(y*t)\n",
    "\n",
    "ah = [analytic_height(y,i)/1000. for i in timevals]\n",
    "\n",
    "uw_paper = np.loadtxt(\"./CASE1_data/UNDERWORLD_sa_100_18.dat\")\n",
    "\n",
    "\n",
    "pyplt.plot(kyas, kms)\n",
    "pyplt.plot(kyas, ah)\n",
    "pyplt.plot(uw_paper[:,0], uw_paper[:,1])"
   ]
  }
 ],
 "metadata": {
  "kernelspec": {
   "display_name": "Python 2",
   "language": "python",
   "name": "python2"
  },
  "language_info": {
   "codemirror_mode": {
    "name": "ipython",
    "version": 2
   },
   "file_extension": ".py",
   "mimetype": "text/x-python",
   "name": "python",
   "nbconvert_exporter": "python",
   "pygments_lexer": "ipython2",
   "version": "2.7.10"
  }
 },
 "nbformat": 4,
 "nbformat_minor": 0
}
