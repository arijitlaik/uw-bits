{
 "cells": [
  {
   "cell_type": "markdown",
   "metadata": {},
   "source": [
    "#Figures from Crameri benchmark"
   ]
  },
  {
   "cell_type": "markdown",
   "metadata": {},
   "source": [
    "##Sticky air"
   ]
  },
  {
   "cell_type": "code",
   "execution_count": 1,
   "metadata": {
    "collapsed": false
   },
   "outputs": [
    {
     "name": "stdout",
     "output_type": "stream",
     "text": [
      "Populating the interactive namespace from numpy and matplotlib\n"
     ]
    }
   ],
   "source": [
    "%pylab inline"
   ]
  },
  {
   "cell_type": "code",
   "execution_count": 5,
   "metadata": {
    "collapsed": false
   },
   "outputs": [],
   "source": [
    "case1 = np.loadtxt('sticky_air/CrameriOutput/results_case1.0.dat')\n",
    "case2 = np.loadtxt('sticky_air/CrameriOutput/results_case2.dat')"
   ]
  },
  {
   "cell_type": "code",
   "execution_count": 33,
   "metadata": {
    "collapsed": false
   },
   "outputs": [
    {
     "data": {
      "text/plain": [
       "<matplotlib.text.Text at 0x109378190>"
      ]
     },
     "execution_count": 33,
     "metadata": {},
     "output_type": "execute_result"
    },
    {
     "data": {
      "image/png": "[encoded data removed]",
      "text/plain": [
       "<matplotlib.figure.Figure at 0x10848a410>"
      ]
     },
     "metadata": {},
     "output_type": "display_data"
    }
   ],
   "source": [
    "sectoka = (3600*24*365*1000)\n",
    "\n",
    "#Underworld results\n",
    "kms = [j/1000. - 700 for j in case1[:, 1]]\n",
    "kyas = [i/sectoka for i in case1[:, 0]]\n",
    "\n",
    "#Analytic solution\n",
    "timevals = np.linspace(0, case1[:, 0][-1], 100)\n",
    "y = -0.2139e-11\n",
    "def analytic_height(y,t):\n",
    "    return 7e3*math.exp(y*t)\n",
    "ah = [analytic_height(y,i)/1000. for i in timevals]\n",
    "\n",
    "#Underworld solution from Original paper \n",
    "#Accessed via the benchmark in the Aspect code\n",
    "uw_paper = np.loadtxt(\"./other_codes/CASE1_data/UNDERWORLD_sa_100_18.dat\")\n",
    "\n",
    "plt.plot(kyas, kms)\n",
    "plt.plot(timevals/sectoka, ah)\n",
    "plt.plot(uw_paper[:,0], uw_paper[:,1])\n",
    "plt.title(\"Case 1\")"
   ]
  },
  {
   "cell_type": "code",
   "execution_count": 42,
   "metadata": {
    "collapsed": false
   },
   "outputs": [
    {
     "data": {
      "text/plain": [
       "<matplotlib.text.Text at 0x108d97e50>"
      ]
     },
     "execution_count": 42,
     "metadata": {},
     "output_type": "execute_result"
    },
    {
     "data": {
      "image/png": "[encoded data removed]",
      "text/plain": [
       "<matplotlib.figure.Figure at 0x109068390>"
      ]
     },
     "metadata": {},
     "output_type": "display_data"
    }
   ],
   "source": [
    "sectoma = (3600*24*365*1e6)\n",
    "\n",
    "#Underworld results\n",
    "kms = [j - 7e4 for j in case2[:, 1]]\n",
    "kyas = [i/sectoma for i in case2[:, 0]]\n",
    "\n",
    "#Analytic solution\n",
    "#timevals = np.linspace(0, case2[:, 0][-1], 100)\n",
    "#y = -0.2139e-11\n",
    "#def analytic_height(y,t):\n",
    "#    return 7e3*math.exp(y*t)\n",
    "#ah = [analytic_height(y,i)/1000. for i in timevals]\n",
    "\n",
    "#Underworld solution from Original paper \n",
    "#Accessed via the benchmark in the Aspect code\n",
    "uw_paper = np.loadtxt(\"./other_codes/CASE2_data/UNDERWORLD_fs.dat\")\n",
    "\n",
    "#plt.plot(kyas, kms)\n",
    "#plt.plot(timevals/sectoka, ah)\n",
    "plt.plot(uw_paper[:,0], uw_paper[:,1])\n",
    "plt.title(\"Case 2\")"
   ]
  },
  {
   "cell_type": "code",
   "execution_count": 39,
   "metadata": {
    "collapsed": false
   },
   "outputs": [
    {
     "data": {
      "text/plain": [
       "array([ 700000.      ,  700010.560638,  700020.117606,  700028.522553,\n",
       "        700034.77401 ,  700042.782193,  700050.496143,  700058.0558  ,\n",
       "        700064.200504,  700069.92263 ])"
      ]
     },
     "execution_count": 39,
     "metadata": {},
     "output_type": "execute_result"
    }
   ],
   "source": [
    "case2[:, 1]"
   ]
  },
  {
   "cell_type": "code",
   "execution_count": null,
   "metadata": {
    "collapsed": true
   },
   "outputs": [],
   "source": []
  }
 ],
 "metadata": {
  "kernelspec": {
   "display_name": "Python 2",
   "language": "python",
   "name": "python2"
  },
  "language_info": {
   "codemirror_mode": {
    "name": "ipython",
    "version": 2
   },
   "file_extension": ".py",
   "mimetype": "text/x-python",
   "name": "python",
   "nbconvert_exporter": "python",
   "pygments_lexer": "ipython2",
   "version": "2.7.10"
  }
 },
 "nbformat": 4,
 "nbformat_minor": 0
}
