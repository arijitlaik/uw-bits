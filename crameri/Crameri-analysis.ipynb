{
 "cells": [
  {
   "cell_type": "markdown",
   "metadata": {},
   "source": [
    "#Figures from Crameri benchmark"
   ]
  },
  {
   "cell_type": "markdown",
   "metadata": {},
   "source": [
    "##Sticky air"
   ]
  },
  {
   "cell_type": "code",
   "execution_count": 1,
   "metadata": {
    "collapsed": false
   },
   "outputs": [
    {
     "name": "stdout",
     "output_type": "stream",
     "text": [
      "Populating the interactive namespace from numpy and matplotlib\n"
     ]
    }
   ],
   "source": [
    "%pylab inline"
   ]
  },
  {
   "cell_type": "code",
   "execution_count": 3,
   "metadata": {
    "collapsed": false
   },
   "outputs": [],
   "source": [
    "#case1 = np.loadtxt('sticky_air/CrameriOutput/results_case1.0.dat')\n",
    "case2 = np.loadtxt('sticky_air/CrameriOutput/results_case2.dat')"
   ]
  },
  {
   "cell_type": "code",
   "execution_count": 4,
   "metadata": {
    "collapsed": false
   },
   "outputs": [
    {
     "data": {
      "text/plain": [
       "array([[  0.00000000e+00,   7.00000000e+05],\n",
       "       [  6.30720000e+10,   7.00010561e+05],\n",
       "       [  1.26144000e+11,   7.00020118e+05],\n",
       "       [  1.89216000e+11,   7.00028523e+05],\n",
       "       [  2.52288000e+11,   7.00034774e+05],\n",
       "       [  3.15360000e+11,   7.00042782e+05],\n",
       "       [  3.78432000e+11,   7.00050496e+05],\n",
       "       [  4.41504000e+11,   7.00058056e+05],\n",
       "       [  5.04576000e+11,   7.00064201e+05],\n",
       "       [  5.67648000e+11,   7.00069923e+05]])"
      ]
     },
     "execution_count": 4,
     "metadata": {},
     "output_type": "execute_result"
    }
   ],
   "source": [
    "case2"
   ]
  },
  {
   "cell_type": "code",
   "execution_count": null,
   "metadata": {
    "collapsed": true
   },
   "outputs": [],
   "source": [
    "\n",
    "kms = [j/1000. - 700 for j in maxheight]\n",
    "\n",
    "kyas = [i/sectoka for i in timevals]\n",
    "\n",
    "#Analytic solution\n",
    "y = -0.2139e-11\n",
    "def analytic_height(y,t):\n",
    "    return 7e3*math.exp(y*t)\n",
    "\n",
    "ah = [analytic_height(y,i)/1000. for i in timevals]\n",
    "\n",
    "uw_paper = np.loadtxt(\"./CASE1_data/UNDERWORLD_sa_100_18.dat\")\n",
    "\n",
    "\n",
    "pyplt.plot(kyas, kms)\n",
    "pyplt.plot(kyas, ah)\n",
    "pyplt.plot(uw_paper[:,0], uw_paper[:,1])"
   ]
  }
 ],
 "metadata": {
  "kernelspec": {
   "display_name": "Python 2",
   "language": "python",
   "name": "python2"
  },
  "language_info": {
   "codemirror_mode": {
    "name": "ipython",
    "version": 2
   },
   "file_extension": ".py",
   "mimetype": "text/x-python",
   "name": "python",
   "nbconvert_exporter": "python",
   "pygments_lexer": "ipython2",
   "version": "2.7.10"
  }
 },
 "nbformat": 4,
 "nbformat_minor": 0
}
