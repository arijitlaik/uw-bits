{
 "cells": [
  {
   "cell_type": "markdown",
   "metadata": {},
   "source": [
    "#Free surface\n",
    "\n",
    "\n",
    "* The naive strategy here is to grab the mesh nodes as a swarm, then advect that swarm, then remap the nodes of the mesh to the swarm. "
   ]
  },
  {
   "cell_type": "code",
   "execution_count": 1,
   "metadata": {
    "collapsed": true
   },
   "outputs": [],
   "source": [
    "# RT PIC - classic and nearest neighbour\n",
    "import underworld as uw\n",
    "import math\n",
    "from underworld import function as fn\n",
    "import glucifer.pylab as plt\n",
    "import numpy as np\n",
    "import os\n",
    "import time\n",
    "import h5py"
   ]
  },
  {
   "cell_type": "code",
   "execution_count": 2,
   "metadata": {
    "collapsed": true
   },
   "outputs": [],
   "source": [
    "CASE = 2\n",
    "\n",
    "outputPath = 'CrameriOutput/'\n",
    "tempPath = 'temp/'\n",
    "outputFile = 'results_case' + str(CASE) + '.dat'"
   ]
  },
  {
   "cell_type": "code",
   "execution_count": 3,
   "metadata": {
    "collapsed": true
   },
   "outputs": [],
   "source": [
    "# make directories if they don't exist\n",
    "if not os.path.isdir(outputPath):\n",
    "    os.makedirs(outputPath)\n",
    "if not os.path.isdir(tempPath):\n",
    "    os.makedirs(tempPath) "
   ]
  },
  {
   "cell_type": "code",
   "execution_count": 4,
   "metadata": {
    "collapsed": true
   },
   "outputs": [],
   "source": [
    "dim = 2"
   ]
  },
  {
   "cell_type": "code",
   "execution_count": 5,
   "metadata": {
    "collapsed": false
   },
   "outputs": [
    {
     "data": {
      "text/plain": [
       "384"
      ]
     },
     "execution_count": 5,
     "metadata": {},
     "output_type": "execute_result"
    }
   ],
   "source": [
    "192*2"
   ]
  },
  {
   "cell_type": "code",
   "execution_count": 6,
   "metadata": {
    "collapsed": true
   },
   "outputs": [],
   "source": [
    "elementMesh = uw.mesh.FeMesh_Cartesian( elementType=(\"Q1/dQ0\"),\n",
    "                                         elementRes=(192,96), \n",
    "                                           minCoord=(0.,0.), \n",
    "                                           maxCoord=(28e5,7e5)  )\n",
    "linearMesh   = elementMesh\n",
    "constantMesh = elementMesh.subMesh"
   ]
  },
  {
   "cell_type": "code",
   "execution_count": 7,
   "metadata": {
    "collapsed": false
   },
   "outputs": [],
   "source": [
    "# create fevariables\n",
    "velocityField    = uw.fevariable.FeVariable( feMesh=linearMesh,   nodeDofCount=dim )\n",
    "pressureField    = uw.fevariable.FeVariable( feMesh=constantMesh, nodeDofCount=1 )\n",
    "\n",
    "velocityField.data[:] = [0.,0.]\n",
    "pressureField.data[:] = 0."
   ]
  },
  {
   "cell_type": "code",
   "execution_count": 8,
   "metadata": {
    "collapsed": true
   },
   "outputs": [],
   "source": [
    "#Boundary conditions\n",
    "\n",
    "# Note that we use operator overloading to combine sets\n",
    "IWalls = linearMesh.specialSets[\"MinI_VertexSet\"] + linearMesh.specialSets[\"MaxI_VertexSet\"]\n",
    "JWalls = linearMesh.specialSets[\"MinJ_VertexSet\"] + linearMesh.specialSets[\"MaxJ_VertexSet\"]\n",
    "BWalls = linearMesh.specialSets[\"MinJ_VertexSet\"]\n",
    "\n",
    "\n",
    "\n",
    "#free sides, no slip top\n",
    "mixedslipBC = uw.conditions.DirichletCondition(     variable=velocityField, \n",
    "                                                                  nodeIndexSets=(IWalls+BWalls, BWalls)  )"
   ]
  },
  {
   "cell_type": "code",
   "execution_count": 9,
   "metadata": {
    "collapsed": false
   },
   "outputs": [
    {
     "data": {
      "text/plain": [
       "array([    0,     1,     2, ..., 18429, 18430, 18431], dtype=int32)"
      ]
     },
     "execution_count": 9,
     "metadata": {},
     "output_type": "execute_result"
    }
   ],
   "source": [
    "# setup a new swarm. At this point there is no data in the swarm\n",
    "SwarmForElementMesh = uw.swarm.Swarm( feMesh=elementMesh )\n",
    "# setup an array containing the position data from the elementMesh data\n",
    "SwarmCoords = elementMesh.data\n",
    "# use this array to add particles to the newly created swarm\n",
    "SwarmForElementMesh.add_particles_with_coordinates(SwarmCoords)\n",
    "\n",
    "# setup a new swarm\n",
    "SwarmForConstantMesh = uw.swarm.Swarm( feMesh=elementMesh ) # note this must be the whole mesh; elementMesh\n",
    "# setup an array containing the position data from the constantMesh data\n",
    "SwarmCoords = constantMesh.data\n",
    "# use this array to add particles to the newly created swarm\n",
    "SwarmForConstantMesh.add_particles_with_coordinates(SwarmCoords)"
   ]
  },
  {
   "cell_type": "code",
   "execution_count": null,
   "metadata": {
    "collapsed": true
   },
   "outputs": [],
   "source": []
  },
  {
   "cell_type": "markdown",
   "metadata": {},
   "source": [
    "##Geometry"
   ]
  },
  {
   "cell_type": "code",
   "execution_count": 10,
   "metadata": {
    "collapsed": false
   },
   "outputs": [],
   "source": [
    "#sphereShape = uw.shapes.Sphere(0.5e5, 2, centre=(14e5,3e5))\n",
    "\n",
    "from shapely.geometry import Point\n",
    "\n",
    "#Shapely stuff\n",
    "\n",
    "sphereshape = Point((14e5,3e5)).buffer(5e4)"
   ]
  },
  {
   "cell_type": "markdown",
   "metadata": {},
   "source": [
    "##Particles"
   ]
  },
  {
   "cell_type": "code",
   "execution_count": 11,
   "metadata": {
    "collapsed": false
   },
   "outputs": [],
   "source": [
    "# We create swarms of particles which can advect, and which may determine 'materials'\n",
    "gSwarm = uw.swarm.Swarm( feMesh=elementMesh )\n",
    "\n",
    "# Now we add a data variable which will store an index to determine material\n",
    "materialVariable = gSwarm.add_variable( dataType=\"char\", count=1 )\n",
    "\n",
    "# Layouts are used to populate the swarm across the whole domain\n",
    "# Create the layout object\n",
    "layout = uw.swarm.layouts.GlobalSpaceFillerLayout( swarm=gSwarm, particlesPerCell=36 )\n",
    "# Now use it to populate.\n",
    "gSwarm.populate_using_layout(layout=layout )\n",
    "\n",
    "# Lets initialise the 'materialVariable' data to represent two different materials. \n",
    "\n",
    "mantleIndex = 1\n",
    "lithosphereIndex = 2\n",
    "airIndex = 3\n",
    "sphereIndex = 4\n",
    "\n",
    "\n",
    "# Set the material to heavy everywhere via the numpy array\n",
    "materialVariable.data[:] = mantleIndex"
   ]
  },
  {
   "cell_type": "code",
   "execution_count": 12,
   "metadata": {
    "collapsed": false
   },
   "outputs": [],
   "source": [
    "for particleID in range(gSwarm.particleCoordinates.data.shape[0]):\n",
    "    x = gSwarm.particleCoordinates.data[particleID][0]\n",
    "    y = gSwarm.particleCoordinates.data[particleID][1]  \n",
    "    if gSwarm.particleCoordinates.data[particleID][1] > 6e5 and gSwarm.particleCoordinates.data[particleID][1] < 7e5:\n",
    "        materialVariable.data[particleID] =  lithosphereIndex\n",
    "    elif gSwarm.particleCoordinates.data[particleID][1] > 7e5:\n",
    "        materialVariable.data[particleID] =  airIndex\n",
    "    elif Point(x,y).within(sphereshape):\n",
    "        materialVariable.data[particleID] =  sphereIndex\n",
    "    else:\n",
    "        materialVariable.data[particleID] =  mantleIndex\n",
    "\n"
   ]
  },
  {
   "cell_type": "code",
   "execution_count": 13,
   "metadata": {
    "collapsed": false,
    "scrolled": true
   },
   "outputs": [],
   "source": [
    "#fig1 = plt.Figure()\n",
    "#fig1.Points( swarm=gSwarm, colourVariable=materialVariable )\n",
    "#fig1.save_database('test_pol.gldb')\n",
    "#fig1.show()"
   ]
  },
  {
   "cell_type": "code",
   "execution_count": 14,
   "metadata": {
    "collapsed": false
   },
   "outputs": [
    {
     "data": {
      "text/plain": [
       "array([   0,    1,    2, ..., 9997, 9998, 9999], dtype=int32)"
      ]
     },
     "execution_count": 14,
     "metadata": {},
     "output_type": "execute_result"
    }
   ],
   "source": [
    "incr = 5000.\n",
    "xps = np.linspace(0 + 1000.,28e5 - 1000., 10000)\n",
    "#yps = [7e5 + 7e3*np.cos(2*np.pi*(i/28e5)) for i in xps]\n",
    "yps = [7e5 for i in xps]\n",
    "\n",
    "surfswarm = uw.swarm.Swarm( feMesh=elementMesh )\n",
    "surfswarm.add_particles_with_coordinates(np.array((xps,yps)).T)"
   ]
  },
  {
   "cell_type": "code",
   "execution_count": 15,
   "metadata": {
    "collapsed": false
   },
   "outputs": [],
   "source": [
    "#fig2 = plt.Figure()\n",
    "#fig2.Points( swarm=surfswarm, pointSize=1.0)\n",
    "#fig2.Points( swarm=gSwarm, colourVariable=materialVariable )\n",
    "#fig2.save_database('test_pol.gldb')\n",
    "#fig2.show()"
   ]
  },
  {
   "cell_type": "markdown",
   "metadata": {},
   "source": [
    "##Material properties"
   ]
  },
  {
   "cell_type": "code",
   "execution_count": 16,
   "metadata": {
    "collapsed": false
   },
   "outputs": [
    {
     "name": "stdout",
     "output_type": "stream",
     "text": [
      "(1e+23, 1e+23)\n"
     ]
    }
   ],
   "source": [
    "print(1e23, 10.**23)"
   ]
  },
  {
   "cell_type": "code",
   "execution_count": 17,
   "metadata": {
    "collapsed": true
   },
   "outputs": [],
   "source": [
    "#\n",
    "viscosityMapFn  = fn.branching.map( keyFunc = materialVariable, \n",
    "                         mappingDict = {mantleIndex:1e21,airIndex:1e18,lithosphereIndex:1e23, sphereIndex:1e20} )\n",
    "\n",
    "\n",
    "densityMapFn = fn.branching.map( keyFunc = materialVariable,\n",
    "                         mappingDict = {mantleIndex:3300.,airIndex:0., lithosphereIndex:3300., sphereIndex:3200.} )\n",
    "\n",
    "# Define our gravity using a python tuple (this will be automatically converted to a function)\n",
    "if dim ==2:\n",
    "    gravity = ( 0.0, -10.0 )\n",
    "else:\n",
    "    gravity = ( 0.0, -10.0, 0.0)\n",
    "    \n",
    "\n",
    "# now create a buoyancy force vector.. the gravity tuple is converted to a function \n",
    "# here via operator overloading\n",
    "\n",
    "buoyancyFn = gravity*densityMapFn"
   ]
  },
  {
   "cell_type": "code",
   "execution_count": 18,
   "metadata": {
    "collapsed": false
   },
   "outputs": [],
   "source": [
    "# Setup the Stokes system again, now with full viscosity\n",
    "# For PIC style integration, we include a swarm for the a PIC integration swarm is generated within.\n",
    "# For gauss integration, simple do not include the swarm. Nearest neighbour is used where required.\n",
    "stokesPIC = uw.systems.Stokes(velocityField=velocityField, \n",
    "                              pressureField=pressureField,\n",
    "                              conditions=[mixedslipBC,],\n",
    "                              viscosityFn=fn.exception.SafeMaths(viscosityMapFn), \n",
    "                              bodyForceFn=buoyancyFn)"
   ]
  },
  {
   "cell_type": "code",
   "execution_count": 19,
   "metadata": {
    "collapsed": true
   },
   "outputs": [],
   "source": [
    "solver = uw.systems.Solver(stokesPIC)"
   ]
  },
  {
   "cell_type": "code",
   "execution_count": 20,
   "metadata": {
    "collapsed": true
   },
   "outputs": [],
   "source": [
    "solver.solve()"
   ]
  },
  {
   "cell_type": "code",
   "execution_count": 21,
   "metadata": {
    "collapsed": true
   },
   "outputs": [],
   "source": [
    "# Create advector objects to advect the swarms. We specify second order integration.\n",
    "advector1 = uw.systems.SwarmAdvector( swarm=gSwarm, velocityField=velocityField, order=1)\n",
    "advector2 = uw.systems.SwarmAdvector( swarm=surfswarm, velocityField=velocityField, order=1)\n",
    "advector3 = uw.systems.SwarmAdvector( swarm=SwarmForElementMesh, velocityField=velocityField, order=1)\n"
   ]
  },
  {
   "cell_type": "code",
   "execution_count": 22,
   "metadata": {
    "collapsed": true
   },
   "outputs": [],
   "source": [
    "# Stepping. Initialise time and timestep.\n",
    "realtime = 0.\n",
    "step = 0\n",
    "\n",
    "timevals = []\n",
    "vrmsvals = []"
   ]
  },
  {
   "cell_type": "code",
   "execution_count": null,
   "metadata": {
    "collapsed": false
   },
   "outputs": [],
   "source": []
  },
  {
   "cell_type": "code",
   "execution_count": 23,
   "metadata": {
    "collapsed": false
   },
   "outputs": [
    {
     "data": {
      "text/plain": [
       "31536000000.0"
      ]
     },
     "execution_count": 23,
     "metadata": {},
     "output_type": "execute_result"
    }
   ],
   "source": [
    "sectoka = (3600*24*365*1000.)\n",
    "sectoka"
   ]
  },
  {
   "cell_type": "code",
   "execution_count": 24,
   "metadata": {
    "collapsed": false
   },
   "outputs": [
    {
     "name": "stdout",
     "output_type": "stream",
     "text": [
      "[u'OwningElement', u'Position']\n",
      "step = 1 time 0.0\n"
     ]
    },
    {
     "ename": "RuntimeError",
     "evalue": "Error encountered. Full restart recommended as exception safety not guaranteed. Error message:\nError - in TimeIntegrand_FirstOrder(), for TimeIntegrand \"X6SNQ7H7__integrand\" of type SwarmAdvector: When trying to find time deriv for item 195841 in step 1, *failed*.\n",
     "output_type": "error",
     "traceback": [
      "\u001b[0;31m---------------------------------------------------------------------------\u001b[0m",
      "\u001b[0;31mRuntimeError\u001b[0m                              Traceback (most recent call last)",
      "\u001b[0;32m<ipython-input-24-4efe579ab0df>\u001b[0m in \u001b[0;36m<module>\u001b[0;34m()\u001b[0m\n\u001b[1;32m     16\u001b[0m         \u001b[0melementMesh\u001b[0m\u001b[0;34m.\u001b[0m\u001b[0mdata\u001b[0m\u001b[0;34m[\u001b[0m\u001b[0;34m:\u001b[0m\u001b[0;34m]\u001b[0m \u001b[0;34m=\u001b[0m \u001b[0mSwarmForElementMesh\u001b[0m\u001b[0;34m.\u001b[0m\u001b[0mparticleCoordinates\u001b[0m\u001b[0;34m.\u001b[0m\u001b[0mdata\u001b[0m\u001b[0;34m[\u001b[0m\u001b[0;34m:\u001b[0m\u001b[0;34m]\u001b[0m\u001b[0;34m\u001b[0m\u001b[0m\n\u001b[1;32m     17\u001b[0m     \u001b[0;31m# Advect swarm using this timestep size\u001b[0m\u001b[0;34m\u001b[0m\u001b[0;34m\u001b[0m\u001b[0m\n\u001b[0;32m---> 18\u001b[0;31m     \u001b[0madvector1\u001b[0m\u001b[0;34m.\u001b[0m\u001b[0mintegrate\u001b[0m\u001b[0;34m(\u001b[0m\u001b[0mdt\u001b[0m\u001b[0;34m)\u001b[0m\u001b[0;34m\u001b[0m\u001b[0m\n\u001b[0m\u001b[1;32m     19\u001b[0m     \u001b[0madvector2\u001b[0m\u001b[0;34m.\u001b[0m\u001b[0mintegrate\u001b[0m\u001b[0;34m(\u001b[0m\u001b[0mdt\u001b[0m\u001b[0;34m)\u001b[0m\u001b[0;34m\u001b[0m\u001b[0m\n\u001b[1;32m     20\u001b[0m \u001b[0;34m\u001b[0m\u001b[0m\n",
      "\u001b[0;32m/Users/dansandiford/Documents/programming/newinterface/underworld2/underworld/systems/_timeintegration.pyc\u001b[0m in \u001b[0;36mintegrate\u001b[0;34m(self, dt)\u001b[0m\n\u001b[1;32m    158\u001b[0m         \"\"\"\n\u001b[1;32m    159\u001b[0m         \u001b[0mlibUnderworld\u001b[0m\u001b[0;34m.\u001b[0m\u001b[0mStgFEM\u001b[0m\u001b[0;34m.\u001b[0m\u001b[0m_FeVariable_SyncShadowValues\u001b[0m\u001b[0;34m(\u001b[0m \u001b[0mself\u001b[0m\u001b[0;34m.\u001b[0m\u001b[0m_integrand\u001b[0m\u001b[0;34m.\u001b[0m\u001b[0mvelocityField\u001b[0m \u001b[0;34m)\u001b[0m\u001b[0;34m\u001b[0m\u001b[0m\n\u001b[0;32m--> 160\u001b[0;31m         \u001b[0msuper\u001b[0m\u001b[0;34m(\u001b[0m\u001b[0mSwarmAdvector\u001b[0m\u001b[0;34m,\u001b[0m\u001b[0mself\u001b[0m\u001b[0;34m)\u001b[0m\u001b[0;34m.\u001b[0m\u001b[0mintegrate\u001b[0m\u001b[0;34m(\u001b[0m\u001b[0mdt\u001b[0m\u001b[0;34m)\u001b[0m\u001b[0;34m\u001b[0m\u001b[0m\n\u001b[0m\u001b[1;32m    161\u001b[0m         \u001b[0;31m# this check isn't necessary, but good. possibly get rid.\u001b[0m\u001b[0;34m\u001b[0m\u001b[0;34m\u001b[0m\u001b[0m\n\u001b[1;32m    162\u001b[0m         \u001b[0mlibUnderworld\u001b[0m\u001b[0;34m.\u001b[0m\u001b[0mStgDomain\u001b[0m\u001b[0;34m.\u001b[0m\u001b[0mSwarm_CheckCoordsAreFinite\u001b[0m\u001b[0;34m(\u001b[0m \u001b[0mself\u001b[0m\u001b[0;34m.\u001b[0m\u001b[0m_integrand\u001b[0m\u001b[0;34m.\u001b[0m\u001b[0mswarm\u001b[0m \u001b[0;34m)\u001b[0m\u001b[0;34m;\u001b[0m\u001b[0;34m\u001b[0m\u001b[0m\n",
      "\u001b[0;32m/Users/dansandiford/Documents/programming/newinterface/underworld2/underworld/systems/_timeintegration.pyc\u001b[0m in \u001b[0;36mintegrate\u001b[0;34m(self, dt)\u001b[0m\n\u001b[1;32m     55\u001b[0m     \u001b[0;32mdef\u001b[0m \u001b[0mintegrate\u001b[0m\u001b[0;34m(\u001b[0m\u001b[0mself\u001b[0m\u001b[0;34m,\u001b[0m\u001b[0mdt\u001b[0m\u001b[0;34m)\u001b[0m\u001b[0;34m:\u001b[0m\u001b[0;34m\u001b[0m\u001b[0m\n\u001b[1;32m     56\u001b[0m         \u001b[0mself\u001b[0m\u001b[0;34m.\u001b[0m\u001b[0mdt\u001b[0m \u001b[0;34m=\u001b[0m \u001b[0mdt\u001b[0m\u001b[0;34m\u001b[0m\u001b[0m\n\u001b[0;32m---> 57\u001b[0;31m         \u001b[0mlibUnderworld\u001b[0m\u001b[0;34m.\u001b[0m\u001b[0mStgDomain\u001b[0m\u001b[0;34m.\u001b[0m\u001b[0m_TimeIntegrator_Execute\u001b[0m\u001b[0;34m(\u001b[0m\u001b[0mself\u001b[0m\u001b[0;34m.\u001b[0m\u001b[0m_cself\u001b[0m\u001b[0;34m,\u001b[0m \u001b[0mNone\u001b[0m\u001b[0;34m)\u001b[0m\u001b[0;34m\u001b[0m\u001b[0m\n\u001b[0m\u001b[1;32m     58\u001b[0m \u001b[0;34m\u001b[0m\u001b[0m\n\u001b[1;32m     59\u001b[0m     \u001b[0;32mdef\u001b[0m \u001b[0mget_max_dt\u001b[0m\u001b[0;34m(\u001b[0m\u001b[0mself\u001b[0m\u001b[0;34m)\u001b[0m\u001b[0;34m:\u001b[0m\u001b[0;34m\u001b[0m\u001b[0m\n",
      "\u001b[0;31mRuntimeError\u001b[0m: Error encountered. Full restart recommended as exception safety not guaranteed. Error message:\nError - in TimeIntegrand_FirstOrder(), for TimeIntegrand \"X6SNQ7H7__integrand\" of type SwarmAdvector: When trying to find time deriv for item 195841 in step 1, *failed*.\n"
     ]
    }
   ],
   "source": [
    "# create integral to get diff \n",
    "f_o = open(outputPath+outputFile, 'w')\n",
    "fname = \"topo.hdf5\"\n",
    "fullpath = os.path.join( tempPath+ fname)\n",
    "start = time.clock()\n",
    "while step<4:\n",
    "    #stokesPIC2.solve(nonLinearIterate=True)\n",
    "    solver.solve()\n",
    "    dt1 = advector1.get_max_dt()\n",
    "    dt = min((2.*sectoka),dt1)\n",
    "    if step == 0:\n",
    "        dt = 0.\n",
    "    #Advect mesh\n",
    "    advector3.integrate(dt)\n",
    "    with elementMesh.deform_mesh():\n",
    "        elementMesh.data[:] = SwarmForElementMesh.particleCoordinates.data[:]     \n",
    "    # Advect swarm using this timestep size\n",
    "    advector1.integrate(dt)\n",
    "    advector2.integrate(dt)\n",
    "\n",
    "    # Increment\n",
    "    realtime += dt\n",
    "    step += 1\n",
    "    timevals.append(realtime)\n",
    "    #Save the suface swarm temporarily\n",
    "    if uw.rank() == 0:\n",
    "        surfswarm.save(fullpath)\n",
    "        tempfile = h5py.File(fullpath, libver='latest')\n",
    "        print tempfile.keys()\n",
    "        maxt = tempfile[\"Position\"][:][:,1].max()\n",
    "        f_o.write((2*'%-15s ' + '\\n') % (realtime,maxt))\n",
    "        tempfile.close()\n",
    "        os.remove(fullpath)\n",
    "    print 'step =',step, 'time', realtime/sectoka"
   ]
  },
  {
   "cell_type": "code",
   "execution_count": null,
   "metadata": {
    "collapsed": false
   },
   "outputs": [],
   "source": []
  },
  {
   "cell_type": "code",
   "execution_count": null,
   "metadata": {
    "collapsed": true
   },
   "outputs": [],
   "source": []
  }
 ],
 "metadata": {
  "kernelspec": {
   "display_name": "Python 2",
   "language": "python",
   "name": "python2"
  },
  "language_info": {
   "codemirror_mode": {
    "name": "ipython",
    "version": 2
   },
   "file_extension": ".py",
   "mimetype": "text/x-python",
   "name": "python",
   "nbconvert_exporter": "python",
   "pygments_lexer": "ipython2",
   "version": "2.7.10"
  }
 },
 "nbformat": 4,
 "nbformat_minor": 0
}
