{
 "cells": [
  {
   "cell_type": "code",
   "execution_count": 1,
   "metadata": {
    "collapsed": true
   },
   "outputs": [],
   "source": [
    "# RT PIC - classic and nearest neighbour\n",
    "import underworld as uw\n",
    "import math\n",
    "from underworld import function as fn\n",
    "import glucifer.pylab as plt\n",
    "import numpy as np\n",
    "import os\n",
    "import time\n",
    "import h5py"
   ]
  },
  {
   "cell_type": "code",
   "execution_count": 2,
   "metadata": {
    "collapsed": true
   },
   "outputs": [],
   "source": [
    "CASE = 1\n",
    "\n",
    "outputPath = 'CrameriOutput/'\n",
    "tempPath = 'temp/'\n",
    "outputFile = 'results_case' + str(CASE) + '.dat'"
   ]
  },
  {
   "cell_type": "code",
   "execution_count": 3,
   "metadata": {
    "collapsed": true
   },
   "outputs": [],
   "source": [
    "# make directories if they don't exist\n",
    "if not os.path.isdir(outputPath):\n",
    "    os.makedirs(outputPath)\n",
    "if not os.path.isdir(tempPath):\n",
    "    os.makedirs(tempPath)    "
   ]
  },
  {
   "cell_type": "code",
   "execution_count": 4,
   "metadata": {
    "collapsed": true
   },
   "outputs": [],
   "source": [
    "dim = 2"
   ]
  },
  {
   "cell_type": "code",
   "execution_count": 5,
   "metadata": {
    "collapsed": false
   },
   "outputs": [],
   "source": [
    "elementMesh = uw.mesh.FeMesh_Cartesian( elementType=(\"Q1/dQ0\"),  \n",
    "                                         elementRes=(384,192), \n",
    "                                           minCoord=(0.,0.), \n",
    "                                           maxCoord=(28e5,7e5)  )\n",
    "linearMesh   = elementMesh\n",
    "constantMesh = elementMesh.subMesh"
   ]
  },
  {
   "cell_type": "code",
   "execution_count": 13,
   "metadata": {
    "collapsed": false
   },
   "outputs": [
    {
     "data": {
      "text/plain": [
       "array([    0,     1,     2, ..., 74302, 74303, 74304], dtype=int32)"
      ]
     },
     "execution_count": 13,
     "metadata": {},
     "output_type": "execute_result"
    }
   ],
   "source": [
    "\n",
    "# setup a new swarm. At this point there is no data in the swarm\n",
    "SwarmForElementMesh = uw.swarm.Swarm( feMesh=elementMesh )\n",
    "# setup an array containing the position data from the elementMesh data\n",
    "SwarmCoords = elementMesh.data\n",
    "# use this array to add particles to the newly created swarm\n",
    "SwarmForElementMesh.add_particles_with_coordinates(SwarmCoords)"
   ]
  },
  {
   "cell_type": "code",
   "execution_count": 16,
   "metadata": {
    "collapsed": false
   },
   "outputs": [
    {
     "data": {
      "image/png": "[encoded data removed]",
      "text/plain": [
       "<IPython.core.display.Image object>"
      ]
     },
     "execution_count": 16,
     "metadata": {},
     "output_type": "execute_result"
    }
   ],
   "source": [
    "fig1 = plt.Figure()\n",
    "fig1.Points( swarm=SwarmForElementMesh, pointSize=2, colour='blue', colourBar = False)\n",
    "#fig1.Points( swarm=SwarmForConstantMesh, pointSize=10, colour='red', colourBar = False)\n",
    "fig1.show()\n",
    " "
   ]
  },
  {
   "cell_type": "code",
   "execution_count": 6,
   "metadata": {
    "collapsed": false
   },
   "outputs": [],
   "source": [
    "# create fevariables\n",
    "velocityField    = uw.fevariable.FeVariable( feMesh=linearMesh,   nodeDofCount=dim )\n",
    "pressureField    = uw.fevariable.FeVariable( feMesh=constantMesh, nodeDofCount=1 )\n",
    "\n",
    "velocityField.data[:] = [0.,0.]\n",
    "pressureField.data[:] = 0."
   ]
  },
  {
   "cell_type": "code",
   "execution_count": 7,
   "metadata": {
    "collapsed": false
   },
   "outputs": [],
   "source": [
    "#Boundary conditions\n",
    "\n",
    "# Note that we use operator overloading to combine sets\n",
    "IWalls = linearMesh.specialSets[\"MinI_VertexSet\"] + linearMesh.specialSets[\"MaxI_VertexSet\"]\n",
    "JWalls = linearMesh.specialSets[\"MinJ_VertexSet\"] + linearMesh.specialSets[\"MaxJ_VertexSet\"]\n",
    "BWalls = linearMesh.specialSets[\"MinJ_VertexSet\"]\n",
    "\n",
    "\n",
    "\n",
    "#free sides, no slip top\n",
    "mixedslipBC = uw.conditions.DirichletCondition(     variable=velocityField, \n",
    "                                                                  nodeIndexSets=(IWalls+BWalls, JWalls)  )"
   ]
  },
  {
   "cell_type": "code",
   "execution_count": 8,
   "metadata": {
    "collapsed": true
   },
   "outputs": [],
   "source": [
    "#uw.conditions.DirichletCondition?"
   ]
  },
  {
   "cell_type": "code",
   "execution_count": 9,
   "metadata": {
    "collapsed": true
   },
   "outputs": [],
   "source": [
    "#uw.shapes.BelowCosinePlane?"
   ]
  },
  {
   "cell_type": "markdown",
   "metadata": {},
   "source": [
    "##Geometry"
   ]
  },
  {
   "cell_type": "code",
   "execution_count": 10,
   "metadata": {
    "collapsed": false
   },
   "outputs": [],
   "source": [
    "def below_cosine_func(x,y):\n",
    "    if y < 7e3*math.cos(2*math.pi*(x/28e5)) + 7e5:\n",
    "        return True\n",
    "    else:\n",
    "        return False"
   ]
  },
  {
   "cell_type": "code",
   "execution_count": 12,
   "metadata": {
    "collapsed": false
   },
   "outputs": [
    {
     "data": {
      "text/plain": [
       "True"
      ]
     },
     "execution_count": 12,
     "metadata": {},
     "output_type": "execute_result"
    }
   ],
   "source": [
    "#cosineShape = uw.shapes.BelowCosinePlane(dim, amplitude=7e3, wavelength=28e5, offset=7e5)\n",
    "maxCoord=(28e5,9e5)\n",
    "below_cosine_func(maxCoord[0]/2., maxCoord[1]/2.)"
   ]
  },
  {
   "cell_type": "markdown",
   "metadata": {},
   "source": [
    "##Particles"
   ]
  },
  {
   "cell_type": "code",
   "execution_count": 14,
   "metadata": {
    "collapsed": false
   },
   "outputs": [],
   "source": [
    "# We create swarms of particles which can advect, and which may determine 'materials'\n",
    "gSwarm = uw.swarm.Swarm( feMesh=elementMesh )\n",
    "\n",
    "# Now we add a data variable which will store an index to determine material\n",
    "materialVariable = gSwarm.add_variable( dataType=\"char\", count=1 )\n",
    "\n",
    "# Layouts are used to populate the swarm across the whole domain\n",
    "# Create the layout object\n",
    "layout = uw.swarm.layouts.GlobalSpaceFillerLayout( swarm=gSwarm, particlesPerCell=36 )\n",
    "# Now use it to populate.\n",
    "gSwarm.populate_using_layout(layout=layout )\n",
    "\n",
    "# initialise the 'materialVariable' data to represent two different materials. \n",
    "\n",
    "mantleIndex = 1\n",
    "lithosphereIndex = 2\n",
    "airIndex = 3\n",
    "\n",
    "\n",
    "# Set the material to air everywhere via the numpy array\n",
    "materialVariable.data[:] = airIndex"
   ]
  },
  {
   "cell_type": "code",
   "execution_count": 15,
   "metadata": {
    "collapsed": false
   },
   "outputs": [],
   "source": [
    "for particleID in range(gSwarm.particleCoordinates.data.shape[0]):\n",
    "    x = gSwarm.particleCoordinates.data[particleID][0]\n",
    "    y = gSwarm.particleCoordinates.data[particleID][1]\n",
    "    if below_cosine_func(x,y):\n",
    "        if gSwarm.particleCoordinates.data[particleID][1] > 6e5:\n",
    "            materialVariable.data[particleID] =  lithosphereIndex\n",
    "        else:\n",
    "            materialVariable.data[particleID] =  mantleIndex"
   ]
  },
  {
   "cell_type": "markdown",
   "metadata": {
    "collapsed": true
   },
   "source": [
    "for particleID in range(gSwarm.particleCoordinates.data.shape[0]):\n",
    "    if cosineShape.pointInShape(tuple(gSwarm.particleCoordinates.data[particleID])):\n",
    "        if gSwarm.particleCoordinates.data[particleID][1] > 6e5:\n",
    "            materialVariable.data[particleID] =  lithosphereIndex\n",
    "        else:\n",
    "            materialVariable.data[particleID] =  mantleIndex"
   ]
  },
  {
   "cell_type": "code",
   "execution_count": 16,
   "metadata": {
    "collapsed": false,
    "scrolled": true
   },
   "outputs": [],
   "source": [
    "#fig1 = plt.Figure()\n",
    "#fig1.Points( swarm=gSwarm, colourVariable=materialVariable )\n",
    "#fig1.save_database('test_pol.gldb')\n",
    "#fig1.show()"
   ]
  },
  {
   "cell_type": "code",
   "execution_count": 17,
   "metadata": {
    "collapsed": false
   },
   "outputs": [
    {
     "data": {
      "text/plain": [
       "array([   0,    1,    2, ..., 9997, 9998, 9999], dtype=int32)"
      ]
     },
     "execution_count": 17,
     "metadata": {},
     "output_type": "execute_result"
    }
   ],
   "source": [
    "incr = 5000.\n",
    "xps = np.linspace(0 + 1000.,28e5 - 1000., 10000)\n",
    "yps = [7e5 + 7e3*np.cos(2*np.pi*(i/28e5)) for i in xps]\n",
    "\n",
    "surfswarm = uw.swarm.Swarm( feMesh=elementMesh )\n",
    "surfswarm.add_particles_with_coordinates(np.array((xps,yps)).T)"
   ]
  },
  {
   "cell_type": "code",
   "execution_count": 18,
   "metadata": {
    "collapsed": false
   },
   "outputs": [],
   "source": [
    "#fig2 = plt.Figure()\n",
    "#fig2.Points( swarm=surfswarm, pointSize=2.0)\n",
    "#fig2.Points( swarm=gSwarm, colourVariable=materialVariable )\n",
    "#fig2.save_database('test_pol.gldb')\n",
    "#fig1.save_database('test_pol.gldb')\n",
    "#fig2.show()"
   ]
  },
  {
   "cell_type": "markdown",
   "metadata": {},
   "source": [
    "##Material properties"
   ]
  },
  {
   "cell_type": "code",
   "execution_count": 19,
   "metadata": {
    "collapsed": false
   },
   "outputs": [
    {
     "name": "stdout",
     "output_type": "stream",
     "text": [
      "(1e+23, 1e+23)\n"
     ]
    }
   ],
   "source": [
    "print(1e23, 10.**23)"
   ]
  },
  {
   "cell_type": "code",
   "execution_count": 20,
   "metadata": {
    "collapsed": true
   },
   "outputs": [],
   "source": [
    "#\n",
    "viscosityMapFn  = fn.branching.map( keyFunc = materialVariable, \n",
    "                         mappingDict = {mantleIndex:1e21,airIndex:1e18,lithosphereIndex:1e23} )\n",
    "\n",
    "\n",
    "densityMapFn = fn.branching.map( keyFunc = materialVariable,\n",
    "                         mappingDict = {mantleIndex:3300.,airIndex:0., lithosphereIndex:3300.} )\n",
    "\n",
    "# Define our gravity using a python tuple (this will be automatically converted to a function)\n",
    "if dim ==2:\n",
    "    gravity = ( 0.0, -10.0 )\n",
    "else:\n",
    "    gravity = ( 0.0, -10.0, 0.0)\n",
    "    \n",
    "\n",
    "# now create a buoyancy force vector.. the gravity tuple is converted to a function \n",
    "# here via operator overloading\n",
    "\n",
    "buoyancyFn = gravity*densityMapFn"
   ]
  },
  {
   "cell_type": "code",
   "execution_count": 21,
   "metadata": {
    "collapsed": false
   },
   "outputs": [],
   "source": [
    "# Setup the Stokes system again, now with full viscosity\n",
    "# For PIC style integration, we include a swarm for the a PIC integration swarm is generated within.\n",
    "# For gauss integration, simple do not include the swarm. Nearest neighbour is used where required.\n",
    "stokesPIC = uw.systems.Stokes(velocityField=velocityField, \n",
    "                              pressureField=pressureField,\n",
    "                              conditions=[mixedslipBC,],\n",
    "                              viscosityFn=fn.exception.SafeMaths(viscosityMapFn), \n",
    "                              bodyForceFn=buoyancyFn)"
   ]
  },
  {
   "cell_type": "code",
   "execution_count": 22,
   "metadata": {
    "collapsed": true
   },
   "outputs": [],
   "source": [
    "solver = uw.systems.Solver(stokesPIC)"
   ]
  },
  {
   "cell_type": "code",
   "execution_count": 23,
   "metadata": {
    "collapsed": true
   },
   "outputs": [],
   "source": [
    "solver.solve()"
   ]
  },
  {
   "cell_type": "code",
   "execution_count": 24,
   "metadata": {
    "collapsed": false
   },
   "outputs": [],
   "source": [
    "#fig3 = plt.Figure()\n",
    "#fig3.Surface(pressureField, linearMesh)\n",
    "#fig3.show()"
   ]
  },
  {
   "cell_type": "code",
   "execution_count": 25,
   "metadata": {
    "collapsed": true
   },
   "outputs": [],
   "source": [
    "# Create advector objects to advect the swarms. We specify second order integration.\n",
    "advector1 = uw.systems.SwarmAdvector( swarm=gSwarm, velocityField=velocityField, order=2)\n",
    "advector2 = uw.systems.SwarmAdvector( swarm=surfswarm, velocityField=velocityField, order=2)"
   ]
  },
  {
   "cell_type": "code",
   "execution_count": 26,
   "metadata": {
    "collapsed": true
   },
   "outputs": [],
   "source": [
    "def rms():\n",
    "    squared = uw.utils.Integral(fn.math.dot(velocityField,velocityField), linearMesh)\n",
    "    area = uw.utils.Integral(1.,linearMesh)\n",
    "    return math.sqrt(squared.integrate()[0]/area.integrate()[0])\n",
    "\n",
    "def avg_temp():\n",
    "    temp = uw.utils.Integral(temperatureField, linearMesh)\n",
    "    return temp.integrate()[0]\n",
    "\n",
    "def maxtop():\n",
    "    test = surfswarm.particleCoordinates.data\n",
    "    return np.flipud(test[test[:,1].argsort()])[0:100,1].mean()\n",
    "    "
   ]
  },
  {
   "cell_type": "code",
   "execution_count": 27,
   "metadata": {
    "collapsed": true
   },
   "outputs": [],
   "source": [
    "# Stepping. Initialise time and timestep.\n",
    "realtime = 0.\n",
    "step = 0\n",
    "\n",
    "timevals = []\n",
    "vrmsvals = []"
   ]
  },
  {
   "cell_type": "code",
   "execution_count": null,
   "metadata": {
    "collapsed": true
   },
   "outputs": [],
   "source": [
    "sectoka = (3600*24*365*1000)"
   ]
  },
  {
   "cell_type": "code",
   "execution_count": null,
   "metadata": {
    "collapsed": false
   },
   "outputs": [
    {
     "name": "stdout",
     "output_type": "stream",
     "text": [
      "[u'OwningElement', u'Position']\n",
      "step = 1 time 0.0\n",
      "[u'OwningElement', u'Position']"
     ]
    }
   ],
   "source": [
    "# create integral to get diff \n",
    "f_o = open(outputPath+outputFile, 'w')\n",
    "fname = \"topo.hdf5\"\n",
    "fullpath = os.path.join( tempPath+ fname)\n",
    "start = time.clock()\n",
    "while step<10:\n",
    "    #stokesPIC2.solve(nonLinearIterate=True)\n",
    "    solver.solve()\n",
    "    dt1 = advector1.get_max_dt()\n",
    "    dt = min((2.*sectoka),dt1)\n",
    "    if step == 0:\n",
    "        dt = 0.\n",
    "    # Advect swarm using this timestep size\n",
    "    advector1.integrate(dt)\n",
    "    advector2.integrate(dt)\n",
    "    # Increment\n",
    "    realtime += dt\n",
    "    step += 1\n",
    "    timevals.append(realtime)\n",
    "    #Save the suface swarm temporarily\n",
    "    if uw.rank() == 0:\n",
    "        surfswarm.save(fullpath)\n",
    "        tempfile = h5py.File(fullpath, libver='latest')\n",
    "        print tempfile.keys()\n",
    "        maxt = tempfile[\"Position\"][:][:,1].max()\n",
    "        f_o.write((2*'%-15s ' + '\\n') % (realtime,maxt))\n",
    "        tempfile.close()\n",
    "        os.remove(fullpath)\n",
    "    print 'step =',step, 'time', realtime/sectoka"
   ]
  },
  {
   "cell_type": "code",
   "execution_count": null,
   "metadata": {
    "collapsed": false
   },
   "outputs": [],
   "source": [
    "#tempfile = h5py.File(fullpath, libver='latest')"
   ]
  },
  {
   "cell_type": "markdown",
   "metadata": {
    "collapsed": false
   },
   "source": [
    "import matplotlib.pylab as pyplt\n",
    "\n",
    "kms = [j/1000. - 700 for j in maxheight]\n",
    "\n",
    "kyas = [i/sectoka for i in timevals]\n",
    "\n",
    "#Analytic solution\n",
    "y = -0.2139e-11\n",
    "def analytic_height(y,t):\n",
    "    return 7e3*math.exp(y*t)\n",
    "\n",
    "ah = [analytic_height(y,i)/1000. for i in timevals]\n",
    "\n",
    "uw_paper = np.loadtxt(\"./CASE1_data/UNDERWORLD_sa_100_18.dat\")\n",
    "\n",
    "%pylab inline\n",
    "pyplt.plot(kyas, kms)\n",
    "pyplt.plot(kyas, ah)\n",
    "pyplt.plot(uw_paper[:,0], uw_paper[:,1])"
   ]
  },
  {
   "cell_type": "code",
   "execution_count": 34,
   "metadata": {
    "collapsed": false
   },
   "outputs": [],
   "source": []
  }
 ],
 "metadata": {
  "kernelspec": {
   "display_name": "Python 2",
   "language": "python",
   "name": "python2"
  },
  "language_info": {
   "codemirror_mode": {
    "name": "ipython",
    "version": 2
   },
   "file_extension": ".py",
   "mimetype": "text/x-python",
   "name": "python",
   "nbconvert_exporter": "python",
   "pygments_lexer": "ipython2",
   "version": "2.7.10"
  }
 },
 "nbformat": 4,
 "nbformat_minor": 0
}
