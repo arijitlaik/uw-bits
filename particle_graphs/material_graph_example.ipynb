{
 "cells": [
  {
   "cell_type": "markdown",
   "metadata": {},
   "source": [
    "## Material transistions with a directed graph\n",
    "\n",
    "Geodynamic models often parameterise certain petrologic / geologic processes, either because solving the thermodynamic relationships is expensive, or the processes involve complex multiphysics - i.e generation and hydration of oceanic crust. \n",
    "\n",
    "This notebook demonstrates how a directed graph data-structure can be used to generate and apply material transitions. It incorporates the directed graph object from networkx package. Materials are given a unique integer index, and these indices become nodes in the graph. An edge between two nodes represents the availability or potential of a material transition - subject to certain conditions. Conditions are provided using the following function and syntax:\n",
    "    \n",
    "    DG.add_transition((index1,index2), uw.funcrtion, operator, value)\n",
    "    \n",
    " \n",
    " an example is:\n",
    " \n",
    "    DG.add_transition((2,1), coord[1], operator.gt, 0.9)\n",
    "    \n",
    "Here DG is the graph object, the tuple `(2,1)` generates an edge (i.e a transition)  between material 2 and 1. `coord[1]` is an underworld function, in this case the Y-coordinate of the particle, `operator.gt` is a function representation of the \"greater than\" operator. Finally, 0.9 is the the value on the RHS of the operator. \n",
    "\n",
    "In words this means, a particle of material 2 changes to material 3 whenever the Y-coordinate is greater that 0.9.\n",
    "\n",
    "Multiple functions can be combined algebraically, which is a strength of Underworld. Hence phase relationships, which could be written like $C_1*T + C2*P < C_3$, could be easily incorporated into the graph. \n",
    "\n",
    "Once you have setup the graph with a number of materials and material transitions, you can apply the information to the swarm in two ways. Either you can loop through every particle and apply the graph information (slow), or you can write out a list of conditions which can then be input to Underworld's fn.branching.conditional() function:\n",
    "\n",
    "    DG.build_condition_list(materialVariable)\n",
    "    materialVariable.data[:] = fn.branching.conditional(DG.condition_list).evaluate(swarm)\n",
    "    \n",
    "\n",
    "The MatGraph class from slippy2 is reproduced below, followed by a few examples."
   ]
  },
  {
   "cell_type": "code",
   "execution_count": null,
   "metadata": {
    "collapsed": true
   },
   "outputs": [],
   "source": []
  },
  {
   "cell_type": "markdown",
   "metadata": {
    "collapsed": false
   },
   "source": [
    "class MatGraph(DiGraph): \n",
    "\n",
    "    def __init__(self):\n",
    "        DiGraph.__init__(self) #Call the parent class init function\n",
    "        self.number_changed = 1\n",
    "        self.condition_list = []\n",
    "\n",
    "\n",
    "    def add_transition(self, nodes, function, FnOperator, value, combineby = 'and'):\n",
    "        \"\"\"\n",
    "        Function that allows you to easily add material transitions in Underworld simulations.\n",
    "        This function creates graph 'nodes', representing the two materials.\n",
    "        It also provided a simple way of decribing the rules determining the transision process\n",
    "\n",
    "        Parameters\n",
    "        ----------\n",
    "        nodes : Tuple\n",
    "            Representing the material Indexes of materials which a transition is likely to occur, e.g crust to eclogite.\n",
    "        function: underworld.function._function.Function\n",
    "            (could also be a constant)\n",
    "        nOperator: operator\n",
    "            operators must be provided in function form through the operator package, eg. operator.gt(1., 2.)\n",
    "        value: float\n",
    "            the value will be compared to the providided function, given the provided operator\n",
    "        value: string\n",
    "            'and' or 'or', defaults to 'and'. If multiple rules are provided for a single edge in the graph (representing the material transition)\n",
    "            then they be applied in the sense of any ('or'), or all ('and')\n",
    "        \"\"\"\n",
    "        firstEdge = True\n",
    "        try:\n",
    "            self[nodes[0]][nodes[1]] #see if the node exists\n",
    "            #get names of previous condition dict:\n",
    "            prevdname = self[nodes[0]][nodes[1]].keys()[0]\n",
    "            firstEdge = False\n",
    "        except:\n",
    "            self.add_node(nodes[0])\n",
    "            self.add_node(nodes[1])\n",
    "            self.add_edges_from([nodes])\n",
    "        #create a random name for dictionary (we do this so we can store multiple conditions on an edge.)\n",
    "        dname = uuid.uuid4()\n",
    "        self[nodes[0]][nodes[1]][dname] = {}\n",
    "        self[nodes[0]][nodes[1]][dname]['function'] = function\n",
    "        self[nodes[0]][nodes[1]][dname]['operator'] =  FnOperator\n",
    "        self[nodes[0]][nodes[1]][dname]['value'] =  value\n",
    "        self[nodes[0]][nodes[1]][dname]['combineby'] = 'and'\n",
    "        if combineby == 'or':\n",
    "            self[nodes[0]][nodes[1]][dname]['combineby'] =  'or'\n",
    "        if not firstEdge:\n",
    "            assert self[nodes[0]][nodes[1]][dname]['combineby'] == self[nodes[0]][nodes[1]][prevdname]['combineby'], \"if the graph has multiple conditions on an edge, provided 'combineby' string must be identical to avoid ambiguity.\"\n",
    "    def walk_update(self, swarm, materialVariable):\n",
    "        \"\"\"\n",
    "        A function that allows you to update an underworld material swarm, given the directed graph (and rules) describing those transitions\n",
    "\n",
    "        Parameters\n",
    "        ----------\n",
    "        swarm: underworld.swarm._swarm.Swarm\n",
    "        materialVariable: underworld.swarm._swarmvariable.SwarmVariable\n",
    "\n",
    "        Notes\n",
    "        ----------\n",
    "        A better way of doing this is the future would be to link the graph and conditions directly to the underworld fn.branching.conditional()\n",
    "        This would amount to writing the graph conditions directly to a condition list.\n",
    "        \"\"\"\n",
    "        self.number_changed = 0\n",
    "        #Loop through particles\n",
    "        for particleID in range(swarm.particleCoordinates.data.shape[0]):\n",
    "            edgeFound = False\n",
    "            partCoords = [swarm.particleCoordinates.data[particleID][0],swarm.particleCoordinates.data[particleID][1]]\n",
    "            node = materialVariable.data[particleID][0] #each Mat is represented by a node in the graph\n",
    "            #Loop through egdes\n",
    "            for otherNode in self[node].keys(): #Now loop through connected nodes (graph edges)\n",
    "                if edgeFound:\n",
    "                    break\n",
    "                #Loop through conditions on each edge\n",
    "                for cond in self[node][otherNode].keys(): #Loop though conditions governing material transformation\n",
    "                    if self[node][otherNode][cond]['operator'](self[node][otherNode][cond]['function'].evaluate(partCoords)[0][0], self[node][otherNode][cond]['value']):\n",
    "                        edgeFound = otherNode\n",
    "                        if self[node][otherNode][cond]['combineby'] == 'or':\n",
    "                            break\n",
    "                    else:\n",
    "                        edgeFound = False\n",
    "                        if self[node][otherNode][cond]['combineby'] == 'and':\n",
    "                            break\n",
    "\n",
    "            if edgeFound:\n",
    "                materialVariable.data[particleID] = edgeFound\n",
    "                self.number_changed += 1 #Utilising that the True + n = 1 + n \n",
    "                \n",
    "    def build_condition_list(self, materialVariable):\n",
    "        self.condition_list = [] #empty the condition list\n",
    "        dm = 0.1\n",
    "        for node in self.nodes():\n",
    "            for otherNode in self[node].keys():\n",
    "                checkFrom = ((materialVariable < (node+dm)) and (materialVariable > (node-dm)))\n",
    "                print type(checkFrom)\n",
    "                condIt = 0\n",
    "                for cond in self[node][otherNode].keys():                   \n",
    "                    op = self[node][otherNode][cond]['operator']\n",
    "                    fun = self[node][otherNode][cond]['function']\n",
    "                    val = self[node][otherNode][cond]['value']\n",
    "                    condExp = op(fun, val)\n",
    "                    if condIt == 0:\n",
    "                        totCond = condExp\n",
    "                    else:\n",
    "                        if self[node][otherNode].values()[0]['combineby'] == 'or':\n",
    "                            totCond = operator.or_(totCond, condExp)\n",
    "                        else:\n",
    "                            totCond = operator.and_(totCond, condExp)\n",
    "                    condIt += 1\n",
    "                #combCond = operator.and_(totCond, checkFrom)\n",
    "                combCond = checkFrom\n",
    "                self.condition_list.append(((combCond), otherNode))\n",
    "        self.condition_list.append((True ,          materialVariable)) #if no conditions are true, return current matId"
   ]
  },
  {
   "cell_type": "code",
   "execution_count": 113,
   "metadata": {
    "collapsed": true
   },
   "outputs": [],
   "source": [
    "from networkx import DiGraph\n",
    "import numpy as np\n",
    "from easydict import EasyDict as edict\n",
    "import operator\n",
    "import uuid\n",
    "import networkx as nx\n",
    "import underworld as uw\n",
    "from underworld import function as fn\n",
    "from underworld import meshvariable as meshvariable\n",
    "import glucifer\n",
    "\n",
    "from slippy2 import material_graph"
   ]
  },
  {
   "cell_type": "markdown",
   "metadata": {},
   "source": [
    "# Setup a simple domain and swarm"
   ]
  },
  {
   "cell_type": "code",
   "execution_count": 114,
   "metadata": {
    "collapsed": false
   },
   "outputs": [],
   "source": [
    "minX  = -2.0\n",
    "maxX  =  2.0\n",
    "minXv = -1.0\n",
    "maxXv =  1.0\n",
    "\n",
    "resX = 128\n",
    "resY = 32\n",
    "\n",
    "elementType=\"Q1/DQ0\"  # This is enough for a test but not to use the code in anger\n",
    "\n",
    "mesh = uw.mesh.FeMesh_Cartesian( elementType = (elementType), \n",
    "                                 elementRes  = ( resX, resY), \n",
    "                                 minCoord    = ( minX, 0.), \n",
    "                                 maxCoord    = ( maxX, 1.),\n",
    "                                 periodic    = [False, False]  ) \n",
    "\n",
    "\n",
    "\n",
    "velocityField    = uw.mesh.MeshVariable( mesh=mesh,         nodeDofCount=mesh.dim )\n",
    "pressureField    = uw.mesh.MeshVariable( mesh=mesh.subMesh, nodeDofCount=1 )\n",
    "\n",
    "velocityField.data[:] = [0.,0.]\n",
    "pressureField.data[:] = 0.\n"
   ]
  },
  {
   "cell_type": "code",
   "execution_count": 115,
   "metadata": {
    "collapsed": true
   },
   "outputs": [],
   "source": [
    "swarm  = uw.swarm.Swarm( mesh=mesh )\n",
    "swarmLayout = uw.swarm.layouts.GlobalSpaceFillerLayout( swarm=swarm, particlesPerCell=15 )\n",
    "swarm.populate_using_layout( layout=swarmLayout )\n",
    "\n",
    "materialVariable = swarm.add_variable( dataType=\"int\", count=1 )\n"
   ]
  },
  {
   "cell_type": "code",
   "execution_count": 116,
   "metadata": {
    "collapsed": true
   },
   "outputs": [],
   "source": [
    "coord = fn.input()"
   ]
  },
  {
   "cell_type": "code",
   "execution_count": 117,
   "metadata": {
    "collapsed": false
   },
   "outputs": [],
   "source": [
    "# Initialise the 'materialVariable' data to represent different materials. \n",
    "materialV = 1 # viscoplastic\n",
    "materialA = 0 # accommodation layer a.k.a. Sticky Air\n",
    "materialU = 2 # Under layer\n",
    "materialT = 3\n",
    "\n"
   ]
  },
  {
   "cell_type": "code",
   "execution_count": 119,
   "metadata": {
    "collapsed": false
   },
   "outputs": [],
   "source": [
    "#DG.condition_list"
   ]
  },
  {
   "cell_type": "code",
   "execution_count": 120,
   "metadata": {
    "collapsed": false
   },
   "outputs": [],
   "source": [
    "materialVariable.data[:] = materialA\n"
   ]
  },
  {
   "cell_type": "code",
   "execution_count": 121,
   "metadata": {
    "collapsed": true
   },
   "outputs": [],
   "source": [
    "sphereRadius = 0.1\n",
    "sphereCentre = (0., 0.5)\n",
    "distFn = coord - sphereCentre\n",
    "offsetFn =  fn.math.dot( distFn, distFn)"
   ]
  },
  {
   "cell_type": "markdown",
   "metadata": {},
   "source": [
    "## Update swarm with walk "
   ]
  },
  {
   "cell_type": "code",
   "execution_count": 122,
   "metadata": {
    "collapsed": false
   },
   "outputs": [],
   "source": [
    "DG = material_graph.MatGraph()\n",
    "\n",
    "DG.add_nodes_from([materialV, materialA, materialU])"
   ]
  },
  {
   "cell_type": "code",
   "execution_count": 123,
   "metadata": {
    "collapsed": false
   },
   "outputs": [],
   "source": [
    "#Here we add some nodes - edges - conditions to the graph\n",
    "#DG.add_transition((0,1), coord[1], operator.gt, 0.5)\n",
    "DG.add_transition((2,1), coord[1], operator.gt, 0.9)\n",
    "DG.add_transition((0,2), coord[1], operator.lt, 0.1, combineby='or')\n",
    "DG.add_transition((0,2), offsetFn, operator.lt, sphereRadius**2, combineby='or')\n",
    "DG.add_transition((2,0), offsetFn, operator.gt, sphereRadius**2)\n"
   ]
  },
  {
   "cell_type": "code",
   "execution_count": 124,
   "metadata": {
    "collapsed": false
   },
   "outputs": [
    {
     "data": {
      "image/png": "[encoded data removed]",
      "text/plain": [
       "<matplotlib.figure.Figure at 0x11d34e0d0>"
      ]
     },
     "metadata": {},
     "output_type": "display_data"
    }
   ],
   "source": [
    "%matplotlib inline\n",
    "nx.draw(DG,pos=nx.spring_layout(DG))"
   ]
  },
  {
   "cell_type": "code",
   "execution_count": 125,
   "metadata": {
    "collapsed": false
   },
   "outputs": [],
   "source": [
    "#Take  a look at the dictionary created by the .add_transition method\n"
   ]
  },
  {
   "cell_type": "code",
   "execution_count": 126,
   "metadata": {
    "collapsed": false
   },
   "outputs": [
    {
     "data": {
      "text/plain": [
       "1"
      ]
     },
     "execution_count": 126,
     "metadata": {},
     "output_type": "execute_result"
    }
   ],
   "source": [
    "DG.number_changed"
   ]
  },
  {
   "cell_type": "code",
   "execution_count": 127,
   "metadata": {
    "collapsed": false
   },
   "outputs": [
    {
     "name": "stdout",
     "output_type": "stream",
     "text": [
      "CPU times: user 12.9 s, sys: 130 ms, total: 13 s\n",
      "Wall time: 13 s\n"
     ]
    }
   ],
   "source": [
    "%%time\n",
    "#No we can walk ths swarm and update particles based on those conditions\n",
    "#At the moment we do this until there are no longer any changes to be made - there are faster alternatives though\n",
    "while DG.number_changed != 0:\n",
    "    DG.walk_update(swarm, materialVariable)"
   ]
  },
  {
   "cell_type": "code",
   "execution_count": 128,
   "metadata": {
    "collapsed": false
   },
   "outputs": [],
   "source": [
    "#swarm.particleCoordinates.data.shape[0]"
   ]
  },
  {
   "cell_type": "code",
   "execution_count": 129,
   "metadata": {
    "collapsed": false,
    "scrolled": true
   },
   "outputs": [
    {
     "data": {
      "text/html": [
       "<img src='data:image/png;base64,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'>"
      ],
      "text/plain": [
       "<IPython.core.display.HTML object>"
      ]
     },
     "execution_count": 129,
     "metadata": {},
     "output_type": "execute_result"
    }
   ],
   "source": [
    "figMat = glucifer.Figure()\n",
    "figMat.append( glucifer.objects.Points(swarm, materialVariable, pointSize=4))\n",
    "figMat.show()"
   ]
  },
  {
   "cell_type": "code",
   "execution_count": 130,
   "metadata": {
    "collapsed": false
   },
   "outputs": [
    {
     "data": {
      "text/plain": [
       "array([0, 2], dtype=int32)"
      ]
     },
     "execution_count": 130,
     "metadata": {},
     "output_type": "execute_result"
    }
   ],
   "source": [
    "np.unique(materialVariable.data)"
   ]
  },
  {
   "cell_type": "markdown",
   "metadata": {},
   "source": [
    "## Update the swarm by integrating with fn.branching.conditional"
   ]
  },
  {
   "cell_type": "code",
   "execution_count": 131,
   "metadata": {
    "collapsed": true
   },
   "outputs": [],
   "source": [
    "materialVariable.data[:] = 0"
   ]
  },
  {
   "cell_type": "code",
   "execution_count": 132,
   "metadata": {
    "collapsed": false
   },
   "outputs": [],
   "source": [
    "DG.build_condition_list(materialVariable)\n"
   ]
  },
  {
   "cell_type": "code",
   "execution_count": 133,
   "metadata": {
    "collapsed": false
   },
   "outputs": [
    {
     "data": {
      "text/plain": [
       "(0.5, 1.5)"
      ]
     },
     "execution_count": 133,
     "metadata": {},
     "output_type": "execute_result"
    }
   ],
   "source": [
    "1-0.5, 1+0.5"
   ]
  },
  {
   "cell_type": "code",
   "execution_count": 134,
   "metadata": {
    "collapsed": false
   },
   "outputs": [],
   "source": [
    "#%%time\n",
    "#checkFrom = [(materialVariable > (node-dm)) and (materialVariable < (2+dm))]\n",
    "\n",
    "#conditions = [(       (materialVariable < (2+0.5)) and (materialVariable > (2-0.5)), 2),\n",
    "#           (       True ,           0) ]\n",
    "\n",
    "materialVariable.data[:] = fn.branching.conditional(DG.condition_list).evaluate(swarm)"
   ]
  },
  {
   "cell_type": "code",
   "execution_count": 135,
   "metadata": {
    "collapsed": false
   },
   "outputs": [
    {
     "data": {
      "text/html": [
       "<img src='data:image/png;base64,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'>"
      ],
      "text/plain": [
       "<IPython.core.display.HTML object>"
      ]
     },
     "execution_count": 135,
     "metadata": {},
     "output_type": "execute_result"
    }
   ],
   "source": [
    "figMat = glucifer.Figure()\n",
    "figMat.append( glucifer.objects.Points(swarm, materialVariable, pointSize=4))\n",
    "figMat.show()"
   ]
  },
  {
   "cell_type": "code",
   "execution_count": null,
   "metadata": {
    "collapsed": true
   },
   "outputs": [],
   "source": []
  },
  {
   "cell_type": "code",
   "execution_count": null,
   "metadata": {
    "collapsed": true
   },
   "outputs": [],
   "source": []
  },
  {
   "cell_type": "code",
   "execution_count": null,
   "metadata": {
    "collapsed": true
   },
   "outputs": [],
   "source": []
  }
 ],
 "metadata": {
  "kernelspec": {
   "display_name": "Python 2",
   "language": "python",
   "name": "python2"
  },
  "language_info": {
   "codemirror_mode": {
    "name": "ipython",
    "version": 2
   },
   "file_extension": ".py",
   "mimetype": "text/x-python",
   "name": "python",
   "nbconvert_exporter": "python",
   "pygments_lexer": "ipython2",
   "version": "2.7.11"
  }
 },
 "nbformat": 4,
 "nbformat_minor": 0
}
