{
 "cells": [
  {
   "cell_type": "markdown",
   "metadata": {},
   "source": [
    "##OzBench et al."
   ]
  },
  {
   "cell_type": "markdown",
   "metadata": {},
   "source": [
    "OzBench, M.; Regenauer-Lieb, K.; Stegman, D. R.; Morra, G.; Farrington, R.; Hale, A.; May, D. A.; Freeman, J.; Bourgouin, L.; Mühlhaus, H. & Moresi, L. A model comparison study of large-scale mantle-lithosphere dynamics driven by subduction.\n",
    "\t\tPhysics of the Earth and Planetary Interiors, 2008, 171, 224-234"
   ]
  },
  {
   "cell_type": "code",
   "execution_count": 25,
   "metadata": {
    "collapsed": true
   },
   "outputs": [],
   "source": [
    "# RT PIC - classic and nearest neighbour\n",
    "import underworld as uw\n",
    "import math\n",
    "from underworld import function as fn\n",
    "import glucifer.pylab as plt\n",
    "import numpy as np\n",
    "import os\n",
    "import time"
   ]
  },
  {
   "cell_type": "code",
   "execution_count": 2,
   "metadata": {
    "collapsed": true
   },
   "outputs": [],
   "source": [
    "dim = 2"
   ]
  },
  {
   "cell_type": "code",
   "execution_count": 3,
   "metadata": {
    "collapsed": false
   },
   "outputs": [],
   "source": [
    "# create mesh objects\n",
    "#elementMesh = uw.mesh.FeMesh_Cartesian( elementType=(\"linear\",\"constant\"), \n",
    "#                                         elementRes=(96,48,96), \n",
    "#                                           minCoord=(-2.,0., 0.), \n",
    "#                                           maxCoord=(6.,1.0, 9.)  )\n",
    "\n",
    "\n",
    "elementMesh = uw.mesh.FeMesh_Cartesian( elementType=(\"linear\",\"constant\"), \n",
    "                                         elementRes=(96,48), \n",
    "                                           minCoord=(-2.,0.), \n",
    "                                           maxCoord=(6.,1.0)  )\n",
    "linearMesh   = elementMesh\n",
    "constantMesh = elementMesh.subMesh"
   ]
  },
  {
   "cell_type": "code",
   "execution_count": 4,
   "metadata": {
    "collapsed": true
   },
   "outputs": [],
   "source": [
    "# create fevariables\n",
    "velocityField    = uw.fevariable.FeVariable( feMesh=linearMesh,   nodeDofCount=dim )\n",
    "pressureField    = uw.fevariable.FeVariable( feMesh=constantMesh, nodeDofCount=1 )\n",
    "\n"
   ]
  },
  {
   "cell_type": "code",
   "execution_count": 5,
   "metadata": {
    "collapsed": true
   },
   "outputs": [],
   "source": [
    "# Initialise data.. Note that we are also setting boundary conditions here\n",
    "velocityField.data[:] = [0.,0.]\n",
    "pressureField.data[:] = 0."
   ]
  },
  {
   "cell_type": "code",
   "execution_count": 6,
   "metadata": {
    "collapsed": true
   },
   "outputs": [],
   "source": [
    "#Boundary conditions\n",
    "\n",
    "# Note that we use operator overloading to combine sets\n",
    "IWalls = linearMesh.specialSets[\"MinI_VertexSet\"] + linearMesh.specialSets[\"MaxI_VertexSet\"]\n",
    "JWalls = linearMesh.specialSets[\"MinJ_VertexSet\"] + linearMesh.specialSets[\"MaxJ_VertexSet\"]\n",
    "\n",
    "\n",
    "# Also note that we provide a tuple of sets.. One for the Vx, one for Vy.\n",
    "freeslipBC = uw.conditions.DirichletCondition(     variable=velocityField, \n",
    "                                              nodeIndexSets=(IWalls,JWalls) )"
   ]
  },
  {
   "cell_type": "markdown",
   "metadata": {},
   "source": [
    "##Geometry setup"
   ]
  },
  {
   "cell_type": "code",
   "execution_count": 7,
   "metadata": {
    "collapsed": false
   },
   "outputs": [],
   "source": [
    "#Polygons with more than 3 vertices seem to be crashing atm.\n",
    "\n",
    "slabupper = np.array([(1.2,1.), (3.4,1.),(3.4,0.975), (1.2,0.975),(1.02,0.925),(1.02,0.95)])\n",
    "slabcore = np.array([(1.2,0.975), (3.4,0.975),(3.4,0.925), (1.2,0.925),(1.02,0.875),(1.02,0.925)])\n",
    "slablower = np.array([(1.2,0.925), (3.4,0.925),(3.4,0.9), (1.2,0.9),(1.02,0.85),(1.02,0.875)])\n",
    "\n",
    "\n",
    "#slab = np.array([(1.2,1.),(1.2,0.975), (3.4,1.)])\n",
    "\n",
    "upper = fn.shape.Polygon(slabupper )\n",
    "core = fn.shape.Polygon(slabcore)\n",
    "lower = fn.shape.Polygon(slablower)"
   ]
  },
  {
   "cell_type": "code",
   "execution_count": 8,
   "metadata": {
    "collapsed": false
   },
   "outputs": [
    {
     "data": {
      "image/png": "[encoded data removed]",
      "text/plain": [
       "<IPython.core.display.Image object>"
      ]
     },
     "execution_count": 8,
     "metadata": {},
     "output_type": "execute_result"
    }
   ],
   "source": [
    "figA = plt.Figure()\n",
    "figA.Surface(upper | core, linearMesh)\n",
    "figA.show()"
   ]
  },
  {
   "cell_type": "code",
   "execution_count": 9,
   "metadata": {
    "collapsed": true
   },
   "outputs": [],
   "source": [
    "# We create swarms of particles which can advect, and which may determine 'materials'\n",
    "gSwarm = uw.swarm.Swarm( feMesh=elementMesh )\n",
    "\n",
    "# Now we add a data variable which will store an index to determine material\n",
    "materialVariable = gSwarm.add_variable( dataType=\"char\", count=1 )\n",
    "\n",
    "# Layouts are used to populate the swarm across the whole domain\n",
    "# Create the layout object\n",
    "layout = uw.swarm.layouts.GlobalSpaceFillerLayout( swarm=gSwarm, particlesPerCell=20 )\n",
    "# Now use it to populate.\n",
    "gSwarm.populate_using_layout( layout=layout )\n",
    "\n",
    "\n",
    "# Lets initialise the 'materialVariable' data to represent two different materials. \n",
    "uppermantleIndex = 0\n",
    "lowermantleIndex = 4\n",
    "\n",
    "upperslabIndex = 1\n",
    "coreslabIndex = 2\n",
    "lowerslabIndex = 3\n",
    "\n",
    "# Set the material to heavy everywhere via the numpy array\n",
    "materialVariable.data[:] = uppermantleIndex"
   ]
  },
  {
   "cell_type": "code",
   "execution_count": 10,
   "metadata": {
    "collapsed": true
   },
   "outputs": [],
   "source": [
    "for particleID in range(gSwarm.particleCoordinates.data.shape[0]):\n",
    "    if gSwarm.particleCoordinates.data[particleID][1] < 0.4:\n",
    "        materialVariable.data[particleID] =  lowermantleIndex \n",
    "    elif upper.evaluate(tuple(gSwarm.particleCoordinates.data[particleID])):\n",
    "        materialVariable.data[particleID] =  upperslabIndex\n",
    "    elif core.evaluate(tuple(gSwarm.particleCoordinates.data[particleID])):\n",
    "        materialVariable.data[particleID] =  coreslabIndex\n",
    "    elif lower.evaluate(tuple(gSwarm.particleCoordinates.data[particleID])):\n",
    "        materialVariable.data[particleID] =  lowerslabIndex"
   ]
  },
  {
   "cell_type": "code",
   "execution_count": 11,
   "metadata": {
    "collapsed": false
   },
   "outputs": [],
   "source": [
    "fig1 = plt.Figure()\n",
    "fig1.Points( swarm=gSwarm, colourVariable=materialVariable )\n",
    "fig1.show()"
   ]
  },
  {
   "cell_type": "markdown",
   "metadata": {},
   "source": [
    "##Rheology "
   ]
  },
  {
   "cell_type": "code",
   "execution_count": 12,
   "metadata": {
    "collapsed": false
   },
   "outputs": [],
   "source": [
    "#Ozbench VonMises uses \"strain rate field\", presumably this refers to second invariant\n",
    "\n",
    "secinv = fn.tensor.second_invariant( \n",
    "                    fn.tensor.symmetric( \n",
    "                        velocityField.gradientFn ))\n",
    "\n",
    "cohesion = 0.06\n",
    "vonMises = cohesion/(secinv) #extra factor to account for underworld second invariant form\n",
    "\n",
    "upperlowervisc = fn.exception.SafeMaths(fn.misc.min(vonMises, 200))"
   ]
  },
  {
   "cell_type": "code",
   "execution_count": 13,
   "metadata": {
    "collapsed": true
   },
   "outputs": [],
   "source": [
    "#\n",
    "linearviscosityMapFn = fn.branching.map( keyFunc = materialVariable, \n",
    "                         mappingDict = {uppermantleIndex:1.,lowermantleIndex:100., upperslabIndex:200., coreslabIndex:2.0e4, lowerslabIndex:200.} )\n",
    "\n",
    "viscosityMapFn = fn.branching.map( keyFunc = materialVariable, \n",
    "                         mappingDict = {uppermantleIndex:1.,lowermantleIndex:100., upperslabIndex:vonMises, coreslabIndex:2.0e4, lowerslabIndex:vonMises} )\n",
    "\n",
    "densityMapFn = fn.branching.map( keyFunc = materialVariable,\n",
    "                         mappingDict = {uppermantleIndex:0.,lowermantleIndex:0., upperslabIndex:1., coreslabIndex:1., lowerslabIndex:1.} )\n",
    "\n",
    "# Define our gravity using a python tuple (this will be automatically converted to a function)\n",
    "gravity = ( 0.0, -1.0 )\n",
    "\n",
    "# now create a buoyancy force vector.. the gravity tuple is converted to a function \n",
    "# here via operator overloading\n",
    "\n",
    "buoyancyFn = gravity*densityMapFn"
   ]
  },
  {
   "cell_type": "markdown",
   "metadata": {},
   "source": [
    "##Stokes system and Solver"
   ]
  },
  {
   "cell_type": "code",
   "execution_count": 16,
   "metadata": {
    "collapsed": false
   },
   "outputs": [],
   "source": [
    "# Setup a stokes system\n",
    "# For PIC style integration, we include a swarm for the a PIC integration swarm is generated within.\n",
    "# For gauss integration, simple do not include the swarm. Nearest neighbour is used where required.\n",
    "stokesPIC = uw.systems.Stokes(velocityField=velocityField, \n",
    "                              pressureField=pressureField,\n",
    "                              conditions=[freeslipBC,],\n",
    "                              viscosityFn=fn.exception.SafeMaths(linearviscosityMapFn), \n",
    "                              bodyForceFn=buoyancyFn )"
   ]
  },
  {
   "cell_type": "code",
   "execution_count": 17,
   "metadata": {
    "collapsed": false
   },
   "outputs": [],
   "source": [
    "solver = uw.systems.Solver(stokesPIC)"
   ]
  },
  {
   "cell_type": "code",
   "execution_count": 18,
   "metadata": {
    "collapsed": true
   },
   "outputs": [],
   "source": [
    "solver.solve(nonLinearIterate=True)"
   ]
  },
  {
   "cell_type": "code",
   "execution_count": 20,
   "metadata": {
    "collapsed": true
   },
   "outputs": [],
   "source": [
    "# Setup the Stokes system again, now with full viscosity\n",
    "# For PIC style integration, we include a swarm for the a PIC integration swarm is generated within.\n",
    "# For gauss integration, simple do not include the swarm. Nearest neighbour is used where required.\n",
    "stokesPIC2 = uw.systems.Stokes(velocityField=velocityField, \n",
    "                              pressureField=pressureField,\n",
    "                              conditions=[freeslipBC,],\n",
    "                              viscosityFn=fn.exception.SafeMaths(viscosityMapFn), \n",
    "                              bodyForceFn=buoyancyFn)"
   ]
  },
  {
   "cell_type": "code",
   "execution_count": 21,
   "metadata": {
    "collapsed": true
   },
   "outputs": [],
   "source": [
    "# Create advector objects to advect the swarms. We specify second order integration.\n",
    "advector = uw.systems.SwarmAdvector( swarm=gSwarm, velocityField=velocityField, order=2)"
   ]
  },
  {
   "cell_type": "code",
   "execution_count": 22,
   "metadata": {
    "collapsed": true
   },
   "outputs": [],
   "source": [
    "# Stepping. Initialise time and timestep.\n",
    "realtime = 0.\n",
    "step = 0\n",
    "\n",
    "timevals = []\n",
    "vrmsvals = []"
   ]
  },
  {
   "cell_type": "code",
   "execution_count": 23,
   "metadata": {
    "collapsed": true
   },
   "outputs": [],
   "source": [
    "def rms():\n",
    "    squared = uw.utils.Integral(fn.math.dot(velocityField,velocityField), linearMesh)\n",
    "    area = uw.utils.Integral(1.,linearMesh)\n",
    "    return math.sqrt(squared.integrate()[0]/area.integrate()[0])\n",
    "\n",
    "def avg_temp():\n",
    "    temp = uw.utils.Integral(temperatureField, linearMesh)\n",
    "    return temp.integrate()[0]"
   ]
  },
  {
   "cell_type": "code",
   "execution_count": 28,
   "metadata": {
    "collapsed": false
   },
   "outputs": [
    {
     "data": {
      "text/plain": [
       "160.37945367316948"
      ]
     },
     "execution_count": 28,
     "metadata": {},
     "output_type": "execute_result"
    }
   ],
   "source": [
    "advector.get_max_dt()"
   ]
  },
  {
   "cell_type": "code",
   "execution_count": 34,
   "metadata": {
    "collapsed": false
   },
   "outputs": [
    {
     "name": "stdout",
     "output_type": "stream",
     "text": [
      "step = 10 rms 2.52206438137e-06\n",
      "step = 20 rms 2.84854455923e-06\n",
      "step = 30 rms 5.27801898787e-06\n",
      "step = 40 rms 6.03533917542e-06\n",
      "step = 50 rms 5.00259732017e-06\n",
      "step = 60 rms 5.52227865147e-06\n",
      "step = 70 rms 4.81447850201e-06\n",
      "step = 80 rms 4.15995826667e-06\n",
      "step = 90 rms 5.83005002984e-06\n",
      "step = 100 rms 4.82639628644e-06\n"
     ]
    }
   ],
   "source": [
    "# create integral to get diff \n",
    "\n",
    "start = time.clock()\n",
    "while step<100:\n",
    "    #stokesPIC2.solve(nonLinearIterate=True)\n",
    "    solver.solve(nonLinearIterate=True)\n",
    "    dt = advector.get_max_dt()\n",
    "    if step == 0:\n",
    "        dt = 0.\n",
    "    # Advect swarm using this timestep size\n",
    "    advector.integrate(dt)\n",
    "    # Increment\n",
    "    realtime += dt\n",
    "    step += 1\n",
    "    timevals.append(time)\n",
    "    Rms = rms()\n",
    "    #f_o.write((2*'%-15s ' + '\\n') % (realtime,Rms))\n",
    "    if step % 10 == 0:\n",
    "        print 'step =',step, 'rms', Rms"
   ]
  },
  {
   "cell_type": "code",
   "execution_count": 56,
   "metadata": {
    "collapsed": false
   },
   "outputs": [
    {
     "data": {
      "image/png": "[encoded data removed]",
      "text/plain": [
       "<IPython.core.display.Image object>"
      ]
     },
     "execution_count": 56,
     "metadata": {},
     "output_type": "execute_result"
    }
   ],
   "source": [
    "# visualise\n",
    "fig1 = plt.Figure()\n",
    "fig1.Surface(secinv, elementMesh)\n",
    "#fig1.Points( swarm=gSwarm, colourVariable=materialVariable )\n",
    "fig1.VectorArrows(velocityField, linearMesh,arrowHeadSize=1., lengthScale=4e4 )\n",
    "fig1.save_database('test_pol.gldb')\n",
    "fig1.show()"
   ]
  },
  {
   "cell_type": "code",
   "execution_count": null,
   "metadata": {
    "collapsed": true
   },
   "outputs": [],
   "source": []
  }
 ],
 "metadata": {
  "kernelspec": {
   "display_name": "Python 2",
   "language": "python",
   "name": "python2"
  },
  "language_info": {
   "codemirror_mode": {
    "name": "ipython",
    "version": 2
   },
   "file_extension": ".py",
   "mimetype": "text/x-python",
   "name": "python",
   "nbconvert_exporter": "python",
   "pygments_lexer": "ipython2",
   "version": "2.7.10"
  }
 },
 "nbformat": 4,
 "nbformat_minor": 0
}
