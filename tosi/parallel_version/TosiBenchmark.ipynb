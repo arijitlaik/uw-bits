{
 "cells": [
  {
   "cell_type": "markdown",
   "metadata": {
    "collapsed": true
   },
   "source": [
    "\n",
    "Viscoplastic thermal convection in a 2-D square box\n",
    "=======\n",
    "\n",
    "Benchmarks from Tosi et al. 2015\n",
    "--------\n",
    "\n"
   ]
  },
  {
   "cell_type": "markdown",
   "metadata": {
    "collapsed": true
   },
   "source": [
    "This notebook generates models from the <a name=\"ref-1\"/>[(Tosi et al., 2015)](#cite-tosi2015community) in Underworld2. The Underworld2 results are compared to the model run on Fenics. Input files for the Fenics models were provided by Petra Maierova.\n",
    "\n",
    "This example uses the RT PIC solver with classic and nearest neighbour\n",
    "\n",
    "\n",
    "References\n",
    "====\n",
    "\n",
    "<a name=\"cite-tosi2015community\"/><sup>[^](#ref-1) </sup>Tosi, Nicola and Stein, Claudia and Noack, Lena and H&uuml;ttig, Christian and Maierov&aacute;, Petra and Samuel, Henri and Davies, DR and Wilson, CR and Kramer, SC and Thieulot, Cedric and others. 2015. _A community benchmark for viscoplastic thermal convection in a 2-D square box_.\n",
    "\n"
   ]
  },
  {
   "cell_type": "markdown",
   "metadata": {},
   "source": [
    "Load python functions needed for underworld. Some additional python functions from os, math and numpy used later on."
   ]
  },
  {
   "cell_type": "code",
   "execution_count": 1,
   "metadata": {
    "collapsed": false
   },
   "outputs": [],
   "source": [
    "import underworld as uw\n",
    "import math\n",
    "from underworld import function as fn\n",
    "import glucifer\n",
    "#import matplotlib.pyplot as pyplot\n",
    "import time\n",
    "import numpy as np\n",
    "import os"
   ]
  },
  {
   "cell_type": "markdown",
   "metadata": {},
   "source": [
    "Set physical constants and parameters, including the Rayleigh number (*RA*). "
   ]
  },
  {
   "cell_type": "code",
   "execution_count": 2,
   "metadata": {
    "collapsed": true
   },
   "outputs": [],
   "source": [
    "#Do you want to write hdf5 files - Temp, RMS, viscosity, stress?\n",
    "writeFiles = False"
   ]
  },
  {
   "cell_type": "code",
   "execution_count": 3,
   "metadata": {
    "collapsed": false
   },
   "outputs": [],
   "source": [
    "#ETA_T = 1e5\n",
    "#newvisc = math.exp(math.log(ETA_T)*0.64)\n",
    "#newvisc"
   ]
  },
  {
   "cell_type": "code",
   "execution_count": 4,
   "metadata": {
    "collapsed": false
   },
   "outputs": [],
   "source": [
    "case_dict = {}\n",
    "case_dict[1] = {}\n",
    "case_dict[1]['ETA_Y'] = 1.\n",
    "case_dict[1]['YSTRESS'] = 1.\n",
    "\n",
    "case_dict[2] = {}\n",
    "case_dict[2]['ETA_Y'] = 1.\n",
    "case_dict[2]['YSTRESS'] = 1.\n",
    "\n",
    "case_dict[3] = {}\n",
    "case_dict[3]['ETA_Y'] = 10.\n",
    "\n",
    "case_dict[4] = {}\n",
    "case_dict[4]['ETA_Y'] = 10.\n",
    "case_dict[4]['YSTRESS'] = 1.\n",
    "\n",
    "case_dict[5] = {}\n",
    "case_dict[5]['ETA_Y'] = 10.\n",
    "case_dict[5]['YSTRESS'] = 4."
   ]
  },
  {
   "cell_type": "code",
   "execution_count": 5,
   "metadata": {
    "collapsed": false
   },
   "outputs": [],
   "source": [
    "CASE = 4 # select identifier of the testing case (1-5)"
   ]
  },
  {
   "cell_type": "code",
   "execution_count": 6,
   "metadata": {
    "collapsed": false
   },
   "outputs": [],
   "source": [
    "RA  = 1e2        # Rayleigh number\n",
    "TS  = 0          # surface temperature\n",
    "TB  = 1          # bottom boundary temperature (melting point)\n",
    "ETA_T = 1e5\n",
    "ETA_Y = case_dict[CASE]['ETA_Y']\n",
    "ETA0 = 1e-3\n",
    "TMAX = 3.0\n",
    "IMAX = 1000\n",
    "YSTRESS = case_dict[CASE]['YSTRESS']\n",
    "RES = 64"
   ]
  },
  {
   "cell_type": "markdown",
   "metadata": {},
   "source": [
    "Alternatively, use a reference viscosity identical to Crameri and Tackley, i.e. normalised at 0.64.\n",
    "In this case the Rayligh number would go to:"
   ]
  },
  {
   "cell_type": "code",
   "execution_count": 7,
   "metadata": {
    "collapsed": false
   },
   "outputs": [
    {
     "data": {
      "text/plain": [
       "1584.8931924611143"
      ]
     },
     "execution_count": 7,
     "metadata": {},
     "output_type": "execute_result"
    }
   ],
   "source": [
    "math.exp(math.log(10**5)*0.64)"
   ]
  },
  {
   "cell_type": "code",
   "execution_count": 8,
   "metadata": {
    "collapsed": false
   },
   "outputs": [],
   "source": [
    "#RA2/RA == newvisc"
   ]
  },
  {
   "cell_type": "code",
   "execution_count": 9,
   "metadata": {
    "collapsed": false
   },
   "outputs": [],
   "source": [
    "#RA2 = RA *math.exp(math.log(10**5)*0.64)\n",
    "#print('new Rayleigh number would be: ' + str(RA2))"
   ]
  },
  {
   "cell_type": "code",
   "execution_count": 10,
   "metadata": {
    "collapsed": false
   },
   "outputs": [],
   "source": [
    "#print(str(RA2), str(ETA0), str(YSTRESS))"
   ]
  },
  {
   "cell_type": "markdown",
   "metadata": {},
   "source": [
    "Simulation parameters. Resolution in the horizontal (*Xres*) and vertical (*Yres*) directions."
   ]
  },
  {
   "cell_type": "code",
   "execution_count": 11,
   "metadata": {
    "collapsed": true
   },
   "outputs": [],
   "source": [
    "\n",
    "dim = 2          # number of spatial dimensions"
   ]
  },
  {
   "cell_type": "markdown",
   "metadata": {},
   "source": [
    "Select which case of viscosity from Tosi et al (2015) to use. Adjust the yield stress to be =1 for cases 1-4, or between 3.0 and 5.0 (in increments of 0.1) in case 5."
   ]
  },
  {
   "cell_type": "markdown",
   "metadata": {},
   "source": [
    "Set output file and directory for results"
   ]
  },
  {
   "cell_type": "code",
   "execution_count": 12,
   "metadata": {
    "collapsed": false
   },
   "outputs": [],
   "source": [
    "outputPath = 'TosiOutput/'\n",
    "imagePath = 'TosiOutput/images'\n",
    "filePath = 'TosiOutput/files'\n",
    "dbPath = 'TosiOutput/gldbs'\n",
    "outputFile = 'results_case' + str(CASE) + '.dat'\n",
    "\n",
    "\n",
    "# make directories if they don't exist\n",
    "if not os.path.isdir(outputPath):\n",
    "    os.makedirs(outputPath)\n",
    "if not os.path.isdir(imagePath):\n",
    "    os.makedirs(imagePath)\n",
    "if not os.path.isdir(dbPath):\n",
    "    os.makedirs(dbPath)\n",
    "if not os.path.isdir(filePath):\n",
    "    os.makedirs(filePath)"
   ]
  },
  {
   "cell_type": "markdown",
   "metadata": {},
   "source": [
    "Create mesh objects. These store the indices and spatial coordiates of the grid points on the mesh."
   ]
  },
  {
   "cell_type": "code",
   "execution_count": 13,
   "metadata": {
    "collapsed": false
   },
   "outputs": [],
   "source": [
    "mesh = uw.mesh.FeMesh_Cartesian( elementType = (\"Q1/dQ0\"),\n",
    "                                 elementRes  = (RES, RES), \n",
    "                                 minCoord    = (0.,0.), \n",
    "                                 maxCoord=(1.,1.))\n"
   ]
  },
  {
   "cell_type": "markdown",
   "metadata": {},
   "source": [
    "Create Finite Element (FE) variables for the velocity, pressure and temperature fields. The last two of these are scalar fields needing only one value at each mesh point, while the velocity field contains a vector of *dim* dimensions at each mesh point."
   ]
  },
  {
   "cell_type": "code",
   "execution_count": 14,
   "metadata": {
    "collapsed": false
   },
   "outputs": [],
   "source": [
    "velocityField       = uw.mesh.MeshVariable( mesh=mesh,         nodeDofCount=dim )\n",
    "pressureField       = uw.mesh.MeshVariable( mesh=mesh.subMesh, nodeDofCount=1 )\n",
    "temperatureField    = uw.mesh.MeshVariable( mesh=mesh,         nodeDofCount=1 )\n",
    "temperatureDotField = uw.mesh.MeshVariable( mesh=mesh,         nodeDofCount=1 )"
   ]
  },
  {
   "cell_type": "markdown",
   "metadata": {},
   "source": [
    "Create some dummy fevariables for doing top and bottom boundary calculations."
   ]
  },
  {
   "cell_type": "code",
   "execution_count": 16,
   "metadata": {
    "collapsed": false
   },
   "outputs": [],
   "source": [
    "topField    = uw.mesh.MeshVariable( mesh=mesh,   nodeDofCount=1)\n",
    "bottomField    = uw.mesh.MeshVariable( mesh=mesh,   nodeDofCount=1)\n",
    "\n",
    "topField.data[:] = 0.\n",
    "bottomField.data[:] = 0.\n",
    "\n",
    "# lets ensure temp boundaries are still what we want \n",
    "# on the boundaries\n",
    "for index in mesh.specialSets[\"MinJ_VertexSet\"]:\n",
    "    bottomField.data[index] = 1.\n",
    "for index in mesh.specialSets[\"MaxJ_VertexSet\"]:\n",
    "    topField.data[index] = 1."
   ]
  },
  {
   "cell_type": "markdown",
   "metadata": {},
   "source": [
    "#ICs and BCs"
   ]
  },
  {
   "cell_type": "code",
   "execution_count": 18,
   "metadata": {
    "collapsed": false
   },
   "outputs": [],
   "source": [
    "# Initialise data.. Note that we are also setting boundary conditions here\n",
    "velocityField.data[:] = [0.,0.]\n",
    "pressureField.data[:] = 0.\n",
    "temperatureField.data[:] = 0.\n",
    "temperatureDotField.data[:] = 0.\n",
    "\n",
    "\n",
    "# Setup temperature initial condition via numpy arrays\n",
    "A = 0.01\n",
    "#Note that width = height = 1\n",
    "tempNump = temperatureField.data\n",
    "for index, coord in enumerate(mesh.data):\n",
    "    pertCoeff = (1- coord[1]) + A*math.cos( math.pi * coord[0] ) * math.sin( math.pi * coord[1] )\n",
    "    tempNump[index] = pertCoeff;\n",
    "    "
   ]
  },
  {
   "cell_type": "code",
   "execution_count": 19,
   "metadata": {
    "collapsed": false
   },
   "outputs": [],
   "source": [
    "# Get the actual sets \n",
    "#\n",
    "#  HJJJJJJH\n",
    "#  I      I\n",
    "#  I      I\n",
    "#  I      I\n",
    "#  HJJJJJJH\n",
    "#  \n",
    "#  Note that H = I & J \n",
    "\n",
    "# Note that we use operator overloading to combine sets\n",
    "IWalls = mesh.specialSets[\"MinI_VertexSet\"] + mesh.specialSets[\"MaxI_VertexSet\"]\n",
    "JWalls = mesh.specialSets[\"MinJ_VertexSet\"] + mesh.specialSets[\"MaxJ_VertexSet\"]\n",
    "TWalls = mesh.specialSets[\"MaxJ_VertexSet\"]\n",
    "BWalls = mesh.specialSets[\"MinJ_VertexSet\"]"
   ]
  },
  {
   "cell_type": "code",
   "execution_count": 20,
   "metadata": {
    "collapsed": false
   },
   "outputs": [],
   "source": [
    "# Now setup the dirichlet boundary condition\n",
    "# Note that through this object, we are flagging to the system \n",
    "# that these nodes are to be considered as boundary conditions. \n",
    "# Also note that we provide a tuple of sets.. One for the Vx, one for Vy.\n",
    "freeslipBC = uw.conditions.DirichletCondition(     variable=velocityField, \n",
    "                                              indexSetsPerDof=(IWalls, JWalls) )\n",
    "\n",
    "# also set dirichlet for temp field\n",
    "tempBC = uw.conditions.DirichletCondition(     variable=temperatureField, \n",
    "                                              indexSetsPerDof=(JWalls,) )"
   ]
  },
  {
   "cell_type": "code",
   "execution_count": 22,
   "metadata": {
    "collapsed": false
   },
   "outputs": [],
   "source": [
    "# Set temp boundaries \n",
    "# on the boundaries\n",
    "for index in mesh.specialSets[\"MinJ_VertexSet\"]:\n",
    "    temperatureField.data[index] = TB\n",
    "for index in mesh.specialSets[\"MaxJ_VertexSet\"]:\n",
    "    temperatureField.data[index] = TS"
   ]
  },
  {
   "cell_type": "markdown",
   "metadata": {
    "collapsed": false
   },
   "source": [
    "#Material properties\n"
   ]
  },
  {
   "cell_type": "code",
   "execution_count": 23,
   "metadata": {
    "collapsed": false
   },
   "outputs": [],
   "source": [
    "#Make variables required for plasticity\n",
    "\n",
    "secinvCopy = fn.tensor.second_invariant( \n",
    "                            fn.tensor.symmetric( \n",
    "                            velocityField.fn_gradient ))\n"
   ]
  },
  {
   "cell_type": "code",
   "execution_count": 24,
   "metadata": {
    "collapsed": true
   },
   "outputs": [],
   "source": [
    "coordinate = fn.input()"
   ]
  },
  {
   "cell_type": "code",
   "execution_count": 25,
   "metadata": {
    "collapsed": false
   },
   "outputs": [],
   "source": [
    "#Remember to use floats everywhere when setting up functions\n",
    "\n",
    "#Linear viscosities\n",
    "#viscosityl1 = fn.math.exp((math.log(ETA_T)*-1*temperatureField) + (math.log(ETA_T)*-1*0.64))\n",
    "viscosityl1 = fn.math.exp(math.log(ETA_T)*-1.*temperatureField)\n",
    "\n",
    "viscosityl2 = fn.math.exp((math.log(ETA_T)*-1.*temperatureField) + (1.-coordinate[1])*math.log(ETA_Y))\n",
    "\n",
    "viscosityFn1 = viscosityl1 #This one always gets passed to the first velcotity solve\n",
    "\n",
    "#Von Mises effective viscosity\n",
    "viscosityp = ETA0 + YSTRESS/(secinvCopy/math.sqrt(0.5)) #extra factor to account for underworld second invariant form\n",
    "\n",
    "\n",
    "if CASE == 1:\n",
    "    viscosityFn2 = viscosityFn1\n",
    "elif CASE == 2:\n",
    "    viscosityFn2 = 2./(1./viscosityl1 + 1./viscosityp)\n",
    "elif CASE == 3:\n",
    "    viscosityFn2 = viscosityl2\n",
    "else:\n",
    "    viscosityFn2 = 2./(1./viscosityl2 + 1./viscosityp)\n"
   ]
  },
  {
   "cell_type": "code",
   "execution_count": 26,
   "metadata": {
    "collapsed": false
   },
   "outputs": [
    {
     "name": "stdout",
     "output_type": "stream",
     "text": [
      "(100.0, 100000.0, 10.0, 0.001, 1.0)\n"
     ]
    }
   ],
   "source": [
    "print(RA, ETA_T, ETA_Y, ETA0, YSTRESS)"
   ]
  },
  {
   "cell_type": "markdown",
   "metadata": {},
   "source": [
    "Set up simulation parameters and functions\n",
    "====\n",
    "\n",
    "Here the functions for density, viscosity etc. are set. These functions and/or values are preserved for the entire simulation time. "
   ]
  },
  {
   "cell_type": "code",
   "execution_count": 27,
   "metadata": {
    "collapsed": true
   },
   "outputs": [],
   "source": [
    "densityFn = RA*temperatureField\n",
    "\n",
    "# define our vertical unit vector using a python tuple (this will be automatically converted to a function)\n",
    "z_hat = ( 0.0, 1.0 )\n",
    "\n",
    "# now create a buoyancy force vector using the density (FEvariable) and the vertical unit vector. \n",
    "# The result from which will also be a FEvariable.\n",
    "buoyancyFn = z_hat * densityFn "
   ]
  },
  {
   "cell_type": "markdown",
   "metadata": {},
   "source": [
    "Build the Stokes system, solvers, advection-diffusion\n",
    "------\n",
    "\n",
    "Setup linear Stokes system to get the initial velocity."
   ]
  },
  {
   "cell_type": "code",
   "execution_count": 28,
   "metadata": {
    "collapsed": false
   },
   "outputs": [],
   "source": [
    "#We first set up a l\n",
    "stokesPIC = uw.systems.Stokes(velocityField=velocityField, \n",
    "                              pressureField=pressureField,\n",
    "                              conditions=[freeslipBC,],\n",
    "#                              viscosityFn=viscosityFn1, \n",
    "                              fn_viscosity=fn.exception.SafeMaths(viscosityFn1), \n",
    "                              fn_bodyforce=buoyancyFn)"
   ]
  },
  {
   "cell_type": "markdown",
   "metadata": {},
   "source": [
    "We do one solve with linear viscosity to get the initial strain rate invariant. This solve step also calculates a 'guess' of the the velocity field based on the linear system, which is used later in the non-linear solver."
   ]
  },
  {
   "cell_type": "code",
   "execution_count": 29,
   "metadata": {
    "collapsed": false
   },
   "outputs": [],
   "source": [
    "solver = uw.systems.Solver(stokesPIC)\n",
    "solver.solve() "
   ]
  },
  {
   "cell_type": "code",
   "execution_count": 30,
   "metadata": {
    "collapsed": false
   },
   "outputs": [],
   "source": [
    "# Setup the Stokes system again, now with linear or nonlinear visocity viscosity.\n",
    "stokesPIC2 = uw.systems.Stokes(velocityField=velocityField, \n",
    "                              pressureField=pressureField,\n",
    "                              conditions=[freeslipBC,],\n",
    "                              fn_viscosity=fn.exception.SafeMaths(viscosityFn2), \n",
    "                              fn_bodyforce=buoyancyFn )"
   ]
  },
  {
   "cell_type": "code",
   "execution_count": 31,
   "metadata": {
    "collapsed": false
   },
   "outputs": [],
   "source": [
    "solver = uw.systems.Solver(stokesPIC2) # altered from PIC2"
   ]
  },
  {
   "cell_type": "markdown",
   "metadata": {},
   "source": [
    "Solve for initial pressure and velocity using a quick non-linear Picard iteration\n"
   ]
  },
  {
   "cell_type": "code",
   "execution_count": 32,
   "metadata": {
    "collapsed": false
   },
   "outputs": [],
   "source": [
    "solver.solve(nonLinearIterate=True)"
   ]
  },
  {
   "cell_type": "markdown",
   "metadata": {},
   "source": [
    "Create an advective-diffusive system\n",
    "=====\n",
    "\n",
    "Setup the system in underworld by flagging the temperature and velocity field variables."
   ]
  },
  {
   "cell_type": "code",
   "execution_count": 33,
   "metadata": {
    "collapsed": false
   },
   "outputs": [],
   "source": [
    "\n",
    "advDiff = uw.systems.AdvectionDiffusion( phiField       = temperatureField, \n",
    "                                         phiDotField    = temperatureDotField, \n",
    "                                         velocityField  = velocityField, \n",
    "                                         fn_diffusivity = 1.0, \n",
    "                                         conditions     = [tempBC,] )"
   ]
  },
  {
   "cell_type": "markdown",
   "metadata": {},
   "source": [
    "Metrics for benchmark\n",
    "=====\n",
    "\n",
    "Define functions to be used in the time loop. For cases 1-4, participants were asked to report a number of diagnostic quantities to be measured after reaching steady state:\n",
    "\n",
    "* Average temp... $$  \\langle T \\rangle  = \\int^1_0 \\int^1_0 T \\, dxdy $$\n",
    "* Top and bottom Nusselt numbers... $$N = \\int^1_0 \\frac{\\partial T}{\\partial y} \\rvert_{y=0/1} \\, dx$$\n",
    "* RMS velocity over the whole domain, surface and max velocity at surface\n",
    "* max and min viscosity over the whole domain\n",
    "* average rate of work done against gravity...$$\\langle W \\rangle = \\int^1_0 \\int^1_0 T u_y \\, dx dy$$\n",
    "* and the average rate of viscous dissipation...$$\\langle \\Phi \\rangle = \\int^1_0 \\int^1_0 \\tau_{ij} \\dot \\epsilon_{ij} \\, dx dy$$\n",
    "\n",
    "* In steady state, if thermal energy is accurately conserved, the difference between $\\langle W \\rangle$ and $\\langle \\Phi \\rangle / Ra$ must vanish, so also reported is the percentage error: \n",
    "\n",
    "$$ \\delta = \\frac{\\lvert \\langle W \\rangle - \\frac{\\langle \\Phi \\rangle}{Ra} \\rvert}{max \\left(  \\langle W \\rangle,  \\frac{\\langle \\Phi \\rangle}{Ra}\\right)} \\times 100% $$"
   ]
  },
  {
   "cell_type": "code",
   "execution_count": 38,
   "metadata": {
    "collapsed": false
   },
   "outputs": [],
   "source": [
    "#Setup some Integrals. We want these outside the main loop...\n",
    "tempint = uw.utils.Integral(temperatureField, mesh)\n",
    "areaint = uw.utils.Integral(1.,mesh)\n",
    "\n",
    "v2int = uw.utils.Integral(fn.math.dot(velocityField,velocityField), mesh)\n",
    "topareaint = uw.utils.Integral((topField*1.),mesh)\n",
    "\n",
    "dwint = uw.utils.Integral(temperatureField*velocityField[1], mesh)\n",
    "\n",
    "secinv = fn.tensor.second_invariant(\n",
    "                    fn.tensor.symmetric(\n",
    "                        velocityField.fn_gradient))\n",
    "\n",
    "sinner = fn.math.dot(secinv,secinv)\n",
    "vdint = uw.utils.Integral((4.*viscosityFn2*sinner), mesh)"
   ]
  },
  {
   "cell_type": "code",
   "execution_count": 49,
   "metadata": {
    "collapsed": false
   },
   "outputs": [],
   "source": [
    "def avg_temp():\n",
    "    return tempint.evaluate()[0]/areaint.evaluate()[0]\n",
    "\n",
    "\n",
    "def nusseltNumber(temperatureField, temperatureMesh, indexSet):\n",
    "    tempgradField = temperatureField.fn_gradient\n",
    "    vertGradField = tempgradField[1]\n",
    "    Nu = uw.utils.Integral(vertGradField , mesh=temperatureMesh, integrationType='Surface', surfaceIndexSet=indexSet)\n",
    "    return Nu.evaluate()[0]\n",
    "\n",
    "\n",
    "def rms():\n",
    "    return math.sqrt(v2int.evaluate()[0])\n",
    "\n",
    "\n",
    "#This one gets cleaned up when Surface integrals are available\n",
    "def rmsBoundary(velocityField, velocityMesh, indexSet):\n",
    "    v2fn = fn.math.dot(velocityField,velocityField)\n",
    "    v2int = uw.utils.Integral(v2fn, mesh=velocityMesh, integrationType='Surface', surfaceIndexSet=indexSet)\n",
    "    rmsbound = math.sqrt(v2int.evaluate()[0]) \n",
    "    return rmsbound\n",
    "    \n",
    "    \n",
    "    fn.math.dot(velocityField,np.array([1.,0.]))\n",
    "    return math.sqrt(v2int.evaluate()[0]/topareaint.evaluate()[0])\n",
    "\n",
    "def max_vx_surf(velfield, mesh):\n",
    "    vuvelxfn = fn.view.min_max(velfield[0])\n",
    "    vuvelxfn.evaluate(mesh.specialSets[\"MaxJ_VertexSet\"])\n",
    "    return vuvelxfn.max_global()\n",
    "\n",
    "def gravwork(workfn):\n",
    "    return workfn.evaluate()[0]\n",
    "\n",
    "def viscdis(vdissfn):\n",
    "    return vdissfn.evaluate()[0]\n",
    "\n",
    "def visc_extr(viscfn):\n",
    "    vuviscfn = fn.view.min_max(viscfn)\n",
    "    vuviscfn.evaluate(mesh)\n",
    "    return vuviscfn.max_global(), vuviscfn.min_global()"
   ]
  },
  {
   "cell_type": "code",
   "execution_count": 50,
   "metadata": {
    "collapsed": false
   },
   "outputs": [
    {
     "data": {
      "text/plain": [
       "0.5000000717380539"
      ]
     },
     "execution_count": 50,
     "metadata": {},
     "output_type": "execute_result"
    }
   ],
   "source": [
    "avg_temp()"
   ]
  },
  {
   "cell_type": "code",
   "execution_count": 51,
   "metadata": {
    "collapsed": false
   },
   "outputs": [],
   "source": [
    "#Fields for saving data / fields\n",
    "\n",
    "rmsField = uw.mesh.MeshVariable( mesh=mesh,   nodeDofCount=1)\n",
    "rmsfn = fn.math.sqrt(fn.math.dot(velocityField,velocityField))\n",
    "rmsdata = rmsfn.evaluate(mesh)\n",
    "rmsField.data[:] = rmsdata \n",
    "\n",
    "viscField = uw.mesh.MeshVariable( mesh=mesh,   nodeDofCount=1)\n",
    "viscdata = viscosityFn2.evaluate(mesh)\n",
    "viscField.data[:] = viscdata\n",
    "\n",
    "\n",
    "stressField = uw.mesh.MeshVariable( mesh=mesh,   nodeDofCount=1)\n",
    "srtdata = fn.tensor.second_invariant( \n",
    "                    fn.tensor.symmetric( \n",
    "                        velocityField.fn_gradient ))\n",
    "\n",
    "rostfield = srtdata.evaluate(mesh)\n",
    "stressinv = 2*viscdata*rostfield[:]\n",
    "stressField.data[:] = stressinv"
   ]
  },
  {
   "cell_type": "markdown",
   "metadata": {},
   "source": [
    "Main simulation loop\n",
    "=======\n",
    "\n",
    "The main time stepping loop begins here. Before this the time and timestep are initialised to zero and the output statistics arrays are set up. Also the frequency of outputting basic statistics to the screen is set in steps_output.\n"
   ]
  },
  {
   "cell_type": "code",
   "execution_count": 52,
   "metadata": {
    "collapsed": false
   },
   "outputs": [],
   "source": [
    "realtime = 0.\n",
    "step = 0\n",
    "timevals = [0.]\n",
    "steps_end = 10\n",
    "steps_output = 1e6\n",
    "steps_display_info = 20"
   ]
  },
  {
   "cell_type": "code",
   "execution_count": 53,
   "metadata": {
    "collapsed": false
   },
   "outputs": [
    {
     "name": "stdout",
     "output_type": "stream",
     "text": [
      "steps =     20; time = 2.969e-03; v_rms = 0.986; Nu0 = -1.001; Nu1 = -1.001\n"
     ]
    },
    {
     "ename": "KeyboardInterrupt",
     "evalue": "",
     "output_type": "error",
     "traceback": [
      "\u001b[0;31m---------------------------------------------------------------------------\u001b[0m",
      "\u001b[0;31mKeyboardInterrupt\u001b[0m                         Traceback (most recent call last)",
      "\u001b[0;32m<ipython-input-53-09da54dc1392>\u001b[0m in \u001b[0;36m<module>\u001b[0;34m()\u001b[0m\n\u001b[1;32m      7\u001b[0m \u001b[0;31m#while step < steps_end:\u001b[0m\u001b[0;34m\u001b[0m\u001b[0;34m\u001b[0m\u001b[0m\n\u001b[1;32m      8\u001b[0m     \u001b[0;31m#Enter non-linear loop\u001b[0m\u001b[0;34m\u001b[0m\u001b[0;34m\u001b[0m\u001b[0m\n\u001b[0;32m----> 9\u001b[0;31m     \u001b[0msolver\u001b[0m\u001b[0;34m.\u001b[0m\u001b[0msolve\u001b[0m\u001b[0;34m(\u001b[0m\u001b[0mnonLinearIterate\u001b[0m\u001b[0;34m=\u001b[0m\u001b[0mTrue\u001b[0m\u001b[0;34m)\u001b[0m\u001b[0;34m\u001b[0m\u001b[0m\n\u001b[0m\u001b[1;32m     10\u001b[0m     \u001b[0mdt\u001b[0m \u001b[0;34m=\u001b[0m \u001b[0madvDiff\u001b[0m\u001b[0;34m.\u001b[0m\u001b[0mget_max_dt\u001b[0m\u001b[0;34m(\u001b[0m\u001b[0;34m)\u001b[0m\u001b[0;34m\u001b[0m\u001b[0m\n\u001b[1;32m     11\u001b[0m     \u001b[0;32mif\u001b[0m \u001b[0mstep\u001b[0m \u001b[0;34m==\u001b[0m \u001b[0;36m0\u001b[0m\u001b[0;34m:\u001b[0m\u001b[0;34m\u001b[0m\u001b[0m\n",
      "\u001b[0;32m/Users/dansandiford/Documents/programming/newinterface/underworld2/underworld/systems/_bsscr.pyc\u001b[0m in \u001b[0;36msolve\u001b[0;34m(self, nonLinearIterate, print_stats, **kwargs)\u001b[0m\n\u001b[1;32m    345\u001b[0m         \u001b[0;31m# solve\u001b[0m\u001b[0;34m\u001b[0m\u001b[0;34m\u001b[0m\u001b[0m\n\u001b[1;32m    346\u001b[0m         \u001b[0;32mif\u001b[0m \u001b[0mnonLinear\u001b[0m \u001b[0;32mand\u001b[0m \u001b[0mnonLinearIterate\u001b[0m\u001b[0;34m:\u001b[0m\u001b[0;34m\u001b[0m\u001b[0m\n\u001b[0;32m--> 347\u001b[0;31m             \u001b[0mlibUnderworld\u001b[0m\u001b[0;34m.\u001b[0m\u001b[0mStgFEM\u001b[0m\u001b[0;34m.\u001b[0m\u001b[0mSystemLinearEquations_NonLinearExecute\u001b[0m\u001b[0;34m(\u001b[0m\u001b[0mself\u001b[0m\u001b[0;34m.\u001b[0m\u001b[0m_stokesSLE\u001b[0m\u001b[0;34m.\u001b[0m\u001b[0m_cself\u001b[0m\u001b[0;34m,\u001b[0m \u001b[0mNone\u001b[0m\u001b[0;34m)\u001b[0m\u001b[0;34m\u001b[0m\u001b[0m\n\u001b[0m\u001b[1;32m    348\u001b[0m         \u001b[0;32melse\u001b[0m\u001b[0;34m:\u001b[0m\u001b[0;34m\u001b[0m\u001b[0m\n\u001b[1;32m    349\u001b[0m             \u001b[0mlibUnderworld\u001b[0m\u001b[0;34m.\u001b[0m\u001b[0mStgFEM\u001b[0m\u001b[0;34m.\u001b[0m\u001b[0mSystemLinearEquations_ExecuteSolver\u001b[0m\u001b[0;34m(\u001b[0m\u001b[0mself\u001b[0m\u001b[0;34m.\u001b[0m\u001b[0m_stokesSLE\u001b[0m\u001b[0;34m.\u001b[0m\u001b[0m_cself\u001b[0m\u001b[0;34m,\u001b[0m \u001b[0mNone\u001b[0m\u001b[0;34m)\u001b[0m\u001b[0;34m\u001b[0m\u001b[0m\n",
      "\u001b[0;31mKeyboardInterrupt\u001b[0m: "
     ]
    }
   ],
   "source": [
    "# initialise timer for computation\n",
    "start = time.clock()\n",
    "# setup summary output file (name above)\n",
    "f_o = open(outputPath+outputFile, 'w')\n",
    "# Perform steps\n",
    "while realtime < 0.25:\n",
    "#while step < steps_end:\n",
    "    #Enter non-linear loop\n",
    "    solver.solve(nonLinearIterate=True)\n",
    "    dt = advDiff.get_max_dt()\n",
    "    if step == 0:\n",
    "        dt = 0.\n",
    "    # Advect using this timestep size   \n",
    "    advDiff.integrate(dt)\n",
    "    # Increment\n",
    "    realtime += dt\n",
    "    step += 1\n",
    "    timevals.append(realtime)\n",
    "    # Calculate the Metrics, only on 1 of the processors:\n",
    "    Avg_temp = avg_temp()\n",
    "    Rms = rms()\n",
    "    Rms_surf = rmsBoundary(velocityField,mesh, TWalls)\n",
    "    Max_vx_surf = max_vx_surf(velocityField, mesh)\n",
    "    Gravwork = gravwork(dwint)\n",
    "    Viscdis = viscdis(vdint)\n",
    "    nu0, nu1 = nusseltNumber(temperatureField, mesh, BWalls), nusseltNumber(temperatureField, mesh, TWalls)\n",
    "    etamax, etamin = visc_extr(viscosityFn2)\n",
    "    # output to summary text file\n",
    "    if uw.rank()==0:\n",
    "        f_o.write((11*'%-15s ' + '\\n') % (realtime, Viscdis, nu0, nu1, Avg_temp, Rms,Rms_surf,Max_vx_surf,Gravwork, etamax, etamin))\n",
    "   \n",
    "    if step %  steps_display_info == 0:\n",
    "        print('steps = {0:6d}; time = {1:.3e}; v_rms = {2:.3f}; Nu0 = {3:.3f}; Nu1 = {3:.3f}'\n",
    "          .format(step, realtime, Rms, nu0, nu1))\n",
    "    # output image to file\n",
    "    if (step % steps_output == 0) & (writeFiles == True):\n",
    "        ##Files to save\n",
    "        #Temp\n",
    "        fnametemp = \"temperatureField\" + \"_\" + str(CASE) + \"_\" + str(step) + \".hdf5\"\n",
    "        fullpath = os.path.join(outputPath + \"files/\" + fnametemp)\n",
    "        temperatureField.save(fullpath)\n",
    "        #RMS\n",
    "        fnamerms = \"rmsField\" + \"_\" + str(CASE) + \"_\" + str(step) + \".hdf5\"\n",
    "        fullpath = os.path.join(outputPath + \"files/\" + fnamerms)\n",
    "        rmsField.save(fullpath)\n",
    "        #Viscosity\n",
    "        fnamevisc = \"viscField\" + \"_\" + str(CASE) + \"_\" + str(step) + \".hdf5\"\n",
    "        fullpath = os.path.join(outputPath + \"files/\" + fnamevisc)\n",
    "        viscField.save(fullpath)\n",
    "        #Stress\n",
    "        fnamestress = \"stressField\" + \"_\" + str(CASE) + \"_\" + str(step) + \".hdf5\"\n",
    "        fullpath = os.path.join(outputPath + \"files/\" + fnamestress)\n",
    "        stressField.save(fullpath)\n",
    "f_o.close()"
   ]
  },
  {
   "cell_type": "code",
   "execution_count": 68,
   "metadata": {
    "collapsed": false
   },
   "outputs": [
    {
     "data": {
      "text/html": [
       "<img src='data:image/png;base64,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'>"
      ],
      "text/plain": [
       "<IPython.core.display.HTML object>"
      ]
     },
     "execution_count": 68,
     "metadata": {},
     "output_type": "execute_result"
    }
   ],
   "source": [
    "figTemp = glucifer.Figure()\n",
    "figTemp.append( glucifer.objects.Surface(mesh, temperatureField))\n",
    "#figTemp.append( glucifer.objects.Mesh(mesh))\n",
    "\n",
    "figTemp.append( glucifer.objects.VectorArrows(mesh,velocityField, arrowHead=0.2, scaling=0.05))\n",
    "#figTemp.save_database('test.gldb')\n",
    "figTemp.show()"
   ]
  },
  {
   "cell_type": "code",
   "execution_count": 41,
   "metadata": {
    "collapsed": false
   },
   "outputs": [
    {
     "name": "stdout",
     "output_type": "stream",
     "text": [
      "(5.480530999999999, 0.0006249999999999956)\n"
     ]
    }
   ],
   "source": [
    "print(time.clock()-start, realtime)"
   ]
  },
  {
   "cell_type": "code",
   "execution_count": null,
   "metadata": {
    "collapsed": true
   },
   "outputs": [],
   "source": []
  }
 ],
 "metadata": {
  "kernelspec": {
   "display_name": "Python 2",
   "language": "python",
   "name": "python2"
  },
  "language_info": {
   "codemirror_mode": {
    "name": "ipython",
    "version": 2
   },
   "file_extension": ".py",
   "mimetype": "text/x-python",
   "name": "python",
   "nbconvert_exporter": "python",
   "pygments_lexer": "ipython2",
   "version": "2.7.11"
  }
 },
 "nbformat": 4,
 "nbformat_minor": 0
}
