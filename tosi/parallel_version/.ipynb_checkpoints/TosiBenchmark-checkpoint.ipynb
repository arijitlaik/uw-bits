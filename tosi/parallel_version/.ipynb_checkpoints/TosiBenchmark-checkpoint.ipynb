{
 "cells": [
  {
   "cell_type": "markdown",
   "metadata": {
    "collapsed": true
   },
   "source": [
    "\n",
    "Viscoplastic thermal convection in a 2-D square box\n",
    "=======\n",
    "\n",
    "Benchmarks from Tosi et al. 2015\n",
    "--------\n",
    "\n"
   ]
  },
  {
   "cell_type": "markdown",
   "metadata": {
    "collapsed": true
   },
   "source": [
    "This notebook generates models from the <a name=\"ref-1\"/>[(Tosi et al., 2015)](#cite-tosi2015community) in Underworld2. The Underworld2 results are compared to the model run on Fenics. Input files for the Fenics models were provided by Petra Maierova.\n",
    "\n",
    "This example uses the RT PIC solver with classic and nearest neighbour\n",
    "\n",
    "\n",
    "References\n",
    "====\n",
    "\n",
    "<a name=\"cite-tosi2015community\"/><sup>[^](#ref-1) </sup>Tosi, Nicola and Stein, Claudia and Noack, Lena and H&uuml;ttig, Christian and Maierov&aacute;, Petra and Samuel, Henri and Davies, DR and Wilson, CR and Kramer, SC and Thieulot, Cedric and others. 2015. _A community benchmark for viscoplastic thermal convection in a 2-D square box_.\n",
    "\n"
   ]
  },
  {
   "cell_type": "markdown",
   "metadata": {},
   "source": [
    "Load python functions needed for underworld. Some additional python functions from os, math and numpy used later on."
   ]
  },
  {
   "cell_type": "code",
   "execution_count": 1,
   "metadata": {
    "collapsed": false
   },
   "outputs": [],
   "source": [
    "import underworld as uw\n",
    "import math\n",
    "from underworld import function as fn\n",
    "import glucifer\n",
    "import matplotlib.pyplot as pyplot\n",
    "import time\n",
    "import numpy as np\n",
    "import os"
   ]
  },
  {
   "cell_type": "markdown",
   "metadata": {},
   "source": [
    "Set physical constants and parameters, including the Rayleigh number (*RA*). "
   ]
  },
  {
   "cell_type": "code",
   "execution_count": 2,
   "metadata": {
    "collapsed": true
   },
   "outputs": [],
   "source": [
    "#Do you want to write hdf5 files - Temp, RMS, viscosity, stress?\n",
    "writeFiles = False"
   ]
  },
  {
   "cell_type": "code",
   "execution_count": 3,
   "metadata": {
    "collapsed": false
   },
   "outputs": [],
   "source": [
    "#ETA_T = 1e5\n",
    "#newvisc = math.exp(math.log(ETA_T)*0.64)\n",
    "#newvisc"
   ]
  },
  {
   "cell_type": "code",
   "execution_count": 4,
   "metadata": {
    "collapsed": false
   },
   "outputs": [],
   "source": [
    "case_dict = {}\n",
    "case_dict[1] = {}\n",
    "case_dict[1]['ETA_Y'] = 1.\n",
    "case_dict[1]['YSTRESS'] = 1.\n",
    "\n",
    "case_dict[2] = {}\n",
    "case_dict[2]['ETA_Y'] = 1.\n",
    "case_dict[2]['YSTRESS'] = 1.\n",
    "\n",
    "case_dict[3] = {}\n",
    "case_dict[3]['ETA_Y'] = 10.\n",
    "\n",
    "case_dict[4] = {}\n",
    "case_dict[4]['ETA_Y'] = 10.\n",
    "case_dict[4]['YSTRESS'] = 1.\n",
    "\n",
    "case_dict[5] = {}\n",
    "case_dict[5]['ETA_Y'] = 10.\n",
    "case_dict[5]['YSTRESS'] = 4."
   ]
  },
  {
   "cell_type": "code",
   "execution_count": 5,
   "metadata": {
    "collapsed": false
   },
   "outputs": [],
   "source": [
    "CASE = 4 # select identifier of the testing case (1-5)"
   ]
  },
  {
   "cell_type": "code",
   "execution_count": 6,
   "metadata": {
    "collapsed": false
   },
   "outputs": [],
   "source": [
    "RA  = 1e2        # Rayleigh number\n",
    "TS  = 0          # surface temperature\n",
    "TB  = 1          # bottom boundary temperature (melting point)\n",
    "ETA_T = 1e5\n",
    "ETA_Y = case_dict[CASE]['ETA_Y']\n",
    "ETA0 = 1e-3\n",
    "TMAX = 3.0\n",
    "IMAX = 1000\n",
    "YSTRESS = case_dict[CASE]['YSTRESS']\n",
    "RES = 40"
   ]
  },
  {
   "cell_type": "markdown",
   "metadata": {},
   "source": [
    "Alternatively, use a reference viscosity identical to Crameri and Tackley, i.e. normalised at 0.64.\n",
    "In this case the Rayligh number would go to:"
   ]
  },
  {
   "cell_type": "code",
   "execution_count": 7,
   "metadata": {
    "collapsed": false
   },
   "outputs": [
    {
     "data": {
      "text/plain": [
       "1584.8931924611143"
      ]
     },
     "execution_count": 7,
     "metadata": {},
     "output_type": "execute_result"
    }
   ],
   "source": [
    "math.exp(math.log(10**5)*0.64)"
   ]
  },
  {
   "cell_type": "code",
   "execution_count": 8,
   "metadata": {
    "collapsed": false
   },
   "outputs": [],
   "source": [
    "#RA2/RA == newvisc"
   ]
  },
  {
   "cell_type": "code",
   "execution_count": 9,
   "metadata": {
    "collapsed": false
   },
   "outputs": [],
   "source": [
    "#RA2 = RA *math.exp(math.log(10**5)*0.64)\n",
    "#print('new Rayleigh number would be: ' + str(RA2))"
   ]
  },
  {
   "cell_type": "code",
   "execution_count": 10,
   "metadata": {
    "collapsed": false
   },
   "outputs": [],
   "source": [
    "#print(str(RA2), str(ETA0), str(YSTRESS))"
   ]
  },
  {
   "cell_type": "markdown",
   "metadata": {},
   "source": [
    "Simulation parameters. Resolution in the horizontal (*Xres*) and vertical (*Yres*) directions."
   ]
  },
  {
   "cell_type": "code",
   "execution_count": 11,
   "metadata": {
    "collapsed": true
   },
   "outputs": [],
   "source": [
    "\n",
    "dim = 2          # number of spatial dimensions"
   ]
  },
  {
   "cell_type": "markdown",
   "metadata": {},
   "source": [
    "Select which case of viscosity from Tosi et al (2015) to use. Adjust the yield stress to be =1 for cases 1-4, or between 3.0 and 5.0 (in increments of 0.1) in case 5."
   ]
  },
  {
   "cell_type": "markdown",
   "metadata": {},
   "source": [
    "Set output file and directory for results"
   ]
  },
  {
   "cell_type": "code",
   "execution_count": 12,
   "metadata": {
    "collapsed": false
   },
   "outputs": [],
   "source": [
    "outputPath = 'TosiOutput/'\n",
    "imagePath = 'TosiOutput/images'\n",
    "filePath = 'TosiOutput/files'\n",
    "dbPath = 'TosiOutput/gldbs'\n",
    "outputFile = 'results_case' + str(CASE) + '.dat'\n",
    "\n",
    "\n",
    "# make directories if they don't exist\n",
    "if not os.path.isdir(outputPath):\n",
    "    os.makedirs(outputPath)\n",
    "if not os.path.isdir(imagePath):\n",
    "    os.makedirs(imagePath)\n",
    "if not os.path.isdir(dbPath):\n",
    "    os.makedirs(dbPath)\n",
    "if not os.path.isdir(filePath):\n",
    "    os.makedirs(filePath)"
   ]
  },
  {
   "cell_type": "markdown",
   "metadata": {},
   "source": [
    "Create mesh objects. These store the indices and spatial coordiates of the grid points on the mesh."
   ]
  },
  {
   "cell_type": "code",
   "execution_count": 13,
   "metadata": {
    "collapsed": false
   },
   "outputs": [],
   "source": [
    "elementMesh = uw.mesh.FeMesh_Cartesian( elementType=(\"Q1/dQ0\"), \n",
    "                                         elementRes=(RES, RES), \n",
    "                                           minCoord=(0.,0.), \n",
    "                                           maxCoord=(1.,1.)  )\n",
    "linearMesh   = elementMesh\n",
    "constantMesh = elementMesh.subMesh "
   ]
  },
  {
   "cell_type": "markdown",
   "metadata": {},
   "source": [
    "Create Finite Element (FE) variables for the velocity, pressure and temperature fields. The last two of these are scalar fields needing only one value at each mesh point, while the velocity field contains a vector of *dim* dimensions at each mesh point."
   ]
  },
  {
   "cell_type": "code",
   "execution_count": 14,
   "metadata": {
    "collapsed": true
   },
   "outputs": [],
   "source": [
    "velocityField    = uw.fevariable.FeVariable( feMesh=linearMesh,   nodeDofCount=dim )\n",
    "pressureField    = uw.fevariable.FeVariable( feMesh=constantMesh, nodeDofCount=1 )\n",
    "temperatureField = uw.fevariable.FeVariable( feMesh=linearMesh,   nodeDofCount=1 )\n",
    "temperatureDotField = uw.fevariable.FeVariable( feMesh=linearMesh,      nodeDofCount=1 )"
   ]
  },
  {
   "cell_type": "markdown",
   "metadata": {},
   "source": [
    "Create some dummy fevariables for doing top and bottom boundary calculations."
   ]
  },
  {
   "cell_type": "code",
   "execution_count": 15,
   "metadata": {
    "collapsed": false
   },
   "outputs": [],
   "source": [
    "topField    = uw.fevariable.FeVariable( feMesh=linearMesh,   nodeDofCount=1)\n",
    "bottomField    = uw.fevariable.FeVariable( feMesh=linearMesh,   nodeDofCount=1)\n",
    "\n",
    "topField.data[:] = 0.\n",
    "bottomField.data[:] = 0.\n",
    "\n",
    "# lets ensure temp boundaries are still what we want \n",
    "# on the boundaries\n",
    "for index in linearMesh.specialSets[\"MinJ_VertexSet\"]:\n",
    "    bottomField.data[index] = 1.\n",
    "for index in linearMesh.specialSets[\"MaxJ_VertexSet\"]:\n",
    "    topField.data[index] = 1."
   ]
  },
  {
   "cell_type": "markdown",
   "metadata": {},
   "source": [
    "#ICs and BCs"
   ]
  },
  {
   "cell_type": "code",
   "execution_count": 16,
   "metadata": {
    "collapsed": false
   },
   "outputs": [],
   "source": [
    "# Initialise data.. Note that we are also setting boundary conditions here\n",
    "velocityField.data[:] = [0.,0.]\n",
    "pressureField.data[:] = 0.\n",
    "temperatureField.data[:] = 0.\n",
    "temperatureDotField.data[:] = 0.\n",
    "\n",
    "\n",
    "# Setup temperature initial condition via numpy arrays\n",
    "A = 0.01\n",
    "#Note that width = height = 1\n",
    "tempNump = temperatureField.data\n",
    "for index, coord in enumerate(linearMesh.data):\n",
    "    pertCoeff = (1- coord[1]) + A*math.cos( math.pi * coord[0] ) * math.sin( math.pi * coord[1] )\n",
    "    tempNump[index] = pertCoeff;\n",
    "    "
   ]
  },
  {
   "cell_type": "code",
   "execution_count": 17,
   "metadata": {
    "collapsed": false
   },
   "outputs": [],
   "source": [
    "# Get the actual sets \n",
    "#\n",
    "#  HJJJJJJH\n",
    "#  I      I\n",
    "#  I      I\n",
    "#  I      I\n",
    "#  HJJJJJJH\n",
    "#  \n",
    "#  Note that H = I & J \n",
    "\n",
    "# Note that we use operator overloading to combine sets\n",
    "IWalls = linearMesh.specialSets[\"MinI_VertexSet\"] + linearMesh.specialSets[\"MaxI_VertexSet\"]\n",
    "JWalls = linearMesh.specialSets[\"MinJ_VertexSet\"] + linearMesh.specialSets[\"MaxJ_VertexSet\"]\n",
    "TWalls = linearMesh.specialSets[\"MaxJ_VertexSet\"]\n",
    "BWalls = linearMesh.specialSets[\"MinJ_VertexSet\"]"
   ]
  },
  {
   "cell_type": "code",
   "execution_count": 18,
   "metadata": {
    "collapsed": true
   },
   "outputs": [],
   "source": [
    "# Now setup the dirichlet boundary condition\n",
    "# Note that through this object, we are flagging to the system \n",
    "# that these nodes are to be considered as boundary conditions. \n",
    "# Also note that we provide a tuple of sets.. One for the Vx, one for Vy.\n",
    "freeslipBC = uw.conditions.DirichletCondition(     variable=velocityField, \n",
    "                                              nodeIndexSets=(IWalls,JWalls) )\n",
    "\n",
    "# also set dirichlet for temp field\n",
    "tempBC = uw.conditions.DirichletCondition(     variable=temperatureField, \n",
    "                                              nodeIndexSets=(JWalls,) )"
   ]
  },
  {
   "cell_type": "code",
   "execution_count": 19,
   "metadata": {
    "collapsed": false
   },
   "outputs": [],
   "source": [
    "# Set temp boundaries \n",
    "# on the boundaries\n",
    "for index in linearMesh.specialSets[\"MinJ_VertexSet\"]:\n",
    "    temperatureField.data[index] = TB\n",
    "for index in linearMesh.specialSets[\"MaxJ_VertexSet\"]:\n",
    "    temperatureField.data[index] = TS"
   ]
  },
  {
   "cell_type": "markdown",
   "metadata": {
    "collapsed": false
   },
   "source": [
    "#Material properties\n"
   ]
  },
  {
   "cell_type": "code",
   "execution_count": 20,
   "metadata": {
    "collapsed": false
   },
   "outputs": [],
   "source": [
    "#Make variables required for plasticity\n",
    "\n",
    "secinvCopy = fn.tensor.second_invariant( \n",
    "                    fn.tensor.symmetric( \n",
    "                        velocityField.gradientFn ))\n"
   ]
  },
  {
   "cell_type": "code",
   "execution_count": 21,
   "metadata": {
    "collapsed": true
   },
   "outputs": [],
   "source": [
    "coordinate = fn.input()"
   ]
  },
  {
   "cell_type": "code",
   "execution_count": 22,
   "metadata": {
    "collapsed": false
   },
   "outputs": [],
   "source": [
    "#Remember to use floats everywhere when setting up functions\n",
    "\n",
    "#Linear viscosities\n",
    "#viscosityl1 = fn.math.exp((math.log(ETA_T)*-1*temperatureField) + (math.log(ETA_T)*-1*0.64))\n",
    "viscosityl1 = fn.math.exp(math.log(ETA_T)*-1.*temperatureField)\n",
    "\n",
    "viscosityl2 = fn.math.exp((math.log(ETA_T)*-1.*temperatureField) + (1.-coordinate[1])*math.log(ETA_Y))\n",
    "\n",
    "viscosityFn1 = viscosityl1 #This one always gets passed to the first velcotity solve\n",
    "\n",
    "#Von Mises effective viscosity\n",
    "viscosityp = ETA0 + YSTRESS/(secinvCopy/math.sqrt(0.5)) #extra factor to account for underworld second invariant form\n",
    "\n",
    "\n",
    "if CASE == 1:\n",
    "    viscosityFn2 = viscosityFn1\n",
    "elif CASE == 2:\n",
    "    viscosityFn2 = 2./(1./viscosityl1 + 1./viscosityp)\n",
    "elif CASE == 3:\n",
    "    viscosityFn2 = viscosityl2\n",
    "else:\n",
    "    viscosityFn2 = 2./(1./viscosityl2 + 1./viscosityp)\n"
   ]
  },
  {
   "cell_type": "code",
   "execution_count": 23,
   "metadata": {
    "collapsed": false
   },
   "outputs": [
    {
     "name": "stdout",
     "output_type": "stream",
     "text": [
      "(100.0, 100000.0, 10.0, 0.001, 1.0)\n"
     ]
    }
   ],
   "source": [
    "print(RA, ETA_T, ETA_Y, ETA0, YSTRESS)"
   ]
  },
  {
   "cell_type": "markdown",
   "metadata": {},
   "source": [
    "Set up simulation parameters and functions\n",
    "====\n",
    "\n",
    "Here the functions for density, viscosity etc. are set. These functions and/or values are preserved for the entire simulation time. "
   ]
  },
  {
   "cell_type": "code",
   "execution_count": 24,
   "metadata": {
    "collapsed": true
   },
   "outputs": [],
   "source": [
    "densityFn = RA*temperatureField\n",
    "\n",
    "# define our vertical unit vector using a python tuple (this will be automatically converted to a function)\n",
    "z_hat = ( 0.0, 1.0 )\n",
    "\n",
    "# now create a buoyancy force vector using the density (FEvariable) and the vertical unit vector. \n",
    "# The result from which will also be a FEvariable.\n",
    "buoyancyFn = z_hat * densityFn "
   ]
  },
  {
   "cell_type": "markdown",
   "metadata": {},
   "source": [
    "Build the Stokes system, solvers, advection-diffusion\n",
    "------\n",
    "\n",
    "Setup linear Stokes system to get the initial velocity."
   ]
  },
  {
   "cell_type": "code",
   "execution_count": 25,
   "metadata": {
    "collapsed": false
   },
   "outputs": [],
   "source": [
    "#We first set up a l\n",
    "stokesPIC = uw.systems.Stokes(velocityField=velocityField, \n",
    "                              pressureField=pressureField,\n",
    "                              conditions=[freeslipBC,],\n",
    "#                              viscosityFn=viscosityFn1, \n",
    "                              viscosityFn=fn.exception.SafeMaths(viscosityFn1), \n",
    "                              bodyForceFn=buoyancyFn)"
   ]
  },
  {
   "cell_type": "markdown",
   "metadata": {},
   "source": [
    "We do one solve with linear viscosity to get the initial strain rate invariant. This solve step also calculates a 'guess' of the the velocity field based on the linear system, which is used later in the non-linear solver."
   ]
  },
  {
   "cell_type": "code",
   "execution_count": 26,
   "metadata": {
    "collapsed": true
   },
   "outputs": [],
   "source": [
    "stokesPIC.solve()"
   ]
  },
  {
   "cell_type": "code",
   "execution_count": 27,
   "metadata": {
    "collapsed": false
   },
   "outputs": [],
   "source": [
    "# Setup the Stokes system again, now with linear or nonlinear visocity viscosity.\n",
    "stokesPIC2 = uw.systems.Stokes(velocityField=velocityField, \n",
    "                              pressureField=pressureField,\n",
    "                              conditions=[freeslipBC,],\n",
    "                              viscosityFn=fn.exception.SafeMaths(viscosityFn2), \n",
    "                              bodyForceFn=buoyancyFn )"
   ]
  },
  {
   "cell_type": "code",
   "execution_count": 28,
   "metadata": {
    "collapsed": false
   },
   "outputs": [],
   "source": [
    "solver = uw.systems.Solver(stokesPIC2) # altered from PIC2"
   ]
  },
  {
   "cell_type": "markdown",
   "metadata": {},
   "source": [
    "Solve for initial pressure and velocity using a quick non-linear Picard iteration\n"
   ]
  },
  {
   "cell_type": "code",
   "execution_count": 29,
   "metadata": {
    "collapsed": false
   },
   "outputs": [],
   "source": [
    "solver.solve(nonLinearIterate=True)"
   ]
  },
  {
   "cell_type": "markdown",
   "metadata": {},
   "source": [
    "Create an advective-diffusive system\n",
    "=====\n",
    "\n",
    "Setup the system in underworld by flagging the temperature and velocity field variables."
   ]
  },
  {
   "cell_type": "code",
   "execution_count": 30,
   "metadata": {
    "collapsed": false
   },
   "outputs": [],
   "source": [
    "# Create advdiff system\n",
    "#advDiff = uw.systems.AdvectionDiffusion( temperatureField, velocityField, diffusivity=1., conditions=[tempBC,] )\n",
    "advDiff = uw.systems.AdvectionDiffusion( temperatureField, temperatureDotField, velocityField, diffusivity=1., conditions=[tempBC,] )\n",
    "\n"
   ]
  },
  {
   "cell_type": "markdown",
   "metadata": {},
   "source": [
    "Metrics for benchmark\n",
    "=====\n",
    "\n",
    "Define functions to be used in the time loop. For cases 1-4, participants were asked to report a number of diagnostic quantities to be measured after reaching steady state:\n",
    "\n",
    "* Average temp... $$  \\langle T \\rangle  = \\int^1_0 \\int^1_0 T \\, dxdy $$\n",
    "* Top and bottom Nusselt numbers... $$N = \\int^1_0 \\frac{\\partial T}{\\partial y} \\rvert_{y=0/1} \\, dx$$\n",
    "* RMS velocity over the whole domain, surface and max velocity at surface\n",
    "* max and min viscosity over the whole domain\n",
    "* average rate of work done against gravity...$$\\langle W \\rangle = \\int^1_0 \\int^1_0 T u_y \\, dx dy$$\n",
    "* and the average rate of viscous dissipation...$$\\langle \\Phi \\rangle = \\int^1_0 \\int^1_0 \\tau_{ij} \\dot \\epsilon_{ij} \\, dx dy$$\n",
    "\n",
    "* In steady state, if thermal energy is accurately conserved, the difference between $\\langle W \\rangle$ and $\\langle \\Phi \\rangle / Ra$ must vanish, so also reported is the percentage error: \n",
    "\n",
    "$$ \\delta = \\frac{\\lvert \\langle W \\rangle - \\frac{\\langle \\Phi \\rangle}{Ra} \\rvert}{max \\left(  \\langle W \\rangle,  \\frac{\\langle \\Phi \\rangle}{Ra}\\right)} \\times 100% $$"
   ]
  },
  {
   "cell_type": "code",
   "execution_count": 31,
   "metadata": {
    "collapsed": true
   },
   "outputs": [],
   "source": [
    "#Setup some Integrals. We want these outside the main loop...\n",
    "tempint = uw.utils.Integral(temperatureField, linearMesh)\n",
    "areaint = uw.utils.Integral(1.,linearMesh)\n",
    "\n",
    "v2int = uw.utils.Integral(fn.math.dot(velocityField,velocityField), linearMesh)\n",
    "topareaint = uw.utils.Integral((topField*1.),linearMesh)\n",
    "\n",
    "dwint = uw.utils.Integral(temperatureField*velocityField[1], linearMesh)\n",
    "\n",
    "secinv = fn.tensor.second_invariant(\n",
    "                    fn.tensor.symmetric(\n",
    "                        velocityField.gradientFn ))\n",
    "\n",
    "sinner = fn.math.dot(secinv,secinv)\n",
    "vdint = uw.utils.Integral((4.*viscosityFn2*sinner), linearMesh)"
   ]
  },
  {
   "cell_type": "code",
   "execution_count": 32,
   "metadata": {
    "collapsed": false
   },
   "outputs": [],
   "source": [
    "def avg_temp():\n",
    "    return tempint.evaluate()[0]/areaint.evaluate()[0]\n",
    "\n",
    "\n",
    "def nusseltNumber(temperatureField, temperatureMesh, indexSet):\n",
    "    tempgradField = temperatureField.gradientFn\n",
    "    vertGradField = tempgradField[1]\n",
    "    Nu = uw.utils.Integral(vertGradField , mesh=temperatureMesh, integrationType='Surface', surfaceIndexSet=indexSet)\n",
    "    return Nu.evaluate()[0]\n",
    "\n",
    "\n",
    "def rms():\n",
    "    return math.sqrt(v2int.evaluate()[0])\n",
    "\n",
    "\n",
    "#This one gets cleaned up when Surface integrals are available\n",
    "def rmsBoundary(velocityField, velocityMesh, indexSet):\n",
    "    v2fn = fn.math.dot(velocityField,velocityField)\n",
    "    v2int = uw.utils.Integral(v2fn, mesh=velocityMesh, integrationType='Surface', surfaceIndexSet=indexSet)\n",
    "    rmsbound = math.sqrt(v2int.evaluate()[0]) \n",
    "    return rmsbound\n",
    "    \n",
    "    \n",
    "    fn.math.dot(velocityField,np.array([1.,0.]))\n",
    "    return math.sqrt(v2int.evaluate()[0]/topareaint.evaluate()[0])\n",
    "\n",
    "def max_vx_surf(velfield, mesh):\n",
    "    vuvelxfn = fn.view.min_max(velfield[0])\n",
    "    vuvelxfn.evaluate(mesh.specialSets[\"MaxJ_VertexSet\"])\n",
    "    return vuvelxfn.max_global()\n",
    "\n",
    "def gravwork(workfn):\n",
    "    return workfn.evaluate()[0]\n",
    "\n",
    "def viscdis(vdissfn):\n",
    "    return vdissfn.evaluate()[0]\n",
    "\n",
    "def visc_extr(viscfn):\n",
    "    vuviscfn = fn.view.min_max(viscfn)\n",
    "    vuviscfn.evaluate(linearMesh)\n",
    "    return vuviscfn.max_global(), vuviscfn.min_global()"
   ]
  },
  {
   "cell_type": "code",
   "execution_count": null,
   "metadata": {
    "collapsed": false
   },
   "outputs": [],
   "source": []
  },
  {
   "cell_type": "code",
   "execution_count": 33,
   "metadata": {
    "collapsed": false
   },
   "outputs": [],
   "source": [
    "#Fields for saving data / fields\n",
    "\n",
    "rmsField = uw.fevariable.FeVariable( feMesh=linearMesh,   nodeDofCount=1)\n",
    "rmsfn = fn.math.sqrt(fn.math.dot(velocityField,velocityField))\n",
    "rmsdata = rmsfn.evaluate(linearMesh)\n",
    "rmsField.data[:] = rmsdata \n",
    "\n",
    "viscField = uw.fevariable.FeVariable( feMesh=linearMesh,   nodeDofCount=1)\n",
    "viscdata = viscosityFn2.evaluate(linearMesh)\n",
    "viscField.data[:] = viscdata\n",
    "\n",
    "\n",
    "stressField = uw.fevariable.FeVariable( feMesh=linearMesh,   nodeDofCount=1)\n",
    "srtdata = fn.tensor.second_invariant( \n",
    "                    fn.tensor.symmetric( \n",
    "                        velocityField.gradientFn ))\n",
    "rostfield = srtdata.evaluate(linearMesh)\n",
    "stressinv = 2*viscdata*rostfield[:]\n",
    "stressField.data[:] = stressinv"
   ]
  },
  {
   "cell_type": "markdown",
   "metadata": {},
   "source": [
    "Main simulation loop\n",
    "=======\n",
    "\n",
    "The main time stepping loop begins here. Before this the time and timestep are initialised to zero and the output statistics arrays are set up. Also the frequency of outputting basic statistics to the screen is set in steps_output.\n"
   ]
  },
  {
   "cell_type": "code",
   "execution_count": 34,
   "metadata": {
    "collapsed": false
   },
   "outputs": [],
   "source": [
    "realtime = 0.\n",
    "step = 0\n",
    "timevals = [0.]\n",
    "steps_end = 5\n",
    "steps_output = 100\n",
    "steps_display_info = 20"
   ]
  },
  {
   "cell_type": "code",
   "execution_count": 35,
   "metadata": {
    "collapsed": false
   },
   "outputs": [],
   "source": [
    "# initialise timer for computation\n",
    "start = time.clock()\n",
    "# setup summary output file (name above)\n",
    "f_o = open(outputPath+outputFile, 'w')\n",
    "# Perform steps\n",
    "#while realtime < 0.15:\n",
    "while step < steps_end:\n",
    "    #Enter non-linear loop\n",
    "    solver.solve(nonLinearIterate=True)\n",
    "    dt = advDiff.get_max_dt()\n",
    "    if step == 0:\n",
    "        dt = 0.\n",
    "    # Advect using this timestep size   \n",
    "    advDiff.integrate(dt)\n",
    "    # Increment\n",
    "    realtime += dt\n",
    "    step += 1\n",
    "    timevals.append(realtime)\n",
    "    # Calculate the Metrics, only on 1 of the processors:\n",
    "    Avg_temp = avg_temp()\n",
    "    Rms = rms()\n",
    "    Rms_surf = rmsBoundary(velocityField,linearMesh, TWalls)\n",
    "    Max_vx_surf = max_vx_surf(velocityField, linearMesh)\n",
    "    Gravwork = gravwork(dwint)\n",
    "    Viscdis = viscdis(vdint)\n",
    "    nu0, nu1 = nusseltNumber(temperatureField, linearMesh, BWalls), nusseltNumber(temperatureField, linearMesh, TWalls)\n",
    "    etamax, etamin = visc_extr(viscosityFn2)\n",
    "    # output to summary text file\n",
    "    if uw.rank()==0:\n",
    "        f_o.write((11*'%-15s ' + '\\n') % (realtime, Viscdis, nu0, nu1, Avg_temp, Rms,Rms_surf,Max_vx_surf,Gravwork, etamax, etamin))\n",
    "   \n",
    "    if step %  steps_display_info == 0:\n",
    "        print('steps = {0:6d}; time = {1:.3e}; v_rms = {2:.3f}; Nu0 = {3:.3f}; Nu1 = {3:.3f}'\n",
    "          .format(step, realtime, Rms, nu0, nu1))\n",
    "    # output image to file\n",
    "    if (step % steps_output == 0) & (writeFiles == True):\n",
    "        ##Files to save\n",
    "        #Temp\n",
    "        fnametemp = \"temperatureField\" + \"_\" + str(CASE) + \"_\" + str(step) + \".hdf5\"\n",
    "        fullpath = os.path.join(outputPath + \"files/\" + fnametemp)\n",
    "        temperatureField.save(fullpath)\n",
    "        #RMS\n",
    "        fnamerms = \"rmsField\" + \"_\" + str(CASE) + \"_\" + str(step) + \".hdf5\"\n",
    "        fullpath = os.path.join(outputPath + \"files/\" + fnamerms)\n",
    "        rmsField.save(fullpath)\n",
    "        #Viscosity\n",
    "        fnamevisc = \"viscField\" + \"_\" + str(CASE) + \"_\" + str(step) + \".hdf5\"\n",
    "        fullpath = os.path.join(outputPath + \"files/\" + fnamevisc)\n",
    "        viscField.save(fullpath)\n",
    "        #Stress\n",
    "        fnamestress = \"stressField\" + \"_\" + str(CASE) + \"_\" + str(step) + \".hdf5\"\n",
    "        fullpath = os.path.join(outputPath + \"files/\" + fnamestress)\n",
    "        stressField.save(fullpath)\n",
    "f_o.close()"
   ]
  },
  {
   "cell_type": "code",
   "execution_count": 36,
   "metadata": {
    "collapsed": false
   },
   "outputs": [],
   "source": [
    "#fig1 = plt.Figure()\n",
    "#fig1.Surface(buoyancyFn[1], elementMesh)\n",
    "#fig1.Surface(viscosityl1, elementMesh)\n",
    "#fig1.Points( swarm=gSwarm, colourVariable=viscVariable , pointSize=3.0)\n",
    "#fig1.VectorArrows(velocityField, linearMesh, lengthScale=0.02)\n",
    "#fig1.show()"
   ]
  },
  {
   "cell_type": "code",
   "execution_count": 40,
   "metadata": {
    "collapsed": false
   },
   "outputs": [
    {
     "data": {
      "text/html": [
       "<img src='data:image/png;base64,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'>"
      ],
      "text/plain": [
       "<IPython.core.display.HTML object>"
      ]
     },
     "execution_count": 40,
     "metadata": {},
     "output_type": "execute_result"
    }
   ],
   "source": [
    "figTemp = glucifer.Figure()\n",
    "figTemp + glucifer.objects.Surface(elementMesh, temperatureField)\n",
    "figTemp + glucifer.objects.VectorArrows(elementMesh,velocityField, arrowHead=0.2, scaling=0.1)\n",
    "figTemp+ glucifer.objects.Mesh(linearMesh)\n",
    "figTemp.show()"
   ]
  },
  {
   "cell_type": "code",
   "execution_count": 41,
   "metadata": {
    "collapsed": false
   },
   "outputs": [
    {
     "name": "stdout",
     "output_type": "stream",
     "text": [
      "(5.480530999999999, 0.0006249999999999956)\n"
     ]
    }
   ],
   "source": [
    "print(time.clock()-start, realtime)"
   ]
  },
  {
   "cell_type": "code",
   "execution_count": null,
   "metadata": {
    "collapsed": true
   },
   "outputs": [],
   "source": []
  }
 ],
 "metadata": {
  "kernelspec": {
   "display_name": "Python 2",
   "language": "python",
   "name": "python2"
  },
  "language_info": {
   "codemirror_mode": {
    "name": "ipython",
    "version": 2
   },
   "file_extension": ".py",
   "mimetype": "text/x-python",
   "name": "python",
   "nbconvert_exporter": "python",
   "pygments_lexer": "ipython2",
   "version": "2.7.11"
  }
 },
 "nbformat": 4,
 "nbformat_minor": 0
}
