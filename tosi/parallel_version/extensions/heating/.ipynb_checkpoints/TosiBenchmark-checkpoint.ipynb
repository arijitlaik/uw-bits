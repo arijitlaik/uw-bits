{
 "cells": [
  {
   "cell_type": "markdown",
   "metadata": {
    "collapsed": true
   },
   "source": [
    "\n",
    "Viscoplastic thermal convection in a 2-D square box\n",
    "=======\n",
    "\n",
    "Benchmarks from Tosi et al. 2015\n",
    "--------\n",
    "\n"
   ]
  },
  {
   "cell_type": "markdown",
   "metadata": {
    "collapsed": true
   },
   "source": [
    "This notebook generates models from the <a name=\"ref-1\"/>[(Tosi et al., 2015)](#cite-tosi2015community) in Underworld2. The Underworld2 results are compared to the model run on Fenics. Input files for the Fenics models were provided by Petra Maierova.\n",
    "\n",
    "This example uses the RT PIC solver with classic and nearest neighbour\n",
    "\n",
    "\n",
    "References\n",
    "====\n",
    "\n",
    "<a name=\"cite-tosi2015community\"/><sup>[^](#ref-1) </sup>Tosi, Nicola and Stein, Claudia and Noack, Lena and H&uuml;ttig, Christian and Maierov&aacute;, Petra and Samuel, Henri and Davies, DR and Wilson, CR and Kramer, SC and Thieulot, Cedric and others. 2015. _A community benchmark for viscoplastic thermal convection in a 2-D square box_.\n",
    "\n"
   ]
  },
  {
   "cell_type": "markdown",
   "metadata": {},
   "source": [
    "Load python functions needed for underworld. Some additional python functions from os, math and numpy used later on."
   ]
  },
  {
   "cell_type": "code",
   "execution_count": 151,
   "metadata": {
    "collapsed": false
   },
   "outputs": [],
   "source": [
    "import underworld as uw\n",
    "import math\n",
    "from underworld import function as fn\n",
    "import glucifer\n",
    "#import matplotlib.pyplot as pyplot\n",
    "import time\n",
    "import numpy as np\n",
    "import os\n",
    "import sys\n",
    "\n",
    "import shutil\n",
    "import natsort\n",
    "\n",
    "from mpi4py import MPI\n",
    "comm = MPI.COMM_WORLD\n",
    "rank = comm.Get_rank()"
   ]
  },
  {
   "cell_type": "markdown",
   "metadata": {},
   "source": [
    "Set physical constants and parameters, including the Rayleigh number (*RA*). "
   ]
  },
  {
   "cell_type": "code",
   "execution_count": 152,
   "metadata": {
    "collapsed": true
   },
   "outputs": [],
   "source": [
    "#Do you want to write hdf5 files - Temp, RMS, viscosity, stress?\n",
    "writeFiles = False"
   ]
  },
  {
   "cell_type": "code",
   "execution_count": 153,
   "metadata": {
    "collapsed": false
   },
   "outputs": [],
   "source": [
    "#ETA_T = 1e5\n",
    "#newvisc = math.exp(math.log(ETA_T)*0.64)\n",
    "#newvisc"
   ]
  },
  {
   "cell_type": "code",
   "execution_count": 154,
   "metadata": {
    "collapsed": false
   },
   "outputs": [],
   "source": [
    "case_dict = {}\n",
    "case_dict[1] = {}\n",
    "case_dict[1]['ETA_Y'] = 1.\n",
    "case_dict[1]['YSTRESS'] = 1.\n",
    "\n",
    "case_dict[2] = {}\n",
    "case_dict[2]['ETA_Y'] = 1.\n",
    "case_dict[2]['YSTRESS'] = 1.\n",
    "\n",
    "case_dict[3] = {}\n",
    "case_dict[3]['ETA_Y'] = 10.\n",
    "\n",
    "case_dict[4] = {}\n",
    "case_dict[4]['ETA_Y'] = 10.\n",
    "case_dict[4]['YSTRESS'] = 1.\n",
    "\n",
    "case_dict[5] = {}\n",
    "case_dict[5]['ETA_Y'] = 10.\n",
    "case_dict[5]['YSTRESS'] = 4."
   ]
  },
  {
   "cell_type": "code",
   "execution_count": 155,
   "metadata": {
    "collapsed": false
   },
   "outputs": [],
   "source": [
    "CASE = 4 # select identifier of the testing case (1-5)"
   ]
  },
  {
   "cell_type": "code",
   "execution_count": 156,
   "metadata": {
    "collapsed": false
   },
   "outputs": [],
   "source": [
    "###########\n",
    "#Physical parameters\n",
    "###########\n",
    "\n",
    "RA  = 1e2        # Rayleigh number\n",
    "TS  = 0          # surface temperature\n",
    "TB  = 1          # bottom boundary temperature (melting point)\n",
    "ETA_T = 1e5\n",
    "ETA_Y = case_dict[CASE]['ETA_Y']\n",
    "ETA0 = 1e-3\n",
    "TMAX = 3.0\n",
    "IMAX = 1000\n",
    "YSTRESS = case_dict[CASE]['YSTRESS']\n"
   ]
  },
  {
   "cell_type": "markdown",
   "metadata": {},
   "source": [
    "Alternatively, use a reference viscosity identical to Crameri and Tackley, i.e. normalised at 0.64.\n",
    "In this case the Rayligh number would go to:"
   ]
  },
  {
   "cell_type": "markdown",
   "metadata": {},
   "source": [
    "Simulation parameters. Resolution in the horizontal (*Xres*) and vertical (*Yres*) directions."
   ]
  },
  {
   "cell_type": "code",
   "execution_count": null,
   "metadata": {
    "collapsed": true
   },
   "outputs": [],
   "source": []
  },
  {
   "cell_type": "code",
   "execution_count": 157,
   "metadata": {
    "collapsed": false
   },
   "outputs": [],
   "source": [
    "###########\n",
    "#Mesh / simulation parameters\n",
    "###########\n",
    "Model = \"A\"\n",
    "ModNum = 2\n",
    "\n",
    "if len(sys.argv) == 1:\n",
    "    ModIt = \"Base\"\n",
    "elif sys.argv[1] == '-f':\n",
    "    ModIt = \"Base\"\n",
    "else:\n",
    "    ModIt = str(sys.argv[1])"
   ]
  },
  {
   "cell_type": "markdown",
   "metadata": {},
   "source": [
    "Select which case of viscosity from Tosi et al (2015) to use. Adjust the yield stress to be =1 for cases 1-4, or between 3.0 and 5.0 (in increments of 0.1) in case 5."
   ]
  },
  {
   "cell_type": "code",
   "execution_count": 158,
   "metadata": {
    "collapsed": true
   },
   "outputs": [],
   "source": [
    "###########\n",
    "#Model Runtime parameters\n",
    "###########\n",
    "\n",
    "\n",
    "files_output = 1e6\n",
    "gldbs_output = 1000\n",
    "images_output = 1e6\n",
    "checkpoint_every = 200\n",
    "metric_output = 4\n",
    "\n",
    "comm.Barrier() #Barrier here so not procs run the check in the next cell too early \n",
    "\n",
    "assert metric_output <= checkpoint_every, 'Checkpointing should run less or as often as metric output'\n"
   ]
  },
  {
   "cell_type": "markdown",
   "metadata": {},
   "source": [
    "Set output file and directory for results"
   ]
  },
  {
   "cell_type": "code",
   "execution_count": 159,
   "metadata": {
    "collapsed": false
   },
   "outputs": [],
   "source": [
    "###########\n",
    "#Standard output directory setup\n",
    "###########\n",
    "\n",
    "\n",
    "outputPath = \"results\" + \"/\" +  str(Model) + \"/\" + str(ModNum) + \"/\" + str(ModIt) + \"/\"\n",
    "imagePath = outputPath + 'images/'\n",
    "filePath = outputPath + 'files/'\n",
    "checkpointPath = outputPath + 'checkpoint/'\n",
    "dbPath = outputPath + 'gldbs/'\n",
    "outputFile = 'results_model' + Model + '_' + str(ModNum) + '_' + str(ModIt) + '.dat'\n",
    "\n",
    "if uw.rank()==0:\n",
    "    # make directories if they don't exist\n",
    "    if not os.path.isdir(outputPath):\n",
    "        os.makedirs(outputPath)\n",
    "    if not os.path.isdir(checkpointPath):\n",
    "        os.makedirs(checkpointPath)\n",
    "    if not os.path.isdir(imagePath):\n",
    "        os.makedirs(imagePath)\n",
    "    if not os.path.isdir(dbPath):\n",
    "        os.makedirs(dbPath)\n",
    "    if not os.path.isdir(filePath):\n",
    "        os.makedirs(filePath)\n",
    "        \n",
    "comm.Barrier() #Barrier here so not procs run the check in the next cell too early "
   ]
  },
  {
   "cell_type": "code",
   "execution_count": 160,
   "metadata": {
    "collapsed": false
   },
   "outputs": [
    {
     "name": "stdout",
     "output_type": "stream",
     "text": [
      "results/A/1/Base/checkpoint/ is empty\n"
     ]
    }
   ],
   "source": [
    "###########\n",
    "#Check if starting from checkpoint\n",
    "###########\n",
    "\n",
    "checkdirs = []\n",
    "for dirpath, dirnames, files in os.walk(checkpointPath):\n",
    "    if files:\n",
    "        print dirpath, 'has files'\n",
    "        checkpointLoad = True\n",
    "        checkdirs.append(dirpath)\n",
    "    if not files:\n",
    "        print dirpath, 'is empty'\n",
    "        checkpointLoad = False\n",
    "        \n"
   ]
  },
  {
   "cell_type": "code",
   "execution_count": null,
   "metadata": {
    "collapsed": true
   },
   "outputs": [],
   "source": []
  },
  {
   "cell_type": "markdown",
   "metadata": {},
   "source": [
    "Create mesh objects. These store the indices and spatial coordiates of the grid points on the mesh."
   ]
  },
  {
   "cell_type": "code",
   "execution_count": 161,
   "metadata": {
    "collapsed": false
   },
   "outputs": [],
   "source": [
    "mesh = uw.mesh.FeMesh_Cartesian( elementType = (\"Q1/dQ0\"),\n",
    "                                 elementRes  = (RES, RES), \n",
    "                                 minCoord    = (0.,0.), \n",
    "                                 maxCoord=(1.,1.))\n"
   ]
  },
  {
   "cell_type": "markdown",
   "metadata": {},
   "source": [
    "Create Finite Element (FE) variables for the velocity, pressure and temperature fields. The last two of these are scalar fields needing only one value at each mesh point, while the velocity field contains a vector of *dim* dimensions at each mesh point."
   ]
  },
  {
   "cell_type": "code",
   "execution_count": 162,
   "metadata": {
    "collapsed": false
   },
   "outputs": [],
   "source": [
    "velocityField       = uw.mesh.MeshVariable( mesh=mesh,         nodeDofCount=dim )\n",
    "pressureField       = uw.mesh.MeshVariable( mesh=mesh.subMesh, nodeDofCount=1 )\n",
    "temperatureField    = uw.mesh.MeshVariable( mesh=mesh,         nodeDofCount=1 )\n",
    "temperatureDotField = uw.mesh.MeshVariable( mesh=mesh,         nodeDofCount=1 )"
   ]
  },
  {
   "cell_type": "markdown",
   "metadata": {},
   "source": [
    "Create some dummy fevariables for doing top and bottom boundary calculations."
   ]
  },
  {
   "cell_type": "code",
   "execution_count": 163,
   "metadata": {
    "collapsed": false
   },
   "outputs": [],
   "source": [
    "topField    = uw.mesh.MeshVariable( mesh=mesh,   nodeDofCount=1)\n",
    "bottomField    = uw.mesh.MeshVariable( mesh=mesh,   nodeDofCount=1)\n",
    "\n",
    "topField.data[:] = 0.\n",
    "bottomField.data[:] = 0.\n",
    "\n",
    "# lets ensure temp boundaries are still what we want \n",
    "# on the boundaries\n",
    "for index in mesh.specialSets[\"MinJ_VertexSet\"]:\n",
    "    bottomField.data[index] = 1.\n",
    "for index in mesh.specialSets[\"MaxJ_VertexSet\"]:\n",
    "    topField.data[index] = 1."
   ]
  },
  {
   "cell_type": "markdown",
   "metadata": {},
   "source": [
    "#ICs and BCs"
   ]
  },
  {
   "cell_type": "code",
   "execution_count": 164,
   "metadata": {
    "collapsed": false
   },
   "outputs": [],
   "source": [
    "# Initialise data.. Note that we are also setting boundary conditions here\n",
    "velocityField.data[:] = [0.,0.]\n",
    "pressureField.data[:] = 0.\n",
    "temperatureField.data[:] = 0.\n",
    "temperatureDotField.data[:] = 0.\n",
    "\n",
    "\n",
    "# Setup temperature initial condition via numpy arrays\n",
    "A = 0.01\n",
    "#Note that width = height = 1\n",
    "tempNump = temperatureField.data\n",
    "for index, coord in enumerate(mesh.data):\n",
    "    pertCoeff = (1- coord[1]) + A*math.cos( math.pi * coord[0] ) * math.sin( math.pi * coord[1] )\n",
    "    tempNump[index] = pertCoeff;\n",
    "    "
   ]
  },
  {
   "cell_type": "code",
   "execution_count": 165,
   "metadata": {
    "collapsed": false
   },
   "outputs": [],
   "source": [
    "# Get the actual sets \n",
    "#\n",
    "#  HJJJJJJH\n",
    "#  I      I\n",
    "#  I      I\n",
    "#  I      I\n",
    "#  HJJJJJJH\n",
    "#  \n",
    "#  Note that H = I & J \n",
    "\n",
    "# Note that we use operator overloading to combine sets\n",
    "IWalls = mesh.specialSets[\"MinI_VertexSet\"] + mesh.specialSets[\"MaxI_VertexSet\"]\n",
    "JWalls = mesh.specialSets[\"MinJ_VertexSet\"] + mesh.specialSets[\"MaxJ_VertexSet\"]\n",
    "TWalls = mesh.specialSets[\"MaxJ_VertexSet\"]\n",
    "BWalls = mesh.specialSets[\"MinJ_VertexSet\"]"
   ]
  },
  {
   "cell_type": "code",
   "execution_count": 166,
   "metadata": {
    "collapsed": false
   },
   "outputs": [],
   "source": [
    "# Now setup the dirichlet boundary condition\n",
    "# Note that through this object, we are flagging to the system \n",
    "# that these nodes are to be considered as boundary conditions. \n",
    "# Also note that we provide a tuple of sets.. One for the Vx, one for Vy.\n",
    "freeslipBC = uw.conditions.DirichletCondition(     variable=velocityField, \n",
    "                                              indexSetsPerDof=(IWalls, JWalls) )\n",
    "\n",
    "# also set dirichlet for temp field\n",
    "tempBC = uw.conditions.DirichletCondition(     variable=temperatureField, \n",
    "                                              indexSetsPerDof=(JWalls,) )"
   ]
  },
  {
   "cell_type": "code",
   "execution_count": 167,
   "metadata": {
    "collapsed": false
   },
   "outputs": [],
   "source": [
    "# Set temp boundaries \n",
    "# on the boundaries\n",
    "for index in mesh.specialSets[\"MinJ_VertexSet\"]:\n",
    "    temperatureField.data[index] = TB\n",
    "for index in mesh.specialSets[\"MaxJ_VertexSet\"]:\n",
    "    temperatureField.data[index] = TS"
   ]
  },
  {
   "cell_type": "code",
   "execution_count": 168,
   "metadata": {
    "collapsed": false
   },
   "outputs": [],
   "source": [
    "if checkpointLoad:\n",
    "    checkpointLoadDir = natsort.natsorted(checkdirs)[-1]\n",
    "    temperatureField.load(os.path.join(checkpointLoadDir, \"temperatureField\" + \".hdf5\"))\n",
    "    pressureField.load(os.path.join(checkpointLoadDir, \"pressureField\" + \".hdf5\"))\n",
    "    velocityField.load(os.path.join(checkpointLoadDir, \"velocityField\" + \".hdf5\"))\n"
   ]
  },
  {
   "cell_type": "markdown",
   "metadata": {
    "collapsed": false
   },
   "source": [
    "#Material properties\n"
   ]
  },
  {
   "cell_type": "code",
   "execution_count": 169,
   "metadata": {
    "collapsed": false
   },
   "outputs": [],
   "source": [
    "#Make variables required for plasticity\n",
    "\n",
    "secinvCopy = fn.tensor.second_invariant( \n",
    "                            fn.tensor.symmetric( \n",
    "                            velocityField.fn_gradient ))\n"
   ]
  },
  {
   "cell_type": "code",
   "execution_count": 170,
   "metadata": {
    "collapsed": true
   },
   "outputs": [],
   "source": [
    "coordinate = fn.input()"
   ]
  },
  {
   "cell_type": "code",
   "execution_count": 171,
   "metadata": {
    "collapsed": false
   },
   "outputs": [],
   "source": [
    "#Remember to use floats everywhere when setting up functions\n",
    "\n",
    "#Linear viscosities\n",
    "#viscosityl1 = fn.math.exp((math.log(ETA_T)*-1*temperatureField) + (math.log(ETA_T)*-1*0.64))\n",
    "viscosityl1 = fn.math.exp(math.log(ETA_T)*-1.*temperatureField)\n",
    "\n",
    "viscosityl2 = fn.math.exp((math.log(ETA_T)*-1.*temperatureField) + (1.-coordinate[1])*math.log(ETA_Y))\n",
    "\n",
    "viscosityFn1 = viscosityl1 #This one always gets passed to the first velcotity solve\n",
    "\n",
    "#Von Mises effective viscosity\n",
    "viscosityp = ETA0 + YSTRESS/(secinvCopy/math.sqrt(0.5)) #extra factor to account for underworld second invariant form\n",
    "\n",
    "\n",
    "if CASE == 1:\n",
    "    viscosityFn2 = viscosityFn1\n",
    "elif CASE == 2:\n",
    "    viscosityFn2 = 2./(1./viscosityl1 + 1./viscosityp)\n",
    "elif CASE == 3:\n",
    "    viscosityFn2 = viscosityl2\n",
    "else:\n",
    "    viscosityFn2 = 2./(1./viscosityl2 + 1./viscosityp)\n"
   ]
  },
  {
   "cell_type": "code",
   "execution_count": 172,
   "metadata": {
    "collapsed": false
   },
   "outputs": [
    {
     "name": "stdout",
     "output_type": "stream",
     "text": [
      "(100.0, 100000.0, 10.0, 0.001, 1.0)\n"
     ]
    }
   ],
   "source": [
    "print(RA, ETA_T, ETA_Y, ETA0, YSTRESS)"
   ]
  },
  {
   "cell_type": "markdown",
   "metadata": {},
   "source": [
    "Set up simulation parameters and functions\n",
    "====\n",
    "\n",
    "Here the functions for density, viscosity etc. are set. These functions and/or values are preserved for the entire simulation time. "
   ]
  },
  {
   "cell_type": "code",
   "execution_count": 173,
   "metadata": {
    "collapsed": true
   },
   "outputs": [],
   "source": [
    "densityFn = RA*temperatureField\n",
    "\n",
    "# define our vertical unit vector using a python tuple (this will be automatically converted to a function)\n",
    "z_hat = ( 0.0, 1.0 )\n",
    "\n",
    "# now create a buoyancy force vector using the density (FEvariable) and the vertical unit vector. \n",
    "# The result from which will also be a FEvariable.\n",
    "buoyancyFn = z_hat * densityFn "
   ]
  },
  {
   "cell_type": "markdown",
   "metadata": {},
   "source": [
    "Build the Stokes system, solvers, advection-diffusion\n",
    "------\n",
    "\n",
    "Setup linear Stokes system to get the initial velocity."
   ]
  },
  {
   "cell_type": "code",
   "execution_count": 174,
   "metadata": {
    "collapsed": false
   },
   "outputs": [],
   "source": [
    "#We first set up a l\n",
    "stokesPIC = uw.systems.Stokes(velocityField=velocityField, \n",
    "                              pressureField=pressureField,\n",
    "                              conditions=[freeslipBC,],\n",
    "#                              viscosityFn=viscosityFn1, \n",
    "                              fn_viscosity=fn.exception.SafeMaths(viscosityFn1), \n",
    "                              fn_bodyforce=buoyancyFn)"
   ]
  },
  {
   "cell_type": "markdown",
   "metadata": {},
   "source": [
    "We do one solve with linear viscosity to get the initial strain rate invariant. This solve step also calculates a 'guess' of the the velocity field based on the linear system, which is used later in the non-linear solver."
   ]
  },
  {
   "cell_type": "code",
   "execution_count": 175,
   "metadata": {
    "collapsed": false
   },
   "outputs": [],
   "source": [
    "solver = uw.systems.Solver(stokesPIC)\n",
    "solver.solve() "
   ]
  },
  {
   "cell_type": "code",
   "execution_count": 176,
   "metadata": {
    "collapsed": false
   },
   "outputs": [],
   "source": [
    "# Setup the Stokes system again, now with linear or nonlinear visocity viscosity.\n",
    "stokesPIC2 = uw.systems.Stokes(velocityField=velocityField, \n",
    "                              pressureField=pressureField,\n",
    "                              conditions=[freeslipBC,],\n",
    "                              fn_viscosity=fn.exception.SafeMaths(viscosityFn2), \n",
    "                              fn_bodyforce=buoyancyFn )"
   ]
  },
  {
   "cell_type": "code",
   "execution_count": 177,
   "metadata": {
    "collapsed": false
   },
   "outputs": [],
   "source": [
    "solver = uw.systems.Solver(stokesPIC2) # altered from PIC2"
   ]
  },
  {
   "cell_type": "markdown",
   "metadata": {},
   "source": [
    "Solve for initial pressure and velocity using a quick non-linear Picard iteration\n"
   ]
  },
  {
   "cell_type": "code",
   "execution_count": 178,
   "metadata": {
    "collapsed": false
   },
   "outputs": [],
   "source": [
    "solver.solve(nonLinearIterate=True)"
   ]
  },
  {
   "cell_type": "markdown",
   "metadata": {},
   "source": [
    "Create an advective-diffusive system\n",
    "=====\n",
    "\n",
    "Setup the system in underworld by flagging the temperature and velocity field variables."
   ]
  },
  {
   "cell_type": "code",
   "execution_count": 179,
   "metadata": {
    "collapsed": false
   },
   "outputs": [],
   "source": [
    "\n",
    "advDiff = uw.systems.AdvectionDiffusion( phiField       = temperatureField, \n",
    "                                         phiDotField    = temperatureDotField, \n",
    "                                         velocityField  = velocityField,\n",
    "                                         fn_sourceTerm    = 10.0,\n",
    "                                         fn_diffusivity = 1.0, \n",
    "                                         conditions     = [tempBC,] )"
   ]
  },
  {
   "cell_type": "markdown",
   "metadata": {},
   "source": [
    "Metrics for benchmark\n",
    "=====\n",
    "\n",
    "Define functions to be used in the time loop. For cases 1-4, participants were asked to report a number of diagnostic quantities to be measured after reaching steady state:\n",
    "\n",
    "* Average temp... $$  \\langle T \\rangle  = \\int^1_0 \\int^1_0 T \\, dxdy $$\n",
    "* Top and bottom Nusselt numbers... $$N = \\int^1_0 \\frac{\\partial T}{\\partial y} \\rvert_{y=0/1} \\, dx$$\n",
    "* RMS velocity over the whole domain, surface and max velocity at surface\n",
    "* max and min viscosity over the whole domain\n",
    "* average rate of work done against gravity...$$\\langle W \\rangle = \\int^1_0 \\int^1_0 T u_y \\, dx dy$$\n",
    "* and the average rate of viscous dissipation...$$\\langle \\Phi \\rangle = \\int^1_0 \\int^1_0 \\tau_{ij} \\dot \\epsilon_{ij} \\, dx dy$$\n",
    "\n",
    "* In steady state, if thermal energy is accurately conserved, the difference between $\\langle W \\rangle$ and $\\langle \\Phi \\rangle / Ra$ must vanish, so also reported is the percentage error: \n",
    "\n",
    "$$ \\delta = \\frac{\\lvert \\langle W \\rangle - \\frac{\\langle \\Phi \\rangle}{Ra} \\rvert}{max \\left(  \\langle W \\rangle,  \\frac{\\langle \\Phi \\rangle}{Ra}\\right)} \\times 100% $$"
   ]
  },
  {
   "cell_type": "code",
   "execution_count": 180,
   "metadata": {
    "collapsed": false
   },
   "outputs": [],
   "source": [
    "#Setup some Integrals. We want these outside the main loop...\n",
    "tempint = uw.utils.Integral(temperatureField, mesh)\n",
    "areaint = uw.utils.Integral(1.,mesh)\n",
    "\n",
    "v2int = uw.utils.Integral(fn.math.dot(velocityField,velocityField), mesh)\n",
    "topareaint = uw.utils.Integral((topField*1.),mesh)\n",
    "\n",
    "dwint = uw.utils.Integral(temperatureField*velocityField[1], mesh)\n",
    "\n",
    "secinv = fn.tensor.second_invariant(\n",
    "                    fn.tensor.symmetric(\n",
    "                        velocityField.fn_gradient))\n",
    "\n",
    "sinner = fn.math.dot(secinv,secinv)\n",
    "vdint = uw.utils.Integral((4.*viscosityFn2*sinner), mesh)"
   ]
  },
  {
   "cell_type": "code",
   "execution_count": 181,
   "metadata": {
    "collapsed": false
   },
   "outputs": [],
   "source": [
    "def avg_temp():\n",
    "    return tempint.evaluate()[0]/areaint.evaluate()[0]\n",
    "\n",
    "\n",
    "def nusseltNumber(temperatureField, temperatureMesh, indexSet):\n",
    "    tempgradField = temperatureField.fn_gradient\n",
    "    vertGradField = tempgradField[1]\n",
    "    Nu = uw.utils.Integral(vertGradField , mesh=temperatureMesh, integrationType='Surface', surfaceIndexSet=indexSet)\n",
    "    return Nu.evaluate()[0]\n",
    "\n",
    "\n",
    "def rms():\n",
    "    return math.sqrt(v2int.evaluate()[0])\n",
    "\n",
    "\n",
    "#This one gets cleaned up when Surface integrals are available\n",
    "def rmsBoundary(velocityField, velocityMesh, indexSet):\n",
    "    v2fn = fn.math.dot(velocityField,velocityField)\n",
    "    v2int = uw.utils.Integral(v2fn, mesh=velocityMesh, integrationType='Surface', surfaceIndexSet=indexSet)\n",
    "    rmsbound = math.sqrt(v2int.evaluate()[0]) \n",
    "    return rmsbound\n",
    "    \n",
    "    \n",
    "    fn.math.dot(velocityField,np.array([1.,0.]))\n",
    "    return math.sqrt(v2int.evaluate()[0]/topareaint.evaluate()[0])\n",
    "\n",
    "def max_vx_surf(velfield, mesh):\n",
    "    vuvelxfn = fn.view.min_max(velfield[0])\n",
    "    vuvelxfn.evaluate(mesh.specialSets[\"MaxJ_VertexSet\"])\n",
    "    return vuvelxfn.max_global()\n",
    "\n",
    "def gravwork(workfn):\n",
    "    return workfn.evaluate()[0]\n",
    "\n",
    "def viscdis(vdissfn):\n",
    "    return vdissfn.evaluate()[0]\n",
    "\n",
    "def visc_extr(viscfn):\n",
    "    vuviscfn = fn.view.min_max(viscfn)\n",
    "    vuviscfn.evaluate(mesh)\n",
    "    return vuviscfn.max_global(), vuviscfn.min_global()"
   ]
  },
  {
   "cell_type": "code",
   "execution_count": 182,
   "metadata": {
    "collapsed": false
   },
   "outputs": [
    {
     "data": {
      "text/plain": [
       "0.5000000000000845"
      ]
     },
     "execution_count": 182,
     "metadata": {},
     "output_type": "execute_result"
    }
   ],
   "source": [
    "avg_temp()"
   ]
  },
  {
   "cell_type": "code",
   "execution_count": 183,
   "metadata": {
    "collapsed": false
   },
   "outputs": [],
   "source": [
    "#Fields for saving data / fields\n",
    "\n",
    "rmsField = uw.mesh.MeshVariable( mesh=mesh,   nodeDofCount=1)\n",
    "rmsfn = fn.math.sqrt(fn.math.dot(velocityField,velocityField))\n",
    "rmsdata = rmsfn.evaluate(mesh)\n",
    "rmsField.data[:] = rmsdata \n",
    "\n",
    "viscField = uw.mesh.MeshVariable( mesh=mesh,   nodeDofCount=1)\n",
    "viscdata = viscosityFn2.evaluate(mesh)\n",
    "viscField.data[:] = viscdata\n",
    "\n",
    "\n",
    "stressField = uw.mesh.MeshVariable( mesh=mesh,   nodeDofCount=1)\n",
    "srtdata = fn.tensor.second_invariant( \n",
    "                    fn.tensor.symmetric( \n",
    "                        velocityField.fn_gradient ))\n",
    "\n",
    "rostfield = srtdata.evaluate(mesh)\n",
    "stressinv = 2*viscdata*rostfield[:]\n",
    "stressField.data[:] = stressinv"
   ]
  },
  {
   "cell_type": "code",
   "execution_count": 184,
   "metadata": {
    "collapsed": true
   },
   "outputs": [],
   "source": [
    "def checkpoint1(step, checkpointPath,filename, filewrites):\n",
    "    path = checkpointPath + str(step) \n",
    "    os.mkdir(path)\n",
    "    ##Write and save the file, if not already a writing step\n",
    "    if not step % filewrites == 0:\n",
    "        filename.write((13*'%-15s ' + '\\n') % (realtime, Viscdis, float(Nu0glob), float(Nu1glob), Avg_temp, \n",
    "                                              Rms,Rmsurfglob,Max_vx_surf,Gravwork, etamax, etamin, Viscdisair, Viscdislith))\n",
    "    filename.close()\n",
    "    shutil.copyfile(os.path.join(outputPath, outputFile), os.path.join(path, outputFile))\n",
    "\n",
    "\n",
    "def checkpoint2(step, checkpointPath,  filename):\n",
    "    path = checkpointPath + str(step) \n",
    "    velfile = \"velocityField\" + \".hdf5\"\n",
    "    tempfile = \"temperatureField\" + \".hdf5\"\n",
    "    pressfile = \"pressureField\" + \".hdf5\"\n",
    "    velocityField.save(os.path.join(path, velfile))\n",
    "    temperatureField.save(os.path.join(path, tempfile))\n",
    "    pressureField.save(os.path.join(path, pressfile))\n",
    "        "
   ]
  },
  {
   "cell_type": "markdown",
   "metadata": {},
   "source": [
    "Main simulation loop\n",
    "=======\n",
    "\n",
    "The main time stepping loop begins here. Before this the time and timestep are initialised to zero and the output statistics arrays are set up. Also the frequency of outputting basic statistics to the screen is set in steps_output.\n"
   ]
  },
  {
   "cell_type": "code",
   "execution_count": 185,
   "metadata": {
    "collapsed": false
   },
   "outputs": [],
   "source": [
    "realtime = 0.\n",
    "step = 0\n",
    "timevals = [0.]\n",
    "steps_end = 10\n",
    "steps_output = 1e6\n",
    "steps_display_info = 20"
   ]
  },
  {
   "cell_type": "code",
   "execution_count": 186,
   "metadata": {
    "collapsed": false,
    "scrolled": true
   },
   "outputs": [],
   "source": [
    "###########\n",
    "#Open file for writing metrics\n",
    "###########\n",
    "\n",
    "if checkpointLoad:\n",
    "    if uw.rank() == 0:\n",
    "        shutil.copyfile(os.path.join(checkpointLoadDir, outputFile), outputPath+outputFile)\n",
    "    comm.Barrier()\n",
    "    #os.rename(os.path.join(checkpointLoadDir, outputFile), outputPath+outputFile)\n",
    "    f_o = open(os.path.join(outputPath, outputFile), 'a')\n",
    "    prevdata = np.genfromtxt(os.path.join(outputPath, outputFile), skip_header=0, skip_footer=0)\n",
    "    realtime = prevdata[prevdata.shape[0]-1, 0]\n",
    "    step = int(checkpointLoadDir.split('/')[-1])\n",
    "    timevals = [0.]\n",
    "else:\n",
    "    f_o = open(outputPath+outputFile, 'w')\n",
    "    realtime = 0.\n",
    "    step = 0\n",
    "    timevals = [0.]"
   ]
  },
  {
   "cell_type": "code",
   "execution_count": 187,
   "metadata": {
    "collapsed": false
   },
   "outputs": [
    {
     "data": {
      "text/plain": [
       "0"
      ]
     },
     "execution_count": 187,
     "metadata": {},
     "output_type": "execute_result"
    }
   ],
   "source": [
    "step"
   ]
  },
  {
   "cell_type": "code",
   "execution_count": 188,
   "metadata": {
    "collapsed": false
   },
   "outputs": [],
   "source": [
    "# initialise timer for computation\n",
    "start = time.clock()\n",
    "# Perform steps\n",
    "#while realtime < 0.15:\n",
    "while step < 200:\n",
    "    #Enter non-linear loop\n",
    "    solver.solve(nonLinearIterate=True)\n",
    "    dt = advDiff.get_max_dt()\n",
    "    if step == 0:\n",
    "        dt = 0.\n",
    "    # Advect using this timestep size   \n",
    "    advDiff.integrate(dt)\n",
    "    # Increment\n",
    "    realtime += dt\n",
    "    step += 1\n",
    "    timevals.append(realtime)\n",
    "    ################            \n",
    "    # Calculate the Metrics, only on 1 of the processors:\n",
    "    ################\n",
    "    if (step % metric_output == 0):\n",
    "    \n",
    "        Avg_temp = avg_temp()\n",
    "        Rms = rms()\n",
    "        Rms_surf = rmsBoundary(velocityField,mesh, TWalls)\n",
    "        Max_vx_surf = max_vx_surf(velocityField, mesh)\n",
    "        Gravwork = gravwork(dwint)\n",
    "        Viscdis = viscdis(vdint)\n",
    "        nu0, nu1 = nusseltNumber(temperatureField, mesh, BWalls), nusseltNumber(temperatureField, mesh, TWalls)\n",
    "        etamax, etamin = visc_extr(viscosityFn2)\n",
    "        # output to summary text file\n",
    "        if uw.rank()==0:\n",
    "            f_o.write((11*'%-15s ' + '\\n') % (realtime, Viscdis, nu0, nu1, Avg_temp, Rms,Rms_surf,Max_vx_surf,Gravwork, etamax, etamin))\n",
    "    # output image to file\n",
    "    if (step % steps_output == 0) & (writeFiles == True):\n",
    "        ##Files to save\n",
    "        #Temp\n",
    "        fnametemp = \"temperatureField\" + \"_\" + str(CASE) + \"_\" + str(step) + \".hdf5\"\n",
    "        fullpath = os.path.join(outputPath + \"files/\" + fnametemp)\n",
    "        temperatureField.save(fullpath)\n",
    "        #RMS\n",
    "        fnamerms = \"rmsField\" + \"_\" + str(CASE) + \"_\" + str(step) + \".hdf5\"\n",
    "        fullpath = os.path.join(outputPath + \"files/\" + fnamerms)\n",
    "        rmsField.save(fullpath)\n",
    "        #Viscosity\n",
    "        fnamevisc = \"viscField\" + \"_\" + str(CASE) + \"_\" + str(step) + \".hdf5\"\n",
    "        fullpath = os.path.join(outputPath + \"files/\" + fnamevisc)\n",
    "        viscField.save(fullpath)\n",
    "        #Stress\n",
    "        fnamestress = \"stressField\" + \"_\" + str(CASE) + \"_\" + str(step) + \".hdf5\"\n",
    "        fullpath = os.path.join(outputPath + \"files/\" + fnamestress)\n",
    "        stressField.save(fullpath)\n",
    "    ################\n",
    "    #Checkpoint\n",
    "    ################\n",
    "    if step % checkpoint_every == 0:\n",
    "        if uw.rank() == 0:\n",
    "            checkpoint1(step, checkpointPath,f_o, metric_output)           \n",
    "        checkpoint2(step, checkpointPath, f_o)\n",
    "        f_o = open(os.path.join(outputPath, outputFile), 'a') #is this line supposed to be here?\n"
   ]
  },
  {
   "cell_type": "code",
   "execution_count": 189,
   "metadata": {
    "collapsed": true
   },
   "outputs": [],
   "source": [
    "f_o.close()"
   ]
  },
  {
   "cell_type": "code",
   "execution_count": 190,
   "metadata": {
    "collapsed": false
   },
   "outputs": [
    {
     "data": {
      "text/html": [
       "<img src='data:image/png;base64,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'>"
      ],
      "text/plain": [
       "<IPython.core.display.HTML object>"
      ]
     },
     "execution_count": 190,
     "metadata": {},
     "output_type": "execute_result"
    }
   ],
   "source": [
    "figTemp = glucifer.Figure()\n",
    "figTemp.append( glucifer.objects.Surface(mesh, temperatureField))\n",
    "#figTemp.append( glucifer.objects.Mesh(mesh))\n",
    "\n",
    "#figTemp.append( glucifer.objects.VectorArrows(mesh,velocityField, arrowHead=0.2, scaling=0.05))\n",
    "#figTemp.save_database('test.gldb')\n",
    "figTemp.show()"
   ]
  },
  {
   "cell_type": "code",
   "execution_count": 191,
   "metadata": {
    "collapsed": false
   },
   "outputs": [
    {
     "name": "stdout",
     "output_type": "stream",
     "text": [
      "(232.316888, 0.00933915164347308)\n"
     ]
    }
   ],
   "source": [
    "print(time.clock()-start, realtime)"
   ]
  },
  {
   "cell_type": "code",
   "execution_count": null,
   "metadata": {
    "collapsed": true
   },
   "outputs": [],
   "source": []
  }
 ],
 "metadata": {
  "kernelspec": {
   "display_name": "Python 2",
   "language": "python",
   "name": "python2"
  },
  "language_info": {
   "codemirror_mode": {
    "name": "ipython",
    "version": 2
   },
   "file_extension": ".py",
   "mimetype": "text/x-python",
   "name": "python",
   "nbconvert_exporter": "python",
   "pygments_lexer": "ipython2",
   "version": "2.7.11"
  }
 },
 "nbformat": 4,
 "nbformat_minor": 0
}
