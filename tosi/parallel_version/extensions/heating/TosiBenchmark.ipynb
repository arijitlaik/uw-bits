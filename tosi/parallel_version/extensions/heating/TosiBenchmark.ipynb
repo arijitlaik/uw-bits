{
 "cells": [
  {
   "cell_type": "markdown",
   "metadata": {
    "collapsed": true
   },
   "source": [
    "\n",
    "Viscoplastic thermal convection in a 2-D square box\n",
    "=======\n",
    "\n",
    "Benchmarks from Tosi et al. 2015\n",
    "--------\n",
    "\n"
   ]
  },
  {
   "cell_type": "markdown",
   "metadata": {
    "collapsed": true
   },
   "source": [
    "This notebook generates models from the <a name=\"ref-1\"/>[(Tosi et al., 2015)](#cite-tosi2015community) in Underworld2. The Underworld2 results are compared to the model run on Fenics. Input files for the Fenics models were provided by Petra Maierova.\n",
    "\n",
    "This example uses the RT PIC solver with classic and nearest neighbour\n",
    "\n",
    "\n",
    "References\n",
    "====\n",
    "\n",
    "<a name=\"cite-tosi2015community\"/><sup>[^](#ref-1) </sup>Tosi, Nicola and Stein, Claudia and Noack, Lena and H&uuml;ttig, Christian and Maierov&aacute;, Petra and Samuel, Henri and Davies, DR and Wilson, CR and Kramer, SC and Thieulot, Cedric and others. 2015. _A community benchmark for viscoplastic thermal convection in a 2-D square box_.\n",
    "\n"
   ]
  },
  {
   "cell_type": "markdown",
   "metadata": {},
   "source": [
    "Load python functions needed for underworld. Some additional python functions from os, math and numpy used later on."
   ]
  },
  {
   "cell_type": "code",
   "execution_count": 45,
   "metadata": {
    "collapsed": false
   },
   "outputs": [],
   "source": [
    "import underworld as uw\n",
    "import math\n",
    "from underworld import function as fn\n",
    "import glucifer\n",
    "#import matplotlib.pyplot as pyplot\n",
    "import time\n",
    "import numpy as np\n",
    "import os\n",
    "import sys\n",
    "\n",
    "import shutil\n",
    "import natsort\n",
    "\n",
    "from mpi4py import MPI\n",
    "comm = MPI.COMM_WORLD\n",
    "rank = comm.Get_rank()"
   ]
  },
  {
   "cell_type": "markdown",
   "metadata": {},
   "source": [
    "Set physical constants and parameters, including the Rayleigh number (*RA*). "
   ]
  },
  {
   "cell_type": "code",
   "execution_count": 46,
   "metadata": {
    "collapsed": true
   },
   "outputs": [],
   "source": [
    "#Do you want to write hdf5 files - Temp, RMS, viscosity, stress?\n",
    "writeFiles = False"
   ]
  },
  {
   "cell_type": "code",
   "execution_count": 47,
   "metadata": {
    "collapsed": false
   },
   "outputs": [],
   "source": [
    "#ETA_T = 1e5\n",
    "#newvisc = math.exp(math.log(ETA_T)*0.64)\n",
    "#newvisc"
   ]
  },
  {
   "cell_type": "code",
   "execution_count": 48,
   "metadata": {
    "collapsed": false
   },
   "outputs": [],
   "source": [
    "case_dict = {}\n",
    "case_dict[1] = {}\n",
    "case_dict[1]['ETA_Y'] = 1.\n",
    "case_dict[1]['YSTRESS'] = 1.\n",
    "\n",
    "case_dict[2] = {}\n",
    "case_dict[2]['ETA_Y'] = 1.\n",
    "case_dict[2]['YSTRESS'] = 1.\n",
    "\n",
    "case_dict[3] = {}\n",
    "case_dict[3]['ETA_Y'] = 10.\n",
    "\n",
    "case_dict[4] = {}\n",
    "case_dict[4]['ETA_Y'] = 10.\n",
    "case_dict[4]['YSTRESS'] = 1.\n",
    "\n",
    "case_dict[5] = {}\n",
    "case_dict[5]['ETA_Y'] = 10.\n",
    "case_dict[5]['YSTRESS'] = 4."
   ]
  },
  {
   "cell_type": "code",
   "execution_count": 49,
   "metadata": {
    "collapsed": false
   },
   "outputs": [],
   "source": [
    "CASE = 4 # select identifier of the testing case (1-5)"
   ]
  },
  {
   "cell_type": "code",
   "execution_count": 50,
   "metadata": {
    "collapsed": false
   },
   "outputs": [],
   "source": [
    "###########\n",
    "#Physical parameters\n",
    "###########\n",
    "\n",
    "RA  = 1e2        # Rayleigh number\n",
    "TS  = 0          # surface temperature\n",
    "TB  = 1          # bottom boundary temperature (melting point)\n",
    "ETA_T = 1e5\n",
    "ETA_Y = case_dict[CASE]['ETA_Y']\n",
    "ETA0 = 1e-3\n",
    "TMAX = 3.0\n",
    "IMAX = 1000\n",
    "YSTRESS = case_dict[CASE]['YSTRESS']\n"
   ]
  },
  {
   "cell_type": "markdown",
   "metadata": {},
   "source": [
    "Alternatively, use a reference viscosity identical to Crameri and Tackley, i.e. normalised at 0.64.\n",
    "In this case the Rayligh number would go to:"
   ]
  },
  {
   "cell_type": "markdown",
   "metadata": {},
   "source": [
    "Simulation parameters. Resolution in the horizontal (*Xres*) and vertical (*Yres*) directions."
   ]
  },
  {
   "cell_type": "code",
   "execution_count": null,
   "metadata": {
    "collapsed": true
   },
   "outputs": [],
   "source": []
  },
  {
   "cell_type": "code",
   "execution_count": 51,
   "metadata": {
    "collapsed": false
   },
   "outputs": [],
   "source": [
    "###########\n",
    "#Mesh / simulation parameters\n",
    "###########\n",
    "Model = \"A\"\n",
    "ModNum = 2\n",
    "\n",
    "RES=48\n",
    "dim=2\n",
    "\n",
    "if len(sys.argv) == 1:\n",
    "    ModIt = \"Base\"\n",
    "elif sys.argv[1] == '-f':\n",
    "    ModIt = \"Base\"\n",
    "else:\n",
    "    ModIt = str(sys.argv[1])"
   ]
  },
  {
   "cell_type": "markdown",
   "metadata": {},
   "source": [
    "Select which case of viscosity from Tosi et al (2015) to use. Adjust the yield stress to be =1 for cases 1-4, or between 3.0 and 5.0 (in increments of 0.1) in case 5."
   ]
  },
  {
   "cell_type": "code",
   "execution_count": 52,
   "metadata": {
    "collapsed": true
   },
   "outputs": [],
   "source": [
    "###########\n",
    "#Model Runtime parameters\n",
    "###########\n",
    "\n",
    "\n",
    "files_output = 1e6\n",
    "gldbs_output = 1000\n",
    "images_output = 1e6\n",
    "checkpoint_every = 200\n",
    "metric_output = 4\n",
    "\n",
    "comm.Barrier() #Barrier here so not procs run the check in the next cell too early \n",
    "\n",
    "assert metric_output <= checkpoint_every, 'Checkpointing should run less or as often as metric output'\n"
   ]
  },
  {
   "cell_type": "markdown",
   "metadata": {},
   "source": [
    "Set output file and directory for results"
   ]
  },
  {
   "cell_type": "code",
   "execution_count": 53,
   "metadata": {
    "collapsed": false
   },
   "outputs": [],
   "source": [
    "###########\n",
    "#Standard output directory setup\n",
    "###########\n",
    "\n",
    "\n",
    "outputPath = \"results\" + \"/\" +  str(Model) + \"/\" + str(ModNum) + \"/\" + str(ModIt) + \"/\"\n",
    "imagePath = outputPath + 'images/'\n",
    "filePath = outputPath + 'files/'\n",
    "checkpointPath = outputPath + 'checkpoint/'\n",
    "dbPath = outputPath + 'gldbs/'\n",
    "outputFile = 'results_model' + Model + '_' + str(ModNum) + '_' + str(ModIt) + '.dat'\n",
    "\n",
    "if uw.rank()==0:\n",
    "    # make directories if they don't exist\n",
    "    if not os.path.isdir(outputPath):\n",
    "        os.makedirs(outputPath)\n",
    "    if not os.path.isdir(checkpointPath):\n",
    "        os.makedirs(checkpointPath)\n",
    "    if not os.path.isdir(imagePath):\n",
    "        os.makedirs(imagePath)\n",
    "    if not os.path.isdir(dbPath):\n",
    "        os.makedirs(dbPath)\n",
    "    if not os.path.isdir(filePath):\n",
    "        os.makedirs(filePath)\n",
    "        \n",
    "comm.Barrier() #Barrier here so not procs run the check in the next cell too early "
   ]
  },
  {
   "cell_type": "code",
   "execution_count": 54,
   "metadata": {
    "collapsed": false
   },
   "outputs": [
    {
     "name": "stdout",
     "output_type": "stream",
     "text": [
      "results/A/2/Base/checkpoint/ is empty\n"
     ]
    }
   ],
   "source": [
    "###########\n",
    "#Check if starting from checkpoint\n",
    "###########\n",
    "\n",
    "checkdirs = []\n",
    "for dirpath, dirnames, files in os.walk(checkpointPath):\n",
    "    if files:\n",
    "        print dirpath, 'has files'\n",
    "        checkpointLoad = True\n",
    "        checkdirs.append(dirpath)\n",
    "    if not files:\n",
    "        print dirpath, 'is empty'\n",
    "        checkpointLoad = False\n",
    "        \n"
   ]
  },
  {
   "cell_type": "code",
   "execution_count": null,
   "metadata": {
    "collapsed": true
   },
   "outputs": [],
   "source": []
  },
  {
   "cell_type": "markdown",
   "metadata": {},
   "source": [
    "Create mesh objects. These store the indices and spatial coordiates of the grid points on the mesh."
   ]
  },
  {
   "cell_type": "code",
   "execution_count": 55,
   "metadata": {
    "collapsed": false
   },
   "outputs": [],
   "source": [
    "mesh = uw.mesh.FeMesh_Cartesian( elementType = (\"Q1/dQ0\"),\n",
    "                                 elementRes  = (RES, RES), \n",
    "                                 minCoord    = (0.,0.), \n",
    "                                 maxCoord=(1.,1.))\n"
   ]
  },
  {
   "cell_type": "markdown",
   "metadata": {},
   "source": [
    "Create Finite Element (FE) variables for the velocity, pressure and temperature fields. The last two of these are scalar fields needing only one value at each mesh point, while the velocity field contains a vector of *dim* dimensions at each mesh point."
   ]
  },
  {
   "cell_type": "code",
   "execution_count": 56,
   "metadata": {
    "collapsed": false
   },
   "outputs": [],
   "source": [
    "velocityField       = uw.mesh.MeshVariable( mesh=mesh,         nodeDofCount=dim )\n",
    "pressureField       = uw.mesh.MeshVariable( mesh=mesh.subMesh, nodeDofCount=1 )\n",
    "temperatureField    = uw.mesh.MeshVariable( mesh=mesh,         nodeDofCount=1 )\n",
    "temperatureDotField = uw.mesh.MeshVariable( mesh=mesh,         nodeDofCount=1 )"
   ]
  },
  {
   "cell_type": "markdown",
   "metadata": {},
   "source": [
    "Create some dummy fevariables for doing top and bottom boundary calculations."
   ]
  },
  {
   "cell_type": "code",
   "execution_count": 57,
   "metadata": {
    "collapsed": false
   },
   "outputs": [],
   "source": [
    "topField    = uw.mesh.MeshVariable( mesh=mesh,   nodeDofCount=1)\n",
    "bottomField    = uw.mesh.MeshVariable( mesh=mesh,   nodeDofCount=1)\n",
    "\n",
    "topField.data[:] = 0.\n",
    "bottomField.data[:] = 0.\n",
    "\n",
    "# lets ensure temp boundaries are still what we want \n",
    "# on the boundaries\n",
    "for index in mesh.specialSets[\"MinJ_VertexSet\"]:\n",
    "    bottomField.data[index] = 1.\n",
    "for index in mesh.specialSets[\"MaxJ_VertexSet\"]:\n",
    "    topField.data[index] = 1."
   ]
  },
  {
   "cell_type": "markdown",
   "metadata": {},
   "source": [
    "#ICs and BCs"
   ]
  },
  {
   "cell_type": "code",
   "execution_count": 58,
   "metadata": {
    "collapsed": false
   },
   "outputs": [],
   "source": [
    "# Initialise data.. Note that we are also setting boundary conditions here\n",
    "velocityField.data[:] = [0.,0.]\n",
    "pressureField.data[:] = 0.\n",
    "temperatureField.data[:] = 0.\n",
    "temperatureDotField.data[:] = 0.\n",
    "\n",
    "\n",
    "# Setup temperature initial condition via numpy arrays\n",
    "A = 0.01\n",
    "#Note that width = height = 1\n",
    "tempNump = temperatureField.data\n",
    "for index, coord in enumerate(mesh.data):\n",
    "    pertCoeff = (1- coord[1]) + A*math.cos( math.pi * coord[0] ) * math.sin( math.pi * coord[1] )\n",
    "    tempNump[index] = pertCoeff;\n",
    "    "
   ]
  },
  {
   "cell_type": "code",
   "execution_count": 59,
   "metadata": {
    "collapsed": false
   },
   "outputs": [],
   "source": [
    "# Get the actual sets \n",
    "#\n",
    "#  HJJJJJJH\n",
    "#  I      I\n",
    "#  I      I\n",
    "#  I      I\n",
    "#  HJJJJJJH\n",
    "#  \n",
    "#  Note that H = I & J \n",
    "\n",
    "# Note that we use operator overloading to combine sets\n",
    "IWalls = mesh.specialSets[\"MinI_VertexSet\"] + mesh.specialSets[\"MaxI_VertexSet\"]\n",
    "JWalls = mesh.specialSets[\"MinJ_VertexSet\"] + mesh.specialSets[\"MaxJ_VertexSet\"]\n",
    "TWalls = mesh.specialSets[\"MaxJ_VertexSet\"]\n",
    "BWalls = mesh.specialSets[\"MinJ_VertexSet\"]"
   ]
  },
  {
   "cell_type": "code",
   "execution_count": 60,
   "metadata": {
    "collapsed": false
   },
   "outputs": [],
   "source": [
    "# Now setup the dirichlet boundary condition\n",
    "# Note that through this object, we are flagging to the system \n",
    "# that these nodes are to be considered as boundary conditions. \n",
    "# Also note that we provide a tuple of sets.. One for the Vx, one for Vy.\n",
    "freeslipBC = uw.conditions.DirichletCondition(     variable=velocityField, \n",
    "                                              indexSetsPerDof=(IWalls, JWalls) )\n",
    "\n",
    "# also set dirichlet for temp field\n",
    "tempBC = uw.conditions.DirichletCondition(     variable=temperatureField, \n",
    "                                              indexSetsPerDof=(JWalls,) )"
   ]
  },
  {
   "cell_type": "code",
   "execution_count": 61,
   "metadata": {
    "collapsed": false
   },
   "outputs": [],
   "source": [
    "# Set temp boundaries \n",
    "# on the boundaries\n",
    "for index in mesh.specialSets[\"MinJ_VertexSet\"]:\n",
    "    temperatureField.data[index] = TB\n",
    "for index in mesh.specialSets[\"MaxJ_VertexSet\"]:\n",
    "    temperatureField.data[index] = TS"
   ]
  },
  {
   "cell_type": "code",
   "execution_count": 62,
   "metadata": {
    "collapsed": false
   },
   "outputs": [],
   "source": [
    "if checkpointLoad:\n",
    "    checkpointLoadDir = natsort.natsorted(checkdirs)[-1]\n",
    "    temperatureField.load(os.path.join(checkpointLoadDir, \"temperatureField\" + \".hdf5\"))\n",
    "    pressureField.load(os.path.join(checkpointLoadDir, \"pressureField\" + \".hdf5\"))\n",
    "    velocityField.load(os.path.join(checkpointLoadDir, \"velocityField\" + \".hdf5\"))\n"
   ]
  },
  {
   "cell_type": "markdown",
   "metadata": {
    "collapsed": false
   },
   "source": [
    "#Material properties\n"
   ]
  },
  {
   "cell_type": "code",
   "execution_count": 63,
   "metadata": {
    "collapsed": false
   },
   "outputs": [],
   "source": [
    "#Make variables required for plasticity\n",
    "\n",
    "secinvCopy = fn.tensor.second_invariant( \n",
    "                            fn.tensor.symmetric( \n",
    "                            velocityField.fn_gradient ))\n"
   ]
  },
  {
   "cell_type": "code",
   "execution_count": 64,
   "metadata": {
    "collapsed": true
   },
   "outputs": [],
   "source": [
    "coordinate = fn.input()"
   ]
  },
  {
   "cell_type": "code",
   "execution_count": 65,
   "metadata": {
    "collapsed": false
   },
   "outputs": [],
   "source": [
    "#Remember to use floats everywhere when setting up functions\n",
    "\n",
    "#Linear viscosities\n",
    "#viscosityl1 = fn.math.exp((math.log(ETA_T)*-1*temperatureField) + (math.log(ETA_T)*-1*0.64))\n",
    "viscosityl1 = fn.math.exp(math.log(ETA_T)*-1.*temperatureField)\n",
    "\n",
    "viscosityl2 = fn.math.exp((math.log(ETA_T)*-1.*temperatureField) + (1.-coordinate[1])*math.log(ETA_Y))\n",
    "\n",
    "viscosityFn1 = viscosityl1 #This one always gets passed to the first velcotity solve\n",
    "\n",
    "#Von Mises effective viscosity\n",
    "viscosityp = ETA0 + YSTRESS/(secinvCopy/math.sqrt(0.5)) #extra factor to account for underworld second invariant form\n",
    "\n",
    "\n",
    "if CASE == 1:\n",
    "    viscosityFn2 = viscosityFn1\n",
    "elif CASE == 2:\n",
    "    viscosityFn2 = 2./(1./viscosityl1 + 1./viscosityp)\n",
    "elif CASE == 3:\n",
    "    viscosityFn2 = viscosityl2\n",
    "else:\n",
    "    viscosityFn2 = 2./(1./viscosityl2 + 1./viscosityp)\n"
   ]
  },
  {
   "cell_type": "code",
   "execution_count": 66,
   "metadata": {
    "collapsed": false
   },
   "outputs": [
    {
     "name": "stdout",
     "output_type": "stream",
     "text": [
      "(100.0, 100000.0, 10.0, 0.001, 1.0)\n"
     ]
    }
   ],
   "source": [
    "print(RA, ETA_T, ETA_Y, ETA0, YSTRESS)"
   ]
  },
  {
   "cell_type": "markdown",
   "metadata": {},
   "source": [
    "Set up simulation parameters and functions\n",
    "====\n",
    "\n",
    "Here the functions for density, viscosity etc. are set. These functions and/or values are preserved for the entire simulation time. "
   ]
  },
  {
   "cell_type": "code",
   "execution_count": 67,
   "metadata": {
    "collapsed": true
   },
   "outputs": [],
   "source": [
    "densityFn = RA*temperatureField\n",
    "\n",
    "# define our vertical unit vector using a python tuple (this will be automatically converted to a function)\n",
    "z_hat = ( 0.0, 1.0 )\n",
    "\n",
    "# now create a buoyancy force vector using the density (FEvariable) and the vertical unit vector. \n",
    "# The result from which will also be a FEvariable.\n",
    "buoyancyFn = z_hat * densityFn "
   ]
  },
  {
   "cell_type": "markdown",
   "metadata": {},
   "source": [
    "Build the Stokes system, solvers, advection-diffusion\n",
    "------\n",
    "\n",
    "Setup linear Stokes system to get the initial velocity."
   ]
  },
  {
   "cell_type": "code",
   "execution_count": 68,
   "metadata": {
    "collapsed": false
   },
   "outputs": [],
   "source": [
    "#We first set up a l\n",
    "stokesPIC = uw.systems.Stokes(velocityField=velocityField, \n",
    "                              pressureField=pressureField,\n",
    "                              conditions=[freeslipBC,],\n",
    "#                              viscosityFn=viscosityFn1, \n",
    "                              fn_viscosity=fn.exception.SafeMaths(viscosityFn1), \n",
    "                              fn_bodyforce=buoyancyFn)"
   ]
  },
  {
   "cell_type": "markdown",
   "metadata": {},
   "source": [
    "We do one solve with linear viscosity to get the initial strain rate invariant. This solve step also calculates a 'guess' of the the velocity field based on the linear system, which is used later in the non-linear solver."
   ]
  },
  {
   "cell_type": "code",
   "execution_count": 69,
   "metadata": {
    "collapsed": false
   },
   "outputs": [],
   "source": [
    "solver = uw.systems.Solver(stokesPIC)\n",
    "solver.solve() "
   ]
  },
  {
   "cell_type": "code",
   "execution_count": 70,
   "metadata": {
    "collapsed": false
   },
   "outputs": [],
   "source": [
    "# Setup the Stokes system again, now with linear or nonlinear visocity viscosity.\n",
    "stokesPIC2 = uw.systems.Stokes(velocityField=velocityField, \n",
    "                              pressureField=pressureField,\n",
    "                              conditions=[freeslipBC,],\n",
    "                              fn_viscosity=fn.exception.SafeMaths(viscosityFn2), \n",
    "                              fn_bodyforce=buoyancyFn )"
   ]
  },
  {
   "cell_type": "code",
   "execution_count": 71,
   "metadata": {
    "collapsed": false
   },
   "outputs": [],
   "source": [
    "solver = uw.systems.Solver(stokesPIC2) # altered from PIC2"
   ]
  },
  {
   "cell_type": "markdown",
   "metadata": {},
   "source": [
    "Solve for initial pressure and velocity using a quick non-linear Picard iteration\n"
   ]
  },
  {
   "cell_type": "code",
   "execution_count": 72,
   "metadata": {
    "collapsed": false
   },
   "outputs": [],
   "source": [
    "solver.solve(nonLinearIterate=True)"
   ]
  },
  {
   "cell_type": "markdown",
   "metadata": {},
   "source": [
    "Create an advective-diffusive system\n",
    "=====\n",
    "\n",
    "Setup the system in underworld by flagging the temperature and velocity field variables."
   ]
  },
  {
   "cell_type": "code",
   "execution_count": 73,
   "metadata": {
    "collapsed": false
   },
   "outputs": [],
   "source": [
    "\n",
    "advDiff = uw.systems.AdvectionDiffusion( phiField       = temperatureField, \n",
    "                                         phiDotField    = temperatureDotField, \n",
    "                                         velocityField  = velocityField,\n",
    "                                         fn_sourceTerm    = 10.0,\n",
    "                                         fn_diffusivity = 1.0, \n",
    "                                         conditions     = [tempBC,] )"
   ]
  },
  {
   "cell_type": "markdown",
   "metadata": {},
   "source": [
    "Metrics for benchmark\n",
    "=====\n",
    "\n",
    "Define functions to be used in the time loop. For cases 1-4, participants were asked to report a number of diagnostic quantities to be measured after reaching steady state:\n",
    "\n",
    "* Average temp... $$  \\langle T \\rangle  = \\int^1_0 \\int^1_0 T \\, dxdy $$\n",
    "* Top and bottom Nusselt numbers... $$N = \\int^1_0 \\frac{\\partial T}{\\partial y} \\rvert_{y=0/1} \\, dx$$\n",
    "* RMS velocity over the whole domain, surface and max velocity at surface\n",
    "* max and min viscosity over the whole domain\n",
    "* average rate of work done against gravity...$$\\langle W \\rangle = \\int^1_0 \\int^1_0 T u_y \\, dx dy$$\n",
    "* and the average rate of viscous dissipation...$$\\langle \\Phi \\rangle = \\int^1_0 \\int^1_0 \\tau_{ij} \\dot \\epsilon_{ij} \\, dx dy$$\n",
    "\n",
    "* In steady state, if thermal energy is accurately conserved, the difference between $\\langle W \\rangle$ and $\\langle \\Phi \\rangle / Ra$ must vanish, so also reported is the percentage error: \n",
    "\n",
    "$$ \\delta = \\frac{\\lvert \\langle W \\rangle - \\frac{\\langle \\Phi \\rangle}{Ra} \\rvert}{max \\left(  \\langle W \\rangle,  \\frac{\\langle \\Phi \\rangle}{Ra}\\right)} \\times 100% $$"
   ]
  },
  {
   "cell_type": "code",
   "execution_count": 74,
   "metadata": {
    "collapsed": false
   },
   "outputs": [],
   "source": [
    "#Setup some Integrals. We want these outside the main loop...\n",
    "tempint = uw.utils.Integral(temperatureField, mesh)\n",
    "areaint = uw.utils.Integral(1.,mesh)\n",
    "\n",
    "v2int = uw.utils.Integral(fn.math.dot(velocityField,velocityField), mesh)\n",
    "topareaint = uw.utils.Integral((topField*1.),mesh)\n",
    "\n",
    "dwint = uw.utils.Integral(temperatureField*velocityField[1], mesh)\n",
    "\n",
    "secinv = fn.tensor.second_invariant(\n",
    "                    fn.tensor.symmetric(\n",
    "                        velocityField.fn_gradient))\n",
    "\n",
    "sinner = fn.math.dot(secinv,secinv)\n",
    "vdint = uw.utils.Integral((4.*viscosityFn2*sinner), mesh)"
   ]
  },
  {
   "cell_type": "code",
   "execution_count": 75,
   "metadata": {
    "collapsed": false
   },
   "outputs": [],
   "source": [
    "def avg_temp():\n",
    "    return tempint.evaluate()[0]/areaint.evaluate()[0]\n",
    "\n",
    "\n",
    "def nusseltNumber(temperatureField, temperatureMesh, indexSet):\n",
    "    tempgradField = temperatureField.fn_gradient\n",
    "    vertGradField = tempgradField[1]\n",
    "    Nu = uw.utils.Integral(vertGradField , mesh=temperatureMesh, integrationType='Surface', surfaceIndexSet=indexSet)\n",
    "    return Nu.evaluate()[0]\n",
    "\n",
    "\n",
    "def rms():\n",
    "    return math.sqrt(v2int.evaluate()[0])\n",
    "\n",
    "\n",
    "#This one gets cleaned up when Surface integrals are available\n",
    "def rmsBoundary(velocityField, velocityMesh, indexSet):\n",
    "    v2fn = fn.math.dot(velocityField,velocityField)\n",
    "    v2int = uw.utils.Integral(v2fn, mesh=velocityMesh, integrationType='Surface', surfaceIndexSet=indexSet)\n",
    "    rmsbound = math.sqrt(v2int.evaluate()[0]) \n",
    "    return rmsbound\n",
    "    \n",
    "    \n",
    "    fn.math.dot(velocityField,np.array([1.,0.]))\n",
    "    return math.sqrt(v2int.evaluate()[0]/topareaint.evaluate()[0])\n",
    "\n",
    "def max_vx_surf(velfield, mesh):\n",
    "    vuvelxfn = fn.view.min_max(velfield[0])\n",
    "    vuvelxfn.evaluate(mesh.specialSets[\"MaxJ_VertexSet\"])\n",
    "    return vuvelxfn.max_global()\n",
    "\n",
    "def gravwork(workfn):\n",
    "    return workfn.evaluate()[0]\n",
    "\n",
    "def viscdis(vdissfn):\n",
    "    return vdissfn.evaluate()[0]\n",
    "\n",
    "def visc_extr(viscfn):\n",
    "    vuviscfn = fn.view.min_max(viscfn)\n",
    "    vuviscfn.evaluate(mesh)\n",
    "    return vuviscfn.max_global(), vuviscfn.min_global()"
   ]
  },
  {
   "cell_type": "code",
   "execution_count": 76,
   "metadata": {
    "collapsed": false
   },
   "outputs": [
    {
     "data": {
      "text/plain": [
       "0.5000000000000845"
      ]
     },
     "execution_count": 76,
     "metadata": {},
     "output_type": "execute_result"
    }
   ],
   "source": [
    "avg_temp()"
   ]
  },
  {
   "cell_type": "code",
   "execution_count": 77,
   "metadata": {
    "collapsed": false
   },
   "outputs": [],
   "source": [
    "#Fields for saving data / fields\n",
    "\n",
    "rmsField = uw.mesh.MeshVariable( mesh=mesh,   nodeDofCount=1)\n",
    "rmsfn = fn.math.sqrt(fn.math.dot(velocityField,velocityField))\n",
    "rmsdata = rmsfn.evaluate(mesh)\n",
    "rmsField.data[:] = rmsdata \n",
    "\n",
    "viscField = uw.mesh.MeshVariable( mesh=mesh,   nodeDofCount=1)\n",
    "viscdata = viscosityFn2.evaluate(mesh)\n",
    "viscField.data[:] = viscdata\n",
    "\n",
    "\n",
    "stressField = uw.mesh.MeshVariable( mesh=mesh,   nodeDofCount=1)\n",
    "srtdata = fn.tensor.second_invariant( \n",
    "                    fn.tensor.symmetric( \n",
    "                        velocityField.fn_gradient ))\n",
    "\n",
    "rostfield = srtdata.evaluate(mesh)\n",
    "stressinv = 2*viscdata*rostfield[:]\n",
    "stressField.data[:] = stressinv"
   ]
  },
  {
   "cell_type": "code",
   "execution_count": 78,
   "metadata": {
    "collapsed": true
   },
   "outputs": [],
   "source": [
    "def checkpoint1(step, checkpointPath,filename, filewrites):\n",
    "    path = checkpointPath + str(step) \n",
    "    os.mkdir(path)\n",
    "    ##Write and save the file, if not already a writing step\n",
    "    if not step % filewrites == 0:\n",
    "        filename.write((13*'%-15s ' + '\\n') % (realtime, Viscdis, float(Nu0glob), float(Nu1glob), Avg_temp, \n",
    "                                              Rms,Rmsurfglob,Max_vx_surf,Gravwork, etamax, etamin, Viscdisair, Viscdislith))\n",
    "    filename.close()\n",
    "    shutil.copyfile(os.path.join(outputPath, outputFile), os.path.join(path, outputFile))\n",
    "\n",
    "\n",
    "def checkpoint2(step, checkpointPath,  filename):\n",
    "    path = checkpointPath + str(step) \n",
    "    velfile = \"velocityField\" + \".hdf5\"\n",
    "    tempfile = \"temperatureField\" + \".hdf5\"\n",
    "    pressfile = \"pressureField\" + \".hdf5\"\n",
    "    velocityField.save(os.path.join(path, velfile))\n",
    "    temperatureField.save(os.path.join(path, tempfile))\n",
    "    pressureField.save(os.path.join(path, pressfile))\n",
    "        "
   ]
  },
  {
   "cell_type": "markdown",
   "metadata": {},
   "source": [
    "Main simulation loop\n",
    "=======\n",
    "\n",
    "The main time stepping loop begins here. Before this the time and timestep are initialised to zero and the output statistics arrays are set up. Also the frequency of outputting basic statistics to the screen is set in steps_output.\n"
   ]
  },
  {
   "cell_type": "code",
   "execution_count": 79,
   "metadata": {
    "collapsed": false
   },
   "outputs": [],
   "source": [
    "realtime = 0.\n",
    "step = 0\n",
    "timevals = [0.]\n",
    "steps_end = 10\n",
    "steps_output = 1e6\n",
    "steps_display_info = 20"
   ]
  },
  {
   "cell_type": "code",
   "execution_count": 80,
   "metadata": {
    "collapsed": false,
    "scrolled": true
   },
   "outputs": [],
   "source": [
    "###########\n",
    "#Open file for writing metrics\n",
    "###########\n",
    "\n",
    "if checkpointLoad:\n",
    "    if uw.rank() == 0:\n",
    "        shutil.copyfile(os.path.join(checkpointLoadDir, outputFile), outputPath+outputFile)\n",
    "    comm.Barrier()\n",
    "    #os.rename(os.path.join(checkpointLoadDir, outputFile), outputPath+outputFile)\n",
    "    f_o = open(os.path.join(outputPath, outputFile), 'a')\n",
    "    prevdata = np.genfromtxt(os.path.join(outputPath, outputFile), skip_header=0, skip_footer=0)\n",
    "    realtime = prevdata[prevdata.shape[0]-1, 0]\n",
    "    step = int(checkpointLoadDir.split('/')[-1])\n",
    "    timevals = [0.]\n",
    "else:\n",
    "    f_o = open(outputPath+outputFile, 'w')\n",
    "    realtime = 0.\n",
    "    step = 0\n",
    "    timevals = [0.]"
   ]
  },
  {
   "cell_type": "code",
   "execution_count": 81,
   "metadata": {
    "collapsed": false
   },
   "outputs": [
    {
     "data": {
      "text/plain": [
       "0"
      ]
     },
     "execution_count": 81,
     "metadata": {},
     "output_type": "execute_result"
    }
   ],
   "source": [
    "step"
   ]
  },
  {
   "cell_type": "code",
   "execution_count": 82,
   "metadata": {
    "collapsed": false
   },
   "outputs": [],
   "source": [
    "# initialise timer for computation\n",
    "start = time.clock()\n",
    "# Perform steps\n",
    "#while realtime < 0.15:\n",
    "while step < 200:\n",
    "    #Enter non-linear loop\n",
    "    solver.solve(nonLinearIterate=True)\n",
    "    dt = advDiff.get_max_dt()\n",
    "    if step == 0:\n",
    "        dt = 0.\n",
    "    # Advect using this timestep size   \n",
    "    advDiff.integrate(dt)\n",
    "    # Increment\n",
    "    realtime += dt\n",
    "    step += 1\n",
    "    timevals.append(realtime)\n",
    "    ################            \n",
    "    # Calculate the Metrics, only on 1 of the processors:\n",
    "    ################\n",
    "    if (step % metric_output == 0):\n",
    "    \n",
    "        Avg_temp = avg_temp()\n",
    "        Rms = rms()\n",
    "        Rms_surf = rmsBoundary(velocityField,mesh, TWalls)\n",
    "        Max_vx_surf = max_vx_surf(velocityField, mesh)\n",
    "        Gravwork = gravwork(dwint)\n",
    "        Viscdis = viscdis(vdint)\n",
    "        nu0, nu1 = nusseltNumber(temperatureField, mesh, BWalls), nusseltNumber(temperatureField, mesh, TWalls)\n",
    "        etamax, etamin = visc_extr(viscosityFn2)\n",
    "        # output to summary text file\n",
    "        if uw.rank()==0:\n",
    "            f_o.write((11*'%-15s ' + '\\n') % (realtime, Viscdis, nu0, nu1, Avg_temp, Rms,Rms_surf,Max_vx_surf,Gravwork, etamax, etamin))\n",
    "    # output image to file\n",
    "    if (step % steps_output == 0) & (writeFiles == True):\n",
    "        ##Files to save\n",
    "        #Temp\n",
    "        fnametemp = \"temperatureField\" + \"_\" + str(CASE) + \"_\" + str(step) + \".hdf5\"\n",
    "        fullpath = os.path.join(outputPath + \"files/\" + fnametemp)\n",
    "        temperatureField.save(fullpath)\n",
    "        #RMS\n",
    "        fnamerms = \"rmsField\" + \"_\" + str(CASE) + \"_\" + str(step) + \".hdf5\"\n",
    "        fullpath = os.path.join(outputPath + \"files/\" + fnamerms)\n",
    "        rmsField.save(fullpath)\n",
    "        #Viscosity\n",
    "        fnamevisc = \"viscField\" + \"_\" + str(CASE) + \"_\" + str(step) + \".hdf5\"\n",
    "        fullpath = os.path.join(outputPath + \"files/\" + fnamevisc)\n",
    "        viscField.save(fullpath)\n",
    "        #Stress\n",
    "        fnamestress = \"stressField\" + \"_\" + str(CASE) + \"_\" + str(step) + \".hdf5\"\n",
    "        fullpath = os.path.join(outputPath + \"files/\" + fnamestress)\n",
    "        stressField.save(fullpath)\n",
    "    ################\n",
    "    #Checkpoint\n",
    "    ################\n",
    "    if step % checkpoint_every == 0:\n",
    "        if uw.rank() == 0:\n",
    "            checkpoint1(step, checkpointPath,f_o, metric_output)           \n",
    "        checkpoint2(step, checkpointPath, f_o)\n",
    "        f_o = open(os.path.join(outputPath, outputFile), 'a') #is this line supposed to be here?\n"
   ]
  },
  {
   "cell_type": "code",
   "execution_count": 83,
   "metadata": {
    "collapsed": true
   },
   "outputs": [],
   "source": [
    "f_o.close()"
   ]
  },
  {
   "cell_type": "code",
   "execution_count": 84,
   "metadata": {
    "collapsed": false
   },
   "outputs": [
    {
     "data": {
      "text/html": [
       "<img src='data:image/png;base64,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'>"
      ],
      "text/plain": [
       "<IPython.core.display.HTML object>"
      ]
     },
     "execution_count": 84,
     "metadata": {},
     "output_type": "execute_result"
    }
   ],
   "source": [
    "figTemp = glucifer.Figure()\n",
    "figTemp.append( glucifer.objects.Surface(mesh, temperatureField))\n",
    "#figTemp.append( glucifer.objects.Mesh(mesh))\n",
    "\n",
    "#figTemp.append( glucifer.objects.VectorArrows(mesh,velocityField, arrowHead=0.2, scaling=0.05))\n",
    "#figTemp.save_database('test.gldb')\n",
    "figTemp.show()"
   ]
  },
  {
   "cell_type": "code",
   "execution_count": 85,
   "metadata": {
    "collapsed": false
   },
   "outputs": [
    {
     "name": "stdout",
     "output_type": "stream",
     "text": [
      "(218.02358900000002, 0.016527407115472393)\n"
     ]
    }
   ],
   "source": [
    "print(time.clock()-start, realtime)"
   ]
  },
  {
   "cell_type": "code",
   "execution_count": null,
   "metadata": {
    "collapsed": true
   },
   "outputs": [],
   "source": []
  }
 ],
 "metadata": {
  "kernelspec": {
   "display_name": "Python 2",
   "language": "python",
   "name": "python2"
  },
  "language_info": {
   "codemirror_mode": {
    "name": "ipython",
    "version": 2
   },
   "file_extension": ".py",
   "mimetype": "text/x-python",
   "name": "python",
   "nbconvert_exporter": "python",
   "pygments_lexer": "ipython2",
   "version": "2.7.11"
  }
 },
 "nbformat": 4,
 "nbformat_minor": 0
}
