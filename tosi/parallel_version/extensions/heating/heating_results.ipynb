{
 "cells": [
  {
   "cell_type": "code",
   "execution_count": 27,
   "metadata": {
    "collapsed": false
   },
   "outputs": [],
   "source": [
    "import numpy as np\n",
    "import pandas as pd\n",
    "import seaborn as sns\n",
    "import matplotlib.pyplot as plt\n",
    "%matplotlib inline\n",
    "sns.set(style=\"ticks\")\n",
    "\n"
   ]
  },
  {
   "cell_type": "code",
   "execution_count": 40,
   "metadata": {
    "collapsed": true
   },
   "outputs": [],
   "source": [
    "A_0  = np.genfromtxt(\"results/A/0/Base/results_modelA_0_Base.dat\", skip_header=0, skip_footer=1)\n",
    "A_1  = np.genfromtxt(\"results/A/1/Base/results_modelA_1_Base.dat\", skip_header=0, skip_footer=1)\n",
    "A_2  = np.genfromtxt(\"results/A/2/Base/results_modelA_2_Base.dat\", skip_header=0, skip_footer=1)"
   ]
  },
  {
   "cell_type": "code",
   "execution_count": 41,
   "metadata": {
    "collapsed": false
   },
   "outputs": [
    {
     "data": {
      "text/plain": [
       "array([ 0.50000034,  0.50000099,  0.50000188,  0.50000304,  0.50000451,\n",
       "        0.50000634,  0.50000857,  0.50001127,  0.5000145 ,  0.50001835,\n",
       "        0.50002291,  0.50002829,  0.50003461,  0.50004201,  0.50005067,\n",
       "        0.50006079,  0.50007254,  0.50008599,  0.50010169,  0.50012004,\n",
       "        0.50014152,  0.5001667 ,  0.50019626,  0.50023106,  0.50027215,\n",
       "        0.50032087,  0.50037892,  0.50044848,  0.50053218,  0.50063342,\n",
       "        0.50075506,  0.50088732,  0.50102825,  0.50117811,  0.50133643,\n",
       "        0.50150338,  0.50167908,  0.50186325,  0.50205326,  0.5022453 ,\n",
       "        0.50243993,  0.50263753,  0.50283809,  0.50304106,  0.50324613,\n",
       "        0.50345266,  0.5036576 ,  0.50385817,  0.50405183])"
      ]
     },
     "execution_count": 41,
     "metadata": {},
     "output_type": "execute_result"
    }
   ],
   "source": [
    "A_0[:,4]"
   ]
  },
  {
   "cell_type": "code",
   "execution_count": 43,
   "metadata": {
    "collapsed": false
   },
   "outputs": [
    {
     "data": {
      "image/png": "[encoded data removed]",
      "text/plain": [
       "<matplotlib.figure.Figure at 0x1179abad0>"
      ]
     },
     "metadata": {},
     "output_type": "display_data"
    }
   ],
   "source": [
    "col = 4\n",
    "ax1 = plt.subplot(111)\n",
    "\n",
    "#ax1.set_xlim([0.0, 0.01])\n",
    "#ax1.set_ylim([0., 4.])\n",
    "\n",
    "\n",
    "\n",
    "plt.plot(A_0[:,0], A_0[:,col], c='r',label=\"no heating\")\n",
    "plt.plot(A_2[:,0], A_2[:,col], c='g',label=\"heating = 10.\")\n",
    "plt.plot(A_1[:,0], A_1[:,col], c='k',label=\"heating = 30.\")\n",
    "\n",
    "\n",
    "plt.xlabel(\"dimensionless t\")\n",
    "plt.ylabel(\"Avg. Temperature\")\n",
    "\n",
    "plt.legend()\n",
    "\n",
    "plt.savefig('A0Nusselt.png')\n"
   ]
  },
  {
   "cell_type": "code",
   "execution_count": 26,
   "metadata": {
    "collapsed": false
   },
   "outputs": [
    {
     "data": {
      "text/plain": [
       "pandas.core.frame.DataFrame"
      ]
     },
     "execution_count": 26,
     "metadata": {},
     "output_type": "execute_result"
    }
   ],
   "source": [
    "type(tips)"
   ]
  },
  {
   "cell_type": "code",
   "execution_count": null,
   "metadata": {
    "collapsed": true
   },
   "outputs": [],
   "source": []
  }
 ],
 "metadata": {
  "kernelspec": {
   "display_name": "Python 2",
   "language": "python",
   "name": "python2"
  },
  "language_info": {
   "codemirror_mode": {
    "name": "ipython",
    "version": 2
   },
   "file_extension": ".py",
   "mimetype": "text/x-python",
   "name": "python",
   "nbconvert_exporter": "python",
   "pygments_lexer": "ipython2",
   "version": "2.7.11"
  }
 },
 "nbformat": 4,
 "nbformat_minor": 0
}
