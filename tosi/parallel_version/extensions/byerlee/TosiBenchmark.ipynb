{
 "cells": [
  {
   "cell_type": "markdown",
   "metadata": {
    "collapsed": true
   },
   "source": [
    "\n",
    "Viscoplastic thermal convection in a 2-D square box\n",
    "=======\n",
    "\n",
    "Benchmarks from Tosi et al. 2015\n",
    "--------\n",
    "\n"
   ]
  },
  {
   "cell_type": "markdown",
   "metadata": {
    "collapsed": true
   },
   "source": [
    "This notebook generates models from the <a name=\"ref-1\"/>[(Tosi et al., 2015)](#cite-tosi2015community) in Underworld2. The Underworld2 results are compared to the model run on Fenics. Input files for the Fenics models were provided by Petra Maierova.\n",
    "\n",
    "This example uses the RT PIC solver with classic and nearest neighbour\n",
    "\n",
    "\n",
    "References\n",
    "====\n",
    "\n",
    "<a name=\"cite-tosi2015community\"/><sup>[^](#ref-1) </sup>Tosi, Nicola and Stein, Claudia and Noack, Lena and H&uuml;ttig, Christian and Maierov&aacute;, Petra and Samuel, Henri and Davies, DR and Wilson, CR and Kramer, SC and Thieulot, Cedric and others. 2015. _A community benchmark for viscoplastic thermal convection in a 2-D square box_.\n",
    "\n"
   ]
  },
  {
   "cell_type": "markdown",
   "metadata": {},
   "source": [
    "Load python functions needed for underworld. Some additional python functions from os, math and numpy used later on."
   ]
  },
  {
   "cell_type": "code",
   "execution_count": 5,
   "metadata": {
    "collapsed": false
   },
   "outputs": [],
   "source": [
    "import underworld as uw\n",
    "import math\n",
    "from underworld import function as fn\n",
    "import glucifer\n",
    "import matplotlib.pyplot as pyplot\n",
    "import time\n",
    "import numpy as np\n",
    "import os"
   ]
  },
  {
   "cell_type": "markdown",
   "metadata": {},
   "source": [
    "Set physical constants and parameters, including the Rayleigh number (*RA*). "
   ]
  },
  {
   "cell_type": "code",
   "execution_count": 6,
   "metadata": {
    "collapsed": true
   },
   "outputs": [],
   "source": [
    "#Do you want to write hdf5 files - Temp, RMS, viscosity, stress?\n",
    "writeFiles = False"
   ]
  },
  {
   "cell_type": "code",
   "execution_count": 7,
   "metadata": {
    "collapsed": false
   },
   "outputs": [],
   "source": [
    "#ETA_T = 1e5\n",
    "#newvisc = math.exp(math.log(ETA_T)*0.64)\n",
    "#newvisc"
   ]
  },
  {
   "cell_type": "code",
   "execution_count": 8,
   "metadata": {
    "collapsed": false
   },
   "outputs": [],
   "source": [
    "case_dict = {}\n",
    "case_dict[1] = {}\n",
    "case_dict[1]['ETA_Y'] = 1.\n",
    "case_dict[1]['YSTRESS'] = 1.\n",
    "\n",
    "case_dict[2] = {}\n",
    "case_dict[2]['ETA_Y'] = 1.\n",
    "case_dict[2]['YSTRESS'] = 1.\n",
    "\n",
    "case_dict[3] = {}\n",
    "case_dict[3]['ETA_Y'] = 10.\n",
    "\n",
    "case_dict[4] = {}\n",
    "case_dict[4]['ETA_Y'] = 10.\n",
    "case_dict[4]['YSTRESS'] = 1.\n",
    "\n",
    "case_dict[5] = {}\n",
    "case_dict[5]['ETA_Y'] = 10.\n",
    "case_dict[5]['YSTRESS'] = 4."
   ]
  },
  {
   "cell_type": "code",
   "execution_count": 9,
   "metadata": {
    "collapsed": false
   },
   "outputs": [],
   "source": [
    "CASE = 4 # select identifier of the testing case (1-5)"
   ]
  },
  {
   "cell_type": "code",
   "execution_count": 10,
   "metadata": {
    "collapsed": false
   },
   "outputs": [],
   "source": [
    "RA  = 1e2        # Rayleigh number\n",
    "TS  = 0          # surface temperature\n",
    "TB  = 1          # bottom boundary temperature (melting point)\n",
    "ETA_T = 1e5\n",
    "ETA_Y = case_dict[CASE]['ETA_Y']\n",
    "ETA0 = 1e-3\n",
    "TMAX = 3.0\n",
    "IMAX = 1000\n",
    "YSTRESS = case_dict[CASE]['YSTRESS']\n",
    "RES = 40"
   ]
  },
  {
   "cell_type": "markdown",
   "metadata": {},
   "source": [
    "Alternatively, use a reference viscosity identical to Crameri and Tackley, i.e. normalised at 0.64.\n",
    "In this case the Rayligh number would go to:"
   ]
  },
  {
   "cell_type": "code",
   "execution_count": 11,
   "metadata": {
    "collapsed": false
   },
   "outputs": [
    {
     "data": {
      "text/plain": [
       "1584.8931924611143"
      ]
     },
     "execution_count": 11,
     "metadata": {},
     "output_type": "execute_result"
    }
   ],
   "source": [
    "math.exp(math.log(10**5)*0.64)"
   ]
  },
  {
   "cell_type": "code",
   "execution_count": 12,
   "metadata": {
    "collapsed": false
   },
   "outputs": [],
   "source": [
    "#RA2/RA == newvisc"
   ]
  },
  {
   "cell_type": "code",
   "execution_count": 13,
   "metadata": {
    "collapsed": false
   },
   "outputs": [],
   "source": [
    "#RA2 = RA *math.exp(math.log(10**5)*0.64)\n",
    "#print('new Rayleigh number would be: ' + str(RA2))"
   ]
  },
  {
   "cell_type": "code",
   "execution_count": 14,
   "metadata": {
    "collapsed": false
   },
   "outputs": [],
   "source": [
    "#print(str(RA2), str(ETA0), str(YSTRESS))"
   ]
  },
  {
   "cell_type": "markdown",
   "metadata": {},
   "source": [
    "Simulation parameters. Resolution in the horizontal (*Xres*) and vertical (*Yres*) directions."
   ]
  },
  {
   "cell_type": "code",
   "execution_count": 15,
   "metadata": {
    "collapsed": true
   },
   "outputs": [],
   "source": [
    "\n",
    "dim = 2          # number of spatial dimensions"
   ]
  },
  {
   "cell_type": "markdown",
   "metadata": {},
   "source": [
    "Select which case of viscosity from Tosi et al (2015) to use. Adjust the yield stress to be =1 for cases 1-4, or between 3.0 and 5.0 (in increments of 0.1) in case 5."
   ]
  },
  {
   "cell_type": "markdown",
   "metadata": {},
   "source": [
    "Set output file and directory for results"
   ]
  },
  {
   "cell_type": "code",
   "execution_count": 16,
   "metadata": {
    "collapsed": false
   },
   "outputs": [],
   "source": [
    "outputPath = 'TosiOutput/'\n",
    "imagePath = 'TosiOutput/images'\n",
    "filePath = 'TosiOutput/files'\n",
    "dbPath = 'TosiOutput/gldbs'\n",
    "outputFile = 'results_case' + str(CASE) + '.dat'\n",
    "\n",
    "\n",
    "# make directories if they don't exist\n",
    "if not os.path.isdir(outputPath):\n",
    "    os.makedirs(outputPath)\n",
    "if not os.path.isdir(imagePath):\n",
    "    os.makedirs(imagePath)\n",
    "if not os.path.isdir(dbPath):\n",
    "    os.makedirs(dbPath)\n",
    "if not os.path.isdir(filePath):\n",
    "    os.makedirs(filePath)"
   ]
  },
  {
   "cell_type": "markdown",
   "metadata": {},
   "source": [
    "Create mesh objects. These store the indices and spatial coordiates of the grid points on the mesh."
   ]
  },
  {
   "cell_type": "code",
   "execution_count": 17,
   "metadata": {
    "collapsed": false
   },
   "outputs": [],
   "source": [
    "elementMesh = uw.mesh.FeMesh_Cartesian( elementType=(\"Q1/dQ0\"), \n",
    "                                         elementRes=(RES, RES), \n",
    "                                           minCoord=(0.,0.), \n",
    "                                           maxCoord=(1.,1.)  )\n",
    "linearMesh   = elementMesh\n",
    "constantMesh = elementMesh.subMesh "
   ]
  },
  {
   "cell_type": "markdown",
   "metadata": {},
   "source": [
    "Create Finite Element (FE) variables for the velocity, pressure and temperature fields. The last two of these are scalar fields needing only one value at each mesh point, while the velocity field contains a vector of *dim* dimensions at each mesh point."
   ]
  },
  {
   "cell_type": "code",
   "execution_count": 18,
   "metadata": {
    "collapsed": true
   },
   "outputs": [],
   "source": [
    "velocityField    = uw.fevariable.FeVariable( feMesh=linearMesh,   nodeDofCount=dim )\n",
    "pressureField    = uw.fevariable.FeVariable( feMesh=constantMesh, nodeDofCount=1 )\n",
    "temperatureField = uw.fevariable.FeVariable( feMesh=linearMesh,   nodeDofCount=1 )\n",
    "temperatureDotField = uw.fevariable.FeVariable( feMesh=linearMesh,      nodeDofCount=1 )"
   ]
  },
  {
   "cell_type": "markdown",
   "metadata": {},
   "source": [
    "Create some dummy fevariables for doing top and bottom boundary calculations."
   ]
  },
  {
   "cell_type": "code",
   "execution_count": 19,
   "metadata": {
    "collapsed": false
   },
   "outputs": [],
   "source": [
    "topField    = uw.fevariable.FeVariable( feMesh=linearMesh,   nodeDofCount=1)\n",
    "bottomField    = uw.fevariable.FeVariable( feMesh=linearMesh,   nodeDofCount=1)\n",
    "\n",
    "topField.data[:] = 0.\n",
    "bottomField.data[:] = 0.\n",
    "\n",
    "# lets ensure temp boundaries are still what we want \n",
    "# on the boundaries\n",
    "for index in linearMesh.specialSets[\"MinJ_VertexSet\"]:\n",
    "    bottomField.data[index] = 1.\n",
    "for index in linearMesh.specialSets[\"MaxJ_VertexSet\"]:\n",
    "    topField.data[index] = 1."
   ]
  },
  {
   "cell_type": "markdown",
   "metadata": {},
   "source": [
    "#ICs and BCs"
   ]
  },
  {
   "cell_type": "code",
   "execution_count": 20,
   "metadata": {
    "collapsed": false
   },
   "outputs": [],
   "source": [
    "# Initialise data.. Note that we are also setting boundary conditions here\n",
    "velocityField.data[:] = [0.,0.]\n",
    "pressureField.data[:] = 0.\n",
    "temperatureField.data[:] = 0.\n",
    "temperatureDotField.data[:] = 0.\n",
    "\n",
    "\n",
    "# Setup temperature initial condition via numpy arrays\n",
    "A = 0.01\n",
    "#Note that width = height = 1\n",
    "tempNump = temperatureField.data\n",
    "for index, coord in enumerate(linearMesh.data):\n",
    "    pertCoeff = (1- coord[1]) + A*math.cos( math.pi * coord[0] ) * math.sin( math.pi * coord[1] )\n",
    "    tempNump[index] = pertCoeff;\n",
    "    "
   ]
  },
  {
   "cell_type": "code",
   "execution_count": 21,
   "metadata": {
    "collapsed": false
   },
   "outputs": [],
   "source": [
    "# Get the actual sets \n",
    "#\n",
    "#  HJJJJJJH\n",
    "#  I      I\n",
    "#  I      I\n",
    "#  I      I\n",
    "#  HJJJJJJH\n",
    "#  \n",
    "#  Note that H = I & J \n",
    "\n",
    "# Note that we use operator overloading to combine sets\n",
    "IWalls = linearMesh.specialSets[\"MinI_VertexSet\"] + linearMesh.specialSets[\"MaxI_VertexSet\"]\n",
    "JWalls = linearMesh.specialSets[\"MinJ_VertexSet\"] + linearMesh.specialSets[\"MaxJ_VertexSet\"]\n",
    "TWalls = linearMesh.specialSets[\"MaxJ_VertexSet\"]\n",
    "BWalls = linearMesh.specialSets[\"MinJ_VertexSet\"]"
   ]
  },
  {
   "cell_type": "code",
   "execution_count": 22,
   "metadata": {
    "collapsed": true
   },
   "outputs": [],
   "source": [
    "# Now setup the dirichlet boundary condition\n",
    "# Note that through this object, we are flagging to the system \n",
    "# that these nodes are to be considered as boundary conditions. \n",
    "# Also note that we provide a tuple of sets.. One for the Vx, one for Vy.\n",
    "freeslipBC = uw.conditions.DirichletCondition(     variable=velocityField, \n",
    "                                              nodeIndexSets=(IWalls,JWalls) )\n",
    "\n",
    "# also set dirichlet for temp field\n",
    "tempBC = uw.conditions.DirichletCondition(     variable=temperatureField, \n",
    "                                              nodeIndexSets=(JWalls,) )"
   ]
  },
  {
   "cell_type": "code",
   "execution_count": 23,
   "metadata": {
    "collapsed": false
   },
   "outputs": [],
   "source": [
    "# Set temp boundaries \n",
    "# on the boundaries\n",
    "for index in linearMesh.specialSets[\"MinJ_VertexSet\"]:\n",
    "    temperatureField.data[index] = TB\n",
    "for index in linearMesh.specialSets[\"MaxJ_VertexSet\"]:\n",
    "    temperatureField.data[index] = TS"
   ]
  },
  {
   "cell_type": "markdown",
   "metadata": {
    "collapsed": false
   },
   "source": [
    "#Material properties\n"
   ]
  },
  {
   "cell_type": "code",
   "execution_count": 24,
   "metadata": {
    "collapsed": false
   },
   "outputs": [],
   "source": [
    "#Make variables required for plasticity\n",
    "\n",
    "secinvCopy = fn.tensor.second_invariant( \n",
    "                    fn.tensor.symmetric( \n",
    "                        velocityField.gradientFn ))\n"
   ]
  },
  {
   "cell_type": "code",
   "execution_count": 25,
   "metadata": {
    "collapsed": true
   },
   "outputs": [],
   "source": [
    "coordinate = fn.input()\n",
    "\n",
    "depth = 1. - coordinate[1]"
   ]
  },
  {
   "cell_type": "code",
   "execution_count": 26,
   "metadata": {
    "collapsed": false
   },
   "outputs": [],
   "source": [
    "g = 9.81\n",
    "rho0 = 3300\n",
    "kappa = 10**-6\n",
    "D = 2890.\n",
    "eta0 = 1e23\n",
    "fc = 0.1\n",
    "lithopressuregrad = rho0*g*(D*1e3)**3/(eta0*kappa)"
   ]
  },
  {
   "cell_type": "code",
   "execution_count": 27,
   "metadata": {
    "collapsed": false
   },
   "outputs": [],
   "source": [
    "#Remember to use floats everywhere when setting up functions\n",
    "\n",
    "#Linear viscosities\n",
    "#viscosityl1 = fn.math.exp((math.log(ETA_T)*-1*temperatureField) + (math.log(ETA_T)*-1*0.64))\n",
    "viscosityl1 = fn.math.exp(math.log(ETA_T)*-1.*temperatureField)\n",
    "\n",
    "viscosityl2 = fn.math.exp((math.log(ETA_T)*-1.*temperatureField) + (1.-coordinate[1])*math.log(ETA_Y))\n",
    "\n",
    "viscosityFn1 = viscosityl1 #This one always gets passed to the first velcotity solve\n",
    "\n",
    "#Von Mises effective viscosity\n",
    "YD = YSTRESS + fc*lithopressuregrad*depth\n",
    "\n",
    "viscosityp = ETA0 + YD/(secinvCopy/math.sqrt(0.5)) #extra factor to account for underworld second invariant form\n",
    "\n",
    "\n",
    "if CASE == 1:\n",
    "    viscosityFn2 = viscosityFn1\n",
    "elif CASE == 2:\n",
    "    viscosityFn2 = 2./(1./viscosityl1 + 1./viscosityp)\n",
    "elif CASE == 3:\n",
    "    viscosityFn2 = viscosityl2\n",
    "else:\n",
    "    viscosityFn2 = 2./(1./viscosityl2 + 1./viscosityp)\n"
   ]
  },
  {
   "cell_type": "code",
   "execution_count": 28,
   "metadata": {
    "collapsed": false
   },
   "outputs": [
    {
     "name": "stdout",
     "output_type": "stream",
     "text": [
      "(100.0, 100000.0, 10.0, 0.001, 1.0)\n"
     ]
    }
   ],
   "source": [
    "print(RA, ETA_T, ETA_Y, ETA0, YSTRESS)"
   ]
  },
  {
   "cell_type": "markdown",
   "metadata": {},
   "source": [
    "Set up simulation parameters and functions\n",
    "====\n",
    "\n",
    "Here the functions for density, viscosity etc. are set. These functions and/or values are preserved for the entire simulation time. "
   ]
  },
  {
   "cell_type": "code",
   "execution_count": 29,
   "metadata": {
    "collapsed": true
   },
   "outputs": [],
   "source": [
    "densityFn = RA*temperatureField\n",
    "\n",
    "# define our vertical unit vector using a python tuple (this will be automatically converted to a function)\n",
    "z_hat = ( 0.0, 1.0 )\n",
    "\n",
    "# now create a buoyancy force vector using the density (FEvariable) and the vertical unit vector. \n",
    "# The result from which will also be a FEvariable.\n",
    "buoyancyFn = z_hat * densityFn "
   ]
  },
  {
   "cell_type": "markdown",
   "metadata": {},
   "source": [
    "Build the Stokes system, solvers, advection-diffusion\n",
    "------\n",
    "\n",
    "Setup linear Stokes system to get the initial velocity."
   ]
  },
  {
   "cell_type": "code",
   "execution_count": 30,
   "metadata": {
    "collapsed": false
   },
   "outputs": [],
   "source": [
    "#We first set up a l\n",
    "stokesPIC = uw.systems.Stokes(velocityField=velocityField, \n",
    "                              pressureField=pressureField,\n",
    "                              conditions=[freeslipBC,],\n",
    "#                              viscosityFn=viscosityFn1, \n",
    "                              viscosityFn=fn.exception.SafeMaths(viscosityFn1), \n",
    "                              bodyForceFn=buoyancyFn)"
   ]
  },
  {
   "cell_type": "markdown",
   "metadata": {},
   "source": [
    "We do one solve with linear viscosity to get the initial strain rate invariant. This solve step also calculates a 'guess' of the the velocity field based on the linear system, which is used later in the non-linear solver."
   ]
  },
  {
   "cell_type": "code",
   "execution_count": 31,
   "metadata": {
    "collapsed": true
   },
   "outputs": [],
   "source": [
    "stokesPIC.solve()"
   ]
  },
  {
   "cell_type": "code",
   "execution_count": 32,
   "metadata": {
    "collapsed": false
   },
   "outputs": [],
   "source": [
    "# Setup the Stokes system again, now with linear or nonlinear visocity viscosity.\n",
    "stokesPIC2 = uw.systems.Stokes(velocityField=velocityField, \n",
    "                              pressureField=pressureField,\n",
    "                              conditions=[freeslipBC,],\n",
    "                              viscosityFn=fn.exception.SafeMaths(viscosityFn2), \n",
    "                              bodyForceFn=buoyancyFn )"
   ]
  },
  {
   "cell_type": "code",
   "execution_count": 33,
   "metadata": {
    "collapsed": false
   },
   "outputs": [],
   "source": [
    "solver = uw.systems.Solver(stokesPIC2) # altered from PIC2"
   ]
  },
  {
   "cell_type": "markdown",
   "metadata": {},
   "source": [
    "Solve for initial pressure and velocity using a quick non-linear Picard iteration\n"
   ]
  },
  {
   "cell_type": "code",
   "execution_count": 34,
   "metadata": {
    "collapsed": false
   },
   "outputs": [],
   "source": [
    "solver.solve(nonLinearIterate=True)"
   ]
  },
  {
   "cell_type": "markdown",
   "metadata": {},
   "source": [
    "Create an advective-diffusive system\n",
    "=====\n",
    "\n",
    "Setup the system in underworld by flagging the temperature and velocity field variables."
   ]
  },
  {
   "cell_type": "code",
   "execution_count": 35,
   "metadata": {
    "collapsed": false
   },
   "outputs": [],
   "source": [
    "# Create advdiff system\n",
    "#advDiff = uw.systems.AdvectionDiffusion( temperatureField, velocityField, diffusivity=1., conditions=[tempBC,] )\n",
    "advDiff = uw.systems.AdvectionDiffusion( temperatureField, temperatureDotField, velocityField, diffusivity=1., conditions=[tempBC,] )\n",
    "\n"
   ]
  },
  {
   "cell_type": "markdown",
   "metadata": {},
   "source": [
    "Metrics for benchmark\n",
    "=====\n",
    "\n",
    "Define functions to be used in the time loop. For cases 1-4, participants were asked to report a number of diagnostic quantities to be measured after reaching steady state:\n",
    "\n",
    "* Average temp... $$  \\langle T \\rangle  = \\int^1_0 \\int^1_0 T \\, dxdy $$\n",
    "* Top and bottom Nusselt numbers... $$N = \\int^1_0 \\frac{\\partial T}{\\partial y} \\rvert_{y=0/1} \\, dx$$\n",
    "* RMS velocity over the whole domain, surface and max velocity at surface\n",
    "* max and min viscosity over the whole domain\n",
    "* average rate of work done against gravity...$$\\langle W \\rangle = \\int^1_0 \\int^1_0 T u_y \\, dx dy$$\n",
    "* and the average rate of viscous dissipation...$$\\langle \\Phi \\rangle = \\int^1_0 \\int^1_0 \\tau_{ij} \\dot \\epsilon_{ij} \\, dx dy$$\n",
    "\n",
    "* In steady state, if thermal energy is accurately conserved, the difference between $\\langle W \\rangle$ and $\\langle \\Phi \\rangle / Ra$ must vanish, so also reported is the percentage error: \n",
    "\n",
    "$$ \\delta = \\frac{\\lvert \\langle W \\rangle - \\frac{\\langle \\Phi \\rangle}{Ra} \\rvert}{max \\left(  \\langle W \\rangle,  \\frac{\\langle \\Phi \\rangle}{Ra}\\right)} \\times 100% $$"
   ]
  },
  {
   "cell_type": "code",
   "execution_count": 36,
   "metadata": {
    "collapsed": true
   },
   "outputs": [],
   "source": [
    "#Setup some Integrals. We want these outside the main loop...\n",
    "tempint = uw.utils.Integral(temperatureField, linearMesh)\n",
    "areaint = uw.utils.Integral(1.,linearMesh)\n",
    "\n",
    "v2int = uw.utils.Integral(fn.math.dot(velocityField,velocityField), linearMesh)\n",
    "topareaint = uw.utils.Integral((topField*1.),linearMesh)\n",
    "\n",
    "dwint = uw.utils.Integral(temperatureField*velocityField[1], linearMesh)\n",
    "\n",
    "secinv = fn.tensor.second_invariant(\n",
    "                    fn.tensor.symmetric(\n",
    "                        velocityField.gradientFn ))\n",
    "\n",
    "sinner = fn.math.dot(secinv,secinv)\n",
    "vdint = uw.utils.Integral((4.*viscosityFn2*sinner), linearMesh)"
   ]
  },
  {
   "cell_type": "code",
   "execution_count": 37,
   "metadata": {
    "collapsed": false
   },
   "outputs": [],
   "source": [
    "def avg_temp():\n",
    "    return tempint.evaluate()[0]/areaint.evaluate()[0]\n",
    "\n",
    "\n",
    "def nusseltNumber(temperatureField, temperatureMesh, indexSet):\n",
    "    tempgradField = temperatureField.gradientFn\n",
    "    vertGradField = tempgradField[1]\n",
    "    Nu = uw.utils.Integral(vertGradField , mesh=temperatureMesh, integrationType='Surface', surfaceIndexSet=indexSet)\n",
    "    return Nu.evaluate()[0]\n",
    "\n",
    "\n",
    "def rms():\n",
    "    return math.sqrt(v2int.evaluate()[0])\n",
    "\n",
    "\n",
    "#This one gets cleaned up when Surface integrals are available\n",
    "def rmsBoundary(velocityField, velocityMesh, indexSet):\n",
    "    v2fn = fn.math.dot(velocityField,velocityField)\n",
    "    v2int = uw.utils.Integral(v2fn, mesh=velocityMesh, integrationType='Surface', surfaceIndexSet=indexSet)\n",
    "    rmsbound = math.sqrt(v2int.evaluate()[0]) \n",
    "    return rmsbound\n",
    "    \n",
    "    \n",
    "    fn.math.dot(velocityField,np.array([1.,0.]))\n",
    "    return math.sqrt(v2int.evaluate()[0]/topareaint.evaluate()[0])\n",
    "\n",
    "def max_vx_surf(velfield, mesh):\n",
    "    vuvelxfn = fn.view.min_max(velfield[0])\n",
    "    vuvelxfn.evaluate(mesh.specialSets[\"MaxJ_VertexSet\"])\n",
    "    return vuvelxfn.max_global()\n",
    "\n",
    "def gravwork(workfn):\n",
    "    return workfn.evaluate()[0]\n",
    "\n",
    "def viscdis(vdissfn):\n",
    "    return vdissfn.evaluate()[0]\n",
    "\n",
    "def visc_extr(viscfn):\n",
    "    vuviscfn = fn.view.min_max(viscfn)\n",
    "    vuviscfn.evaluate(linearMesh)\n",
    "    return vuviscfn.max_global(), vuviscfn.min_global()"
   ]
  },
  {
   "cell_type": "code",
   "execution_count": null,
   "metadata": {
    "collapsed": false
   },
   "outputs": [],
   "source": []
  },
  {
   "cell_type": "code",
   "execution_count": 38,
   "metadata": {
    "collapsed": false
   },
   "outputs": [],
   "source": [
    "#Fields for saving data / fields\n",
    "\n",
    "rmsField = uw.fevariable.FeVariable( feMesh=linearMesh,   nodeDofCount=1)\n",
    "rmsfn = fn.math.sqrt(fn.math.dot(velocityField,velocityField))\n",
    "rmsdata = rmsfn.evaluate(linearMesh)\n",
    "rmsField.data[:] = rmsdata \n",
    "\n",
    "viscField = uw.fevariable.FeVariable( feMesh=linearMesh,   nodeDofCount=1)\n",
    "viscdata = viscosityFn2.evaluate(linearMesh)\n",
    "viscField.data[:] = viscdata\n",
    "\n",
    "\n",
    "stressField = uw.fevariable.FeVariable( feMesh=linearMesh,   nodeDofCount=1)\n",
    "srtdata = fn.tensor.second_invariant( \n",
    "                    fn.tensor.symmetric( \n",
    "                        velocityField.gradientFn ))\n",
    "rostfield = srtdata.evaluate(linearMesh)\n",
    "stressinv = 2*viscdata*rostfield[:]\n",
    "stressField.data[:] = stressinv"
   ]
  },
  {
   "cell_type": "markdown",
   "metadata": {},
   "source": [
    "Main simulation loop\n",
    "=======\n",
    "\n",
    "The main time stepping loop begins here. Before this the time and timestep are initialised to zero and the output statistics arrays are set up. Also the frequency of outputting basic statistics to the screen is set in steps_output.\n"
   ]
  },
  {
   "cell_type": "code",
   "execution_count": 39,
   "metadata": {
    "collapsed": false
   },
   "outputs": [],
   "source": [
    "realtime = 0.\n",
    "step = 0\n",
    "timevals = [0.]\n",
    "steps_end = 5\n",
    "steps_output = 100\n",
    "steps_display_info = 20"
   ]
  },
  {
   "cell_type": "code",
   "execution_count": 40,
   "metadata": {
    "collapsed": false
   },
   "outputs": [],
   "source": [
    "# initialise timer for computation\n",
    "start = time.clock()\n",
    "# setup summary output file (name above)\n",
    "f_o = open(outputPath+outputFile, 'w')\n",
    "# Perform steps\n",
    "#while realtime < 0.15:\n",
    "while step < steps_end:\n",
    "    #Enter non-linear loop\n",
    "    solver.solve(nonLinearIterate=True)\n",
    "    dt = advDiff.get_max_dt()\n",
    "    if step == 0:\n",
    "        dt = 0.\n",
    "    # Advect using this timestep size   \n",
    "    advDiff.integrate(dt)\n",
    "    # Increment\n",
    "    realtime += dt\n",
    "    step += 1\n",
    "    timevals.append(realtime)\n",
    "    # Calculate the Metrics, only on 1 of the processors:\n",
    "    Avg_temp = avg_temp()\n",
    "    Rms = rms()\n",
    "    Rms_surf = rmsBoundary(velocityField,linearMesh, TWalls)\n",
    "    Max_vx_surf = max_vx_surf(velocityField, linearMesh)\n",
    "    Gravwork = gravwork(dwint)\n",
    "    Viscdis = viscdis(vdint)\n",
    "    nu0, nu1 = nusseltNumber(temperatureField, linearMesh, BWalls), nusseltNumber(temperatureField, linearMesh, TWalls)\n",
    "    etamax, etamin = visc_extr(viscosityFn2)\n",
    "    # output to summary text file\n",
    "    if uw.rank()==0:\n",
    "        f_o.write((11*'%-15s ' + '\\n') % (realtime, Viscdis, nu0, nu1, Avg_temp, Rms,Rms_surf,Max_vx_surf,Gravwork, etamax, etamin))\n",
    "   \n",
    "    if step %  steps_display_info == 0:\n",
    "        print('steps = {0:6d}; time = {1:.3e}; v_rms = {2:.3f}; Nu0 = {3:.3f}; Nu1 = {3:.3f}'\n",
    "          .format(step, realtime, Rms, nu0, nu1))\n",
    "    # output image to file\n",
    "    if (step % steps_output == 0) & (writeFiles == True):\n",
    "        ##Files to save\n",
    "        #Temp\n",
    "        fnametemp = \"temperatureField\" + \"_\" + str(CASE) + \"_\" + str(step) + \".hdf5\"\n",
    "        fullpath = os.path.join(outputPath + \"files/\" + fnametemp)\n",
    "        temperatureField.save(fullpath)\n",
    "        #RMS\n",
    "        fnamerms = \"rmsField\" + \"_\" + str(CASE) + \"_\" + str(step) + \".hdf5\"\n",
    "        fullpath = os.path.join(outputPath + \"files/\" + fnamerms)\n",
    "        rmsField.save(fullpath)\n",
    "        #Viscosity\n",
    "        fnamevisc = \"viscField\" + \"_\" + str(CASE) + \"_\" + str(step) + \".hdf5\"\n",
    "        fullpath = os.path.join(outputPath + \"files/\" + fnamevisc)\n",
    "        viscField.save(fullpath)\n",
    "        #Stress\n",
    "        fnamestress = \"stressField\" + \"_\" + str(CASE) + \"_\" + str(step) + \".hdf5\"\n",
    "        fullpath = os.path.join(outputPath + \"files/\" + fnamestress)\n",
    "        stressField.save(fullpath)\n",
    "f_o.close()"
   ]
  },
  {
   "cell_type": "code",
   "execution_count": 41,
   "metadata": {
    "collapsed": false
   },
   "outputs": [],
   "source": [
    "#fig1 = plt.Figure()\n",
    "#fig1.Surface(buoyancyFn[1], elementMesh)\n",
    "#fig1.Surface(viscosityl1, elementMesh)\n",
    "#fig1.Points( swarm=gSwarm, colourVariable=viscVariable , pointSize=3.0)\n",
    "#fig1.VectorArrows(velocityField, linearMesh, lengthScale=0.02)\n",
    "#fig1.show()"
   ]
  },
  {
   "cell_type": "code",
   "execution_count": 42,
   "metadata": {
    "collapsed": false
   },
   "outputs": [
    {
     "data": {
      "text/html": [
       "<img src='data:image/png;base64,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'>"
      ],
      "text/plain": [
       "<IPython.core.display.HTML object>"
      ]
     },
     "execution_count": 42,
     "metadata": {},
     "output_type": "execute_result"
    }
   ],
   "source": [
    "figTemp = glucifer.Figure()\n",
    "figTemp + glucifer.objects.Surface(elementMesh, temperatureField)\n",
    "figTemp + glucifer.objects.VectorArrows(elementMesh,velocityField, arrowHead=0.2, scaling=0.1)\n",
    "figTemp+ glucifer.objects.Mesh(linearMesh)\n",
    "figTemp.show()"
   ]
  },
  {
   "cell_type": "code",
   "execution_count": 43,
   "metadata": {
    "collapsed": false
   },
   "outputs": [
    {
     "data": {
      "text/html": [
       "<img src='data:image/png;base64,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'>"
      ],
      "text/plain": [
       "<IPython.core.display.HTML object>"
      ]
     },
     "execution_count": 43,
     "metadata": {},
     "output_type": "execute_result"
    }
   ],
   "source": [
    "figEta = glucifer.Figure()\n",
    "figEta + glucifer.objects.Surface(elementMesh, viscosityFn2)\n",
    "#figTemp + glucifer.objects.VectorArrows(elementMesh,velocityField, arrowHead=0.2, scaling=0.1)\n",
    "#figTemp+ glucifer.objects.Mesh(linearMesh)\n",
    "figEta.show()"
   ]
  },
  {
   "cell_type": "code",
   "execution_count": 41,
   "metadata": {
    "collapsed": false
   },
   "outputs": [
    {
     "name": "stdout",
     "output_type": "stream",
     "text": [
      "(5.480530999999999, 0.0006249999999999956)\n"
     ]
    }
   ],
   "source": [
    "print(time.clock()-start, realtime)"
   ]
  },
  {
   "cell_type": "code",
   "execution_count": null,
   "metadata": {
    "collapsed": true
   },
   "outputs": [],
   "source": []
  }
 ],
 "metadata": {
  "kernelspec": {
   "display_name": "Python 2",
   "language": "python",
   "name": "python2"
  },
  "language_info": {
   "codemirror_mode": {
    "name": "ipython",
    "version": 2
   },
   "file_extension": ".py",
   "mimetype": "text/x-python",
   "name": "python",
   "nbconvert_exporter": "python",
   "pygments_lexer": "ipython2",
   "version": "2.7.11"
  }
 },
 "nbformat": 4,
 "nbformat_minor": 0
}
