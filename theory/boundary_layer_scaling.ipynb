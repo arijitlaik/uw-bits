{
 "cells": [
  {
   "cell_type": "markdown",
   "metadata": {},
   "source": [
    "##Boundary layer scaling"
   ]
  },
  {
   "cell_type": "markdown",
   "metadata": {},
   "source": [
    "##Thermal boundary layer\n",
    "\n",
    "We will usually scale the temperature using \n",
    "\n",
    "$T - T_0 = \\Delta T T' $\n",
    "\n",
    "The dimensionless Halfspace cooling model is then:\n",
    "\n",
    "$$ T'(z', A) = T_m'erf \\left( \\frac{z'}{\\left( 2\\sqrt{A\\kappa}\\right)/D} \\right)$$\n",
    "\n",
    "Where $D$ is the length scale\n",
    "\n",
    "$$ T'(z', A) = T_m'erf \\left( \\frac{z'}{2\\sqrt{A/ \\tau}} \\right)$$\n",
    "\n",
    "Where, $\\tau$ is the thermal diffusion timescale $\\tau = D^2/\\kappa$, Age has the same temporal units as $\\kappa$, usually seconds, as in the commonly-used value: $\\kappa = 10^{-6}\\, m^2/s$"
   ]
  },
  {
   "cell_type": "markdown",
   "metadata": {},
   "source": [
    "##Depth of the oceanic lithsophere\n",
    "\n",
    "Using the 1300 degree isotherm,  alternatively $\\frac{(T − T_0)}{(T_1 − T_0)} = 0.9.$. Turcotte and Schubert give:\n",
    "\n",
    "$y_L = 2.32\\sqrt{\\kappa \\tau}$\n"
   ]
  },
  {
   "cell_type": "code",
   "execution_count": 3,
   "metadata": {
    "collapsed": false
   },
   "outputs": [
    {
     "name": "stdout",
     "output_type": "stream",
     "text": [
      "116.529607019\n"
     ]
    }
   ],
   "source": [
    "import math\n",
    "print(2.32*math.sqrt(1e-6*80*(3600*24*365)))"
   ]
  },
  {
   "cell_type": "markdown",
   "metadata": {},
   "source": [
    "from Rolf and Tackley:\n",
    "\n",
    "* Seismic tomographic results show that cratons can beas thick as $200–250 km$ [e.g., Gung et al., 2003], which agrees well with studies on electrical conductivity data [Hirth et al., 2000]. \n",
    "\n",
    "* However, these estimates cannot be used directly in this study as the Rayleigh number in the model, which determines the thickness of the thermal boundary layer, is a factor of about 20 lower than expected for the Earth ($Ra_E \\approx 2\\times10^7$ [Schubert et al., 2001]):assuming an oceanic boundary layer thickness of $\\delta_E = 100 km$ for the Earth, its model analogue needs to be scaled up as $\\delta =(RaE/Ra)^{1/3} \\cdot \\delta_E \\approx 2.7 \\cdot \\delta_E$, and the same scaling factor must be applied to the continental boundary layer. \n",
    "\n",
    "* Therefore, we chose a craton thickness of 20% mantle depth for all simulations presented so far, which corresponds to 580 km in the model and 215 km if rescaled to the Earth. To investigate the influence of continental thicknesson the convective regime we compared three simulations with a craton thickness of 20%, 10% and 5% mantle depth."
   ]
  },
  {
   "cell_type": "code",
   "execution_count": 1,
   "metadata": {
    "collapsed": false
   },
   "outputs": [
    {
     "name": "stdout",
     "output_type": "stream",
     "text": [
      "mantle depth is about: 2900km\n",
      "For Ra = 10**6, the boundary layer is: 580km\n",
      "For Ra = 2*10**7, the equivalent boundary layer thickness is: 214.814814815km\n"
     ]
    }
   ],
   "source": [
    "print \"mantle depth is about: \" + str(580*5) + \"km\"\n",
    "print \"For Ra = 10**6, the boundary layer is: \" + str(580) + \"km\"\n",
    "print \"For Ra = 2*10**7, the equivalent boundary layer thickness is: \" + str(580/2.7) + \"km\""
   ]
  },
  {
   "cell_type": "code",
   "execution_count": null,
   "metadata": {
    "collapsed": true
   },
   "outputs": [],
   "source": []
  }
 ],
 "metadata": {
  "kernelspec": {
   "display_name": "Python 2",
   "language": "python",
   "name": "python2"
  },
  "language_info": {
   "codemirror_mode": {
    "name": "ipython",
    "version": 2
   },
   "file_extension": ".py",
   "mimetype": "text/x-python",
   "name": "python",
   "nbconvert_exporter": "python",
   "pygments_lexer": "ipython2",
   "version": "2.7.10"
  }
 },
 "nbformat": 4,
 "nbformat_minor": 0
}
