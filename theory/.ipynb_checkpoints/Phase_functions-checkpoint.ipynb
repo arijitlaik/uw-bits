{
 "cells": [
  {
   "cell_type": "markdown",
   "metadata": {},
   "source": [
    "## Phase transformations:\n",
    "    "
   ]
  },
  {
   "cell_type": "markdown",
   "metadata": {},
   "source": [
    "\n",
    "We do not include the latent heat term, which has a minimal effect on slab stagnation (King, 2007), and its inclusion would be inconsistent with incompressible flow.\n"
   ]
  },
  {
   "cell_type": "code",
   "execution_count": 74,
   "metadata": {
    "collapsed": false
   },
   "outputs": [
    {
     "name": "stdout",
     "output_type": "stream",
     "text": [
      "Populating the interactive namespace from numpy and matplotlib\n"
     ]
    }
   ],
   "source": [
    "%pylab inline\n",
    "import numpy as np\n",
    "import math\n",
    "import matplotlib.pylab\n",
    "from easydict import EasyDict as edict"
   ]
  },
  {
   "cell_type": "code",
   "execution_count": 75,
   "metadata": {
    "collapsed": false
   },
   "outputs": [],
   "source": [
    "#dimensional parameter dictionary\n",
    "dp = edict({#'LS':2900.*1e3,\n",
    "            'LS':2000.*1e3,\n",
    "            'rho':3300,\n",
    "            'g':9.8,\n",
    "            'TP':1573., #potential temp\n",
    "            'TS':273., #surface temp\n",
    "            'a':3e-5, #surface thermal expansivity\n",
    "            'Cp':1250. #Jkg-1K-1\n",
    "    })\n",
    "\n",
    "#Adibatic heating stuff\n",
    "dp.dTa = (dp.a*dp.g*(dp.TP))/dp.Cp #adibatic gradient, at Tp\n",
    "dp.deltaTa = (dp.TP + dp.dTa*dp.LS) - dp.TS  #Adiabatic Temp at base of mantle, minus Ts\n",
    "\n",
    "#dimensional parameter dictionary\n",
    "ol_sp = edict({#'LS':2900.*1e3,\n",
    "            'depth':410e3,\n",
    "            'width':13e3,\n",
    "            'clap':4.0*1e6, #Pa/K\n",
    "            'rhoFrac':5.2, #potential temp\n",
    "    }) \n",
    "\n",
    "#nondimensional parameter dictionary\n",
    "nd_ol_sp = edict({#'LS':2900.*1e3,\n",
    "            'depth':410e3/dp.LS,\n",
    "            'width':13e3/dp.LS,\n",
    "            'clap':ol_sp.clap*(dp.deltaTa/(dp.rho*dp.g*dp.LS)),\n",
    "            'rhoFrac':5.2, #potential temp\n",
    "    }) \n",
    "\n",
    "\n"
   ]
  },
  {
   "cell_type": "code",
   "execution_count": 100,
   "metadata": {
    "collapsed": false
   },
   "outputs": [
    {
     "data": {
      "text/plain": [
       "0.12615579468150898"
      ]
     },
     "execution_count": 100,
     "metadata": {},
     "output_type": "execute_result"
    }
   ],
   "source": [
    "nd_ol_sp.clap"
   ]
  },
  {
   "cell_type": "code",
   "execution_count": 77,
   "metadata": {
    "collapsed": true
   },
   "outputs": [],
   "source": [
    "def reduced_pressure(r, T, dph, clap, Tph, rho = 3300., g = 9.8):\n",
    "    return rho*g*(1. + r - dph) - clap*(T - Tph)\n",
    "\n",
    "def phase(reduced_p, width):\n",
    "    return 0.5*(1 + math.tanh(reduced_p/(dp.rho*dp.g*width)))\n",
    "    "
   ]
  },
  {
   "cell_type": "code",
   "execution_count": 78,
   "metadata": {
    "collapsed": false
   },
   "outputs": [
    {
     "data": {
      "text/plain": [
       "(32340.000000000004, 420420000.00000006)"
      ]
     },
     "execution_count": 78,
     "metadata": {},
     "output_type": "execute_result"
    }
   ],
   "source": [
    "reduced_pressure(ol_sp.depth,dp.TP, ol_sp.depth, ol_sp.clap, dp.TP), dp.rho*dp.g*ol_sp.width"
   ]
  },
  {
   "cell_type": "code",
   "execution_count": 79,
   "metadata": {
    "collapsed": false
   },
   "outputs": [],
   "source": [
    "Depths = np.linspace(200e3,500e3,100)\n",
    "Temps = np.ones(len(Depths))*dp.TP\n",
    "\n",
    "\n",
    "\n",
    "delT = dp.TP - 273.\n",
    "\n",
    "Temps += Depths*0.3e-3 #this is an approximate adiabatic gradient\n",
    "\n",
    "Temps[np.where(Depths < 250e3)] = 273. + (Depths[np.where(Depths < 250e3)]/250e3)*delT "
   ]
  },
  {
   "cell_type": "code",
   "execution_count": 80,
   "metadata": {
    "collapsed": false
   },
   "outputs": [],
   "source": [
    "phaseFunctions = []\n",
    "for index in range(len(Temps)):\n",
    "    rp = reduced_pressure(Depths[index], Temps[index], ol_sp.depth, ol_sp.clap, dp.TP)\n",
    "    pf = phase(rp, ol_sp.width)\n",
    "    phaseFunctions.append(pf)"
   ]
  },
  {
   "cell_type": "code",
   "execution_count": 82,
   "metadata": {
    "collapsed": false
   },
   "outputs": [
    {
     "data": {
      "text/plain": [
       "(-0.2, 1.2)"
      ]
     },
     "execution_count": 82,
     "metadata": {},
     "output_type": "execute_result"
    },
    {
     "data": {
      "image/png": "[encoded data removed]",
      "text/plain": [
       "<matplotlib.figure.Figure at 0x7ff5a75d9410>"
      ]
     },
     "metadata": {},
     "output_type": "display_data"
    }
   ],
   "source": [
    "#plt.plot(Depths, Temps)\n",
    "fig, ax = plt.subplots()\n",
    "ax.plot(Depths, phaseFunctions)\n",
    "ax.set_ylim(-0.2, 1.2)"
   ]
  },
  {
   "cell_type": "markdown",
   "metadata": {},
   "source": [
    "## Dimensionless"
   ]
  },
  {
   "cell_type": "code",
   "execution_count": 95,
   "metadata": {
    "collapsed": true
   },
   "outputs": [],
   "source": [
    "def nd_reduced_pressure(r, T, dph, clap, Tph):\n",
    "    return (r - dph) - clap*(T - Tph)\n",
    "\n",
    "def nd_phase(reduced_p, width):\n",
    "    return 0.5*(1 + math.tanh(reduced_p/(width)))\n",
    "    "
   ]
  },
  {
   "cell_type": "code",
   "execution_count": 96,
   "metadata": {
    "collapsed": false
   },
   "outputs": [],
   "source": [
    "ndDepths = Depths/dp.LS\n",
    "ndTemps = Temps/dp.deltaTa"
   ]
  },
  {
   "cell_type": "code",
   "execution_count": 97,
   "metadata": {
    "collapsed": false
   },
   "outputs": [
    {
     "data": {
      "text/plain": [
       "(0.205, 0.12615579468150898, 0.0065, 0.7711014132185899)"
      ]
     },
     "execution_count": 97,
     "metadata": {},
     "output_type": "execute_result"
    }
   ],
   "source": [
    "nd_ol_sp.depth, nd_ol_sp.clap, nd_ol_sp.width, dp.TP/dp.deltaTa"
   ]
  },
  {
   "cell_type": "code",
   "execution_count": 98,
   "metadata": {
    "collapsed": false
   },
   "outputs": [],
   "source": [
    "phaseFunctions = []\n",
    "for index in range(len(ndTemps)):\n",
    "    rp = nd_reduced_pressure(ndDepths[index], ndTemps[index], nd_ol_sp.depth, nd_ol_sp.clap, dp.TP/dp.deltaTa)\n",
    "    pf = nd_phase(rp, nd_ol_sp.width)\n",
    "    phaseFunctions.append(pf)"
   ]
  },
  {
   "cell_type": "code",
   "execution_count": null,
   "metadata": {
    "collapsed": true
   },
   "outputs": [],
   "source": []
  },
  {
   "cell_type": "code",
   "execution_count": 99,
   "metadata": {
    "collapsed": false
   },
   "outputs": [
    {
     "data": {
      "text/plain": [
       "(-0.2, 1.2)"
      ]
     },
     "execution_count": 99,
     "metadata": {},
     "output_type": "execute_result"
    },
    {
     "data": {
      "image/png": "[encoded data removed]",
      "text/plain": [
       "<matplotlib.figure.Figure at 0x7ff5a776b250>"
      ]
     },
     "metadata": {},
     "output_type": "display_data"
    }
   ],
   "source": [
    "#plt.plot(Depths, Temps)\n",
    "fig, ax = plt.subplots()\n",
    "ax.plot(ndDepths, phaseFunctions)\n",
    "ax.set_ylim(-0.2, 1.2)"
   ]
  },
  {
   "cell_type": "code",
   "execution_count": null,
   "metadata": {
    "collapsed": true
   },
   "outputs": [],
   "source": []
  }
 ],
 "metadata": {
  "kernelspec": {
   "display_name": "Python 2",
   "language": "python",
   "name": "python2"
  },
  "language_info": {
   "codemirror_mode": {
    "name": "ipython",
    "version": 2
   },
   "file_extension": ".py",
   "mimetype": "text/x-python",
   "name": "python",
   "nbconvert_exporter": "python",
   "pygments_lexer": "ipython2",
   "version": "2.7.9"
  }
 },
 "nbformat": 4,
 "nbformat_minor": 0
}
