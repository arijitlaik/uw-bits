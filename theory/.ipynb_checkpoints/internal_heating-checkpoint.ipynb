{
 "cells": [
  {
   "cell_type": "markdown",
   "metadata": {},
   "source": [
    "## Internal heating\n",
    "\n",
    "dimensionless internal heating is:\n",
    "\n",
    "$$H_{int} = \\frac{Q D^2}{\\rho_0 C \\triangle T \\kappa_0} $$\n",
    "\n",
    "where Q is the internal heating rate measured as energy per time per volume, and C is the specific heat. \n",
    "\n",
    "Internal heating is often given as in units of energy per time per mass ($W kg^{-1}$), in which case the density is not needed in the scaling.\n",
    "\n",
    "\n",
    "$$H_{int} = \\frac{Q D^2}{C \\triangle T \\kappa_0} $$\n",
    "\n",
    "See e.g. Yoshida: \"Dynamic role of the rheological contrast between cratonic and oceanic lithospheres in the longevity of cratonic lithosphere: A three-dimensional numerical study\""
   ]
  },
  {
   "cell_type": "code",
   "execution_count": 28,
   "metadata": {
    "collapsed": true
   },
   "outputs": [],
   "source": [
    "#Heating per unit mass\n",
    "\n",
    "D = 2890\n",
    "delT = 2500\n",
    "rho0 = 3300\n",
    "H = 5.44*1e-12 #Internal heating W kg-1\n",
    "C = 1200 # Heat capacity J kg−1 K-1\n",
    "k = 1e-6 #Thermal diffusivity m2 s−1 "
   ]
  },
  {
   "cell_type": "code",
   "execution_count": 29,
   "metadata": {
    "collapsed": false
   },
   "outputs": [
    {
     "name": "stdout",
     "output_type": "stream",
     "text": [
      "(5.44e-12, 2784033333333.3335, 15.145141333333335)\n"
     ]
    }
   ],
   "source": [
    "Hs1 = (D*1e3)**2/(C*delT*k)\n",
    "print(H, Hs1, H*Hs1)"
   ]
  },
  {
   "cell_type": "code",
   "execution_count": 30,
   "metadata": {
    "collapsed": true
   },
   "outputs": [],
   "source": [
    "#Heating per unit volume\n",
    "\n",
    "D = 2890\n",
    "delT = 2500\n",
    "rho0 = 3300\n",
    "H = 5.44*1e-12*rho0 #Internal heating W m-3\n",
    "C = 1200 # Heat capacity J kg−1 K-1\n",
    "k = 1e-6 #Thermal diffusivity m2 s−1 "
   ]
  },
  {
   "cell_type": "code",
   "execution_count": 31,
   "metadata": {
    "collapsed": false
   },
   "outputs": [
    {
     "name": "stdout",
     "output_type": "stream",
     "text": [
      "(1.7952e-08, 843646464.6464647, 15.145141333333335)\n"
     ]
    }
   ],
   "source": [
    "Hs2 = (D*1e3)**2/(rho0*C*delT*k)\n",
    "print(H, Hs2, H*Hs2)"
   ]
  },
  {
   "cell_type": "code",
   "execution_count": null,
   "metadata": {
    "collapsed": true
   },
   "outputs": [],
   "source": []
  }
 ],
 "metadata": {
  "kernelspec": {
   "display_name": "Python 2",
   "language": "python",
   "name": "python2"
  },
  "language_info": {
   "codemirror_mode": {
    "name": "ipython",
    "version": 2
   },
   "file_extension": ".py",
   "mimetype": "text/x-python",
   "name": "python",
   "nbconvert_exporter": "python",
   "pygments_lexer": "ipython2",
   "version": "2.7.11"
  }
 },
 "nbformat": 4,
 "nbformat_minor": 0
}
