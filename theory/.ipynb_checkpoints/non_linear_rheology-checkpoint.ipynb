{
 "cells": [
  {
   "cell_type": "code",
   "execution_count": 1,
   "metadata": {
    "collapsed": false
   },
   "outputs": [],
   "source": [
    "%matplotlib inline\n",
    "import numpy as np\n",
    "import math\n",
    "import matplotlib.pylab as plt\n",
    "from easydict import EasyDict as edict\n",
    "import pint"
   ]
  },
  {
   "cell_type": "markdown",
   "metadata": {},
   "source": [
    "This notebook looks at the scaling (non-dimensionization) of some linear and non-linear viscosity laws."
   ]
  },
  {
   "cell_type": "code",
   "execution_count": 2,
   "metadata": {
    "collapsed": true
   },
   "outputs": [],
   "source": [
    "u = pint.UnitRegistry()\n",
    "cmpery = 1*u.cm/u.year\n",
    "mpermy = 1*u.m/u.megayear\n",
    "mps = 1*u.m/u.s  #scalar multiplication is necessary to turn these into pint 'quantities'"
   ]
  },
  {
   "cell_type": "markdown",
   "metadata": {
    "collapsed": true
   },
   "source": [
    "### Cizkova and Bina, Garel et al. \n",
    "\n",
    "Parameters for Diffision/Dislocation Creep from Cizokova and Bina\n",
    "Paramters for Peierls Creep and PsuedoPlasticity from Garel et. al\n"
   ]
  },
  {
   "cell_type": "markdown",
   "metadata": {},
   "source": [
    "dp = edict({'LS':2900.*1e3,\n",
    "            'rho':3300,\n",
    "            'g':9.81, \n",
    "            'eta0':7e20,\n",
    "            'k':10**-6,\n",
    "            'a':3e-5, \n",
    "            'deltaT':2212.0,\n",
    "            'R':8.314,\n",
    "            'TS':273.,\n",
    "            'SR':1e-15,\n",
    "            'Adf':1e-9,\n",
    "            'Ads':3.1e-17,\n",
    "            'Aps':1e-150,\n",
    "            'Edf':3.35e5,\n",
    "            'Eds':4.8e5,\n",
    "            'Eps':5.4e5,\n",
    "            'Vdf':4e-6,\n",
    "            'Vds':11e-6,\n",
    "            'Vps':10e-6,\n",
    "            'Alm':1.3e-16,\n",
    "            'Elm':2.0e5,\n",
    "            'Vlm':1.1e-6,\n",
    "            'n':3.5,\n",
    "            'P1':250e3*10*3300,\n",
    "            'rT':1573.,\n",
    "            'rD':250.e3,\n",
    "             'Ba':4.3e-12})"
   ]
  },
  {
   "cell_type": "code",
   "execution_count": 28,
   "metadata": {
    "collapsed": false
   },
   "outputs": [],
   "source": [
    "#dimensional parameter dictionary\n",
    "dp = edict({'LS':2900.*1e3,\n",
    "            'rho':3300,\n",
    "            'g':9.81, \n",
    "            'eta0':7e20,\n",
    "            'k':10**-6,\n",
    "            'a':3e-5, \n",
    "            'deltaT':2212.0,\n",
    "            'R':8.314,\n",
    "            'TS':273.,\n",
    "            'cohesion':2e6, #\n",
    "            'fc':0.2, \n",
    "            'SR':1e-15,\n",
    "            'Adf':3e-11,\n",
    "            'Ads':5e-16,\n",
    "            'Aps':1e-150,\n",
    "            'Edf':3e5,\n",
    "            'Eds':5.4e5,\n",
    "            'Eps':5.4e5,\n",
    "            'Vdf':4e-6,\n",
    "            'Vds':12e-6,\n",
    "            'Vps':10e-6,\n",
    "            'Alm':1.3e-16,\n",
    "            'Elm':2.0e5,\n",
    "            'Vlm':1.1e-6,\n",
    "            'n':3.5,\n",
    "            'np':20.,\n",
    "            'P1':250e3*10*3300,\n",
    "            'rT':1573.,\n",
    "            'rD':250.e3,\n",
    "             'Ba':4.3e-12})\n",
    "\n",
    "sf = edict({'stress':dp.LS**2/(dp.k*dp.eta0),\n",
    "            'lith_grad':dp.rho*dp.g*(dp.LS)**3/(dp.eta0*dp.k) ,\n",
    "            'vel':dp.LS/dp.k,\n",
    "            'SR':dp.LS**2/dp.k,\n",
    "            'W':(-1./dp.Ba)*(np.log(1.-dp.rho*dp.g*dp.Ba*dp.LS))/(dp.R*dp.deltaT), #Including adiabatic compression\n",
    "            'E': 1./(dp.R*dp.deltaT),\n",
    "            'Ads':(dp.eta0**(dp.n-2))*((dp.k)**(dp.n-1))*((dp.LS)**(2. - 2*dp.n))       })\n",
    "\n",
    "\n",
    "\n",
    "ndp = edict({'RA':(dp.g*dp.rho*dp.a*dp.deltaT *(dp.LS)**3)/(dp.k*dp.eta0),\n",
    "            'TS':0., \n",
    "            'TB':1.,\n",
    "            'TR': (dp.rT- dp.TS)/dp.deltaT,\n",
    "            'TSp':(dp.TS/dp.deltaT),\n",
    "            'TBp':(dp.TS+dp.deltaT/dp.deltaT),\n",
    "            'RD':100e3/dp.LS,\n",
    "            'SR': dp.SR*sf.SR,\n",
    "             'cohesion':dp.cohesion*sf.stress,\n",
    "            'fcd':dp.fc*sf.lith_grad,\n",
    "            'n':3.5,\n",
    "            'np':20.,\n",
    "            'low_visc':1e-2,\n",
    "            'up_visc':1e8,\n",
    "            'Wdf':dp.Vdf*sf.W,\n",
    "            'Edf':dp.Edf*sf.E,\n",
    "            'Wds':dp.Vds*sf.W,\n",
    "            'Eds':dp.Eds*sf.E,\n",
    "            'Elm':dp.Elm*sf.E,\n",
    "           'Wlm':dp.Vlm*sf.W})"
   ]
  },
  {
   "cell_type": "code",
   "execution_count": 29,
   "metadata": {
    "collapsed": false
   },
   "outputs": [
    {
     "data": {
      "text/plain": [
       "(29.3628777534223, 16.31270986301239)"
      ]
     },
     "execution_count": 29,
     "metadata": {},
     "output_type": "execute_result"
    }
   ],
   "source": [
    "ndp.Eds, ndp.Edf"
   ]
  },
  {
   "cell_type": "code",
   "execution_count": 70,
   "metadata": {
    "collapsed": false
   },
   "outputs": [
    {
     "data": {
      "text/plain": [
       "[<matplotlib.lines.Line2D at 0x7f2f5abe0fd0>]"
      ]
     },
     "execution_count": 70,
     "metadata": {},
     "output_type": "execute_result"
    },
    {
     "data": {
      "image/png": "[encoded data removed]",
      "text/plain": [
       "<matplotlib.figure.Figure at 0x7f2f5b07ead0>"
      ]
     },
     "metadata": {},
     "output_type": "display_data"
    }
   ],
   "source": [
    "rdepth = 250e3 #this is the reference depth, where we normalise our flow laws\n",
    "lithdepth = 150e3\n",
    "\n",
    "Depths = np.linspace(0,2900e3,100)\n",
    "Temps = np.ones(len(Depths))*1615.\n",
    "delT = 1615. - 273.\n",
    "\n",
    "Temps += Depths*0.3e-3 #this is an approximate adiabatic gradient\n",
    "\n",
    "Temps[np.where(Depths < lithdepth)] = 273. + (Depths[np.where(Depths < lithdepth)]/lithdepth)*delT \n",
    "\n",
    "Ba = 4.3e-12\n",
    "Pressures = (-1./Ba)*(np.log(1.-dp.rho*dp.g*Ba*Depths))\n",
    "lithPressures = dp.rho*dp.g*Depths\n",
    "\n",
    "#plt.plot(depths, Temps)\n",
    "plt.plot(Depths, Pressures)\n",
    "plt.plot(Depths, lithPressures)"
   ]
  },
  {
   "cell_type": "code",
   "execution_count": 71,
   "metadata": {
    "collapsed": false
   },
   "outputs": [
    {
     "data": {
      "text/plain": [
       "[<matplotlib.lines.Line2D at 0x7f2f5aae2750>]"
      ]
     },
     "execution_count": 71,
     "metadata": {},
     "output_type": "execute_result"
    },
    {
     "data": {
      "image/png": "[encoded data removed]",
      "text/plain": [
       "<matplotlib.figure.Figure at 0x7f2f5b0eea10>"
      ]
     },
     "metadata": {},
     "output_type": "display_data"
    }
   ],
   "source": [
    "plt.plot(Depths, Temps)"
   ]
  },
  {
   "cell_type": "markdown",
   "metadata": {},
   "source": [
    "### Plot the diffusion and dislocation creep values \n",
    "* for a reference strain rate of $10^{-15}$"
   ]
  },
  {
   "cell_type": "code",
   "execution_count": 72,
   "metadata": {
    "collapsed": false
   },
   "outputs": [],
   "source": [
    "#dp.SR = 1e-14\n",
    "#dp.n = 3.\n",
    "#dp.SR = 1e-14"
   ]
  },
  {
   "cell_type": "code",
   "execution_count": 73,
   "metadata": {
    "collapsed": false
   },
   "outputs": [
    {
     "data": {
      "text/plain": [
       "(540000.0, 1e-05, 3300)"
      ]
     },
     "execution_count": 73,
     "metadata": {},
     "output_type": "execute_result"
    }
   ],
   "source": [
    "dp.Eps, dp.Vps, dp.rho"
   ]
  },
  {
   "cell_type": "code",
   "execution_count": 74,
   "metadata": {
    "collapsed": false
   },
   "outputs": [],
   "source": [
    "#Dimensional viscosity at strain rate of 1e-15\n",
    "T = np.linspace(0,1,50)\n",
    "df = (1./dp.Adf)*np.exp( ((dp.Edf + dp.Vdf*Pressures))/((dp.R*Temps)))\n",
    "ds = (1./dp.Ads**(1./dp.n))*(dp.SR**((1.-dp.n)/dp.n))*np.exp( ((dp.Eds + dp.Vds*Pressures))/((dp.n*dp.R*Temps)))\n",
    "pr = (1./dp.Aps**(1./dp.np))*(dp.SR**((1.-dp.np)/dp.np))*np.exp( ((dp.Eps + dp.Vps*Pressures))/((dp.np*dp.R*Temps)))\n",
    "pl = (dp.cohesion + dp.fc*Pressures)/(2.*dp.SR)\n",
    "nlm = (1./dp.Alm)*np.exp( ((dp.Elm + dp.Vlm*Pressures))/((dp.R*Temps)))\n",
    "\n",
    "\n",
    "#ndf[np.where( ndf > 1e28 )] = 1e28\n",
    "#nds[np.where( nds > 1e28 )] = 1e28\n",
    "#nds[np.where( nds > ndp.up_visc )] = ndp.up_visc"
   ]
  },
  {
   "cell_type": "code",
   "execution_count": 80,
   "metadata": {
    "collapsed": false
   },
   "outputs": [],
   "source": [
    "plt.subplots?"
   ]
  },
  {
   "cell_type": "code",
   "execution_count": 84,
   "metadata": {
    "collapsed": false
   },
   "outputs": [
    {
     "data": {
      "text/plain": [
       "<matplotlib.legend.Legend at 0x7f2f58353990>"
      ]
     },
     "execution_count": 84,
     "metadata": {},
     "output_type": "execute_result"
    },
    {
     "data": {
      "image/png": "[encoded data removed]",
      "text/plain": [
       "<matplotlib.figure.Figure at 0x7f2f5aaa1dd0>"
      ]
     },
     "metadata": {},
     "output_type": "display_data"
    }
   ],
   "source": [
    "fig, axes = plt.subplots(figsize = (8, 4))\n",
    "axes.plot(Depths, df, c='r', label = 'diffusion')\n",
    "axes.plot(Depths, ds, c='g', label = 'dislocation')\n",
    "axes.plot(Depths, pr, c='b', label = 'peierls')\n",
    "axes.plot(Depths, nlm, c='k', label = 'lower mantle')\n",
    "axes.plot(Depths, pl, c='y', label = 'plasticity')\n",
    "\n",
    "axes.set_ylim([1e19, 1e26])\n",
    "\n",
    "axes.set_yscale('log')\n",
    "axes.legend(loc=4)"
   ]
  },
  {
   "cell_type": "code",
   "execution_count": 103,
   "metadata": {
    "collapsed": false
   },
   "outputs": [],
   "source": [
    "dp.SR = 5e-15"
   ]
  },
  {
   "cell_type": "code",
   "execution_count": 108,
   "metadata": {
    "collapsed": false
   },
   "outputs": [
    {
     "name": "stdout",
     "output_type": "stream",
     "text": [
      "(1.1576251693777554e+21, 2.3190910336029993e+20, 1.1780138264255472e+22, 4.9917193961085662, 50.796359839111396)\n"
     ]
    }
   ],
   "source": [
    "\n",
    "#Check the reference values a point in T-D-strain rate space\n",
    "Rtemp= 1575. + rdepth*0.3e-3 #potential temp + adiabat\n",
    "#rP = 250e3*10*3300\n",
    "Ba = 4.3e-12\n",
    "Rpressure  = (-1./Ba)*(np.log(1.-dp.rho*dp.g*Ba*rdepth)) #lithostatic pressure plus adiabatic factor\n",
    "\n",
    "Rdf = (1./dp.Adf)*np.exp( ((dp.Edf + dp.Vdf*Rpressure))/((dp.R*Rtemp)))\n",
    "Rds = (1./dp.Ads**(1/dp.n))*(dp.SR**((1-dp.n)/dp.n))*np.exp( ((dp.Eds + dp.Vds*Rpressure))/((dp.n*dp.R*Rtemp)))\n",
    "Rpr = (1./dp.Aps**(1./dp.np))*(dp.SR**((1.-dp.np)/dp.np))*np.exp( ((dp.Eps + dp.Vps*Rpressure))/((dp.np*dp.R*Rtemp)))\n",
    "\n",
    "\n",
    "dffac = Rdf/Rds\n",
    "prfac = Rpr/Rds\n",
    "\n",
    "print(Rdf, Rds,Rpr, dffac, prfac)\n",
    "#So our viscosities are effectivily identical at 250 km, and a reference strain rate of 1e-15"
   ]
  },
  {
   "cell_type": "code",
   "execution_count": 109,
   "metadata": {
    "collapsed": false
   },
   "outputs": [
    {
     "data": {
      "text/plain": [
       "(7.0096965251766144e+20, 5.7887787034285408e+20)"
      ]
     },
     "execution_count": 109,
     "metadata": {},
     "output_type": "execute_result"
    }
   ],
   "source": [
    "ndf.min(), nds.min()"
   ]
  },
  {
   "cell_type": "code",
   "execution_count": 110,
   "metadata": {
    "collapsed": false
   },
   "outputs": [
    {
     "data": {
      "text/plain": [
       "1650.0"
      ]
     },
     "execution_count": 110,
     "metadata": {},
     "output_type": "execute_result"
    }
   ],
   "source": [
    "Rtemp"
   ]
  },
  {
   "cell_type": "code",
   "execution_count": null,
   "metadata": {
    "collapsed": true
   },
   "outputs": [],
   "source": []
  },
  {
   "cell_type": "markdown",
   "metadata": {
    "collapsed": true
   },
   "source": [
    "### Scale using a 'reference value' approach\n",
    "\n",
    "Define a refence point in the model space, similar to Ana-Catalina Plesa, et al., \"Thermo-chemical Mantle Convection Simulations using Gaia\", a non-dimensional form for the Arhennius law is:\n",
    "\n",
    "$$\\eta(\\epsilon, T, p) = A_r \\left(\\frac{\\epsilon}{\\epsilon_{ref}}\\right)^{\\frac{1-n}{n}} \\exp \\left(\\frac{E + pV}{n(T + T_0)} - \\frac{E + p_{ref}V}{n(T_{ref} + T_0)} \\right) $$\n",
    "\n",
    "Where $A_r$ is the ratio of the global 'reference visocosity and the viscosity of the relavent flow law at the reference values. "
   ]
  },
  {
   "cell_type": "code",
   "execution_count": 112,
   "metadata": {
    "collapsed": false
   },
   "outputs": [
    {
     "ename": "NameError",
     "evalue": "name 'depths' is not defined",
     "output_type": "error",
     "traceback": [
      "\u001b[1;31m\u001b[0m",
      "\u001b[1;31mNameError\u001b[0mTraceback (most recent call last)",
      "\u001b[1;32m<ipython-input-112-640600b9e352>\u001b[0m in \u001b[0;36m<module>\u001b[1;34m()\u001b[0m\n\u001b[1;32m----> 1\u001b[1;33m \u001b[0mndfp\u001b[0m \u001b[1;33m=\u001b[0m \u001b[1;33m(\u001b[0m\u001b[1;36m1.\u001b[0m\u001b[1;33m/\u001b[0m\u001b[0mdp\u001b[0m\u001b[1;33m.\u001b[0m\u001b[0mAdf\u001b[0m\u001b[1;33m/\u001b[0m\u001b[0mdp\u001b[0m\u001b[1;33m.\u001b[0m\u001b[0meta0\u001b[0m\u001b[1;33m)\u001b[0m\u001b[1;33m*\u001b[0m\u001b[0mnp\u001b[0m\u001b[1;33m.\u001b[0m\u001b[0mexp\u001b[0m\u001b[1;33m(\u001b[0m \u001b[1;33m(\u001b[0m\u001b[1;33m(\u001b[0m\u001b[0mndp\u001b[0m\u001b[1;33m.\u001b[0m\u001b[0mEdf\u001b[0m \u001b[1;33m+\u001b[0m \u001b[1;33m(\u001b[0m\u001b[0mdepths\u001b[0m\u001b[1;33m*\u001b[0m\u001b[0mndp\u001b[0m\u001b[1;33m.\u001b[0m\u001b[0mWdf\u001b[0m\u001b[1;33m)\u001b[0m\u001b[1;33m)\u001b[0m\u001b[1;33m/\u001b[0m\u001b[1;33m(\u001b[0m\u001b[1;33m(\u001b[0m\u001b[0mtemps\u001b[0m \u001b[1;33m+\u001b[0m \u001b[0mndp\u001b[0m\u001b[1;33m.\u001b[0m\u001b[0mTSp\u001b[0m\u001b[1;33m)\u001b[0m\u001b[1;33m)\u001b[0m\u001b[1;33m)\u001b[0m\u001b[1;33m)\u001b[0m\u001b[1;33m\u001b[0m\u001b[0m\n\u001b[0m\u001b[0;32m      2\u001b[0m \u001b[0mndsp\u001b[0m \u001b[1;33m=\u001b[0m \u001b[1;33m(\u001b[0m\u001b[0msf\u001b[0m\u001b[1;33m.\u001b[0m\u001b[0mAds\u001b[0m\u001b[1;33m/\u001b[0m\u001b[0mdp\u001b[0m\u001b[1;33m.\u001b[0m\u001b[0mAds\u001b[0m\u001b[1;33m)\u001b[0m\u001b[1;33m**\u001b[0m\u001b[1;33m(\u001b[0m\u001b[1;36m1\u001b[0m\u001b[1;33m/\u001b[0m\u001b[0mdp\u001b[0m\u001b[1;33m.\u001b[0m\u001b[0mn\u001b[0m\u001b[1;33m)\u001b[0m\u001b[1;33m*\u001b[0m\u001b[1;33m(\u001b[0m\u001b[0mndp\u001b[0m\u001b[1;33m.\u001b[0m\u001b[0mSR\u001b[0m\u001b[1;33m**\u001b[0m\u001b[1;33m(\u001b[0m\u001b[1;33m(\u001b[0m\u001b[1;36m1.\u001b[0m \u001b[1;33m-\u001b[0m\u001b[0mdp\u001b[0m\u001b[1;33m.\u001b[0m\u001b[0mn\u001b[0m\u001b[1;33m)\u001b[0m\u001b[1;33m/\u001b[0m\u001b[0mdp\u001b[0m\u001b[1;33m.\u001b[0m\u001b[0mn\u001b[0m\u001b[1;33m)\u001b[0m\u001b[1;33m)\u001b[0m\u001b[1;33m*\u001b[0m\u001b[0mnp\u001b[0m\u001b[1;33m.\u001b[0m\u001b[0mexp\u001b[0m\u001b[1;33m(\u001b[0m \u001b[1;33m(\u001b[0m\u001b[1;33m(\u001b[0m\u001b[0mndp\u001b[0m\u001b[1;33m.\u001b[0m\u001b[0mEds\u001b[0m \u001b[1;33m+\u001b[0m \u001b[1;33m(\u001b[0m\u001b[0mdepths\u001b[0m\u001b[1;33m*\u001b[0m\u001b[0mndp\u001b[0m\u001b[1;33m.\u001b[0m\u001b[0mWds\u001b[0m\u001b[1;33m)\u001b[0m\u001b[1;33m)\u001b[0m\u001b[1;33m/\u001b[0m\u001b[1;33m(\u001b[0m\u001b[0mdp\u001b[0m\u001b[1;33m.\u001b[0m\u001b[0mn\u001b[0m\u001b[1;33m*\u001b[0m\u001b[1;33m(\u001b[0m\u001b[0mtemps\u001b[0m \u001b[1;33m+\u001b[0m \u001b[0mndp\u001b[0m\u001b[1;33m.\u001b[0m\u001b[0mTSp\u001b[0m\u001b[1;33m)\u001b[0m\u001b[1;33m)\u001b[0m\u001b[1;33m)\u001b[0m\u001b[1;33m)\u001b[0m\u001b[1;33m\u001b[0m\u001b[0m\n\u001b[0;32m      3\u001b[0m \u001b[1;33m\u001b[0m\u001b[0m\n\u001b[0;32m      4\u001b[0m \u001b[1;33m\u001b[0m\u001b[0m\n\u001b[0;32m      5\u001b[0m \u001b[1;31m#print(ndf, nds)\u001b[0m\u001b[1;33m\u001b[0m\u001b[1;33m\u001b[0m\u001b[0m\n",
      "\u001b[1;31mNameError\u001b[0m: name 'depths' is not defined"
     ]
    }
   ],
   "source": [
    "ndfp = (1./dp.Adf/dp.eta0)*np.exp( ((ndp.Edf + (depths*ndp.Wdf))/((temps + ndp.TSp))))\n",
    "ndsp = (sf.Ads/dp.Ads)**(1/dp.n)*(ndp.SR**((1. -dp.n)/dp.n))*np.exp( ((ndp.Eds + (depths*ndp.Wds))/(dp.n*(temps + ndp.TSp))))\n",
    "\n",
    "\n",
    "#print(ndf, nds)\n"
   ]
  },
  {
   "cell_type": "code",
   "execution_count": 55,
   "metadata": {
    "collapsed": false
   },
   "outputs": [],
   "source": [
    "#Dimensionless viscosity\n",
    "\n",
    "ndp.SR = sf.SR*dp.SR #this is right because sf.SR = dp.L0**2/dp.k\n",
    "Rtemp = 1573./dp.deltaT - 273./dp.deltaT #this should be T'\n",
    "Rdepth = 250e3/dp.LS\n",
    "\n",
    "\n",
    "Depths = np.linspace(0,2900e3,100)\n",
    "Temps = np.ones(len(Depths))*1573.\n",
    "#delT = 1615. - 273.\n",
    "Temps += Depths*0.3e-3\n",
    "Temps[np.where(Depths < 250e3)] = 273. + (Depths[np.where(Depths < 250e3)]/250e3)*delT \n",
    "temps = Temps/ dp.deltaT - 273./dp.deltaT \n",
    "depths = np.linspace(0,1,100)\n",
    "\n",
    "ndfp = np.exp( ((ndp.Edf + (depths*ndp.Wdf))/((temps + ndp.TSp))) - \n",
    "              ((ndp.Edf + (Rdepth*ndp.Wdf))/((Rtemp + ndp.TSp)))  )\n",
    "ndsp = (1.**((1. -dp.n)/dp.n))*np.exp( ((ndp.Eds + (depths*ndp.Wds))/(dp.n*(temps + ndp.TSp))) -\n",
    "                                     ((ndp.Eds + (Rdepth*ndp.Wds))/(dp.n*(Rtemp + ndp.TSp))))\n",
    "\n",
    "\n",
    "ndsp1 = (10.**((1. -dp.n)/dp.n))*np.exp( ((ndp.Eds + (depths*ndp.Wds))/(dp.n*(temps + ndp.TSp))) -\n",
    "                                     ((ndp.Eds + (Rdepth*ndp.Wds))/(dp.n*(Rtemp + ndp.TSp))))\n",
    "\n",
    "ndsp2 = (0.1**((1. -dp.n)/dp.n))*np.exp( ((ndp.Eds + (depths*ndp.Wds))/(dp.n*(temps + ndp.TSp))) -\n",
    "                                     ((ndp.Eds + (Rdepth*ndp.Wds))/(dp.n*(Rtemp + ndp.TSp))))\n"
   ]
  },
  {
   "cell_type": "code",
   "execution_count": 56,
   "metadata": {
    "collapsed": false
   },
   "outputs": [
    {
     "data": {
      "text/plain": [
       "(0.29717574750348913, 0.61145632970293384)"
      ]
     },
     "execution_count": 56,
     "metadata": {},
     "output_type": "execute_result"
    }
   ],
   "source": [
    "ndfp.min(), ndsp.min()"
   ]
  },
  {
   "cell_type": "code",
   "execution_count": 58,
   "metadata": {
    "collapsed": false
   },
   "outputs": [
    {
     "data": {
      "text/plain": [
       "<matplotlib.legend.Legend at 0x7fd570dcead0>"
      ]
     },
     "execution_count": 58,
     "metadata": {},
     "output_type": "execute_result"
    },
    {
     "data": {
      "image/png": "[encoded data removed]",
      "text/plain": [
       "<matplotlib.figure.Figure at 0x7fd56ffae850>"
      ]
     },
     "metadata": {},
     "output_type": "display_data"
    }
   ],
   "source": [
    "fig, axes = plt.subplots()\n",
    "\n",
    "#axes.fill_between(depths, ndsp1,ndsp2,facecolor='green',alpha=0.5)\n",
    "axes.plot(depths, ndfp, c='r', label='diffusion creep')\n",
    "axes.plot(depths,ndsp, c='g', label='dislocation creep')\n",
    "\n",
    "\n",
    "\n",
    "axes.fill_between(depths, ndsp1,ndsp2,facecolor='green',alpha=0.5)\n",
    "\n",
    "\n",
    "axes.set_ylabel(r'$log_{10} \\eta*$')\n",
    "axes.set_xlabel(r'Z*')\n",
    "\n",
    "axes.set_yscale('log')\n",
    "axes.legend(loc=4)\n"
   ]
  },
  {
   "cell_type": "code",
   "execution_count": null,
   "metadata": {
    "collapsed": true
   },
   "outputs": [],
   "source": []
  }
 ],
 "metadata": {
  "kernelspec": {
   "display_name": "Python 2",
   "language": "python",
   "name": "python2"
  },
  "language_info": {
   "codemirror_mode": {
    "name": "ipython",
    "version": 2
   },
   "file_extension": ".py",
   "mimetype": "text/x-python",
   "name": "python",
   "nbconvert_exporter": "python",
   "pygments_lexer": "ipython2",
   "version": "2.7.9"
  },
  "widgets": {
   "state": {},
   "version": "1.1.2"
  }
 },
 "nbformat": 4,
 "nbformat_minor": 0
}
