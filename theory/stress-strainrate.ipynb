{
 "cells": [
  {
   "cell_type": "markdown",
   "metadata": {},
   "source": [
    "## Stress-strain rate and pseudo-plasticity"
   ]
  },
  {
   "cell_type": "markdown",
   "metadata": {},
   "source": [
    "The velocity gradient tensor is:\n",
    "\n",
    "$$ \\nabla u_{ij} = \\frac{\\partial uj}{\\partial u_i}$$\n",
    "\n",
    "The velocity gradient tensor can be decomposed int a symmetric and antisymmetric part:\n",
    "\n",
    "$$\\nabla u_{ij} = \\frac{1}{2}[\\nabla u + \\nabla u^T] + \\frac{1}{2}[\\nabla u - \\nabla u^T]$$\n",
    "\n",
    "The symmetric part, we call the strain the tensor:\n",
    "\n",
    "$$\\epsilon_{ij} = \\frac{1}{2}[\\nabla u + \\nabla u^T]$$\n",
    "\n",
    "Newtonian viscosity is a material model where there exists a __linear__ relationship between the stress tensor (symmetric by definition), and the  symmetric part of the velocity gradient tensor, i.e. the strain rate tensor:\n",
    "\n",
    "$$\\tau_{ij} = 2\\eta\\epsilon_{ij} = \\eta[\\nabla u + \\nabla u^T]$$\n",
    "\n",
    "The factor of two is arbitary, and in some definitions is not used. See http://www.earth.lsa.umich.edu/~keken/thesis/chap2.pdf for a description of alternative forms.\n",
    "\n",
    "In 2 dimensions, the strain rate tensor is \n",
    "\n",
    "$$\\epsilon_{ij} = \\frac{1}{2}[\\nabla u + \\nabla u^T] =\\left[\n",
    "  \\begin{array}{ c c }\n",
    "     \\frac{\\partial{v_x}}{\\partial_x} & \\frac{1}{2}\\left(\\frac{\\partial{v_x}}{\\partial{y}} + \\frac{\\partial{v_y}}{\\partial{x}}\\right) \\\\\n",
    "     \\frac{1}{2}\\left(\\frac{\\partial{v_x}}{\\partial{y}} + \\frac{\\partial{v_y}}{\\partial{x}}\\right) & \\frac{\\partial{v_y}}{\\partial_y} \n",
    "  \\end{array} \\right]\n",
    "$$\n",
    "\n",
    "While the anti-symmetric vorticity tensor is:\n",
    "\n",
    "$$ \\omega_{ij} = \\frac{1}{2}[\\nabla u - \\nabla u^T] =\\left[\n",
    "  \\begin{array}{ c c }\n",
    "     0 & \\frac{1}{2}\\left(\\frac{\\partial{v_x}}{\\partial{y}} - \\frac{\\partial{v_y}}{\\partial{x}}\\right) \\\\\n",
    "     \\frac{1}{2}\\left(\\frac{\\partial{v_x}}{\\partial{y}} - \\frac{\\partial{v_y}}{\\partial{x}}\\right) & 0\n",
    "  \\end{array} \\right]\n",
    "$$\n"
   ]
  },
  {
   "cell_type": "markdown",
   "metadata": {},
   "source": [
    "The Drucker-Prager yield criterion can be expressed as:\n",
    "\n",
    "$$\\tau_{II} \\leq C + p\\mu = \\sigma_y$$\n",
    "\n",
    "where, $\\tau_{II}$ is the second invariant of the deviatoric stress tensor.\n",
    "\n",
    "The second invariant of the deviatoric stress tensor is derived from the second invariant of the strain rate tensor:\n",
    "\n",
    "\n",
    "$$\\tau_{II}  = 2\\mu \\dot \\epsilon_{II}$$\n",
    "\n",
    "Where:\n",
    "\n",
    "$$\\epsilon_{II} = \\sqrt{\\frac{1}{2}\\epsilon_{ij}\\epsilon_{ij} }$$\n",
    "\n",
    "The factor of $1/2$ is not always used, but it is in in Underworld; i.e. this is the form of the second invariant used by functions like: \n",
    "\n",
    "```\n",
    "fn.tensor.second_invariant(uw.function.tensor.symmetric(velocityField.fn_gradient))\n",
    "\n",
    "\n",
    "```\n",
    "The term $\\epsilon_{ij}\\epsilon_{ij} $ represents a tensor inner product (so it returns a scalar). In 2d, this is:\n",
    "\n",
    "\n",
    "\n",
    "\n",
    "\n"
   ]
  },
  {
   "cell_type": "markdown",
   "metadata": {},
   "source": [
    "$$\\epsilon_{ij}\\epsilon_{ij}  = $$\n",
    "\n",
    "$$\\left[\n",
    "  \\begin{array}{ c c }\n",
    "     \\frac{\\partial{v_x}}{\\partial_x} & \\frac{1}{2}\\left(\\frac{\\partial{v_x}}{\\partial{y}} + \\frac{\\partial{v_y}}{\\partial{x}}\\right) \\\\\n",
    "     \\frac{1}{2}\\left(\\frac{\\partial{v_x}}{\\partial{y}} + \\frac{\\partial{v_y}}{\\partial{x}}\\right) & \\frac{\\partial{v_y}}{\\partial_y} \n",
    "  \\end{array} \\right]\n",
    "  \\left[\n",
    "  \\begin{array}{ c c }\n",
    "     \\frac{\\partial{v_x}}{\\partial_x} & \\frac{1}{2}\\left(\\frac{\\partial{v_x}}{\\partial{y}} + \\frac{\\partial{v_y}}{\\partial{x}}\\right) \\\\\n",
    "     \\frac{1}{2}\\left(\\frac{\\partial{v_x}}{\\partial{y}} + \\frac{\\partial{v_y}}{\\partial{x}}\\right) & \\frac{\\partial{v_y}}{\\partial_y} \n",
    "  \\end{array} \\right]\n",
    "$$\n",
    "\n",
    "$$ = \\frac{\\partial{v_x}}{\\partial_x}^2  +  \\frac{1}{2}\\left(\\frac{\\partial{v_x}}{\\partial{y}} + \\frac{\\partial{v_y}}{\\partial{x}}\\right)^2 + \\frac{\\partial{v_y}}{\\partial_y}^2 $$"
   ]
  },
  {
   "cell_type": "markdown",
   "metadata": {
    "collapsed": true
   },
   "source": [
    "Some models will use a slightly different form of the the second invariant of the strain rate tensor i.e:\n",
    "\n",
    "$$\\epsilon_{II} = \\sqrt{\\epsilon_{ij}\\epsilon_{ij} }$$\n",
    "\n",
    "If this how a material model has been implemented, the Underworld2 second invariant function must be modified:\n",
    "\n",
    "$$\\epsilon_{IIuw} = \\sqrt{\\frac{1}{2}} \\times\\epsilon_{II} $$\n",
    "\n",
    "where:\n",
    "\n",
    "$$\\epsilon_{II} = \\sqrt{\\epsilon_{ij}\\epsilon_{ij} }$$\n",
    "\n"
   ]
  },
  {
   "cell_type": "markdown",
   "metadata": {},
   "source": [
    "In the psuedo-plastic approach, whenever the second invariant of the viscous stress tensor is above the yield limit (criterion), the viscosity is modified so that the stress remain at or beneath the limit. This effective visocosity is:\n",
    "\n",
    "$$\\eta_{eff} = \\frac{\\sigma_y}{2\\times \\epsilon_{II} } $$\n",
    "\n",
    "The factor of two here is important insofar as keeping our definitions consistent. "
   ]
  },
  {
   "cell_type": "markdown",
   "metadata": {
    "collapsed": true
   },
   "source": [
    "## Underworld2\n",
    "\n",
    "Underworld2 enables psuedo-plastic rheology through the _stress_limiting_viscosity_ function;\n",
    "\n",
    "`fn.rheology.stress_limiting_viscosity(fn_stress, fn_stresslimit, fn_inputviscosity)`\n",
    "\n",
    "In this example: \n",
    "\n",
    "* fn_stress: full stress tensor (expressed in terms of the strain rate tensor)\n",
    "* fn_stresslimit: stress limiting value, or function\n",
    "* fn_inputviscosity: non-plastic rheology\n",
    "\n",
    "The function returns an effective viscosity $\\eta_{eff}$ wherever the stress limit is reached. $\\eta_{eff}$ is set to:\n",
    "\n",
    "`fn_inputviscosity*_fn_stresslimit/secondInvFn`\n",
    "\n",
    "where:\n",
    "\n",
    "`secondInvFn = _tensor.second_invariant(self._fn_stress)`\n",
    "\n",
    "or\n",
    "\n",
    "$$\\frac{\\eta \\times \\sigma_y}{\\tau_{II}}$$\n",
    "\n",
    "Which is exactly the same as:\n",
    "\n",
    "$$\\frac{\\sigma_y}{2\\times \\epsilon_{II} } $$\n",
    "\n",
    "In operation, $\\tau_{II}$ is only defined in reference to $\\epsilon_{II}$, so the forms are exactly equivalent.\n",
    "\n"
   ]
  },
  {
   "cell_type": "code",
   "execution_count": null,
   "metadata": {
    "collapsed": true
   },
   "outputs": [],
   "source": []
  }
 ],
 "metadata": {
  "kernelspec": {
   "display_name": "Python 2",
   "language": "python",
   "name": "python2"
  },
  "language_info": {
   "codemirror_mode": {
    "name": "ipython",
    "version": 2
   },
   "file_extension": ".py",
   "mimetype": "text/x-python",
   "name": "python",
   "nbconvert_exporter": "python",
   "pygments_lexer": "ipython2",
   "version": "2.7.9"
  }
 },
 "nbformat": 4,
 "nbformat_minor": 0
}
