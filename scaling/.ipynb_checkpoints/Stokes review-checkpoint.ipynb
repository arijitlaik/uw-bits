{
 "cells": [
  {
   "cell_type": "markdown",
   "metadata": {
    "collapsed": true,
    "slideshow": {
     "slide_type": "slide"
    }
   },
   "source": [
    "#Stokes flow review"
   ]
  },
  {
   "cell_type": "markdown",
   "metadata": {
    "slideshow": {
     "slide_type": "slide"
    }
   },
   "source": [
    "The momentum conservation equation is\n",
    "\t\\\\[ \\begin{equation}\n",
    "\t\t\\rho %% ?\n",
    "\t\t\\frac{D \\mathbf{v} }{D t} =\n",
    "\t\t\t\t\t \t\\eta \\nabla^2 \\mathbf{v} - \\nabla P \t\n",
    "\t\t\t\t\t \t- g\\rho\\hat{\\mathbf{z}}      \n",
    "\t\\end{equation} \\\\]\n",
    "    \n",
    "    \n",
    "A complete rescaling using characteristic values for the system gives:\n",
    "\n",
    "\\\\[ \\begin{equation*}\n",
    "\\frac{\\rho \\kappa}{\\eta} \\frac{D\\mathbf{v}'}{Dt'}  =\n",
    "\t\t\t\t \\acute{\\nabla}^2  \\mathbf{v}'  -  \\acute{\\nabla} p' + \n",
    "\t\t\t\t \\frac{g \\rho_0 \\alpha \\Delta T d^3}{\\kappa \\eta} T' \\hat{\\mathbf{z}}\n",
    "\\end{equation*} \\\\]"
   ]
  },
  {
   "cell_type": "markdown",
   "metadata": {
    "slideshow": {
     "slide_type": "slide"
    }
   },
   "source": [
    "##Energy conservation equation\n",
    "\n",
    "\\begin{equation*}\n",
    " \\left( \\frac{\\partial T}{\\partial t} + \\mathbf{v} \\cdot \\nabla T \\right)=\n",
    "\t\t\t\t\t\\kappa \\nabla^2 T + \\frac{H}{C_p} \n",
    "\t\t\t\\label{eq:energycons}\t\t\n",
    "\t\\end{equation*}"
   ]
  },
  {
   "cell_type": "markdown",
   "metadata": {
    "slideshow": {
     "slide_type": "slide"
    }
   },
   "source": [
    "##Boundary and initial conditions\n",
    "\n",
    "* For velocity :\n",
    " * Dirichlet conditions are common, Free slip (“no penetration”), No slip\n",
    " * Stress, pressure and combinations of all can be used.\n",
    "* For Energy, common to use prescribed Temperature, prescribed flux, or mixed conditions\n",
    "\n",
    "\n",
    "We require that one of these boundary conditions hold at each point for both velocity and temperature.\n",
    "\n",
    "Stress boundary conditions may requre penalty methods."
   ]
  },
  {
   "cell_type": "markdown",
   "metadata": {
    "slideshow": {
     "slide_type": "slide"
    }
   },
   "source": [
    "##Rheology\n",
    "\n",
    "###Viscous creep: Arrhenius / Frank-Kamenetskii \n",
    "\n",
    "Starting with the dimensional form of T-only Arrhenius:\n",
    "\n",
    "$$ \\eta = A' \\exp\\frac{E}{RT}$$\n",
    "\n",
    "Since convection mostly takes place in the interior of the cell where the temperature is close to the interior temperature $T_i$ , we use the same approximation by expanding the exponent $E/RT$ in the Arrhenius form so that the viscosity can be expressed as an exponential function of temperature only:\n",
    "\n",
    "\n",
    "$$ \\eta = B \\exp(-\\gamma T)$$\n",
    "\n",
    "$$\\gamma = \\frac{E}{RT_i^2}$$\n",
    "\n"
   ]
  },
  {
   "cell_type": "markdown",
   "metadata": {
    "slideshow": {
     "slide_type": "slide"
    }
   },
   "source": [
    "##Rheology\n",
    "\n",
    "###Yielding\n",
    "\n",
    "The yield stress can be defined by Byerlee’s law\n",
    "\n",
    "$$ \\tau_y = \\tau_0 + \\mu\\rho g z = \\tau_0 + \\mu P$$\n",
    "\n",
    "Above the yield stress, the deformation follows a plastic flow law defined by a non-linear effective viscosity:\n",
    "\n",
    "$$ \\eta_{eff} = \\frac{\\tau_y}{\\dot e}$$\n",
    "\n",
    "Where $\\dot e$ is the second invariant of the strain rate tensor.\n",
    "\n",
    "* note that the plastic effective viscosity is isotropic (equavalently, this is why an isotropic version of the strain rate tensor appears in the definition, i.e the second invariant)"
   ]
  },
  {
   "cell_type": "markdown",
   "metadata": {
    "slideshow": {
     "slide_type": "slide"
    }
   },
   "source": [
    "##What's next for Underworld\n",
    "\n",
    "###Very soon \n",
    "\n",
    "* elasticity\n",
    "* anisotropic plasticity\n",
    "* internal heating\n",
    "\n",
    "###Medium \n",
    "\n",
    "* variable conductivity\n",
    "* Spherical\n",
    "\n",
    "###Horizon\n",
    "\n",
    "* Adaptive mesh refinement\n",
    "* Adjoint kernels for inversion"
   ]
  },
  {
   "cell_type": "code",
   "execution_count": null,
   "metadata": {
    "collapsed": true
   },
   "outputs": [],
   "source": []
  }
 ],
 "metadata": {
  "celltoolbar": "Slideshow",
  "kernelspec": {
   "display_name": "Python 2",
   "language": "python",
   "name": "python2"
  },
  "language_info": {
   "codemirror_mode": {
    "name": "ipython",
    "version": 2
   },
   "file_extension": ".py",
   "mimetype": "text/x-python",
   "name": "python",
   "nbconvert_exporter": "python",
   "pygments_lexer": "ipython2",
   "version": "2.7.10"
  }
 },
 "nbformat": 4,
 "nbformat_minor": 0
}
