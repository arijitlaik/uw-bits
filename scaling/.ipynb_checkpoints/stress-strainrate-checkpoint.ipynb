{
 "cells": [
  {
   "cell_type": "markdown",
   "metadata": {},
   "source": [
    "## Stress-strain rate and pseudo-plasticity"
   ]
  },
  {
   "cell_type": "markdown",
   "metadata": {},
   "source": [
    "The velocity gradient tensor is:\n",
    "\n",
    "$$ \\nabla u_{ij} = \\frac{\\partial uj}{\\partial u_i}$$\n",
    "\n",
    "The velocity gradient tensor can be decomposed int a symmetric and antisymmetric part:\n",
    "\n",
    "$$\\nabla u_{ij} = \\frac{1}{2}[\\nabla u + \\nabla u^T] + \\frac{1}{2}[\\nabla u - \\nabla u^T]$$\n",
    "\n",
    "The symmetric part, we call the strain the tensor:\n",
    "\n",
    "$$\\epsilon_{ij} = \\frac{1}{2}[\\nabla u + \\nabla u^T]$$\n",
    "\n",
    "Newtonian viscosity is a material model where there exists a __linear__ relationship between the stress tensor (symmetric by definition), and the  symmetric part of the velocity gradient tensor, i.e. the strain rate tensor:\n",
    "\n",
    "$$\\tau_{ij} = 2\\eta\\epsilon_{ij} = \\eta[\\nabla u + \\nabla u^T]$$\n",
    "\n",
    "The factor of two is arbitary, and in some definitions is not used. See http://www.earth.lsa.umich.edu/~keken/thesis/chap2.pdf for a description of alternative forms.\n",
    "\n",
    "In 2 dimensions, the strain rate tensor is \n",
    "\n",
    "$$\\epsilon_{ij} = \\frac{1}{2}[\\nabla u + \\nabla u^T] =\\left[\n",
    "  \\begin{array}{ c c }\n",
    "     \\frac{\\partial{v_x}}{\\partial_x} & \\frac{1}{2}\\left(\\frac{\\partial{v_x}}{\\partial{y}} + \\frac{\\partial{v_y}}{\\partial{x}}\\right) \\\\\n",
    "     \\frac{1}{2}\\left(\\frac{\\partial{v_x}}{\\partial{y}} + \\frac{\\partial{v_y}}{\\partial{x}}\\right) & \\frac{\\partial{v_y}}{\\partial_y} \n",
    "  \\end{array} \\right]\n",
    "$$\n"
   ]
  },
  {
   "cell_type": "markdown",
   "metadata": {},
   "source": [
    "The Drucker-Prager yield criterion can be expressed as:\n",
    "\n",
    "$$\\tau_{II} \\leq C + p\\mu$$\n",
    "\n",
    "where, $\\tau_{II}$ is the second invariant of the deviatoric stress tensor.\n",
    "\n",
    "The second invariant of the deviatoric stress tensor is derived from the second invariant of the strain rate tensor:\n",
    "\n",
    "\n",
    "$$\\tau_{II}  = 2\\mu \\dot \\epsilon_{II}$$\n",
    "\n",
    "Where:\n",
    "\n",
    "$$\\epsilon_{II} = \\sqrt{\\frac{1}{2}\\epsilon_{ij}\\epsilon_{ij} }$$\n",
    "\n",
    "The factor of $1/2$ is not always used, but it is in in Underworld; i.e. this is the form of the second invariant used by functions like: \n",
    "\n",
    "```\n",
    "fn.tensor.second_invariant(uw.function.tensor.symmetric(velocityField.fn_gradient))\n",
    "\n",
    "\n",
    "```\n",
    "The term $\\epsilon_{ij}\\epsilon_{ij} $ represents a tensor inner product (so it returns a scalar). In 2d, this is:\n",
    "\n",
    "\n",
    "\n",
    "\n",
    "\n"
   ]
  },
  {
   "cell_type": "markdown",
   "metadata": {},
   "source": [
    "$$\\epsilon_{ij}\\epsilon_{ij}  = $$\n",
    "\n",
    "$$\\left[\n",
    "  \\begin{array}{ c c }\n",
    "     \\frac{\\partial{v_x}}{\\partial_x} & \\frac{1}{2}\\left(\\frac{\\partial{v_x}}{\\partial{y}} + \\frac{\\partial{v_y}}{\\partial{x}}\\right) \\\\\n",
    "     \\frac{1}{2}\\left(\\frac{\\partial{v_x}}{\\partial{y}} + \\frac{\\partial{v_y}}{\\partial{x}}\\right) & \\frac{\\partial{v_y}}{\\partial_y} \n",
    "  \\end{array} \\right]\n",
    "  \\left[\n",
    "  \\begin{array}{ c c }\n",
    "     \\frac{\\partial{v_x}}{\\partial_x} & \\frac{1}{2}\\left(\\frac{\\partial{v_x}}{\\partial{y}} + \\frac{\\partial{v_y}}{\\partial{x}}\\right) \\\\\n",
    "     \\frac{1}{2}\\left(\\frac{\\partial{v_x}}{\\partial{y}} + \\frac{\\partial{v_y}}{\\partial{x}}\\right) & \\frac{\\partial{v_y}}{\\partial_y} \n",
    "  \\end{array} \\right]\n",
    "$$\n",
    "\n",
    "$$ = \\frac{\\partial{v_x}}{\\partial_x}^2  +  \\frac{1}{2}\\left(\\frac{\\partial{v_x}}{\\partial{y}} + \\frac{\\partial{v_y}}{\\partial{x}}\\right)^2 + \\frac{\\partial{v_y}}{\\partial_y}^2 $$"
   ]
  },
  {
   "cell_type": "code",
   "execution_count": null,
   "metadata": {
    "collapsed": true
   },
   "outputs": [],
   "source": []
  }
 ],
 "metadata": {
  "kernelspec": {
   "display_name": "Python 2",
   "language": "python",
   "name": "python2"
  },
  "language_info": {
   "codemirror_mode": {
    "name": "ipython",
    "version": 2
   },
   "file_extension": ".py",
   "mimetype": "text/x-python",
   "name": "python",
   "nbconvert_exporter": "python",
   "pygments_lexer": "ipython2",
   "version": "2.7.11"
  }
 },
 "nbformat": 4,
 "nbformat_minor": 0
}
