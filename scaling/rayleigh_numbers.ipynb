{
 "cells": [
  {
   "cell_type": "markdown",
   "metadata": {
    "collapsed": true
   },
   "source": [
    "#Boussinesq Convection: Combining the Navier–Stokes and Advection–Diffusion equations"
   ]
  },
  {
   "cell_type": "code",
   "execution_count": 2,
   "metadata": {
    "collapsed": true
   },
   "outputs": [],
   "source": [
    "%matplotlib inline\n",
    "import pandas as pd\n",
    "import numpy as np\n",
    "import math\n",
    "import matplotlib.pylab as plt"
   ]
  },
  {
   "cell_type": "markdown",
   "metadata": {},
   "source": [
    "##Rayleigh numbers\n",
    "A number of definitions of the Rayleigh number can be formulated. The simplest is perhaps that for basal heating:\n",
    "\n",
    "$$Ra = \\frac{\\rho_0 g \\alpha_0 \\triangle T D^3}{\\kappa_0 \\eta_0}$$\n",
    "\n",
    "where $\\rho_0$, $\\alpha_0$, $\\kappa_0$, and $\\eta_0$ are the reference values for density, thermal expansivity, thermal diffusivity, and viscosity. D is the typical length scale (refernece depth). These can be taken as representative values at any part of the convecting fluid. \n",
    "\n",
    "Let's review where this number comes from...\n",
    "\n",
    "The momentum conservation equation is\n",
    "\t\\\\[ \\begin{equation}\n",
    "\t\t\\rho %% ?\n",
    "\t\t\\frac{D \\mathbf{v} }{D t} =\n",
    "\t\t\t\t\t \t\\eta \\nabla^2 \\mathbf{v} - \\nabla P \t\n",
    "\t\t\t\t\t \t- g\\rho\\hat{\\mathbf{z}}      \n",
    "\t\\end{equation} \\\\]\t\n",
    "    \n",
    "In the case of density variations due to temperature, the equation of state is simply:\n",
    "\n",
    "\n",
    "\\begin{equation} \\rho = \\rho_0 \\left(1 - \\alpha ( T-T_0 )\\right) \\end{equation} \n",
    "\n",
    "The energy and momentum conservation equations thus become coupled through the term:\n",
    "\n",
    "\\\\[ \n",
    "\\begin{equation}\n",
    "\t\tg\\rho\\hat{\\mathbf{z}} = g \\rho_0 \\left(1 - \\alpha(T-T_0)\\right)\n",
    "\\end{equation} \n",
    "\\\\]\n",
    "\n",
    "\n",
    "We scale the system with the following terms, with the new variables indicated using a prime ($'$).\n",
    "\t\\\\[ \\begin{equation*}\n",
    "\t\t\\begin{array}{llll}\n",
    "\t\t\tx = d.x' & \\partial / \\partial x = \t(1/d) \\partial / \\partial x' & \\nabla = (1/d) \\nabla '  \\\\\n",
    "\t\t\tt = (d^2/\\kappa) t'  &  \\partial / \\partial t = (\\kappa/d^2) \\partial / \\partial t' & \\\\\n",
    "\t\t\tT - T_0 = \\Delta T T' & & \\\\\n",
    "\t\t\tv = (\\kappa / d) v' && \\\\\n",
    "\t\t\tp= p_0 + (\\eta \\kappa / d^2) p'\n",
    "\t\t\\end{array}\n",
    "\t\\end{equation*} \\\\]\n",
    "    \n",
    "    \n",
    "Substituting for all the existing terms in the Navier-Stokes equation using the equation of state for thermally induced variation in density gives:\n",
    "\n",
    "\\begin{equation*}\n",
    "\t\t\\frac{\\rho_0 \\kappa}{d^2} \\frac{D}{Dt'} \\left( \\frac{\\kappa}{d} \\mathbf{v}' \\right) =\n",
    "\t\t\t\\frac{\\eta}{d^2} \\acute{\\nabla}^2 \\left( \\frac{\\kappa}{d} \\mathbf{v}' \\right)\n",
    "\t\t\t- \\frac{\\eta \\kappa}{d^3}  \\acute{\\nabla} p' + g \\rho_0 \\alpha \\Delta T T' \\hat{\\mathbf{z}}\n",
    "\t\\end{equation*}\n",
    "    \n",
    "Collecting everything together, dividing throughout by $\\eta \\kappa / d^3$ gives:\n",
    "\n",
    "\\\\[ \\begin{equation*}\n",
    "\\frac{\\rho \\kappa}{\\eta} \\frac{D\\mathbf{v}'}{Dt'}  =\n",
    "\t\t\t\t \\acute{\\nabla}^2  \\mathbf{v}'  -  \\acute{\\nabla} p' + \n",
    "\t\t\t\t \\frac{g \\rho_0 \\alpha \\Delta T d^3}{\\kappa \\eta} T' \\hat{\\mathbf{z}}\n",
    "\\end{equation*} \\\\]\n",
    "\n",
    "\n",
    "Note that the $\\hat{\\mathbf{z}}$ in the buoyancy force term, ($Ra T \\hat{\\mathbf{z}}$) points in the opposite direction of gravity ($g$ is now just a scalar in $Ra$). In Underworld, this means we need to point the gravity vector in the $\\hat{\\mathbf{z}}$ direction. Some derivations will instead write, \n",
    "\n",
    "$$... - Ra T \\hat{\\mathbf{g}}$$\n",
    "\n",
    "Where $\\hat{\\mathbf{g}}$ is a unit vector in the direction of gravity."
   ]
  },
  {
   "cell_type": "markdown",
   "metadata": {},
   "source": [
    "The scaling above is fairly straightforward, with the exception for a slight trick in the buoyancy force / hydrostatic pressure terms, because:\n",
    "\n",
    "$$\\nabla p_0 = -g\\rho_0$$\n",
    "\n",
    "\n",
    "With, $T - T0 = \\Delta T T'$ and $\\rho = \\rho_0 + \\rho_p$, where $\\rho_p = - \\rho_0 \\alpha (T - T0)$\n",
    "\n",
    "\\begin{equation}\n",
    "- g\\rho\\hat{\\mathbf{z}} =  - \\left( g \\rho_0 \\left(1 - \\alpha(T-T_0)\\right) \\right) \\\\\n",
    "=  - g \\rho_0  + \\left( g \\rho_0 \\alpha(T-T_0)\\right)\n",
    "\\end{equation} \n",
    "\n",
    "The $- g \\rho_0$ term cancels the the $\\nabla p_0 $ term when the pressure term in non-dimensionalized. This effectively cancels a lithostatic part of the pressure that contributes nothing to the flow. However, the pressure scaling must be followed when looking at any pressure-dependent paramters, like yield stress."
   ]
  },
  {
   "cell_type": "code",
   "execution_count": 2,
   "metadata": {
    "collapsed": false
   },
   "outputs": [
    {
     "name": "stdout",
     "output_type": "stream",
     "text": [
      "Typical Rayleigh number ~ 1.12e+07\n"
     ]
    }
   ],
   "source": [
    "#Adam F. Holt, Bruce A. Buffett, and Thorsten W. Becker: \n",
    "#Overriding plate thickness control on subducting plate curvature\n",
    "\n",
    "rho = 3300\n",
    "g = 9.8\n",
    "a = 1.25*10**-5\n",
    "k = 10**-6\n",
    "#The sublithospheric mantle has a reference viscosity:\n",
    "eta = 10**20\n",
    "D = 1320*10**3\n",
    "dT = 1200\n",
    "\n",
    "Rayleigh_num = rho*g*a*dT*(D**3)/(eta*k)\n",
    "print \"Typical Rayleigh number ~ \" + \"%.3g\" % Rayleigh_num"
   ]
  },
  {
   "cell_type": "code",
   "execution_count": 17,
   "metadata": {
    "collapsed": false
   },
   "outputs": [
    {
     "name": "stdout",
     "output_type": "stream",
     "text": [
      "1e+20\n"
     ]
    }
   ],
   "source": [
    "eta_0 = rho*g*a*dT*(D**3)/(Rayleigh_num*k)\n",
    "print(eta_0)"
   ]
  },
  {
   "cell_type": "markdown",
   "metadata": {},
   "source": [
    "##Continents / compositional Rayleigh number\n",
    "\n",
    "* A significant result is that continental roots must be 1000 times more viscous than the surrounding mantle in order to stabilize the roots with compositionally buoyant materials over geological timescales (Doin et al., 1997 and Lenardic and Moresi, 1999).  \n",
    "\n",
    "* Lenardic et al. (2000) presented a 2-D numerical model with chemically distinct continental crust and continental mantle lithosphere surrounded by mobile belts with a relatively low yield stress and pointed out that tectonically mobile regions, such as those at the Proterozoic mobile belts, shield the cratonic root from high mantle stresses.\n",
    "\n",
    "* Lenardic et al. (2003) concluded that a high yield stress for cratonic lithosphere relative to the oceanic lithosphere was an effective and robust means for providing tectonic stability of cratonic root and the relative longevity of deep cratonic lithosphere. \n",
    "\n",
    "* They also suggested that the degree of yield stress variations between cratonic and oceanic lithosphere required for stability and longevity can be decreased if cratons are bordered by continental lithosphere that has a relatively low yield stress (i.e., mobile belt). Their results indicate that the mobile belts protect cratons from being deformed for certain periods of geologic timescale. \n",
    "\n"
   ]
  },
  {
   "cell_type": "markdown",
   "metadata": {},
   "source": [
    "Rolf and Tackley use the following COM equation, \n",
    "\n",
    "$$ -\\nabla P + \\nabla \\cdot \\left(\\eta(\\nabla u + \\nabla u^T) \\right) = Ra (T-RC)e$$\n",
    "\n",
    "$R$ is the ratio of the density difference $\\triangle \\rho$ of continental material to the thermal density variation $\\rho \\alpha \\triangle T$. This is completely equavalent to the following, from Brandenburg et. al, \"A multiple-system study of the geochemical evolution of the mantle with force-balanced plates and thermochemical effects\", who write the equation explicitly in terms of the compositional Rayleigh number...\n",
    "\n",
    "$$ -\\nabla P + \\nabla \\cdot \\left(\\eta(\\nabla u + \\nabla u^T) \\right) = [RaT-Ra_cC]\\hat g$$\n",
    "\n",
    "$$Ra_c = \\frac{g \\Delta \\rho h^3 }{\\eta_0 \\kappa_0}$$\n",
    "\n",
    "where $\\hat g$ the unit vector in the direction of gravity. The use of opposite unit vectors in these equations demonstrates some ambiguities in the signs of the dimensionless equations. In both cases, $C$ is a compositional field that varies from zero to 1. Continental material is represented by a continuouscompositional field $(0 \\leq C \\leq 1)$ with $C = 1$ being continent). The convention is that material that is less dense that the reference density, has negative value of $R$, or $Ra_c$, and hence increases the value of the bouyancy force (RHS).\n",
    "\n"
   ]
  },
  {
   "cell_type": "code",
   "execution_count": 3,
   "metadata": {
    "collapsed": false
   },
   "outputs": [
    {
     "name": "stdout",
     "output_type": "stream",
     "text": [
      "compositional Rayleigh number is about: 4.619e+07\n"
     ]
    }
   ],
   "source": [
    "rho = 200.\n",
    "g = 9.8\n",
    "b = 2867.\n",
    "eta0 = 1e21\n",
    "k = 1e-6\n",
    "\n",
    "Rc = (rho*g*(b*1000)**3)/(eta0*k)\n",
    "print \"compositional Rayleigh number is about: \" + \"%0.4g\" % Rc"
   ]
  },
  {
   "cell_type": "markdown",
   "metadata": {
    "collapsed": true
   },
   "source": []
  },
  {
   "cell_type": "code",
   "execution_count": null,
   "metadata": {
    "collapsed": true
   },
   "outputs": [],
   "source": []
  }
 ],
 "metadata": {
  "kernelspec": {
   "display_name": "Python 2",
   "language": "python",
   "name": "python2"
  },
  "language_info": {
   "codemirror_mode": {
    "name": "ipython",
    "version": 2
   },
   "file_extension": ".py",
   "mimetype": "text/x-python",
   "name": "python",
   "nbconvert_exporter": "python",
   "pygments_lexer": "ipython2",
   "version": "2.7.10"
  }
 },
 "nbformat": 4,
 "nbformat_minor": 0
}
