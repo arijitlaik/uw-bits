{
 "cells": [
  {
   "cell_type": "markdown",
   "metadata": {},
   "source": [
    "##Internal heating\n",
    "\n",
    "dimensionless internal heating is:\n",
    "\n",
    "$$H_{int} = \\frac{Q D^2}{\\rho_0 C \\triangle T \\kappa_0} $$\n",
    "\n",
    "where Q is the internal heating rate measured as energy per time per volume, and C is the specific heat. Internal heating is often given as in units of energy per time per volume, in which case the density is not needed in the scaling. \n",
    "\n",
    "See e.g. Yoshida: \"Dynamic role of the rheological contrast between cratonic and oceanic lithospheres in the longevity of cratonic lithosphere: A three-dimensional numerical study\""
   ]
  },
  {
   "cell_type": "code",
   "execution_count": null,
   "metadata": {
    "collapsed": true
   },
   "outputs": [],
   "source": []
  }
 ],
 "metadata": {
  "kernelspec": {
   "display_name": "Python 2",
   "language": "python",
   "name": "python2"
  },
  "language_info": {
   "codemirror_mode": {
    "name": "ipython",
    "version": 2
   },
   "file_extension": ".py",
   "mimetype": "text/x-python",
   "name": "python",
   "nbconvert_exporter": "python",
   "pygments_lexer": "ipython2",
   "version": "2.7.10"
  }
 },
 "nbformat": 4,
 "nbformat_minor": 0
}
