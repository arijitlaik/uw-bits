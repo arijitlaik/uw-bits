{
 "cells": [
  {
   "cell_type": "markdown",
   "metadata": {
    "collapsed": true
   },
   "source": [
    "#Boussinesq Convection: Combining the Navier–Stokes and Advection–Diffusion equations"
   ]
  },
  {
   "cell_type": "code",
   "execution_count": 1,
   "metadata": {
    "collapsed": true
   },
   "outputs": [],
   "source": [
    "%matplotlib inline\n",
    "import pandas as pd\n",
    "import numpy as np\n",
    "import math\n",
    "import matplotlib.pylab as plt"
   ]
  },
  {
   "cell_type": "markdown",
   "metadata": {},
   "source": [
    "##Arhennius Laws\n",
    "\n",
    "Non-dimensionalising a temperature-only Arhennius law is straightforward:\n",
    "\n",
    "$$\\eta = A \\exp{\\frac{E}{RT}}$$\n",
    "\n",
    "$$\\tilde T_r = \\frac{T}{\\triangle T}$$\n",
    "\n",
    "We can then write $\\tilde T_r$ as $\\tilde T + \\tilde T_0$, where $0 \\geq \\tilde T \\geq 1$\n",
    "\n",
    "$T_0$ is the surface temp, so $\\tilde T_0$, is close to $\\frac{273}{{\\triangle T}}$.\n",
    "\n",
    "$$\\tilde T + \\tilde T_0 = \\frac{T}{\\triangle T}$$\n",
    "\n",
    "\n",
    "$$\\tilde E = \\frac{E}{R \\triangle T}$$\n",
    "\n",
    "\n",
    "$$\\tilde \\eta = \\eta_{Arr} \\exp{\\frac{\\tilde E}{\\tilde T_0 + \\tilde T}}$$\n",
    "\n",
    "\n",
    "where the pre-factor $ \\eta_{Arr}$ is chosen to ensure that the viscosity is equal to unity at $\\tilde T = 1$ (or wherever the reference viscosity is set). Another way to normalize this is to subtract the value at the reference temperature (here, $T_0$, but could easily be anywhere in the domain)\n",
    "\n",
    "$$\\tilde \\eta = \\exp\\left[{\\frac{\\tilde E}{\\tilde T_0 + \\tilde T} - \\frac{\\tilde E}{\\tilde T_0 + \\tilde T_0}} \\right]$$\n"
   ]
  },
  {
   "cell_type": "code",
   "execution_count": 2,
   "metadata": {
    "collapsed": false
   },
   "outputs": [
    {
     "name": "stdout",
     "output_type": "stream",
     "text": [
      "244.691932264\n",
      "98715.7710108\n",
      "5.5\n",
      "11.5\n"
     ]
    }
   ],
   "source": [
    "T = np.linspace(0,1,100)\n",
    "T0 = 1\n",
    "Ep1 = 11.\n",
    "Ep2 = 23.\n",
    "#Here, I'm using P_ref = D_ref = 0, i.e. reference depth / pressure is at the surface (at the MOR)\n",
    "\n",
    "eta1 = [math.exp((Ep1/(i + T0)) - (Ep1/(T0 + T0) )) for i in T]\n",
    "eta2 = [math.exp((Ep2/(i + T0)) - (Ep2/(T0 + T0) )) for i in T]\n",
    "print(max(eta1)/min(eta1))\n",
    "print(max(eta2)/min(eta2))\n",
    "print(math.log(max(eta1)/min(eta1)))\n",
    "print(math.log(max(eta2)/min(eta2)))\n"
   ]
  },
  {
   "cell_type": "code",
   "execution_count": 3,
   "metadata": {
    "collapsed": false
   },
   "outputs": [
    {
     "data": {
      "text/plain": [
       "<matplotlib.text.Text at 0x100635190>"
      ]
     },
     "execution_count": 3,
     "metadata": {},
     "output_type": "execute_result"
    },
    {
     "data": {
      "image/png": "[encoded data removed]",
      "text/plain": [
       "<matplotlib.figure.Figure at 0x10632e910>"
      ]
     },
     "metadata": {},
     "output_type": "display_data"
    }
   ],
   "source": [
    "plt.plot(T, eta1, label = \"E' = 11.\")\n",
    "plt.plot(T, eta2, label = \"E' = 23.\")\n",
    "plt.legend()\n",
    "plt.yscale('log')\n",
    "plt.xlabel(\"T'\")\n"
   ]
  },
  {
   "cell_type": "markdown",
   "metadata": {},
   "source": [
    "\n",
    "With pressure, the relation is:\n",
    "\n",
    "$$\\eta = \\eta_0\\cdot \\exp \\left( \\frac{E_{act} + pV_{act}}{RT} \\right)$$\n",
    "\n",
    "\n",
    "The following are dimensionless forms from the literature:\n",
    "\n",
    "Christensen, \"Convection with pressure- and temperature-dependent non-Newtonian rheology\":\n",
    "\n",
    "\n",
    "$$\\eta = A \\exp \\left( \\frac{E + (1-z)W}{T + T_0} \\right)$$\n",
    "\n",
    "And for the non-linear law:\n",
    "\n",
    "$$\\eta = (B/\\dot\\epsilon^{n-1})^{1/n} \\exp \\left( \\frac{1}{n} \\frac{E + (1-z)W}{T + T_0} \\right)$$\n",
    "\n",
    "With the Boussinesq-approximationpressure dependence is converted into simple depth dependence, now described by the dimensionless activation ‘volume’ W. Note that the $n$ exponent enters the exponetial term. \n",
    "\n",
    "The scaling factors are:\n",
    "\n",
    "$$E(E*) = \\frac{1}{R \\triangle T}$$\n",
    "$$W(W*) = \\frac{\\rho g h}{R \\triangle T}$$\n",
    "\n",
    "$$A = 1/\\eta_0$$\n"
   ]
  },
  {
   "cell_type": "markdown",
   "metadata": {},
   "source": [
    "From Ana-Catalina Plesa, et al., \"Thermo-chemical Mantle Convection Simulations using Gaia\", \n",
    "a non-dimensional form for the Arhennius law is:\n",
    "\n",
    "$$\\eta(\\epsilon, T, p) = \\left(\\frac{\\epsilon}{\\epsilon_{ref}}\\right)^{\\frac{1-n}{n}} \\exp \\left(\\frac{E + pV}{n(T + T_0)} - \\frac{E + p_{ref}V}{n(T_{ref} + T_0)} \\right) $$\n",
    "\n",
    "Though I'm not sure about the $n$ term in the exponenatials, they aren't explained. I assume that $V$ and  $E$ in the above are still dimensional: i.e. they simply subtract a 'characteristic value' from the exponential term, which you can do because the total exponential term is by definition dimensionless.\n",
    "\n",
    "\n",
    "Roberts and Zhong,\"Degree-1 convection in the Martian mantle and the origin of the hemispheric dichotomy\", a similar form is\n",
    "\n",
    "$$\\eta(T, z) = \\eta(z)'\\exp \\left(\\frac{E' + V'(1-z)}{T + T_s} - \\frac{E + V'(1-D_s)}{1 + T_s} \\right) $$\n",
    "\n",
    "Here $\\eta'(z)$ is a radial viscosity profile (e.g., layering) upon which the temperature- and pressure-dependence is superimposed. In this case $E'$, $V'$ are dimensionless, the scaling factors are given below. \n",
    "\n",
    "The dimensionless relationship requires normalization at the reference depth. This can obviously be written in two ways, either as a pre-exponential factor of an additional (subtracted) term in the exponential containing teh refernce temperature and pressure (or depth). These are equivalent. \n",
    "\n",
    "###Normalizing factors \n",
    "\n",
    "Here I try and work out the normalizing factors used in Crameri and Tackley, (they do not provide these). The follwoign factors are adapted from the discussion in Roberts and Zhong,\"Degree-1 convection in the Martian mantle and the origin of the hemispheric dichotomy\"\n",
    "\n",
    "\n",
    "$$E' = \\frac{E}{R \\triangle T}$$\n",
    "\n",
    "$$V' = \\frac{\\rho_0 g D V}{R \\triangle T}$$\n",
    "\n",
    "Roberts and Zhong give:\n",
    "\n",
    "$$H' = \\frac{H D^2}{\\rho_0 C \\triangle T \\kappa_0} $$\n",
    "\n",
    "where H is the internal heating rate measured as energy per time per volume. But for the Crameri example, we need, energy per time per kg:\n",
    "\n",
    "$$H' = \\frac{H D^2}{C \\triangle T \\kappa_0} $$\n"
   ]
  },
  {
   "cell_type": "markdown",
   "metadata": {},
   "source": [
    "##Frank-Kamenetskii \n",
    "\n",
    "Starting with the dimensional form of T-only Arrhenius:\n",
    "\n",
    "$$ \\eta = A' \\exp\\frac{E}{RT}$$\n",
    "\n",
    "Since convection mostly takes place in the interior of the cell where the temperature is close to the interior temperature $T_i$ , we use the same approximation by expanding the exponent $E/RT$ in the Arrhenius form so that the viscosity can be expressed as an exponential function of temperature only:\n",
    "\n",
    "$$ \\eta = B \\exp(-\\gamma T)$$\n",
    "\n",
    "$$\\gamma = \\frac{E}{RT_i^2}$$\n",
    "\n",
    "\n",
    "This method of expanding the terms in the exponent preserves the interior viscosity and the change of viscosity with temperature close to $T_i$ , where convection actively takes place. Some studies expanded the terms inside the exponents differently (e.g., King [2009]).\n",
    "\n",
    "The dimensionless Arrhenius law is:\n",
    "\n",
    "$$\\tilde \\eta = \\eta_{Arr} \\exp{\\frac{\\tilde E}{\\tilde T_0 + \\tilde T}}$$\n",
    "\n",
    "And the corresponding FK approximation...\n",
    "\n",
    "$$ \\eta = \\eta_{r,exp} \\exp(-\\theta T)$$\n",
    "\n",
    "Where $\\eta_{Arr}$, $\\eta_{r,exp}$ are chosen to ensure that the viscosity is equal to unity at $T' = 1$\n",
    "\n",
    "$$ \\theta = \\gamma \\triangle T$$\n",
    "\n",
    "In this case the viscosity contrast is  characterized by only one parameter ($\\theta$):\n",
    "\n",
    "$$\\triangle \\eta = e^{\\theta}$$\n"
   ]
  },
  {
   "cell_type": "markdown",
   "metadata": {},
   "source": [
    "###Fabio Crameri, and Paul J. Tackley \n",
    "####Parameters controlling dynamically self-consistent plate tectonics and single-sided subduction in global models of mantle convection\n",
    "The assumed temperature-based Rayleigh number is $10^6$, \n",
    "\n",
    "the nondimensional internal heating rate is 20.0, which gives an internal heating-based Rayleigh number of $2.0 \\times 10^7$."
   ]
  },
  {
   "cell_type": "markdown",
   "metadata": {},
   "source": [
    "In this paper they use the normalizing factors for activation energy volume, and replace these directly to give a dimensionless form of the Arhennius relationship:\n",
    "\n",
    "$$\\eta = \\eta_0\\cdot \\exp \\left( \\frac{E_{act} + pV_{act}}{RT} \\right)$$\n",
    "\n",
    "Where the equation is either dimensional or non dimensionl, with the conversion given by appropriate scaling factors shown below. \n",
    "\n",
    "In the paper, they state $\\eta_0$ is  set such that $\\eta$ gives the reference viscosity at the characteristic Temperature and pressure. Crameri and Tackley use $T = 1600$ K and $p = 0$ Pa, e.g. viscosity at the midocean ridge. But $\\eta_0$ is also called the reference viscosity."
   ]
  },
  {
   "cell_type": "code",
   "execution_count": null,
   "metadata": {
    "collapsed": true
   },
   "outputs": [],
   "source": []
  },
  {
   "cell_type": "code",
   "execution_count": 4,
   "metadata": {
    "collapsed": false
   },
   "outputs": [
    {
     "name": "stdout",
     "output_type": "stream",
     "text": [
      "is this the reference viscosity: 1.02e+23\n"
     ]
    },
    {
     "ename": "NameError",
     "evalue": "name 'Tref' is not defined",
     "output_type": "error",
     "traceback": [
      "\u001b[0;31m---------------------------------------------------------------------------\u001b[0m",
      "\u001b[0;31mNameError\u001b[0m                                 Traceback (most recent call last)",
      "\u001b[0;32m<ipython-input-4-866401636834>\u001b[0m in \u001b[0;36m<module>\u001b[0;34m()\u001b[0m\n\u001b[1;32m     22\u001b[0m \u001b[0;32mprint\u001b[0m \u001b[0;34m\"is this the reference viscosity: \"\u001b[0m \u001b[0;34m\"%.3g\"\u001b[0m \u001b[0;34m%\u001b[0m \u001b[0mMu\u001b[0m\u001b[0;34m\u001b[0m\u001b[0m\n\u001b[1;32m     23\u001b[0m \u001b[0;34m\u001b[0m\u001b[0m\n\u001b[0;32m---> 24\u001b[0;31m \u001b[0mMu2\u001b[0m \u001b[0;34m=\u001b[0m \u001b[0;34m(\u001b[0m\u001b[0mMu0\u001b[0m\u001b[0;34m/\u001b[0m\u001b[0mmath\u001b[0m\u001b[0;34m.\u001b[0m\u001b[0mexp\u001b[0m\u001b[0;34m(\u001b[0m\u001b[0;34m(\u001b[0m\u001b[0mE\u001b[0m\u001b[0;34m+\u001b[0m\u001b[0mp\u001b[0m\u001b[0;34m*\u001b[0m\u001b[0mV\u001b[0m\u001b[0;34m)\u001b[0m\u001b[0;34m/\u001b[0m\u001b[0;34m(\u001b[0m\u001b[0mR\u001b[0m\u001b[0;34m*\u001b[0m\u001b[0mTref\u001b[0m\u001b[0;34m)\u001b[0m\u001b[0;34m)\u001b[0m\u001b[0;34m)\u001b[0m\u001b[0;34m\u001b[0m\u001b[0m\n\u001b[0m\u001b[1;32m     25\u001b[0m \u001b[0mMu\u001b[0m \u001b[0;34m=\u001b[0m \u001b[0mMu2\u001b[0m\u001b[0;34m*\u001b[0m\u001b[0mmath\u001b[0m\u001b[0;34m.\u001b[0m\u001b[0mexp\u001b[0m\u001b[0;34m(\u001b[0m\u001b[0;34m(\u001b[0m\u001b[0mE\u001b[0m\u001b[0;34m+\u001b[0m\u001b[0mp\u001b[0m\u001b[0;34m*\u001b[0m\u001b[0mV\u001b[0m\u001b[0;34m)\u001b[0m\u001b[0;34m/\u001b[0m\u001b[0;34m(\u001b[0m\u001b[0mR\u001b[0m\u001b[0;34m*\u001b[0m\u001b[0mTref\u001b[0m\u001b[0;34m)\u001b[0m\u001b[0;34m)\u001b[0m\u001b[0;34m\u001b[0m\u001b[0m\n\u001b[1;32m     26\u001b[0m \u001b[0;34m\u001b[0m\u001b[0m\n",
      "\u001b[0;31mNameError\u001b[0m: name 'Tref' is not defined"
     ]
    }
   ],
   "source": [
    "D = 2890\n",
    "E = 240 # kJ mol−1\n",
    "R = 8.314 # m^3 mol\n",
    "#Vact is the varied activation volume\n",
    "V = 6.34*(10**-7)\n",
    "#Nu0 is set such that Nu gives the reference viscosity at T = 1600 K and p = 0 Pa.\n",
    "T = 1600\n",
    "p = 0.0\n",
    "delT = 2500\n",
    "rho0 = 3300\n",
    "\n",
    "#There is some confusion about the refernce visocisity //\n",
    "# vs. the pre-exponential factor that sets the visocosty equal to the reference. \n",
    "\n",
    "\n",
    "Mu0 = 10**23 \n",
    "Mu = Mu0*math.exp((E+p*V)/(R*T))\n",
    "\n",
    "H = 5.44*10**(-12) #Internal heating\n",
    "C = 1200 # Heat capacity J kg−1 K-1\n",
    "k = 10**(-6) #Thermal diffusivity m2 s−1 \n",
    "print \"is this the reference viscosity: \" \"%.3g\" % Mu \n",
    "\n",
    "Mu2 = (Mu0/math.exp((E+p*V)/(R*Tref)))\n",
    "Mu = Mu2*math.exp((E+p*V)/(R*Tref))\n",
    "\n",
    "#ie \"set such that $\\eta$ gives the reference viscosity at the characteristic Temperature and pressure.\"\n",
    "print \"or this: \" \"%.3g\" % Mu2 + \"?\"\n",
    "print \"or this: \" \"%.3g\" % Mu + \"?\"\n",
    "\n"
   ]
  },
  {
   "cell_type": "code",
   "execution_count": null,
   "metadata": {
    "collapsed": false
   },
   "outputs": [],
   "source": [
    "#Scaling factors for dimensionless values given in Crameri\n",
    "\n",
    "#*1000 is KJ to J\n",
    "print \"E'= \" + str(E*1000/(R*delT))\n",
    "\n",
    "print \"V'= \" + str((rho0*9.81*V*(D*1000))/(R*delT))\n",
    "\n",
    "print \"H1'= \" + str((H*(D*1000)**2)/(C*delT*k))"
   ]
  },
  {
   "cell_type": "markdown",
   "metadata": {},
   "source": [
    "The dimensionless values are not exaclty what are published in Crameri and Tackley, e.g. V' is 3.0 not 2.8\n",
    "This suggests that they used a slightly different scaling somewhere. But generally, these are close. "
   ]
  },
  {
   "cell_type": "code",
   "execution_count": null,
   "metadata": {
    "collapsed": false
   },
   "outputs": [],
   "source": [
    "#Scaling the Arhennius parameters in Crameri, using the Christenson paper form\n",
    "\n",
    "Ep = (E*1000)/(R*delT)\n",
    "Ep2 = 23.03  #this is a value taken from Rolf and Tackley, see below...\n",
    "Wp = rho0*9.81*V/R*delT\n",
    "n0 = 1e23\n",
    "Trf = 1600\n",
    "delT = 2500\n",
    "T0 = 0.5\n",
    "p= rho0*10*(500*1000) #pressure at mid mantle\n",
    "TrefP = 1600./2500\n",
    "\n",
    "#A = n0/math.exp(E + p*V/R*T)\n",
    "#math.exp(E + p*V/(R*T))\n",
    "#print(E + p*V)\n",
    "#print(R*T)\n",
    "print(Ep,Ep2, Wp)\n",
    "\n",
    "T = np.linspace(0,1,100)\n",
    "z = np.linspace(0,1,100)\n",
    "\n",
    "#Here, I'm using P_ref = D_ref = 0, i.e. reference depth / pressure is at the surface (at the MOR)\n",
    "\n",
    "Nut0 = [math.exp(  (Ep + Wp*(1-0.0)/(i + T0))) for i in T]\n",
    "Nut = [math.exp(  (Ep + Wp*(1-0.0)/(i + T0)) - (Ep + Wp*(1-0.0)/(TrefP + T0) )) for i in T]\n",
    "Num = [math.exp(  (Ep + Wp*(1-0.5)/(i + T0)) - (Ep + Wp*(1-0.5)/(TrefP + T0) )) for i in T]\n",
    "Nub = [math.exp(  (Ep + Wp*(1-1.0)/(i + T0)) - (Ep + Wp*(1-1.0)/(TrefP + T0) )) for i in T]\n",
    "Nut2 = [math.exp((Ep2 + Wp*(1-0.0)/(i + T0)) - (Ep2 + Wp*(1-0.0)/(TrefP + T0) )) for i in T]\n",
    "\n"
   ]
  },
  {
   "cell_type": "code",
   "execution_count": null,
   "metadata": {
    "collapsed": false
   },
   "outputs": [],
   "source": [
    "max(Nut2)"
   ]
  },
  {
   "cell_type": "code",
   "execution_count": null,
   "metadata": {
    "collapsed": false
   },
   "outputs": [],
   "source": [
    "plt.plot(T, Nut0, label = \"without norm.\")\n",
    "plt.plot(T, Nut, label = \"top\")\n",
    "plt.plot(T, Num, label = \"middle\")\n",
    "plt.plot(T, Nub, label = \"bottom\")\n",
    "plt.plot(T, Nut2, label = \"Ep = 23.03 \")\n",
    "plt.axvline(TrefP )\n",
    "plt.yscale('log')\n",
    "plt.legend()"
   ]
  },
  {
   "cell_type": "markdown",
   "metadata": {},
   "source": [
    "Still need to figure out why changing Ep value in above Figure has no effect."
   ]
  },
  {
   "cell_type": "code",
   "execution_count": null,
   "metadata": {
    "collapsed": false
   },
   "outputs": [],
   "source": [
    "Ep = E*1000/(R*delT)\n",
    "Vp = (rho0*9.81*V*D*1000)/(R*delT)\n",
    "n0 = 1e23"
   ]
  },
  {
   "cell_type": "code",
   "execution_count": null,
   "metadata": {
    "collapsed": false
   },
   "outputs": [],
   "source": []
  },
  {
   "cell_type": "code",
   "execution_count": null,
   "metadata": {
    "collapsed": false
   },
   "outputs": [],
   "source": [
    "#Paramters from Moresi.\n",
    "\n",
    "TC2K = 273.0           # Kelvin <--> degrees C\n",
    "kappa = 1e-6           # Thermal diffusivity m^2/s\n",
    "alpha = 3.0e-5         # Therml expansivity in /K\n",
    "\n",
    "# Rheology (From Karato & Wu, 1993, assuming wet dislocation creep)\n",
    "\n",
    "E0 = 240000                                 # Activation energy (J/mol)\n",
    "mantleDensity = 3300\n",
    "gravAcc = 10\n",
    "V0 = mantleDensity*gravAcc*5.0e-6*1.0 # Activation Volume (m^3/mol) - then scale with approx lithostatic pressure \n",
    "R0 = 8.314                                  # Gas constant"
   ]
  },
  {
   "cell_type": "markdown",
   "metadata": {},
   "source": [
    "##Dimensional scaling\n",
    "\n",
    "The characteristic viscosity $\\eta_0 $ is derived from the Rayleigh number $Ra_0$,assuming “realistic” values of all other parameters and given by\n",
    "\n",
    "$$\\eta_0 = \\frac{\\rho_0 \\cdot g \\cdot \\alpha \\cdot \\triangle T \\cdot D^3}{\\kappa \\cdot Ra_0}$$\n",
    "\n",
    "Nondimensional times are dimensionalized using the thermal diffusion timescale\n",
    "\n",
    "$$t_{diff} = \\frac{D^2}{\\kappa}$$\n",
    "\n",
    "the stress scale $\\triangle \\sigma_1$ is\n",
    "\n",
    "$$ \\triangle \\sigma_1= \\eta_0 \\frac{\\kappa}{D^2}$$\n",
    "\n",
    "An alternative stress scale $\\triangle \\sigma_2$ is\n",
    "\n",
    "$$ \\triangle \\sigma_2= \\rho g D$$\n",
    "\n",
    "the internal heating rate is dimensionalized using the heating scale:\n",
    "\n",
    "$$ \\triangle H = \\frac{\\kappa C p_0 \\triangle T}{D^2}$$"
   ]
  },
  {
   "cell_type": "markdown",
   "metadata": {},
   "source": [
    "##Yielding"
   ]
  },
  {
   "cell_type": "code",
   "execution_count": null,
   "metadata": {
    "collapsed": false
   },
   "outputs": [],
   "source": [
    "print(rho0,g,a,delT,D,k,Ra)"
   ]
  },
  {
   "cell_type": "code",
   "execution_count": 2,
   "metadata": {
    "collapsed": false
   },
   "outputs": [
    {
     "name": "stdout",
     "output_type": "stream",
     "text": [
      "1e+23\n",
      "11973.0367213\n",
      "this is the 1st dimensionless cohesion: 8352.1\n",
      "this is the 2nd dimensionless cohesion: 0.00106994669526\n"
     ]
    }
   ],
   "source": [
    "#Using the above stress scale,\n",
    "Ra = 1e6\n",
    "rho0=3300\n",
    "delT = 2500\n",
    "k = 1e-6\n",
    "D = 2890\n",
    "g = 9.8\n",
    "a = 3e-5\n",
    "eta0 = (rho0*g*a*delT*(D*1000)**3)/(k*Ra)\n",
    "eta0 = 1e23\n",
    "print(eta0)\n",
    "stressscale  = (eta0*k)/((D*1000)**2)\n",
    "stressscale2  =  rho0*g*(D*1000)\n",
    "print(stressscale)\n",
    "cohesion = 10e7 # 100 MPa\n",
    "ndc1 = cohesion/stressscale\n",
    "ndc2 = cohesion/stressscale2\n",
    "print \"this is the 1st dimensionless cohesion: \" + str(ndc1)\n",
    "print \"this is the 2nd dimensionless cohesion: \" + str(ndc2)"
   ]
  },
  {
   "cell_type": "code",
   "execution_count": 29,
   "metadata": {
    "collapsed": false,
    "scrolled": true
   },
   "outputs": [
    {
     "data": {
      "text/plain": [
       "2756193.0000000005"
      ]
     },
     "execution_count": 29,
     "metadata": {},
     "output_type": "execute_result"
    }
   ],
   "source": [
    "#Lithostatic stress at 1000 km\n",
    "\n",
    "typstress = 1e6*3300*10\n",
    "typstress/stressscale"
   ]
  },
  {
   "cell_type": "markdown",
   "metadata": {},
   "source": [
    "The value for the dimensionless cohesion is about 8 times larger than the paper; although the paper does say \"A limitation of all of these models is that the value of yield stress or friction coefficient (see equation (6)) necessary to obtain plate-like behavior is 0.5–1 order of magnitude smaller than that measured in laboratory experiments\"so it ay be that the dimensional yield stress quoted is \"measure\", while the dimensionless one is has been reduced by a given factor. "
   ]
  },
  {
   "cell_type": "markdown",
   "metadata": {
    "collapsed": true
   },
   "source": [
    "From Wong and Solomatov, \"Towards scaling laws for subduction initiation on terrestrial planets: constraints from two-dimensional steady-state convection simulations\".\n",
    "\n",
    "The yield stress can be defined by Byerlee’s law\n",
    "\n",
    "$$ \\tau_y = \\tau_0 + \\mu\\rho g z = \\tau_0 + \\mu P$$\n",
    "\n",
    " Above the yield stress, the deformation follows a plastic flow law defined by a non-linear effective viscosity:\n",
    "\n",
    "$$ \\eta_{eff} = \\frac{\\tau_y}{\\dot e}$$\n",
    "\n",
    "with $\\dot e$ being the second invariant of the strain rate tensor\n",
    "\n",
    "$\\mu$ is dimensionless, but the combination $\\mu P$ also needs to be divided by the stress scale. \n",
    "\n",
    "$$ \\bar P = \\frac{P D^2}{\\eta_1 \\kappa} = \\frac{\\rho_0 g z D^2}{\\eta_1 \\kappa}$$\n",
    "\n",
    "Now we can substitute, $z = \\bar z D$\n",
    "\n",
    "$$  \\bar P = \\frac{\\rho_0 g \\bar z D^3}{\\eta_1 \\kappa} $$\n",
    "\n",
    "The non-dimensional yield stress is as follows:\n",
    "\n",
    "$$ \\bar \\tau_y = \\bar \\tau_0 + \\bar \\tau'_y \\bar z $$\n",
    "\n",
    "where\n",
    "\n",
    "$$ \\bar \\tau_0 =\\frac{d^2}{\\kappa \\eta_1} \\tau_0 $$\n",
    "\n",
    "is the non-dimensional yield stress at the surface and\n",
    "\n",
    "$$\\bar \\tau'_y = \\frac{\\rho g d^3}{\\kappa \\eta_1} \\mu$$\n",
    "\n",
    "is the non-dimensional yield stress gradient\n",
    "\n",
    "\n",
    "Note that the whole process here (following Wong and Solomatov) is quite different than the process for determining the viscosity. There we substituted dimensional variables for non dimensional, $(\\beta = \\bar \\beta \\beta_s)$, and here we simply divide any dimensional quantites by a scaling factor. \n",
    "\n",
    "Moresi and Solamtov (1998) have a different \"non-dimensional yield stress gradient\", however, their term doesn't look correct and isn't dimensionless (as it should be)."
   ]
  },
  {
   "cell_type": "markdown",
   "metadata": {},
   "source": [
    "Commonly, convection simulations will use a dimensionless form where the hydrostatic pressure has beem scaled out of the system. In this case, the pressure scaling is;\n",
    "\n",
    "$$ p= p_0 + (\\eta \\kappa / d^2) p'$$\n",
    "\n",
    "See the notebook \"Rayleigh numbers, for further information\""
   ]
  },
  {
   "cell_type": "markdown",
   "metadata": {},
   "source": [
    "##Rheology with compositional fields"
   ]
  },
  {
   "cell_type": "markdown",
   "metadata": {},
   "source": [
    "The viscosity h is given by an Arrhenius law toaccount for its temperature dependence in combination witha composition‐dependent pre‐factor for considering viscosity differences between continental and oceanic material:\n",
    "\n",
    "$$ \\eta_T(T,C) = \\exp\\left[ \\ln(\\triangle \\eta_c C)\\right] \\cdot \\exp \\left[ \\frac{\\tilde E_A}{T + 1} - \\frac{\\tilde E_A}{2}\\right]$$\n",
    "\n",
    "Where $\\triangle \\eta_C$ and $E_A$ define the ratios $\\eta(T,1)/\\eta(T,0)$, and $\\eta(1,C)/\\eta(0,C)$ respectively...actually, it's $E = \\ln \\left(\\eta(1,C)/\\eta(0,C)\\right)$\n",
    "\n",
    "Note that the second term in the viscosity relationship, implies that the reference temperature is 1.\n",
    "\n",
    "$E_A$ is set to 23.03, which allows for 5 orders of magnitude viscosity variation in the interval $0 ≤ T ≤ 1$. This is probably less than on Earth, but still allows for the formation of a rigid lid on top of the mantle.\n",
    "\n",
    "\n",
    "The Rayleigh number in all cases is $10^6$ (based on a reference viscosity of $\\eta_0= 10^{23} Pa\\cdot s$),the internal heating rate $Q$ is 20.5 ($≈ 5×10^{−12} W\\cdot kg^{−1}$), and the density difference between continental and normal mantle material is about −100 $kg\\cdot m^{−3}$($R = −0.4$). "
   ]
  },
  {
   "cell_type": "markdown",
   "metadata": {},
   "source": [
    "In Yoshida, there is a separate viscosity function used, wherever the compositional field is greater than zero:\n",
    "\n",
    "$$\\eta_{CL}(C_{CL})=\\exp\\left[\\left(\\ln \\eta^{max}_{CL}−\\ln(\\gamma \\eta^{max}_{CL}) \\right) C_{CL} + \\ln(\\gamma \\eta^{max}_{CL})\\right]$$\n",
    "if $C_{CL} \\geq C_{WCM} \\gt 0 $\n",
    "\n",
    "where \n",
    "\n",
    "$\\eta^{max}_{CL}$ is the maximum viscosity of CL, and $\\gamma $ is fixed at $10^{0.5}$.\n",
    "\n",
    "This equation means that when CCL tends to zero $(C_{CL} > 0)$, $\\eta_{CL}$ tends to $\\gamma \\eta^{max}_{CL}$, whereas when $C_{CL}$ is exactly zero (i.e., no tracer particle in FV), the viscosity is determined by Eq.  (6)."
   ]
  },
  {
   "cell_type": "markdown",
   "metadata": {},
   "source": [
    "Also from Yoshida...\n",
    "\n",
    "The CL and the WCM are less buoyant than the reference mantle and are assumed to have the same density contrast between them and the reference mantle, $200 kg \\cdot m^{-3}$ on the basis of the geochemically estimated density of the subcontinental lithosphere ( Poudjom Djomani et al., 2001). The resultant values of $Ra_C$ are given in Table 1. \n",
    "\n",
    "It is not immediately clear whether by 'less buoyant' he means lighter or heavier, but the reference he points to (\"The density structure of subcontinental lithosphere through time\") states:\n",
    "\n",
    "\"we calculate mean densities at 20°C for Primitive Mantle (3.39 Mg m−3) and for SCLM of Archean (3.31±.016 Mg m−3), Proterozoic (3.35±0.02 Mg m−3) and Phanerozoic (3.36±0.02 Mg m−3) age\"\n",
    "\n",
    "And:\n",
    "\n",
    "Proterozoic sections deeper than about 100 km thick also are significantly buoyant. The buoyancy of Archean and Proterozoic SCLM sections, combined with their refractory composition, leads to high viscosities and explains the longevity and stability of old SCLM. Replacement of Archean lithosphere, as beneath the present-day eastern Sino–Korean craton, probably involves mechanical dispersal by rifting, accompanied by the rise of hot, fertile asthenospheric material. Fertile Phanerozoic lithosphere is buoyant when the geotherm is sufficiently high, as in many Cenozoic volcanic provinces. However, as the geothermal gradient relaxes toward a stable conductive profile, Phanerozoic SCLM sections thinner than about 100 km become denser than the asthenosphere, and hence gravitationally unstable. "
   ]
  },
  {
   "cell_type": "code",
   "execution_count": null,
   "metadata": {
    "collapsed": false
   },
   "outputs": [],
   "source": []
  },
  {
   "cell_type": "code",
   "execution_count": null,
   "metadata": {
    "collapsed": true
   },
   "outputs": [],
   "source": []
  }
 ],
 "metadata": {
  "kernelspec": {
   "display_name": "Python 2",
   "language": "python",
   "name": "python2"
  },
  "language_info": {
   "codemirror_mode": {
    "name": "ipython",
    "version": 2
   },
   "file_extension": ".py",
   "mimetype": "text/x-python",
   "name": "python",
   "nbconvert_exporter": "python",
   "pygments_lexer": "ipython2",
   "version": "2.7.10"
  }
 },
 "nbformat": 4,
 "nbformat_minor": 0
}
