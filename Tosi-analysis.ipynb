{
 "cells": [
  {
   "cell_type": "code",
   "execution_count": null,
   "metadata": {
    "collapsed": true
   },
   "outputs": [],
   "source": []
  },
  {
   "cell_type": "code",
   "execution_count": null,
   "metadata": {
    "collapsed": true
   },
   "outputs": [],
   "source": []
  },
  {
   "cell_type": "markdown",
   "metadata": {},
   "source": [
    "##Resolution test\n",
    "\n",
    "For Cases 1 and 2, all participants conducted a series of resolution tests on more and more refined grids to assess the convergence properties of the various codes using a temperature-dependent linear rheology (Case 1) and a temperature and strain rate-dependent nonlinear rheology (Case 2). For each code, all diagnostic quantities calculated on meshes of increasing size, as well as their extrapolated values are reported in Tables S2–S13 of supporting information, while in Figure 5 we show the steady state solution for the RMS velocity from all codes as a function of the number N of grid points or elements employed in one direction (all codes employed the same number of grid points in both horizontal and vertical directions)."
   ]
  },
  {
   "cell_type": "markdown",
   "metadata": {},
   "source": [
    "##Case 5a: Periodic Solutions\n",
    "\n",
    "In Case 5a, the yield stress is sufficiently large ( inline image) to cause the system to reach a stable periodic regime characterized by one single period. Figure 6 illustrates the time series of the mean temperature, RMS velocity, and surface Nusselt number over four complete cycles plotted after the system reached a strictly periodic regime; the figure also shows a phase portrait of the surface Nusselt number as a function of the RMS velocity describing the path toward the stable cycle."
   ]
  },
  {
   "cell_type": "markdown",
   "metadata": {},
   "source": [
    "##Comparison with Fenics results\n",
    "\n",
    "(t, viscdis, Nu0, Nu1, temp_int, rms_vel, rms_surf_vel, max_surf_vel, work))"
   ]
  },
  {
   "cell_type": "code",
   "execution_count": 3,
   "metadata": {
    "collapsed": false
   },
   "outputs": [
    {
     "name": "stdout",
     "output_type": "stream",
     "text": [
      "Populating the interactive namespace from numpy and matplotlib\n"
     ]
    }
   ],
   "source": [
    "%pylab inline\n",
    "import matplotlib.pylab as plt"
   ]
  },
  {
   "cell_type": "code",
   "execution_count": 65,
   "metadata": {
    "collapsed": false
   },
   "outputs": [
    {
     "data": {
      "text/plain": [
       "(2436, 9)"
      ]
     },
     "execution_count": 65,
     "metadata": {},
     "output_type": "execute_result"
    }
   ],
   "source": [
    "fres = np.loadtxt('results_case1.dat')\n",
    "fres2 = np.loadtxt('results_case2.dat')\n",
    "uwres = np.loadtxt('uw_results_case1.dat')\n",
    "uwres2 = np.loadtxt('uw_results_case2.dat')\n",
    "fres.shape"
   ]
  },
  {
   "cell_type": "code",
   "execution_count": 67,
   "metadata": {
    "collapsed": false
   },
   "outputs": [
    {
     "data": {
      "text/plain": [
       "<matplotlib.text.Text at 0x10bc1af10>"
      ]
     },
     "execution_count": 67,
     "metadata": {},
     "output_type": "execute_result"
    },
    {
     "data": {
      "image/png": "[encoded data removed]",
      "text/plain": [
       "<matplotlib.figure.Figure at 0x10ce5ac90>"
      ]
     },
     "metadata": {},
     "output_type": "display_data"
    }
   ],
   "source": [
    "plt.plot(fres[:,0], fres[:,5], c= 'r')\n",
    "plt.plot(uwres[:,0], uwres[:,5], c='b')\n",
    "plt.plot(fres2[:,0], fres2[:,5], c='k')\n",
    "plt.plot(uwres2[:,0], uwres2[:,5], c='g')\n",
    "plt.title('RMS vel vs. time')"
   ]
  },
  {
   "cell_type": "code",
   "execution_count": 73,
   "metadata": {
    "collapsed": false
   },
   "outputs": [
    {
     "data": {
      "text/plain": [
       "[<matplotlib.lines.Line2D at 0x10e039dd0>]"
      ]
     },
     "execution_count": 73,
     "metadata": {},
     "output_type": "execute_result"
    },
    {
     "data": {
      "image/png": "[encoded data removed]",
      "text/plain": [
       "<matplotlib.figure.Figure at 0x10df9cd90>"
      ]
     },
     "metadata": {},
     "output_type": "display_data"
    }
   ],
   "source": [
    "RA= 1e2        # Rayleigh number\n",
    "plt.plot(uwres2[:,0], uwres2[:,3]/RA, c='b')\n",
    "plt.plot(uwres2[:,0], uwres2[:,8], c='b')"
   ]
  },
  {
   "cell_type": "markdown",
   "metadata": {},
   "source": [
    "##Notes\n",
    "\n",
    "The differences between top and bottom Nusselt numbers obtained with YACC range from 􏰃3% for Case 1 to 􏰃0:5% for Case 4 and are in line with those obtained with the four finite element codes, none of which predicts the two quantities to perfectly match. This dis- crepancy could be indicative of a slight imbalance in the energy conservation (note that for the above codes, $Nu_{top}$ is systematically higher than $Nu_{bot}$). "
   ]
  },
  {
   "cell_type": "code",
   "execution_count": 8,
   "metadata": {
    "collapsed": true
   },
   "outputs": [],
   "source": [
    "np.loadtxt?"
   ]
  },
  {
   "cell_type": "code",
   "execution_count": null,
   "metadata": {
    "collapsed": true
   },
   "outputs": [],
   "source": []
  }
 ],
 "metadata": {
  "kernelspec": {
   "display_name": "Python 2",
   "language": "python",
   "name": "python2"
  },
  "language_info": {
   "codemirror_mode": {
    "name": "ipython",
    "version": 2
   },
   "file_extension": ".py",
   "mimetype": "text/x-python",
   "name": "python",
   "nbconvert_exporter": "python",
   "pygments_lexer": "ipython2",
   "version": "2.7.10"
  }
 },
 "nbformat": 4,
 "nbformat_minor": 0
}
